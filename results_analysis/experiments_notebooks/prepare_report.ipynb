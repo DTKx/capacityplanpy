{
 "metadata": {
  "language_info": {
   "codemirror_mode": {
    "name": "ipython",
    "version": 3
   },
   "file_extension": ".py",
   "mimetype": "text/x-python",
   "name": "python",
   "nbconvert_exporter": "python",
   "pygments_lexer": "ipython3",
   "version": "3.8.8-final"
  },
  "orig_nbformat": 2,
  "kernelspec": {
   "name": "python3",
   "display_name": "Python 3",
   "language": "python"
  }
 },
 "nbformat": 4,
 "nbformat_minor": 2,
 "cells": [
  {
   "source": [
    "# Reproduction of Article\n",
    "1. Steps:\n",
    "    1. Import Data\n",
    "    1. Initial Data Exploration\n",
    "        1. Data Summary Table\n",
    "    1. Comparison with article Data"
   ],
   "cell_type": "markdown",
   "metadata": {}
  },
  {
   "cell_type": "code",
   "execution_count": 1,
   "metadata": {},
   "outputs": [],
   "source": [
    "import pickle\n",
    "import numpy as np\n",
    "import pandas as pd\n",
    "import matplotlib.pyplot as plt\n",
    "import copy\n",
    "import codecs\n",
    "# root_path_report=\"C:\\\\Users\\\\Debora\\\\Documents\\\\01_UFU_local\\\\01_comp_evolutiva\\\\05_trabalho3\\\\03_relatorio\\\\springer_violacoes_backlog\\\\tables\\\\\"\n",
    "# root_path_beamer=\"C:\\\\Users\\\\Debora\\\\Documents\\\\01_UFU_local\\\\01_comp_evolutiva\\\\05_trabalho3\\\\04_apresentacao\\\\focus-beamertheme-master\\\\focus-beamertheme-master\\\\tables\\\\\"\n",
    "# root_path=\"C:\\\\Users\\\\Debora\\\\Documents\\\\01_UFU_local\\\\01_comp_evolutiva\\\\05_trabalho3\\\\01_dados\\\\02_analysis\\\\\"\n",
    "# root_path_data=\"C:\\\\Users\\\\Debora\\\\Documents\\\\01_UFU_local\\\\01_comp_evolutiva\\\\05_trabalho3\\\\01_dados\\\\02_analysis\\\\25-28\\\\\"\n",
    "\n",
    "ID_DATA_EXP=\"25-28\"#Set here the experiment to parse\n",
    "\n",
    "root_path_report= os.path.abspath(os.path.join(\"..\",\"..\",\"report/springer/tables\"))\n",
    "if os.path.exists(root_path_report) == False:\n",
    "    raise Exception(f\"Could not find the path {root_path_report}, please modify the path.\")\n",
    "\n",
    "root_path_report_figures= os.path.abspath(os.path.join(\"..\",\"..\",\"report/springer/figures\"))\n",
    "if os.path.exists(root_path_report_figures) == False:\n",
    "    raise Exception(f\"Could not find the path {root_path_report_figures}, please modify the path.\")\n",
    "\n",
    "root_path_beamer= os.path.abspath(os.path.join(\"..\",\"..\",\"report/springer/tables\"))\n",
    "if os.path.exists(root_path_beamer) == False:\n",
    "    raise Exception(f\"Could not find the path {root_path_beamer}, please modify the path.\")\n",
    "\n",
    "root_path_data = os.path.abspath(os.path.join(\"..\",\"data\",ID_DATA_EXP))\n",
    "if os.path.exists(root_path_data) == False:\n",
    "    raise Exception(f\"Could not find the path {root_path_data}, please modify the path.\")\n",
    "root_path_literature = os.path.abspath(os.path.join(\"..\",\"..\",\"data/literature\"))\n",
    "if os.path.exists(root_path_literature) == False:\n",
    "    raise Exception(f\"Could not find the path {root_path_literature}, please modify the path.\")\n",
    "\n",
    "pd.set_option('display.max_rows', 500)\n",
    "pd.set_option('display.max_columns', 500)\n",
    "pd.set_option('display.max_colwidth', 130)\n",
    "pd.set_option('display.width', 2000)"
   ]
  },
  {
   "source": [
    "## Parse Data"
   ],
   "cell_type": "markdown",
   "metadata": {}
  },
  {
   "cell_type": "code",
   "execution_count": 2,
   "metadata": {},
   "outputs": [],
   "source": [
    "import pickle\n",
    "import sys\n",
    "# insert at 1, 0 is the script path (or '' in REPL)\n",
    "# sys.path.insert(1,'C:\\\\Users\\\\Debora\\\\Documents\\\\01_UFU_local\\\\01_comp_evolutiva\\\\05_trabalho3\\\\02_implementacao\\\\')\n",
    "# from population import Population\n",
    "def export_obj(obj, path):\n",
    "    with open(path, \"wb\") as output:  # Overwrites any existing file.\n",
    "        pickle.dump(obj, output, pickle.HIGHEST_PROTOCOL)\n",
    "\n",
    "def load_obj(path):\n",
    "    with open(path, \"rb\") as input:\n",
    "        obj = pickle.load(input)\n",
    "    return obj"
   ]
  },
  {
   "source": [
    "# # Export table to txt for latex\n",
    "# root_path_report = \"C:\\\\Users\\\\debor\\\\Documents\\\\01_UFU_local\\\\01_comp_evolutiva\\\\01_trabalho_1\\\\03_relatorio\\\\template-latex\\\\tables\\\\\"\n",
    "# file_name = \"representacao.txt\"\n",
    "# path = root_path_report + file_name\n",
    "# with codecs.open(path, 'w', 'utf-8') as outfile:\n",
    "#     outfile.write(tabela_df.to_latex(index=False))\n",
    "\n",
    "# Open pickle Exec\n",
    "file_name='v_0_exec.pkl'\n",
    "ds_exec = load_obj(os.path.join(root_path_data,file_name))\n",
    "\n",
    "# Open pickle dict class object pop\n",
    "file_name='v_0_id.pkl'\n",
    "ds_ind = load_obj(os.path.join(root_path_data,file_name))\n",
    "\n",
    "# Unpack Data Execution\n",
    "headers=[\"Execution\",\"Variant\",\"Hipervolume\",\"Pareto Front\"]\n",
    "df_exec=pd.DataFrame(ds_exec,columns=headers)\n",
    "\n",
    "# Unpack Data per Ind\n",
    "headers=[\"Execution\",\"Variation\",\"Solution\",\"Total throughput [kg]\", \"Max total backlog [kg]\", \"Mean total backlog [kg]\",\"std dev total backlog [kg]\", \"Median total backlog [kg]\",\"Min total backlog [kg]\", \"P(total backlog ≤ 0 kg)\",\"Max total inventory deficit [kg]\", \"Mean total inventory deficit [kg]\",\"std dev inventory deficit [kg]\", \"Median total inventory deficit [kg]\", \"Min total inventory deficit [kg]\",\"Total Deficit [kg]\",\"Batches [un]\",\"Product label\",\"Start of USP [date]\",\"End of DSP [date]\"]\n",
    "\n",
    "df_ind=pd.DataFrame(ds_ind,columns=headers)\n",
    "df_ind"
   ],
   "cell_type": "code",
   "metadata": {},
   "execution_count": 3,
   "outputs": [
    {
     "output_type": "execute_result",
     "data": {
      "text/plain": [
       "   Execution                                                                                      Variation Solution  Total throughput [kg]  Max total backlog [kg]  Mean total backlog [kg]  std dev total backlog [kg]  Median total backlog [kg]  Min total backlog [kg]  P(total backlog ≤ 0 kg)  Max total inventory deficit [kg]  Mean total inventory deficit [kg]  std dev inventory deficit [kg]  Median total inventory deficit [kg]  Min total inventory deficit [kg]  Total Deficit [kg]                       Batches [un]                Product label                                                                                           Start of USP [date]                                                                                             End of DSP [date]\n",
       "0          0  front_nsga,tour_vio,rein_vio,vio_back,calc_montecarlo,100,1000,2,0.5,(0.04, 0.61, 0.77, 0.47)        X                  579.1               11.510280                 0.954276                    1.611787                        0.0                     0.0                    0.514                        707.568993                         522.932321                       55.176101                           522.764170                        363.563667          522.764170  [16, 9, 32, 3, 16, 13, 16, 2, 21]  [3, 2, 0, 1, 3, 2, 0, 1, 3]  [2016-12-01, 2017-04-14, 2017-07-02, 2018-03-02, 2018-04-11, 2018-08-23, 2018-12-08, 2019-04-18, 2019-05-17]  [2017-05-11, 2017-07-31, 2018-03-28, 2018-05-10, 2018-09-19, 2019-01-06, 2019-05-14, 2019-06-15, 2019-11-29]\n",
       "1          0  front_nsga,tour_vio,rein_vio,vio_back,calc_montecarlo,100,1000,2,0.5,(0.04, 0.61, 0.77, 0.47)        Y                  594.2               10.758521                 0.862772                    1.538422                        0.0                     0.0                    0.550                        785.014519                         541.405629                       64.565966                           538.528924                        353.727384          538.528924     [16, 9, 31, 4, 14, 13, 15, 28]     [3, 2, 0, 1, 3, 2, 0, 3]              [2016-12-01, 2017-04-14, 2017-07-02, 2018-02-23, 2018-04-15, 2018-08-13, 2018-11-28, 2019-03-29]              [2017-05-11, 2017-07-31, 2018-03-21, 2018-05-14, 2018-09-09, 2018-12-27, 2019-04-27, 2019-11-29]"
      ],
      "text/html": "<div>\n<style scoped>\n    .dataframe tbody tr th:only-of-type {\n        vertical-align: middle;\n    }\n\n    .dataframe tbody tr th {\n        vertical-align: top;\n    }\n\n    .dataframe thead th {\n        text-align: right;\n    }\n</style>\n<table border=\"1\" class=\"dataframe\">\n  <thead>\n    <tr style=\"text-align: right;\">\n      <th></th>\n      <th>Execution</th>\n      <th>Variation</th>\n      <th>Solution</th>\n      <th>Total throughput [kg]</th>\n      <th>Max total backlog [kg]</th>\n      <th>Mean total backlog [kg]</th>\n      <th>std dev total backlog [kg]</th>\n      <th>Median total backlog [kg]</th>\n      <th>Min total backlog [kg]</th>\n      <th>P(total backlog ≤ 0 kg)</th>\n      <th>Max total inventory deficit [kg]</th>\n      <th>Mean total inventory deficit [kg]</th>\n      <th>std dev inventory deficit [kg]</th>\n      <th>Median total inventory deficit [kg]</th>\n      <th>Min total inventory deficit [kg]</th>\n      <th>Total Deficit [kg]</th>\n      <th>Batches [un]</th>\n      <th>Product label</th>\n      <th>Start of USP [date]</th>\n      <th>End of DSP [date]</th>\n    </tr>\n  </thead>\n  <tbody>\n    <tr>\n      <th>0</th>\n      <td>0</td>\n      <td>front_nsga,tour_vio,rein_vio,vio_back,calc_montecarlo,100,1000,2,0.5,(0.04, 0.61, 0.77, 0.47)</td>\n      <td>X</td>\n      <td>579.1</td>\n      <td>11.510280</td>\n      <td>0.954276</td>\n      <td>1.611787</td>\n      <td>0.0</td>\n      <td>0.0</td>\n      <td>0.514</td>\n      <td>707.568993</td>\n      <td>522.932321</td>\n      <td>55.176101</td>\n      <td>522.764170</td>\n      <td>363.563667</td>\n      <td>522.764170</td>\n      <td>[16, 9, 32, 3, 16, 13, 16, 2, 21]</td>\n      <td>[3, 2, 0, 1, 3, 2, 0, 1, 3]</td>\n      <td>[2016-12-01, 2017-04-14, 2017-07-02, 2018-03-02, 2018-04-11, 2018-08-23, 2018-12-08, 2019-04-18, 2019-05-17]</td>\n      <td>[2017-05-11, 2017-07-31, 2018-03-28, 2018-05-10, 2018-09-19, 2019-01-06, 2019-05-14, 2019-06-15, 2019-11-29]</td>\n    </tr>\n    <tr>\n      <th>1</th>\n      <td>0</td>\n      <td>front_nsga,tour_vio,rein_vio,vio_back,calc_montecarlo,100,1000,2,0.5,(0.04, 0.61, 0.77, 0.47)</td>\n      <td>Y</td>\n      <td>594.2</td>\n      <td>10.758521</td>\n      <td>0.862772</td>\n      <td>1.538422</td>\n      <td>0.0</td>\n      <td>0.0</td>\n      <td>0.550</td>\n      <td>785.014519</td>\n      <td>541.405629</td>\n      <td>64.565966</td>\n      <td>538.528924</td>\n      <td>353.727384</td>\n      <td>538.528924</td>\n      <td>[16, 9, 31, 4, 14, 13, 15, 28]</td>\n      <td>[3, 2, 0, 1, 3, 2, 0, 3]</td>\n      <td>[2016-12-01, 2017-04-14, 2017-07-02, 2018-02-23, 2018-04-15, 2018-08-13, 2018-11-28, 2019-03-29]</td>\n      <td>[2017-05-11, 2017-07-31, 2018-03-21, 2018-05-14, 2018-09-09, 2018-12-27, 2019-04-27, 2019-11-29]</td>\n    </tr>\n  </tbody>\n</table>\n</div>"
     },
     "metadata": {},
     "execution_count": 3
    }
   ]
  },
  {
   "source": [
    "## Creates a copy of the literature data and appends the current data solutions for comparison"
   ],
   "cell_type": "markdown",
   "metadata": {}
  },
  {
   "cell_type": "code",
   "execution_count": 4,
   "metadata": {},
   "outputs": [],
   "source": [
    "# Appends to external CSV File\n",
    "\n",
    "# Exports as csv\n",
    "headers=[\"Execution\",\"Variant\",\"Hipervolume\",\"Pareto Front\"]\n",
    "# Overwrites\n",
    "df_exec.to_csv(os.path.join(root_path_data,'df_exec.csv'),header=headers)\n",
    "# # Appends\n",
    "# df_exec.to_csv(path,header=False,mode=\"a\")\n",
    "\n",
    "# Creates a csv with article X and Y results in the folder\n",
    "import shutil\n",
    "\n",
    "path_t=os.path.join(root_path_data,'df_ind.csv')\n",
    "shutil.copyfile(os.path.join(root_path_literature,'df_ind_base.csv'), path_t)\n",
    "\n",
    "# Exports as csv\n",
    "# # Overwrites\n",
    "# df_ind.to_csv(path,header=headers)\n",
    "# Appends Current data to the new copy with the literature data\n",
    "df_ind.to_csv(path_t,header=False,mode=\"a\",index=False)"
   ]
  },
  {
   "source": [
    "### Import processed dataset with Article Data"
   ],
   "cell_type": "markdown",
   "metadata": {}
  },
  {
   "cell_type": "code",
   "execution_count": 5,
   "metadata": {},
   "outputs": [],
   "source": [
    "# Import as csv\n",
    "df_fexec=pd.read_csv(os.path.join(root_path_data,'df_exec.csv'),index_col=0)\n",
    "df_find=pd.read_csv(os.path.join(root_path_data,'df_ind.csv'),index_col=0)"
   ]
  },
  {
   "source": [
    "## Initial Data Exploration"
   ],
   "cell_type": "markdown",
   "metadata": {}
  },
  {
   "cell_type": "code",
   "execution_count": 6,
   "metadata": {},
   "outputs": [
    {
     "output_type": "execute_result",
     "data": {
      "text/plain": [
       "   Execution                                                                                        Variant  Hipervolume                                                 Pareto Front\n",
       "0          0  front_nsga,tour_vio,rein_vio,vio_back,calc_montecarlo,100,1000,2,0.5,(0.04, 0.61, 0.77, 0.47)     0.978836  [[579.1        522.76417001]\\n [594.2        538.52892356]]"
      ],
      "text/html": "<div>\n<style scoped>\n    .dataframe tbody tr th:only-of-type {\n        vertical-align: middle;\n    }\n\n    .dataframe tbody tr th {\n        vertical-align: top;\n    }\n\n    .dataframe thead th {\n        text-align: right;\n    }\n</style>\n<table border=\"1\" class=\"dataframe\">\n  <thead>\n    <tr style=\"text-align: right;\">\n      <th></th>\n      <th>Execution</th>\n      <th>Variant</th>\n      <th>Hipervolume</th>\n      <th>Pareto Front</th>\n    </tr>\n  </thead>\n  <tbody>\n    <tr>\n      <th>0</th>\n      <td>0</td>\n      <td>front_nsga,tour_vio,rein_vio,vio_back,calc_montecarlo,100,1000,2,0.5,(0.04, 0.61, 0.77, 0.47)</td>\n      <td>0.978836</td>\n      <td>[[579.1        522.76417001]\\n [594.2        538.52892356]]</td>\n    </tr>\n  </tbody>\n</table>\n</div>"
     },
     "metadata": {},
     "execution_count": 6
    }
   ],
   "source": [
    "df_fexec.head()"
   ]
  },
  {
   "cell_type": "code",
   "execution_count": 7,
   "metadata": {},
   "outputs": [
    {
     "output_type": "execute_result",
     "data": {
      "text/plain": [
       "       Execution  Hipervolume\n",
       "count        1.0     1.000000\n",
       "mean         0.0     0.978836\n",
       "std          NaN          NaN\n",
       "min          0.0     0.978836\n",
       "25%          0.0     0.978836\n",
       "50%          0.0     0.978836\n",
       "75%          0.0     0.978836\n",
       "max          0.0     0.978836"
      ],
      "text/html": "<div>\n<style scoped>\n    .dataframe tbody tr th:only-of-type {\n        vertical-align: middle;\n    }\n\n    .dataframe tbody tr th {\n        vertical-align: top;\n    }\n\n    .dataframe thead th {\n        text-align: right;\n    }\n</style>\n<table border=\"1\" class=\"dataframe\">\n  <thead>\n    <tr style=\"text-align: right;\">\n      <th></th>\n      <th>Execution</th>\n      <th>Hipervolume</th>\n    </tr>\n  </thead>\n  <tbody>\n    <tr>\n      <th>count</th>\n      <td>1.0</td>\n      <td>1.000000</td>\n    </tr>\n    <tr>\n      <th>mean</th>\n      <td>0.0</td>\n      <td>0.978836</td>\n    </tr>\n    <tr>\n      <th>std</th>\n      <td>NaN</td>\n      <td>NaN</td>\n    </tr>\n    <tr>\n      <th>min</th>\n      <td>0.0</td>\n      <td>0.978836</td>\n    </tr>\n    <tr>\n      <th>25%</th>\n      <td>0.0</td>\n      <td>0.978836</td>\n    </tr>\n    <tr>\n      <th>50%</th>\n      <td>0.0</td>\n      <td>0.978836</td>\n    </tr>\n    <tr>\n      <th>75%</th>\n      <td>0.0</td>\n      <td>0.978836</td>\n    </tr>\n    <tr>\n      <th>max</th>\n      <td>0.0</td>\n      <td>0.978836</td>\n    </tr>\n  </tbody>\n</table>\n</div>"
     },
     "metadata": {},
     "execution_count": 7
    }
   ],
   "source": [
    "df_fexec.describe()"
   ]
  },
  {
   "cell_type": "code",
   "execution_count": 8,
   "metadata": {},
   "outputs": [
    {
     "output_type": "execute_result",
     "data": {
      "text/plain": [
       "                                                                                               Variation Solution  Total throughput [kg]  Max total backlog [kg]  Mean total backlog [kg]  std dev total backlog [kg]  Median total backlog [kg]  Min total backlog [kg]  P(total backlog ≤ 0 kg)  Max total inventory deficit [kg]  Mean total inventory deficit [kg]  std dev inventory deficit [kg]  Median total inventory deficit [kg]  Min total inventory deficit [kg]  Total Deficit [kg]                      Batches [un]              Product label                                                                                                       Start of USP [date]                                                                                                         End of DSP [date]\n",
       "Execution                                                                                                                                                                                                                                                                                                                                                                                                                                                                                                                                                                                                                                                                                                                                                                                                         \n",
       "Article                                                                                          Article        X                  539.3                8.200000                 0.200000                    0.600000                        0.0                     0.0                    0.820                        683.400000                         432.600000                       58.600000                           424.400000                        259.400000                 NaN  [15 10 29 3 15 11 15 6 2 2 2 10]  [3 2 0 1 3 2 1 3 2 1 2 3]                                                                                                                       NaN                                                                                                                       NaN\n",
       "Article                                                                                          Article        Y                  601.5               16.000000                 7.100000                    4.300000                        0.0                     0.0                    0.500                        786.000000                         558.600000                       59.000000                           551.700000                        355.600000                 NaN           [12 13 24 18 5 19 9 30]          [3 2 0 3 1 0 2 3]                                                                                                                       NaN                                                                                                                       NaN\n",
       "0          front_nsga,tour_vio,rein_vio,vio_back,calc_montecarlo,100,1000,2,0.5,(0.04, 0.61, 0.77, 0.47)        X                  579.1               11.510280                 0.954276                    1.611787                        0.0                     0.0                    0.514                        707.568993                         522.932321                       55.176101                           522.764170                        363.563667          522.764170      [16  9 32  3 16 13 16  2 21]        [3 2 0 1 3 2 0 1 3]  ['2016-12-01' '2017-04-14' '2017-07-02' '2018-03-02' '2018-04-11'\\n '2018-08-23' '2018-12-08' '2019-04-18' '2019-05-17']  ['2017-05-11' '2017-07-31' '2018-03-28' '2018-05-10' '2018-09-19'\\n '2019-01-06' '2019-05-14' '2019-06-15' '2019-11-29']\n",
       "0          front_nsga,tour_vio,rein_vio,vio_back,calc_montecarlo,100,1000,2,0.5,(0.04, 0.61, 0.77, 0.47)        Y                  594.2               10.758521                 0.862772                    1.538422                        0.0                     0.0                    0.550                        785.014519                         541.405629                       64.565966                           538.528924                        353.727384          538.528924         [16  9 31  4 14 13 15 28]          [3 2 0 1 3 2 0 3]               ['2016-12-01' '2017-04-14' '2017-07-02' '2018-02-23' '2018-04-15'\\n '2018-08-13' '2018-11-28' '2019-03-29']               ['2017-05-11' '2017-07-31' '2018-03-21' '2018-05-14' '2018-09-09'\\n '2018-12-27' '2019-04-27' '2019-11-29']"
      ],
      "text/html": "<div>\n<style scoped>\n    .dataframe tbody tr th:only-of-type {\n        vertical-align: middle;\n    }\n\n    .dataframe tbody tr th {\n        vertical-align: top;\n    }\n\n    .dataframe thead th {\n        text-align: right;\n    }\n</style>\n<table border=\"1\" class=\"dataframe\">\n  <thead>\n    <tr style=\"text-align: right;\">\n      <th></th>\n      <th>Variation</th>\n      <th>Solution</th>\n      <th>Total throughput [kg]</th>\n      <th>Max total backlog [kg]</th>\n      <th>Mean total backlog [kg]</th>\n      <th>std dev total backlog [kg]</th>\n      <th>Median total backlog [kg]</th>\n      <th>Min total backlog [kg]</th>\n      <th>P(total backlog ≤ 0 kg)</th>\n      <th>Max total inventory deficit [kg]</th>\n      <th>Mean total inventory deficit [kg]</th>\n      <th>std dev inventory deficit [kg]</th>\n      <th>Median total inventory deficit [kg]</th>\n      <th>Min total inventory deficit [kg]</th>\n      <th>Total Deficit [kg]</th>\n      <th>Batches [un]</th>\n      <th>Product label</th>\n      <th>Start of USP [date]</th>\n      <th>End of DSP [date]</th>\n    </tr>\n    <tr>\n      <th>Execution</th>\n      <th></th>\n      <th></th>\n      <th></th>\n      <th></th>\n      <th></th>\n      <th></th>\n      <th></th>\n      <th></th>\n      <th></th>\n      <th></th>\n      <th></th>\n      <th></th>\n      <th></th>\n      <th></th>\n      <th></th>\n      <th></th>\n      <th></th>\n      <th></th>\n      <th></th>\n    </tr>\n  </thead>\n  <tbody>\n    <tr>\n      <th>Article</th>\n      <td>Article</td>\n      <td>X</td>\n      <td>539.3</td>\n      <td>8.200000</td>\n      <td>0.200000</td>\n      <td>0.600000</td>\n      <td>0.0</td>\n      <td>0.0</td>\n      <td>0.820</td>\n      <td>683.400000</td>\n      <td>432.600000</td>\n      <td>58.600000</td>\n      <td>424.400000</td>\n      <td>259.400000</td>\n      <td>NaN</td>\n      <td>[15 10 29 3 15 11 15 6 2 2 2 10]</td>\n      <td>[3 2 0 1 3 2 1 3 2 1 2 3]</td>\n      <td>NaN</td>\n      <td>NaN</td>\n    </tr>\n    <tr>\n      <th>Article</th>\n      <td>Article</td>\n      <td>Y</td>\n      <td>601.5</td>\n      <td>16.000000</td>\n      <td>7.100000</td>\n      <td>4.300000</td>\n      <td>0.0</td>\n      <td>0.0</td>\n      <td>0.500</td>\n      <td>786.000000</td>\n      <td>558.600000</td>\n      <td>59.000000</td>\n      <td>551.700000</td>\n      <td>355.600000</td>\n      <td>NaN</td>\n      <td>[12 13 24 18 5 19 9 30]</td>\n      <td>[3 2 0 3 1 0 2 3]</td>\n      <td>NaN</td>\n      <td>NaN</td>\n    </tr>\n    <tr>\n      <th>0</th>\n      <td>front_nsga,tour_vio,rein_vio,vio_back,calc_montecarlo,100,1000,2,0.5,(0.04, 0.61, 0.77, 0.47)</td>\n      <td>X</td>\n      <td>579.1</td>\n      <td>11.510280</td>\n      <td>0.954276</td>\n      <td>1.611787</td>\n      <td>0.0</td>\n      <td>0.0</td>\n      <td>0.514</td>\n      <td>707.568993</td>\n      <td>522.932321</td>\n      <td>55.176101</td>\n      <td>522.764170</td>\n      <td>363.563667</td>\n      <td>522.764170</td>\n      <td>[16  9 32  3 16 13 16  2 21]</td>\n      <td>[3 2 0 1 3 2 0 1 3]</td>\n      <td>['2016-12-01' '2017-04-14' '2017-07-02' '2018-03-02' '2018-04-11'\\n '2018-08-23' '2018-12-08' '2019-04-18' '2019-05-17']</td>\n      <td>['2017-05-11' '2017-07-31' '2018-03-28' '2018-05-10' '2018-09-19'\\n '2019-01-06' '2019-05-14' '2019-06-15' '2019-11-29']</td>\n    </tr>\n    <tr>\n      <th>0</th>\n      <td>front_nsga,tour_vio,rein_vio,vio_back,calc_montecarlo,100,1000,2,0.5,(0.04, 0.61, 0.77, 0.47)</td>\n      <td>Y</td>\n      <td>594.2</td>\n      <td>10.758521</td>\n      <td>0.862772</td>\n      <td>1.538422</td>\n      <td>0.0</td>\n      <td>0.0</td>\n      <td>0.550</td>\n      <td>785.014519</td>\n      <td>541.405629</td>\n      <td>64.565966</td>\n      <td>538.528924</td>\n      <td>353.727384</td>\n      <td>538.528924</td>\n      <td>[16  9 31  4 14 13 15 28]</td>\n      <td>[3 2 0 1 3 2 0 3]</td>\n      <td>['2016-12-01' '2017-04-14' '2017-07-02' '2018-02-23' '2018-04-15'\\n '2018-08-13' '2018-11-28' '2019-03-29']</td>\n      <td>['2017-05-11' '2017-07-31' '2018-03-21' '2018-05-14' '2018-09-09'\\n '2018-12-27' '2019-04-27' '2019-11-29']</td>\n    </tr>\n  </tbody>\n</table>\n</div>"
     },
     "metadata": {},
     "execution_count": 8
    }
   ],
   "source": [
    "df_find.head()"
   ]
  },
  {
   "cell_type": "code",
   "execution_count": 9,
   "metadata": {},
   "outputs": [
    {
     "output_type": "execute_result",
     "data": {
      "text/plain": [
       "Index(['Variation', 'Solution', 'Total throughput [kg]', 'Max total backlog [kg]', 'Mean total backlog [kg]', 'std dev total backlog [kg]', 'Median total backlog [kg]', 'Min total backlog [kg]', 'P(total backlog ≤ 0 kg)', 'Max total inventory deficit [kg]', 'Mean total inventory deficit [kg]', 'std dev inventory deficit [kg]', 'Median total inventory deficit [kg]', 'Min total inventory deficit [kg]', 'Total Deficit [kg]', 'Batches [un]', 'Product label', 'Start of USP [date]', 'End of DSP [date]'], dtype='object')"
      ]
     },
     "metadata": {},
     "execution_count": 9
    }
   ],
   "source": [
    "df_find.columns"
   ]
  },
  {
   "cell_type": "code",
   "execution_count": 10,
   "metadata": {},
   "outputs": [],
   "source": [
    "# table6=df_find.pivot(index=['Variation', 'Solution'])"
   ]
  },
  {
   "cell_type": "code",
   "execution_count": 11,
   "metadata": {},
   "outputs": [
    {
     "output_type": "execute_result",
     "data": {
      "text/plain": [
       "                                                                                                        Max total backlog [kg]  Max total inventory deficit [kg]  Mean total backlog [kg]  Mean total inventory deficit [kg]  Median total backlog [kg]  Median total inventory deficit [kg]  Min total backlog [kg]  Min total inventory deficit [kg]  P(total backlog ≤ 0 kg)  Total Deficit [kg]  Total throughput [kg]  std dev inventory deficit [kg]  std dev total backlog [kg]\n",
       "Variation                                                                                     Solution                                                                                                                                                                                                                                                                                                                                                                                \n",
       "Article                                                                                       X                       8.200000                        683.400000                 0.200000                         432.600000                        0.0                           424.400000                     0.0                        259.400000                    0.820                 NaN                  539.3                       58.600000                    0.600000\n",
       "                                                                                              Y                      16.000000                        786.000000                 7.100000                         558.600000                        0.0                           551.700000                     0.0                        355.600000                    0.500                 NaN                  601.5                       59.000000                    4.300000\n",
       "front_nsga,tour_vio,rein_vio,vio_back,calc_montecarlo,100,1000,2,0.5,(0.04, 0.61, 0.77, 0.47) X                      11.510280                        707.568993                 0.954276                         522.932321                        0.0                           522.764170                     0.0                        363.563667                    0.514          522.764170                  579.1                       55.176101                    1.611787\n",
       "                                                                                              Y                      10.758521                        785.014519                 0.862772                         541.405629                        0.0                           538.528924                     0.0                        353.727384                    0.550          538.528924                  594.2                       64.565966                    1.538422"
      ],
      "text/html": "<div>\n<style scoped>\n    .dataframe tbody tr th:only-of-type {\n        vertical-align: middle;\n    }\n\n    .dataframe tbody tr th {\n        vertical-align: top;\n    }\n\n    .dataframe thead th {\n        text-align: right;\n    }\n</style>\n<table border=\"1\" class=\"dataframe\">\n  <thead>\n    <tr style=\"text-align: right;\">\n      <th></th>\n      <th></th>\n      <th>Max total backlog [kg]</th>\n      <th>Max total inventory deficit [kg]</th>\n      <th>Mean total backlog [kg]</th>\n      <th>Mean total inventory deficit [kg]</th>\n      <th>Median total backlog [kg]</th>\n      <th>Median total inventory deficit [kg]</th>\n      <th>Min total backlog [kg]</th>\n      <th>Min total inventory deficit [kg]</th>\n      <th>P(total backlog ≤ 0 kg)</th>\n      <th>Total Deficit [kg]</th>\n      <th>Total throughput [kg]</th>\n      <th>std dev inventory deficit [kg]</th>\n      <th>std dev total backlog [kg]</th>\n    </tr>\n    <tr>\n      <th>Variation</th>\n      <th>Solution</th>\n      <th></th>\n      <th></th>\n      <th></th>\n      <th></th>\n      <th></th>\n      <th></th>\n      <th></th>\n      <th></th>\n      <th></th>\n      <th></th>\n      <th></th>\n      <th></th>\n      <th></th>\n    </tr>\n  </thead>\n  <tbody>\n    <tr>\n      <th rowspan=\"2\" valign=\"top\">Article</th>\n      <th>X</th>\n      <td>8.200000</td>\n      <td>683.400000</td>\n      <td>0.200000</td>\n      <td>432.600000</td>\n      <td>0.0</td>\n      <td>424.400000</td>\n      <td>0.0</td>\n      <td>259.400000</td>\n      <td>0.820</td>\n      <td>NaN</td>\n      <td>539.3</td>\n      <td>58.600000</td>\n      <td>0.600000</td>\n    </tr>\n    <tr>\n      <th>Y</th>\n      <td>16.000000</td>\n      <td>786.000000</td>\n      <td>7.100000</td>\n      <td>558.600000</td>\n      <td>0.0</td>\n      <td>551.700000</td>\n      <td>0.0</td>\n      <td>355.600000</td>\n      <td>0.500</td>\n      <td>NaN</td>\n      <td>601.5</td>\n      <td>59.000000</td>\n      <td>4.300000</td>\n    </tr>\n    <tr>\n      <th rowspan=\"2\" valign=\"top\">front_nsga,tour_vio,rein_vio,vio_back,calc_montecarlo,100,1000,2,0.5,(0.04, 0.61, 0.77, 0.47)</th>\n      <th>X</th>\n      <td>11.510280</td>\n      <td>707.568993</td>\n      <td>0.954276</td>\n      <td>522.932321</td>\n      <td>0.0</td>\n      <td>522.764170</td>\n      <td>0.0</td>\n      <td>363.563667</td>\n      <td>0.514</td>\n      <td>522.764170</td>\n      <td>579.1</td>\n      <td>55.176101</td>\n      <td>1.611787</td>\n    </tr>\n    <tr>\n      <th>Y</th>\n      <td>10.758521</td>\n      <td>785.014519</td>\n      <td>0.862772</td>\n      <td>541.405629</td>\n      <td>0.0</td>\n      <td>538.528924</td>\n      <td>0.0</td>\n      <td>353.727384</td>\n      <td>0.550</td>\n      <td>538.528924</td>\n      <td>594.2</td>\n      <td>64.565966</td>\n      <td>1.538422</td>\n    </tr>\n  </tbody>\n</table>\n</div>"
     },
     "metadata": {},
     "execution_count": 11
    }
   ],
   "source": [
    "table6=pd.pivot_table(df_find,index=[\"Variation\",\"Solution\"])\n",
    "table6"
   ]
  },
  {
   "cell_type": "code",
   "execution_count": 12,
   "metadata": {},
   "outputs": [
    {
     "output_type": "execute_result",
     "data": {
      "text/plain": [
       "       Total throughput [kg]  Max total backlog [kg]  Mean total backlog [kg]  std dev total backlog [kg]  Median total backlog [kg]  Min total backlog [kg]  P(total backlog ≤ 0 kg)  Max total inventory deficit [kg]  Mean total inventory deficit [kg]  std dev inventory deficit [kg]  Median total inventory deficit [kg]  Min total inventory deficit [kg]  Total Deficit [kg]\n",
       "count               2.000000                2.000000                 2.000000                    2.000000                        2.0                     2.0                 2.000000                          2.000000                           2.000000                        2.000000                             2.000000                          2.000000            2.000000\n",
       "mean              586.650000               11.134401                 0.908524                    1.575104                        0.0                     0.0                 0.532000                        746.291756                         532.168975                       59.871033                           530.646547                        358.645525          530.646547\n",
       "std                10.677312                0.531574                 0.064703                    0.051877                        0.0                     0.0                 0.025456                         54.762257                          13.062601                        6.639637                            11.147364                          6.955303           11.147364\n",
       "min               579.100000               10.758521                 0.862772                    1.538422                        0.0                     0.0                 0.514000                        707.568993                         522.932321                       55.176101                           522.764170                        353.727384          522.764170\n",
       "25%               582.875000               10.946461                 0.885648                    1.556763                        0.0                     0.0                 0.523000                        726.930375                         527.550648                       57.523567                           526.705358                        356.186454          526.705358\n",
       "50%               586.650000               11.134401                 0.908524                    1.575104                        0.0                     0.0                 0.532000                        746.291756                         532.168975                       59.871033                           530.646547                        358.645525          530.646547\n",
       "75%               590.425000               11.322340                 0.931400                    1.593446                        0.0                     0.0                 0.541000                        765.653138                         536.787302                       62.218500                           534.587735                        361.104596          534.587735\n",
       "max               594.200000               11.510280                 0.954276                    1.611787                        0.0                     0.0                 0.550000                        785.014519                         541.405629                       64.565966                           538.528924                        363.563667          538.528924"
      ],
      "text/html": "<div>\n<style scoped>\n    .dataframe tbody tr th:only-of-type {\n        vertical-align: middle;\n    }\n\n    .dataframe tbody tr th {\n        vertical-align: top;\n    }\n\n    .dataframe thead th {\n        text-align: right;\n    }\n</style>\n<table border=\"1\" class=\"dataframe\">\n  <thead>\n    <tr style=\"text-align: right;\">\n      <th></th>\n      <th>Total throughput [kg]</th>\n      <th>Max total backlog [kg]</th>\n      <th>Mean total backlog [kg]</th>\n      <th>std dev total backlog [kg]</th>\n      <th>Median total backlog [kg]</th>\n      <th>Min total backlog [kg]</th>\n      <th>P(total backlog ≤ 0 kg)</th>\n      <th>Max total inventory deficit [kg]</th>\n      <th>Mean total inventory deficit [kg]</th>\n      <th>std dev inventory deficit [kg]</th>\n      <th>Median total inventory deficit [kg]</th>\n      <th>Min total inventory deficit [kg]</th>\n      <th>Total Deficit [kg]</th>\n    </tr>\n  </thead>\n  <tbody>\n    <tr>\n      <th>count</th>\n      <td>2.000000</td>\n      <td>2.000000</td>\n      <td>2.000000</td>\n      <td>2.000000</td>\n      <td>2.0</td>\n      <td>2.0</td>\n      <td>2.000000</td>\n      <td>2.000000</td>\n      <td>2.000000</td>\n      <td>2.000000</td>\n      <td>2.000000</td>\n      <td>2.000000</td>\n      <td>2.000000</td>\n    </tr>\n    <tr>\n      <th>mean</th>\n      <td>586.650000</td>\n      <td>11.134401</td>\n      <td>0.908524</td>\n      <td>1.575104</td>\n      <td>0.0</td>\n      <td>0.0</td>\n      <td>0.532000</td>\n      <td>746.291756</td>\n      <td>532.168975</td>\n      <td>59.871033</td>\n      <td>530.646547</td>\n      <td>358.645525</td>\n      <td>530.646547</td>\n    </tr>\n    <tr>\n      <th>std</th>\n      <td>10.677312</td>\n      <td>0.531574</td>\n      <td>0.064703</td>\n      <td>0.051877</td>\n      <td>0.0</td>\n      <td>0.0</td>\n      <td>0.025456</td>\n      <td>54.762257</td>\n      <td>13.062601</td>\n      <td>6.639637</td>\n      <td>11.147364</td>\n      <td>6.955303</td>\n      <td>11.147364</td>\n    </tr>\n    <tr>\n      <th>min</th>\n      <td>579.100000</td>\n      <td>10.758521</td>\n      <td>0.862772</td>\n      <td>1.538422</td>\n      <td>0.0</td>\n      <td>0.0</td>\n      <td>0.514000</td>\n      <td>707.568993</td>\n      <td>522.932321</td>\n      <td>55.176101</td>\n      <td>522.764170</td>\n      <td>353.727384</td>\n      <td>522.764170</td>\n    </tr>\n    <tr>\n      <th>25%</th>\n      <td>582.875000</td>\n      <td>10.946461</td>\n      <td>0.885648</td>\n      <td>1.556763</td>\n      <td>0.0</td>\n      <td>0.0</td>\n      <td>0.523000</td>\n      <td>726.930375</td>\n      <td>527.550648</td>\n      <td>57.523567</td>\n      <td>526.705358</td>\n      <td>356.186454</td>\n      <td>526.705358</td>\n    </tr>\n    <tr>\n      <th>50%</th>\n      <td>586.650000</td>\n      <td>11.134401</td>\n      <td>0.908524</td>\n      <td>1.575104</td>\n      <td>0.0</td>\n      <td>0.0</td>\n      <td>0.532000</td>\n      <td>746.291756</td>\n      <td>532.168975</td>\n      <td>59.871033</td>\n      <td>530.646547</td>\n      <td>358.645525</td>\n      <td>530.646547</td>\n    </tr>\n    <tr>\n      <th>75%</th>\n      <td>590.425000</td>\n      <td>11.322340</td>\n      <td>0.931400</td>\n      <td>1.593446</td>\n      <td>0.0</td>\n      <td>0.0</td>\n      <td>0.541000</td>\n      <td>765.653138</td>\n      <td>536.787302</td>\n      <td>62.218500</td>\n      <td>534.587735</td>\n      <td>361.104596</td>\n      <td>534.587735</td>\n    </tr>\n    <tr>\n      <th>max</th>\n      <td>594.200000</td>\n      <td>11.510280</td>\n      <td>0.954276</td>\n      <td>1.611787</td>\n      <td>0.0</td>\n      <td>0.0</td>\n      <td>0.550000</td>\n      <td>785.014519</td>\n      <td>541.405629</td>\n      <td>64.565966</td>\n      <td>538.528924</td>\n      <td>363.563667</td>\n      <td>538.528924</td>\n    </tr>\n  </tbody>\n</table>\n</div>"
     },
     "metadata": {},
     "execution_count": 12
    }
   ],
   "source": [
    "df_find.loc[df_find.Variation!=\"Article\"].describe() #Describe values from article"
   ]
  },
  {
   "cell_type": "code",
   "execution_count": 13,
   "metadata": {},
   "outputs": [
    {
     "output_type": "execute_result",
     "data": {
      "text/plain": [
       "Index(['Variation', 'Solution', 'Total throughput [kg]', 'Max total backlog [kg]', 'Mean total backlog [kg]', 'std dev total backlog [kg]', 'Median total backlog [kg]', 'Min total backlog [kg]', 'P(total backlog ≤ 0 kg)', 'Max total inventory deficit [kg]', 'Mean total inventory deficit [kg]', 'std dev inventory deficit [kg]', 'Median total inventory deficit [kg]', 'Min total inventory deficit [kg]', 'Total Deficit [kg]', 'Batches [un]', 'Product label', 'Start of USP [date]', 'End of DSP [date]'], dtype='object')"
      ]
     },
     "metadata": {},
     "execution_count": 13
    }
   ],
   "source": [
    "df_find.columns"
   ]
  },
  {
   "cell_type": "code",
   "execution_count": 14,
   "metadata": {},
   "outputs": [],
   "source": [
    "# If I had the column Execution\n",
    "# df_ind_short=df_find.drop(['Execution'],axis=1)\n",
    "df_ind_short=df_find"
   ]
  },
  {
   "cell_type": "code",
   "execution_count": 15,
   "metadata": {},
   "outputs": [
    {
     "output_type": "execute_result",
     "data": {
      "text/plain": [
       "                                                                                               Variation Solution  Total throughput [kg]  Max total backlog [kg]  Mean total backlog [kg]  std dev total backlog [kg]  Median total backlog [kg]  Min total backlog [kg]  P(total backlog ≤ 0 kg)  Max total inventory deficit [kg]  Mean total inventory deficit [kg]  std dev inventory deficit [kg]  Median total inventory deficit [kg]  Min total inventory deficit [kg]  Total Deficit [kg]                      Batches [un]              Product label                                                                                                       Start of USP [date]                                                                                                         End of DSP [date]\n",
       "Execution                                                                                                                                                                                                                                                                                                                                                                                                                                                                                                                                                                                                                                                                                                                                                                                                         \n",
       "Article                                                                                          Article        X                  539.3                8.200000                 0.200000                    0.600000                        0.0                     0.0                    0.820                        683.400000                         432.600000                       58.600000                           424.400000                        259.400000                 NaN  [15 10 29 3 15 11 15 6 2 2 2 10]  [3 2 0 1 3 2 1 3 2 1 2 3]                                                                                                                       NaN                                                                                                                       NaN\n",
       "Article                                                                                          Article        Y                  601.5               16.000000                 7.100000                    4.300000                        0.0                     0.0                    0.500                        786.000000                         558.600000                       59.000000                           551.700000                        355.600000                 NaN           [12 13 24 18 5 19 9 30]          [3 2 0 3 1 0 2 3]                                                                                                                       NaN                                                                                                                       NaN\n",
       "0          front_nsga,tour_vio,rein_vio,vio_back,calc_montecarlo,100,1000,2,0.5,(0.04, 0.61, 0.77, 0.47)        X                  579.1               11.510280                 0.954276                    1.611787                        0.0                     0.0                    0.514                        707.568993                         522.932321                       55.176101                           522.764170                        363.563667          522.764170      [16  9 32  3 16 13 16  2 21]        [3 2 0 1 3 2 0 1 3]  ['2016-12-01' '2017-04-14' '2017-07-02' '2018-03-02' '2018-04-11'\\n '2018-08-23' '2018-12-08' '2019-04-18' '2019-05-17']  ['2017-05-11' '2017-07-31' '2018-03-28' '2018-05-10' '2018-09-19'\\n '2019-01-06' '2019-05-14' '2019-06-15' '2019-11-29']\n",
       "0          front_nsga,tour_vio,rein_vio,vio_back,calc_montecarlo,100,1000,2,0.5,(0.04, 0.61, 0.77, 0.47)        Y                  594.2               10.758521                 0.862772                    1.538422                        0.0                     0.0                    0.550                        785.014519                         541.405629                       64.565966                           538.528924                        353.727384          538.528924         [16  9 31  4 14 13 15 28]          [3 2 0 1 3 2 0 3]               ['2016-12-01' '2017-04-14' '2017-07-02' '2018-02-23' '2018-04-15'\\n '2018-08-13' '2018-11-28' '2019-03-29']               ['2017-05-11' '2017-07-31' '2018-03-21' '2018-05-14' '2018-09-09'\\n '2018-12-27' '2019-04-27' '2019-11-29']"
      ],
      "text/html": "<div>\n<style scoped>\n    .dataframe tbody tr th:only-of-type {\n        vertical-align: middle;\n    }\n\n    .dataframe tbody tr th {\n        vertical-align: top;\n    }\n\n    .dataframe thead th {\n        text-align: right;\n    }\n</style>\n<table border=\"1\" class=\"dataframe\">\n  <thead>\n    <tr style=\"text-align: right;\">\n      <th></th>\n      <th>Variation</th>\n      <th>Solution</th>\n      <th>Total throughput [kg]</th>\n      <th>Max total backlog [kg]</th>\n      <th>Mean total backlog [kg]</th>\n      <th>std dev total backlog [kg]</th>\n      <th>Median total backlog [kg]</th>\n      <th>Min total backlog [kg]</th>\n      <th>P(total backlog ≤ 0 kg)</th>\n      <th>Max total inventory deficit [kg]</th>\n      <th>Mean total inventory deficit [kg]</th>\n      <th>std dev inventory deficit [kg]</th>\n      <th>Median total inventory deficit [kg]</th>\n      <th>Min total inventory deficit [kg]</th>\n      <th>Total Deficit [kg]</th>\n      <th>Batches [un]</th>\n      <th>Product label</th>\n      <th>Start of USP [date]</th>\n      <th>End of DSP [date]</th>\n    </tr>\n    <tr>\n      <th>Execution</th>\n      <th></th>\n      <th></th>\n      <th></th>\n      <th></th>\n      <th></th>\n      <th></th>\n      <th></th>\n      <th></th>\n      <th></th>\n      <th></th>\n      <th></th>\n      <th></th>\n      <th></th>\n      <th></th>\n      <th></th>\n      <th></th>\n      <th></th>\n      <th></th>\n      <th></th>\n    </tr>\n  </thead>\n  <tbody>\n    <tr>\n      <th>Article</th>\n      <td>Article</td>\n      <td>X</td>\n      <td>539.3</td>\n      <td>8.200000</td>\n      <td>0.200000</td>\n      <td>0.600000</td>\n      <td>0.0</td>\n      <td>0.0</td>\n      <td>0.820</td>\n      <td>683.400000</td>\n      <td>432.600000</td>\n      <td>58.600000</td>\n      <td>424.400000</td>\n      <td>259.400000</td>\n      <td>NaN</td>\n      <td>[15 10 29 3 15 11 15 6 2 2 2 10]</td>\n      <td>[3 2 0 1 3 2 1 3 2 1 2 3]</td>\n      <td>NaN</td>\n      <td>NaN</td>\n    </tr>\n    <tr>\n      <th>Article</th>\n      <td>Article</td>\n      <td>Y</td>\n      <td>601.5</td>\n      <td>16.000000</td>\n      <td>7.100000</td>\n      <td>4.300000</td>\n      <td>0.0</td>\n      <td>0.0</td>\n      <td>0.500</td>\n      <td>786.000000</td>\n      <td>558.600000</td>\n      <td>59.000000</td>\n      <td>551.700000</td>\n      <td>355.600000</td>\n      <td>NaN</td>\n      <td>[12 13 24 18 5 19 9 30]</td>\n      <td>[3 2 0 3 1 0 2 3]</td>\n      <td>NaN</td>\n      <td>NaN</td>\n    </tr>\n    <tr>\n      <th>0</th>\n      <td>front_nsga,tour_vio,rein_vio,vio_back,calc_montecarlo,100,1000,2,0.5,(0.04, 0.61, 0.77, 0.47)</td>\n      <td>X</td>\n      <td>579.1</td>\n      <td>11.510280</td>\n      <td>0.954276</td>\n      <td>1.611787</td>\n      <td>0.0</td>\n      <td>0.0</td>\n      <td>0.514</td>\n      <td>707.568993</td>\n      <td>522.932321</td>\n      <td>55.176101</td>\n      <td>522.764170</td>\n      <td>363.563667</td>\n      <td>522.764170</td>\n      <td>[16  9 32  3 16 13 16  2 21]</td>\n      <td>[3 2 0 1 3 2 0 1 3]</td>\n      <td>['2016-12-01' '2017-04-14' '2017-07-02' '2018-03-02' '2018-04-11'\\n '2018-08-23' '2018-12-08' '2019-04-18' '2019-05-17']</td>\n      <td>['2017-05-11' '2017-07-31' '2018-03-28' '2018-05-10' '2018-09-19'\\n '2019-01-06' '2019-05-14' '2019-06-15' '2019-11-29']</td>\n    </tr>\n    <tr>\n      <th>0</th>\n      <td>front_nsga,tour_vio,rein_vio,vio_back,calc_montecarlo,100,1000,2,0.5,(0.04, 0.61, 0.77, 0.47)</td>\n      <td>Y</td>\n      <td>594.2</td>\n      <td>10.758521</td>\n      <td>0.862772</td>\n      <td>1.538422</td>\n      <td>0.0</td>\n      <td>0.0</td>\n      <td>0.550</td>\n      <td>785.014519</td>\n      <td>541.405629</td>\n      <td>64.565966</td>\n      <td>538.528924</td>\n      <td>353.727384</td>\n      <td>538.528924</td>\n      <td>[16  9 31  4 14 13 15 28]</td>\n      <td>[3 2 0 1 3 2 0 3]</td>\n      <td>['2016-12-01' '2017-04-14' '2017-07-02' '2018-02-23' '2018-04-15'\\n '2018-08-13' '2018-11-28' '2019-03-29']</td>\n      <td>['2017-05-11' '2017-07-31' '2018-03-21' '2018-05-14' '2018-09-09'\\n '2018-12-27' '2019-04-27' '2019-11-29']</td>\n    </tr>\n  </tbody>\n</table>\n</div>"
     },
     "metadata": {},
     "execution_count": 15
    }
   ],
   "source": [
    "df_ind_short"
   ]
  },
  {
   "cell_type": "code",
   "execution_count": 16,
   "metadata": {},
   "outputs": [],
   "source": [
    " # Export as csv\n",
    "df_ind_short.to_csv(os.path.join(root_path_data,'df_ind_short.csv'))"
   ]
  },
  {
   "cell_type": "code",
   "execution_count": 17,
   "metadata": {},
   "outputs": [],
   "source": [
    " # Import as csv for checking\n",
    "df_find_short=pd.read_csv(os.path.join(root_path_data,'df_ind_short.csv'),index_col=0)"
   ]
  },
  {
   "cell_type": "code",
   "execution_count": 18,
   "metadata": {},
   "outputs": [
    {
     "output_type": "execute_result",
     "data": {
      "text/plain": [
       "Index(['Variation', 'Solution', 'Total throughput [kg]', 'Max total backlog [kg]', 'Mean total backlog [kg]', 'std dev total backlog [kg]', 'Median total backlog [kg]', 'Min total backlog [kg]', 'P(total backlog ≤ 0 kg)', 'Max total inventory deficit [kg]', 'Mean total inventory deficit [kg]', 'std dev inventory deficit [kg]', 'Median total inventory deficit [kg]', 'Min total inventory deficit [kg]', 'Total Deficit [kg]', 'Batches [un]', 'Product label', 'Start of USP [date]', 'End of DSP [date]'], dtype='object')"
      ]
     },
     "metadata": {},
     "execution_count": 18
    }
   ],
   "source": [
    "df_find_short.columns"
   ]
  },
  {
   "cell_type": "code",
   "execution_count": 19,
   "metadata": {},
   "outputs": [
    {
     "output_type": "execute_result",
     "data": {
      "text/plain": [
       "                                                                                       Variation Solution  Total throughput [kg]  Max total backlog [kg]  Mean total backlog [kg]  std dev total backlog [kg]  Median total backlog [kg]  Min total backlog [kg]  P(total backlog ≤ 0 kg)  Max total inventory deficit [kg]  Mean total inventory deficit [kg]  std dev inventory deficit [kg]  Median total inventory deficit [kg]  Min total inventory deficit [kg]  Total Deficit [kg]                      Batches [un]              Product label                                                                                                       Start of USP [date]                                                                                                         End of DSP [date]\n",
       "0                                                                                        Article        X                  539.3                8.200000                 0.200000                    0.600000                        0.0                     0.0                    0.820                        683.400000                         432.600000                       58.600000                           424.400000                        259.400000                 NaN  [15 10 29 3 15 11 15 6 2 2 2 10]  [3 2 0 1 3 2 1 3 2 1 2 3]                                                                                                                       NaN                                                                                                                       NaN\n",
       "1                                                                                        Article        Y                  601.5               16.000000                 7.100000                    4.300000                        0.0                     0.0                    0.500                        786.000000                         558.600000                       59.000000                           551.700000                        355.600000                 NaN           [12 13 24 18 5 19 9 30]          [3 2 0 3 1 0 2 3]                                                                                                                       NaN                                                                                                                       NaN\n",
       "2  front_nsga,tour_vio,rein_vio,vio_back,calc_montecarlo,100,1000,2,0.5,(0.04, 0.61, 0.77, 0.47)        X                  579.1               11.510280                 0.954276                    1.611787                        0.0                     0.0                    0.514                        707.568993                         522.932321                       55.176101                           522.764170                        363.563667          522.764170      [16  9 32  3 16 13 16  2 21]        [3 2 0 1 3 2 0 1 3]  ['2016-12-01' '2017-04-14' '2017-07-02' '2018-03-02' '2018-04-11'\\n '2018-08-23' '2018-12-08' '2019-04-18' '2019-05-17']  ['2017-05-11' '2017-07-31' '2018-03-28' '2018-05-10' '2018-09-19'\\n '2019-01-06' '2019-05-14' '2019-06-15' '2019-11-29']\n",
       "3  front_nsga,tour_vio,rein_vio,vio_back,calc_montecarlo,100,1000,2,0.5,(0.04, 0.61, 0.77, 0.47)        Y                  594.2               10.758521                 0.862772                    1.538422                        0.0                     0.0                    0.550                        785.014519                         541.405629                       64.565966                           538.528924                        353.727384          538.528924         [16  9 31  4 14 13 15 28]          [3 2 0 1 3 2 0 3]               ['2016-12-01' '2017-04-14' '2017-07-02' '2018-02-23' '2018-04-15'\\n '2018-08-13' '2018-11-28' '2019-03-29']               ['2017-05-11' '2017-07-31' '2018-03-21' '2018-05-14' '2018-09-09'\\n '2018-12-27' '2019-04-27' '2019-11-29']"
      ],
      "text/html": "<div>\n<style scoped>\n    .dataframe tbody tr th:only-of-type {\n        vertical-align: middle;\n    }\n\n    .dataframe tbody tr th {\n        vertical-align: top;\n    }\n\n    .dataframe thead th {\n        text-align: right;\n    }\n</style>\n<table border=\"1\" class=\"dataframe\">\n  <thead>\n    <tr style=\"text-align: right;\">\n      <th></th>\n      <th>Variation</th>\n      <th>Solution</th>\n      <th>Total throughput [kg]</th>\n      <th>Max total backlog [kg]</th>\n      <th>Mean total backlog [kg]</th>\n      <th>std dev total backlog [kg]</th>\n      <th>Median total backlog [kg]</th>\n      <th>Min total backlog [kg]</th>\n      <th>P(total backlog ≤ 0 kg)</th>\n      <th>Max total inventory deficit [kg]</th>\n      <th>Mean total inventory deficit [kg]</th>\n      <th>std dev inventory deficit [kg]</th>\n      <th>Median total inventory deficit [kg]</th>\n      <th>Min total inventory deficit [kg]</th>\n      <th>Total Deficit [kg]</th>\n      <th>Batches [un]</th>\n      <th>Product label</th>\n      <th>Start of USP [date]</th>\n      <th>End of DSP [date]</th>\n    </tr>\n  </thead>\n  <tbody>\n    <tr>\n      <th>0</th>\n      <td>Article</td>\n      <td>X</td>\n      <td>539.3</td>\n      <td>8.200000</td>\n      <td>0.200000</td>\n      <td>0.600000</td>\n      <td>0.0</td>\n      <td>0.0</td>\n      <td>0.820</td>\n      <td>683.400000</td>\n      <td>432.600000</td>\n      <td>58.600000</td>\n      <td>424.400000</td>\n      <td>259.400000</td>\n      <td>NaN</td>\n      <td>[15 10 29 3 15 11 15 6 2 2 2 10]</td>\n      <td>[3 2 0 1 3 2 1 3 2 1 2 3]</td>\n      <td>NaN</td>\n      <td>NaN</td>\n    </tr>\n    <tr>\n      <th>1</th>\n      <td>Article</td>\n      <td>Y</td>\n      <td>601.5</td>\n      <td>16.000000</td>\n      <td>7.100000</td>\n      <td>4.300000</td>\n      <td>0.0</td>\n      <td>0.0</td>\n      <td>0.500</td>\n      <td>786.000000</td>\n      <td>558.600000</td>\n      <td>59.000000</td>\n      <td>551.700000</td>\n      <td>355.600000</td>\n      <td>NaN</td>\n      <td>[12 13 24 18 5 19 9 30]</td>\n      <td>[3 2 0 3 1 0 2 3]</td>\n      <td>NaN</td>\n      <td>NaN</td>\n    </tr>\n    <tr>\n      <th>2</th>\n      <td>front_nsga,tour_vio,rein_vio,vio_back,calc_montecarlo,100,1000,2,0.5,(0.04, 0.61, 0.77, 0.47)</td>\n      <td>X</td>\n      <td>579.1</td>\n      <td>11.510280</td>\n      <td>0.954276</td>\n      <td>1.611787</td>\n      <td>0.0</td>\n      <td>0.0</td>\n      <td>0.514</td>\n      <td>707.568993</td>\n      <td>522.932321</td>\n      <td>55.176101</td>\n      <td>522.764170</td>\n      <td>363.563667</td>\n      <td>522.764170</td>\n      <td>[16  9 32  3 16 13 16  2 21]</td>\n      <td>[3 2 0 1 3 2 0 1 3]</td>\n      <td>['2016-12-01' '2017-04-14' '2017-07-02' '2018-03-02' '2018-04-11'\\n '2018-08-23' '2018-12-08' '2019-04-18' '2019-05-17']</td>\n      <td>['2017-05-11' '2017-07-31' '2018-03-28' '2018-05-10' '2018-09-19'\\n '2019-01-06' '2019-05-14' '2019-06-15' '2019-11-29']</td>\n    </tr>\n    <tr>\n      <th>3</th>\n      <td>front_nsga,tour_vio,rein_vio,vio_back,calc_montecarlo,100,1000,2,0.5,(0.04, 0.61, 0.77, 0.47)</td>\n      <td>Y</td>\n      <td>594.2</td>\n      <td>10.758521</td>\n      <td>0.862772</td>\n      <td>1.538422</td>\n      <td>0.0</td>\n      <td>0.0</td>\n      <td>0.550</td>\n      <td>785.014519</td>\n      <td>541.405629</td>\n      <td>64.565966</td>\n      <td>538.528924</td>\n      <td>353.727384</td>\n      <td>538.528924</td>\n      <td>[16  9 31  4 14 13 15 28]</td>\n      <td>[3 2 0 1 3 2 0 3]</td>\n      <td>['2016-12-01' '2017-04-14' '2017-07-02' '2018-02-23' '2018-04-15'\\n '2018-08-13' '2018-11-28' '2019-03-29']</td>\n      <td>['2017-05-11' '2017-07-31' '2018-03-21' '2018-05-14' '2018-09-09'\\n '2018-12-27' '2019-04-27' '2019-11-29']</td>\n    </tr>\n  </tbody>\n</table>\n</div>"
     },
     "metadata": {},
     "execution_count": 19
    }
   ],
   "source": [
    "df_find_short.reset_index(drop=True)"
   ]
  },
  {
   "cell_type": "code",
   "execution_count": 20,
   "metadata": {},
   "outputs": [
    {
     "output_type": "execute_result",
     "data": {
      "text/plain": [
       "                                                                                               Variation Solution  Total throughput [kg]  Max total backlog [kg]  Mean total backlog [kg]  std dev total backlog [kg]  Median total backlog [kg]  Min total backlog [kg]  P(total backlog ≤ 0 kg)  Max total inventory deficit [kg]  Mean total inventory deficit [kg]  std dev inventory deficit [kg]  Median total inventory deficit [kg]  Min total inventory deficit [kg]  Total Deficit [kg]                      Batches [un]              Product label                                                                                                       Start of USP [date]                                                                                                         End of DSP [date]\n",
       "Execution                                                                                                                                                                                                                                                                                                                                                                                                                                                                                                                                                                                                                                                                                                                                                                                                         \n",
       "Article                                                                                          Article        X                  539.3                8.200000                 0.200000                    0.600000                        0.0                     0.0                    0.820                        683.400000                         432.600000                       58.600000                           424.400000                        259.400000                 NaN  [15 10 29 3 15 11 15 6 2 2 2 10]  [3 2 0 1 3 2 1 3 2 1 2 3]                                                                                                                       NaN                                                                                                                       NaN\n",
       "Article                                                                                          Article        Y                  601.5               16.000000                 7.100000                    4.300000                        0.0                     0.0                    0.500                        786.000000                         558.600000                       59.000000                           551.700000                        355.600000                 NaN           [12 13 24 18 5 19 9 30]          [3 2 0 3 1 0 2 3]                                                                                                                       NaN                                                                                                                       NaN\n",
       "0          front_nsga,tour_vio,rein_vio,vio_back,calc_montecarlo,100,1000,2,0.5,(0.04, 0.61, 0.77, 0.47)        X                  579.1               11.510280                 0.954276                    1.611787                        0.0                     0.0                    0.514                        707.568993                         522.932321                       55.176101                           522.764170                        363.563667          522.764170      [16  9 32  3 16 13 16  2 21]        [3 2 0 1 3 2 0 1 3]  ['2016-12-01' '2017-04-14' '2017-07-02' '2018-03-02' '2018-04-11'\\n '2018-08-23' '2018-12-08' '2019-04-18' '2019-05-17']  ['2017-05-11' '2017-07-31' '2018-03-28' '2018-05-10' '2018-09-19'\\n '2019-01-06' '2019-05-14' '2019-06-15' '2019-11-29']\n",
       "0          front_nsga,tour_vio,rein_vio,vio_back,calc_montecarlo,100,1000,2,0.5,(0.04, 0.61, 0.77, 0.47)        Y                  594.2               10.758521                 0.862772                    1.538422                        0.0                     0.0                    0.550                        785.014519                         541.405629                       64.565966                           538.528924                        353.727384          538.528924         [16  9 31  4 14 13 15 28]          [3 2 0 1 3 2 0 3]               ['2016-12-01' '2017-04-14' '2017-07-02' '2018-02-23' '2018-04-15'\\n '2018-08-13' '2018-11-28' '2019-03-29']               ['2017-05-11' '2017-07-31' '2018-03-21' '2018-05-14' '2018-09-09'\\n '2018-12-27' '2019-04-27' '2019-11-29']"
      ],
      "text/html": "<div>\n<style scoped>\n    .dataframe tbody tr th:only-of-type {\n        vertical-align: middle;\n    }\n\n    .dataframe tbody tr th {\n        vertical-align: top;\n    }\n\n    .dataframe thead th {\n        text-align: right;\n    }\n</style>\n<table border=\"1\" class=\"dataframe\">\n  <thead>\n    <tr style=\"text-align: right;\">\n      <th></th>\n      <th>Variation</th>\n      <th>Solution</th>\n      <th>Total throughput [kg]</th>\n      <th>Max total backlog [kg]</th>\n      <th>Mean total backlog [kg]</th>\n      <th>std dev total backlog [kg]</th>\n      <th>Median total backlog [kg]</th>\n      <th>Min total backlog [kg]</th>\n      <th>P(total backlog ≤ 0 kg)</th>\n      <th>Max total inventory deficit [kg]</th>\n      <th>Mean total inventory deficit [kg]</th>\n      <th>std dev inventory deficit [kg]</th>\n      <th>Median total inventory deficit [kg]</th>\n      <th>Min total inventory deficit [kg]</th>\n      <th>Total Deficit [kg]</th>\n      <th>Batches [un]</th>\n      <th>Product label</th>\n      <th>Start of USP [date]</th>\n      <th>End of DSP [date]</th>\n    </tr>\n    <tr>\n      <th>Execution</th>\n      <th></th>\n      <th></th>\n      <th></th>\n      <th></th>\n      <th></th>\n      <th></th>\n      <th></th>\n      <th></th>\n      <th></th>\n      <th></th>\n      <th></th>\n      <th></th>\n      <th></th>\n      <th></th>\n      <th></th>\n      <th></th>\n      <th></th>\n      <th></th>\n      <th></th>\n    </tr>\n  </thead>\n  <tbody>\n    <tr>\n      <th>Article</th>\n      <td>Article</td>\n      <td>X</td>\n      <td>539.3</td>\n      <td>8.200000</td>\n      <td>0.200000</td>\n      <td>0.600000</td>\n      <td>0.0</td>\n      <td>0.0</td>\n      <td>0.820</td>\n      <td>683.400000</td>\n      <td>432.600000</td>\n      <td>58.600000</td>\n      <td>424.400000</td>\n      <td>259.400000</td>\n      <td>NaN</td>\n      <td>[15 10 29 3 15 11 15 6 2 2 2 10]</td>\n      <td>[3 2 0 1 3 2 1 3 2 1 2 3]</td>\n      <td>NaN</td>\n      <td>NaN</td>\n    </tr>\n    <tr>\n      <th>Article</th>\n      <td>Article</td>\n      <td>Y</td>\n      <td>601.5</td>\n      <td>16.000000</td>\n      <td>7.100000</td>\n      <td>4.300000</td>\n      <td>0.0</td>\n      <td>0.0</td>\n      <td>0.500</td>\n      <td>786.000000</td>\n      <td>558.600000</td>\n      <td>59.000000</td>\n      <td>551.700000</td>\n      <td>355.600000</td>\n      <td>NaN</td>\n      <td>[12 13 24 18 5 19 9 30]</td>\n      <td>[3 2 0 3 1 0 2 3]</td>\n      <td>NaN</td>\n      <td>NaN</td>\n    </tr>\n    <tr>\n      <th>0</th>\n      <td>front_nsga,tour_vio,rein_vio,vio_back,calc_montecarlo,100,1000,2,0.5,(0.04, 0.61, 0.77, 0.47)</td>\n      <td>X</td>\n      <td>579.1</td>\n      <td>11.510280</td>\n      <td>0.954276</td>\n      <td>1.611787</td>\n      <td>0.0</td>\n      <td>0.0</td>\n      <td>0.514</td>\n      <td>707.568993</td>\n      <td>522.932321</td>\n      <td>55.176101</td>\n      <td>522.764170</td>\n      <td>363.563667</td>\n      <td>522.764170</td>\n      <td>[16  9 32  3 16 13 16  2 21]</td>\n      <td>[3 2 0 1 3 2 0 1 3]</td>\n      <td>['2016-12-01' '2017-04-14' '2017-07-02' '2018-03-02' '2018-04-11'\\n '2018-08-23' '2018-12-08' '2019-04-18' '2019-05-17']</td>\n      <td>['2017-05-11' '2017-07-31' '2018-03-28' '2018-05-10' '2018-09-19'\\n '2019-01-06' '2019-05-14' '2019-06-15' '2019-11-29']</td>\n    </tr>\n    <tr>\n      <th>0</th>\n      <td>front_nsga,tour_vio,rein_vio,vio_back,calc_montecarlo,100,1000,2,0.5,(0.04, 0.61, 0.77, 0.47)</td>\n      <td>Y</td>\n      <td>594.2</td>\n      <td>10.758521</td>\n      <td>0.862772</td>\n      <td>1.538422</td>\n      <td>0.0</td>\n      <td>0.0</td>\n      <td>0.550</td>\n      <td>785.014519</td>\n      <td>541.405629</td>\n      <td>64.565966</td>\n      <td>538.528924</td>\n      <td>353.727384</td>\n      <td>538.528924</td>\n      <td>[16  9 31  4 14 13 15 28]</td>\n      <td>[3 2 0 1 3 2 0 3]</td>\n      <td>['2016-12-01' '2017-04-14' '2017-07-02' '2018-02-23' '2018-04-15'\\n '2018-08-13' '2018-11-28' '2019-03-29']</td>\n      <td>['2017-05-11' '2017-07-31' '2018-03-21' '2018-05-14' '2018-09-09'\\n '2018-12-27' '2019-04-27' '2019-11-29']</td>\n    </tr>\n  </tbody>\n</table>\n</div>"
     },
     "metadata": {},
     "execution_count": 20
    }
   ],
   "source": [
    "df_find_short"
   ]
  },
  {
   "cell_type": "code",
   "execution_count": 21,
   "metadata": {},
   "outputs": [
    {
     "output_type": "execute_result",
     "data": {
      "text/plain": [
       "Execution                                                     Article                  Article                                                                                                                         0                                                                                                            0\n",
       "Variation                                                     Article                  Article                             front_nsga,tour_vio,rein_vio,vio_back,calc_montecarlo,100,1000,2,0.5,(0.04, 0.61, 0.77, 0.47)                front_nsga,tour_vio,rein_vio,vio_back,calc_montecarlo,100,1000,2,0.5,(0.04, 0.61, 0.77, 0.47)\n",
       "Solution                                                            X                        Y                                                                                                                         X                                                                                                            Y\n",
       "Total throughput [kg]                                           539.3                    601.5                                                                                                                     579.1                                                                                                        594.2\n",
       "Max total backlog [kg]                                            8.2                     16.0                                                                                                                  11.51028                                                                                                    10.758521\n",
       "Mean total backlog [kg]                                           0.2                      7.1                                                                                                                  0.954276                                                                                                     0.862772\n",
       "std dev total backlog [kg]                                        0.6                      4.3                                                                                                                  1.611787                                                                                                     1.538422\n",
       "Median total backlog [kg]                                         0.0                      0.0                                                                                                                       0.0                                                                                                          0.0\n",
       "Min total backlog [kg]                                            0.0                      0.0                                                                                                                       0.0                                                                                                          0.0\n",
       "P(total backlog ≤ 0 kg)                                          0.82                      0.5                                                                                                                     0.514                                                                                                         0.55\n",
       "Max total inventory deficit [kg]                                683.4                    786.0                                                                                                                707.568993                                                                                                   785.014519\n",
       "Mean total inventory deficit [kg]                               432.6                    558.6                                                                                                                522.932321                                                                                                   541.405629\n",
       "std dev inventory deficit [kg]                                   58.6                     59.0                                                                                                                 55.176101                                                                                                    64.565966\n",
       "Median total inventory deficit [kg]                             424.4                    551.7                                                                                                                 522.76417                                                                                                   538.528924\n",
       "Min total inventory deficit [kg]                                259.4                    355.6                                                                                                                363.563667                                                                                                   353.727384\n",
       "Total Deficit [kg]                                                NaN                      NaN                                                                                                                 522.76417                                                                                                   538.528924\n",
       "Batches [un]                         [15 10 29 3 15 11 15 6 2 2 2 10]  [12 13 24 18 5 19 9 30]                                                                                              [16  9 32  3 16 13 16  2 21]                                                                                    [16  9 31  4 14 13 15 28]\n",
       "Product label                               [3 2 0 1 3 2 1 3 2 1 2 3]        [3 2 0 3 1 0 2 3]                                                                                                       [3 2 0 1 3 2 0 1 3]                                                                                            [3 2 0 1 3 2 0 3]\n",
       "Start of USP [date]                                               NaN                      NaN  ['2016-12-01' '2017-04-14' '2017-07-02' '2018-03-02' '2018-04-11'\\n '2018-08-23' '2018-12-08' '2019-04-18' '2019-05-17']  ['2016-12-01' '2017-04-14' '2017-07-02' '2018-02-23' '2018-04-15'\\n '2018-08-13' '2018-11-28' '2019-03-29']\n",
       "End of DSP [date]                                                 NaN                      NaN  ['2017-05-11' '2017-07-31' '2018-03-28' '2018-05-10' '2018-09-19'\\n '2019-01-06' '2019-05-14' '2019-06-15' '2019-11-29']  ['2017-05-11' '2017-07-31' '2018-03-21' '2018-05-14' '2018-09-09'\\n '2018-12-27' '2019-04-27' '2019-11-29']"
      ],
      "text/html": "<div>\n<style scoped>\n    .dataframe tbody tr th:only-of-type {\n        vertical-align: middle;\n    }\n\n    .dataframe tbody tr th {\n        vertical-align: top;\n    }\n\n    .dataframe thead th {\n        text-align: right;\n    }\n</style>\n<table border=\"1\" class=\"dataframe\">\n  <thead>\n    <tr style=\"text-align: right;\">\n      <th>Execution</th>\n      <th>Article</th>\n      <th>Article</th>\n      <th>0</th>\n      <th>0</th>\n    </tr>\n  </thead>\n  <tbody>\n    <tr>\n      <th>Variation</th>\n      <td>Article</td>\n      <td>Article</td>\n      <td>front_nsga,tour_vio,rein_vio,vio_back,calc_montecarlo,100,1000,2,0.5,(0.04, 0.61, 0.77, 0.47)</td>\n      <td>front_nsga,tour_vio,rein_vio,vio_back,calc_montecarlo,100,1000,2,0.5,(0.04, 0.61, 0.77, 0.47)</td>\n    </tr>\n    <tr>\n      <th>Solution</th>\n      <td>X</td>\n      <td>Y</td>\n      <td>X</td>\n      <td>Y</td>\n    </tr>\n    <tr>\n      <th>Total throughput [kg]</th>\n      <td>539.3</td>\n      <td>601.5</td>\n      <td>579.1</td>\n      <td>594.2</td>\n    </tr>\n    <tr>\n      <th>Max total backlog [kg]</th>\n      <td>8.2</td>\n      <td>16.0</td>\n      <td>11.51028</td>\n      <td>10.758521</td>\n    </tr>\n    <tr>\n      <th>Mean total backlog [kg]</th>\n      <td>0.2</td>\n      <td>7.1</td>\n      <td>0.954276</td>\n      <td>0.862772</td>\n    </tr>\n    <tr>\n      <th>std dev total backlog [kg]</th>\n      <td>0.6</td>\n      <td>4.3</td>\n      <td>1.611787</td>\n      <td>1.538422</td>\n    </tr>\n    <tr>\n      <th>Median total backlog [kg]</th>\n      <td>0.0</td>\n      <td>0.0</td>\n      <td>0.0</td>\n      <td>0.0</td>\n    </tr>\n    <tr>\n      <th>Min total backlog [kg]</th>\n      <td>0.0</td>\n      <td>0.0</td>\n      <td>0.0</td>\n      <td>0.0</td>\n    </tr>\n    <tr>\n      <th>P(total backlog ≤ 0 kg)</th>\n      <td>0.82</td>\n      <td>0.5</td>\n      <td>0.514</td>\n      <td>0.55</td>\n    </tr>\n    <tr>\n      <th>Max total inventory deficit [kg]</th>\n      <td>683.4</td>\n      <td>786.0</td>\n      <td>707.568993</td>\n      <td>785.014519</td>\n    </tr>\n    <tr>\n      <th>Mean total inventory deficit [kg]</th>\n      <td>432.6</td>\n      <td>558.6</td>\n      <td>522.932321</td>\n      <td>541.405629</td>\n    </tr>\n    <tr>\n      <th>std dev inventory deficit [kg]</th>\n      <td>58.6</td>\n      <td>59.0</td>\n      <td>55.176101</td>\n      <td>64.565966</td>\n    </tr>\n    <tr>\n      <th>Median total inventory deficit [kg]</th>\n      <td>424.4</td>\n      <td>551.7</td>\n      <td>522.76417</td>\n      <td>538.528924</td>\n    </tr>\n    <tr>\n      <th>Min total inventory deficit [kg]</th>\n      <td>259.4</td>\n      <td>355.6</td>\n      <td>363.563667</td>\n      <td>353.727384</td>\n    </tr>\n    <tr>\n      <th>Total Deficit [kg]</th>\n      <td>NaN</td>\n      <td>NaN</td>\n      <td>522.76417</td>\n      <td>538.528924</td>\n    </tr>\n    <tr>\n      <th>Batches [un]</th>\n      <td>[15 10 29 3 15 11 15 6 2 2 2 10]</td>\n      <td>[12 13 24 18 5 19 9 30]</td>\n      <td>[16  9 32  3 16 13 16  2 21]</td>\n      <td>[16  9 31  4 14 13 15 28]</td>\n    </tr>\n    <tr>\n      <th>Product label</th>\n      <td>[3 2 0 1 3 2 1 3 2 1 2 3]</td>\n      <td>[3 2 0 3 1 0 2 3]</td>\n      <td>[3 2 0 1 3 2 0 1 3]</td>\n      <td>[3 2 0 1 3 2 0 3]</td>\n    </tr>\n    <tr>\n      <th>Start of USP [date]</th>\n      <td>NaN</td>\n      <td>NaN</td>\n      <td>['2016-12-01' '2017-04-14' '2017-07-02' '2018-03-02' '2018-04-11'\\n '2018-08-23' '2018-12-08' '2019-04-18' '2019-05-17']</td>\n      <td>['2016-12-01' '2017-04-14' '2017-07-02' '2018-02-23' '2018-04-15'\\n '2018-08-13' '2018-11-28' '2019-03-29']</td>\n    </tr>\n    <tr>\n      <th>End of DSP [date]</th>\n      <td>NaN</td>\n      <td>NaN</td>\n      <td>['2017-05-11' '2017-07-31' '2018-03-28' '2018-05-10' '2018-09-19'\\n '2019-01-06' '2019-05-14' '2019-06-15' '2019-11-29']</td>\n      <td>['2017-05-11' '2017-07-31' '2018-03-21' '2018-05-14' '2018-09-09'\\n '2018-12-27' '2019-04-27' '2019-11-29']</td>\n    </tr>\n  </tbody>\n</table>\n</div>"
     },
     "metadata": {},
     "execution_count": 21
    }
   ],
   "source": [
    "table6=df_find_short.T\n",
    "table6"
   ]
  },
  {
   "source": [
    "# Export Table to Latex report and beamer"
   ],
   "cell_type": "markdown",
   "metadata": {}
  },
  {
   "cell_type": "code",
   "execution_count": 22,
   "metadata": {},
   "outputs": [],
   "source": [
    "# Export table to txt for latex Report and Beamer\n",
    "file_name='resultado.txt'\n",
    "with codecs.open(os.path.join(root_path_report,file_name),mode='w',encoding='utf-8') as outfile:\n",
    "    outfile.write(table6.to_latex(index=True,header=False,escape=True))\n",
    "\n",
    "with codecs.open(os.path.join(root_path_beamer,file_name),mode='w',encoding='utf-8') as outfile:\n",
    "    outfile.write(table6.to_latex(index=True,header=False,escape=True))\n"
   ]
  },
  {
   "source": [
    "## Create the planification plot"
   ],
   "cell_type": "markdown",
   "metadata": {}
  },
  {
   "source": [
    "### X"
   ],
   "cell_type": "markdown",
   "metadata": {}
  },
  {
   "cell_type": "code",
   "execution_count": 28,
   "metadata": {},
   "outputs": [
    {
     "output_type": "execute_result",
     "data": {
      "text/plain": [
       "array([16,  9, 32,  3, 16, 13, 16,  2, 21])"
      ]
     },
     "metadata": {},
     "execution_count": 28
    }
   ],
   "source": [
    "df_ind.loc[rowIndex,['Batches [un]']][0]"
   ]
  },
  {
   "cell_type": "code",
   "execution_count": 23,
   "metadata": {},
   "outputs": [
    {
     "output_type": "execute_result",
     "data": {
      "text/plain": [
       "   Batches [un] Product Start of USP End of USP\n",
       "0            16       3   2016-12-01 2017-05-11\n",
       "1             9       2   2017-04-14 2017-07-31\n",
       "2            32       0   2017-07-02 2018-03-28\n",
       "3             3       1   2018-03-02 2018-05-10\n",
       "4            16       3   2018-04-11 2018-09-19\n",
       "5            13       2   2018-08-23 2019-01-06\n",
       "6            16       0   2018-12-08 2019-05-14\n",
       "7             2       1   2019-04-18 2019-06-15\n",
       "8            21       3   2019-05-17 2019-11-29"
      ],
      "text/html": "<div>\n<style scoped>\n    .dataframe tbody tr th:only-of-type {\n        vertical-align: middle;\n    }\n\n    .dataframe tbody tr th {\n        vertical-align: top;\n    }\n\n    .dataframe thead th {\n        text-align: right;\n    }\n</style>\n<table border=\"1\" class=\"dataframe\">\n  <thead>\n    <tr style=\"text-align: right;\">\n      <th></th>\n      <th>Batches [un]</th>\n      <th>Product</th>\n      <th>Start of USP</th>\n      <th>End of USP</th>\n    </tr>\n  </thead>\n  <tbody>\n    <tr>\n      <th>0</th>\n      <td>16</td>\n      <td>3</td>\n      <td>2016-12-01</td>\n      <td>2017-05-11</td>\n    </tr>\n    <tr>\n      <th>1</th>\n      <td>9</td>\n      <td>2</td>\n      <td>2017-04-14</td>\n      <td>2017-07-31</td>\n    </tr>\n    <tr>\n      <th>2</th>\n      <td>32</td>\n      <td>0</td>\n      <td>2017-07-02</td>\n      <td>2018-03-28</td>\n    </tr>\n    <tr>\n      <th>3</th>\n      <td>3</td>\n      <td>1</td>\n      <td>2018-03-02</td>\n      <td>2018-05-10</td>\n    </tr>\n    <tr>\n      <th>4</th>\n      <td>16</td>\n      <td>3</td>\n      <td>2018-04-11</td>\n      <td>2018-09-19</td>\n    </tr>\n    <tr>\n      <th>5</th>\n      <td>13</td>\n      <td>2</td>\n      <td>2018-08-23</td>\n      <td>2019-01-06</td>\n    </tr>\n    <tr>\n      <th>6</th>\n      <td>16</td>\n      <td>0</td>\n      <td>2018-12-08</td>\n      <td>2019-05-14</td>\n    </tr>\n    <tr>\n      <th>7</th>\n      <td>2</td>\n      <td>1</td>\n      <td>2019-04-18</td>\n      <td>2019-06-15</td>\n    </tr>\n    <tr>\n      <th>8</th>\n      <td>21</td>\n      <td>3</td>\n      <td>2019-05-17</td>\n      <td>2019-11-29</td>\n    </tr>\n  </tbody>\n</table>\n</div>"
     },
     "metadata": {},
     "execution_count": 23
    }
   ],
   "source": [
    "rowIndex=0\n",
    "solutionName=\"X\"\n",
    "df = pd.DataFrame({\n",
    "    'Batches [un]':df_ind.loc[rowIndex,['Batches [un]']][0],\n",
    "    'Product':list(map(str,df_ind.loc[rowIndex,['Product label']][0])),\n",
    "    'Start of USP':df_ind.loc[rowIndex,['Start of USP [date]']][0],\n",
    "    'End of USP':df_ind.loc[rowIndex,['End of DSP [date]']][0]})\n",
    "df"
   ]
  },
  {
   "cell_type": "code",
   "execution_count": 35,
   "metadata": {},
   "outputs": [
    {
     "output_type": "display_data",
     "data": {
      "application/vnd.plotly.v1+json": {
       "config": {
        "plotlyServerURL": "https://plot.ly"
       },
       "data": [
        {
         "alignmentgroup": "True",
         "base": [
          "2016-12-01T00:00:00",
          "2018-04-11T00:00:00",
          "2019-05-17T00:00:00"
         ],
         "hovertemplate": "Product=%{y}<br>Start of USP=%{base}<br>End of USP=%{x}<br>Batches [un]=%{text}<extra></extra>",
         "legendgroup": "3",
         "marker": {
          "color": "#636efa"
         },
         "name": "3",
         "offsetgroup": "3",
         "orientation": "h",
         "showlegend": true,
         "text": [
          16,
          16,
          21
         ],
         "textposition": "auto",
         "type": "bar",
         "x": [
          13910400000,
          13910400000,
          16934400000
         ],
         "xaxis": "x",
         "y": [
          "3",
          "3",
          "3"
         ],
         "yaxis": "y"
        },
        {
         "alignmentgroup": "True",
         "base": [
          "2017-04-14T00:00:00",
          "2018-08-23T00:00:00"
         ],
         "hovertemplate": "Product=%{y}<br>Start of USP=%{base}<br>End of USP=%{x}<br>Batches [un]=%{text}<extra></extra>",
         "legendgroup": "2",
         "marker": {
          "color": "#EF553B"
         },
         "name": "2",
         "offsetgroup": "2",
         "orientation": "h",
         "showlegend": true,
         "text": [
          9,
          13
         ],
         "textposition": "auto",
         "type": "bar",
         "x": [
          9331200000,
          11750400000
         ],
         "xaxis": "x",
         "y": [
          "2",
          "2"
         ],
         "yaxis": "y"
        },
        {
         "alignmentgroup": "True",
         "base": [
          "2017-07-02T00:00:00",
          "2018-12-08T00:00:00"
         ],
         "hovertemplate": "Product=%{y}<br>Start of USP=%{base}<br>End of USP=%{x}<br>Batches [un]=%{text}<extra></extra>",
         "legendgroup": "0",
         "marker": {
          "color": "#00cc96"
         },
         "name": "0",
         "offsetgroup": "0",
         "orientation": "h",
         "showlegend": true,
         "text": [
          32,
          16
         ],
         "textposition": "auto",
         "type": "bar",
         "x": [
          23241600000,
          13564800000
         ],
         "xaxis": "x",
         "y": [
          "0",
          "0"
         ],
         "yaxis": "y"
        },
        {
         "alignmentgroup": "True",
         "base": [
          "2018-03-02T00:00:00",
          "2019-04-18T00:00:00"
         ],
         "hovertemplate": "Product=%{y}<br>Start of USP=%{base}<br>End of USP=%{x}<br>Batches [un]=%{text}<extra></extra>",
         "legendgroup": "1",
         "marker": {
          "color": "#ab63fa"
         },
         "name": "1",
         "offsetgroup": "1",
         "orientation": "h",
         "showlegend": true,
         "text": [
          3,
          2
         ],
         "textposition": "auto",
         "type": "bar",
         "x": [
          5961600000,
          5011200000
         ],
         "xaxis": "x",
         "y": [
          "1",
          "1"
         ],
         "yaxis": "y"
        }
       ],
       "layout": {
        "barmode": "overlay",
        "legend": {
         "title": {
          "text": "Product"
         },
         "tracegroupgap": 0
        },
        "margin": {
         "t": 60
        },
        "template": {
         "data": {
          "bar": [
           {
            "error_x": {
             "color": "#2a3f5f"
            },
            "error_y": {
             "color": "#2a3f5f"
            },
            "marker": {
             "line": {
              "color": "#E5ECF6",
              "width": 0.5
             }
            },
            "type": "bar"
           }
          ],
          "barpolar": [
           {
            "marker": {
             "line": {
              "color": "#E5ECF6",
              "width": 0.5
             }
            },
            "type": "barpolar"
           }
          ],
          "carpet": [
           {
            "aaxis": {
             "endlinecolor": "#2a3f5f",
             "gridcolor": "white",
             "linecolor": "white",
             "minorgridcolor": "white",
             "startlinecolor": "#2a3f5f"
            },
            "baxis": {
             "endlinecolor": "#2a3f5f",
             "gridcolor": "white",
             "linecolor": "white",
             "minorgridcolor": "white",
             "startlinecolor": "#2a3f5f"
            },
            "type": "carpet"
           }
          ],
          "choropleth": [
           {
            "colorbar": {
             "outlinewidth": 0,
             "ticks": ""
            },
            "type": "choropleth"
           }
          ],
          "contour": [
           {
            "colorbar": {
             "outlinewidth": 0,
             "ticks": ""
            },
            "colorscale": [
             [
              0,
              "#0d0887"
             ],
             [
              0.1111111111111111,
              "#46039f"
             ],
             [
              0.2222222222222222,
              "#7201a8"
             ],
             [
              0.3333333333333333,
              "#9c179e"
             ],
             [
              0.4444444444444444,
              "#bd3786"
             ],
             [
              0.5555555555555556,
              "#d8576b"
             ],
             [
              0.6666666666666666,
              "#ed7953"
             ],
             [
              0.7777777777777778,
              "#fb9f3a"
             ],
             [
              0.8888888888888888,
              "#fdca26"
             ],
             [
              1,
              "#f0f921"
             ]
            ],
            "type": "contour"
           }
          ],
          "contourcarpet": [
           {
            "colorbar": {
             "outlinewidth": 0,
             "ticks": ""
            },
            "type": "contourcarpet"
           }
          ],
          "heatmap": [
           {
            "colorbar": {
             "outlinewidth": 0,
             "ticks": ""
            },
            "colorscale": [
             [
              0,
              "#0d0887"
             ],
             [
              0.1111111111111111,
              "#46039f"
             ],
             [
              0.2222222222222222,
              "#7201a8"
             ],
             [
              0.3333333333333333,
              "#9c179e"
             ],
             [
              0.4444444444444444,
              "#bd3786"
             ],
             [
              0.5555555555555556,
              "#d8576b"
             ],
             [
              0.6666666666666666,
              "#ed7953"
             ],
             [
              0.7777777777777778,
              "#fb9f3a"
             ],
             [
              0.8888888888888888,
              "#fdca26"
             ],
             [
              1,
              "#f0f921"
             ]
            ],
            "type": "heatmap"
           }
          ],
          "heatmapgl": [
           {
            "colorbar": {
             "outlinewidth": 0,
             "ticks": ""
            },
            "colorscale": [
             [
              0,
              "#0d0887"
             ],
             [
              0.1111111111111111,
              "#46039f"
             ],
             [
              0.2222222222222222,
              "#7201a8"
             ],
             [
              0.3333333333333333,
              "#9c179e"
             ],
             [
              0.4444444444444444,
              "#bd3786"
             ],
             [
              0.5555555555555556,
              "#d8576b"
             ],
             [
              0.6666666666666666,
              "#ed7953"
             ],
             [
              0.7777777777777778,
              "#fb9f3a"
             ],
             [
              0.8888888888888888,
              "#fdca26"
             ],
             [
              1,
              "#f0f921"
             ]
            ],
            "type": "heatmapgl"
           }
          ],
          "histogram": [
           {
            "marker": {
             "colorbar": {
              "outlinewidth": 0,
              "ticks": ""
             }
            },
            "type": "histogram"
           }
          ],
          "histogram2d": [
           {
            "colorbar": {
             "outlinewidth": 0,
             "ticks": ""
            },
            "colorscale": [
             [
              0,
              "#0d0887"
             ],
             [
              0.1111111111111111,
              "#46039f"
             ],
             [
              0.2222222222222222,
              "#7201a8"
             ],
             [
              0.3333333333333333,
              "#9c179e"
             ],
             [
              0.4444444444444444,
              "#bd3786"
             ],
             [
              0.5555555555555556,
              "#d8576b"
             ],
             [
              0.6666666666666666,
              "#ed7953"
             ],
             [
              0.7777777777777778,
              "#fb9f3a"
             ],
             [
              0.8888888888888888,
              "#fdca26"
             ],
             [
              1,
              "#f0f921"
             ]
            ],
            "type": "histogram2d"
           }
          ],
          "histogram2dcontour": [
           {
            "colorbar": {
             "outlinewidth": 0,
             "ticks": ""
            },
            "colorscale": [
             [
              0,
              "#0d0887"
             ],
             [
              0.1111111111111111,
              "#46039f"
             ],
             [
              0.2222222222222222,
              "#7201a8"
             ],
             [
              0.3333333333333333,
              "#9c179e"
             ],
             [
              0.4444444444444444,
              "#bd3786"
             ],
             [
              0.5555555555555556,
              "#d8576b"
             ],
             [
              0.6666666666666666,
              "#ed7953"
             ],
             [
              0.7777777777777778,
              "#fb9f3a"
             ],
             [
              0.8888888888888888,
              "#fdca26"
             ],
             [
              1,
              "#f0f921"
             ]
            ],
            "type": "histogram2dcontour"
           }
          ],
          "mesh3d": [
           {
            "colorbar": {
             "outlinewidth": 0,
             "ticks": ""
            },
            "type": "mesh3d"
           }
          ],
          "parcoords": [
           {
            "line": {
             "colorbar": {
              "outlinewidth": 0,
              "ticks": ""
             }
            },
            "type": "parcoords"
           }
          ],
          "pie": [
           {
            "automargin": true,
            "type": "pie"
           }
          ],
          "scatter": [
           {
            "marker": {
             "colorbar": {
              "outlinewidth": 0,
              "ticks": ""
             }
            },
            "type": "scatter"
           }
          ],
          "scatter3d": [
           {
            "line": {
             "colorbar": {
              "outlinewidth": 0,
              "ticks": ""
             }
            },
            "marker": {
             "colorbar": {
              "outlinewidth": 0,
              "ticks": ""
             }
            },
            "type": "scatter3d"
           }
          ],
          "scattercarpet": [
           {
            "marker": {
             "colorbar": {
              "outlinewidth": 0,
              "ticks": ""
             }
            },
            "type": "scattercarpet"
           }
          ],
          "scattergeo": [
           {
            "marker": {
             "colorbar": {
              "outlinewidth": 0,
              "ticks": ""
             }
            },
            "type": "scattergeo"
           }
          ],
          "scattergl": [
           {
            "marker": {
             "colorbar": {
              "outlinewidth": 0,
              "ticks": ""
             }
            },
            "type": "scattergl"
           }
          ],
          "scattermapbox": [
           {
            "marker": {
             "colorbar": {
              "outlinewidth": 0,
              "ticks": ""
             }
            },
            "type": "scattermapbox"
           }
          ],
          "scatterpolar": [
           {
            "marker": {
             "colorbar": {
              "outlinewidth": 0,
              "ticks": ""
             }
            },
            "type": "scatterpolar"
           }
          ],
          "scatterpolargl": [
           {
            "marker": {
             "colorbar": {
              "outlinewidth": 0,
              "ticks": ""
             }
            },
            "type": "scatterpolargl"
           }
          ],
          "scatterternary": [
           {
            "marker": {
             "colorbar": {
              "outlinewidth": 0,
              "ticks": ""
             }
            },
            "type": "scatterternary"
           }
          ],
          "surface": [
           {
            "colorbar": {
             "outlinewidth": 0,
             "ticks": ""
            },
            "colorscale": [
             [
              0,
              "#0d0887"
             ],
             [
              0.1111111111111111,
              "#46039f"
             ],
             [
              0.2222222222222222,
              "#7201a8"
             ],
             [
              0.3333333333333333,
              "#9c179e"
             ],
             [
              0.4444444444444444,
              "#bd3786"
             ],
             [
              0.5555555555555556,
              "#d8576b"
             ],
             [
              0.6666666666666666,
              "#ed7953"
             ],
             [
              0.7777777777777778,
              "#fb9f3a"
             ],
             [
              0.8888888888888888,
              "#fdca26"
             ],
             [
              1,
              "#f0f921"
             ]
            ],
            "type": "surface"
           }
          ],
          "table": [
           {
            "cells": {
             "fill": {
              "color": "#EBF0F8"
             },
             "line": {
              "color": "white"
             }
            },
            "header": {
             "fill": {
              "color": "#C8D4E3"
             },
             "line": {
              "color": "white"
             }
            },
            "type": "table"
           }
          ]
         },
         "layout": {
          "annotationdefaults": {
           "arrowcolor": "#2a3f5f",
           "arrowhead": 0,
           "arrowwidth": 1
          },
          "autotypenumbers": "strict",
          "coloraxis": {
           "colorbar": {
            "outlinewidth": 0,
            "ticks": ""
           }
          },
          "colorscale": {
           "diverging": [
            [
             0,
             "#8e0152"
            ],
            [
             0.1,
             "#c51b7d"
            ],
            [
             0.2,
             "#de77ae"
            ],
            [
             0.3,
             "#f1b6da"
            ],
            [
             0.4,
             "#fde0ef"
            ],
            [
             0.5,
             "#f7f7f7"
            ],
            [
             0.6,
             "#e6f5d0"
            ],
            [
             0.7,
             "#b8e186"
            ],
            [
             0.8,
             "#7fbc41"
            ],
            [
             0.9,
             "#4d9221"
            ],
            [
             1,
             "#276419"
            ]
           ],
           "sequential": [
            [
             0,
             "#0d0887"
            ],
            [
             0.1111111111111111,
             "#46039f"
            ],
            [
             0.2222222222222222,
             "#7201a8"
            ],
            [
             0.3333333333333333,
             "#9c179e"
            ],
            [
             0.4444444444444444,
             "#bd3786"
            ],
            [
             0.5555555555555556,
             "#d8576b"
            ],
            [
             0.6666666666666666,
             "#ed7953"
            ],
            [
             0.7777777777777778,
             "#fb9f3a"
            ],
            [
             0.8888888888888888,
             "#fdca26"
            ],
            [
             1,
             "#f0f921"
            ]
           ],
           "sequentialminus": [
            [
             0,
             "#0d0887"
            ],
            [
             0.1111111111111111,
             "#46039f"
            ],
            [
             0.2222222222222222,
             "#7201a8"
            ],
            [
             0.3333333333333333,
             "#9c179e"
            ],
            [
             0.4444444444444444,
             "#bd3786"
            ],
            [
             0.5555555555555556,
             "#d8576b"
            ],
            [
             0.6666666666666666,
             "#ed7953"
            ],
            [
             0.7777777777777778,
             "#fb9f3a"
            ],
            [
             0.8888888888888888,
             "#fdca26"
            ],
            [
             1,
             "#f0f921"
            ]
           ]
          },
          "colorway": [
           "#636efa",
           "#EF553B",
           "#00cc96",
           "#ab63fa",
           "#FFA15A",
           "#19d3f3",
           "#FF6692",
           "#B6E880",
           "#FF97FF",
           "#FECB52"
          ],
          "font": {
           "color": "#2a3f5f"
          },
          "geo": {
           "bgcolor": "white",
           "lakecolor": "white",
           "landcolor": "#E5ECF6",
           "showlakes": true,
           "showland": true,
           "subunitcolor": "white"
          },
          "hoverlabel": {
           "align": "left"
          },
          "hovermode": "closest",
          "mapbox": {
           "style": "light"
          },
          "paper_bgcolor": "white",
          "plot_bgcolor": "#E5ECF6",
          "polar": {
           "angularaxis": {
            "gridcolor": "white",
            "linecolor": "white",
            "ticks": ""
           },
           "bgcolor": "#E5ECF6",
           "radialaxis": {
            "gridcolor": "white",
            "linecolor": "white",
            "ticks": ""
           }
          },
          "scene": {
           "xaxis": {
            "backgroundcolor": "#E5ECF6",
            "gridcolor": "white",
            "gridwidth": 2,
            "linecolor": "white",
            "showbackground": true,
            "ticks": "",
            "zerolinecolor": "white"
           },
           "yaxis": {
            "backgroundcolor": "#E5ECF6",
            "gridcolor": "white",
            "gridwidth": 2,
            "linecolor": "white",
            "showbackground": true,
            "ticks": "",
            "zerolinecolor": "white"
           },
           "zaxis": {
            "backgroundcolor": "#E5ECF6",
            "gridcolor": "white",
            "gridwidth": 2,
            "linecolor": "white",
            "showbackground": true,
            "ticks": "",
            "zerolinecolor": "white"
           }
          },
          "shapedefaults": {
           "line": {
            "color": "#2a3f5f"
           }
          },
          "ternary": {
           "aaxis": {
            "gridcolor": "white",
            "linecolor": "white",
            "ticks": ""
           },
           "baxis": {
            "gridcolor": "white",
            "linecolor": "white",
            "ticks": ""
           },
           "bgcolor": "#E5ECF6",
           "caxis": {
            "gridcolor": "white",
            "linecolor": "white",
            "ticks": ""
           }
          },
          "title": {
           "x": 0.05
          },
          "xaxis": {
           "automargin": true,
           "gridcolor": "white",
           "linecolor": "white",
           "ticks": "",
           "title": {
            "standoff": 15
           },
           "zerolinecolor": "white",
           "zerolinewidth": 2
          },
          "yaxis": {
           "automargin": true,
           "gridcolor": "white",
           "linecolor": "white",
           "ticks": "",
           "title": {
            "standoff": 15
           },
           "zerolinecolor": "white",
           "zerolinewidth": 2
          }
         }
        },
        "title": {
         "text": "Product Planning solution X",
         "x": 0.5,
         "xanchor": "center",
         "y": 0.95,
         "yanchor": "top"
        },
        "xaxis": {
         "anchor": "y",
         "domain": [
          0,
          1
         ],
         "type": "date"
        },
        "yaxis": {
         "anchor": "x",
         "autorange": "reversed",
         "categoryarray": [
          "1",
          "0",
          "2",
          "3"
         ],
         "categoryorder": "array",
         "domain": [
          0,
          1
         ],
         "title": {
          "text": "Product"
         }
        }
       }
      }
     },
     "metadata": {}
    }
   ],
   "source": [
    "import plotly.express as px\n",
    "import pandas as pd\n",
    "fig = px.timeline(df, x_start=\"Start of USP\", x_end=\"End of USP\", y=\"Product\", color=\"Product\",text=\"Batches [un]\")\n",
    "fig.update_yaxes(autorange=\"reversed\")\n",
    "fig.update_layout(\n",
    "    title={\n",
    "        'text':f\"Product Planning solution {solutionName}\",\n",
    "        'y':0.95,\n",
    "        'x':0.5,\n",
    "        'xanchor': 'center',\n",
    "        'yanchor': 'top'})\n",
    "fig.write_image(os.path.join(root_path_report_figures,f\"planning{solutionName}.png\"))\n",
    "fig.show()"
   ]
  },
  {
   "source": [
    "### Y"
   ],
   "cell_type": "markdown",
   "metadata": {}
  }
 ]
}