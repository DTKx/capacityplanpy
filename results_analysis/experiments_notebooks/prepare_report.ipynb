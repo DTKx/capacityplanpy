{
 "metadata": {
  "language_info": {
   "codemirror_mode": {
    "name": "ipython",
    "version": 3
   },
   "file_extension": ".py",
   "mimetype": "text/x-python",
   "name": "python",
   "nbconvert_exporter": "python",
   "pygments_lexer": "ipython3",
   "version": "3.8.3-final"
  },
  "orig_nbformat": 2,
  "kernelspec": {
   "name": "python3",
   "display_name": "Python 3.8.3 64-bit ('comp_evol': conda)",
   "metadata": {
    "interpreter": {
     "hash": "e3d2e5b49fca8ece28e8612ddb42da6ec98316623bc11967ddd6e72144cb4ad0"
    }
   }
  }
 },
 "nbformat": 4,
 "nbformat_minor": 2,
 "cells": [
  {
   "source": [
    "# Reproduction of Article\n",
    "1. Steps:\n",
    "    1. Import Data\n",
    "    1. Initial Data Exploration\n",
    "        1. Data Summary Table\n",
    "    1. Comparison with article Data"
   ],
   "cell_type": "markdown",
   "metadata": {}
  },
  {
   "cell_type": "code",
   "execution_count": 23,
   "metadata": {},
   "outputs": [],
   "source": [
    "import pickle\n",
    "import numpy as np\n",
    "import pandas as pd\n",
    "import matplotlib.pyplot as plt\n",
    "import copy\n",
    "import codecs\n",
    "root_path_report=\"C:\\\\Users\\\\Debora\\\\Documents\\\\01_UFU_local\\\\01_comp_evolutiva\\\\05_trabalho3\\\\03_relatorio\\\\springer_violacoes_backlog\\\\tables\\\\\"\n",
    "root_path_beamer=\"C:\\\\Users\\\\Debora\\\\Documents\\\\01_UFU_local\\\\01_comp_evolutiva\\\\05_trabalho3\\\\04_apresentacao\\\\focus-beamertheme-master\\\\focus-beamertheme-master\\\\tables\\\\\"\n",
    "root_path=\"C:\\\\Users\\\\Debora\\\\Documents\\\\01_UFU_local\\\\01_comp_evolutiva\\\\05_trabalho3\\\\01_dados\\\\02_analysis\\\\\"\n",
    "root_path_data=\"C:\\\\Users\\\\Debora\\\\Documents\\\\01_UFU_local\\\\01_comp_evolutiva\\\\05_trabalho3\\\\01_dados\\\\02_analysis\\\\25-28\\\\\""
   ]
  },
  {
   "source": [
    "## Parse Data"
   ],
   "cell_type": "markdown",
   "metadata": {}
  },
  {
   "source": [
    "# # Export table to txt for latex\n",
    "# root_path_report = \"C:\\\\Users\\\\debor\\\\Documents\\\\01_UFU_local\\\\01_comp_evolutiva\\\\01_trabalho_1\\\\03_relatorio\\\\template-latex\\\\tables\\\\\"\n",
    "# file_name = \"representacao.txt\"\n",
    "# path = root_path_report + file_name\n",
    "# with codecs.open(path, 'w', 'utf-8') as outfile:\n",
    "#     outfile.write(tabela_df.to_latex(index=False))\n",
    "\n",
    "# Open pickle Exec\n",
    "file_name='v_0_exec.pkl'\n",
    "# file_name='step_v_0step_exec.pkl'\n",
    "path=root_path_data+file_name\n",
    "infile = open(path,'rb')\n",
    "ds_exec= pickle.load(infile)\n",
    "infile.close()\n",
    "\n",
    "# Open pickle dict class object pop\n",
    "file_name='v_0_id.pkl'\n",
    "# file_name='step_v_0_id.pkl'\n",
    "path=root_path_data+file_name\n",
    "infile = open(path,'rb')\n",
    "ds_ind= pickle.load(infile)\n",
    "infile.close()\n",
    "\n",
    "# Unpack Data Execution\n",
    "# values_exec=[]\n",
    "# for key,value in ds_exec.items():\n",
    "#     # headers=[\"Execution\",\"Variant\",\"Hipervolume\",\"Pareto Front\"]\n",
    "#     values_exec.append([key[1],value[0],value[1],value[2]])\n",
    "headers=[\"Execution\",\"Variant\",\"Hipervolume\",\"Pareto Front\"]\n",
    "df_exec=pd.DataFrame(ds_exec,columns=headers)\n",
    "\n",
    "# Unpack Data per Ind\n",
    "# values_ind=[]\n",
    "# for key,value in ds_ind.items():\n",
    "#     # values_ind.append(value)\n",
    "#     values_ind.append(value[0])\n",
    "#     values_ind.append(value[1])\n",
    "headers=[\"Execution\",\"Variation\",\"Solution\",\"Total throughput [kg]\", \"Max total backlog [kg]\", \"Mean total backlog [kg]\",\"std dev total backlog [kg]\", \"Median total backlog [kg]\",\"Min total backlog [kg]\", \"P(total backlog <= 0 kg)\",\"Max total inventory deficit [kg]\", \"Mean total inventory deficit [kg]\",\"std dev inventory deficit [kg]\", \"Median total inventory deficit [kg]\", \"Min total inventory deficit [kg]\",\"Total Deficit [kg]\",\"Batches [un]\",\"Product label\",\"Start of USP [date]\",\"End of DSP [date]\"]\n",
    "\n",
    "df_ind=pd.DataFrame(ds_ind,columns=headers)\n",
    "df_ind"
   ],
   "cell_type": "code",
   "metadata": {},
   "execution_count": 24,
   "outputs": [
    {
     "output_type": "execute_result",
     "data": {
      "text/plain": [
       "   Execution                                          Variation Solution  \\\n",
       "0          0  front_nsga,tour_vio,rein_vio,vio_back,calc_mon...        X   \n",
       "1          0  front_nsga,tour_vio,rein_vio,vio_back,calc_mon...        Y   \n",
       "\n",
       "   Total throughput [kg]  Max total backlog [kg]  Mean total backlog [kg]  \\\n",
       "0                  579.1               11.510280                 0.954276   \n",
       "1                  594.2               10.758521                 0.862772   \n",
       "\n",
       "   std dev total backlog [kg]  Median total backlog [kg]  \\\n",
       "0                    1.611787                        0.0   \n",
       "1                    1.538422                        0.0   \n",
       "\n",
       "   Min total backlog [kg]  P(total backlog <= 0 kg)  \\\n",
       "0                     0.0                     0.514   \n",
       "1                     0.0                     0.550   \n",
       "\n",
       "   Max total inventory deficit [kg]  Mean total inventory deficit [kg]  \\\n",
       "0                        707.568993                         522.932321   \n",
       "1                        785.014519                         541.405629   \n",
       "\n",
       "   std dev inventory deficit [kg]  Median total inventory deficit [kg]  \\\n",
       "0                       55.176101                           522.764170   \n",
       "1                       64.565966                           538.528924   \n",
       "\n",
       "   Min total inventory deficit [kg]  Total Deficit [kg]  \\\n",
       "0                        363.563667          522.764170   \n",
       "1                        353.727384          538.528924   \n",
       "\n",
       "                        Batches [un]                Product label  \\\n",
       "0  [16, 9, 32, 3, 16, 13, 16, 2, 21]  [3, 2, 0, 1, 3, 2, 0, 1, 3]   \n",
       "1     [16, 9, 31, 4, 14, 13, 15, 28]     [3, 2, 0, 1, 3, 2, 0, 3]   \n",
       "\n",
       "                                 Start of USP [date]  \\\n",
       "0  [2016-12-01, 2017-04-14, 2017-07-02, 2018-03-0...   \n",
       "1  [2016-12-01, 2017-04-14, 2017-07-02, 2018-02-2...   \n",
       "\n",
       "                                   End of DSP [date]  \n",
       "0  [2017-05-11, 2017-07-31, 2018-03-28, 2018-05-1...  \n",
       "1  [2017-05-11, 2017-07-31, 2018-03-21, 2018-05-1...  "
      ],
      "text/html": "<div>\n<style scoped>\n    .dataframe tbody tr th:only-of-type {\n        vertical-align: middle;\n    }\n\n    .dataframe tbody tr th {\n        vertical-align: top;\n    }\n\n    .dataframe thead th {\n        text-align: right;\n    }\n</style>\n<table border=\"1\" class=\"dataframe\">\n  <thead>\n    <tr style=\"text-align: right;\">\n      <th></th>\n      <th>Execution</th>\n      <th>Variation</th>\n      <th>Solution</th>\n      <th>Total throughput [kg]</th>\n      <th>Max total backlog [kg]</th>\n      <th>Mean total backlog [kg]</th>\n      <th>std dev total backlog [kg]</th>\n      <th>Median total backlog [kg]</th>\n      <th>Min total backlog [kg]</th>\n      <th>P(total backlog &lt;= 0 kg)</th>\n      <th>Max total inventory deficit [kg]</th>\n      <th>Mean total inventory deficit [kg]</th>\n      <th>std dev inventory deficit [kg]</th>\n      <th>Median total inventory deficit [kg]</th>\n      <th>Min total inventory deficit [kg]</th>\n      <th>Total Deficit [kg]</th>\n      <th>Batches [un]</th>\n      <th>Product label</th>\n      <th>Start of USP [date]</th>\n      <th>End of DSP [date]</th>\n    </tr>\n  </thead>\n  <tbody>\n    <tr>\n      <th>0</th>\n      <td>0</td>\n      <td>front_nsga,tour_vio,rein_vio,vio_back,calc_mon...</td>\n      <td>X</td>\n      <td>579.1</td>\n      <td>11.510280</td>\n      <td>0.954276</td>\n      <td>1.611787</td>\n      <td>0.0</td>\n      <td>0.0</td>\n      <td>0.514</td>\n      <td>707.568993</td>\n      <td>522.932321</td>\n      <td>55.176101</td>\n      <td>522.764170</td>\n      <td>363.563667</td>\n      <td>522.764170</td>\n      <td>[16, 9, 32, 3, 16, 13, 16, 2, 21]</td>\n      <td>[3, 2, 0, 1, 3, 2, 0, 1, 3]</td>\n      <td>[2016-12-01, 2017-04-14, 2017-07-02, 2018-03-0...</td>\n      <td>[2017-05-11, 2017-07-31, 2018-03-28, 2018-05-1...</td>\n    </tr>\n    <tr>\n      <th>1</th>\n      <td>0</td>\n      <td>front_nsga,tour_vio,rein_vio,vio_back,calc_mon...</td>\n      <td>Y</td>\n      <td>594.2</td>\n      <td>10.758521</td>\n      <td>0.862772</td>\n      <td>1.538422</td>\n      <td>0.0</td>\n      <td>0.0</td>\n      <td>0.550</td>\n      <td>785.014519</td>\n      <td>541.405629</td>\n      <td>64.565966</td>\n      <td>538.528924</td>\n      <td>353.727384</td>\n      <td>538.528924</td>\n      <td>[16, 9, 31, 4, 14, 13, 15, 28]</td>\n      <td>[3, 2, 0, 1, 3, 2, 0, 3]</td>\n      <td>[2016-12-01, 2017-04-14, 2017-07-02, 2018-02-2...</td>\n      <td>[2017-05-11, 2017-07-31, 2018-03-21, 2018-05-1...</td>\n    </tr>\n  </tbody>\n</table>\n</div>"
     },
     "metadata": {},
     "execution_count": 24
    }
   ]
  },
  {
   "cell_type": "code",
   "execution_count": 25,
   "metadata": {},
   "outputs": [],
   "source": [
    "# Appends to external CSV File\n",
    "\n",
    "# Exports as csv\n",
    "# file_name='df_exec.csv'\n",
    "file_name='df_exec.csv'\n",
    "path=root_path_data+file_name\n",
    "headers=[\"Execution\",\"Variant\",\"Hipervolume\",\"Pareto Front\"]\n",
    "# Overwrites\n",
    "df_exec.to_csv(path,header=headers)\n",
    "# # Appends\n",
    "# df_exec.to_csv(path,header=False,mode=\"a\")\n",
    "\n",
    "# Creates a csv with article X and Y results in the folder\n",
    "import shutil\n",
    "file_name_o='df_ind_model.csv'\n",
    "path_o=root_path+file_name_o\n",
    "file_name_t='df_ind.csv'\n",
    "path_t=root_path_data+file_name_t\n",
    "shutil.copyfile(path_o, path_t)\n",
    "\n",
    "# Exports as csv\n",
    "# headers=[\"Execution\",\"Variation\",\"Solution\",\"Total throughput [kg]\", \"Max total backlog [kg]\", \"Mean total backlog [kg]\",\"std dev total backlog [kg]\", \"Median total backlog [kg]\",\"Min total backlog [kg]\", \"P(total backlog ≤ 0 kg)\",\"Max total inventory deficit [kg]\", \"Mean total inventory deficit [kg]\",\"std dev inventory deficit [kg]\", \"Median total inventory deficit [kg]\", \"Min total inventory deficit [kg]\",\"Total Deficit [kg]\",\"Batches [un]\",\"Product label\",\"Start of USP [date]\",\"End of DSP [date]\"]\n",
    "# # Overwrites\n",
    "# df_ind.to_csv(path,header=headers)\n",
    "# Appends\n",
    "df_ind.to_csv(path_t,header=False,mode=\"a\")"
   ]
  },
  {
   "source": [
    "### Import full dataset with Article Data"
   ],
   "cell_type": "markdown",
   "metadata": {}
  },
  {
   "cell_type": "code",
   "execution_count": 26,
   "metadata": {},
   "outputs": [],
   "source": [
    "# Import as csv\n",
    "file_name='df_exec.csv'\n",
    "path=root_path_data+file_name\n",
    "df_fexec=pd.read_csv(path,index_col=0)"
   ]
  },
  {
   "cell_type": "code",
   "execution_count": 27,
   "metadata": {},
   "outputs": [],
   "source": [
    "# Import as csv\n",
    "file_name='df_ind.csv'\n",
    "path=root_path_data+file_name\n",
    "df_find=pd.read_csv(path,index_col=0)"
   ]
  },
  {
   "source": [
    "## Initial Data Exploration"
   ],
   "cell_type": "markdown",
   "metadata": {}
  },
  {
   "cell_type": "code",
   "execution_count": 28,
   "metadata": {},
   "outputs": [
    {
     "output_type": "execute_result",
     "data": {
      "text/plain": [
       "   Execution                                            Variant  Hipervolume  \\\n",
       "0          0  front_nsga,tour_vio,rein_vio,vio_back,calc_mon...     0.978836   \n",
       "\n",
       "                                        Pareto Front  \n",
       "0  [[579.1        522.76417001]\\n [594.2        5...  "
      ],
      "text/html": "<div>\n<style scoped>\n    .dataframe tbody tr th:only-of-type {\n        vertical-align: middle;\n    }\n\n    .dataframe tbody tr th {\n        vertical-align: top;\n    }\n\n    .dataframe thead th {\n        text-align: right;\n    }\n</style>\n<table border=\"1\" class=\"dataframe\">\n  <thead>\n    <tr style=\"text-align: right;\">\n      <th></th>\n      <th>Execution</th>\n      <th>Variant</th>\n      <th>Hipervolume</th>\n      <th>Pareto Front</th>\n    </tr>\n  </thead>\n  <tbody>\n    <tr>\n      <th>0</th>\n      <td>0</td>\n      <td>front_nsga,tour_vio,rein_vio,vio_back,calc_mon...</td>\n      <td>0.978836</td>\n      <td>[[579.1        522.76417001]\\n [594.2        5...</td>\n    </tr>\n  </tbody>\n</table>\n</div>"
     },
     "metadata": {},
     "execution_count": 28
    }
   ],
   "source": [
    "df_fexec.head()"
   ]
  },
  {
   "cell_type": "code",
   "execution_count": 29,
   "metadata": {},
   "outputs": [
    {
     "output_type": "execute_result",
     "data": {
      "text/plain": [
       "       Execution  Hipervolume\n",
       "count        1.0     1.000000\n",
       "mean         0.0     0.978836\n",
       "std          NaN          NaN\n",
       "min          0.0     0.978836\n",
       "25%          0.0     0.978836\n",
       "50%          0.0     0.978836\n",
       "75%          0.0     0.978836\n",
       "max          0.0     0.978836"
      ],
      "text/html": "<div>\n<style scoped>\n    .dataframe tbody tr th:only-of-type {\n        vertical-align: middle;\n    }\n\n    .dataframe tbody tr th {\n        vertical-align: top;\n    }\n\n    .dataframe thead th {\n        text-align: right;\n    }\n</style>\n<table border=\"1\" class=\"dataframe\">\n  <thead>\n    <tr style=\"text-align: right;\">\n      <th></th>\n      <th>Execution</th>\n      <th>Hipervolume</th>\n    </tr>\n  </thead>\n  <tbody>\n    <tr>\n      <th>count</th>\n      <td>1.0</td>\n      <td>1.000000</td>\n    </tr>\n    <tr>\n      <th>mean</th>\n      <td>0.0</td>\n      <td>0.978836</td>\n    </tr>\n    <tr>\n      <th>std</th>\n      <td>NaN</td>\n      <td>NaN</td>\n    </tr>\n    <tr>\n      <th>min</th>\n      <td>0.0</td>\n      <td>0.978836</td>\n    </tr>\n    <tr>\n      <th>25%</th>\n      <td>0.0</td>\n      <td>0.978836</td>\n    </tr>\n    <tr>\n      <th>50%</th>\n      <td>0.0</td>\n      <td>0.978836</td>\n    </tr>\n    <tr>\n      <th>75%</th>\n      <td>0.0</td>\n      <td>0.978836</td>\n    </tr>\n    <tr>\n      <th>max</th>\n      <td>0.0</td>\n      <td>0.978836</td>\n    </tr>\n  </tbody>\n</table>\n</div>"
     },
     "metadata": {},
     "execution_count": 29
    }
   ],
   "source": [
    "df_fexec.describe()"
   ]
  },
  {
   "cell_type": "code",
   "execution_count": 30,
   "metadata": {},
   "outputs": [
    {
     "output_type": "execute_result",
     "data": {
      "text/plain": [
       "      Execution                                          Variation Solution  \\\n",
       "Index                                                                         \n",
       "0       Article                                            Article        X   \n",
       "1       Article                                            Article        Y   \n",
       "0             0  front_nsga,tour_vio,rein_vio,vio_back,calc_mon...        X   \n",
       "1             0  front_nsga,tour_vio,rein_vio,vio_back,calc_mon...        Y   \n",
       "\n",
       "       Total throughput [kg]  Max total backlog [kg]  Mean total backlog [kg]  \\\n",
       "Index                                                                           \n",
       "0                      539.3                8.200000                 0.200000   \n",
       "1                      601.5               16.000000                 7.100000   \n",
       "0                      579.1               11.510280                 0.954276   \n",
       "1                      594.2               10.758521                 0.862772   \n",
       "\n",
       "       std dev total backlog [kg]  Median total backlog [kg]  \\\n",
       "Index                                                          \n",
       "0                        0.600000                        0.0   \n",
       "1                        4.300000                        0.0   \n",
       "0                        1.611787                        0.0   \n",
       "1                        1.538422                        0.0   \n",
       "\n",
       "       Min total backlog [kg]  P(total backlog <= 0 kg)  \\\n",
       "Index                                                     \n",
       "0                         0.0                     0.820   \n",
       "1                         0.0                     0.500   \n",
       "0                         0.0                     0.514   \n",
       "1                         0.0                     0.550   \n",
       "\n",
       "       Max total inventory deficit [kg]  Mean total inventory deficit [kg]  \\\n",
       "Index                                                                        \n",
       "0                            683.400000                         432.600000   \n",
       "1                            786.000000                         558.600000   \n",
       "0                            707.568993                         522.932321   \n",
       "1                            785.014519                         541.405629   \n",
       "\n",
       "       std dev inventory deficit [kg]  Median total inventory deficit [kg]  \\\n",
       "Index                                                                        \n",
       "0                           58.600000                           424.400000   \n",
       "1                           59.000000                           551.700000   \n",
       "0                           55.176101                           522.764170   \n",
       "1                           64.565966                           538.528924   \n",
       "\n",
       "       Min total inventory deficit [kg]  Total Deficit [kg]  \\\n",
       "Index                                                         \n",
       "0                            259.400000                 NaN   \n",
       "1                            355.600000                 NaN   \n",
       "0                            363.563667          522.764170   \n",
       "1                            353.727384          538.528924   \n",
       "\n",
       "                           Batches [un]              Product label  \\\n",
       "Index                                                                \n",
       "0      [15 10 29 3 15 11 15 6 2 2 2 10]  [3 2 0 1 3 2 1 3 2 1 2 3]   \n",
       "1               [12 13 24 18 5 19 9 30]          [3 2 0 3 1 0 2 3]   \n",
       "0          [16  9 32  3 16 13 16  2 21]        [3 2 0 1 3 2 0 1 3]   \n",
       "1             [16  9 31  4 14 13 15 28]          [3 2 0 1 3 2 0 3]   \n",
       "\n",
       "                                     Start of USP [date]  \\\n",
       "Index                                                      \n",
       "0                                                    NaN   \n",
       "1                                                    NaN   \n",
       "0      ['2016-12-01' '2017-04-14' '2017-07-02' '2018-...   \n",
       "1      ['2016-12-01' '2017-04-14' '2017-07-02' '2018-...   \n",
       "\n",
       "                                       End of DSP [date]  \n",
       "Index                                                     \n",
       "0                                                    NaN  \n",
       "1                                                    NaN  \n",
       "0      ['2017-05-11' '2017-07-31' '2018-03-28' '2018-...  \n",
       "1      ['2017-05-11' '2017-07-31' '2018-03-21' '2018-...  "
      ],
      "text/html": "<div>\n<style scoped>\n    .dataframe tbody tr th:only-of-type {\n        vertical-align: middle;\n    }\n\n    .dataframe tbody tr th {\n        vertical-align: top;\n    }\n\n    .dataframe thead th {\n        text-align: right;\n    }\n</style>\n<table border=\"1\" class=\"dataframe\">\n  <thead>\n    <tr style=\"text-align: right;\">\n      <th></th>\n      <th>Execution</th>\n      <th>Variation</th>\n      <th>Solution</th>\n      <th>Total throughput [kg]</th>\n      <th>Max total backlog [kg]</th>\n      <th>Mean total backlog [kg]</th>\n      <th>std dev total backlog [kg]</th>\n      <th>Median total backlog [kg]</th>\n      <th>Min total backlog [kg]</th>\n      <th>P(total backlog &lt;= 0 kg)</th>\n      <th>Max total inventory deficit [kg]</th>\n      <th>Mean total inventory deficit [kg]</th>\n      <th>std dev inventory deficit [kg]</th>\n      <th>Median total inventory deficit [kg]</th>\n      <th>Min total inventory deficit [kg]</th>\n      <th>Total Deficit [kg]</th>\n      <th>Batches [un]</th>\n      <th>Product label</th>\n      <th>Start of USP [date]</th>\n      <th>End of DSP [date]</th>\n    </tr>\n    <tr>\n      <th>Index</th>\n      <th></th>\n      <th></th>\n      <th></th>\n      <th></th>\n      <th></th>\n      <th></th>\n      <th></th>\n      <th></th>\n      <th></th>\n      <th></th>\n      <th></th>\n      <th></th>\n      <th></th>\n      <th></th>\n      <th></th>\n      <th></th>\n      <th></th>\n      <th></th>\n      <th></th>\n      <th></th>\n    </tr>\n  </thead>\n  <tbody>\n    <tr>\n      <th>0</th>\n      <td>Article</td>\n      <td>Article</td>\n      <td>X</td>\n      <td>539.3</td>\n      <td>8.200000</td>\n      <td>0.200000</td>\n      <td>0.600000</td>\n      <td>0.0</td>\n      <td>0.0</td>\n      <td>0.820</td>\n      <td>683.400000</td>\n      <td>432.600000</td>\n      <td>58.600000</td>\n      <td>424.400000</td>\n      <td>259.400000</td>\n      <td>NaN</td>\n      <td>[15 10 29 3 15 11 15 6 2 2 2 10]</td>\n      <td>[3 2 0 1 3 2 1 3 2 1 2 3]</td>\n      <td>NaN</td>\n      <td>NaN</td>\n    </tr>\n    <tr>\n      <th>1</th>\n      <td>Article</td>\n      <td>Article</td>\n      <td>Y</td>\n      <td>601.5</td>\n      <td>16.000000</td>\n      <td>7.100000</td>\n      <td>4.300000</td>\n      <td>0.0</td>\n      <td>0.0</td>\n      <td>0.500</td>\n      <td>786.000000</td>\n      <td>558.600000</td>\n      <td>59.000000</td>\n      <td>551.700000</td>\n      <td>355.600000</td>\n      <td>NaN</td>\n      <td>[12 13 24 18 5 19 9 30]</td>\n      <td>[3 2 0 3 1 0 2 3]</td>\n      <td>NaN</td>\n      <td>NaN</td>\n    </tr>\n    <tr>\n      <th>0</th>\n      <td>0</td>\n      <td>front_nsga,tour_vio,rein_vio,vio_back,calc_mon...</td>\n      <td>X</td>\n      <td>579.1</td>\n      <td>11.510280</td>\n      <td>0.954276</td>\n      <td>1.611787</td>\n      <td>0.0</td>\n      <td>0.0</td>\n      <td>0.514</td>\n      <td>707.568993</td>\n      <td>522.932321</td>\n      <td>55.176101</td>\n      <td>522.764170</td>\n      <td>363.563667</td>\n      <td>522.764170</td>\n      <td>[16  9 32  3 16 13 16  2 21]</td>\n      <td>[3 2 0 1 3 2 0 1 3]</td>\n      <td>['2016-12-01' '2017-04-14' '2017-07-02' '2018-...</td>\n      <td>['2017-05-11' '2017-07-31' '2018-03-28' '2018-...</td>\n    </tr>\n    <tr>\n      <th>1</th>\n      <td>0</td>\n      <td>front_nsga,tour_vio,rein_vio,vio_back,calc_mon...</td>\n      <td>Y</td>\n      <td>594.2</td>\n      <td>10.758521</td>\n      <td>0.862772</td>\n      <td>1.538422</td>\n      <td>0.0</td>\n      <td>0.0</td>\n      <td>0.550</td>\n      <td>785.014519</td>\n      <td>541.405629</td>\n      <td>64.565966</td>\n      <td>538.528924</td>\n      <td>353.727384</td>\n      <td>538.528924</td>\n      <td>[16  9 31  4 14 13 15 28]</td>\n      <td>[3 2 0 1 3 2 0 3]</td>\n      <td>['2016-12-01' '2017-04-14' '2017-07-02' '2018-...</td>\n      <td>['2017-05-11' '2017-07-31' '2018-03-21' '2018-...</td>\n    </tr>\n  </tbody>\n</table>\n</div>"
     },
     "metadata": {},
     "execution_count": 30
    }
   ],
   "source": [
    "df_find.head()"
   ]
  },
  {
   "cell_type": "code",
   "execution_count": 31,
   "metadata": {},
   "outputs": [
    {
     "output_type": "execute_result",
     "data": {
      "text/plain": [
       "Index(['Execution', 'Variation', 'Solution', 'Total throughput [kg]',\n",
       "       'Max total backlog [kg]', 'Mean total backlog [kg]',\n",
       "       'std dev total backlog [kg]', 'Median total backlog [kg]',\n",
       "       'Min total backlog [kg]', 'P(total backlog <= 0 kg)',\n",
       "       'Max total inventory deficit [kg]', 'Mean total inventory deficit [kg]',\n",
       "       'std dev inventory deficit [kg]', 'Median total inventory deficit [kg]',\n",
       "       'Min total inventory deficit [kg]', 'Total Deficit [kg]',\n",
       "       'Batches [un]', 'Product label', 'Start of USP [date]',\n",
       "       'End of DSP [date]'],\n",
       "      dtype='object')"
      ]
     },
     "metadata": {},
     "execution_count": 31
    }
   ],
   "source": [
    "df_find.columns"
   ]
  },
  {
   "cell_type": "code",
   "execution_count": 32,
   "metadata": {},
   "outputs": [],
   "source": [
    "# table6=df_find.pivot(index=['Variation', 'Solution'])"
   ]
  },
  {
   "cell_type": "code",
   "execution_count": 33,
   "metadata": {},
   "outputs": [
    {
     "output_type": "execute_result",
     "data": {
      "text/plain": [
       "                                                             Max total backlog [kg]  \\\n",
       "Variation                                          Solution                           \n",
       "Article                                            X                       8.200000   \n",
       "                                                   Y                      16.000000   \n",
       "front_nsga,tour_vio,rein_vio,vio_back,calc_mont... X                      11.510280   \n",
       "                                                   Y                      10.758521   \n",
       "\n",
       "                                                             Max total inventory deficit [kg]  \\\n",
       "Variation                                          Solution                                     \n",
       "Article                                            X                               683.400000   \n",
       "                                                   Y                               786.000000   \n",
       "front_nsga,tour_vio,rein_vio,vio_back,calc_mont... X                               707.568993   \n",
       "                                                   Y                               785.014519   \n",
       "\n",
       "                                                             Mean total backlog [kg]  \\\n",
       "Variation                                          Solution                            \n",
       "Article                                            X                        0.200000   \n",
       "                                                   Y                        7.100000   \n",
       "front_nsga,tour_vio,rein_vio,vio_back,calc_mont... X                        0.954276   \n",
       "                                                   Y                        0.862772   \n",
       "\n",
       "                                                             Mean total inventory deficit [kg]  \\\n",
       "Variation                                          Solution                                      \n",
       "Article                                            X                                432.600000   \n",
       "                                                   Y                                558.600000   \n",
       "front_nsga,tour_vio,rein_vio,vio_back,calc_mont... X                                522.932321   \n",
       "                                                   Y                                541.405629   \n",
       "\n",
       "                                                             Median total backlog [kg]  \\\n",
       "Variation                                          Solution                              \n",
       "Article                                            X                               0.0   \n",
       "                                                   Y                               0.0   \n",
       "front_nsga,tour_vio,rein_vio,vio_back,calc_mont... X                               0.0   \n",
       "                                                   Y                               0.0   \n",
       "\n",
       "                                                             Median total inventory deficit [kg]  \\\n",
       "Variation                                          Solution                                        \n",
       "Article                                            X                                  424.400000   \n",
       "                                                   Y                                  551.700000   \n",
       "front_nsga,tour_vio,rein_vio,vio_back,calc_mont... X                                  522.764170   \n",
       "                                                   Y                                  538.528924   \n",
       "\n",
       "                                                             Min total backlog [kg]  \\\n",
       "Variation                                          Solution                           \n",
       "Article                                            X                            0.0   \n",
       "                                                   Y                            0.0   \n",
       "front_nsga,tour_vio,rein_vio,vio_back,calc_mont... X                            0.0   \n",
       "                                                   Y                            0.0   \n",
       "\n",
       "                                                             Min total inventory deficit [kg]  \\\n",
       "Variation                                          Solution                                     \n",
       "Article                                            X                               259.400000   \n",
       "                                                   Y                               355.600000   \n",
       "front_nsga,tour_vio,rein_vio,vio_back,calc_mont... X                               363.563667   \n",
       "                                                   Y                               353.727384   \n",
       "\n",
       "                                                             P(total backlog <= 0 kg)  \\\n",
       "Variation                                          Solution                             \n",
       "Article                                            X                            0.820   \n",
       "                                                   Y                            0.500   \n",
       "front_nsga,tour_vio,rein_vio,vio_back,calc_mont... X                            0.514   \n",
       "                                                   Y                            0.550   \n",
       "\n",
       "                                                             Total Deficit [kg]  \\\n",
       "Variation                                          Solution                       \n",
       "Article                                            X                        NaN   \n",
       "                                                   Y                        NaN   \n",
       "front_nsga,tour_vio,rein_vio,vio_back,calc_mont... X                 522.764170   \n",
       "                                                   Y                 538.528924   \n",
       "\n",
       "                                                             Total throughput [kg]  \\\n",
       "Variation                                          Solution                          \n",
       "Article                                            X                         539.3   \n",
       "                                                   Y                         601.5   \n",
       "front_nsga,tour_vio,rein_vio,vio_back,calc_mont... X                         579.1   \n",
       "                                                   Y                         594.2   \n",
       "\n",
       "                                                             std dev inventory deficit [kg]  \\\n",
       "Variation                                          Solution                                   \n",
       "Article                                            X                              58.600000   \n",
       "                                                   Y                              59.000000   \n",
       "front_nsga,tour_vio,rein_vio,vio_back,calc_mont... X                              55.176101   \n",
       "                                                   Y                              64.565966   \n",
       "\n",
       "                                                             std dev total backlog [kg]  \n",
       "Variation                                          Solution                              \n",
       "Article                                            X                           0.600000  \n",
       "                                                   Y                           4.300000  \n",
       "front_nsga,tour_vio,rein_vio,vio_back,calc_mont... X                           1.611787  \n",
       "                                                   Y                           1.538422  "
      ],
      "text/html": "<div>\n<style scoped>\n    .dataframe tbody tr th:only-of-type {\n        vertical-align: middle;\n    }\n\n    .dataframe tbody tr th {\n        vertical-align: top;\n    }\n\n    .dataframe thead th {\n        text-align: right;\n    }\n</style>\n<table border=\"1\" class=\"dataframe\">\n  <thead>\n    <tr style=\"text-align: right;\">\n      <th></th>\n      <th></th>\n      <th>Max total backlog [kg]</th>\n      <th>Max total inventory deficit [kg]</th>\n      <th>Mean total backlog [kg]</th>\n      <th>Mean total inventory deficit [kg]</th>\n      <th>Median total backlog [kg]</th>\n      <th>Median total inventory deficit [kg]</th>\n      <th>Min total backlog [kg]</th>\n      <th>Min total inventory deficit [kg]</th>\n      <th>P(total backlog &lt;= 0 kg)</th>\n      <th>Total Deficit [kg]</th>\n      <th>Total throughput [kg]</th>\n      <th>std dev inventory deficit [kg]</th>\n      <th>std dev total backlog [kg]</th>\n    </tr>\n    <tr>\n      <th>Variation</th>\n      <th>Solution</th>\n      <th></th>\n      <th></th>\n      <th></th>\n      <th></th>\n      <th></th>\n      <th></th>\n      <th></th>\n      <th></th>\n      <th></th>\n      <th></th>\n      <th></th>\n      <th></th>\n      <th></th>\n    </tr>\n  </thead>\n  <tbody>\n    <tr>\n      <th rowspan=\"2\" valign=\"top\">Article</th>\n      <th>X</th>\n      <td>8.200000</td>\n      <td>683.400000</td>\n      <td>0.200000</td>\n      <td>432.600000</td>\n      <td>0.0</td>\n      <td>424.400000</td>\n      <td>0.0</td>\n      <td>259.400000</td>\n      <td>0.820</td>\n      <td>NaN</td>\n      <td>539.3</td>\n      <td>58.600000</td>\n      <td>0.600000</td>\n    </tr>\n    <tr>\n      <th>Y</th>\n      <td>16.000000</td>\n      <td>786.000000</td>\n      <td>7.100000</td>\n      <td>558.600000</td>\n      <td>0.0</td>\n      <td>551.700000</td>\n      <td>0.0</td>\n      <td>355.600000</td>\n      <td>0.500</td>\n      <td>NaN</td>\n      <td>601.5</td>\n      <td>59.000000</td>\n      <td>4.300000</td>\n    </tr>\n    <tr>\n      <th rowspan=\"2\" valign=\"top\">front_nsga,tour_vio,rein_vio,vio_back,calc_montecarlo,100,1000,2,0.5,(0.04, 0.61, 0.77, 0.47)</th>\n      <th>X</th>\n      <td>11.510280</td>\n      <td>707.568993</td>\n      <td>0.954276</td>\n      <td>522.932321</td>\n      <td>0.0</td>\n      <td>522.764170</td>\n      <td>0.0</td>\n      <td>363.563667</td>\n      <td>0.514</td>\n      <td>522.764170</td>\n      <td>579.1</td>\n      <td>55.176101</td>\n      <td>1.611787</td>\n    </tr>\n    <tr>\n      <th>Y</th>\n      <td>10.758521</td>\n      <td>785.014519</td>\n      <td>0.862772</td>\n      <td>541.405629</td>\n      <td>0.0</td>\n      <td>538.528924</td>\n      <td>0.0</td>\n      <td>353.727384</td>\n      <td>0.550</td>\n      <td>538.528924</td>\n      <td>594.2</td>\n      <td>64.565966</td>\n      <td>1.538422</td>\n    </tr>\n  </tbody>\n</table>\n</div>"
     },
     "metadata": {},
     "execution_count": 33
    }
   ],
   "source": [
    "table6=pd.pivot_table(df_find,index=[\"Variation\",\"Solution\"])\n",
    "table6"
   ]
  },
  {
   "cell_type": "code",
   "execution_count": 34,
   "metadata": {},
   "outputs": [
    {
     "output_type": "execute_result",
     "data": {
      "text/plain": [
       "       Total throughput [kg]  Max total backlog [kg]  Mean total backlog [kg]  \\\n",
       "count               2.000000                2.000000                 2.000000   \n",
       "mean              586.650000               11.134401                 0.908524   \n",
       "std                10.677312                0.531574                 0.064703   \n",
       "min               579.100000               10.758521                 0.862772   \n",
       "25%               582.875000               10.946461                 0.885648   \n",
       "50%               586.650000               11.134401                 0.908524   \n",
       "75%               590.425000               11.322340                 0.931400   \n",
       "max               594.200000               11.510280                 0.954276   \n",
       "\n",
       "       std dev total backlog [kg]  Median total backlog [kg]  \\\n",
       "count                    2.000000                        2.0   \n",
       "mean                     1.575104                        0.0   \n",
       "std                      0.051877                        0.0   \n",
       "min                      1.538422                        0.0   \n",
       "25%                      1.556763                        0.0   \n",
       "50%                      1.575104                        0.0   \n",
       "75%                      1.593446                        0.0   \n",
       "max                      1.611787                        0.0   \n",
       "\n",
       "       Min total backlog [kg]  P(total backlog <= 0 kg)  \\\n",
       "count                     2.0                  2.000000   \n",
       "mean                      0.0                  0.532000   \n",
       "std                       0.0                  0.025456   \n",
       "min                       0.0                  0.514000   \n",
       "25%                       0.0                  0.523000   \n",
       "50%                       0.0                  0.532000   \n",
       "75%                       0.0                  0.541000   \n",
       "max                       0.0                  0.550000   \n",
       "\n",
       "       Max total inventory deficit [kg]  Mean total inventory deficit [kg]  \\\n",
       "count                          2.000000                           2.000000   \n",
       "mean                         746.291756                         532.168975   \n",
       "std                           54.762257                          13.062601   \n",
       "min                          707.568993                         522.932321   \n",
       "25%                          726.930375                         527.550648   \n",
       "50%                          746.291756                         532.168975   \n",
       "75%                          765.653138                         536.787302   \n",
       "max                          785.014519                         541.405629   \n",
       "\n",
       "       std dev inventory deficit [kg]  Median total inventory deficit [kg]  \\\n",
       "count                        2.000000                             2.000000   \n",
       "mean                        59.871033                           530.646547   \n",
       "std                          6.639637                            11.147364   \n",
       "min                         55.176101                           522.764170   \n",
       "25%                         57.523567                           526.705358   \n",
       "50%                         59.871033                           530.646547   \n",
       "75%                         62.218500                           534.587735   \n",
       "max                         64.565966                           538.528924   \n",
       "\n",
       "       Min total inventory deficit [kg]  Total Deficit [kg]  \n",
       "count                          2.000000            2.000000  \n",
       "mean                         358.645525          530.646547  \n",
       "std                            6.955303           11.147364  \n",
       "min                          353.727384          522.764170  \n",
       "25%                          356.186454          526.705358  \n",
       "50%                          358.645525          530.646547  \n",
       "75%                          361.104596          534.587735  \n",
       "max                          363.563667          538.528924  "
      ],
      "text/html": "<div>\n<style scoped>\n    .dataframe tbody tr th:only-of-type {\n        vertical-align: middle;\n    }\n\n    .dataframe tbody tr th {\n        vertical-align: top;\n    }\n\n    .dataframe thead th {\n        text-align: right;\n    }\n</style>\n<table border=\"1\" class=\"dataframe\">\n  <thead>\n    <tr style=\"text-align: right;\">\n      <th></th>\n      <th>Total throughput [kg]</th>\n      <th>Max total backlog [kg]</th>\n      <th>Mean total backlog [kg]</th>\n      <th>std dev total backlog [kg]</th>\n      <th>Median total backlog [kg]</th>\n      <th>Min total backlog [kg]</th>\n      <th>P(total backlog &lt;= 0 kg)</th>\n      <th>Max total inventory deficit [kg]</th>\n      <th>Mean total inventory deficit [kg]</th>\n      <th>std dev inventory deficit [kg]</th>\n      <th>Median total inventory deficit [kg]</th>\n      <th>Min total inventory deficit [kg]</th>\n      <th>Total Deficit [kg]</th>\n    </tr>\n  </thead>\n  <tbody>\n    <tr>\n      <th>count</th>\n      <td>2.000000</td>\n      <td>2.000000</td>\n      <td>2.000000</td>\n      <td>2.000000</td>\n      <td>2.0</td>\n      <td>2.0</td>\n      <td>2.000000</td>\n      <td>2.000000</td>\n      <td>2.000000</td>\n      <td>2.000000</td>\n      <td>2.000000</td>\n      <td>2.000000</td>\n      <td>2.000000</td>\n    </tr>\n    <tr>\n      <th>mean</th>\n      <td>586.650000</td>\n      <td>11.134401</td>\n      <td>0.908524</td>\n      <td>1.575104</td>\n      <td>0.0</td>\n      <td>0.0</td>\n      <td>0.532000</td>\n      <td>746.291756</td>\n      <td>532.168975</td>\n      <td>59.871033</td>\n      <td>530.646547</td>\n      <td>358.645525</td>\n      <td>530.646547</td>\n    </tr>\n    <tr>\n      <th>std</th>\n      <td>10.677312</td>\n      <td>0.531574</td>\n      <td>0.064703</td>\n      <td>0.051877</td>\n      <td>0.0</td>\n      <td>0.0</td>\n      <td>0.025456</td>\n      <td>54.762257</td>\n      <td>13.062601</td>\n      <td>6.639637</td>\n      <td>11.147364</td>\n      <td>6.955303</td>\n      <td>11.147364</td>\n    </tr>\n    <tr>\n      <th>min</th>\n      <td>579.100000</td>\n      <td>10.758521</td>\n      <td>0.862772</td>\n      <td>1.538422</td>\n      <td>0.0</td>\n      <td>0.0</td>\n      <td>0.514000</td>\n      <td>707.568993</td>\n      <td>522.932321</td>\n      <td>55.176101</td>\n      <td>522.764170</td>\n      <td>353.727384</td>\n      <td>522.764170</td>\n    </tr>\n    <tr>\n      <th>25%</th>\n      <td>582.875000</td>\n      <td>10.946461</td>\n      <td>0.885648</td>\n      <td>1.556763</td>\n      <td>0.0</td>\n      <td>0.0</td>\n      <td>0.523000</td>\n      <td>726.930375</td>\n      <td>527.550648</td>\n      <td>57.523567</td>\n      <td>526.705358</td>\n      <td>356.186454</td>\n      <td>526.705358</td>\n    </tr>\n    <tr>\n      <th>50%</th>\n      <td>586.650000</td>\n      <td>11.134401</td>\n      <td>0.908524</td>\n      <td>1.575104</td>\n      <td>0.0</td>\n      <td>0.0</td>\n      <td>0.532000</td>\n      <td>746.291756</td>\n      <td>532.168975</td>\n      <td>59.871033</td>\n      <td>530.646547</td>\n      <td>358.645525</td>\n      <td>530.646547</td>\n    </tr>\n    <tr>\n      <th>75%</th>\n      <td>590.425000</td>\n      <td>11.322340</td>\n      <td>0.931400</td>\n      <td>1.593446</td>\n      <td>0.0</td>\n      <td>0.0</td>\n      <td>0.541000</td>\n      <td>765.653138</td>\n      <td>536.787302</td>\n      <td>62.218500</td>\n      <td>534.587735</td>\n      <td>361.104596</td>\n      <td>534.587735</td>\n    </tr>\n    <tr>\n      <th>max</th>\n      <td>594.200000</td>\n      <td>11.510280</td>\n      <td>0.954276</td>\n      <td>1.611787</td>\n      <td>0.0</td>\n      <td>0.0</td>\n      <td>0.550000</td>\n      <td>785.014519</td>\n      <td>541.405629</td>\n      <td>64.565966</td>\n      <td>538.528924</td>\n      <td>363.563667</td>\n      <td>538.528924</td>\n    </tr>\n  </tbody>\n</table>\n</div>"
     },
     "metadata": {},
     "execution_count": 34
    }
   ],
   "source": [
    "df_find.loc[df_find.Variation!=\"Article\"].describe()"
   ]
  },
  {
   "cell_type": "code",
   "execution_count": 35,
   "metadata": {},
   "outputs": [
    {
     "output_type": "execute_result",
     "data": {
      "text/plain": [
       "Index(['Execution', 'Variation', 'Solution', 'Total throughput [kg]',\n",
       "       'Max total backlog [kg]', 'Mean total backlog [kg]',\n",
       "       'std dev total backlog [kg]', 'Median total backlog [kg]',\n",
       "       'Min total backlog [kg]', 'P(total backlog <= 0 kg)',\n",
       "       'Max total inventory deficit [kg]', 'Mean total inventory deficit [kg]',\n",
       "       'std dev inventory deficit [kg]', 'Median total inventory deficit [kg]',\n",
       "       'Min total inventory deficit [kg]', 'Total Deficit [kg]',\n",
       "       'Batches [un]', 'Product label', 'Start of USP [date]',\n",
       "       'End of DSP [date]'],\n",
       "      dtype='object')"
      ]
     },
     "metadata": {},
     "execution_count": 35
    }
   ],
   "source": [
    "df_find.columns"
   ]
  },
  {
   "cell_type": "code",
   "execution_count": 36,
   "metadata": {},
   "outputs": [],
   "source": [
    "df_ind_short=df_find.drop(['Execution'],axis=1)"
   ]
  },
  {
   "cell_type": "code",
   "execution_count": 37,
   "metadata": {},
   "outputs": [
    {
     "output_type": "execute_result",
     "data": {
      "text/plain": [
       "                                               Variation Solution  \\\n",
       "Index                                                               \n",
       "0                                                Article        X   \n",
       "1                                                Article        Y   \n",
       "0      front_nsga,tour_vio,rein_vio,vio_back,calc_mon...        X   \n",
       "1      front_nsga,tour_vio,rein_vio,vio_back,calc_mon...        Y   \n",
       "\n",
       "       Total throughput [kg]  Max total backlog [kg]  Mean total backlog [kg]  \\\n",
       "Index                                                                           \n",
       "0                      539.3                8.200000                 0.200000   \n",
       "1                      601.5               16.000000                 7.100000   \n",
       "0                      579.1               11.510280                 0.954276   \n",
       "1                      594.2               10.758521                 0.862772   \n",
       "\n",
       "       std dev total backlog [kg]  Median total backlog [kg]  \\\n",
       "Index                                                          \n",
       "0                        0.600000                        0.0   \n",
       "1                        4.300000                        0.0   \n",
       "0                        1.611787                        0.0   \n",
       "1                        1.538422                        0.0   \n",
       "\n",
       "       Min total backlog [kg]  P(total backlog <= 0 kg)  \\\n",
       "Index                                                     \n",
       "0                         0.0                     0.820   \n",
       "1                         0.0                     0.500   \n",
       "0                         0.0                     0.514   \n",
       "1                         0.0                     0.550   \n",
       "\n",
       "       Max total inventory deficit [kg]  Mean total inventory deficit [kg]  \\\n",
       "Index                                                                        \n",
       "0                            683.400000                         432.600000   \n",
       "1                            786.000000                         558.600000   \n",
       "0                            707.568993                         522.932321   \n",
       "1                            785.014519                         541.405629   \n",
       "\n",
       "       std dev inventory deficit [kg]  Median total inventory deficit [kg]  \\\n",
       "Index                                                                        \n",
       "0                           58.600000                           424.400000   \n",
       "1                           59.000000                           551.700000   \n",
       "0                           55.176101                           522.764170   \n",
       "1                           64.565966                           538.528924   \n",
       "\n",
       "       Min total inventory deficit [kg]  Total Deficit [kg]  \\\n",
       "Index                                                         \n",
       "0                            259.400000                 NaN   \n",
       "1                            355.600000                 NaN   \n",
       "0                            363.563667          522.764170   \n",
       "1                            353.727384          538.528924   \n",
       "\n",
       "                           Batches [un]              Product label  \\\n",
       "Index                                                                \n",
       "0      [15 10 29 3 15 11 15 6 2 2 2 10]  [3 2 0 1 3 2 1 3 2 1 2 3]   \n",
       "1               [12 13 24 18 5 19 9 30]          [3 2 0 3 1 0 2 3]   \n",
       "0          [16  9 32  3 16 13 16  2 21]        [3 2 0 1 3 2 0 1 3]   \n",
       "1             [16  9 31  4 14 13 15 28]          [3 2 0 1 3 2 0 3]   \n",
       "\n",
       "                                     Start of USP [date]  \\\n",
       "Index                                                      \n",
       "0                                                    NaN   \n",
       "1                                                    NaN   \n",
       "0      ['2016-12-01' '2017-04-14' '2017-07-02' '2018-...   \n",
       "1      ['2016-12-01' '2017-04-14' '2017-07-02' '2018-...   \n",
       "\n",
       "                                       End of DSP [date]  \n",
       "Index                                                     \n",
       "0                                                    NaN  \n",
       "1                                                    NaN  \n",
       "0      ['2017-05-11' '2017-07-31' '2018-03-28' '2018-...  \n",
       "1      ['2017-05-11' '2017-07-31' '2018-03-21' '2018-...  "
      ],
      "text/html": "<div>\n<style scoped>\n    .dataframe tbody tr th:only-of-type {\n        vertical-align: middle;\n    }\n\n    .dataframe tbody tr th {\n        vertical-align: top;\n    }\n\n    .dataframe thead th {\n        text-align: right;\n    }\n</style>\n<table border=\"1\" class=\"dataframe\">\n  <thead>\n    <tr style=\"text-align: right;\">\n      <th></th>\n      <th>Variation</th>\n      <th>Solution</th>\n      <th>Total throughput [kg]</th>\n      <th>Max total backlog [kg]</th>\n      <th>Mean total backlog [kg]</th>\n      <th>std dev total backlog [kg]</th>\n      <th>Median total backlog [kg]</th>\n      <th>Min total backlog [kg]</th>\n      <th>P(total backlog &lt;= 0 kg)</th>\n      <th>Max total inventory deficit [kg]</th>\n      <th>Mean total inventory deficit [kg]</th>\n      <th>std dev inventory deficit [kg]</th>\n      <th>Median total inventory deficit [kg]</th>\n      <th>Min total inventory deficit [kg]</th>\n      <th>Total Deficit [kg]</th>\n      <th>Batches [un]</th>\n      <th>Product label</th>\n      <th>Start of USP [date]</th>\n      <th>End of DSP [date]</th>\n    </tr>\n    <tr>\n      <th>Index</th>\n      <th></th>\n      <th></th>\n      <th></th>\n      <th></th>\n      <th></th>\n      <th></th>\n      <th></th>\n      <th></th>\n      <th></th>\n      <th></th>\n      <th></th>\n      <th></th>\n      <th></th>\n      <th></th>\n      <th></th>\n      <th></th>\n      <th></th>\n      <th></th>\n      <th></th>\n    </tr>\n  </thead>\n  <tbody>\n    <tr>\n      <th>0</th>\n      <td>Article</td>\n      <td>X</td>\n      <td>539.3</td>\n      <td>8.200000</td>\n      <td>0.200000</td>\n      <td>0.600000</td>\n      <td>0.0</td>\n      <td>0.0</td>\n      <td>0.820</td>\n      <td>683.400000</td>\n      <td>432.600000</td>\n      <td>58.600000</td>\n      <td>424.400000</td>\n      <td>259.400000</td>\n      <td>NaN</td>\n      <td>[15 10 29 3 15 11 15 6 2 2 2 10]</td>\n      <td>[3 2 0 1 3 2 1 3 2 1 2 3]</td>\n      <td>NaN</td>\n      <td>NaN</td>\n    </tr>\n    <tr>\n      <th>1</th>\n      <td>Article</td>\n      <td>Y</td>\n      <td>601.5</td>\n      <td>16.000000</td>\n      <td>7.100000</td>\n      <td>4.300000</td>\n      <td>0.0</td>\n      <td>0.0</td>\n      <td>0.500</td>\n      <td>786.000000</td>\n      <td>558.600000</td>\n      <td>59.000000</td>\n      <td>551.700000</td>\n      <td>355.600000</td>\n      <td>NaN</td>\n      <td>[12 13 24 18 5 19 9 30]</td>\n      <td>[3 2 0 3 1 0 2 3]</td>\n      <td>NaN</td>\n      <td>NaN</td>\n    </tr>\n    <tr>\n      <th>0</th>\n      <td>front_nsga,tour_vio,rein_vio,vio_back,calc_mon...</td>\n      <td>X</td>\n      <td>579.1</td>\n      <td>11.510280</td>\n      <td>0.954276</td>\n      <td>1.611787</td>\n      <td>0.0</td>\n      <td>0.0</td>\n      <td>0.514</td>\n      <td>707.568993</td>\n      <td>522.932321</td>\n      <td>55.176101</td>\n      <td>522.764170</td>\n      <td>363.563667</td>\n      <td>522.764170</td>\n      <td>[16  9 32  3 16 13 16  2 21]</td>\n      <td>[3 2 0 1 3 2 0 1 3]</td>\n      <td>['2016-12-01' '2017-04-14' '2017-07-02' '2018-...</td>\n      <td>['2017-05-11' '2017-07-31' '2018-03-28' '2018-...</td>\n    </tr>\n    <tr>\n      <th>1</th>\n      <td>front_nsga,tour_vio,rein_vio,vio_back,calc_mon...</td>\n      <td>Y</td>\n      <td>594.2</td>\n      <td>10.758521</td>\n      <td>0.862772</td>\n      <td>1.538422</td>\n      <td>0.0</td>\n      <td>0.0</td>\n      <td>0.550</td>\n      <td>785.014519</td>\n      <td>541.405629</td>\n      <td>64.565966</td>\n      <td>538.528924</td>\n      <td>353.727384</td>\n      <td>538.528924</td>\n      <td>[16  9 31  4 14 13 15 28]</td>\n      <td>[3 2 0 1 3 2 0 3]</td>\n      <td>['2016-12-01' '2017-04-14' '2017-07-02' '2018-...</td>\n      <td>['2017-05-11' '2017-07-31' '2018-03-21' '2018-...</td>\n    </tr>\n  </tbody>\n</table>\n</div>"
     },
     "metadata": {},
     "execution_count": 37
    }
   ],
   "source": [
    "df_ind_short"
   ]
  },
  {
   "cell_type": "code",
   "execution_count": 38,
   "metadata": {},
   "outputs": [],
   "source": [
    " # Export as csv\n",
    "file_name='df_ind_short.csv'\n",
    "path=root_path_data+file_name\n",
    "df_find_short=df_ind_short.to_csv(path)"
   ]
  },
  {
   "cell_type": "code",
   "execution_count": 39,
   "metadata": {},
   "outputs": [],
   "source": [
    " # Import as csv\n",
    "file_name='df_ind_short.csv'\n",
    "path=root_path_data+file_name\n",
    "df_find_short=pd.read_csv(path,index_col=0)"
   ]
  },
  {
   "cell_type": "code",
   "execution_count": 40,
   "metadata": {},
   "outputs": [
    {
     "output_type": "execute_result",
     "data": {
      "text/plain": [
       "Index(['Variation', 'Solution', 'Total throughput [kg]',\n",
       "       'Max total backlog [kg]', 'Mean total backlog [kg]',\n",
       "       'std dev total backlog [kg]', 'Median total backlog [kg]',\n",
       "       'Min total backlog [kg]', 'P(total backlog <= 0 kg)',\n",
       "       'Max total inventory deficit [kg]', 'Mean total inventory deficit [kg]',\n",
       "       'std dev inventory deficit [kg]', 'Median total inventory deficit [kg]',\n",
       "       'Min total inventory deficit [kg]', 'Total Deficit [kg]',\n",
       "       'Batches [un]', 'Product label', 'Start of USP [date]',\n",
       "       'End of DSP [date]'],\n",
       "      dtype='object')"
      ]
     },
     "metadata": {},
     "execution_count": 40
    }
   ],
   "source": [
    "df_find_short.columns"
   ]
  },
  {
   "cell_type": "code",
   "execution_count": 41,
   "metadata": {},
   "outputs": [
    {
     "output_type": "execute_result",
     "data": {
      "text/plain": [
       "                                           Variation Solution  \\\n",
       "0                                            Article        X   \n",
       "1                                            Article        Y   \n",
       "2  front_nsga,tour_vio,rein_vio,vio_back,calc_mon...        X   \n",
       "3  front_nsga,tour_vio,rein_vio,vio_back,calc_mon...        Y   \n",
       "\n",
       "   Total throughput [kg]  Max total backlog [kg]  Mean total backlog [kg]  \\\n",
       "0                  539.3                8.200000                 0.200000   \n",
       "1                  601.5               16.000000                 7.100000   \n",
       "2                  579.1               11.510280                 0.954276   \n",
       "3                  594.2               10.758521                 0.862772   \n",
       "\n",
       "   std dev total backlog [kg]  Median total backlog [kg]  \\\n",
       "0                    0.600000                        0.0   \n",
       "1                    4.300000                        0.0   \n",
       "2                    1.611787                        0.0   \n",
       "3                    1.538422                        0.0   \n",
       "\n",
       "   Min total backlog [kg]  P(total backlog <= 0 kg)  \\\n",
       "0                     0.0                     0.820   \n",
       "1                     0.0                     0.500   \n",
       "2                     0.0                     0.514   \n",
       "3                     0.0                     0.550   \n",
       "\n",
       "   Max total inventory deficit [kg]  Mean total inventory deficit [kg]  \\\n",
       "0                        683.400000                         432.600000   \n",
       "1                        786.000000                         558.600000   \n",
       "2                        707.568993                         522.932321   \n",
       "3                        785.014519                         541.405629   \n",
       "\n",
       "   std dev inventory deficit [kg]  Median total inventory deficit [kg]  \\\n",
       "0                       58.600000                           424.400000   \n",
       "1                       59.000000                           551.700000   \n",
       "2                       55.176101                           522.764170   \n",
       "3                       64.565966                           538.528924   \n",
       "\n",
       "   Min total inventory deficit [kg]  Total Deficit [kg]  \\\n",
       "0                        259.400000                 NaN   \n",
       "1                        355.600000                 NaN   \n",
       "2                        363.563667          522.764170   \n",
       "3                        353.727384          538.528924   \n",
       "\n",
       "                       Batches [un]              Product label  \\\n",
       "0  [15 10 29 3 15 11 15 6 2 2 2 10]  [3 2 0 1 3 2 1 3 2 1 2 3]   \n",
       "1           [12 13 24 18 5 19 9 30]          [3 2 0 3 1 0 2 3]   \n",
       "2      [16  9 32  3 16 13 16  2 21]        [3 2 0 1 3 2 0 1 3]   \n",
       "3         [16  9 31  4 14 13 15 28]          [3 2 0 1 3 2 0 3]   \n",
       "\n",
       "                                 Start of USP [date]  \\\n",
       "0                                                NaN   \n",
       "1                                                NaN   \n",
       "2  ['2016-12-01' '2017-04-14' '2017-07-02' '2018-...   \n",
       "3  ['2016-12-01' '2017-04-14' '2017-07-02' '2018-...   \n",
       "\n",
       "                                   End of DSP [date]  \n",
       "0                                                NaN  \n",
       "1                                                NaN  \n",
       "2  ['2017-05-11' '2017-07-31' '2018-03-28' '2018-...  \n",
       "3  ['2017-05-11' '2017-07-31' '2018-03-21' '2018-...  "
      ],
      "text/html": "<div>\n<style scoped>\n    .dataframe tbody tr th:only-of-type {\n        vertical-align: middle;\n    }\n\n    .dataframe tbody tr th {\n        vertical-align: top;\n    }\n\n    .dataframe thead th {\n        text-align: right;\n    }\n</style>\n<table border=\"1\" class=\"dataframe\">\n  <thead>\n    <tr style=\"text-align: right;\">\n      <th></th>\n      <th>Variation</th>\n      <th>Solution</th>\n      <th>Total throughput [kg]</th>\n      <th>Max total backlog [kg]</th>\n      <th>Mean total backlog [kg]</th>\n      <th>std dev total backlog [kg]</th>\n      <th>Median total backlog [kg]</th>\n      <th>Min total backlog [kg]</th>\n      <th>P(total backlog &lt;= 0 kg)</th>\n      <th>Max total inventory deficit [kg]</th>\n      <th>Mean total inventory deficit [kg]</th>\n      <th>std dev inventory deficit [kg]</th>\n      <th>Median total inventory deficit [kg]</th>\n      <th>Min total inventory deficit [kg]</th>\n      <th>Total Deficit [kg]</th>\n      <th>Batches [un]</th>\n      <th>Product label</th>\n      <th>Start of USP [date]</th>\n      <th>End of DSP [date]</th>\n    </tr>\n  </thead>\n  <tbody>\n    <tr>\n      <th>0</th>\n      <td>Article</td>\n      <td>X</td>\n      <td>539.3</td>\n      <td>8.200000</td>\n      <td>0.200000</td>\n      <td>0.600000</td>\n      <td>0.0</td>\n      <td>0.0</td>\n      <td>0.820</td>\n      <td>683.400000</td>\n      <td>432.600000</td>\n      <td>58.600000</td>\n      <td>424.400000</td>\n      <td>259.400000</td>\n      <td>NaN</td>\n      <td>[15 10 29 3 15 11 15 6 2 2 2 10]</td>\n      <td>[3 2 0 1 3 2 1 3 2 1 2 3]</td>\n      <td>NaN</td>\n      <td>NaN</td>\n    </tr>\n    <tr>\n      <th>1</th>\n      <td>Article</td>\n      <td>Y</td>\n      <td>601.5</td>\n      <td>16.000000</td>\n      <td>7.100000</td>\n      <td>4.300000</td>\n      <td>0.0</td>\n      <td>0.0</td>\n      <td>0.500</td>\n      <td>786.000000</td>\n      <td>558.600000</td>\n      <td>59.000000</td>\n      <td>551.700000</td>\n      <td>355.600000</td>\n      <td>NaN</td>\n      <td>[12 13 24 18 5 19 9 30]</td>\n      <td>[3 2 0 3 1 0 2 3]</td>\n      <td>NaN</td>\n      <td>NaN</td>\n    </tr>\n    <tr>\n      <th>2</th>\n      <td>front_nsga,tour_vio,rein_vio,vio_back,calc_mon...</td>\n      <td>X</td>\n      <td>579.1</td>\n      <td>11.510280</td>\n      <td>0.954276</td>\n      <td>1.611787</td>\n      <td>0.0</td>\n      <td>0.0</td>\n      <td>0.514</td>\n      <td>707.568993</td>\n      <td>522.932321</td>\n      <td>55.176101</td>\n      <td>522.764170</td>\n      <td>363.563667</td>\n      <td>522.764170</td>\n      <td>[16  9 32  3 16 13 16  2 21]</td>\n      <td>[3 2 0 1 3 2 0 1 3]</td>\n      <td>['2016-12-01' '2017-04-14' '2017-07-02' '2018-...</td>\n      <td>['2017-05-11' '2017-07-31' '2018-03-28' '2018-...</td>\n    </tr>\n    <tr>\n      <th>3</th>\n      <td>front_nsga,tour_vio,rein_vio,vio_back,calc_mon...</td>\n      <td>Y</td>\n      <td>594.2</td>\n      <td>10.758521</td>\n      <td>0.862772</td>\n      <td>1.538422</td>\n      <td>0.0</td>\n      <td>0.0</td>\n      <td>0.550</td>\n      <td>785.014519</td>\n      <td>541.405629</td>\n      <td>64.565966</td>\n      <td>538.528924</td>\n      <td>353.727384</td>\n      <td>538.528924</td>\n      <td>[16  9 31  4 14 13 15 28]</td>\n      <td>[3 2 0 1 3 2 0 3]</td>\n      <td>['2016-12-01' '2017-04-14' '2017-07-02' '2018-...</td>\n      <td>['2017-05-11' '2017-07-31' '2018-03-21' '2018-...</td>\n    </tr>\n  </tbody>\n</table>\n</div>"
     },
     "metadata": {},
     "execution_count": 41
    }
   ],
   "source": [
    "df_find_short.reset_index(drop=True)"
   ]
  },
  {
   "cell_type": "code",
   "execution_count": 42,
   "metadata": {},
   "outputs": [
    {
     "output_type": "execute_result",
     "data": {
      "text/plain": [
       "                                               Variation Solution  \\\n",
       "Index                                                               \n",
       "0                                                Article        X   \n",
       "1                                                Article        Y   \n",
       "0      front_nsga,tour_vio,rein_vio,vio_back,calc_mon...        X   \n",
       "1      front_nsga,tour_vio,rein_vio,vio_back,calc_mon...        Y   \n",
       "\n",
       "       Total throughput [kg]  Max total backlog [kg]  Mean total backlog [kg]  \\\n",
       "Index                                                                           \n",
       "0                      539.3                8.200000                 0.200000   \n",
       "1                      601.5               16.000000                 7.100000   \n",
       "0                      579.1               11.510280                 0.954276   \n",
       "1                      594.2               10.758521                 0.862772   \n",
       "\n",
       "       std dev total backlog [kg]  Median total backlog [kg]  \\\n",
       "Index                                                          \n",
       "0                        0.600000                        0.0   \n",
       "1                        4.300000                        0.0   \n",
       "0                        1.611787                        0.0   \n",
       "1                        1.538422                        0.0   \n",
       "\n",
       "       Min total backlog [kg]  P(total backlog <= 0 kg)  \\\n",
       "Index                                                     \n",
       "0                         0.0                     0.820   \n",
       "1                         0.0                     0.500   \n",
       "0                         0.0                     0.514   \n",
       "1                         0.0                     0.550   \n",
       "\n",
       "       Max total inventory deficit [kg]  Mean total inventory deficit [kg]  \\\n",
       "Index                                                                        \n",
       "0                            683.400000                         432.600000   \n",
       "1                            786.000000                         558.600000   \n",
       "0                            707.568993                         522.932321   \n",
       "1                            785.014519                         541.405629   \n",
       "\n",
       "       std dev inventory deficit [kg]  Median total inventory deficit [kg]  \\\n",
       "Index                                                                        \n",
       "0                           58.600000                           424.400000   \n",
       "1                           59.000000                           551.700000   \n",
       "0                           55.176101                           522.764170   \n",
       "1                           64.565966                           538.528924   \n",
       "\n",
       "       Min total inventory deficit [kg]  Total Deficit [kg]  \\\n",
       "Index                                                         \n",
       "0                            259.400000                 NaN   \n",
       "1                            355.600000                 NaN   \n",
       "0                            363.563667          522.764170   \n",
       "1                            353.727384          538.528924   \n",
       "\n",
       "                           Batches [un]              Product label  \\\n",
       "Index                                                                \n",
       "0      [15 10 29 3 15 11 15 6 2 2 2 10]  [3 2 0 1 3 2 1 3 2 1 2 3]   \n",
       "1               [12 13 24 18 5 19 9 30]          [3 2 0 3 1 0 2 3]   \n",
       "0          [16  9 32  3 16 13 16  2 21]        [3 2 0 1 3 2 0 1 3]   \n",
       "1             [16  9 31  4 14 13 15 28]          [3 2 0 1 3 2 0 3]   \n",
       "\n",
       "                                     Start of USP [date]  \\\n",
       "Index                                                      \n",
       "0                                                    NaN   \n",
       "1                                                    NaN   \n",
       "0      ['2016-12-01' '2017-04-14' '2017-07-02' '2018-...   \n",
       "1      ['2016-12-01' '2017-04-14' '2017-07-02' '2018-...   \n",
       "\n",
       "                                       End of DSP [date]  \n",
       "Index                                                     \n",
       "0                                                    NaN  \n",
       "1                                                    NaN  \n",
       "0      ['2017-05-11' '2017-07-31' '2018-03-28' '2018-...  \n",
       "1      ['2017-05-11' '2017-07-31' '2018-03-21' '2018-...  "
      ],
      "text/html": "<div>\n<style scoped>\n    .dataframe tbody tr th:only-of-type {\n        vertical-align: middle;\n    }\n\n    .dataframe tbody tr th {\n        vertical-align: top;\n    }\n\n    .dataframe thead th {\n        text-align: right;\n    }\n</style>\n<table border=\"1\" class=\"dataframe\">\n  <thead>\n    <tr style=\"text-align: right;\">\n      <th></th>\n      <th>Variation</th>\n      <th>Solution</th>\n      <th>Total throughput [kg]</th>\n      <th>Max total backlog [kg]</th>\n      <th>Mean total backlog [kg]</th>\n      <th>std dev total backlog [kg]</th>\n      <th>Median total backlog [kg]</th>\n      <th>Min total backlog [kg]</th>\n      <th>P(total backlog &lt;= 0 kg)</th>\n      <th>Max total inventory deficit [kg]</th>\n      <th>Mean total inventory deficit [kg]</th>\n      <th>std dev inventory deficit [kg]</th>\n      <th>Median total inventory deficit [kg]</th>\n      <th>Min total inventory deficit [kg]</th>\n      <th>Total Deficit [kg]</th>\n      <th>Batches [un]</th>\n      <th>Product label</th>\n      <th>Start of USP [date]</th>\n      <th>End of DSP [date]</th>\n    </tr>\n    <tr>\n      <th>Index</th>\n      <th></th>\n      <th></th>\n      <th></th>\n      <th></th>\n      <th></th>\n      <th></th>\n      <th></th>\n      <th></th>\n      <th></th>\n      <th></th>\n      <th></th>\n      <th></th>\n      <th></th>\n      <th></th>\n      <th></th>\n      <th></th>\n      <th></th>\n      <th></th>\n      <th></th>\n    </tr>\n  </thead>\n  <tbody>\n    <tr>\n      <th>0</th>\n      <td>Article</td>\n      <td>X</td>\n      <td>539.3</td>\n      <td>8.200000</td>\n      <td>0.200000</td>\n      <td>0.600000</td>\n      <td>0.0</td>\n      <td>0.0</td>\n      <td>0.820</td>\n      <td>683.400000</td>\n      <td>432.600000</td>\n      <td>58.600000</td>\n      <td>424.400000</td>\n      <td>259.400000</td>\n      <td>NaN</td>\n      <td>[15 10 29 3 15 11 15 6 2 2 2 10]</td>\n      <td>[3 2 0 1 3 2 1 3 2 1 2 3]</td>\n      <td>NaN</td>\n      <td>NaN</td>\n    </tr>\n    <tr>\n      <th>1</th>\n      <td>Article</td>\n      <td>Y</td>\n      <td>601.5</td>\n      <td>16.000000</td>\n      <td>7.100000</td>\n      <td>4.300000</td>\n      <td>0.0</td>\n      <td>0.0</td>\n      <td>0.500</td>\n      <td>786.000000</td>\n      <td>558.600000</td>\n      <td>59.000000</td>\n      <td>551.700000</td>\n      <td>355.600000</td>\n      <td>NaN</td>\n      <td>[12 13 24 18 5 19 9 30]</td>\n      <td>[3 2 0 3 1 0 2 3]</td>\n      <td>NaN</td>\n      <td>NaN</td>\n    </tr>\n    <tr>\n      <th>0</th>\n      <td>front_nsga,tour_vio,rein_vio,vio_back,calc_mon...</td>\n      <td>X</td>\n      <td>579.1</td>\n      <td>11.510280</td>\n      <td>0.954276</td>\n      <td>1.611787</td>\n      <td>0.0</td>\n      <td>0.0</td>\n      <td>0.514</td>\n      <td>707.568993</td>\n      <td>522.932321</td>\n      <td>55.176101</td>\n      <td>522.764170</td>\n      <td>363.563667</td>\n      <td>522.764170</td>\n      <td>[16  9 32  3 16 13 16  2 21]</td>\n      <td>[3 2 0 1 3 2 0 1 3]</td>\n      <td>['2016-12-01' '2017-04-14' '2017-07-02' '2018-...</td>\n      <td>['2017-05-11' '2017-07-31' '2018-03-28' '2018-...</td>\n    </tr>\n    <tr>\n      <th>1</th>\n      <td>front_nsga,tour_vio,rein_vio,vio_back,calc_mon...</td>\n      <td>Y</td>\n      <td>594.2</td>\n      <td>10.758521</td>\n      <td>0.862772</td>\n      <td>1.538422</td>\n      <td>0.0</td>\n      <td>0.0</td>\n      <td>0.550</td>\n      <td>785.014519</td>\n      <td>541.405629</td>\n      <td>64.565966</td>\n      <td>538.528924</td>\n      <td>353.727384</td>\n      <td>538.528924</td>\n      <td>[16  9 31  4 14 13 15 28]</td>\n      <td>[3 2 0 1 3 2 0 3]</td>\n      <td>['2016-12-01' '2017-04-14' '2017-07-02' '2018-...</td>\n      <td>['2017-05-11' '2017-07-31' '2018-03-21' '2018-...</td>\n    </tr>\n  </tbody>\n</table>\n</div>"
     },
     "metadata": {},
     "execution_count": 42
    }
   ],
   "source": [
    "df_find_short"
   ]
  },
  {
   "cell_type": "code",
   "execution_count": 43,
   "metadata": {},
   "outputs": [
    {
     "output_type": "execute_result",
     "data": {
      "text/plain": [
       "Index                                                               0  \\\n",
       "Variation                                                     Article   \n",
       "Solution                                                            X   \n",
       "Total throughput [kg]                                           539.3   \n",
       "Max total backlog [kg]                                            8.2   \n",
       "Mean total backlog [kg]                                           0.2   \n",
       "std dev total backlog [kg]                                        0.6   \n",
       "Median total backlog [kg]                                           0   \n",
       "Min total backlog [kg]                                              0   \n",
       "P(total backlog <= 0 kg)                                         0.82   \n",
       "Max total inventory deficit [kg]                                683.4   \n",
       "Mean total inventory deficit [kg]                               432.6   \n",
       "std dev inventory deficit [kg]                                   58.6   \n",
       "Median total inventory deficit [kg]                             424.4   \n",
       "Min total inventory deficit [kg]                                259.4   \n",
       "Total Deficit [kg]                                                NaN   \n",
       "Batches [un]                         [15 10 29 3 15 11 15 6 2 2 2 10]   \n",
       "Product label                               [3 2 0 1 3 2 1 3 2 1 2 3]   \n",
       "Start of USP [date]                                               NaN   \n",
       "End of DSP [date]                                                 NaN   \n",
       "\n",
       "Index                                                      1  \\\n",
       "Variation                                            Article   \n",
       "Solution                                                   Y   \n",
       "Total throughput [kg]                                  601.5   \n",
       "Max total backlog [kg]                                    16   \n",
       "Mean total backlog [kg]                                  7.1   \n",
       "std dev total backlog [kg]                               4.3   \n",
       "Median total backlog [kg]                                  0   \n",
       "Min total backlog [kg]                                     0   \n",
       "P(total backlog <= 0 kg)                                 0.5   \n",
       "Max total inventory deficit [kg]                         786   \n",
       "Mean total inventory deficit [kg]                      558.6   \n",
       "std dev inventory deficit [kg]                            59   \n",
       "Median total inventory deficit [kg]                    551.7   \n",
       "Min total inventory deficit [kg]                       355.6   \n",
       "Total Deficit [kg]                                       NaN   \n",
       "Batches [un]                         [12 13 24 18 5 19 9 30]   \n",
       "Product label                              [3 2 0 3 1 0 2 3]   \n",
       "Start of USP [date]                                      NaN   \n",
       "End of DSP [date]                                        NaN   \n",
       "\n",
       "Index                                                                                0  \\\n",
       "Variation                            front_nsga,tour_vio,rein_vio,vio_back,calc_mon...   \n",
       "Solution                                                                             X   \n",
       "Total throughput [kg]                                                            579.1   \n",
       "Max total backlog [kg]                                                         11.5103   \n",
       "Mean total backlog [kg]                                                       0.954276   \n",
       "std dev total backlog [kg]                                                     1.61179   \n",
       "Median total backlog [kg]                                                            0   \n",
       "Min total backlog [kg]                                                               0   \n",
       "P(total backlog <= 0 kg)                                                         0.514   \n",
       "Max total inventory deficit [kg]                                               707.569   \n",
       "Mean total inventory deficit [kg]                                              522.932   \n",
       "std dev inventory deficit [kg]                                                 55.1761   \n",
       "Median total inventory deficit [kg]                                            522.764   \n",
       "Min total inventory deficit [kg]                                               363.564   \n",
       "Total Deficit [kg]                                                             522.764   \n",
       "Batches [un]                                              [16  9 32  3 16 13 16  2 21]   \n",
       "Product label                                                      [3 2 0 1 3 2 0 1 3]   \n",
       "Start of USP [date]                  ['2016-12-01' '2017-04-14' '2017-07-02' '2018-...   \n",
       "End of DSP [date]                    ['2017-05-11' '2017-07-31' '2018-03-28' '2018-...   \n",
       "\n",
       "Index                                                                                1  \n",
       "Variation                            front_nsga,tour_vio,rein_vio,vio_back,calc_mon...  \n",
       "Solution                                                                             Y  \n",
       "Total throughput [kg]                                                            594.2  \n",
       "Max total backlog [kg]                                                         10.7585  \n",
       "Mean total backlog [kg]                                                       0.862772  \n",
       "std dev total backlog [kg]                                                     1.53842  \n",
       "Median total backlog [kg]                                                            0  \n",
       "Min total backlog [kg]                                                               0  \n",
       "P(total backlog <= 0 kg)                                                          0.55  \n",
       "Max total inventory deficit [kg]                                               785.015  \n",
       "Mean total inventory deficit [kg]                                              541.406  \n",
       "std dev inventory deficit [kg]                                                  64.566  \n",
       "Median total inventory deficit [kg]                                            538.529  \n",
       "Min total inventory deficit [kg]                                               353.727  \n",
       "Total Deficit [kg]                                                             538.529  \n",
       "Batches [un]                                                 [16  9 31  4 14 13 15 28]  \n",
       "Product label                                                        [3 2 0 1 3 2 0 3]  \n",
       "Start of USP [date]                  ['2016-12-01' '2017-04-14' '2017-07-02' '2018-...  \n",
       "End of DSP [date]                    ['2017-05-11' '2017-07-31' '2018-03-21' '2018-...  "
      ],
      "text/html": "<div>\n<style scoped>\n    .dataframe tbody tr th:only-of-type {\n        vertical-align: middle;\n    }\n\n    .dataframe tbody tr th {\n        vertical-align: top;\n    }\n\n    .dataframe thead th {\n        text-align: right;\n    }\n</style>\n<table border=\"1\" class=\"dataframe\">\n  <thead>\n    <tr style=\"text-align: right;\">\n      <th>Index</th>\n      <th>0</th>\n      <th>1</th>\n      <th>0</th>\n      <th>1</th>\n    </tr>\n  </thead>\n  <tbody>\n    <tr>\n      <th>Variation</th>\n      <td>Article</td>\n      <td>Article</td>\n      <td>front_nsga,tour_vio,rein_vio,vio_back,calc_mon...</td>\n      <td>front_nsga,tour_vio,rein_vio,vio_back,calc_mon...</td>\n    </tr>\n    <tr>\n      <th>Solution</th>\n      <td>X</td>\n      <td>Y</td>\n      <td>X</td>\n      <td>Y</td>\n    </tr>\n    <tr>\n      <th>Total throughput [kg]</th>\n      <td>539.3</td>\n      <td>601.5</td>\n      <td>579.1</td>\n      <td>594.2</td>\n    </tr>\n    <tr>\n      <th>Max total backlog [kg]</th>\n      <td>8.2</td>\n      <td>16</td>\n      <td>11.5103</td>\n      <td>10.7585</td>\n    </tr>\n    <tr>\n      <th>Mean total backlog [kg]</th>\n      <td>0.2</td>\n      <td>7.1</td>\n      <td>0.954276</td>\n      <td>0.862772</td>\n    </tr>\n    <tr>\n      <th>std dev total backlog [kg]</th>\n      <td>0.6</td>\n      <td>4.3</td>\n      <td>1.61179</td>\n      <td>1.53842</td>\n    </tr>\n    <tr>\n      <th>Median total backlog [kg]</th>\n      <td>0</td>\n      <td>0</td>\n      <td>0</td>\n      <td>0</td>\n    </tr>\n    <tr>\n      <th>Min total backlog [kg]</th>\n      <td>0</td>\n      <td>0</td>\n      <td>0</td>\n      <td>0</td>\n    </tr>\n    <tr>\n      <th>P(total backlog &lt;= 0 kg)</th>\n      <td>0.82</td>\n      <td>0.5</td>\n      <td>0.514</td>\n      <td>0.55</td>\n    </tr>\n    <tr>\n      <th>Max total inventory deficit [kg]</th>\n      <td>683.4</td>\n      <td>786</td>\n      <td>707.569</td>\n      <td>785.015</td>\n    </tr>\n    <tr>\n      <th>Mean total inventory deficit [kg]</th>\n      <td>432.6</td>\n      <td>558.6</td>\n      <td>522.932</td>\n      <td>541.406</td>\n    </tr>\n    <tr>\n      <th>std dev inventory deficit [kg]</th>\n      <td>58.6</td>\n      <td>59</td>\n      <td>55.1761</td>\n      <td>64.566</td>\n    </tr>\n    <tr>\n      <th>Median total inventory deficit [kg]</th>\n      <td>424.4</td>\n      <td>551.7</td>\n      <td>522.764</td>\n      <td>538.529</td>\n    </tr>\n    <tr>\n      <th>Min total inventory deficit [kg]</th>\n      <td>259.4</td>\n      <td>355.6</td>\n      <td>363.564</td>\n      <td>353.727</td>\n    </tr>\n    <tr>\n      <th>Total Deficit [kg]</th>\n      <td>NaN</td>\n      <td>NaN</td>\n      <td>522.764</td>\n      <td>538.529</td>\n    </tr>\n    <tr>\n      <th>Batches [un]</th>\n      <td>[15 10 29 3 15 11 15 6 2 2 2 10]</td>\n      <td>[12 13 24 18 5 19 9 30]</td>\n      <td>[16  9 32  3 16 13 16  2 21]</td>\n      <td>[16  9 31  4 14 13 15 28]</td>\n    </tr>\n    <tr>\n      <th>Product label</th>\n      <td>[3 2 0 1 3 2 1 3 2 1 2 3]</td>\n      <td>[3 2 0 3 1 0 2 3]</td>\n      <td>[3 2 0 1 3 2 0 1 3]</td>\n      <td>[3 2 0 1 3 2 0 3]</td>\n    </tr>\n    <tr>\n      <th>Start of USP [date]</th>\n      <td>NaN</td>\n      <td>NaN</td>\n      <td>['2016-12-01' '2017-04-14' '2017-07-02' '2018-...</td>\n      <td>['2016-12-01' '2017-04-14' '2017-07-02' '2018-...</td>\n    </tr>\n    <tr>\n      <th>End of DSP [date]</th>\n      <td>NaN</td>\n      <td>NaN</td>\n      <td>['2017-05-11' '2017-07-31' '2018-03-28' '2018-...</td>\n      <td>['2017-05-11' '2017-07-31' '2018-03-21' '2018-...</td>\n    </tr>\n  </tbody>\n</table>\n</div>"
     },
     "metadata": {},
     "execution_count": 43
    }
   ],
   "source": [
    "table6=df_find_short.T\n",
    "table6"
   ]
  },
  {
   "cell_type": "code",
   "execution_count": 22,
   "metadata": {},
   "outputs": [],
   "source": [
    "# Export table to txt for latex Report and Beamer\n",
    "file_name = \"resultado.txt\"\n",
    "path = root_path_report + file_name\n",
    "with codecs.open(path, 'w', 'utf-8') as outfile:\n",
    "    outfile.write(table6.to_latex(index=True,header=False,escape=True))\n",
    "\n",
    "path = root_path_beamer + file_name\n",
    "with codecs.open(path, 'w', 'utf-8') as outfile:\n",
    "    outfile.write(table6.to_latex(index=True,header=False,escape=True))\n"
   ]
  }
 ]
}