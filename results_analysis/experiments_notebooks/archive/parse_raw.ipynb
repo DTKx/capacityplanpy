{
 "metadata": {
  "language_info": {
   "codemirror_mode": {
    "name": "ipython",
    "version": 3
   },
   "file_extension": ".py",
   "mimetype": "text/x-python",
   "name": "python",
   "nbconvert_exporter": "python",
   "pygments_lexer": "ipython3",
   "version": "3.8.8-final"
  },
  "orig_nbformat": 2,
  "kernelspec": {
   "name": "python3",
   "display_name": "Python 3",
   "language": "python"
  }
 },
 "nbformat": 4,
 "nbformat_minor": 2,
 "cells": [
  {
   "source": [
    "# Reproduction of Article\n",
    "1. Steps:\n",
    "    1. Import Data\n",
    "    1. Initial Data Exploration\n",
    "        1. Data Summary Table\n",
    "    1. Comparison with article Data"
   ],
   "cell_type": "markdown",
   "metadata": {}
  },
  {
   "cell_type": "code",
   "execution_count": 32,
   "metadata": {},
   "outputs": [],
   "source": [
    "import pickle\n",
    "import numpy as np\n",
    "import pandas as pd\n",
    "import matplotlib.pyplot as plt\n",
    "import copy\n",
    "import codecs\n",
    "# root_path_report=\"C:\\\\Users\\\\Debs\\\\Documents\\\\01_UFU_local\\\\01_comp_evolutiva\\\\05_trabalho3\\\\03_relatorio\\\\springer\\\\tables\\\\\"\n",
    "root_path_report= os.path.abspath(os.path.join(\"..\",\"..\",\"report\", \"springer\",\"tables\"))\n",
    "if os.path.exists(root_path_report) == False:\n",
    "    raise Exception(f\"Could not find the path {root_path_report}, please modify the path.\")\n",
    "\n",
    "root_path_data = os.path.abspath(os.path.join(\"..\",\"..\",\"data\", \"output_raw\"))\n",
    "if os.path.exists(root_path_data) == False:\n",
    "    raise Exception(f\"Could not find the path {root_path_data}, please modify the path.\")\n",
    "\n",
    "root_path_analysis = os.path.abspath(os.path.join(\"..\",\"data\"))\n",
    "if os.path.exists(root_path_analysis) == False:\n",
    "    raise Exception(f\"Could not find the path {root_path_analysis}, please modify the path.\")\n",
    "\n",
    "pd.set_option('display.max_rows', 500)\n",
    "pd.set_option('display.max_columns', 500)\n",
    "pd.set_option('display.max_colwidth', 130)\n",
    "pd.set_option('display.width', 2000)\n"
   ]
  },
  {
   "source": [
    "## Parse Data"
   ],
   "cell_type": "markdown",
   "metadata": {}
  },
  {
   "cell_type": "code",
   "execution_count": 2,
   "metadata": {},
   "outputs": [],
   "source": [
    "# import cPickle as pickle\n",
    "import pickle\n",
    "import sys\n",
    "# insert at 1, 0 is the script path (or '' in REPL)\n",
    "sys.path.insert(1,'C:\\\\Users\\\\Debora\\\\Documents\\\\01_UFU_local\\\\01_comp_evolutiva\\\\05_trabalho3\\\\02_implementacao\\\\')\n",
    "from population import Population\n",
    "def export_obj(obj, path):\n",
    "    with open(path, \"wb\") as output:  # Overwrites any existing file.\n",
    "        pickle.dump(obj, output, pickle.HIGHEST_PROTOCOL)\n",
    "\n",
    "\n",
    "def load_obj(path):\n",
    "    with open(path, \"rb\") as input:\n",
    "        obj = pickle.load(input)\n",
    "    return obj"
   ]
  },
  {
   "source": [
    "# # Export table to txt for latex\n",
    "# root_path_report = \"C:\\\\Users\\\\debor\\\\Documents\\\\01_UFU_local\\\\01_comp_evolutiva\\\\01_trabalho_1\\\\03_relatorio\\\\template-latex\\\\tables\\\\\"\n",
    "# file_name = \"representacao.txt\"\n",
    "# path = root_path_report + file_name\n",
    "# with codecs.open(path, 'w', 'utf-8') as outfile:\n",
    "#     outfile.write(tabela_df.to_latex(index=False))\n",
    "\n",
    "# Open pickle Exec\n",
    "file_name='v_0_exec.pkl'\n",
    "# file_name='step_v_0step_exec.pkl'\n",
    "path=root_path_data+file_name\n",
    "infile = open(path,'rb')\n",
    "ds_exec= pickle.load(infile)\n",
    "infile.close()\n",
    "\n",
    "# Open pickle dict class object pop\n",
    "file_name='v_0_id.pkl'\n",
    "# file_name='step_v_0_id.pkl'\n",
    "path=root_path_data+file_name\n",
    "infile = open(path,'rb')\n",
    "ds_ind= pickle.load(infile)\n",
    "infile.close()\n",
    "\n",
    "# Unpack Data Execution\n",
    "headers=[\"Execution\",\"Variant\",\"Hipervolume\",\"Pareto Front\"]\n",
    "df_exec=pd.DataFrame(ds_exec,columns=headers)\n",
    "\n",
    "# Unpack Data per Ind\n",
    "headers=[\"Execution\",\"Variation\",\"Solution\",\"Total throughput [kg]\", \"Max total backlog [kg]\", \"Mean total backlog [kg]\",\"std dev total backlog [kg]\", \"Median total backlog [kg]\",\"Min total backlog [kg]\", \"P(total backlog ≤ 0 kg)\",\"Max total inventory deficit [kg]\", \"Mean total inventory deficit [kg]\",\"std dev inventory deficit [kg]\", \"Median total inventory deficit [kg]\", \"Min total inventory deficit [kg]\",\"Total Deficit [kg]\",\"Batches [un]\",\"Product label\",\"Start of USP [date]\",\"End of DSP [date]\"]\n",
    "\n",
    "df_ind=pd.DataFrame(ds_ind,columns=headers)"
   ],
   "cell_type": "code",
   "metadata": {},
   "execution_count": 3,
   "outputs": []
  },
  {
   "cell_type": "code",
   "execution_count": 4,
   "metadata": {},
   "outputs": [
    {
     "output_type": "execute_result",
     "data": {
      "text/plain": [
       "   Execution                                                                                        Variant  Hipervolume                                            Pareto Front\n",
       "0          0  front_nsga,tour_vio,rein_vio,vio_back,calc_montecarlo,100,1000,2,0.5,(0.04, 0.61, 0.77, 0.47)     0.978836  [[579.1, 522.7641700081922], [594.2, 538.52892355635]]"
      ],
      "text/html": "<div>\n<style scoped>\n    .dataframe tbody tr th:only-of-type {\n        vertical-align: middle;\n    }\n\n    .dataframe tbody tr th {\n        vertical-align: top;\n    }\n\n    .dataframe thead th {\n        text-align: right;\n    }\n</style>\n<table border=\"1\" class=\"dataframe\">\n  <thead>\n    <tr style=\"text-align: right;\">\n      <th></th>\n      <th>Execution</th>\n      <th>Variant</th>\n      <th>Hipervolume</th>\n      <th>Pareto Front</th>\n    </tr>\n  </thead>\n  <tbody>\n    <tr>\n      <th>0</th>\n      <td>0</td>\n      <td>front_nsga,tour_vio,rein_vio,vio_back,calc_montecarlo,100,1000,2,0.5,(0.04, 0.61, 0.77, 0.47)</td>\n      <td>0.978836</td>\n      <td>[[579.1, 522.7641700081922], [594.2, 538.52892355635]]</td>\n    </tr>\n  </tbody>\n</table>\n</div>"
     },
     "metadata": {},
     "execution_count": 4
    }
   ],
   "source": [
    "df_exec"
   ]
  },
  {
   "source": [
    "### Individuals"
   ],
   "cell_type": "markdown",
   "metadata": {}
  },
  {
   "cell_type": "code",
   "execution_count": 5,
   "metadata": {},
   "outputs": [
    {
     "output_type": "execute_result",
     "data": {
      "text/plain": [
       "   Execution                                                                                      Variation Solution  Total throughput [kg]  Max total backlog [kg]  Mean total backlog [kg]  std dev total backlog [kg]  Median total backlog [kg]  Min total backlog [kg]  P(total backlog ≤ 0 kg)  Max total inventory deficit [kg]  Mean total inventory deficit [kg]  std dev inventory deficit [kg]  Median total inventory deficit [kg]  Min total inventory deficit [kg]  Total Deficit [kg]                       Batches [un]                Product label                                                                                           Start of USP [date]                                                                                             End of DSP [date]\n",
       "0          0  front_nsga,tour_vio,rein_vio,vio_back,calc_montecarlo,100,1000,2,0.5,(0.04, 0.61, 0.77, 0.47)        X                  579.1               11.510280                 0.954276                    1.611787                        0.0                     0.0                    0.514                        707.568993                         522.932321                       55.176101                           522.764170                        363.563667          522.764170  [16, 9, 32, 3, 16, 13, 16, 2, 21]  [3, 2, 0, 1, 3, 2, 0, 1, 3]  [2016-12-01, 2017-04-14, 2017-07-02, 2018-03-02, 2018-04-11, 2018-08-23, 2018-12-08, 2019-04-18, 2019-05-17]  [2017-05-11, 2017-07-31, 2018-03-28, 2018-05-10, 2018-09-19, 2019-01-06, 2019-05-14, 2019-06-15, 2019-11-29]\n",
       "1          0  front_nsga,tour_vio,rein_vio,vio_back,calc_montecarlo,100,1000,2,0.5,(0.04, 0.61, 0.77, 0.47)        Y                  594.2               10.758521                 0.862772                    1.538422                        0.0                     0.0                    0.550                        785.014519                         541.405629                       64.565966                           538.528924                        353.727384          538.528924     [16, 9, 31, 4, 14, 13, 15, 28]     [3, 2, 0, 1, 3, 2, 0, 3]              [2016-12-01, 2017-04-14, 2017-07-02, 2018-02-23, 2018-04-15, 2018-08-13, 2018-11-28, 2019-03-29]              [2017-05-11, 2017-07-31, 2018-03-21, 2018-05-14, 2018-09-09, 2018-12-27, 2019-04-27, 2019-11-29]"
      ],
      "text/html": "<div>\n<style scoped>\n    .dataframe tbody tr th:only-of-type {\n        vertical-align: middle;\n    }\n\n    .dataframe tbody tr th {\n        vertical-align: top;\n    }\n\n    .dataframe thead th {\n        text-align: right;\n    }\n</style>\n<table border=\"1\" class=\"dataframe\">\n  <thead>\n    <tr style=\"text-align: right;\">\n      <th></th>\n      <th>Execution</th>\n      <th>Variation</th>\n      <th>Solution</th>\n      <th>Total throughput [kg]</th>\n      <th>Max total backlog [kg]</th>\n      <th>Mean total backlog [kg]</th>\n      <th>std dev total backlog [kg]</th>\n      <th>Median total backlog [kg]</th>\n      <th>Min total backlog [kg]</th>\n      <th>P(total backlog ≤ 0 kg)</th>\n      <th>Max total inventory deficit [kg]</th>\n      <th>Mean total inventory deficit [kg]</th>\n      <th>std dev inventory deficit [kg]</th>\n      <th>Median total inventory deficit [kg]</th>\n      <th>Min total inventory deficit [kg]</th>\n      <th>Total Deficit [kg]</th>\n      <th>Batches [un]</th>\n      <th>Product label</th>\n      <th>Start of USP [date]</th>\n      <th>End of DSP [date]</th>\n    </tr>\n  </thead>\n  <tbody>\n    <tr>\n      <th>0</th>\n      <td>0</td>\n      <td>front_nsga,tour_vio,rein_vio,vio_back,calc_montecarlo,100,1000,2,0.5,(0.04, 0.61, 0.77, 0.47)</td>\n      <td>X</td>\n      <td>579.1</td>\n      <td>11.510280</td>\n      <td>0.954276</td>\n      <td>1.611787</td>\n      <td>0.0</td>\n      <td>0.0</td>\n      <td>0.514</td>\n      <td>707.568993</td>\n      <td>522.932321</td>\n      <td>55.176101</td>\n      <td>522.764170</td>\n      <td>363.563667</td>\n      <td>522.764170</td>\n      <td>[16, 9, 32, 3, 16, 13, 16, 2, 21]</td>\n      <td>[3, 2, 0, 1, 3, 2, 0, 1, 3]</td>\n      <td>[2016-12-01, 2017-04-14, 2017-07-02, 2018-03-02, 2018-04-11, 2018-08-23, 2018-12-08, 2019-04-18, 2019-05-17]</td>\n      <td>[2017-05-11, 2017-07-31, 2018-03-28, 2018-05-10, 2018-09-19, 2019-01-06, 2019-05-14, 2019-06-15, 2019-11-29]</td>\n    </tr>\n    <tr>\n      <th>1</th>\n      <td>0</td>\n      <td>front_nsga,tour_vio,rein_vio,vio_back,calc_montecarlo,100,1000,2,0.5,(0.04, 0.61, 0.77, 0.47)</td>\n      <td>Y</td>\n      <td>594.2</td>\n      <td>10.758521</td>\n      <td>0.862772</td>\n      <td>1.538422</td>\n      <td>0.0</td>\n      <td>0.0</td>\n      <td>0.550</td>\n      <td>785.014519</td>\n      <td>541.405629</td>\n      <td>64.565966</td>\n      <td>538.528924</td>\n      <td>353.727384</td>\n      <td>538.528924</td>\n      <td>[16, 9, 31, 4, 14, 13, 15, 28]</td>\n      <td>[3, 2, 0, 1, 3, 2, 0, 3]</td>\n      <td>[2016-12-01, 2017-04-14, 2017-07-02, 2018-02-23, 2018-04-15, 2018-08-13, 2018-11-28, 2019-03-29]</td>\n      <td>[2017-05-11, 2017-07-31, 2018-03-21, 2018-05-14, 2018-09-09, 2018-12-27, 2019-04-27, 2019-11-29]</td>\n    </tr>\n  </tbody>\n</table>\n</div>"
     },
     "metadata": {},
     "execution_count": 5
    }
   ],
   "source": [
    "df_ind #X and Y solutions"
   ]
  },
  {
   "source": [
    "- Pareto Front"
   ],
   "cell_type": "markdown",
   "metadata": {}
  },
  {
   "cell_type": "code",
   "execution_count": 6,
   "metadata": {},
   "outputs": [
    {
     "output_type": "execute_result",
     "data": {
      "text/plain": [
       "                             Batches                     Products                  Objectives  Median total backlog\n",
       "0  [16, 9, 32, 3, 16, 13, 16, 2, 21]  [3, 2, 0, 1, 3, 2, 0, 1, 3]  [579.1, 522.7641700081922]                   0.0\n",
       "1     [16, 9, 31, 4, 14, 13, 15, 28]     [3, 2, 0, 1, 3, 2, 0, 3]    [594.2, 538.52892355635]                   0.0"
      ],
      "text/html": "<div>\n<style scoped>\n    .dataframe tbody tr th:only-of-type {\n        vertical-align: middle;\n    }\n\n    .dataframe tbody tr th {\n        vertical-align: top;\n    }\n\n    .dataframe thead th {\n        text-align: right;\n    }\n</style>\n<table border=\"1\" class=\"dataframe\">\n  <thead>\n    <tr style=\"text-align: right;\">\n      <th></th>\n      <th>Batches</th>\n      <th>Products</th>\n      <th>Objectives</th>\n      <th>Median total backlog</th>\n    </tr>\n  </thead>\n  <tbody>\n    <tr>\n      <th>0</th>\n      <td>[16, 9, 32, 3, 16, 13, 16, 2, 21]</td>\n      <td>[3, 2, 0, 1, 3, 2, 0, 1, 3]</td>\n      <td>[579.1, 522.7641700081922]</td>\n      <td>0.0</td>\n    </tr>\n    <tr>\n      <th>1</th>\n      <td>[16, 9, 31, 4, 14, 13, 15, 28]</td>\n      <td>[3, 2, 0, 1, 3, 2, 0, 3]</td>\n      <td>[594.2, 538.52892355635]</td>\n      <td>0.0</td>\n    </tr>\n  </tbody>\n</table>\n</div>"
     },
     "metadata": {},
     "execution_count": 6
    }
   ],
   "source": [
    "import copy\n",
    "import datetime\n",
    "date=datetime.datetime.now()\n",
    "\n",
    "# file_name_solutions='pop_100,1000,2,0.11,(0.04, 0.61, 0.77, 0.47).pkl'#MODIFY THIS NAME IF NECESSARY\n",
    "file_name_solutions='pop_100,1000,2,0.5,(0.04, 0.61, 0.77, 0.47).pkl'#MODIFY THIS NAME IF NECESSARY\n",
    "path=root_path_data+file_name_solutions\n",
    "pop = load_obj(path)\n",
    "batches=[]\n",
    "products=[]\n",
    "objectives=[]\n",
    "median_backlogs=[]\n",
    "for i in range(0,len(pop.batches_raw)):   \n",
    "    batches.append(pop.batches_raw[i][pop.masks[i]])\n",
    "    products.append(pop.products_raw[i][pop.masks[i]])\n",
    "    objectives.append(pop.objectives_raw[i])\n",
    "    median_backlogs.append(pop.backlogs[i, 6])\n",
    "solutions= pd.DataFrame(list(zip(batches,products,objectives,median_backlogs)), \n",
    "               columns =[\"Batches\",\"Products\",\"Objectives\",\"Median total backlog\"]) \n",
    "file_name=str(date.day)+\"-\"+str(date.month)+str(date.hour)+'solutions.csv'\n",
    "path=root_path_analysis+file_name\n",
    "solutions.to_csv(path)\n",
    "solutions"
   ]
  },
  {
   "cell_type": "code",
   "execution_count": 7,
   "metadata": {},
   "outputs": [
    {
     "output_type": "execute_result",
     "data": {
      "text/plain": [
       "array([0, 0])"
      ]
     },
     "metadata": {},
     "execution_count": 7
    }
   ],
   "source": [
    "pop.fronts[:]"
   ]
  },
  {
   "source": [
    "- Pareto Front"
   ],
   "cell_type": "markdown",
   "metadata": {}
  },
  {
   "cell_type": "code",
   "execution_count": 8,
   "metadata": {},
   "outputs": [
    {
     "output_type": "display_data",
     "data": {
      "text/plain": "<Figure size 432x288 with 1 Axes>",
      "image/svg+xml": "<?xml version=\"1.0\" encoding=\"utf-8\" standalone=\"no\"?>\r\n<!DOCTYPE svg PUBLIC \"-//W3C//DTD SVG 1.1//EN\"\r\n  \"http://www.w3.org/Graphics/SVG/1.1/DTD/svg11.dtd\">\r\n<!-- Created with matplotlib (https://matplotlib.org/) -->\r\n<svg height=\"277.314375pt\" version=\"1.1\" viewBox=\"0 0 388.965625 277.314375\" width=\"388.965625pt\" xmlns=\"http://www.w3.org/2000/svg\" xmlns:xlink=\"http://www.w3.org/1999/xlink\">\r\n <defs>\r\n  <style type=\"text/css\">\r\n*{stroke-linecap:butt;stroke-linejoin:round;}\r\n  </style>\r\n </defs>\r\n <g id=\"figure_1\">\r\n  <g id=\"patch_1\">\r\n   <path d=\"M -0 277.314375 \r\nL 388.965625 277.314375 \r\nL 388.965625 0 \r\nL -0 0 \r\nz\r\n\" style=\"fill:none;\"/>\r\n  </g>\r\n  <g id=\"axes_1\">\r\n   <g id=\"patch_2\">\r\n    <path d=\"M 46.965625 239.758125 \r\nL 381.765625 239.758125 \r\nL 381.765625 22.318125 \r\nL 46.965625 22.318125 \r\nz\r\n\" style=\"fill:#ffffff;\"/>\r\n   </g>\r\n   <g id=\"PathCollection_1\">\r\n    <defs>\r\n     <path d=\"M 0 3 \r\nC 0.795609 3 1.55874 2.683901 2.12132 2.12132 \r\nC 2.683901 1.55874 3 0.795609 3 0 \r\nC 3 -0.795609 2.683901 -1.55874 2.12132 -2.12132 \r\nC 1.55874 -2.683901 0.795609 -3 0 -3 \r\nC -0.795609 -3 -1.55874 -2.683901 -2.12132 -2.12132 \r\nC -2.683901 -1.55874 -3 -0.795609 -3 0 \r\nC -3 0.795609 -2.683901 1.55874 -2.12132 2.12132 \r\nC -1.55874 2.683901 -0.795609 3 0 3 \r\nz\r\n\" id=\"m8425aa465a\" style=\"stroke:#008000;\"/>\r\n    </defs>\r\n    <g clip-path=\"url(#pa987e00a26)\">\r\n     <use style=\"fill:#008000;stroke:#008000;\" x=\"62.183807\" xlink:href=\"#m8425aa465a\" y=\"229.874489\"/>\r\n     <use style=\"fill:#008000;stroke:#008000;\" x=\"366.547443\" xlink:href=\"#m8425aa465a\" y=\"32.201761\"/>\r\n    </g>\r\n   </g>\r\n   <g id=\"matplotlib.axis_1\">\r\n    <g id=\"xtick_1\">\r\n     <g id=\"line2d_1\">\r\n      <defs>\r\n       <path d=\"M 0 0 \r\nL 0 3.5 \r\n\" id=\"m3f10b47bba\" style=\"stroke:#000000;stroke-width:0.8;\"/>\r\n      </defs>\r\n      <g>\r\n       <use style=\"stroke:#000000;stroke-width:0.8;\" x=\"80.324686\" xlink:href=\"#m3f10b47bba\" y=\"239.758125\"/>\r\n      </g>\r\n     </g>\r\n     <g id=\"text_1\">\r\n      <!-- 580 -->\r\n      <defs>\r\n       <path d=\"M 10.796875 72.90625 \r\nL 49.515625 72.90625 \r\nL 49.515625 64.59375 \r\nL 19.828125 64.59375 \r\nL 19.828125 46.734375 \r\nQ 21.96875 47.46875 24.109375 47.828125 \r\nQ 26.265625 48.1875 28.421875 48.1875 \r\nQ 40.625 48.1875 47.75 41.5 \r\nQ 54.890625 34.8125 54.890625 23.390625 \r\nQ 54.890625 11.625 47.5625 5.09375 \r\nQ 40.234375 -1.421875 26.90625 -1.421875 \r\nQ 22.3125 -1.421875 17.546875 -0.640625 \r\nQ 12.796875 0.140625 7.71875 1.703125 \r\nL 7.71875 11.625 \r\nQ 12.109375 9.234375 16.796875 8.0625 \r\nQ 21.484375 6.890625 26.703125 6.890625 \r\nQ 35.15625 6.890625 40.078125 11.328125 \r\nQ 45.015625 15.765625 45.015625 23.390625 \r\nQ 45.015625 31 40.078125 35.4375 \r\nQ 35.15625 39.890625 26.703125 39.890625 \r\nQ 22.75 39.890625 18.8125 39.015625 \r\nQ 14.890625 38.140625 10.796875 36.28125 \r\nz\r\n\" id=\"DejaVuSans-53\"/>\r\n       <path d=\"M 31.78125 34.625 \r\nQ 24.75 34.625 20.71875 30.859375 \r\nQ 16.703125 27.09375 16.703125 20.515625 \r\nQ 16.703125 13.921875 20.71875 10.15625 \r\nQ 24.75 6.390625 31.78125 6.390625 \r\nQ 38.8125 6.390625 42.859375 10.171875 \r\nQ 46.921875 13.96875 46.921875 20.515625 \r\nQ 46.921875 27.09375 42.890625 30.859375 \r\nQ 38.875 34.625 31.78125 34.625 \r\nz\r\nM 21.921875 38.8125 \r\nQ 15.578125 40.375 12.03125 44.71875 \r\nQ 8.5 49.078125 8.5 55.328125 \r\nQ 8.5 64.0625 14.71875 69.140625 \r\nQ 20.953125 74.21875 31.78125 74.21875 \r\nQ 42.671875 74.21875 48.875 69.140625 \r\nQ 55.078125 64.0625 55.078125 55.328125 \r\nQ 55.078125 49.078125 51.53125 44.71875 \r\nQ 48 40.375 41.703125 38.8125 \r\nQ 48.828125 37.15625 52.796875 32.3125 \r\nQ 56.78125 27.484375 56.78125 20.515625 \r\nQ 56.78125 9.90625 50.3125 4.234375 \r\nQ 43.84375 -1.421875 31.78125 -1.421875 \r\nQ 19.734375 -1.421875 13.25 4.234375 \r\nQ 6.78125 9.90625 6.78125 20.515625 \r\nQ 6.78125 27.484375 10.78125 32.3125 \r\nQ 14.796875 37.15625 21.921875 38.8125 \r\nz\r\nM 18.3125 54.390625 \r\nQ 18.3125 48.734375 21.84375 45.5625 \r\nQ 25.390625 42.390625 31.78125 42.390625 \r\nQ 38.140625 42.390625 41.71875 45.5625 \r\nQ 45.3125 48.734375 45.3125 54.390625 \r\nQ 45.3125 60.0625 41.71875 63.234375 \r\nQ 38.140625 66.40625 31.78125 66.40625 \r\nQ 25.390625 66.40625 21.84375 63.234375 \r\nQ 18.3125 60.0625 18.3125 54.390625 \r\nz\r\n\" id=\"DejaVuSans-56\"/>\r\n       <path d=\"M 31.78125 66.40625 \r\nQ 24.171875 66.40625 20.328125 58.90625 \r\nQ 16.5 51.421875 16.5 36.375 \r\nQ 16.5 21.390625 20.328125 13.890625 \r\nQ 24.171875 6.390625 31.78125 6.390625 \r\nQ 39.453125 6.390625 43.28125 13.890625 \r\nQ 47.125 21.390625 47.125 36.375 \r\nQ 47.125 51.421875 43.28125 58.90625 \r\nQ 39.453125 66.40625 31.78125 66.40625 \r\nz\r\nM 31.78125 74.21875 \r\nQ 44.046875 74.21875 50.515625 64.515625 \r\nQ 56.984375 54.828125 56.984375 36.375 \r\nQ 56.984375 17.96875 50.515625 8.265625 \r\nQ 44.046875 -1.421875 31.78125 -1.421875 \r\nQ 19.53125 -1.421875 13.0625 8.265625 \r\nQ 6.59375 17.96875 6.59375 36.375 \r\nQ 6.59375 54.828125 13.0625 64.515625 \r\nQ 19.53125 74.21875 31.78125 74.21875 \r\nz\r\n\" id=\"DejaVuSans-48\"/>\r\n      </defs>\r\n      <g transform=\"translate(70.780936 254.356562)scale(0.1 -0.1)\">\r\n       <use xlink:href=\"#DejaVuSans-53\"/>\r\n       <use x=\"63.623047\" xlink:href=\"#DejaVuSans-56\"/>\r\n       <use x=\"127.246094\" xlink:href=\"#DejaVuSans-48\"/>\r\n      </g>\r\n     </g>\r\n    </g>\r\n    <g id=\"xtick_2\">\r\n     <g id=\"line2d_2\">\r\n      <g>\r\n       <use style=\"stroke:#000000;stroke-width:0.8;\" x=\"120.63775\" xlink:href=\"#m3f10b47bba\" y=\"239.758125\"/>\r\n      </g>\r\n     </g>\r\n     <g id=\"text_2\">\r\n      <!-- 582 -->\r\n      <defs>\r\n       <path d=\"M 19.1875 8.296875 \r\nL 53.609375 8.296875 \r\nL 53.609375 0 \r\nL 7.328125 0 \r\nL 7.328125 8.296875 \r\nQ 12.9375 14.109375 22.625 23.890625 \r\nQ 32.328125 33.6875 34.8125 36.53125 \r\nQ 39.546875 41.84375 41.421875 45.53125 \r\nQ 43.3125 49.21875 43.3125 52.78125 \r\nQ 43.3125 58.59375 39.234375 62.25 \r\nQ 35.15625 65.921875 28.609375 65.921875 \r\nQ 23.96875 65.921875 18.8125 64.3125 \r\nQ 13.671875 62.703125 7.8125 59.421875 \r\nL 7.8125 69.390625 \r\nQ 13.765625 71.78125 18.9375 73 \r\nQ 24.125 74.21875 28.421875 74.21875 \r\nQ 39.75 74.21875 46.484375 68.546875 \r\nQ 53.21875 62.890625 53.21875 53.421875 \r\nQ 53.21875 48.921875 51.53125 44.890625 \r\nQ 49.859375 40.875 45.40625 35.40625 \r\nQ 44.1875 33.984375 37.640625 27.21875 \r\nQ 31.109375 20.453125 19.1875 8.296875 \r\nz\r\n\" id=\"DejaVuSans-50\"/>\r\n      </defs>\r\n      <g transform=\"translate(111.094 254.356562)scale(0.1 -0.1)\">\r\n       <use xlink:href=\"#DejaVuSans-53\"/>\r\n       <use x=\"63.623047\" xlink:href=\"#DejaVuSans-56\"/>\r\n       <use x=\"127.246094\" xlink:href=\"#DejaVuSans-50\"/>\r\n      </g>\r\n     </g>\r\n    </g>\r\n    <g id=\"xtick_3\">\r\n     <g id=\"line2d_3\">\r\n      <g>\r\n       <use style=\"stroke:#000000;stroke-width:0.8;\" x=\"160.950815\" xlink:href=\"#m3f10b47bba\" y=\"239.758125\"/>\r\n      </g>\r\n     </g>\r\n     <g id=\"text_3\">\r\n      <!-- 584 -->\r\n      <defs>\r\n       <path d=\"M 37.796875 64.3125 \r\nL 12.890625 25.390625 \r\nL 37.796875 25.390625 \r\nz\r\nM 35.203125 72.90625 \r\nL 47.609375 72.90625 \r\nL 47.609375 25.390625 \r\nL 58.015625 25.390625 \r\nL 58.015625 17.1875 \r\nL 47.609375 17.1875 \r\nL 47.609375 0 \r\nL 37.796875 0 \r\nL 37.796875 17.1875 \r\nL 4.890625 17.1875 \r\nL 4.890625 26.703125 \r\nz\r\n\" id=\"DejaVuSans-52\"/>\r\n      </defs>\r\n      <g transform=\"translate(151.407065 254.356562)scale(0.1 -0.1)\">\r\n       <use xlink:href=\"#DejaVuSans-53\"/>\r\n       <use x=\"63.623047\" xlink:href=\"#DejaVuSans-56\"/>\r\n       <use x=\"127.246094\" xlink:href=\"#DejaVuSans-52\"/>\r\n      </g>\r\n     </g>\r\n    </g>\r\n    <g id=\"xtick_4\">\r\n     <g id=\"line2d_4\">\r\n      <g>\r\n       <use style=\"stroke:#000000;stroke-width:0.8;\" x=\"201.263879\" xlink:href=\"#m3f10b47bba\" y=\"239.758125\"/>\r\n      </g>\r\n     </g>\r\n     <g id=\"text_4\">\r\n      <!-- 586 -->\r\n      <defs>\r\n       <path d=\"M 33.015625 40.375 \r\nQ 26.375 40.375 22.484375 35.828125 \r\nQ 18.609375 31.296875 18.609375 23.390625 \r\nQ 18.609375 15.53125 22.484375 10.953125 \r\nQ 26.375 6.390625 33.015625 6.390625 \r\nQ 39.65625 6.390625 43.53125 10.953125 \r\nQ 47.40625 15.53125 47.40625 23.390625 \r\nQ 47.40625 31.296875 43.53125 35.828125 \r\nQ 39.65625 40.375 33.015625 40.375 \r\nz\r\nM 52.59375 71.296875 \r\nL 52.59375 62.3125 \r\nQ 48.875 64.0625 45.09375 64.984375 \r\nQ 41.3125 65.921875 37.59375 65.921875 \r\nQ 27.828125 65.921875 22.671875 59.328125 \r\nQ 17.53125 52.734375 16.796875 39.40625 \r\nQ 19.671875 43.65625 24.015625 45.921875 \r\nQ 28.375 48.1875 33.59375 48.1875 \r\nQ 44.578125 48.1875 50.953125 41.515625 \r\nQ 57.328125 34.859375 57.328125 23.390625 \r\nQ 57.328125 12.15625 50.6875 5.359375 \r\nQ 44.046875 -1.421875 33.015625 -1.421875 \r\nQ 20.359375 -1.421875 13.671875 8.265625 \r\nQ 6.984375 17.96875 6.984375 36.375 \r\nQ 6.984375 53.65625 15.1875 63.9375 \r\nQ 23.390625 74.21875 37.203125 74.21875 \r\nQ 40.921875 74.21875 44.703125 73.484375 \r\nQ 48.484375 72.75 52.59375 71.296875 \r\nz\r\n\" id=\"DejaVuSans-54\"/>\r\n      </defs>\r\n      <g transform=\"translate(191.720129 254.356562)scale(0.1 -0.1)\">\r\n       <use xlink:href=\"#DejaVuSans-53\"/>\r\n       <use x=\"63.623047\" xlink:href=\"#DejaVuSans-56\"/>\r\n       <use x=\"127.246094\" xlink:href=\"#DejaVuSans-54\"/>\r\n      </g>\r\n     </g>\r\n    </g>\r\n    <g id=\"xtick_5\">\r\n     <g id=\"line2d_5\">\r\n      <g>\r\n       <use style=\"stroke:#000000;stroke-width:0.8;\" x=\"241.576943\" xlink:href=\"#m3f10b47bba\" y=\"239.758125\"/>\r\n      </g>\r\n     </g>\r\n     <g id=\"text_5\">\r\n      <!-- 588 -->\r\n      <g transform=\"translate(232.033193 254.356562)scale(0.1 -0.1)\">\r\n       <use xlink:href=\"#DejaVuSans-53\"/>\r\n       <use x=\"63.623047\" xlink:href=\"#DejaVuSans-56\"/>\r\n       <use x=\"127.246094\" xlink:href=\"#DejaVuSans-56\"/>\r\n      </g>\r\n     </g>\r\n    </g>\r\n    <g id=\"xtick_6\">\r\n     <g id=\"line2d_6\">\r\n      <g>\r\n       <use style=\"stroke:#000000;stroke-width:0.8;\" x=\"281.890008\" xlink:href=\"#m3f10b47bba\" y=\"239.758125\"/>\r\n      </g>\r\n     </g>\r\n     <g id=\"text_6\">\r\n      <!-- 590 -->\r\n      <defs>\r\n       <path d=\"M 10.984375 1.515625 \r\nL 10.984375 10.5 \r\nQ 14.703125 8.734375 18.5 7.8125 \r\nQ 22.3125 6.890625 25.984375 6.890625 \r\nQ 35.75 6.890625 40.890625 13.453125 \r\nQ 46.046875 20.015625 46.78125 33.40625 \r\nQ 43.953125 29.203125 39.59375 26.953125 \r\nQ 35.25 24.703125 29.984375 24.703125 \r\nQ 19.046875 24.703125 12.671875 31.3125 \r\nQ 6.296875 37.9375 6.296875 49.421875 \r\nQ 6.296875 60.640625 12.9375 67.421875 \r\nQ 19.578125 74.21875 30.609375 74.21875 \r\nQ 43.265625 74.21875 49.921875 64.515625 \r\nQ 56.59375 54.828125 56.59375 36.375 \r\nQ 56.59375 19.140625 48.40625 8.859375 \r\nQ 40.234375 -1.421875 26.421875 -1.421875 \r\nQ 22.703125 -1.421875 18.890625 -0.6875 \r\nQ 15.09375 0.046875 10.984375 1.515625 \r\nz\r\nM 30.609375 32.421875 \r\nQ 37.25 32.421875 41.125 36.953125 \r\nQ 45.015625 41.5 45.015625 49.421875 \r\nQ 45.015625 57.28125 41.125 61.84375 \r\nQ 37.25 66.40625 30.609375 66.40625 \r\nQ 23.96875 66.40625 20.09375 61.84375 \r\nQ 16.21875 57.28125 16.21875 49.421875 \r\nQ 16.21875 41.5 20.09375 36.953125 \r\nQ 23.96875 32.421875 30.609375 32.421875 \r\nz\r\n\" id=\"DejaVuSans-57\"/>\r\n      </defs>\r\n      <g transform=\"translate(272.346258 254.356562)scale(0.1 -0.1)\">\r\n       <use xlink:href=\"#DejaVuSans-53\"/>\r\n       <use x=\"63.623047\" xlink:href=\"#DejaVuSans-57\"/>\r\n       <use x=\"127.246094\" xlink:href=\"#DejaVuSans-48\"/>\r\n      </g>\r\n     </g>\r\n    </g>\r\n    <g id=\"xtick_7\">\r\n     <g id=\"line2d_7\">\r\n      <g>\r\n       <use style=\"stroke:#000000;stroke-width:0.8;\" x=\"322.203072\" xlink:href=\"#m3f10b47bba\" y=\"239.758125\"/>\r\n      </g>\r\n     </g>\r\n     <g id=\"text_7\">\r\n      <!-- 592 -->\r\n      <g transform=\"translate(312.659322 254.356562)scale(0.1 -0.1)\">\r\n       <use xlink:href=\"#DejaVuSans-53\"/>\r\n       <use x=\"63.623047\" xlink:href=\"#DejaVuSans-57\"/>\r\n       <use x=\"127.246094\" xlink:href=\"#DejaVuSans-50\"/>\r\n      </g>\r\n     </g>\r\n    </g>\r\n    <g id=\"xtick_8\">\r\n     <g id=\"line2d_8\">\r\n      <g>\r\n       <use style=\"stroke:#000000;stroke-width:0.8;\" x=\"362.516137\" xlink:href=\"#m3f10b47bba\" y=\"239.758125\"/>\r\n      </g>\r\n     </g>\r\n     <g id=\"text_8\">\r\n      <!-- 594 -->\r\n      <g transform=\"translate(352.972387 254.356562)scale(0.1 -0.1)\">\r\n       <use xlink:href=\"#DejaVuSans-53\"/>\r\n       <use x=\"63.623047\" xlink:href=\"#DejaVuSans-57\"/>\r\n       <use x=\"127.246094\" xlink:href=\"#DejaVuSans-52\"/>\r\n      </g>\r\n     </g>\r\n    </g>\r\n    <g id=\"text_9\">\r\n     <!-- Total throughput [kg] -->\r\n     <defs>\r\n      <path d=\"M -0.296875 72.90625 \r\nL 61.375 72.90625 \r\nL 61.375 64.59375 \r\nL 35.5 64.59375 \r\nL 35.5 0 \r\nL 25.59375 0 \r\nL 25.59375 64.59375 \r\nL -0.296875 64.59375 \r\nz\r\n\" id=\"DejaVuSans-84\"/>\r\n      <path d=\"M 30.609375 48.390625 \r\nQ 23.390625 48.390625 19.1875 42.75 \r\nQ 14.984375 37.109375 14.984375 27.296875 \r\nQ 14.984375 17.484375 19.15625 11.84375 \r\nQ 23.34375 6.203125 30.609375 6.203125 \r\nQ 37.796875 6.203125 41.984375 11.859375 \r\nQ 46.1875 17.53125 46.1875 27.296875 \r\nQ 46.1875 37.015625 41.984375 42.703125 \r\nQ 37.796875 48.390625 30.609375 48.390625 \r\nz\r\nM 30.609375 56 \r\nQ 42.328125 56 49.015625 48.375 \r\nQ 55.71875 40.765625 55.71875 27.296875 \r\nQ 55.71875 13.875 49.015625 6.21875 \r\nQ 42.328125 -1.421875 30.609375 -1.421875 \r\nQ 18.84375 -1.421875 12.171875 6.21875 \r\nQ 5.515625 13.875 5.515625 27.296875 \r\nQ 5.515625 40.765625 12.171875 48.375 \r\nQ 18.84375 56 30.609375 56 \r\nz\r\n\" id=\"DejaVuSans-111\"/>\r\n      <path d=\"M 18.3125 70.21875 \r\nL 18.3125 54.6875 \r\nL 36.8125 54.6875 \r\nL 36.8125 47.703125 \r\nL 18.3125 47.703125 \r\nL 18.3125 18.015625 \r\nQ 18.3125 11.328125 20.140625 9.421875 \r\nQ 21.96875 7.515625 27.59375 7.515625 \r\nL 36.8125 7.515625 \r\nL 36.8125 0 \r\nL 27.59375 0 \r\nQ 17.1875 0 13.234375 3.875 \r\nQ 9.28125 7.765625 9.28125 18.015625 \r\nL 9.28125 47.703125 \r\nL 2.6875 47.703125 \r\nL 2.6875 54.6875 \r\nL 9.28125 54.6875 \r\nL 9.28125 70.21875 \r\nz\r\n\" id=\"DejaVuSans-116\"/>\r\n      <path d=\"M 34.28125 27.484375 \r\nQ 23.390625 27.484375 19.1875 25 \r\nQ 14.984375 22.515625 14.984375 16.5 \r\nQ 14.984375 11.71875 18.140625 8.90625 \r\nQ 21.296875 6.109375 26.703125 6.109375 \r\nQ 34.1875 6.109375 38.703125 11.40625 \r\nQ 43.21875 16.703125 43.21875 25.484375 \r\nL 43.21875 27.484375 \r\nz\r\nM 52.203125 31.203125 \r\nL 52.203125 0 \r\nL 43.21875 0 \r\nL 43.21875 8.296875 \r\nQ 40.140625 3.328125 35.546875 0.953125 \r\nQ 30.953125 -1.421875 24.3125 -1.421875 \r\nQ 15.921875 -1.421875 10.953125 3.296875 \r\nQ 6 8.015625 6 15.921875 \r\nQ 6 25.140625 12.171875 29.828125 \r\nQ 18.359375 34.515625 30.609375 34.515625 \r\nL 43.21875 34.515625 \r\nL 43.21875 35.40625 \r\nQ 43.21875 41.609375 39.140625 45 \r\nQ 35.0625 48.390625 27.6875 48.390625 \r\nQ 23 48.390625 18.546875 47.265625 \r\nQ 14.109375 46.140625 10.015625 43.890625 \r\nL 10.015625 52.203125 \r\nQ 14.9375 54.109375 19.578125 55.046875 \r\nQ 24.21875 56 28.609375 56 \r\nQ 40.484375 56 46.34375 49.84375 \r\nQ 52.203125 43.703125 52.203125 31.203125 \r\nz\r\n\" id=\"DejaVuSans-97\"/>\r\n      <path d=\"M 9.421875 75.984375 \r\nL 18.40625 75.984375 \r\nL 18.40625 0 \r\nL 9.421875 0 \r\nz\r\n\" id=\"DejaVuSans-108\"/>\r\n      <path id=\"DejaVuSans-32\"/>\r\n      <path d=\"M 54.890625 33.015625 \r\nL 54.890625 0 \r\nL 45.90625 0 \r\nL 45.90625 32.71875 \r\nQ 45.90625 40.484375 42.875 44.328125 \r\nQ 39.84375 48.1875 33.796875 48.1875 \r\nQ 26.515625 48.1875 22.3125 43.546875 \r\nQ 18.109375 38.921875 18.109375 30.90625 \r\nL 18.109375 0 \r\nL 9.078125 0 \r\nL 9.078125 75.984375 \r\nL 18.109375 75.984375 \r\nL 18.109375 46.1875 \r\nQ 21.34375 51.125 25.703125 53.5625 \r\nQ 30.078125 56 35.796875 56 \r\nQ 45.21875 56 50.046875 50.171875 \r\nQ 54.890625 44.34375 54.890625 33.015625 \r\nz\r\n\" id=\"DejaVuSans-104\"/>\r\n      <path d=\"M 41.109375 46.296875 \r\nQ 39.59375 47.171875 37.8125 47.578125 \r\nQ 36.03125 48 33.890625 48 \r\nQ 26.265625 48 22.1875 43.046875 \r\nQ 18.109375 38.09375 18.109375 28.8125 \r\nL 18.109375 0 \r\nL 9.078125 0 \r\nL 9.078125 54.6875 \r\nL 18.109375 54.6875 \r\nL 18.109375 46.1875 \r\nQ 20.953125 51.171875 25.484375 53.578125 \r\nQ 30.03125 56 36.53125 56 \r\nQ 37.453125 56 38.578125 55.875 \r\nQ 39.703125 55.765625 41.0625 55.515625 \r\nz\r\n\" id=\"DejaVuSans-114\"/>\r\n      <path d=\"M 8.5 21.578125 \r\nL 8.5 54.6875 \r\nL 17.484375 54.6875 \r\nL 17.484375 21.921875 \r\nQ 17.484375 14.15625 20.5 10.265625 \r\nQ 23.53125 6.390625 29.59375 6.390625 \r\nQ 36.859375 6.390625 41.078125 11.03125 \r\nQ 45.3125 15.671875 45.3125 23.6875 \r\nL 45.3125 54.6875 \r\nL 54.296875 54.6875 \r\nL 54.296875 0 \r\nL 45.3125 0 \r\nL 45.3125 8.40625 \r\nQ 42.046875 3.421875 37.71875 1 \r\nQ 33.40625 -1.421875 27.6875 -1.421875 \r\nQ 18.265625 -1.421875 13.375 4.4375 \r\nQ 8.5 10.296875 8.5 21.578125 \r\nz\r\nM 31.109375 56 \r\nz\r\n\" id=\"DejaVuSans-117\"/>\r\n      <path d=\"M 45.40625 27.984375 \r\nQ 45.40625 37.75 41.375 43.109375 \r\nQ 37.359375 48.484375 30.078125 48.484375 \r\nQ 22.859375 48.484375 18.828125 43.109375 \r\nQ 14.796875 37.75 14.796875 27.984375 \r\nQ 14.796875 18.265625 18.828125 12.890625 \r\nQ 22.859375 7.515625 30.078125 7.515625 \r\nQ 37.359375 7.515625 41.375 12.890625 \r\nQ 45.40625 18.265625 45.40625 27.984375 \r\nz\r\nM 54.390625 6.78125 \r\nQ 54.390625 -7.171875 48.1875 -13.984375 \r\nQ 42 -20.796875 29.203125 -20.796875 \r\nQ 24.46875 -20.796875 20.265625 -20.09375 \r\nQ 16.0625 -19.390625 12.109375 -17.921875 \r\nL 12.109375 -9.1875 \r\nQ 16.0625 -11.328125 19.921875 -12.34375 \r\nQ 23.78125 -13.375 27.78125 -13.375 \r\nQ 36.625 -13.375 41.015625 -8.765625 \r\nQ 45.40625 -4.15625 45.40625 5.171875 \r\nL 45.40625 9.625 \r\nQ 42.625 4.78125 38.28125 2.390625 \r\nQ 33.9375 0 27.875 0 \r\nQ 17.828125 0 11.671875 7.65625 \r\nQ 5.515625 15.328125 5.515625 27.984375 \r\nQ 5.515625 40.671875 11.671875 48.328125 \r\nQ 17.828125 56 27.875 56 \r\nQ 33.9375 56 38.28125 53.609375 \r\nQ 42.625 51.21875 45.40625 46.390625 \r\nL 45.40625 54.6875 \r\nL 54.390625 54.6875 \r\nz\r\n\" id=\"DejaVuSans-103\"/>\r\n      <path d=\"M 18.109375 8.203125 \r\nL 18.109375 -20.796875 \r\nL 9.078125 -20.796875 \r\nL 9.078125 54.6875 \r\nL 18.109375 54.6875 \r\nL 18.109375 46.390625 \r\nQ 20.953125 51.265625 25.265625 53.625 \r\nQ 29.59375 56 35.59375 56 \r\nQ 45.5625 56 51.78125 48.09375 \r\nQ 58.015625 40.1875 58.015625 27.296875 \r\nQ 58.015625 14.40625 51.78125 6.484375 \r\nQ 45.5625 -1.421875 35.59375 -1.421875 \r\nQ 29.59375 -1.421875 25.265625 0.953125 \r\nQ 20.953125 3.328125 18.109375 8.203125 \r\nz\r\nM 48.6875 27.296875 \r\nQ 48.6875 37.203125 44.609375 42.84375 \r\nQ 40.53125 48.484375 33.40625 48.484375 \r\nQ 26.265625 48.484375 22.1875 42.84375 \r\nQ 18.109375 37.203125 18.109375 27.296875 \r\nQ 18.109375 17.390625 22.1875 11.75 \r\nQ 26.265625 6.109375 33.40625 6.109375 \r\nQ 40.53125 6.109375 44.609375 11.75 \r\nQ 48.6875 17.390625 48.6875 27.296875 \r\nz\r\n\" id=\"DejaVuSans-112\"/>\r\n      <path d=\"M 8.59375 75.984375 \r\nL 29.296875 75.984375 \r\nL 29.296875 69 \r\nL 17.578125 69 \r\nL 17.578125 -6.203125 \r\nL 29.296875 -6.203125 \r\nL 29.296875 -13.1875 \r\nL 8.59375 -13.1875 \r\nz\r\n\" id=\"DejaVuSans-91\"/>\r\n      <path d=\"M 9.078125 75.984375 \r\nL 18.109375 75.984375 \r\nL 18.109375 31.109375 \r\nL 44.921875 54.6875 \r\nL 56.390625 54.6875 \r\nL 27.390625 29.109375 \r\nL 57.625 0 \r\nL 45.90625 0 \r\nL 18.109375 26.703125 \r\nL 18.109375 0 \r\nL 9.078125 0 \r\nz\r\n\" id=\"DejaVuSans-107\"/>\r\n      <path d=\"M 30.421875 75.984375 \r\nL 30.421875 -13.1875 \r\nL 9.71875 -13.1875 \r\nL 9.71875 -6.203125 \r\nL 21.390625 -6.203125 \r\nL 21.390625 69 \r\nL 9.71875 69 \r\nL 9.71875 75.984375 \r\nz\r\n\" id=\"DejaVuSans-93\"/>\r\n     </defs>\r\n     <g transform=\"translate(161.59375 268.034687)scale(0.1 -0.1)\">\r\n      <use xlink:href=\"#DejaVuSans-84\"/>\r\n      <use x=\"44.083984\" xlink:href=\"#DejaVuSans-111\"/>\r\n      <use x=\"105.265625\" xlink:href=\"#DejaVuSans-116\"/>\r\n      <use x=\"144.474609\" xlink:href=\"#DejaVuSans-97\"/>\r\n      <use x=\"205.753906\" xlink:href=\"#DejaVuSans-108\"/>\r\n      <use x=\"233.537109\" xlink:href=\"#DejaVuSans-32\"/>\r\n      <use x=\"265.324219\" xlink:href=\"#DejaVuSans-116\"/>\r\n      <use x=\"304.533203\" xlink:href=\"#DejaVuSans-104\"/>\r\n      <use x=\"367.912109\" xlink:href=\"#DejaVuSans-114\"/>\r\n      <use x=\"406.775391\" xlink:href=\"#DejaVuSans-111\"/>\r\n      <use x=\"467.957031\" xlink:href=\"#DejaVuSans-117\"/>\r\n      <use x=\"531.335938\" xlink:href=\"#DejaVuSans-103\"/>\r\n      <use x=\"594.8125\" xlink:href=\"#DejaVuSans-104\"/>\r\n      <use x=\"658.191406\" xlink:href=\"#DejaVuSans-112\"/>\r\n      <use x=\"721.667969\" xlink:href=\"#DejaVuSans-117\"/>\r\n      <use x=\"785.046875\" xlink:href=\"#DejaVuSans-116\"/>\r\n      <use x=\"824.255859\" xlink:href=\"#DejaVuSans-32\"/>\r\n      <use x=\"856.042969\" xlink:href=\"#DejaVuSans-91\"/>\r\n      <use x=\"895.056641\" xlink:href=\"#DejaVuSans-107\"/>\r\n      <use x=\"952.966797\" xlink:href=\"#DejaVuSans-103\"/>\r\n      <use x=\"1016.443359\" xlink:href=\"#DejaVuSans-93\"/>\r\n     </g>\r\n    </g>\r\n   </g>\r\n   <g id=\"matplotlib.axis_2\">\r\n    <g id=\"ytick_1\">\r\n     <g id=\"line2d_9\">\r\n      <defs>\r\n       <path d=\"M 0 0 \r\nL -3.5 0 \r\n\" id=\"m81ebdd5923\" style=\"stroke:#000000;stroke-width:0.8;\"/>\r\n      </defs>\r\n      <g>\r\n       <use style=\"stroke:#000000;stroke-width:0.8;\" x=\"46.965625\" xlink:href=\"#m81ebdd5923\" y=\"239.456343\"/>\r\n      </g>\r\n     </g>\r\n     <g id=\"text_10\">\r\n      <!-- 522 -->\r\n      <g transform=\"translate(20.878125 243.255562)scale(0.1 -0.1)\">\r\n       <use xlink:href=\"#DejaVuSans-53\"/>\r\n       <use x=\"63.623047\" xlink:href=\"#DejaVuSans-50\"/>\r\n       <use x=\"127.246094\" xlink:href=\"#DejaVuSans-50\"/>\r\n      </g>\r\n     </g>\r\n    </g>\r\n    <g id=\"ytick_2\">\r\n     <g id=\"line2d_10\">\r\n      <g>\r\n       <use style=\"stroke:#000000;stroke-width:0.8;\" x=\"46.965625\" xlink:href=\"#m81ebdd5923\" y=\"214.378535\"/>\r\n      </g>\r\n     </g>\r\n     <g id=\"text_11\">\r\n      <!-- 524 -->\r\n      <g transform=\"translate(20.878125 218.177754)scale(0.1 -0.1)\">\r\n       <use xlink:href=\"#DejaVuSans-53\"/>\r\n       <use x=\"63.623047\" xlink:href=\"#DejaVuSans-50\"/>\r\n       <use x=\"127.246094\" xlink:href=\"#DejaVuSans-52\"/>\r\n      </g>\r\n     </g>\r\n    </g>\r\n    <g id=\"ytick_3\">\r\n     <g id=\"line2d_11\">\r\n      <g>\r\n       <use style=\"stroke:#000000;stroke-width:0.8;\" x=\"46.965625\" xlink:href=\"#m81ebdd5923\" y=\"189.300728\"/>\r\n      </g>\r\n     </g>\r\n     <g id=\"text_12\">\r\n      <!-- 526 -->\r\n      <g transform=\"translate(20.878125 193.099947)scale(0.1 -0.1)\">\r\n       <use xlink:href=\"#DejaVuSans-53\"/>\r\n       <use x=\"63.623047\" xlink:href=\"#DejaVuSans-50\"/>\r\n       <use x=\"127.246094\" xlink:href=\"#DejaVuSans-54\"/>\r\n      </g>\r\n     </g>\r\n    </g>\r\n    <g id=\"ytick_4\">\r\n     <g id=\"line2d_12\">\r\n      <g>\r\n       <use style=\"stroke:#000000;stroke-width:0.8;\" x=\"46.965625\" xlink:href=\"#m81ebdd5923\" y=\"164.22292\"/>\r\n      </g>\r\n     </g>\r\n     <g id=\"text_13\">\r\n      <!-- 528 -->\r\n      <g transform=\"translate(20.878125 168.022139)scale(0.1 -0.1)\">\r\n       <use xlink:href=\"#DejaVuSans-53\"/>\r\n       <use x=\"63.623047\" xlink:href=\"#DejaVuSans-50\"/>\r\n       <use x=\"127.246094\" xlink:href=\"#DejaVuSans-56\"/>\r\n      </g>\r\n     </g>\r\n    </g>\r\n    <g id=\"ytick_5\">\r\n     <g id=\"line2d_13\">\r\n      <g>\r\n       <use style=\"stroke:#000000;stroke-width:0.8;\" x=\"46.965625\" xlink:href=\"#m81ebdd5923\" y=\"139.145113\"/>\r\n      </g>\r\n     </g>\r\n     <g id=\"text_14\">\r\n      <!-- 530 -->\r\n      <defs>\r\n       <path d=\"M 40.578125 39.3125 \r\nQ 47.65625 37.796875 51.625 33 \r\nQ 55.609375 28.21875 55.609375 21.1875 \r\nQ 55.609375 10.40625 48.1875 4.484375 \r\nQ 40.765625 -1.421875 27.09375 -1.421875 \r\nQ 22.515625 -1.421875 17.65625 -0.515625 \r\nQ 12.796875 0.390625 7.625 2.203125 \r\nL 7.625 11.71875 \r\nQ 11.71875 9.328125 16.59375 8.109375 \r\nQ 21.484375 6.890625 26.8125 6.890625 \r\nQ 36.078125 6.890625 40.9375 10.546875 \r\nQ 45.796875 14.203125 45.796875 21.1875 \r\nQ 45.796875 27.640625 41.28125 31.265625 \r\nQ 36.765625 34.90625 28.71875 34.90625 \r\nL 20.21875 34.90625 \r\nL 20.21875 43.015625 \r\nL 29.109375 43.015625 \r\nQ 36.375 43.015625 40.234375 45.921875 \r\nQ 44.09375 48.828125 44.09375 54.296875 \r\nQ 44.09375 59.90625 40.109375 62.90625 \r\nQ 36.140625 65.921875 28.71875 65.921875 \r\nQ 24.65625 65.921875 20.015625 65.03125 \r\nQ 15.375 64.15625 9.8125 62.3125 \r\nL 9.8125 71.09375 \r\nQ 15.4375 72.65625 20.34375 73.4375 \r\nQ 25.25 74.21875 29.59375 74.21875 \r\nQ 40.828125 74.21875 47.359375 69.109375 \r\nQ 53.90625 64.015625 53.90625 55.328125 \r\nQ 53.90625 49.265625 50.4375 45.09375 \r\nQ 46.96875 40.921875 40.578125 39.3125 \r\nz\r\n\" id=\"DejaVuSans-51\"/>\r\n      </defs>\r\n      <g transform=\"translate(20.878125 142.944332)scale(0.1 -0.1)\">\r\n       <use xlink:href=\"#DejaVuSans-53\"/>\r\n       <use x=\"63.623047\" xlink:href=\"#DejaVuSans-51\"/>\r\n       <use x=\"127.246094\" xlink:href=\"#DejaVuSans-48\"/>\r\n      </g>\r\n     </g>\r\n    </g>\r\n    <g id=\"ytick_6\">\r\n     <g id=\"line2d_14\">\r\n      <g>\r\n       <use style=\"stroke:#000000;stroke-width:0.8;\" x=\"46.965625\" xlink:href=\"#m81ebdd5923\" y=\"114.067305\"/>\r\n      </g>\r\n     </g>\r\n     <g id=\"text_15\">\r\n      <!-- 532 -->\r\n      <g transform=\"translate(20.878125 117.866524)scale(0.1 -0.1)\">\r\n       <use xlink:href=\"#DejaVuSans-53\"/>\r\n       <use x=\"63.623047\" xlink:href=\"#DejaVuSans-51\"/>\r\n       <use x=\"127.246094\" xlink:href=\"#DejaVuSans-50\"/>\r\n      </g>\r\n     </g>\r\n    </g>\r\n    <g id=\"ytick_7\">\r\n     <g id=\"line2d_15\">\r\n      <g>\r\n       <use style=\"stroke:#000000;stroke-width:0.8;\" x=\"46.965625\" xlink:href=\"#m81ebdd5923\" y=\"88.989498\"/>\r\n      </g>\r\n     </g>\r\n     <g id=\"text_16\">\r\n      <!-- 534 -->\r\n      <g transform=\"translate(20.878125 92.788717)scale(0.1 -0.1)\">\r\n       <use xlink:href=\"#DejaVuSans-53\"/>\r\n       <use x=\"63.623047\" xlink:href=\"#DejaVuSans-51\"/>\r\n       <use x=\"127.246094\" xlink:href=\"#DejaVuSans-52\"/>\r\n      </g>\r\n     </g>\r\n    </g>\r\n    <g id=\"ytick_8\">\r\n     <g id=\"line2d_16\">\r\n      <g>\r\n       <use style=\"stroke:#000000;stroke-width:0.8;\" x=\"46.965625\" xlink:href=\"#m81ebdd5923\" y=\"63.91169\"/>\r\n      </g>\r\n     </g>\r\n     <g id=\"text_17\">\r\n      <!-- 536 -->\r\n      <g transform=\"translate(20.878125 67.710909)scale(0.1 -0.1)\">\r\n       <use xlink:href=\"#DejaVuSans-53\"/>\r\n       <use x=\"63.623047\" xlink:href=\"#DejaVuSans-51\"/>\r\n       <use x=\"127.246094\" xlink:href=\"#DejaVuSans-54\"/>\r\n      </g>\r\n     </g>\r\n    </g>\r\n    <g id=\"ytick_9\">\r\n     <g id=\"line2d_17\">\r\n      <g>\r\n       <use style=\"stroke:#000000;stroke-width:0.8;\" x=\"46.965625\" xlink:href=\"#m81ebdd5923\" y=\"38.833883\"/>\r\n      </g>\r\n     </g>\r\n     <g id=\"text_18\">\r\n      <!-- 538 -->\r\n      <g transform=\"translate(20.878125 42.633102)scale(0.1 -0.1)\">\r\n       <use xlink:href=\"#DejaVuSans-53\"/>\r\n       <use x=\"63.623047\" xlink:href=\"#DejaVuSans-51\"/>\r\n       <use x=\"127.246094\" xlink:href=\"#DejaVuSans-56\"/>\r\n      </g>\r\n     </g>\r\n    </g>\r\n    <g id=\"text_19\">\r\n     <!-- Median total inventory deficit [kg] -->\r\n     <defs>\r\n      <path d=\"M 9.8125 72.90625 \r\nL 24.515625 72.90625 \r\nL 43.109375 23.296875 \r\nL 61.8125 72.90625 \r\nL 76.515625 72.90625 \r\nL 76.515625 0 \r\nL 66.890625 0 \r\nL 66.890625 64.015625 \r\nL 48.09375 14.015625 \r\nL 38.1875 14.015625 \r\nL 19.390625 64.015625 \r\nL 19.390625 0 \r\nL 9.8125 0 \r\nz\r\n\" id=\"DejaVuSans-77\"/>\r\n      <path d=\"M 56.203125 29.59375 \r\nL 56.203125 25.203125 \r\nL 14.890625 25.203125 \r\nQ 15.484375 15.921875 20.484375 11.0625 \r\nQ 25.484375 6.203125 34.421875 6.203125 \r\nQ 39.59375 6.203125 44.453125 7.46875 \r\nQ 49.3125 8.734375 54.109375 11.28125 \r\nL 54.109375 2.78125 \r\nQ 49.265625 0.734375 44.1875 -0.34375 \r\nQ 39.109375 -1.421875 33.890625 -1.421875 \r\nQ 20.796875 -1.421875 13.15625 6.1875 \r\nQ 5.515625 13.8125 5.515625 26.8125 \r\nQ 5.515625 40.234375 12.765625 48.109375 \r\nQ 20.015625 56 32.328125 56 \r\nQ 43.359375 56 49.78125 48.890625 \r\nQ 56.203125 41.796875 56.203125 29.59375 \r\nz\r\nM 47.21875 32.234375 \r\nQ 47.125 39.59375 43.09375 43.984375 \r\nQ 39.0625 48.390625 32.421875 48.390625 \r\nQ 24.90625 48.390625 20.390625 44.140625 \r\nQ 15.875 39.890625 15.1875 32.171875 \r\nz\r\n\" id=\"DejaVuSans-101\"/>\r\n      <path d=\"M 45.40625 46.390625 \r\nL 45.40625 75.984375 \r\nL 54.390625 75.984375 \r\nL 54.390625 0 \r\nL 45.40625 0 \r\nL 45.40625 8.203125 \r\nQ 42.578125 3.328125 38.25 0.953125 \r\nQ 33.9375 -1.421875 27.875 -1.421875 \r\nQ 17.96875 -1.421875 11.734375 6.484375 \r\nQ 5.515625 14.40625 5.515625 27.296875 \r\nQ 5.515625 40.1875 11.734375 48.09375 \r\nQ 17.96875 56 27.875 56 \r\nQ 33.9375 56 38.25 53.625 \r\nQ 42.578125 51.265625 45.40625 46.390625 \r\nz\r\nM 14.796875 27.296875 \r\nQ 14.796875 17.390625 18.875 11.75 \r\nQ 22.953125 6.109375 30.078125 6.109375 \r\nQ 37.203125 6.109375 41.296875 11.75 \r\nQ 45.40625 17.390625 45.40625 27.296875 \r\nQ 45.40625 37.203125 41.296875 42.84375 \r\nQ 37.203125 48.484375 30.078125 48.484375 \r\nQ 22.953125 48.484375 18.875 42.84375 \r\nQ 14.796875 37.203125 14.796875 27.296875 \r\nz\r\n\" id=\"DejaVuSans-100\"/>\r\n      <path d=\"M 9.421875 54.6875 \r\nL 18.40625 54.6875 \r\nL 18.40625 0 \r\nL 9.421875 0 \r\nz\r\nM 9.421875 75.984375 \r\nL 18.40625 75.984375 \r\nL 18.40625 64.59375 \r\nL 9.421875 64.59375 \r\nz\r\n\" id=\"DejaVuSans-105\"/>\r\n      <path d=\"M 54.890625 33.015625 \r\nL 54.890625 0 \r\nL 45.90625 0 \r\nL 45.90625 32.71875 \r\nQ 45.90625 40.484375 42.875 44.328125 \r\nQ 39.84375 48.1875 33.796875 48.1875 \r\nQ 26.515625 48.1875 22.3125 43.546875 \r\nQ 18.109375 38.921875 18.109375 30.90625 \r\nL 18.109375 0 \r\nL 9.078125 0 \r\nL 9.078125 54.6875 \r\nL 18.109375 54.6875 \r\nL 18.109375 46.1875 \r\nQ 21.34375 51.125 25.703125 53.5625 \r\nQ 30.078125 56 35.796875 56 \r\nQ 45.21875 56 50.046875 50.171875 \r\nQ 54.890625 44.34375 54.890625 33.015625 \r\nz\r\n\" id=\"DejaVuSans-110\"/>\r\n      <path d=\"M 2.984375 54.6875 \r\nL 12.5 54.6875 \r\nL 29.59375 8.796875 \r\nL 46.6875 54.6875 \r\nL 56.203125 54.6875 \r\nL 35.6875 0 \r\nL 23.484375 0 \r\nz\r\n\" id=\"DejaVuSans-118\"/>\r\n      <path d=\"M 32.171875 -5.078125 \r\nQ 28.375 -14.84375 24.75 -17.8125 \r\nQ 21.140625 -20.796875 15.09375 -20.796875 \r\nL 7.90625 -20.796875 \r\nL 7.90625 -13.28125 \r\nL 13.1875 -13.28125 \r\nQ 16.890625 -13.28125 18.9375 -11.515625 \r\nQ 21 -9.765625 23.484375 -3.21875 \r\nL 25.09375 0.875 \r\nL 2.984375 54.6875 \r\nL 12.5 54.6875 \r\nL 29.59375 11.921875 \r\nL 46.6875 54.6875 \r\nL 56.203125 54.6875 \r\nz\r\n\" id=\"DejaVuSans-121\"/>\r\n      <path d=\"M 37.109375 75.984375 \r\nL 37.109375 68.5 \r\nL 28.515625 68.5 \r\nQ 23.6875 68.5 21.796875 66.546875 \r\nQ 19.921875 64.59375 19.921875 59.515625 \r\nL 19.921875 54.6875 \r\nL 34.71875 54.6875 \r\nL 34.71875 47.703125 \r\nL 19.921875 47.703125 \r\nL 19.921875 0 \r\nL 10.890625 0 \r\nL 10.890625 47.703125 \r\nL 2.296875 47.703125 \r\nL 2.296875 54.6875 \r\nL 10.890625 54.6875 \r\nL 10.890625 58.5 \r\nQ 10.890625 67.625 15.140625 71.796875 \r\nQ 19.390625 75.984375 28.609375 75.984375 \r\nz\r\n\" id=\"DejaVuSans-102\"/>\r\n      <path d=\"M 48.78125 52.59375 \r\nL 48.78125 44.1875 \r\nQ 44.96875 46.296875 41.140625 47.34375 \r\nQ 37.3125 48.390625 33.40625 48.390625 \r\nQ 24.65625 48.390625 19.8125 42.84375 \r\nQ 14.984375 37.3125 14.984375 27.296875 \r\nQ 14.984375 17.28125 19.8125 11.734375 \r\nQ 24.65625 6.203125 33.40625 6.203125 \r\nQ 37.3125 6.203125 41.140625 7.25 \r\nQ 44.96875 8.296875 48.78125 10.40625 \r\nL 48.78125 2.09375 \r\nQ 45.015625 0.34375 40.984375 -0.53125 \r\nQ 36.96875 -1.421875 32.421875 -1.421875 \r\nQ 20.0625 -1.421875 12.78125 6.34375 \r\nQ 5.515625 14.109375 5.515625 27.296875 \r\nQ 5.515625 40.671875 12.859375 48.328125 \r\nQ 20.21875 56 33.015625 56 \r\nQ 37.15625 56 41.109375 55.140625 \r\nQ 45.0625 54.296875 48.78125 52.59375 \r\nz\r\n\" id=\"DejaVuSans-99\"/>\r\n     </defs>\r\n     <g transform=\"translate(14.798438 216.280312)rotate(-90)scale(0.1 -0.1)\">\r\n      <use xlink:href=\"#DejaVuSans-77\"/>\r\n      <use x=\"86.279297\" xlink:href=\"#DejaVuSans-101\"/>\r\n      <use x=\"147.802734\" xlink:href=\"#DejaVuSans-100\"/>\r\n      <use x=\"211.279297\" xlink:href=\"#DejaVuSans-105\"/>\r\n      <use x=\"239.0625\" xlink:href=\"#DejaVuSans-97\"/>\r\n      <use x=\"300.341797\" xlink:href=\"#DejaVuSans-110\"/>\r\n      <use x=\"363.720703\" xlink:href=\"#DejaVuSans-32\"/>\r\n      <use x=\"395.507812\" xlink:href=\"#DejaVuSans-116\"/>\r\n      <use x=\"434.716797\" xlink:href=\"#DejaVuSans-111\"/>\r\n      <use x=\"495.898438\" xlink:href=\"#DejaVuSans-116\"/>\r\n      <use x=\"535.107422\" xlink:href=\"#DejaVuSans-97\"/>\r\n      <use x=\"596.386719\" xlink:href=\"#DejaVuSans-108\"/>\r\n      <use x=\"624.169922\" xlink:href=\"#DejaVuSans-32\"/>\r\n      <use x=\"655.957031\" xlink:href=\"#DejaVuSans-105\"/>\r\n      <use x=\"683.740234\" xlink:href=\"#DejaVuSans-110\"/>\r\n      <use x=\"747.119141\" xlink:href=\"#DejaVuSans-118\"/>\r\n      <use x=\"806.298828\" xlink:href=\"#DejaVuSans-101\"/>\r\n      <use x=\"867.822266\" xlink:href=\"#DejaVuSans-110\"/>\r\n      <use x=\"931.201172\" xlink:href=\"#DejaVuSans-116\"/>\r\n      <use x=\"970.410156\" xlink:href=\"#DejaVuSans-111\"/>\r\n      <use x=\"1031.591797\" xlink:href=\"#DejaVuSans-114\"/>\r\n      <use x=\"1072.705078\" xlink:href=\"#DejaVuSans-121\"/>\r\n      <use x=\"1131.884766\" xlink:href=\"#DejaVuSans-32\"/>\r\n      <use x=\"1163.671875\" xlink:href=\"#DejaVuSans-100\"/>\r\n      <use x=\"1227.148438\" xlink:href=\"#DejaVuSans-101\"/>\r\n      <use x=\"1288.671875\" xlink:href=\"#DejaVuSans-102\"/>\r\n      <use x=\"1323.876953\" xlink:href=\"#DejaVuSans-105\"/>\r\n      <use x=\"1351.660156\" xlink:href=\"#DejaVuSans-99\"/>\r\n      <use x=\"1406.640625\" xlink:href=\"#DejaVuSans-105\"/>\r\n      <use x=\"1434.423828\" xlink:href=\"#DejaVuSans-116\"/>\r\n      <use x=\"1473.632812\" xlink:href=\"#DejaVuSans-32\"/>\r\n      <use x=\"1505.419922\" xlink:href=\"#DejaVuSans-91\"/>\r\n      <use x=\"1544.433594\" xlink:href=\"#DejaVuSans-107\"/>\r\n      <use x=\"1602.34375\" xlink:href=\"#DejaVuSans-103\"/>\r\n      <use x=\"1665.820312\" xlink:href=\"#DejaVuSans-93\"/>\r\n     </g>\r\n    </g>\r\n   </g>\r\n   <g id=\"patch_3\">\r\n    <path d=\"M 46.965625 239.758125 \r\nL 46.965625 22.318125 \r\n\" style=\"fill:none;stroke:#000000;stroke-linecap:square;stroke-linejoin:miter;stroke-width:0.8;\"/>\r\n   </g>\r\n   <g id=\"patch_4\">\r\n    <path d=\"M 381.765625 239.758125 \r\nL 381.765625 22.318125 \r\n\" style=\"fill:none;stroke:#000000;stroke-linecap:square;stroke-linejoin:miter;stroke-width:0.8;\"/>\r\n   </g>\r\n   <g id=\"patch_5\">\r\n    <path d=\"M 46.965625 239.758125 \r\nL 381.765625 239.758125 \r\n\" style=\"fill:none;stroke:#000000;stroke-linecap:square;stroke-linejoin:miter;stroke-width:0.8;\"/>\r\n   </g>\r\n   <g id=\"patch_6\">\r\n    <path d=\"M 46.965625 22.318125 \r\nL 381.765625 22.318125 \r\n\" style=\"fill:none;stroke:#000000;stroke-linecap:square;stroke-linejoin:miter;stroke-width:0.8;\"/>\r\n   </g>\r\n   <g id=\"text_20\">\r\n    <!-- Pareto Front -->\r\n    <defs>\r\n     <path d=\"M 19.671875 64.796875 \r\nL 19.671875 37.40625 \r\nL 32.078125 37.40625 \r\nQ 38.96875 37.40625 42.71875 40.96875 \r\nQ 46.484375 44.53125 46.484375 51.125 \r\nQ 46.484375 57.671875 42.71875 61.234375 \r\nQ 38.96875 64.796875 32.078125 64.796875 \r\nz\r\nM 9.8125 72.90625 \r\nL 32.078125 72.90625 \r\nQ 44.34375 72.90625 50.609375 67.359375 \r\nQ 56.890625 61.8125 56.890625 51.125 \r\nQ 56.890625 40.328125 50.609375 34.8125 \r\nQ 44.34375 29.296875 32.078125 29.296875 \r\nL 19.671875 29.296875 \r\nL 19.671875 0 \r\nL 9.8125 0 \r\nz\r\n\" id=\"DejaVuSans-80\"/>\r\n     <path d=\"M 9.8125 72.90625 \r\nL 51.703125 72.90625 \r\nL 51.703125 64.59375 \r\nL 19.671875 64.59375 \r\nL 19.671875 43.109375 \r\nL 48.578125 43.109375 \r\nL 48.578125 34.8125 \r\nL 19.671875 34.8125 \r\nL 19.671875 0 \r\nL 9.8125 0 \r\nz\r\n\" id=\"DejaVuSans-70\"/>\r\n    </defs>\r\n    <g transform=\"translate(178.21375 16.318125)scale(0.12 -0.12)\">\r\n     <use xlink:href=\"#DejaVuSans-80\"/>\r\n     <use x=\"55.802734\" xlink:href=\"#DejaVuSans-97\"/>\r\n     <use x=\"117.082031\" xlink:href=\"#DejaVuSans-114\"/>\r\n     <use x=\"155.945312\" xlink:href=\"#DejaVuSans-101\"/>\r\n     <use x=\"217.46875\" xlink:href=\"#DejaVuSans-116\"/>\r\n     <use x=\"256.677734\" xlink:href=\"#DejaVuSans-111\"/>\r\n     <use x=\"317.859375\" xlink:href=\"#DejaVuSans-32\"/>\r\n     <use x=\"349.646484\" xlink:href=\"#DejaVuSans-70\"/>\r\n     <use x=\"399.916016\" xlink:href=\"#DejaVuSans-114\"/>\r\n     <use x=\"438.779297\" xlink:href=\"#DejaVuSans-111\"/>\r\n     <use x=\"499.960938\" xlink:href=\"#DejaVuSans-110\"/>\r\n     <use x=\"563.339844\" xlink:href=\"#DejaVuSans-116\"/>\r\n    </g>\r\n   </g>\r\n  </g>\r\n </g>\r\n <defs>\r\n  <clipPath id=\"pa987e00a26\">\r\n   <rect height=\"217.44\" width=\"334.8\" x=\"46.965625\" y=\"22.318125\"/>\r\n  </clipPath>\r\n </defs>\r\n</svg>\r\n",
      "image/png": "[encoded data removed]"
     },
     "metadata": {
      "needs_background": "light"
     }
    }
   ],
   "source": [
    "import matplotlib.pyplot as plt\n",
    "x=pop.objectives_raw[:,0]\n",
    "y=pop.objectives_raw[:,1]\n",
    "plt.scatter(x,y,c=\"g\",label=\"Pareto Front\")\n",
    "plt.title('Pareto Front')\n",
    "plt.xlabel('Total throughput [kg]')\n",
    "plt.ylabel('Median total inventory deficit [kg]')\n",
    "file_name=str(date.day)+\"-\"+str(date.month)+str(date.hour)+'pareto_front.png'\n",
    "path=root_path_analysis+file_name\n",
    "plt.savefig(path+file_name)\n",
    "plt.show()"
   ]
  },
  {
   "cell_type": "code",
   "execution_count": 9,
   "metadata": {},
   "outputs": [
    {
     "output_type": "execute_result",
     "data": {
      "text/plain": [
       "  Execution                                                                                      Variation Solution  Total throughput [kg]  Max total backlog [kg]  Mean total backlog [kg]  std dev total backlog [kg]  Median total backlog [kg]  Min total backlog [kg]  P(total backlog ≤ 0 kg)  Max total inventory deficit [kg]  Mean total inventory deficit [kg]  std dev inventory deficit [kg]  Median total inventory deficit [kg]  Min total inventory deficit [kg]  Total Deficit [kg]                       Batches [un]                Product label                                                                                           Start of USP [date]                                                                                             End of DSP [date]\n",
       "0   Article                                                                                        Article        X                  539.3                8.200000                 0.200000                    0.600000                        0.0                     0.0                    0.820                        683.400000                         432.600000                       58.600000                           424.400000                        259.400000                 NaN   [15 10 29 3 15 11 15 6 2 2 2 10]    [3 2 0 1 3 2 1 3 2 1 2 3]                                                                                                           NaN                                                                                                           NaN\n",
       "1   Article                                                                                        Article        Y                  601.5               16.000000                 7.100000                    4.300000                        0.0                     0.0                    0.500                        786.000000                         558.600000                       59.000000                           551.700000                        355.600000                 NaN            [12 13 24 18 5 19 9 30]            [3 2 0 3 1 0 2 3]                                                                                                           NaN                                                                                                           NaN\n",
       "0         0  front_nsga,tour_vio,rein_vio,vio_back,calc_montecarlo,100,1000,2,0.5,(0.04, 0.61, 0.77, 0.47)        X                  579.1               11.510280                 0.954276                    1.611787                        0.0                     0.0                    0.514                        707.568993                         522.932321                       55.176101                           522.764170                        363.563667          522.764170  [16, 9, 32, 3, 16, 13, 16, 2, 21]  [3, 2, 0, 1, 3, 2, 0, 1, 3]  [2016-12-01, 2017-04-14, 2017-07-02, 2018-03-02, 2018-04-11, 2018-08-23, 2018-12-08, 2019-04-18, 2019-05-17]  [2017-05-11, 2017-07-31, 2018-03-28, 2018-05-10, 2018-09-19, 2019-01-06, 2019-05-14, 2019-06-15, 2019-11-29]\n",
       "1         0  front_nsga,tour_vio,rein_vio,vio_back,calc_montecarlo,100,1000,2,0.5,(0.04, 0.61, 0.77, 0.47)        Y                  594.2               10.758521                 0.862772                    1.538422                        0.0                     0.0                    0.550                        785.014519                         541.405629                       64.565966                           538.528924                        353.727384          538.528924     [16, 9, 31, 4, 14, 13, 15, 28]     [3, 2, 0, 1, 3, 2, 0, 3]              [2016-12-01, 2017-04-14, 2017-07-02, 2018-02-23, 2018-04-15, 2018-08-13, 2018-11-28, 2019-03-29]              [2017-05-11, 2017-07-31, 2018-03-21, 2018-05-14, 2018-09-09, 2018-12-27, 2019-04-27, 2019-11-29]"
      ],
      "text/html": "<div>\n<style scoped>\n    .dataframe tbody tr th:only-of-type {\n        vertical-align: middle;\n    }\n\n    .dataframe tbody tr th {\n        vertical-align: top;\n    }\n\n    .dataframe thead th {\n        text-align: right;\n    }\n</style>\n<table border=\"1\" class=\"dataframe\">\n  <thead>\n    <tr style=\"text-align: right;\">\n      <th></th>\n      <th>Execution</th>\n      <th>Variation</th>\n      <th>Solution</th>\n      <th>Total throughput [kg]</th>\n      <th>Max total backlog [kg]</th>\n      <th>Mean total backlog [kg]</th>\n      <th>std dev total backlog [kg]</th>\n      <th>Median total backlog [kg]</th>\n      <th>Min total backlog [kg]</th>\n      <th>P(total backlog ≤ 0 kg)</th>\n      <th>Max total inventory deficit [kg]</th>\n      <th>Mean total inventory deficit [kg]</th>\n      <th>std dev inventory deficit [kg]</th>\n      <th>Median total inventory deficit [kg]</th>\n      <th>Min total inventory deficit [kg]</th>\n      <th>Total Deficit [kg]</th>\n      <th>Batches [un]</th>\n      <th>Product label</th>\n      <th>Start of USP [date]</th>\n      <th>End of DSP [date]</th>\n    </tr>\n  </thead>\n  <tbody>\n    <tr>\n      <th>0</th>\n      <td>Article</td>\n      <td>Article</td>\n      <td>X</td>\n      <td>539.3</td>\n      <td>8.200000</td>\n      <td>0.200000</td>\n      <td>0.600000</td>\n      <td>0.0</td>\n      <td>0.0</td>\n      <td>0.820</td>\n      <td>683.400000</td>\n      <td>432.600000</td>\n      <td>58.600000</td>\n      <td>424.400000</td>\n      <td>259.400000</td>\n      <td>NaN</td>\n      <td>[15 10 29 3 15 11 15 6 2 2 2 10]</td>\n      <td>[3 2 0 1 3 2 1 3 2 1 2 3]</td>\n      <td>NaN</td>\n      <td>NaN</td>\n    </tr>\n    <tr>\n      <th>1</th>\n      <td>Article</td>\n      <td>Article</td>\n      <td>Y</td>\n      <td>601.5</td>\n      <td>16.000000</td>\n      <td>7.100000</td>\n      <td>4.300000</td>\n      <td>0.0</td>\n      <td>0.0</td>\n      <td>0.500</td>\n      <td>786.000000</td>\n      <td>558.600000</td>\n      <td>59.000000</td>\n      <td>551.700000</td>\n      <td>355.600000</td>\n      <td>NaN</td>\n      <td>[12 13 24 18 5 19 9 30]</td>\n      <td>[3 2 0 3 1 0 2 3]</td>\n      <td>NaN</td>\n      <td>NaN</td>\n    </tr>\n    <tr>\n      <th>0</th>\n      <td>0</td>\n      <td>front_nsga,tour_vio,rein_vio,vio_back,calc_montecarlo,100,1000,2,0.5,(0.04, 0.61, 0.77, 0.47)</td>\n      <td>X</td>\n      <td>579.1</td>\n      <td>11.510280</td>\n      <td>0.954276</td>\n      <td>1.611787</td>\n      <td>0.0</td>\n      <td>0.0</td>\n      <td>0.514</td>\n      <td>707.568993</td>\n      <td>522.932321</td>\n      <td>55.176101</td>\n      <td>522.764170</td>\n      <td>363.563667</td>\n      <td>522.764170</td>\n      <td>[16, 9, 32, 3, 16, 13, 16, 2, 21]</td>\n      <td>[3, 2, 0, 1, 3, 2, 0, 1, 3]</td>\n      <td>[2016-12-01, 2017-04-14, 2017-07-02, 2018-03-02, 2018-04-11, 2018-08-23, 2018-12-08, 2019-04-18, 2019-05-17]</td>\n      <td>[2017-05-11, 2017-07-31, 2018-03-28, 2018-05-10, 2018-09-19, 2019-01-06, 2019-05-14, 2019-06-15, 2019-11-29]</td>\n    </tr>\n    <tr>\n      <th>1</th>\n      <td>0</td>\n      <td>front_nsga,tour_vio,rein_vio,vio_back,calc_montecarlo,100,1000,2,0.5,(0.04, 0.61, 0.77, 0.47)</td>\n      <td>Y</td>\n      <td>594.2</td>\n      <td>10.758521</td>\n      <td>0.862772</td>\n      <td>1.538422</td>\n      <td>0.0</td>\n      <td>0.0</td>\n      <td>0.550</td>\n      <td>785.014519</td>\n      <td>541.405629</td>\n      <td>64.565966</td>\n      <td>538.528924</td>\n      <td>353.727384</td>\n      <td>538.528924</td>\n      <td>[16, 9, 31, 4, 14, 13, 15, 28]</td>\n      <td>[3, 2, 0, 1, 3, 2, 0, 3]</td>\n      <td>[2016-12-01, 2017-04-14, 2017-07-02, 2018-02-23, 2018-04-15, 2018-08-13, 2018-11-28, 2019-03-29]</td>\n      <td>[2017-05-11, 2017-07-31, 2018-03-21, 2018-05-14, 2018-09-09, 2018-12-27, 2019-04-27, 2019-11-29]</td>\n    </tr>\n  </tbody>\n</table>\n</div>"
     },
     "metadata": {},
     "execution_count": 9
    }
   ],
   "source": [
    "file_name='df_ind_base.csv'# Article Data\n",
    "path=root_path_data+file_name\n",
    "df_ind_base=pd.read_csv(path)\n",
    "\n",
    "df_ind_w=pd.concat([df_ind_base,df_ind])\n",
    "path=root_path_analysis+str(date.day)+\"-\"+str(date.month)+str(date.hour)+\".csv\"\n",
    "df_ind_w.to_csv(path)\n",
    "df_ind_w"
   ]
  },
  {
   "cell_type": "code",
   "execution_count": null,
   "metadata": {},
   "outputs": [],
   "source": []
  },
  {
   "source": [
    "# Data Analysis\n",
    "## Evaluating each tests"
   ],
   "cell_type": "markdown",
   "metadata": {}
  },
  {
   "source": [
    "### Main 8/1\n",
    "- Main 8/1\n",
    "    - Calculated demand with Monte Carlo\n",
    "    - 10 Executions\n",
    "    - No solution without violations, passing all in front 0\n",
    "    - Total time  17632.4670568 Per execution 1763.24670568"
   ],
   "cell_type": "markdown",
   "metadata": {}
  },
  {
   "cell_type": "code",
   "execution_count": 10,
   "metadata": {},
   "outputs": [
    {
     "output_type": "execute_result",
     "data": {
      "text/plain": [
       "   Unnamed: 0 Execution                                                                                                          Variation Solution  Total throughput [kg]  Max total backlog [kg]  Mean total backlog [kg]  std dev total backlog [kg]  Median total backlog [kg]  Min total backlog [kg]  P(total backlog ≤ 0 kg)  Max total inventory deficit [kg]  Mean total inventory deficit [kg]  std dev inventory deficit [kg]  Median total inventory deficit [kg]  Min total inventory deficit [kg]  Total Deficit [kg]                      Batches [un]              Product label                                    Start of USP [date]                                      End of DSP [date]\n",
       "0           0   Article                                                                                                            Article        X                  539.3                8.200000                 0.200000                    0.600000                        0.0                     0.0                 0.820000                             683.4                         432.600000                       58.600000                                424.4                             259.4                 NaN  [15 10 29 3 15 11 15 6 2 2 2 10]  [3 2 0 1 3 2 1 3 2 1 2 3]                                                    NaN                                                    NaN\n",
       "1           1   Article                                                                                                            Article        Y                  601.5               16.000000                 7.100000                    4.300000                        0.0                     0.0                 0.500000                             786.0                         558.600000                       59.000000                                551.7                             355.6                 NaN           [12 13 24 18 5 19 9 30]          [3 2 0 3 1 0 2 3]                                                    NaN                                                    NaN\n",
       "2           0         0  front_nsga,tour_vio,rein_vio,vio_back,calc_montecarlometrics_front0_w_vio,100,1000,2,0.5,(0.04, 0.61, 0.77, 0.47)        X                  630.1               10.435893                 1.059073                    2.617906                        0.0                     0.0               152.506570                              34.1                           6.420617                       10.388137                                  0.0                               0.0                 0.0                     [31 28 31 31]                  [3 2 3 2]  ['2016-12-01' '2017-09-11' '2018-05-30' '2019-03-10']  ['2017-08-24' '2018-05-10' '2019-02-20' '2019-11-27']\n",
       "3           1         0  front_nsga,tour_vio,rein_vio,vio_back,calc_montecarlometrics_front0_w_vio,100,1000,2,0.5,(0.04, 0.61, 0.77, 0.47)        Y                  660.5               12.347932                 1.445241                    3.050971                        0.0                     0.0               208.114675                              38.5                           8.729108                       12.264356                                  0.0                               0.0                 0.0                        [50 31 50]                    [2 3 2]               ['2016-12-01' '2018-01-20' '2018-10-31']               ['2017-12-31' '2018-10-13' '2019-11-30']"
      ],
      "text/html": "<div>\n<style scoped>\n    .dataframe tbody tr th:only-of-type {\n        vertical-align: middle;\n    }\n\n    .dataframe tbody tr th {\n        vertical-align: top;\n    }\n\n    .dataframe thead th {\n        text-align: right;\n    }\n</style>\n<table border=\"1\" class=\"dataframe\">\n  <thead>\n    <tr style=\"text-align: right;\">\n      <th></th>\n      <th>Unnamed: 0</th>\n      <th>Execution</th>\n      <th>Variation</th>\n      <th>Solution</th>\n      <th>Total throughput [kg]</th>\n      <th>Max total backlog [kg]</th>\n      <th>Mean total backlog [kg]</th>\n      <th>std dev total backlog [kg]</th>\n      <th>Median total backlog [kg]</th>\n      <th>Min total backlog [kg]</th>\n      <th>P(total backlog ≤ 0 kg)</th>\n      <th>Max total inventory deficit [kg]</th>\n      <th>Mean total inventory deficit [kg]</th>\n      <th>std dev inventory deficit [kg]</th>\n      <th>Median total inventory deficit [kg]</th>\n      <th>Min total inventory deficit [kg]</th>\n      <th>Total Deficit [kg]</th>\n      <th>Batches [un]</th>\n      <th>Product label</th>\n      <th>Start of USP [date]</th>\n      <th>End of DSP [date]</th>\n    </tr>\n  </thead>\n  <tbody>\n    <tr>\n      <th>0</th>\n      <td>0</td>\n      <td>Article</td>\n      <td>Article</td>\n      <td>X</td>\n      <td>539.3</td>\n      <td>8.200000</td>\n      <td>0.200000</td>\n      <td>0.600000</td>\n      <td>0.0</td>\n      <td>0.0</td>\n      <td>0.820000</td>\n      <td>683.4</td>\n      <td>432.600000</td>\n      <td>58.600000</td>\n      <td>424.4</td>\n      <td>259.4</td>\n      <td>NaN</td>\n      <td>[15 10 29 3 15 11 15 6 2 2 2 10]</td>\n      <td>[3 2 0 1 3 2 1 3 2 1 2 3]</td>\n      <td>NaN</td>\n      <td>NaN</td>\n    </tr>\n    <tr>\n      <th>1</th>\n      <td>1</td>\n      <td>Article</td>\n      <td>Article</td>\n      <td>Y</td>\n      <td>601.5</td>\n      <td>16.000000</td>\n      <td>7.100000</td>\n      <td>4.300000</td>\n      <td>0.0</td>\n      <td>0.0</td>\n      <td>0.500000</td>\n      <td>786.0</td>\n      <td>558.600000</td>\n      <td>59.000000</td>\n      <td>551.7</td>\n      <td>355.6</td>\n      <td>NaN</td>\n      <td>[12 13 24 18 5 19 9 30]</td>\n      <td>[3 2 0 3 1 0 2 3]</td>\n      <td>NaN</td>\n      <td>NaN</td>\n    </tr>\n    <tr>\n      <th>2</th>\n      <td>0</td>\n      <td>0</td>\n      <td>front_nsga,tour_vio,rein_vio,vio_back,calc_montecarlometrics_front0_w_vio,100,1000,2,0.5,(0.04, 0.61, 0.77, 0.47)</td>\n      <td>X</td>\n      <td>630.1</td>\n      <td>10.435893</td>\n      <td>1.059073</td>\n      <td>2.617906</td>\n      <td>0.0</td>\n      <td>0.0</td>\n      <td>152.506570</td>\n      <td>34.1</td>\n      <td>6.420617</td>\n      <td>10.388137</td>\n      <td>0.0</td>\n      <td>0.0</td>\n      <td>0.0</td>\n      <td>[31 28 31 31]</td>\n      <td>[3 2 3 2]</td>\n      <td>['2016-12-01' '2017-09-11' '2018-05-30' '2019-03-10']</td>\n      <td>['2017-08-24' '2018-05-10' '2019-02-20' '2019-11-27']</td>\n    </tr>\n    <tr>\n      <th>3</th>\n      <td>1</td>\n      <td>0</td>\n      <td>front_nsga,tour_vio,rein_vio,vio_back,calc_montecarlometrics_front0_w_vio,100,1000,2,0.5,(0.04, 0.61, 0.77, 0.47)</td>\n      <td>Y</td>\n      <td>660.5</td>\n      <td>12.347932</td>\n      <td>1.445241</td>\n      <td>3.050971</td>\n      <td>0.0</td>\n      <td>0.0</td>\n      <td>208.114675</td>\n      <td>38.5</td>\n      <td>8.729108</td>\n      <td>12.264356</td>\n      <td>0.0</td>\n      <td>0.0</td>\n      <td>0.0</td>\n      <td>[50 31 50]</td>\n      <td>[2 3 2]</td>\n      <td>['2016-12-01' '2018-01-20' '2018-10-31']</td>\n      <td>['2017-12-31' '2018-10-13' '2019-11-30']</td>\n    </tr>\n  </tbody>\n</table>\n</div>"
     },
     "metadata": {},
     "execution_count": 10
    }
   ],
   "source": [
    "# Import from csv\n",
    "result=pd.read_csv(root_path_analysis+'8-1.csv')\n",
    "result"
   ]
  },
  {
   "source": [
    "1. Attributes that seem wrong\n",
    "    - P(total backlog ≤ 0 kg)\t\n",
    "        - My value is high, what makes sense, since I am producing large number of batches and not procuding all products.\n",
    "            - This indicates I need to review my fitness, why is it focusing on product 2,3 and large batches?\n",
    "                1. Modify my backlog, to consider the median\n",
    "    - Max total inventory deficit [kg]\t\n",
    "    - Mean total inventory deficit [kg]\t\n",
    "    - Median total inventory deficit [kg]\t\n",
    "    - Min total inventory deficit [kg]\t\n",
    "    - Total Deficit [kg]\t\n",
    "    - Batches [un]\n",
    "        - Large values of batches, however still only producing products 2 and 3."
   ],
   "cell_type": "markdown",
   "metadata": {}
  },
  {
   "source": [
    "### Main 14/1 14h\n",
    "- Main 14/1 14h\n",
    "    - New scheduling considering articles pseudo code \n",
    "    - Monte Carlo simulations=100\n",
    "    - 2 Executions, with 1000 generations\n",
    "    - No solution without violations, passing all in front 0\n",
    "    - Total time  877 Per execution 438"
   ],
   "cell_type": "markdown",
   "metadata": {}
  },
  {
   "cell_type": "code",
   "execution_count": 11,
   "metadata": {},
   "outputs": [
    {
     "output_type": "execute_result",
     "data": {
      "text/plain": [
       "   Unnamed: 0 Execution                                                                                       Variation Solution  Total throughput [kg]  Max total backlog [kg]  Mean total backlog [kg]  std dev total backlog [kg]  Median total backlog [kg]  Min total backlog [kg]  P(total backlog ≤ 0 kg)  Max total inventory deficit [kg]  Mean total inventory deficit [kg]  std dev inventory deficit [kg]  Median total inventory deficit [kg]  Min total inventory deficit [kg]  Total Deficit [kg]                      Batches [un]              Product label                                    Start of USP [date]                                      End of DSP [date]\n",
       "0           0   Article                                                                                         Article        X                  539.3                8.200000                 0.200000                    0.600000                        0.0                     0.0                 0.820000                             683.4                         432.600000                       58.600000                                424.4                             259.4                 NaN  [15 10 29 3 15 11 15 6 2 2 2 10]  [3 2 0 1 3 2 1 3 2 1 2 3]                                                    NaN                                                    NaN\n",
       "1           1   Article                                                                                         Article        Y                  601.5               16.000000                 7.100000                    4.300000                        0.0                     0.0                 0.500000                             786.0                         558.600000                       59.000000                                551.7                             355.6                 NaN           [12 13 24 18 5 19 9 30]          [3 2 0 3 1 0 2 3]                                                    NaN                                                    NaN\n",
       "2           0         0  front_nsga,tour_vio,rein_vio,vio_back,calc_montecarlo,100,1000,2,0.11,(0.04, 0.61, 0.77, 0.47)        X                  663.8               10.402717                 1.085342                    2.622689                        0.0                     0.0               156.289225                              34.1                           6.568086                       10.348981                                  0.0                               0.0                 0.0                     [31 36 30 31]                  [3 2 3 2]  ['1970-01-01' '2017-08-31' '2018-06-24' '2019-03-10']  ['2017-08-31' '2018-06-24' '2019-03-10' '2019-11-27']\n",
       "3           1         0  front_nsga,tour_vio,rein_vio,vio_back,calc_montecarlo,100,1000,2,0.11,(0.04, 0.61, 0.77, 0.47)        Y                  663.8               10.402717                 1.085342                    2.622689                        0.0                     0.0               156.289225                              34.1                           6.568086                       10.348981                                  0.0                               0.0                 0.0                     [31 36 30 31]                  [3 2 3 2]  ['1970-01-01' '2017-08-31' '2018-06-24' '2019-03-10']  ['2017-08-31' '2018-06-24' '2019-03-10' '2019-11-27']"
      ],
      "text/html": "<div>\n<style scoped>\n    .dataframe tbody tr th:only-of-type {\n        vertical-align: middle;\n    }\n\n    .dataframe tbody tr th {\n        vertical-align: top;\n    }\n\n    .dataframe thead th {\n        text-align: right;\n    }\n</style>\n<table border=\"1\" class=\"dataframe\">\n  <thead>\n    <tr style=\"text-align: right;\">\n      <th></th>\n      <th>Unnamed: 0</th>\n      <th>Execution</th>\n      <th>Variation</th>\n      <th>Solution</th>\n      <th>Total throughput [kg]</th>\n      <th>Max total backlog [kg]</th>\n      <th>Mean total backlog [kg]</th>\n      <th>std dev total backlog [kg]</th>\n      <th>Median total backlog [kg]</th>\n      <th>Min total backlog [kg]</th>\n      <th>P(total backlog ≤ 0 kg)</th>\n      <th>Max total inventory deficit [kg]</th>\n      <th>Mean total inventory deficit [kg]</th>\n      <th>std dev inventory deficit [kg]</th>\n      <th>Median total inventory deficit [kg]</th>\n      <th>Min total inventory deficit [kg]</th>\n      <th>Total Deficit [kg]</th>\n      <th>Batches [un]</th>\n      <th>Product label</th>\n      <th>Start of USP [date]</th>\n      <th>End of DSP [date]</th>\n    </tr>\n  </thead>\n  <tbody>\n    <tr>\n      <th>0</th>\n      <td>0</td>\n      <td>Article</td>\n      <td>Article</td>\n      <td>X</td>\n      <td>539.3</td>\n      <td>8.200000</td>\n      <td>0.200000</td>\n      <td>0.600000</td>\n      <td>0.0</td>\n      <td>0.0</td>\n      <td>0.820000</td>\n      <td>683.4</td>\n      <td>432.600000</td>\n      <td>58.600000</td>\n      <td>424.4</td>\n      <td>259.4</td>\n      <td>NaN</td>\n      <td>[15 10 29 3 15 11 15 6 2 2 2 10]</td>\n      <td>[3 2 0 1 3 2 1 3 2 1 2 3]</td>\n      <td>NaN</td>\n      <td>NaN</td>\n    </tr>\n    <tr>\n      <th>1</th>\n      <td>1</td>\n      <td>Article</td>\n      <td>Article</td>\n      <td>Y</td>\n      <td>601.5</td>\n      <td>16.000000</td>\n      <td>7.100000</td>\n      <td>4.300000</td>\n      <td>0.0</td>\n      <td>0.0</td>\n      <td>0.500000</td>\n      <td>786.0</td>\n      <td>558.600000</td>\n      <td>59.000000</td>\n      <td>551.7</td>\n      <td>355.6</td>\n      <td>NaN</td>\n      <td>[12 13 24 18 5 19 9 30]</td>\n      <td>[3 2 0 3 1 0 2 3]</td>\n      <td>NaN</td>\n      <td>NaN</td>\n    </tr>\n    <tr>\n      <th>2</th>\n      <td>0</td>\n      <td>0</td>\n      <td>front_nsga,tour_vio,rein_vio,vio_back,calc_montecarlo,100,1000,2,0.11,(0.04, 0.61, 0.77, 0.47)</td>\n      <td>X</td>\n      <td>663.8</td>\n      <td>10.402717</td>\n      <td>1.085342</td>\n      <td>2.622689</td>\n      <td>0.0</td>\n      <td>0.0</td>\n      <td>156.289225</td>\n      <td>34.1</td>\n      <td>6.568086</td>\n      <td>10.348981</td>\n      <td>0.0</td>\n      <td>0.0</td>\n      <td>0.0</td>\n      <td>[31 36 30 31]</td>\n      <td>[3 2 3 2]</td>\n      <td>['1970-01-01' '2017-08-31' '2018-06-24' '2019-03-10']</td>\n      <td>['2017-08-31' '2018-06-24' '2019-03-10' '2019-11-27']</td>\n    </tr>\n    <tr>\n      <th>3</th>\n      <td>1</td>\n      <td>0</td>\n      <td>front_nsga,tour_vio,rein_vio,vio_back,calc_montecarlo,100,1000,2,0.11,(0.04, 0.61, 0.77, 0.47)</td>\n      <td>Y</td>\n      <td>663.8</td>\n      <td>10.402717</td>\n      <td>1.085342</td>\n      <td>2.622689</td>\n      <td>0.0</td>\n      <td>0.0</td>\n      <td>156.289225</td>\n      <td>34.1</td>\n      <td>6.568086</td>\n      <td>10.348981</td>\n      <td>0.0</td>\n      <td>0.0</td>\n      <td>0.0</td>\n      <td>[31 36 30 31]</td>\n      <td>[3 2 3 2]</td>\n      <td>['1970-01-01' '2017-08-31' '2018-06-24' '2019-03-10']</td>\n      <td>['2017-08-31' '2018-06-24' '2019-03-10' '2019-11-27']</td>\n    </tr>\n  </tbody>\n</table>\n</div>"
     },
     "metadata": {},
     "execution_count": 11
    }
   ],
   "source": [
    "result=pd.read_csv(root_path_analysis+'14-114.csv')# Import from csv\n",
    "result"
   ]
  },
  {
   "source": [
    "1. Start time of first batch is wrong, however just fixed\n",
    "\n",
    "1. Attributes that seem wrong\n",
    "    - P(total backlog ≤ 0 kg)\t\n",
    "        - My value is high, what makes sense, since I am producing large number of batches and not procuding all products.\n",
    "            - This indicates I need to review my fitness, why is it focusing on product 2,3 and large batches?\n",
    "                1. Modify my backlog, to consider the median\n",
    "    - Max total inventory deficit [kg]\t\n",
    "    - Mean total inventory deficit [kg]\t\n",
    "    - Median total inventory deficit [kg]\t\n",
    "    - Min total inventory deficit [kg]\t\n",
    "    - Total Deficit [kg]\t\n",
    "    - Batches [un]\n",
    "        - More reasonable values of batches, however still only producing products 2 and 3. "
   ],
   "cell_type": "markdown",
   "metadata": {}
  },
  {
   "source": [
    "### 15/1 12h\n",
    "- 15/1 12h\n",
    "    - Main Same as 14/1 14h, but\n",
    "        - Monte Carlo simulations=1000\n",
    "        - 9 Executions, with 1000 generations\n",
    "        - No solution without violations, passing all in front 0\n",
    "        - Total time  3640.99402 Per execution 404.5548911"
   ],
   "cell_type": "markdown",
   "metadata": {}
  },
  {
   "cell_type": "code",
   "execution_count": 12,
   "metadata": {},
   "outputs": [
    {
     "output_type": "execute_result",
     "data": {
      "text/plain": [
       "   Unnamed: 0 Execution                                                                                       Variation Solution  Total throughput [kg]  Max total backlog [kg]  Mean total backlog [kg]  std dev total backlog [kg]  Median total backlog [kg]  Min total backlog [kg]  P(total backlog ≤ 0 kg)  Max total inventory deficit [kg]  Mean total inventory deficit [kg]  std dev inventory deficit [kg]  Median total inventory deficit [kg]  Min total inventory deficit [kg]  Total Deficit [kg]                      Batches [un]              Product label                                    Start of USP [date]                                      End of DSP [date]\n",
       "0           0   Article                                                                                         Article        X                  539.3                8.200000                 0.200000                    0.600000                        0.0                     0.0                 0.820000                             683.4                         432.600000                       58.600000                                424.4                             259.4                 NaN  [15 10 29 3 15 11 15 6 2 2 2 10]  [3 2 0 1 3 2 1 3 2 1 2 3]                                                    NaN                                                    NaN\n",
       "1           1   Article                                                                                         Article        Y                  601.5               16.000000                 7.100000                    4.300000                        0.0                     0.0                 0.500000                             786.0                         558.600000                       59.000000                                551.7                             355.6                 NaN           [12 13 24 18 5 19 9 30]          [3 2 0 3 1 0 2 3]                                                    NaN                                                    NaN\n",
       "2           0         0  front_nsga,tour_vio,rein_vio,vio_back,calc_montecarlo,100,1000,2,0.11,(0.04, 0.61, 0.77, 0.47)        X                  628.3               10.934849                 1.590673                    3.194870                        0.0                     0.0               229.056858                              39.2                           9.175706                       12.019538                                  0.0                               0.0                 0.0                        [29 49 30]                    [3 1 3]               ['2016-12-01' '2017-08-17' '2019-03-15']               ['2017-08-17' '2019-03-15' '2019-11-29']\n",
       "3           1         0  front_nsga,tour_vio,rein_vio,vio_back,calc_montecarlo,100,1000,2,0.11,(0.04, 0.61, 0.77, 0.47)        Y                  663.8               12.294408                 1.312156                    2.878055                        0.0                     0.0               188.950524                              38.5                           8.390956                       12.072244                                  0.0                               0.0                 0.0                     [39 31 28 30]                  [2 3 2 3]  ['2016-12-01' '2017-10-22' '2018-07-15' '2019-03-13']  ['2017-10-22' '2018-07-15' '2019-03-13' '2019-11-27']"
      ],
      "text/html": "<div>\n<style scoped>\n    .dataframe tbody tr th:only-of-type {\n        vertical-align: middle;\n    }\n\n    .dataframe tbody tr th {\n        vertical-align: top;\n    }\n\n    .dataframe thead th {\n        text-align: right;\n    }\n</style>\n<table border=\"1\" class=\"dataframe\">\n  <thead>\n    <tr style=\"text-align: right;\">\n      <th></th>\n      <th>Unnamed: 0</th>\n      <th>Execution</th>\n      <th>Variation</th>\n      <th>Solution</th>\n      <th>Total throughput [kg]</th>\n      <th>Max total backlog [kg]</th>\n      <th>Mean total backlog [kg]</th>\n      <th>std dev total backlog [kg]</th>\n      <th>Median total backlog [kg]</th>\n      <th>Min total backlog [kg]</th>\n      <th>P(total backlog ≤ 0 kg)</th>\n      <th>Max total inventory deficit [kg]</th>\n      <th>Mean total inventory deficit [kg]</th>\n      <th>std dev inventory deficit [kg]</th>\n      <th>Median total inventory deficit [kg]</th>\n      <th>Min total inventory deficit [kg]</th>\n      <th>Total Deficit [kg]</th>\n      <th>Batches [un]</th>\n      <th>Product label</th>\n      <th>Start of USP [date]</th>\n      <th>End of DSP [date]</th>\n    </tr>\n  </thead>\n  <tbody>\n    <tr>\n      <th>0</th>\n      <td>0</td>\n      <td>Article</td>\n      <td>Article</td>\n      <td>X</td>\n      <td>539.3</td>\n      <td>8.200000</td>\n      <td>0.200000</td>\n      <td>0.600000</td>\n      <td>0.0</td>\n      <td>0.0</td>\n      <td>0.820000</td>\n      <td>683.4</td>\n      <td>432.600000</td>\n      <td>58.600000</td>\n      <td>424.4</td>\n      <td>259.4</td>\n      <td>NaN</td>\n      <td>[15 10 29 3 15 11 15 6 2 2 2 10]</td>\n      <td>[3 2 0 1 3 2 1 3 2 1 2 3]</td>\n      <td>NaN</td>\n      <td>NaN</td>\n    </tr>\n    <tr>\n      <th>1</th>\n      <td>1</td>\n      <td>Article</td>\n      <td>Article</td>\n      <td>Y</td>\n      <td>601.5</td>\n      <td>16.000000</td>\n      <td>7.100000</td>\n      <td>4.300000</td>\n      <td>0.0</td>\n      <td>0.0</td>\n      <td>0.500000</td>\n      <td>786.0</td>\n      <td>558.600000</td>\n      <td>59.000000</td>\n      <td>551.7</td>\n      <td>355.6</td>\n      <td>NaN</td>\n      <td>[12 13 24 18 5 19 9 30]</td>\n      <td>[3 2 0 3 1 0 2 3]</td>\n      <td>NaN</td>\n      <td>NaN</td>\n    </tr>\n    <tr>\n      <th>2</th>\n      <td>0</td>\n      <td>0</td>\n      <td>front_nsga,tour_vio,rein_vio,vio_back,calc_montecarlo,100,1000,2,0.11,(0.04, 0.61, 0.77, 0.47)</td>\n      <td>X</td>\n      <td>628.3</td>\n      <td>10.934849</td>\n      <td>1.590673</td>\n      <td>3.194870</td>\n      <td>0.0</td>\n      <td>0.0</td>\n      <td>229.056858</td>\n      <td>39.2</td>\n      <td>9.175706</td>\n      <td>12.019538</td>\n      <td>0.0</td>\n      <td>0.0</td>\n      <td>0.0</td>\n      <td>[29 49 30]</td>\n      <td>[3 1 3]</td>\n      <td>['2016-12-01' '2017-08-17' '2019-03-15']</td>\n      <td>['2017-08-17' '2019-03-15' '2019-11-29']</td>\n    </tr>\n    <tr>\n      <th>3</th>\n      <td>1</td>\n      <td>0</td>\n      <td>front_nsga,tour_vio,rein_vio,vio_back,calc_montecarlo,100,1000,2,0.11,(0.04, 0.61, 0.77, 0.47)</td>\n      <td>Y</td>\n      <td>663.8</td>\n      <td>12.294408</td>\n      <td>1.312156</td>\n      <td>2.878055</td>\n      <td>0.0</td>\n      <td>0.0</td>\n      <td>188.950524</td>\n      <td>38.5</td>\n      <td>8.390956</td>\n      <td>12.072244</td>\n      <td>0.0</td>\n      <td>0.0</td>\n      <td>0.0</td>\n      <td>[39 31 28 30]</td>\n      <td>[2 3 2 3]</td>\n      <td>['2016-12-01' '2017-10-22' '2018-07-15' '2019-03-13']</td>\n      <td>['2017-10-22' '2018-07-15' '2019-03-13' '2019-11-27']</td>\n    </tr>\n  </tbody>\n</table>\n</div>"
     },
     "metadata": {},
     "execution_count": 12
    }
   ],
   "source": [
    "result=pd.read_csv(root_path_analysis+'15-112.csv')# Import from csv\n",
    "result"
   ]
  },
  {
   "source": [
    "- However in the terminal prompt there was different values of objectives, including a total through put \n",
    "of ca. 1000 therefore I need to check properly the data to understand what is going on.\n",
    "- At least now some products 1 appear."
   ],
   "cell_type": "markdown",
   "metadata": {}
  },
  {
   "source": [
    "#### Individuals"
   ],
   "cell_type": "markdown",
   "metadata": {}
  },
  {
   "cell_type": "code",
   "execution_count": 13,
   "metadata": {},
   "outputs": [
    {
     "output_type": "execute_result",
     "data": {
      "text/plain": [
       "   Unnamed: 0           Batches     Products     Objectives\n",
       "0           0        [29 49 30]      [3 1 3]  [628.3   0. ]\n",
       "1           1        [31 47 31]      [3 1 3]  [632.4   0. ]\n",
       "2           2  [31 17 31 12 30]  [3 2 3 2 3]  [648.1   0. ]\n",
       "3           3     [48 31 48  2]    [2 3 2 1]  [653.3   0. ]\n",
       "4           4     [39 31 28 30]    [2 3 2 3]  [663.8   0. ]\n",
       "5           5     [49 30 46  3]    [2 3 2 3]    [647.   0.]\n",
       "6           6     [20 30 48 30]    [2 3 2 3]  [663.2   0. ]\n",
       "7           7     [30 33 31 34]    [3 2 3 2]  [663.8   0. ]\n",
       "8           8        [30 49 29]      [3 1 3]  [628.3   0. ]"
      ],
      "text/html": "<div>\n<style scoped>\n    .dataframe tbody tr th:only-of-type {\n        vertical-align: middle;\n    }\n\n    .dataframe tbody tr th {\n        vertical-align: top;\n    }\n\n    .dataframe thead th {\n        text-align: right;\n    }\n</style>\n<table border=\"1\" class=\"dataframe\">\n  <thead>\n    <tr style=\"text-align: right;\">\n      <th></th>\n      <th>Unnamed: 0</th>\n      <th>Batches</th>\n      <th>Products</th>\n      <th>Objectives</th>\n    </tr>\n  </thead>\n  <tbody>\n    <tr>\n      <th>0</th>\n      <td>0</td>\n      <td>[29 49 30]</td>\n      <td>[3 1 3]</td>\n      <td>[628.3   0. ]</td>\n    </tr>\n    <tr>\n      <th>1</th>\n      <td>1</td>\n      <td>[31 47 31]</td>\n      <td>[3 1 3]</td>\n      <td>[632.4   0. ]</td>\n    </tr>\n    <tr>\n      <th>2</th>\n      <td>2</td>\n      <td>[31 17 31 12 30]</td>\n      <td>[3 2 3 2 3]</td>\n      <td>[648.1   0. ]</td>\n    </tr>\n    <tr>\n      <th>3</th>\n      <td>3</td>\n      <td>[48 31 48  2]</td>\n      <td>[2 3 2 1]</td>\n      <td>[653.3   0. ]</td>\n    </tr>\n    <tr>\n      <th>4</th>\n      <td>4</td>\n      <td>[39 31 28 30]</td>\n      <td>[2 3 2 3]</td>\n      <td>[663.8   0. ]</td>\n    </tr>\n    <tr>\n      <th>5</th>\n      <td>5</td>\n      <td>[49 30 46  3]</td>\n      <td>[2 3 2 3]</td>\n      <td>[647.   0.]</td>\n    </tr>\n    <tr>\n      <th>6</th>\n      <td>6</td>\n      <td>[20 30 48 30]</td>\n      <td>[2 3 2 3]</td>\n      <td>[663.2   0. ]</td>\n    </tr>\n    <tr>\n      <th>7</th>\n      <td>7</td>\n      <td>[30 33 31 34]</td>\n      <td>[3 2 3 2]</td>\n      <td>[663.8   0. ]</td>\n    </tr>\n    <tr>\n      <th>8</th>\n      <td>8</td>\n      <td>[30 49 29]</td>\n      <td>[3 1 3]</td>\n      <td>[628.3   0. ]</td>\n    </tr>\n  </tbody>\n</table>\n</div>"
     },
     "metadata": {},
     "execution_count": 13
    }
   ],
   "source": [
    "name=\"15-114\"+\"solutions.csv\"\n",
    "results=pd.read_csv(root_path_analysis+name)# Import from csv\n",
    "results"
   ]
  },
  {
   "source": [
    "- Number of batches seems more normal, now the product 0 appears, however still the second objective is not ok.\n",
    "    - Necessary to modify the calculation of Monte Carlo"
   ],
   "cell_type": "markdown",
   "metadata": {}
  },
  {
   "source": [
    "### 16/1 11h\n",
    "- 16/1 11h\n",
    "    - For each MC simulation the backlog and\n",
    "        - Monte Carlo simulations=100\n",
    "        - 2 Executions, with 1000 generations\n",
    "        - No solution without violations, passing all in front 0\n",
    "        - Total time 2316.344828 Per execution 1158.172414"
   ],
   "cell_type": "markdown",
   "metadata": {}
  },
  {
   "cell_type": "code",
   "execution_count": 14,
   "metadata": {},
   "outputs": [
    {
     "output_type": "execute_result",
     "data": {
      "text/plain": [
       "   Unnamed: 0 Execution                                                                                       Variation Solution  Total throughput [kg]  Max total backlog [kg]  Mean total backlog [kg]  std dev total backlog [kg]  Median total backlog [kg]  Min total backlog [kg]  P(total backlog ≤ 0 kg)  Max total inventory deficit [kg]  Mean total inventory deficit [kg]  std dev inventory deficit [kg]  Median total inventory deficit [kg]  Min total inventory deficit [kg]  Total Deficit [kg]                      Batches [un]              Product label                                                 Start of USP [date]                                                   End of DSP [date]\n",
       "0           0   Article                                                                                         Article        X                  539.3                8.200000                 0.200000                    0.600000                   0.000000                0.000000                 0.820000                        683.400000                         432.600000                       58.600000                           424.400000                        259.400000                 NaN  [15 10 29 3 15 11 15 6 2 2 2 10]  [3 2 0 1 3 2 1 3 2 1 2 3]                                                                 NaN                                                                 NaN\n",
       "1           1   Article                                                                                         Article        Y                  601.5               16.000000                 7.100000                    4.300000                   0.000000                0.000000                 0.500000                        786.000000                         558.600000                       59.000000                           551.700000                        355.600000                 NaN           [12 13 24 18 5 19 9 30]          [3 2 0 3 1 0 2 3]                                                                 NaN                                                                 NaN\n",
       "2           0         0  front_nsga,tour_vio,rein_vio,vio_back,calc_montecarlo,100,1000,2,0.11,(0.04, 0.61, 0.77, 0.47)        X                  555.1               59.624545                51.448371                    3.675727                  51.270194               42.578911              5144.837076                        600.258730                         544.479692                       18.349822                           538.934509                        513.782529          538.934509                  [30 20 35  3 30]                [3 2 0 1 3]  ['2016-12-01' '2017-08-24' '2018-02-25' '2018-12-12' '2019-02-19']  ['2017-08-24' '2018-02-25' '2018-12-12' '2019-02-19' '2019-11-05']\n",
       "3           1         0  front_nsga,tour_vio,rein_vio,vio_back,calc_montecarlo,100,1000,2,0.11,(0.04, 0.61, 0.77, 0.47)        Y                  664.4              173.103326               160.542772                    4.240579                 160.138411              150.386980             16054.277250                        975.238612                         950.897649                        8.460427                           950.950597                        929.944914          950.950597                     [31 36 31 30]                  [3 2 3 2]               ['2016-12-01' '2017-08-31' '2018-06-24' '2019-03-17']               ['2017-08-31' '2018-06-24' '2019-03-17' '2019-11-27']"
      ],
      "text/html": "<div>\n<style scoped>\n    .dataframe tbody tr th:only-of-type {\n        vertical-align: middle;\n    }\n\n    .dataframe tbody tr th {\n        vertical-align: top;\n    }\n\n    .dataframe thead th {\n        text-align: right;\n    }\n</style>\n<table border=\"1\" class=\"dataframe\">\n  <thead>\n    <tr style=\"text-align: right;\">\n      <th></th>\n      <th>Unnamed: 0</th>\n      <th>Execution</th>\n      <th>Variation</th>\n      <th>Solution</th>\n      <th>Total throughput [kg]</th>\n      <th>Max total backlog [kg]</th>\n      <th>Mean total backlog [kg]</th>\n      <th>std dev total backlog [kg]</th>\n      <th>Median total backlog [kg]</th>\n      <th>Min total backlog [kg]</th>\n      <th>P(total backlog ≤ 0 kg)</th>\n      <th>Max total inventory deficit [kg]</th>\n      <th>Mean total inventory deficit [kg]</th>\n      <th>std dev inventory deficit [kg]</th>\n      <th>Median total inventory deficit [kg]</th>\n      <th>Min total inventory deficit [kg]</th>\n      <th>Total Deficit [kg]</th>\n      <th>Batches [un]</th>\n      <th>Product label</th>\n      <th>Start of USP [date]</th>\n      <th>End of DSP [date]</th>\n    </tr>\n  </thead>\n  <tbody>\n    <tr>\n      <th>0</th>\n      <td>0</td>\n      <td>Article</td>\n      <td>Article</td>\n      <td>X</td>\n      <td>539.3</td>\n      <td>8.200000</td>\n      <td>0.200000</td>\n      <td>0.600000</td>\n      <td>0.000000</td>\n      <td>0.000000</td>\n      <td>0.820000</td>\n      <td>683.400000</td>\n      <td>432.600000</td>\n      <td>58.600000</td>\n      <td>424.400000</td>\n      <td>259.400000</td>\n      <td>NaN</td>\n      <td>[15 10 29 3 15 11 15 6 2 2 2 10]</td>\n      <td>[3 2 0 1 3 2 1 3 2 1 2 3]</td>\n      <td>NaN</td>\n      <td>NaN</td>\n    </tr>\n    <tr>\n      <th>1</th>\n      <td>1</td>\n      <td>Article</td>\n      <td>Article</td>\n      <td>Y</td>\n      <td>601.5</td>\n      <td>16.000000</td>\n      <td>7.100000</td>\n      <td>4.300000</td>\n      <td>0.000000</td>\n      <td>0.000000</td>\n      <td>0.500000</td>\n      <td>786.000000</td>\n      <td>558.600000</td>\n      <td>59.000000</td>\n      <td>551.700000</td>\n      <td>355.600000</td>\n      <td>NaN</td>\n      <td>[12 13 24 18 5 19 9 30]</td>\n      <td>[3 2 0 3 1 0 2 3]</td>\n      <td>NaN</td>\n      <td>NaN</td>\n    </tr>\n    <tr>\n      <th>2</th>\n      <td>0</td>\n      <td>0</td>\n      <td>front_nsga,tour_vio,rein_vio,vio_back,calc_montecarlo,100,1000,2,0.11,(0.04, 0.61, 0.77, 0.47)</td>\n      <td>X</td>\n      <td>555.1</td>\n      <td>59.624545</td>\n      <td>51.448371</td>\n      <td>3.675727</td>\n      <td>51.270194</td>\n      <td>42.578911</td>\n      <td>5144.837076</td>\n      <td>600.258730</td>\n      <td>544.479692</td>\n      <td>18.349822</td>\n      <td>538.934509</td>\n      <td>513.782529</td>\n      <td>538.934509</td>\n      <td>[30 20 35  3 30]</td>\n      <td>[3 2 0 1 3]</td>\n      <td>['2016-12-01' '2017-08-24' '2018-02-25' '2018-12-12' '2019-02-19']</td>\n      <td>['2017-08-24' '2018-02-25' '2018-12-12' '2019-02-19' '2019-11-05']</td>\n    </tr>\n    <tr>\n      <th>3</th>\n      <td>1</td>\n      <td>0</td>\n      <td>front_nsga,tour_vio,rein_vio,vio_back,calc_montecarlo,100,1000,2,0.11,(0.04, 0.61, 0.77, 0.47)</td>\n      <td>Y</td>\n      <td>664.4</td>\n      <td>173.103326</td>\n      <td>160.542772</td>\n      <td>4.240579</td>\n      <td>160.138411</td>\n      <td>150.386980</td>\n      <td>16054.277250</td>\n      <td>975.238612</td>\n      <td>950.897649</td>\n      <td>8.460427</td>\n      <td>950.950597</td>\n      <td>929.944914</td>\n      <td>950.950597</td>\n      <td>[31 36 31 30]</td>\n      <td>[3 2 3 2]</td>\n      <td>['2016-12-01' '2017-08-31' '2018-06-24' '2019-03-17']</td>\n      <td>['2017-08-31' '2018-06-24' '2019-03-17' '2019-11-27']</td>\n    </tr>\n  </tbody>\n</table>\n</div>"
     },
     "metadata": {},
     "execution_count": 14
    }
   ],
   "source": [
    "import pandas as pd\n",
    "result=pd.read_csv(root_path_analysis+'16-11.csv')# Import from csv\n",
    "result"
   ]
  },
  {
   "source": [
    "1. Attributes analysis\n",
    "    - OK 'Total throughput [kg]', \n",
    "    - 'Max total backlog [kg]', \n",
    "        - Potencialmente alto\n",
    "    - 'Mean total backlog [kg]', \n",
    "    - 'std dev total backlog [kg]', \n",
    "    - 'Median total backlog [kg]', \n",
    "        - Valores altos, preciso de uma estrategia para reduzir o backlog.\n",
    "            - Pode ser devido a minha reinversao de valores\n",
    "            - Forma de Calculo do backlog\n",
    "                - Testarei Contar as violacoes como np.sum(np.median(distribution_sums_backlog) > 0),  # 6)Backlog violations, para count_backlog_violations_j adds if is greater than 0\n",
    "    - 'Min total backlog [kg]', \n",
    "    - 'P(total backlog ≤ 0 kg)', \n",
    "        - Perhaps the problem is given the inversion that I make\n",
    "    - OK 'Max total inventory deficit [kg]', \n",
    "    - OK 'Mean total inventory deficit [kg]', \n",
    "    - OK 'std dev inventory deficit [kg]', \n",
    "    - OK 'Median total inventory deficit [kg]', \n",
    "    - OK 'Min total inventory deficit [kg]', \n",
    "    - 'Total Deficit [kg]', \n",
    "    - 'Batches [un]', \n",
    "        - More reasonable values of batches     \n",
    "    - 'Product label', \n",
    "    - 'Start of USP [date]', \n",
    "    - 'End of DSP [date]']"
   ],
   "cell_type": "markdown",
   "metadata": {}
  },
  {
   "cell_type": "code",
   "execution_count": 15,
   "metadata": {},
   "outputs": [
    {
     "output_type": "execute_result",
     "data": {
      "text/plain": [
       "   Unnamed: 0           Batches     Products                   Objectives\n",
       "0           0     [31 39 26 31]    [3 2 0 3]  [612.7        697.03984737]\n",
       "1           1  [24 21 28 30 19]  [3 2 0 3 2]  [579.8        588.47419239]\n",
       "2           2     [25 48 31 24]    [3 2 3 2]  [660.8        926.38878466]\n",
       "3           3     [31 22 30 46]    [3 2 0 2]  [596.7        632.30311669]\n",
       "4           4     [30 42 25 31]    [3 2 0 3]  [618.8        726.31102836]"
      ],
      "text/html": "<div>\n<style scoped>\n    .dataframe tbody tr th:only-of-type {\n        vertical-align: middle;\n    }\n\n    .dataframe tbody tr th {\n        vertical-align: top;\n    }\n\n    .dataframe thead th {\n        text-align: right;\n    }\n</style>\n<table border=\"1\" class=\"dataframe\">\n  <thead>\n    <tr style=\"text-align: right;\">\n      <th></th>\n      <th>Unnamed: 0</th>\n      <th>Batches</th>\n      <th>Products</th>\n      <th>Objectives</th>\n    </tr>\n  </thead>\n  <tbody>\n    <tr>\n      <th>0</th>\n      <td>0</td>\n      <td>[31 39 26 31]</td>\n      <td>[3 2 0 3]</td>\n      <td>[612.7        697.03984737]</td>\n    </tr>\n    <tr>\n      <th>1</th>\n      <td>1</td>\n      <td>[24 21 28 30 19]</td>\n      <td>[3 2 0 3 2]</td>\n      <td>[579.8        588.47419239]</td>\n    </tr>\n    <tr>\n      <th>2</th>\n      <td>2</td>\n      <td>[25 48 31 24]</td>\n      <td>[3 2 3 2]</td>\n      <td>[660.8        926.38878466]</td>\n    </tr>\n    <tr>\n      <th>3</th>\n      <td>3</td>\n      <td>[31 22 30 46]</td>\n      <td>[3 2 0 2]</td>\n      <td>[596.7        632.30311669]</td>\n    </tr>\n    <tr>\n      <th>4</th>\n      <td>4</td>\n      <td>[30 42 25 31]</td>\n      <td>[3 2 0 3]</td>\n      <td>[618.8        726.31102836]</td>\n    </tr>\n  </tbody>\n</table>\n</div>"
     },
     "metadata": {},
     "execution_count": 15
    }
   ],
   "source": [
    "name=\"16-11\"+\"solutions.csv\"\n",
    "results=pd.read_csv(root_path_analysis+name)# Import from csv\n",
    "results.head(5)"
   ]
  },
  {
   "source": [
    "### 17/1 11h\n",
    "- 17/1 11h\n",
    "    - For each MC simulation the backlog and\n",
    "        - Monte Carlo simulations=100\n",
    "        - 20 Executions, with 1000 generations\n",
    "        - No solution without violations, passing all in front 0\n",
    "        - Total time  38379.314743200004 Per execution 1918.9657371600001\n",
    "            - Forma de Calculo do backlog\n",
    "                - Testarei Contar as violacoes como np.sum(np.median(distribution_sums_backlog) > 0),  # 6)Backlog violations, para count_backlog_violations_j adds if is greater than 0\n",
    " "
   ],
   "cell_type": "markdown",
   "metadata": {}
  },
  {
   "cell_type": "code",
   "execution_count": 16,
   "metadata": {},
   "outputs": [
    {
     "output_type": "execute_result",
     "data": {
      "text/plain": [
       "   Unnamed: 0 Execution                                                                                       Variation Solution  Total throughput [kg]  Max total backlog [kg]  Mean total backlog [kg]  std dev total backlog [kg]  Median total backlog [kg]  Min total backlog [kg]  P(total backlog ≤ 0 kg)  Max total inventory deficit [kg]  Mean total inventory deficit [kg]  std dev inventory deficit [kg]  Median total inventory deficit [kg]  Min total inventory deficit [kg]  Total Deficit [kg]                      Batches [un]              Product label                                                                                          Start of USP [date]                                                                                            End of DSP [date]\n",
       "0           0   Article                                                                                         Article        X                  539.3                8.200000                 0.200000                    0.600000                   0.000000                0.000000                 0.820000                        683.400000                         432.600000                       58.600000                           424.400000                        259.400000                 NaN  [15 10 29 3 15 11 15 6 2 2 2 10]  [3 2 0 1 3 2 1 3 2 1 2 3]                                                                                                          NaN                                                                                                          NaN\n",
       "1           1   Article                                                                                         Article        Y                  601.5               16.000000                 7.100000                    4.300000                   0.000000                0.000000                 0.500000                        786.000000                         558.600000                       59.000000                           551.700000                        355.600000                 NaN           [12 13 24 18 5 19 9 30]          [3 2 0 3 1 0 2 3]                                                                                                          NaN                                                                                                          NaN\n",
       "2           0         0  front_nsga,tour_vio,rein_vio,vio_back,calc_montecarlo,100,1000,2,0.11,(0.04, 0.61, 0.77, 0.47)        X                 -664.4              175.398621               161.514449                    4.865560                 161.629052              148.184403             16151.444877                        974.555720                         948.604516                        7.694172                           947.916675                        933.835582          947.916675                     [31 49 31 17]                  [3 2 3 2]                                                        ['2016-12-01' '2017-08-31' '2018-09-23' '2019-06-16']                                                        ['2017-08-31' '2018-09-23' '2019-06-16' '2019-11-27']\n",
       "3           1         0  front_nsga,tour_vio,rein_vio,vio_back,calc_montecarlo,100,1000,2,0.11,(0.04, 0.61, 0.77, 0.47)        Y                 -441.7               63.744327                56.892965                    3.185055                  56.978196               48.840320              5689.296540                        559.643422                         494.857244                       17.523500                           490.288892                        468.000286          490.288892         [30 14 34  8  3  3  2  3]          [3 2 0 2 3 1 2 1]  ['2016-12-01' '2017-08-24' '2018-01-14' '2018-10-24' '2019-02-02'\\n '2019-04-13' '2019-06-21' '2019-08-19']  ['2017-08-24' '2018-01-14' '2018-10-24' '2019-02-02' '2019-04-13'\\n '2019-06-21' '2019-08-19' '2019-10-27']"
      ],
      "text/html": "<div>\n<style scoped>\n    .dataframe tbody tr th:only-of-type {\n        vertical-align: middle;\n    }\n\n    .dataframe tbody tr th {\n        vertical-align: top;\n    }\n\n    .dataframe thead th {\n        text-align: right;\n    }\n</style>\n<table border=\"1\" class=\"dataframe\">\n  <thead>\n    <tr style=\"text-align: right;\">\n      <th></th>\n      <th>Unnamed: 0</th>\n      <th>Execution</th>\n      <th>Variation</th>\n      <th>Solution</th>\n      <th>Total throughput [kg]</th>\n      <th>Max total backlog [kg]</th>\n      <th>Mean total backlog [kg]</th>\n      <th>std dev total backlog [kg]</th>\n      <th>Median total backlog [kg]</th>\n      <th>Min total backlog [kg]</th>\n      <th>P(total backlog ≤ 0 kg)</th>\n      <th>Max total inventory deficit [kg]</th>\n      <th>Mean total inventory deficit [kg]</th>\n      <th>std dev inventory deficit [kg]</th>\n      <th>Median total inventory deficit [kg]</th>\n      <th>Min total inventory deficit [kg]</th>\n      <th>Total Deficit [kg]</th>\n      <th>Batches [un]</th>\n      <th>Product label</th>\n      <th>Start of USP [date]</th>\n      <th>End of DSP [date]</th>\n    </tr>\n  </thead>\n  <tbody>\n    <tr>\n      <th>0</th>\n      <td>0</td>\n      <td>Article</td>\n      <td>Article</td>\n      <td>X</td>\n      <td>539.3</td>\n      <td>8.200000</td>\n      <td>0.200000</td>\n      <td>0.600000</td>\n      <td>0.000000</td>\n      <td>0.000000</td>\n      <td>0.820000</td>\n      <td>683.400000</td>\n      <td>432.600000</td>\n      <td>58.600000</td>\n      <td>424.400000</td>\n      <td>259.400000</td>\n      <td>NaN</td>\n      <td>[15 10 29 3 15 11 15 6 2 2 2 10]</td>\n      <td>[3 2 0 1 3 2 1 3 2 1 2 3]</td>\n      <td>NaN</td>\n      <td>NaN</td>\n    </tr>\n    <tr>\n      <th>1</th>\n      <td>1</td>\n      <td>Article</td>\n      <td>Article</td>\n      <td>Y</td>\n      <td>601.5</td>\n      <td>16.000000</td>\n      <td>7.100000</td>\n      <td>4.300000</td>\n      <td>0.000000</td>\n      <td>0.000000</td>\n      <td>0.500000</td>\n      <td>786.000000</td>\n      <td>558.600000</td>\n      <td>59.000000</td>\n      <td>551.700000</td>\n      <td>355.600000</td>\n      <td>NaN</td>\n      <td>[12 13 24 18 5 19 9 30]</td>\n      <td>[3 2 0 3 1 0 2 3]</td>\n      <td>NaN</td>\n      <td>NaN</td>\n    </tr>\n    <tr>\n      <th>2</th>\n      <td>0</td>\n      <td>0</td>\n      <td>front_nsga,tour_vio,rein_vio,vio_back,calc_montecarlo,100,1000,2,0.11,(0.04, 0.61, 0.77, 0.47)</td>\n      <td>X</td>\n      <td>-664.4</td>\n      <td>175.398621</td>\n      <td>161.514449</td>\n      <td>4.865560</td>\n      <td>161.629052</td>\n      <td>148.184403</td>\n      <td>16151.444877</td>\n      <td>974.555720</td>\n      <td>948.604516</td>\n      <td>7.694172</td>\n      <td>947.916675</td>\n      <td>933.835582</td>\n      <td>947.916675</td>\n      <td>[31 49 31 17]</td>\n      <td>[3 2 3 2]</td>\n      <td>['2016-12-01' '2017-08-31' '2018-09-23' '2019-06-16']</td>\n      <td>['2017-08-31' '2018-09-23' '2019-06-16' '2019-11-27']</td>\n    </tr>\n    <tr>\n      <th>3</th>\n      <td>1</td>\n      <td>0</td>\n      <td>front_nsga,tour_vio,rein_vio,vio_back,calc_montecarlo,100,1000,2,0.11,(0.04, 0.61, 0.77, 0.47)</td>\n      <td>Y</td>\n      <td>-441.7</td>\n      <td>63.744327</td>\n      <td>56.892965</td>\n      <td>3.185055</td>\n      <td>56.978196</td>\n      <td>48.840320</td>\n      <td>5689.296540</td>\n      <td>559.643422</td>\n      <td>494.857244</td>\n      <td>17.523500</td>\n      <td>490.288892</td>\n      <td>468.000286</td>\n      <td>490.288892</td>\n      <td>[30 14 34  8  3  3  2  3]</td>\n      <td>[3 2 0 2 3 1 2 1]</td>\n      <td>['2016-12-01' '2017-08-24' '2018-01-14' '2018-10-24' '2019-02-02'\\n '2019-04-13' '2019-06-21' '2019-08-19']</td>\n      <td>['2017-08-24' '2018-01-14' '2018-10-24' '2019-02-02' '2019-04-13'\\n '2019-06-21' '2019-08-19' '2019-10-27']</td>\n    </tr>\n  </tbody>\n</table>\n</div>"
     },
     "metadata": {},
     "execution_count": 16
    }
   ],
   "source": [
    "import pandas as pd\n",
    "result=pd.read_csv(root_path_analysis+'17-111.csv')# Import from csv\n",
    "result"
   ]
  },
  {
   "source": [
    "1. Attributes analysis\n",
    "    - 'Total throughput [kg]',\n",
    "        - Negative because I must fix the inversion correction, the true value is the modulo. Fix added to code.\n",
    "    - 'Max total backlog [kg]', \n",
    "        - Potencialmente alto\n",
    "    - 'Mean total backlog [kg]', \n",
    "    - 'std dev total backlog [kg]', \n",
    "    - 'Median total backlog [kg]', \n",
    "        - Valores altos, preciso de uma estrategia para reduzir o backlog.\n",
    "            - Pode ser devido a minha reinversao de valores\n",
    "            - Forma de Calculo do backlog\n",
    "                - Test Contar cumulativamente as violacoes em todas as simulacoes de Monte como np.sum(np.median(distribution_sums_backlog) > 0),  # 6)Backlog violations, para count_backlog_violations_j adds if is greater than 0\n",
    "                    - It did not worked, results are similar\n",
    "                - Test Count the number of month violations per simulation count_backlog_violations_j += np.sum(backlog_j>0), instead of counting 1 in case any violation happen.\n",
    "    - 'Min total backlog [kg]',\n",
    "        - High values\n",
    "    - 'P(total backlog ≤ 0 kg)', \n",
    "        - Perhaps the problem is given the inversion that I make\n",
    "    - OK 'Max total inventory deficit [kg]', \n",
    "    - OK 'Mean total inventory deficit [kg]', \n",
    "    - OK 'std dev inventory deficit [kg]', \n",
    "    - OK 'Median total inventory deficit [kg]', \n",
    "    - OK 'Min total inventory deficit [kg]', \n",
    "    - 'Total Deficit [kg]', \n",
    "    - 'Batches [un]', \n",
    "        - More reasonable values of batches     \n",
    "    - 'Product label', \n",
    "    - 'Start of USP [date]', \n",
    "    - 'End of DSP [date]']"
   ],
   "cell_type": "markdown",
   "metadata": {}
  },
  {
   "cell_type": "code",
   "execution_count": 17,
   "metadata": {},
   "outputs": [
    {
     "output_type": "execute_result",
     "data": {
      "text/plain": [
       "   Unnamed: 0           Batches     Products                     Objectives\n",
       "0           0     [31 42 24 31]    [3 2 0 3]  [-621.2         737.72287893]\n",
       "1           1     [31 40 26 31]    [3 2 0 3]  [-617.6         708.86045982]\n",
       "2           2  [30 21  4 30 36]  [3 2 1 3 2]  [-634.1         840.08847325]\n",
       "3           3     [31 49 31 17]    [3 2 3 2]  [-664.4         947.91667481]\n",
       "4           4  [24 33 31  3 30]  [3 2 3 1 3]  [-647.8         880.15120185]"
      ],
      "text/html": "<div>\n<style scoped>\n    .dataframe tbody tr th:only-of-type {\n        vertical-align: middle;\n    }\n\n    .dataframe tbody tr th {\n        vertical-align: top;\n    }\n\n    .dataframe thead th {\n        text-align: right;\n    }\n</style>\n<table border=\"1\" class=\"dataframe\">\n  <thead>\n    <tr style=\"text-align: right;\">\n      <th></th>\n      <th>Unnamed: 0</th>\n      <th>Batches</th>\n      <th>Products</th>\n      <th>Objectives</th>\n    </tr>\n  </thead>\n  <tbody>\n    <tr>\n      <th>0</th>\n      <td>0</td>\n      <td>[31 42 24 31]</td>\n      <td>[3 2 0 3]</td>\n      <td>[-621.2         737.72287893]</td>\n    </tr>\n    <tr>\n      <th>1</th>\n      <td>1</td>\n      <td>[31 40 26 31]</td>\n      <td>[3 2 0 3]</td>\n      <td>[-617.6         708.86045982]</td>\n    </tr>\n    <tr>\n      <th>2</th>\n      <td>2</td>\n      <td>[30 21  4 30 36]</td>\n      <td>[3 2 1 3 2]</td>\n      <td>[-634.1         840.08847325]</td>\n    </tr>\n    <tr>\n      <th>3</th>\n      <td>3</td>\n      <td>[31 49 31 17]</td>\n      <td>[3 2 3 2]</td>\n      <td>[-664.4         947.91667481]</td>\n    </tr>\n    <tr>\n      <th>4</th>\n      <td>4</td>\n      <td>[24 33 31  3 30]</td>\n      <td>[3 2 3 1 3]</td>\n      <td>[-647.8         880.15120185]</td>\n    </tr>\n  </tbody>\n</table>\n</div>"
     },
     "metadata": {},
     "execution_count": 17
    }
   ],
   "source": [
    "name=\"17-111\"+\"solutions.csv\"\n",
    "results=pd.read_csv(root_path_analysis+name)# Import from csv\n",
    "results.head(5)"
   ]
  },
  {
   "source": [
    "- More Frequent batches start to appear"
   ],
   "cell_type": "markdown",
   "metadata": {}
  },
  {
   "source": [
    "### 17/1 14h\n",
    "- 17/1 14h\n",
    "    - For each MC simulation the backlog and\n",
    "        - Monte Carlo simulations=100\n",
    "        - 2 Executions, with 1000 generations\n",
    "        - No solution without violations, passing all in front 0\n",
    "        - Total time  1912.581895 Per execution 956.2909475\n",
    "            - Forma de Calculo do backlog\n",
    "                - Test Count the number of month violations per simulation count_backlog_violations_j += np.sum(backlog_j>0), instead of counting 1 in case any violation happen."
   ],
   "cell_type": "markdown",
   "metadata": {}
  },
  {
   "cell_type": "code",
   "execution_count": 18,
   "metadata": {},
   "outputs": [
    {
     "output_type": "execute_result",
     "data": {
      "text/plain": [
       "   Unnamed: 0 Execution                                                                                       Variation Solution  Total throughput [kg]  Max total backlog [kg]  Mean total backlog [kg]  std dev total backlog [kg]  Median total backlog [kg]  Min total backlog [kg]  P(total backlog ≤ 0 kg)  Max total inventory deficit [kg]  Mean total inventory deficit [kg]  std dev inventory deficit [kg]  Median total inventory deficit [kg]  Min total inventory deficit [kg]  Total Deficit [kg]                      Batches [un]              Product label                                                                             Start of USP [date]                                                                               End of DSP [date]\n",
       "0           0   Article                                                                                         Article        X                  539.3                8.200000                 0.200000                    0.600000                   0.000000                0.000000                 0.820000                        683.400000                         432.600000                       58.600000                           424.400000                        259.400000                 NaN  [15 10 29 3 15 11 15 6 2 2 2 10]  [3 2 0 1 3 2 1 3 2 1 2 3]                                                                                             NaN                                                                                             NaN\n",
       "1           1   Article                                                                                         Article        Y                  601.5               16.000000                 7.100000                    4.300000                   0.000000                0.000000                 0.500000                        786.000000                         558.600000                       59.000000                           551.700000                        355.600000                 NaN           [12 13 24 18 5 19 9 30]          [3 2 0 3 1 0 2 3]                                                                                             NaN                                                                                             NaN\n",
       "2           0         0  front_nsga,tour_vio,rein_vio,vio_back,calc_montecarlo,100,1000,2,0.11,(0.04, 0.61, 0.77, 0.47)        X                  479.4               55.135830                44.868747                    3.141599                  44.431457               37.872310              4486.874706                        603.031843                         534.388733                       20.816774                           534.893691                        484.106379          534.893691            [27 20 34  2  9  2  9]            [3 2 0 1 3 2 1]  ['2016-12-01' '2017-08-03' '2018-02-04' '2018-11-14' '2019-01-11'\\n '2019-05-03' '2019-07-01']  ['2017-08-03' '2018-02-04' '2018-11-14' '2019-01-11' '2019-05-03'\\n '2019-07-01' '2019-11-24']\n",
       "3           1         0  front_nsga,tour_vio,rein_vio,vio_back,calc_montecarlo,100,1000,2,0.11,(0.04, 0.61, 0.77, 0.47)        Y                  534.5               57.648191                46.385282                    3.932886                  45.992487               38.991321              4638.528177                        751.858560                         678.713048                       32.656691                           675.767888                        614.707595          675.767888                  [21 42 15 29  9]                [3 0 2 3 1]                              ['2016-12-01' '2017-06-22' '2018-05-27' '2018-10-24' '2019-07-03']                              ['2017-06-22' '2018-05-27' '2018-10-24' '2019-07-03' '2019-11-15']"
      ],
      "text/html": "<div>\n<style scoped>\n    .dataframe tbody tr th:only-of-type {\n        vertical-align: middle;\n    }\n\n    .dataframe tbody tr th {\n        vertical-align: top;\n    }\n\n    .dataframe thead th {\n        text-align: right;\n    }\n</style>\n<table border=\"1\" class=\"dataframe\">\n  <thead>\n    <tr style=\"text-align: right;\">\n      <th></th>\n      <th>Unnamed: 0</th>\n      <th>Execution</th>\n      <th>Variation</th>\n      <th>Solution</th>\n      <th>Total throughput [kg]</th>\n      <th>Max total backlog [kg]</th>\n      <th>Mean total backlog [kg]</th>\n      <th>std dev total backlog [kg]</th>\n      <th>Median total backlog [kg]</th>\n      <th>Min total backlog [kg]</th>\n      <th>P(total backlog ≤ 0 kg)</th>\n      <th>Max total inventory deficit [kg]</th>\n      <th>Mean total inventory deficit [kg]</th>\n      <th>std dev inventory deficit [kg]</th>\n      <th>Median total inventory deficit [kg]</th>\n      <th>Min total inventory deficit [kg]</th>\n      <th>Total Deficit [kg]</th>\n      <th>Batches [un]</th>\n      <th>Product label</th>\n      <th>Start of USP [date]</th>\n      <th>End of DSP [date]</th>\n    </tr>\n  </thead>\n  <tbody>\n    <tr>\n      <th>0</th>\n      <td>0</td>\n      <td>Article</td>\n      <td>Article</td>\n      <td>X</td>\n      <td>539.3</td>\n      <td>8.200000</td>\n      <td>0.200000</td>\n      <td>0.600000</td>\n      <td>0.000000</td>\n      <td>0.000000</td>\n      <td>0.820000</td>\n      <td>683.400000</td>\n      <td>432.600000</td>\n      <td>58.600000</td>\n      <td>424.400000</td>\n      <td>259.400000</td>\n      <td>NaN</td>\n      <td>[15 10 29 3 15 11 15 6 2 2 2 10]</td>\n      <td>[3 2 0 1 3 2 1 3 2 1 2 3]</td>\n      <td>NaN</td>\n      <td>NaN</td>\n    </tr>\n    <tr>\n      <th>1</th>\n      <td>1</td>\n      <td>Article</td>\n      <td>Article</td>\n      <td>Y</td>\n      <td>601.5</td>\n      <td>16.000000</td>\n      <td>7.100000</td>\n      <td>4.300000</td>\n      <td>0.000000</td>\n      <td>0.000000</td>\n      <td>0.500000</td>\n      <td>786.000000</td>\n      <td>558.600000</td>\n      <td>59.000000</td>\n      <td>551.700000</td>\n      <td>355.600000</td>\n      <td>NaN</td>\n      <td>[12 13 24 18 5 19 9 30]</td>\n      <td>[3 2 0 3 1 0 2 3]</td>\n      <td>NaN</td>\n      <td>NaN</td>\n    </tr>\n    <tr>\n      <th>2</th>\n      <td>0</td>\n      <td>0</td>\n      <td>front_nsga,tour_vio,rein_vio,vio_back,calc_montecarlo,100,1000,2,0.11,(0.04, 0.61, 0.77, 0.47)</td>\n      <td>X</td>\n      <td>479.4</td>\n      <td>55.135830</td>\n      <td>44.868747</td>\n      <td>3.141599</td>\n      <td>44.431457</td>\n      <td>37.872310</td>\n      <td>4486.874706</td>\n      <td>603.031843</td>\n      <td>534.388733</td>\n      <td>20.816774</td>\n      <td>534.893691</td>\n      <td>484.106379</td>\n      <td>534.893691</td>\n      <td>[27 20 34  2  9  2  9]</td>\n      <td>[3 2 0 1 3 2 1]</td>\n      <td>['2016-12-01' '2017-08-03' '2018-02-04' '2018-11-14' '2019-01-11'\\n '2019-05-03' '2019-07-01']</td>\n      <td>['2017-08-03' '2018-02-04' '2018-11-14' '2019-01-11' '2019-05-03'\\n '2019-07-01' '2019-11-24']</td>\n    </tr>\n    <tr>\n      <th>3</th>\n      <td>1</td>\n      <td>0</td>\n      <td>front_nsga,tour_vio,rein_vio,vio_back,calc_montecarlo,100,1000,2,0.11,(0.04, 0.61, 0.77, 0.47)</td>\n      <td>Y</td>\n      <td>534.5</td>\n      <td>57.648191</td>\n      <td>46.385282</td>\n      <td>3.932886</td>\n      <td>45.992487</td>\n      <td>38.991321</td>\n      <td>4638.528177</td>\n      <td>751.858560</td>\n      <td>678.713048</td>\n      <td>32.656691</td>\n      <td>675.767888</td>\n      <td>614.707595</td>\n      <td>675.767888</td>\n      <td>[21 42 15 29  9]</td>\n      <td>[3 0 2 3 1]</td>\n      <td>['2016-12-01' '2017-06-22' '2018-05-27' '2018-10-24' '2019-07-03']</td>\n      <td>['2017-06-22' '2018-05-27' '2018-10-24' '2019-07-03' '2019-11-15']</td>\n    </tr>\n  </tbody>\n</table>\n</div>"
     },
     "metadata": {},
     "execution_count": 18
    }
   ],
   "source": [
    "name=\"17-114\"\n",
    "result=pd.read_csv(root_path_analysis+name+'.csv')# Import from csv\n",
    "result"
   ]
  },
  {
   "source": [
    "1. Attributes analysis\n",
    "    - OK 'Total throughput [kg]',\n",
    "    - 'Max total backlog [kg]', \n",
    "        - Potencialmente alto\n",
    "    - 'Mean total backlog [kg]', \n",
    "    - 'std dev total backlog [kg]', \n",
    "    - 'Median total backlog [kg]', \n",
    "        - Valores altos, preciso de uma estrategia para reduzir o backlog.\n",
    "            - Pode ser devido a minha reinversao de valores\n",
    "            - Different backlog calculus tests\n",
    "                - Test Contar cumulativamente as violacoes em todas as simulacoes de Monte como np.sum(np.median(distribution_sums_backlog) > 0),Backlog violations, para count_backlog_violations_j adds if is greater than 0\n",
    "                    - It did not worked, results are similar\n",
    "                - Test Count the number of month violations per simulation count_backlog_violations_j += np.sum(backlog_j>0), instead of counting 1 in case any violation happen.\n",
    "                    - It did not worked, backlog even increased\n",
    "                - Test Count a violation if median of a backlog_j>0: if np.median(backlog_j)>0: count_backlog_violations_j += 1\n",
    "    - 'Min total backlog [kg]',\n",
    "        - High values\n",
    "    - 'P(total backlog ≤ 0 kg)', \n",
    "        - Perhaps the problem is given the inversion that I make\n",
    "    - OK 'Max total inventory deficit [kg]', \n",
    "    - OK 'Mean total inventory deficit [kg]', \n",
    "    - OK 'std dev inventory deficit [kg]', \n",
    "    - OK 'Median total inventory deficit [kg]', \n",
    "    - OK 'Min total inventory deficit [kg]', \n",
    "    - 'Total Deficit [kg]', \n",
    "    - 'Batches [un]', \n",
    "    - 'Product label', \n",
    "    - 'Start of USP [date]', \n",
    "    - 'End of DSP [date]']"
   ],
   "cell_type": "markdown",
   "metadata": {}
  },
  {
   "cell_type": "code",
   "execution_count": 19,
   "metadata": {},
   "outputs": [
    {
     "output_type": "execute_result",
     "data": {
      "text/plain": [
       "   Unnamed: 0                 Batches         Products                   Objectives\n",
       "0           0  [27 20 34  2  9  2  9]  [3 2 0 1 3 2 1]    [479.4       534.8936909]\n",
       "1           1  [27 20 35  3  6  2 15]  [3 2 0 1 3 2 3]  [498.9        546.97499006]\n",
       "2           2  [27 20 35  3  6  2 14]  [3 2 0 1 3 2 3]  [493.4        544.73476978]\n",
       "3           3     [27 21 34  4  6 19]    [3 2 0 1 3 2]    [507.7       566.5046132]\n",
       "4           4  [27 19 34  2  9  3 10]  [3 2 0 1 3 2 1]  [485.6        536.10342533]\n",
       "5           5        [21 42 15 29  9]      [3 0 2 3 1]  [534.5        675.76788817]\n",
       "6           6     [22 42 15 27  3  3]    [3 0 2 3 1 3]  [508.3        664.18020446]\n",
       "7           7        [22 42 15 27  8]      [3 0 2 3 1]  [522.8        666.27026063]\n",
       "8           8     [22 42 15 27  5  2]    [3 0 2 3 1 0]    [510.4       665.5692583]"
      ],
      "text/html": "<div>\n<style scoped>\n    .dataframe tbody tr th:only-of-type {\n        vertical-align: middle;\n    }\n\n    .dataframe tbody tr th {\n        vertical-align: top;\n    }\n\n    .dataframe thead th {\n        text-align: right;\n    }\n</style>\n<table border=\"1\" class=\"dataframe\">\n  <thead>\n    <tr style=\"text-align: right;\">\n      <th></th>\n      <th>Unnamed: 0</th>\n      <th>Batches</th>\n      <th>Products</th>\n      <th>Objectives</th>\n    </tr>\n  </thead>\n  <tbody>\n    <tr>\n      <th>0</th>\n      <td>0</td>\n      <td>[27 20 34  2  9  2  9]</td>\n      <td>[3 2 0 1 3 2 1]</td>\n      <td>[479.4       534.8936909]</td>\n    </tr>\n    <tr>\n      <th>1</th>\n      <td>1</td>\n      <td>[27 20 35  3  6  2 15]</td>\n      <td>[3 2 0 1 3 2 3]</td>\n      <td>[498.9        546.97499006]</td>\n    </tr>\n    <tr>\n      <th>2</th>\n      <td>2</td>\n      <td>[27 20 35  3  6  2 14]</td>\n      <td>[3 2 0 1 3 2 3]</td>\n      <td>[493.4        544.73476978]</td>\n    </tr>\n    <tr>\n      <th>3</th>\n      <td>3</td>\n      <td>[27 21 34  4  6 19]</td>\n      <td>[3 2 0 1 3 2]</td>\n      <td>[507.7       566.5046132]</td>\n    </tr>\n    <tr>\n      <th>4</th>\n      <td>4</td>\n      <td>[27 19 34  2  9  3 10]</td>\n      <td>[3 2 0 1 3 2 1]</td>\n      <td>[485.6        536.10342533]</td>\n    </tr>\n    <tr>\n      <th>5</th>\n      <td>5</td>\n      <td>[21 42 15 29  9]</td>\n      <td>[3 0 2 3 1]</td>\n      <td>[534.5        675.76788817]</td>\n    </tr>\n    <tr>\n      <th>6</th>\n      <td>6</td>\n      <td>[22 42 15 27  3  3]</td>\n      <td>[3 0 2 3 1 3]</td>\n      <td>[508.3        664.18020446]</td>\n    </tr>\n    <tr>\n      <th>7</th>\n      <td>7</td>\n      <td>[22 42 15 27  8]</td>\n      <td>[3 0 2 3 1]</td>\n      <td>[522.8        666.27026063]</td>\n    </tr>\n    <tr>\n      <th>8</th>\n      <td>8</td>\n      <td>[22 42 15 27  5  2]</td>\n      <td>[3 0 2 3 1 0]</td>\n      <td>[510.4       665.5692583]</td>\n    </tr>\n  </tbody>\n</table>\n</div>"
     },
     "metadata": {},
     "execution_count": 19
    }
   ],
   "source": [
    "results=pd.read_csv(root_path_analysis+name+\"solutions.csv\")# Import from csv\n",
    "results"
   ]
  },
  {
   "source": [
    "- Interestingly I do have smaller batches "
   ],
   "cell_type": "markdown",
   "metadata": {}
  },
  {
   "source": [
    "### 17/1 16h\n",
    "- 17/1 16\n",
    "    - For each MC simulation the backlog and\n",
    "        - Monte Carlo simulations=100\n",
    "        - 2 Executions, with 1000 generations\n",
    "        - No solution without violations, passing all in front 0\n",
    "        - \n",
    "            - Forma de Calculo do backlog\n",
    "                - Test Count a violation if median of a backlog_j>0: if np.median(backlog_j)>0: count_backlog_violations_j += 1\n"
   ],
   "cell_type": "markdown",
   "metadata": {}
  },
  {
   "cell_type": "code",
   "execution_count": 20,
   "metadata": {},
   "outputs": [
    {
     "output_type": "execute_result",
     "data": {
      "text/plain": [
       "   Unnamed: 0 Execution                                                                                       Variation Solution  Total throughput [kg]  Max total backlog [kg]  Mean total backlog [kg]  std dev total backlog [kg]  Median total backlog [kg]  Min total backlog [kg]  P(total backlog ≤ 0 kg)  Max total inventory deficit [kg]  Mean total inventory deficit [kg]  std dev inventory deficit [kg]  Median total inventory deficit [kg]  Min total inventory deficit [kg]  Total Deficit [kg]                      Batches [un]              Product label                                                                Start of USP [date]                                                                  End of DSP [date]\n",
       "0           0   Article                                                                                         Article        X                  539.3                8.200000                 0.200000                    0.600000                   0.000000                0.000000                 0.820000                        683.400000                         432.600000                       58.600000                           424.400000                        259.400000                 NaN  [15 10 29 3 15 11 15 6 2 2 2 10]  [3 2 0 1 3 2 1 3 2 1 2 3]                                                                                NaN                                                                                NaN\n",
       "1           1   Article                                                                                         Article        Y                  601.5               16.000000                 7.100000                    4.300000                   0.000000                0.000000                 0.500000                        786.000000                         558.600000                       59.000000                           551.700000                        355.600000                 NaN           [12 13 24 18 5 19 9 30]          [3 2 0 3 1 0 2 3]                                                                                NaN                                                                                NaN\n",
       "2           0         0  front_nsga,tour_vio,rein_vio,vio_back,calc_montecarlo,100,1000,2,0.11,(0.04, 0.61, 0.77, 0.47)        X                  534.2               63.086262                56.382315                    3.116220                  55.912935               49.518924              5638.231476                        582.027620                         499.819980                       22.575882                           494.019625                        461.073588          494.019625               [30 14 34  7  2 27]              [3 2 0 2 1 3]  ['2016-12-01' '2017-08-24' '2018-01-14' '2018-10-24' '2019-01-26'\\n '2019-03-25']  ['2017-08-24' '2018-01-14' '2018-10-24' '2019-01-26' '2019-03-25'\\n '2019-11-25']\n",
       "3           1         0  front_nsga,tour_vio,rein_vio,vio_back,calc_montecarlo,100,1000,2,0.11,(0.04, 0.61, 0.77, 0.47)        Y                  664.4              173.771044               160.705977                    5.007383                 160.534350              146.672914             16070.597745                        966.260214                         949.538127                        7.570990                           948.863999                        931.360015          948.863999                     [31 27 31 39]                  [3 2 3 2]                              ['2016-12-01' '2017-08-31' '2018-04-22' '2019-01-13']                              ['2017-08-31' '2018-04-22' '2019-01-13' '2019-11-27']"
      ],
      "text/html": "<div>\n<style scoped>\n    .dataframe tbody tr th:only-of-type {\n        vertical-align: middle;\n    }\n\n    .dataframe tbody tr th {\n        vertical-align: top;\n    }\n\n    .dataframe thead th {\n        text-align: right;\n    }\n</style>\n<table border=\"1\" class=\"dataframe\">\n  <thead>\n    <tr style=\"text-align: right;\">\n      <th></th>\n      <th>Unnamed: 0</th>\n      <th>Execution</th>\n      <th>Variation</th>\n      <th>Solution</th>\n      <th>Total throughput [kg]</th>\n      <th>Max total backlog [kg]</th>\n      <th>Mean total backlog [kg]</th>\n      <th>std dev total backlog [kg]</th>\n      <th>Median total backlog [kg]</th>\n      <th>Min total backlog [kg]</th>\n      <th>P(total backlog ≤ 0 kg)</th>\n      <th>Max total inventory deficit [kg]</th>\n      <th>Mean total inventory deficit [kg]</th>\n      <th>std dev inventory deficit [kg]</th>\n      <th>Median total inventory deficit [kg]</th>\n      <th>Min total inventory deficit [kg]</th>\n      <th>Total Deficit [kg]</th>\n      <th>Batches [un]</th>\n      <th>Product label</th>\n      <th>Start of USP [date]</th>\n      <th>End of DSP [date]</th>\n    </tr>\n  </thead>\n  <tbody>\n    <tr>\n      <th>0</th>\n      <td>0</td>\n      <td>Article</td>\n      <td>Article</td>\n      <td>X</td>\n      <td>539.3</td>\n      <td>8.200000</td>\n      <td>0.200000</td>\n      <td>0.600000</td>\n      <td>0.000000</td>\n      <td>0.000000</td>\n      <td>0.820000</td>\n      <td>683.400000</td>\n      <td>432.600000</td>\n      <td>58.600000</td>\n      <td>424.400000</td>\n      <td>259.400000</td>\n      <td>NaN</td>\n      <td>[15 10 29 3 15 11 15 6 2 2 2 10]</td>\n      <td>[3 2 0 1 3 2 1 3 2 1 2 3]</td>\n      <td>NaN</td>\n      <td>NaN</td>\n    </tr>\n    <tr>\n      <th>1</th>\n      <td>1</td>\n      <td>Article</td>\n      <td>Article</td>\n      <td>Y</td>\n      <td>601.5</td>\n      <td>16.000000</td>\n      <td>7.100000</td>\n      <td>4.300000</td>\n      <td>0.000000</td>\n      <td>0.000000</td>\n      <td>0.500000</td>\n      <td>786.000000</td>\n      <td>558.600000</td>\n      <td>59.000000</td>\n      <td>551.700000</td>\n      <td>355.600000</td>\n      <td>NaN</td>\n      <td>[12 13 24 18 5 19 9 30]</td>\n      <td>[3 2 0 3 1 0 2 3]</td>\n      <td>NaN</td>\n      <td>NaN</td>\n    </tr>\n    <tr>\n      <th>2</th>\n      <td>0</td>\n      <td>0</td>\n      <td>front_nsga,tour_vio,rein_vio,vio_back,calc_montecarlo,100,1000,2,0.11,(0.04, 0.61, 0.77, 0.47)</td>\n      <td>X</td>\n      <td>534.2</td>\n      <td>63.086262</td>\n      <td>56.382315</td>\n      <td>3.116220</td>\n      <td>55.912935</td>\n      <td>49.518924</td>\n      <td>5638.231476</td>\n      <td>582.027620</td>\n      <td>499.819980</td>\n      <td>22.575882</td>\n      <td>494.019625</td>\n      <td>461.073588</td>\n      <td>494.019625</td>\n      <td>[30 14 34  7  2 27]</td>\n      <td>[3 2 0 2 1 3]</td>\n      <td>['2016-12-01' '2017-08-24' '2018-01-14' '2018-10-24' '2019-01-26'\\n '2019-03-25']</td>\n      <td>['2017-08-24' '2018-01-14' '2018-10-24' '2019-01-26' '2019-03-25'\\n '2019-11-25']</td>\n    </tr>\n    <tr>\n      <th>3</th>\n      <td>1</td>\n      <td>0</td>\n      <td>front_nsga,tour_vio,rein_vio,vio_back,calc_montecarlo,100,1000,2,0.11,(0.04, 0.61, 0.77, 0.47)</td>\n      <td>Y</td>\n      <td>664.4</td>\n      <td>173.771044</td>\n      <td>160.705977</td>\n      <td>5.007383</td>\n      <td>160.534350</td>\n      <td>146.672914</td>\n      <td>16070.597745</td>\n      <td>966.260214</td>\n      <td>949.538127</td>\n      <td>7.570990</td>\n      <td>948.863999</td>\n      <td>931.360015</td>\n      <td>948.863999</td>\n      <td>[31 27 31 39]</td>\n      <td>[3 2 3 2]</td>\n      <td>['2016-12-01' '2017-08-31' '2018-04-22' '2019-01-13']</td>\n      <td>['2017-08-31' '2018-04-22' '2019-01-13' '2019-11-27']</td>\n    </tr>\n  </tbody>\n</table>\n</div>"
     },
     "metadata": {},
     "execution_count": 20
    }
   ],
   "source": [
    "name=\"17-116\"\n",
    "result=pd.read_csv(root_path_analysis+name+'.csv')# Import from csv\n",
    "result"
   ]
  },
  {
   "source": [
    "1. Attributes analysis\n",
    "    - OK 'Total throughput [kg]',\n",
    "    - 'Max total backlog [kg]', \n",
    "        - Potencialmente alto\n",
    "    - 'Mean total backlog [kg]', \n",
    "    - 'std dev total backlog [kg]', \n",
    "    - 'Median total backlog [kg]', \n",
    "        - Valores altos, preciso de uma estrategia para reduzir o backlog.\n",
    "            - Pode ser devido a minha reinversao de valores\n",
    "            - Different backlog calculus tests\n",
    "                - Test Contar cumulativamente as violacoes em todas as simulacoes de Monte como np.sum(np.median(distribution_sums_backlog) > 0),Backlog violations, para count_backlog_violations_j adds if is greater than 0\n",
    "                    - It did not worked, results are similar\n",
    "                - Test Count the number of month violations per simulation count_backlog_violations_j += np.sum(backlog_j>0), instead of counting 1 in case any violation happen.\n",
    "                    - It did not worked, backlog even increased\n",
    "                - Test Count a violation if median of a backlog_j>0: if np.median(backlog_j)>0: count_backlog_violations_j += 1\n",
    "                    - Fail, backlog keep high\n",
    "    - 'Min total backlog [kg]',\n",
    "        - High values\n",
    "    - 'P(total backlog ≤ 0 kg)', \n",
    "        - Perhaps the problem is given the inversion that I make\n",
    "    - OK 'Max total inventory deficit [kg]', \n",
    "    - OK 'Mean total inventory deficit [kg]', \n",
    "    - OK 'std dev inventory deficit [kg]', \n",
    "    - OK 'Median total inventory deficit [kg]', \n",
    "    - OK 'Min total inventory deficit [kg]', \n",
    "    - 'Total Deficit [kg]', \n",
    "    - 'Batches [un]', \n",
    "    - 'Product label', \n",
    "    - 'Start of USP [date]', \n",
    "    - 'End of DSP [date]']"
   ],
   "cell_type": "markdown",
   "metadata": {}
  },
  {
   "cell_type": "code",
   "execution_count": 21,
   "metadata": {},
   "outputs": [
    {
     "output_type": "execute_result",
     "data": {
      "text/plain": [
       "   Unnamed: 0              Batches       Products                   Objectives\n",
       "0           0        [31 38 28 31]      [3 2 0 3]  [614.         698.92332263]\n",
       "1           1        [30 31 24 31]      [3 2 1 3]  [636.2        870.32054784]\n",
       "2           2  [30 14 34  7  2 28]  [3 2 0 2 1 3]  [539.7        498.43372379]\n",
       "3           3        [30 35 32 31]      [3 0 2 3]  [600.8        652.59255213]\n",
       "4           4     [30 14 35 10 31]    [3 2 0 2 3]  [561.6        516.94422466]"
      ],
      "text/html": "<div>\n<style scoped>\n    .dataframe tbody tr th:only-of-type {\n        vertical-align: middle;\n    }\n\n    .dataframe tbody tr th {\n        vertical-align: top;\n    }\n\n    .dataframe thead th {\n        text-align: right;\n    }\n</style>\n<table border=\"1\" class=\"dataframe\">\n  <thead>\n    <tr style=\"text-align: right;\">\n      <th></th>\n      <th>Unnamed: 0</th>\n      <th>Batches</th>\n      <th>Products</th>\n      <th>Objectives</th>\n    </tr>\n  </thead>\n  <tbody>\n    <tr>\n      <th>0</th>\n      <td>0</td>\n      <td>[31 38 28 31]</td>\n      <td>[3 2 0 3]</td>\n      <td>[614.         698.92332263]</td>\n    </tr>\n    <tr>\n      <th>1</th>\n      <td>1</td>\n      <td>[30 31 24 31]</td>\n      <td>[3 2 1 3]</td>\n      <td>[636.2        870.32054784]</td>\n    </tr>\n    <tr>\n      <th>2</th>\n      <td>2</td>\n      <td>[30 14 34  7  2 28]</td>\n      <td>[3 2 0 2 1 3]</td>\n      <td>[539.7        498.43372379]</td>\n    </tr>\n    <tr>\n      <th>3</th>\n      <td>3</td>\n      <td>[30 35 32 31]</td>\n      <td>[3 0 2 3]</td>\n      <td>[600.8        652.59255213]</td>\n    </tr>\n    <tr>\n      <th>4</th>\n      <td>4</td>\n      <td>[30 14 35 10 31]</td>\n      <td>[3 2 0 2 3]</td>\n      <td>[561.6        516.94422466]</td>\n    </tr>\n  </tbody>\n</table>\n</div>"
     },
     "metadata": {},
     "execution_count": 21
    }
   ],
   "source": [
    "results=pd.read_csv(root_path_analysis+name+\"solutions.csv\")# Import from csv\n",
    "results.head(5)"
   ]
  },
  {
   "source": [
    "### 17/1 1h\n",
    "- 17/1 1\n",
    "    - For each MC simulation the backlog and\n",
    "        - Monte Carlo simulations=500\n",
    "        - 2 Executions, with 1000 generations\n",
    "        - No solution without violations, passing all in front 0\n",
    "            - Forma de Calculo do backlog (Same as last one, but different Monte Carlo Simulations)\n",
    "                - Test Count a violation if median of a backlog_j>0: if np.median(backlog_j)>0: count_backlog_violations_j += 1\n"
   ],
   "cell_type": "markdown",
   "metadata": {}
  },
  {
   "cell_type": "code",
   "execution_count": 22,
   "metadata": {},
   "outputs": [
    {
     "output_type": "execute_result",
     "data": {
      "text/plain": [
       "   Unnamed: 0 Execution                                                                                       Variation Solution  Total throughput [kg]  Max total backlog [kg]  Mean total backlog [kg]  std dev total backlog [kg]  Median total backlog [kg]  Min total backlog [kg]  P(total backlog ≤ 0 kg)  Max total inventory deficit [kg]  Mean total inventory deficit [kg]  std dev inventory deficit [kg]  Median total inventory deficit [kg]  Min total inventory deficit [kg]  Total Deficit [kg]                      Batches [un]              Product label                                                                                          Start of USP [date]                                                                                            End of DSP [date]\n",
       "0           0   Article                                                                                         Article        X                  539.3                8.200000                 0.200000                    0.600000                   0.000000                0.000000                 0.820000                        683.400000                         432.600000                       58.600000                           424.400000                        259.400000                 NaN  [15 10 29 3 15 11 15 6 2 2 2 10]  [3 2 0 1 3 2 1 3 2 1 2 3]                                                                                                          NaN                                                                                                          NaN\n",
       "1           1   Article                                                                                         Article        Y                  601.5               16.000000                 7.100000                    4.300000                   0.000000                0.000000                 0.500000                        786.000000                         558.600000                       59.000000                           551.700000                        355.600000                 NaN           [12 13 24 18 5 19 9 30]          [3 2 0 3 1 0 2 3]                                                                                                          NaN                                                                                                          NaN\n",
       "2           0         0  front_nsga,tour_vio,rein_vio,vio_back,calc_montecarlo,100,1000,2,0.11,(0.04, 0.61, 0.77, 0.47)        X                  454.3               67.591227                53.289372                    3.806753                  53.079218               44.203325             26644.685787                        604.644893                         511.996967                       25.439492                           508.703268                        454.707623          508.703268         [24 20 31 12  3  4  3  3]          [3 2 0 3 1 0 3 2]  ['2016-12-01' '2017-07-13' '2018-01-14' '2018-10-03' '2019-02-13'\\n '2019-04-23' '2019-07-05' '2019-09-13']  ['2017-07-13' '2018-01-14' '2018-10-03' '2019-02-13' '2019-04-23'\\n '2019-07-05' '2019-09-13' '2019-11-25']\n",
       "3           1         0  front_nsga,tour_vio,rein_vio,vio_back,calc_montecarlo,100,1000,2,0.11,(0.04, 0.61, 0.77, 0.47)        Y                  663.8              175.124476               160.913481                    4.895376                 160.878488              149.760069             80456.740412                        967.453229                         945.312277                        7.544753                           945.434233                        922.011926          945.434233                     [30 43 31 24]                  [3 2 3 2]                                                        ['2016-12-01' '2017-08-24' '2018-08-05' '2019-04-28']                                                        ['2017-08-24' '2018-08-05' '2019-04-28' '2019-11-27']"
      ],
      "text/html": "<div>\n<style scoped>\n    .dataframe tbody tr th:only-of-type {\n        vertical-align: middle;\n    }\n\n    .dataframe tbody tr th {\n        vertical-align: top;\n    }\n\n    .dataframe thead th {\n        text-align: right;\n    }\n</style>\n<table border=\"1\" class=\"dataframe\">\n  <thead>\n    <tr style=\"text-align: right;\">\n      <th></th>\n      <th>Unnamed: 0</th>\n      <th>Execution</th>\n      <th>Variation</th>\n      <th>Solution</th>\n      <th>Total throughput [kg]</th>\n      <th>Max total backlog [kg]</th>\n      <th>Mean total backlog [kg]</th>\n      <th>std dev total backlog [kg]</th>\n      <th>Median total backlog [kg]</th>\n      <th>Min total backlog [kg]</th>\n      <th>P(total backlog ≤ 0 kg)</th>\n      <th>Max total inventory deficit [kg]</th>\n      <th>Mean total inventory deficit [kg]</th>\n      <th>std dev inventory deficit [kg]</th>\n      <th>Median total inventory deficit [kg]</th>\n      <th>Min total inventory deficit [kg]</th>\n      <th>Total Deficit [kg]</th>\n      <th>Batches [un]</th>\n      <th>Product label</th>\n      <th>Start of USP [date]</th>\n      <th>End of DSP [date]</th>\n    </tr>\n  </thead>\n  <tbody>\n    <tr>\n      <th>0</th>\n      <td>0</td>\n      <td>Article</td>\n      <td>Article</td>\n      <td>X</td>\n      <td>539.3</td>\n      <td>8.200000</td>\n      <td>0.200000</td>\n      <td>0.600000</td>\n      <td>0.000000</td>\n      <td>0.000000</td>\n      <td>0.820000</td>\n      <td>683.400000</td>\n      <td>432.600000</td>\n      <td>58.600000</td>\n      <td>424.400000</td>\n      <td>259.400000</td>\n      <td>NaN</td>\n      <td>[15 10 29 3 15 11 15 6 2 2 2 10]</td>\n      <td>[3 2 0 1 3 2 1 3 2 1 2 3]</td>\n      <td>NaN</td>\n      <td>NaN</td>\n    </tr>\n    <tr>\n      <th>1</th>\n      <td>1</td>\n      <td>Article</td>\n      <td>Article</td>\n      <td>Y</td>\n      <td>601.5</td>\n      <td>16.000000</td>\n      <td>7.100000</td>\n      <td>4.300000</td>\n      <td>0.000000</td>\n      <td>0.000000</td>\n      <td>0.500000</td>\n      <td>786.000000</td>\n      <td>558.600000</td>\n      <td>59.000000</td>\n      <td>551.700000</td>\n      <td>355.600000</td>\n      <td>NaN</td>\n      <td>[12 13 24 18 5 19 9 30]</td>\n      <td>[3 2 0 3 1 0 2 3]</td>\n      <td>NaN</td>\n      <td>NaN</td>\n    </tr>\n    <tr>\n      <th>2</th>\n      <td>0</td>\n      <td>0</td>\n      <td>front_nsga,tour_vio,rein_vio,vio_back,calc_montecarlo,100,1000,2,0.11,(0.04, 0.61, 0.77, 0.47)</td>\n      <td>X</td>\n      <td>454.3</td>\n      <td>67.591227</td>\n      <td>53.289372</td>\n      <td>3.806753</td>\n      <td>53.079218</td>\n      <td>44.203325</td>\n      <td>26644.685787</td>\n      <td>604.644893</td>\n      <td>511.996967</td>\n      <td>25.439492</td>\n      <td>508.703268</td>\n      <td>454.707623</td>\n      <td>508.703268</td>\n      <td>[24 20 31 12  3  4  3  3]</td>\n      <td>[3 2 0 3 1 0 3 2]</td>\n      <td>['2016-12-01' '2017-07-13' '2018-01-14' '2018-10-03' '2019-02-13'\\n '2019-04-23' '2019-07-05' '2019-09-13']</td>\n      <td>['2017-07-13' '2018-01-14' '2018-10-03' '2019-02-13' '2019-04-23'\\n '2019-07-05' '2019-09-13' '2019-11-25']</td>\n    </tr>\n    <tr>\n      <th>3</th>\n      <td>1</td>\n      <td>0</td>\n      <td>front_nsga,tour_vio,rein_vio,vio_back,calc_montecarlo,100,1000,2,0.11,(0.04, 0.61, 0.77, 0.47)</td>\n      <td>Y</td>\n      <td>663.8</td>\n      <td>175.124476</td>\n      <td>160.913481</td>\n      <td>4.895376</td>\n      <td>160.878488</td>\n      <td>149.760069</td>\n      <td>80456.740412</td>\n      <td>967.453229</td>\n      <td>945.312277</td>\n      <td>7.544753</td>\n      <td>945.434233</td>\n      <td>922.011926</td>\n      <td>945.434233</td>\n      <td>[30 43 31 24]</td>\n      <td>[3 2 3 2]</td>\n      <td>['2016-12-01' '2017-08-24' '2018-08-05' '2019-04-28']</td>\n      <td>['2017-08-24' '2018-08-05' '2019-04-28' '2019-11-27']</td>\n    </tr>\n  </tbody>\n</table>\n</div>"
     },
     "metadata": {},
     "execution_count": 22
    }
   ],
   "source": [
    "name=\"17-119\"\n",
    "result=pd.read_csv(root_path_analysis+name+'.csv')# Import from csv\n",
    "result"
   ]
  },
  {
   "source": [
    "1. Attributes analysis\n",
    "    - OK 'Total throughput [kg]',\n",
    "    - 'Max total backlog [kg]', \n",
    "        - Potencialmente alto\n",
    "    - 'Mean total backlog [kg]', \n",
    "    - 'std dev total backlog [kg]', \n",
    "    - 'Median total backlog [kg]', \n",
    "        - Valores altos, preciso de uma estrategia para reduzir o backlog.\n",
    "            - Pode ser devido a minha reinversao de valores\n",
    "            - Different backlog calculus tests\n",
    "                - Test Contar cumulativamente as violacoes em todas as simulacoes de Monte como np.sum(np.median(distribution_sums_backlog) > 0),Backlog violations, para count_backlog_violations_j adds if is greater than 0\n",
    "                    - It did not worked, results are similar\n",
    "                - Test Count the number of month violations per simulation count_backlog_violations_j += np.sum(backlog_j>0), instead of counting 1 in case any violation happen.\n",
    "                    - It did not worked, backlog even increased\n",
    "                - Test Count a violation if median of a backlog_j>0: if np.median(backlog_j)>0: count_backlog_violations_j += 1\n",
    "                    - Fail, backlog keep high\n",
    "                - Test  Count a violation if median of a backlog_j>0: if np.median(backlog_j)>0: count_backlog_violations_j += 1 but higher number of Monte Carlo\n",
    "                    - Did not worked backlog reached values much higher\n",
    "                - Test Instead of count use the actual median of the sum of backlogs\n",
    "    - 'Min total backlog [kg]',\n",
    "        - High values\n",
    "    - 'P(total backlog ≤ 0 kg)', \n",
    "        - Perhaps the problem is given the inversion that I make\n",
    "    - OK 'Max total inventory deficit [kg]', \n",
    "    - OK 'Mean total inventory deficit [kg]', \n",
    "    - OK 'std dev inventory deficit [kg]', \n",
    "    - OK 'Median total inventory deficit [kg]', \n",
    "    - OK 'Min total inventory deficit [kg]', \n",
    "    - 'Total Deficit [kg]', \n",
    "    - 'Batches [un]', \n",
    "    - 'Product label', \n",
    "    - 'Start of USP [date]', \n",
    "    - 'End of DSP [date]']"
   ],
   "cell_type": "markdown",
   "metadata": {}
  },
  {
   "cell_type": "code",
   "execution_count": 23,
   "metadata": {},
   "outputs": [
    {
     "output_type": "execute_result",
     "data": {
      "text/plain": [
       "   Unnamed: 0           Batches     Products                   Objectives\n",
       "0           0     [26 25 30 46]    [3 2 3 2]  [655.9        929.44543501]\n",
       "1           1  [30 20 35  3 31]  [3 2 0 1 3]  [560.6        543.50098449]\n",
       "2           2     [29 22 31 46]    [3 2 3 2]  [663.2        940.55870599]\n",
       "3           3     [31 39 18 31]    [3 2 1 3]  [643.7        872.31489056]\n",
       "4           4     [31 15 34 49]    [3 2 0 2]  [589.5        558.63485263]"
      ],
      "text/html": "<div>\n<style scoped>\n    .dataframe tbody tr th:only-of-type {\n        vertical-align: middle;\n    }\n\n    .dataframe tbody tr th {\n        vertical-align: top;\n    }\n\n    .dataframe thead th {\n        text-align: right;\n    }\n</style>\n<table border=\"1\" class=\"dataframe\">\n  <thead>\n    <tr style=\"text-align: right;\">\n      <th></th>\n      <th>Unnamed: 0</th>\n      <th>Batches</th>\n      <th>Products</th>\n      <th>Objectives</th>\n    </tr>\n  </thead>\n  <tbody>\n    <tr>\n      <th>0</th>\n      <td>0</td>\n      <td>[26 25 30 46]</td>\n      <td>[3 2 3 2]</td>\n      <td>[655.9        929.44543501]</td>\n    </tr>\n    <tr>\n      <th>1</th>\n      <td>1</td>\n      <td>[30 20 35  3 31]</td>\n      <td>[3 2 0 1 3]</td>\n      <td>[560.6        543.50098449]</td>\n    </tr>\n    <tr>\n      <th>2</th>\n      <td>2</td>\n      <td>[29 22 31 46]</td>\n      <td>[3 2 3 2]</td>\n      <td>[663.2        940.55870599]</td>\n    </tr>\n    <tr>\n      <th>3</th>\n      <td>3</td>\n      <td>[31 39 18 31]</td>\n      <td>[3 2 1 3]</td>\n      <td>[643.7        872.31489056]</td>\n    </tr>\n    <tr>\n      <th>4</th>\n      <td>4</td>\n      <td>[31 15 34 49]</td>\n      <td>[3 2 0 2]</td>\n      <td>[589.5        558.63485263]</td>\n    </tr>\n  </tbody>\n</table>\n</div>"
     },
     "metadata": {},
     "execution_count": 23
    }
   ],
   "source": [
    "results=pd.read_csv(root_path_analysis+name+\"solutions.csv\")# Import from csv\n",
    "results.head()"
   ]
  },
  {
   "source": [
    "### 17/1 1h\n",
    "- 18/1 8\n",
    "    - For each MC simulation the backlog and\n",
    "        - Monte Carlo simulations=1000\n",
    "        - 6 Executions, with 1000 generations\n",
    "        - No solution without violations, passing all in front 0\n",
    "            - UseMeadian as violation\n",
    "                - Total time  23069.192419299998 Per execution 3844.8654032166664"
   ],
   "cell_type": "markdown",
   "metadata": {}
  },
  {
   "cell_type": "code",
   "execution_count": 24,
   "metadata": {},
   "outputs": [
    {
     "output_type": "execute_result",
     "data": {
      "text/plain": [
       "   Unnamed: 0 Execution                                                                                       Variation Solution  Total throughput [kg]  Max total backlog [kg]  Mean total backlog [kg]  std dev total backlog [kg]  Median total backlog [kg]  Min total backlog [kg]  P(total backlog ≤ 0 kg)  Max total inventory deficit [kg]  Mean total inventory deficit [kg]  std dev inventory deficit [kg]  Median total inventory deficit [kg]  Min total inventory deficit [kg]  Total Deficit [kg]                      Batches [un]              Product label                                                                Start of USP [date]                                                                  End of DSP [date]\n",
       "0           0   Article                                                                                         Article        X                  539.3                8.200000                 0.200000                    0.600000                   0.000000                0.000000                 0.820000                        683.400000                         432.600000                       58.600000                           424.400000                        259.400000                 NaN  [15 10 29 3 15 11 15 6 2 2 2 10]  [3 2 0 1 3 2 1 3 2 1 2 3]                                                                                NaN                                                                                NaN\n",
       "1           1   Article                                                                                         Article        Y                  601.5               16.000000                 7.100000                    4.300000                   0.000000                0.000000                 0.500000                        786.000000                         558.600000                       59.000000                           551.700000                        355.600000                 NaN           [12 13 24 18 5 19 9 30]          [3 2 0 3 1 0 2 3]                                                                                NaN                                                                                NaN\n",
       "2           0         0  front_nsga,tour_vio,rein_vio,vio_back,calc_montecarlo,100,1000,2,0.11,(0.04, 0.61, 0.77, 0.47)        X                  511.5               61.824706                48.108472                    3.228153                  47.901164               37.409326             48108.471968                        679.473248                         565.562458                       27.288181                           561.125962                        497.369182          561.125962               [30 33 16  3 12 20]              [3 0 2 1 0 3]  ['2016-12-01' '2017-08-24' '2018-05-27' '2018-10-31' '2019-01-08'\\n '2019-05-17']  ['2017-08-24' '2018-05-27' '2018-10-31' '2019-01-08' '2019-05-17'\\n '2019-11-29']\n",
       "3           1         0  front_nsga,tour_vio,rein_vio,vio_back,calc_montecarlo,100,1000,2,0.11,(0.04, 0.61, 0.77, 0.47)        Y                  524.2               61.349786                48.004156                    3.038205                  47.848716               39.519227             48004.155650                        705.272415                         576.938619                       29.155788                           573.524686                        509.244144          573.524686               [31 29 16  3 13 23]              [3 0 2 1 0 3]  ['2016-12-01' '2017-08-31' '2018-05-06' '2018-10-10' '2018-12-18'\\n '2019-05-03']  ['2017-08-31' '2018-05-06' '2018-10-10' '2018-12-18' '2019-05-03'\\n '2019-11-29']"
      ],
      "text/html": "<div>\n<style scoped>\n    .dataframe tbody tr th:only-of-type {\n        vertical-align: middle;\n    }\n\n    .dataframe tbody tr th {\n        vertical-align: top;\n    }\n\n    .dataframe thead th {\n        text-align: right;\n    }\n</style>\n<table border=\"1\" class=\"dataframe\">\n  <thead>\n    <tr style=\"text-align: right;\">\n      <th></th>\n      <th>Unnamed: 0</th>\n      <th>Execution</th>\n      <th>Variation</th>\n      <th>Solution</th>\n      <th>Total throughput [kg]</th>\n      <th>Max total backlog [kg]</th>\n      <th>Mean total backlog [kg]</th>\n      <th>std dev total backlog [kg]</th>\n      <th>Median total backlog [kg]</th>\n      <th>Min total backlog [kg]</th>\n      <th>P(total backlog ≤ 0 kg)</th>\n      <th>Max total inventory deficit [kg]</th>\n      <th>Mean total inventory deficit [kg]</th>\n      <th>std dev inventory deficit [kg]</th>\n      <th>Median total inventory deficit [kg]</th>\n      <th>Min total inventory deficit [kg]</th>\n      <th>Total Deficit [kg]</th>\n      <th>Batches [un]</th>\n      <th>Product label</th>\n      <th>Start of USP [date]</th>\n      <th>End of DSP [date]</th>\n    </tr>\n  </thead>\n  <tbody>\n    <tr>\n      <th>0</th>\n      <td>0</td>\n      <td>Article</td>\n      <td>Article</td>\n      <td>X</td>\n      <td>539.3</td>\n      <td>8.200000</td>\n      <td>0.200000</td>\n      <td>0.600000</td>\n      <td>0.000000</td>\n      <td>0.000000</td>\n      <td>0.820000</td>\n      <td>683.400000</td>\n      <td>432.600000</td>\n      <td>58.600000</td>\n      <td>424.400000</td>\n      <td>259.400000</td>\n      <td>NaN</td>\n      <td>[15 10 29 3 15 11 15 6 2 2 2 10]</td>\n      <td>[3 2 0 1 3 2 1 3 2 1 2 3]</td>\n      <td>NaN</td>\n      <td>NaN</td>\n    </tr>\n    <tr>\n      <th>1</th>\n      <td>1</td>\n      <td>Article</td>\n      <td>Article</td>\n      <td>Y</td>\n      <td>601.5</td>\n      <td>16.000000</td>\n      <td>7.100000</td>\n      <td>4.300000</td>\n      <td>0.000000</td>\n      <td>0.000000</td>\n      <td>0.500000</td>\n      <td>786.000000</td>\n      <td>558.600000</td>\n      <td>59.000000</td>\n      <td>551.700000</td>\n      <td>355.600000</td>\n      <td>NaN</td>\n      <td>[12 13 24 18 5 19 9 30]</td>\n      <td>[3 2 0 3 1 0 2 3]</td>\n      <td>NaN</td>\n      <td>NaN</td>\n    </tr>\n    <tr>\n      <th>2</th>\n      <td>0</td>\n      <td>0</td>\n      <td>front_nsga,tour_vio,rein_vio,vio_back,calc_montecarlo,100,1000,2,0.11,(0.04, 0.61, 0.77, 0.47)</td>\n      <td>X</td>\n      <td>511.5</td>\n      <td>61.824706</td>\n      <td>48.108472</td>\n      <td>3.228153</td>\n      <td>47.901164</td>\n      <td>37.409326</td>\n      <td>48108.471968</td>\n      <td>679.473248</td>\n      <td>565.562458</td>\n      <td>27.288181</td>\n      <td>561.125962</td>\n      <td>497.369182</td>\n      <td>561.125962</td>\n      <td>[30 33 16  3 12 20]</td>\n      <td>[3 0 2 1 0 3]</td>\n      <td>['2016-12-01' '2017-08-24' '2018-05-27' '2018-10-31' '2019-01-08'\\n '2019-05-17']</td>\n      <td>['2017-08-24' '2018-05-27' '2018-10-31' '2019-01-08' '2019-05-17'\\n '2019-11-29']</td>\n    </tr>\n    <tr>\n      <th>3</th>\n      <td>1</td>\n      <td>0</td>\n      <td>front_nsga,tour_vio,rein_vio,vio_back,calc_montecarlo,100,1000,2,0.11,(0.04, 0.61, 0.77, 0.47)</td>\n      <td>Y</td>\n      <td>524.2</td>\n      <td>61.349786</td>\n      <td>48.004156</td>\n      <td>3.038205</td>\n      <td>47.848716</td>\n      <td>39.519227</td>\n      <td>48004.155650</td>\n      <td>705.272415</td>\n      <td>576.938619</td>\n      <td>29.155788</td>\n      <td>573.524686</td>\n      <td>509.244144</td>\n      <td>573.524686</td>\n      <td>[31 29 16  3 13 23]</td>\n      <td>[3 0 2 1 0 3]</td>\n      <td>['2016-12-01' '2017-08-31' '2018-05-06' '2018-10-10' '2018-12-18'\\n '2019-05-03']</td>\n      <td>['2017-08-31' '2018-05-06' '2018-10-10' '2018-12-18' '2019-05-03'\\n '2019-11-29']</td>\n    </tr>\n  </tbody>\n</table>\n</div>"
     },
     "metadata": {},
     "execution_count": 24
    }
   ],
   "source": [
    "name=\"18-18\"\n",
    "result=pd.read_csv(root_path_analysis+name+'.csv')# Import from csv\n",
    "result"
   ]
  },
  {
   "source": [
    "1. Attributes analysis\n",
    "    - OK 'Total throughput [kg]',\n",
    "    - 'Max total backlog [kg]', \n",
    "        - Potencialmente alto\n",
    "    - 'Mean total backlog [kg]', \n",
    "    - 'std dev total backlog [kg]', \n",
    "    - 'Median total backlog [kg]', \n",
    "        - Valores altos, preciso de uma estrategia para reduzir o backlog.\n",
    "            - Pode ser devido a minha reinversao de valores\n",
    "            - Different backlog calculus tests\n",
    "                - Test Contar cumulativamente as violacoes em todas as simulacoes de Monte como np.sum(np.median(distribution_sums_backlog) > 0),Backlog violations, para count_backlog_violations_j adds if is greater than 0\n",
    "                    - It did not worked, results are similar\n",
    "                - Test Count the number of month violations per simulation count_backlog_violations_j += np.sum(backlog_j>0), instead of counting 1 in case any violation happen.\n",
    "                    - It did not worked, backlog even increased\n",
    "                - Test Count a violation if median of a backlog_j>0: if np.median(backlog_j)>0: count_backlog_violations_j += 1\n",
    "                    - Fail, backlog keep high\n",
    "                - Test  Count a violation if median of a backlog_j>0: if np.median(backlog_j)>0: count_backlog_violations_j += 1 but higher number of Monte Carlo\n",
    "                    - Did not worked backlog reached values much higher\n",
    "                - Test Instead of count use the actual median of the sum of backlogs\n",
    "                    - Did not work, perhaps the problem is in my consolidation of population and not actually in the calculation.\n",
    "    - 'Min total backlog [kg]',\n",
    "        - High values\n",
    "    - 'P(total backlog ≤ 0 kg)', \n",
    "        - Perhaps the problem is given the inversion that I make\n",
    "    - OK 'Max total inventory deficit [kg]', \n",
    "    - OK 'Mean total inventory deficit [kg]', \n",
    "    - OK 'std dev inventory deficit [kg]', \n",
    "    - OK 'Median total inventory deficit [kg]', \n",
    "    - OK 'Min total inventory deficit [kg]', \n",
    "    - 'Total Deficit [kg]', \n",
    "    - 'Batches [un]', \n",
    "    - 'Product label', \n",
    "    - 'Start of USP [date]', \n",
    "    - 'End of DSP [date]']"
   ],
   "cell_type": "markdown",
   "metadata": {}
  },
  {
   "cell_type": "code",
   "execution_count": 25,
   "metadata": {},
   "outputs": [
    {
     "output_type": "execute_result",
     "data": {
      "text/plain": [
       "   Unnamed: 0              Batches       Products                   Objectives\n",
       "0           0  [31 32 16  3 12 20]  [3 0 2 1 0 3]  [513.9        561.67658134]\n",
       "1           1  [31 29 16  3 13 23]  [3 0 2 1 0 3]  [524.2        573.52468595]\n",
       "2           2  [31 32 16  3 12 21]  [3 0 2 1 0 3]  [519.4        565.36045131]\n",
       "3           3  [30 33 16  3 12 20]  [3 0 2 1 0 3]  [511.5        561.12596216]"
      ],
      "text/html": "<div>\n<style scoped>\n    .dataframe tbody tr th:only-of-type {\n        vertical-align: middle;\n    }\n\n    .dataframe tbody tr th {\n        vertical-align: top;\n    }\n\n    .dataframe thead th {\n        text-align: right;\n    }\n</style>\n<table border=\"1\" class=\"dataframe\">\n  <thead>\n    <tr style=\"text-align: right;\">\n      <th></th>\n      <th>Unnamed: 0</th>\n      <th>Batches</th>\n      <th>Products</th>\n      <th>Objectives</th>\n    </tr>\n  </thead>\n  <tbody>\n    <tr>\n      <th>0</th>\n      <td>0</td>\n      <td>[31 32 16  3 12 20]</td>\n      <td>[3 0 2 1 0 3]</td>\n      <td>[513.9        561.67658134]</td>\n    </tr>\n    <tr>\n      <th>1</th>\n      <td>1</td>\n      <td>[31 29 16  3 13 23]</td>\n      <td>[3 0 2 1 0 3]</td>\n      <td>[524.2        573.52468595]</td>\n    </tr>\n    <tr>\n      <th>2</th>\n      <td>2</td>\n      <td>[31 32 16  3 12 21]</td>\n      <td>[3 0 2 1 0 3]</td>\n      <td>[519.4        565.36045131]</td>\n    </tr>\n    <tr>\n      <th>3</th>\n      <td>3</td>\n      <td>[30 33 16  3 12 20]</td>\n      <td>[3 0 2 1 0 3]</td>\n      <td>[511.5        561.12596216]</td>\n    </tr>\n  </tbody>\n</table>\n</div>"
     },
     "metadata": {},
     "execution_count": 25
    }
   ],
   "source": [
    "results=pd.read_csv(root_path_analysis+name+\"solutions.csv\")# Import from csv\n",
    "results"
   ]
  },
  {
   "source": [
    "### 18/1 1h\n",
    "- 18/1 17\n",
    "    - For each MC simulation the backlog and\n",
    "        - Monte Carlo simulations=100\n",
    "        - 1 Executions, with 1000 generations\n",
    "        - No solution without violations, passing all in front 0\n",
    "            - Violation is the median of the sum of backlogs per simulations\n",
    "            - P backlog is the Probability.\n",
    "                - Total time  1675.0111848000001 Per execution 1675.0111848000001"
   ],
   "cell_type": "markdown",
   "metadata": {}
  },
  {
   "cell_type": "code",
   "execution_count": 26,
   "metadata": {},
   "outputs": [
    {
     "output_type": "execute_result",
     "data": {
      "text/plain": [
       "   Unnamed: 0 Execution                                                                                       Variation Solution  Total throughput [kg]  Max total backlog [kg]  Mean total backlog [kg]  std dev total backlog [kg]  Median total backlog [kg]  Min total backlog [kg]  P(total backlog ≤ 0 kg)  Max total inventory deficit [kg]  Mean total inventory deficit [kg]  std dev inventory deficit [kg]  Median total inventory deficit [kg]  Min total inventory deficit [kg]  Total Deficit [kg]                      Batches [un]              Product label                                                                             Start of USP [date]                                                                               End of DSP [date]\n",
       "0           0   Article                                                                                         Article        X                  539.3                8.200000                 0.200000                    0.600000                   0.000000                0.000000                     0.82                        683.400000                         432.600000                       58.600000                           424.400000                        259.400000                 NaN  [15 10 29 3 15 11 15 6 2 2 2 10]  [3 2 0 1 3 2 1 3 2 1 2 3]                                                                                             NaN                                                                                             NaN\n",
       "1           1   Article                                                                                         Article        Y                  601.5               16.000000                 7.100000                    4.300000                   0.000000                0.000000                     0.50                        786.000000                         558.600000                       59.000000                           551.700000                        355.600000                 NaN           [12 13 24 18 5 19 9 30]          [3 2 0 3 1 0 2 3]                                                                                             NaN                                                                                             NaN\n",
       "2           0         0  front_nsga,tour_vio,rein_vio,vio_back,calc_montecarlo,100,1000,2,0.11,(0.04, 0.61, 0.77, 0.47)        X                  461.6               41.861155                35.532347                    2.433653                  35.091078               31.213757                     0.00                        687.323710                         591.391954                       31.983948                           587.082114                        514.598901          587.082114            [21 16 31 12  7  7  8]            [3 2 0 3 2 0 1]  ['2016-12-01' '2017-06-22' '2017-11-26' '2018-08-15' '2018-12-26'\\n '2019-03-30' '2019-07-02']  ['2017-06-22' '2017-11-26' '2018-08-15' '2018-12-26' '2019-03-30'\\n '2019-07-02' '2019-11-03']\n",
       "3           1         0  front_nsga,tour_vio,rein_vio,vio_back,calc_montecarlo,100,1000,2,0.11,(0.04, 0.61, 0.77, 0.47)        Y                  470.8               44.223134                35.783537                    2.391289                  35.499388               30.840925                     0.00                        712.101305                         622.197185                       36.034471                           620.074496                        549.307411          620.074496            [21 16 31 14  6  6  9]            [3 2 0 3 2 0 1]  ['2016-12-01' '2017-06-22' '2017-11-26' '2018-08-15' '2019-01-09'\\n '2019-04-06' '2019-07-02']  ['2017-06-22' '2017-11-26' '2018-08-15' '2019-01-09' '2019-04-06'\\n '2019-07-02' '2019-11-14']"
      ],
      "text/html": "<div>\n<style scoped>\n    .dataframe tbody tr th:only-of-type {\n        vertical-align: middle;\n    }\n\n    .dataframe tbody tr th {\n        vertical-align: top;\n    }\n\n    .dataframe thead th {\n        text-align: right;\n    }\n</style>\n<table border=\"1\" class=\"dataframe\">\n  <thead>\n    <tr style=\"text-align: right;\">\n      <th></th>\n      <th>Unnamed: 0</th>\n      <th>Execution</th>\n      <th>Variation</th>\n      <th>Solution</th>\n      <th>Total throughput [kg]</th>\n      <th>Max total backlog [kg]</th>\n      <th>Mean total backlog [kg]</th>\n      <th>std dev total backlog [kg]</th>\n      <th>Median total backlog [kg]</th>\n      <th>Min total backlog [kg]</th>\n      <th>P(total backlog ≤ 0 kg)</th>\n      <th>Max total inventory deficit [kg]</th>\n      <th>Mean total inventory deficit [kg]</th>\n      <th>std dev inventory deficit [kg]</th>\n      <th>Median total inventory deficit [kg]</th>\n      <th>Min total inventory deficit [kg]</th>\n      <th>Total Deficit [kg]</th>\n      <th>Batches [un]</th>\n      <th>Product label</th>\n      <th>Start of USP [date]</th>\n      <th>End of DSP [date]</th>\n    </tr>\n  </thead>\n  <tbody>\n    <tr>\n      <th>0</th>\n      <td>0</td>\n      <td>Article</td>\n      <td>Article</td>\n      <td>X</td>\n      <td>539.3</td>\n      <td>8.200000</td>\n      <td>0.200000</td>\n      <td>0.600000</td>\n      <td>0.000000</td>\n      <td>0.000000</td>\n      <td>0.82</td>\n      <td>683.400000</td>\n      <td>432.600000</td>\n      <td>58.600000</td>\n      <td>424.400000</td>\n      <td>259.400000</td>\n      <td>NaN</td>\n      <td>[15 10 29 3 15 11 15 6 2 2 2 10]</td>\n      <td>[3 2 0 1 3 2 1 3 2 1 2 3]</td>\n      <td>NaN</td>\n      <td>NaN</td>\n    </tr>\n    <tr>\n      <th>1</th>\n      <td>1</td>\n      <td>Article</td>\n      <td>Article</td>\n      <td>Y</td>\n      <td>601.5</td>\n      <td>16.000000</td>\n      <td>7.100000</td>\n      <td>4.300000</td>\n      <td>0.000000</td>\n      <td>0.000000</td>\n      <td>0.50</td>\n      <td>786.000000</td>\n      <td>558.600000</td>\n      <td>59.000000</td>\n      <td>551.700000</td>\n      <td>355.600000</td>\n      <td>NaN</td>\n      <td>[12 13 24 18 5 19 9 30]</td>\n      <td>[3 2 0 3 1 0 2 3]</td>\n      <td>NaN</td>\n      <td>NaN</td>\n    </tr>\n    <tr>\n      <th>2</th>\n      <td>0</td>\n      <td>0</td>\n      <td>front_nsga,tour_vio,rein_vio,vio_back,calc_montecarlo,100,1000,2,0.11,(0.04, 0.61, 0.77, 0.47)</td>\n      <td>X</td>\n      <td>461.6</td>\n      <td>41.861155</td>\n      <td>35.532347</td>\n      <td>2.433653</td>\n      <td>35.091078</td>\n      <td>31.213757</td>\n      <td>0.00</td>\n      <td>687.323710</td>\n      <td>591.391954</td>\n      <td>31.983948</td>\n      <td>587.082114</td>\n      <td>514.598901</td>\n      <td>587.082114</td>\n      <td>[21 16 31 12  7  7  8]</td>\n      <td>[3 2 0 3 2 0 1]</td>\n      <td>['2016-12-01' '2017-06-22' '2017-11-26' '2018-08-15' '2018-12-26'\\n '2019-03-30' '2019-07-02']</td>\n      <td>['2017-06-22' '2017-11-26' '2018-08-15' '2018-12-26' '2019-03-30'\\n '2019-07-02' '2019-11-03']</td>\n    </tr>\n    <tr>\n      <th>3</th>\n      <td>1</td>\n      <td>0</td>\n      <td>front_nsga,tour_vio,rein_vio,vio_back,calc_montecarlo,100,1000,2,0.11,(0.04, 0.61, 0.77, 0.47)</td>\n      <td>Y</td>\n      <td>470.8</td>\n      <td>44.223134</td>\n      <td>35.783537</td>\n      <td>2.391289</td>\n      <td>35.499388</td>\n      <td>30.840925</td>\n      <td>0.00</td>\n      <td>712.101305</td>\n      <td>622.197185</td>\n      <td>36.034471</td>\n      <td>620.074496</td>\n      <td>549.307411</td>\n      <td>620.074496</td>\n      <td>[21 16 31 14  6  6  9]</td>\n      <td>[3 2 0 3 2 0 1]</td>\n      <td>['2016-12-01' '2017-06-22' '2017-11-26' '2018-08-15' '2019-01-09'\\n '2019-04-06' '2019-07-02']</td>\n      <td>['2017-06-22' '2017-11-26' '2018-08-15' '2019-01-09' '2019-04-06'\\n '2019-07-02' '2019-11-14']</td>\n    </tr>\n  </tbody>\n</table>\n</div>"
     },
     "metadata": {},
     "execution_count": 26
    }
   ],
   "source": [
    "name=\"18-117\"\n",
    "result=pd.read_csv(root_path_analysis+name+'.csv')# Import from csv\n",
    "result"
   ]
  },
  {
   "source": [
    "1. Attributes analysis\n",
    "    - OK 'Total throughput [kg]',\n",
    "    - 'Max total backlog [kg]', \n",
    "        - Potencialmente alto\n",
    "    - 'Mean total backlog [kg]', \n",
    "    - 'std dev total backlog [kg]', \n",
    "    - 'Median total backlog [kg]', \n",
    "        - Valores altos, preciso de uma estrategia para reduzir o backlog.\n",
    "            - Pode ser devido a minha reinversao de valores\n",
    "            - Different backlog calculus tests\n",
    "                - Test Contar cumulativamente as violacoes em todas as simulacoes de Monte como np.sum(np.median(distribution_sums_backlog) > 0),Backlog violations, para count_backlog_violations_j adds if is greater than 0\n",
    "                    - It did not worked, results are similar\n",
    "                - Test Count the number of month violations per simulation count_backlog_violations_j += np.sum(backlog_j>0), instead of counting 1 in case any violation happen.\n",
    "                    - It did not worked, backlog even increased\n",
    "                - Test Count a violation if median of a backlog_j>0: if np.median(backlog_j)>0: count_backlog_violations_j += 1\n",
    "                    - Fail, backlog keep high\n",
    "                - Test  Count a violation if median of a backlog_j>0: if np.median(backlog_j)>0: count_backlog_violations_j += 1 but higher number of Monte Carlo\n",
    "                    - Did not worked backlog reached values much higher\n",
    "                - Test Instead of count use the actual median of the sum of backlogs\n",
    "                    - Did not work, perhaps the problem is in my consolidation of population and not actually in the calculation.\n",
    "    - 'Min total backlog [kg]',\n",
    "        - High values\n",
    "    - 'P(total backlog ≤ 0 kg)', \n",
    "        - This is the Probability, fixed now\n",
    "    - OK 'Max total inventory deficit [kg]', \n",
    "    - OK 'Mean total inventory deficit [kg]', \n",
    "    - OK 'std dev inventory deficit [kg]', \n",
    "    - OK 'Median total inventory deficit [kg]', \n",
    "    - OK 'Min total inventory deficit [kg]', \n",
    "    - 'Total Deficit [kg]', \n",
    "    - 'Batches [un]', \n",
    "    - 'Product label', \n",
    "    - 'Start of USP [date]', \n",
    "    - 'End of DSP [date]']"
   ],
   "cell_type": "markdown",
   "metadata": {}
  },
  {
   "cell_type": "code",
   "execution_count": 27,
   "metadata": {},
   "outputs": [
    {
     "output_type": "execute_result",
     "data": {
      "text/plain": [
       "   Unnamed: 0                 Batches         Products                   Objectives\n",
       "0           0  [21 16 31 12  7  7  8]  [3 2 0 3 2 0 1]  [461.6        587.08211389]\n",
       "1           1  [21 16 32 12  6  6  9]  [3 2 0 3 2 0 1]  [462.9        594.16492768]\n",
       "2           2  [21 16 32 12  7  6  9]  [3 2 0 3 2 0 1]  [467.8        603.42444056]\n",
       "3           3  [21 16 31 13  7  6  9]  [3 2 0 3 2 0 1]  [470.2        608.04883301]\n",
       "4           4  [21 16 31 14  6  6  9]  [3 2 0 3 2 0 1]  [470.8        620.07449594]"
      ],
      "text/html": "<div>\n<style scoped>\n    .dataframe tbody tr th:only-of-type {\n        vertical-align: middle;\n    }\n\n    .dataframe tbody tr th {\n        vertical-align: top;\n    }\n\n    .dataframe thead th {\n        text-align: right;\n    }\n</style>\n<table border=\"1\" class=\"dataframe\">\n  <thead>\n    <tr style=\"text-align: right;\">\n      <th></th>\n      <th>Unnamed: 0</th>\n      <th>Batches</th>\n      <th>Products</th>\n      <th>Objectives</th>\n    </tr>\n  </thead>\n  <tbody>\n    <tr>\n      <th>0</th>\n      <td>0</td>\n      <td>[21 16 31 12  7  7  8]</td>\n      <td>[3 2 0 3 2 0 1]</td>\n      <td>[461.6        587.08211389]</td>\n    </tr>\n    <tr>\n      <th>1</th>\n      <td>1</td>\n      <td>[21 16 32 12  6  6  9]</td>\n      <td>[3 2 0 3 2 0 1]</td>\n      <td>[462.9        594.16492768]</td>\n    </tr>\n    <tr>\n      <th>2</th>\n      <td>2</td>\n      <td>[21 16 32 12  7  6  9]</td>\n      <td>[3 2 0 3 2 0 1]</td>\n      <td>[467.8        603.42444056]</td>\n    </tr>\n    <tr>\n      <th>3</th>\n      <td>3</td>\n      <td>[21 16 31 13  7  6  9]</td>\n      <td>[3 2 0 3 2 0 1]</td>\n      <td>[470.2        608.04883301]</td>\n    </tr>\n    <tr>\n      <th>4</th>\n      <td>4</td>\n      <td>[21 16 31 14  6  6  9]</td>\n      <td>[3 2 0 3 2 0 1]</td>\n      <td>[470.8        620.07449594]</td>\n    </tr>\n  </tbody>\n</table>\n</div>"
     },
     "metadata": {},
     "execution_count": 27
    }
   ],
   "source": [
    "results=pd.read_csv(root_path_analysis+name+\"solutions.csv\")# Import from csv\n",
    "results"
   ]
  },
  {
   "source": [
    "### 19/1 21\n",
    "- 19/1 21\n",
    "    - For each MC simulation the backlog and\n",
    "        - Monte Carlo simulations=100\n",
    "        - 2 Executions, with 1000 generations\n",
    "        - Added numba function calc_stock\n",
    "        - Fixed index for metrics extraction\n",
    "        - No solution without violations, passing all in front 0\n",
    "            - Violation is the median of the sum of backlogs per simulations\n",
    "            - P backlog is the Probability.\n",
    "                - Total time  3375.708511 Per execution\t1687.85425"
   ],
   "cell_type": "markdown",
   "metadata": {}
  },
  {
   "cell_type": "code",
   "execution_count": 28,
   "metadata": {},
   "outputs": [
    {
     "output_type": "execute_result",
     "data": {
      "text/plain": [
       "   Unnamed: 0 Execution                                                                                       Variation Solution  Total throughput [kg]  Max total backlog [kg]  Mean total backlog [kg]  std dev total backlog [kg]  Median total backlog [kg]  Min total backlog [kg]  P(total backlog ≤ 0 kg)  Max total inventory deficit [kg]  Mean total inventory deficit [kg]  std dev inventory deficit [kg]  Median total inventory deficit [kg]  Min total inventory deficit [kg]  Total Deficit [kg]                      Batches [un]              Product label                                                                Start of USP [date]                                                                  End of DSP [date]\n",
       "0           0   Article                                                                                         Article        X                  539.3                8.200000                 0.200000                    0.600000                   0.000000                0.000000                     0.82                        683.400000                         432.600000                       58.600000                           424.400000                        259.400000                 NaN  [15 10 29 3 15 11 15 6 2 2 2 10]  [3 2 0 1 3 2 1 3 2 1 2 3]                                                                                NaN                                                                                NaN\n",
       "1           1   Article                                                                                         Article        Y                  601.5               16.000000                 7.100000                    4.300000                   0.000000                0.000000                     0.50                        786.000000                         558.600000                       59.000000                           551.700000                        355.600000                 NaN           [12 13 24 18 5 19 9 30]          [3 2 0 3 1 0 2 3]                                                                                NaN                                                                                NaN\n",
       "2           0         0  front_nsga,tour_vio,rein_vio,vio_back,calc_montecarlo,100,1000,2,0.11,(0.04, 0.61, 0.77, 0.47)        X                  537.4               56.443926                36.769244                    4.195106                  36.029045               27.282494                     0.00                        780.545770                         651.254514                       34.616274                           651.531623                        545.097261          651.531623               [27 13 35  3  9 28]              [3 2 0 1 2 3]  ['2016-12-01' '2017-08-03' '2017-12-17' '2018-10-03' '2018-12-11'\\n '2019-03-29']  ['2017-08-03' '2017-12-17' '2018-10-03' '2018-12-11' '2019-03-29'\\n '2019-11-29']\n",
       "3           1         0  front_nsga,tour_vio,rein_vio,vio_back,calc_montecarlo,100,1000,2,0.11,(0.04, 0.61, 0.77, 0.47)        Y                  538.6               51.978178                36.146849                    4.520603                  35.841563               25.388792                     0.00                        819.067963                         710.160056                       39.173215                           710.837382                        587.367957          710.837382               [28 10 35  3 10 29]              [3 2 0 1 2 3]  ['2016-12-01' '2017-08-10' '2017-12-03' '2018-09-19' '2018-11-27'\\n '2019-03-22']  ['2017-08-10' '2017-12-03' '2018-09-19' '2018-11-27' '2019-03-22'\\n '2019-11-29']"
      ],
      "text/html": "<div>\n<style scoped>\n    .dataframe tbody tr th:only-of-type {\n        vertical-align: middle;\n    }\n\n    .dataframe tbody tr th {\n        vertical-align: top;\n    }\n\n    .dataframe thead th {\n        text-align: right;\n    }\n</style>\n<table border=\"1\" class=\"dataframe\">\n  <thead>\n    <tr style=\"text-align: right;\">\n      <th></th>\n      <th>Unnamed: 0</th>\n      <th>Execution</th>\n      <th>Variation</th>\n      <th>Solution</th>\n      <th>Total throughput [kg]</th>\n      <th>Max total backlog [kg]</th>\n      <th>Mean total backlog [kg]</th>\n      <th>std dev total backlog [kg]</th>\n      <th>Median total backlog [kg]</th>\n      <th>Min total backlog [kg]</th>\n      <th>P(total backlog ≤ 0 kg)</th>\n      <th>Max total inventory deficit [kg]</th>\n      <th>Mean total inventory deficit [kg]</th>\n      <th>std dev inventory deficit [kg]</th>\n      <th>Median total inventory deficit [kg]</th>\n      <th>Min total inventory deficit [kg]</th>\n      <th>Total Deficit [kg]</th>\n      <th>Batches [un]</th>\n      <th>Product label</th>\n      <th>Start of USP [date]</th>\n      <th>End of DSP [date]</th>\n    </tr>\n  </thead>\n  <tbody>\n    <tr>\n      <th>0</th>\n      <td>0</td>\n      <td>Article</td>\n      <td>Article</td>\n      <td>X</td>\n      <td>539.3</td>\n      <td>8.200000</td>\n      <td>0.200000</td>\n      <td>0.600000</td>\n      <td>0.000000</td>\n      <td>0.000000</td>\n      <td>0.82</td>\n      <td>683.400000</td>\n      <td>432.600000</td>\n      <td>58.600000</td>\n      <td>424.400000</td>\n      <td>259.400000</td>\n      <td>NaN</td>\n      <td>[15 10 29 3 15 11 15 6 2 2 2 10]</td>\n      <td>[3 2 0 1 3 2 1 3 2 1 2 3]</td>\n      <td>NaN</td>\n      <td>NaN</td>\n    </tr>\n    <tr>\n      <th>1</th>\n      <td>1</td>\n      <td>Article</td>\n      <td>Article</td>\n      <td>Y</td>\n      <td>601.5</td>\n      <td>16.000000</td>\n      <td>7.100000</td>\n      <td>4.300000</td>\n      <td>0.000000</td>\n      <td>0.000000</td>\n      <td>0.50</td>\n      <td>786.000000</td>\n      <td>558.600000</td>\n      <td>59.000000</td>\n      <td>551.700000</td>\n      <td>355.600000</td>\n      <td>NaN</td>\n      <td>[12 13 24 18 5 19 9 30]</td>\n      <td>[3 2 0 3 1 0 2 3]</td>\n      <td>NaN</td>\n      <td>NaN</td>\n    </tr>\n    <tr>\n      <th>2</th>\n      <td>0</td>\n      <td>0</td>\n      <td>front_nsga,tour_vio,rein_vio,vio_back,calc_montecarlo,100,1000,2,0.11,(0.04, 0.61, 0.77, 0.47)</td>\n      <td>X</td>\n      <td>537.4</td>\n      <td>56.443926</td>\n      <td>36.769244</td>\n      <td>4.195106</td>\n      <td>36.029045</td>\n      <td>27.282494</td>\n      <td>0.00</td>\n      <td>780.545770</td>\n      <td>651.254514</td>\n      <td>34.616274</td>\n      <td>651.531623</td>\n      <td>545.097261</td>\n      <td>651.531623</td>\n      <td>[27 13 35  3  9 28]</td>\n      <td>[3 2 0 1 2 3]</td>\n      <td>['2016-12-01' '2017-08-03' '2017-12-17' '2018-10-03' '2018-12-11'\\n '2019-03-29']</td>\n      <td>['2017-08-03' '2017-12-17' '2018-10-03' '2018-12-11' '2019-03-29'\\n '2019-11-29']</td>\n    </tr>\n    <tr>\n      <th>3</th>\n      <td>1</td>\n      <td>0</td>\n      <td>front_nsga,tour_vio,rein_vio,vio_back,calc_montecarlo,100,1000,2,0.11,(0.04, 0.61, 0.77, 0.47)</td>\n      <td>Y</td>\n      <td>538.6</td>\n      <td>51.978178</td>\n      <td>36.146849</td>\n      <td>4.520603</td>\n      <td>35.841563</td>\n      <td>25.388792</td>\n      <td>0.00</td>\n      <td>819.067963</td>\n      <td>710.160056</td>\n      <td>39.173215</td>\n      <td>710.837382</td>\n      <td>587.367957</td>\n      <td>710.837382</td>\n      <td>[28 10 35  3 10 29]</td>\n      <td>[3 2 0 1 2 3]</td>\n      <td>['2016-12-01' '2017-08-10' '2017-12-03' '2018-09-19' '2018-11-27'\\n '2019-03-22']</td>\n      <td>['2017-08-10' '2017-12-03' '2018-09-19' '2018-11-27' '2019-03-22'\\n '2019-11-29']</td>\n    </tr>\n  </tbody>\n</table>\n</div>"
     },
     "metadata": {},
     "execution_count": 28
    }
   ],
   "source": [
    "name=\"19-121\"\n",
    "result=pd.read_csv(root_path_analysis+name+'.csv')# Import from csv\n",
    "result"
   ]
  },
  {
   "cell_type": "code",
   "execution_count": 29,
   "metadata": {},
   "outputs": [
    {
     "output_type": "execute_result",
     "data": {
      "text/plain": [
       "   Unnamed: 0              Batches       Products                   Objectives\n",
       "0           0  [28 10 35  3 10 29]  [3 2 0 1 2 3]  [538.6        710.83738209]\n",
       "1           1  [27 13 35  3  8 29]  [3 2 0 1 2 3]  [538.         654.13559098]\n",
       "2           2  [27 13 35  3  9 28]  [3 2 0 1 2 3]  [537.4        651.53162298]"
      ],
      "text/html": "<div>\n<style scoped>\n    .dataframe tbody tr th:only-of-type {\n        vertical-align: middle;\n    }\n\n    .dataframe tbody tr th {\n        vertical-align: top;\n    }\n\n    .dataframe thead th {\n        text-align: right;\n    }\n</style>\n<table border=\"1\" class=\"dataframe\">\n  <thead>\n    <tr style=\"text-align: right;\">\n      <th></th>\n      <th>Unnamed: 0</th>\n      <th>Batches</th>\n      <th>Products</th>\n      <th>Objectives</th>\n    </tr>\n  </thead>\n  <tbody>\n    <tr>\n      <th>0</th>\n      <td>0</td>\n      <td>[28 10 35  3 10 29]</td>\n      <td>[3 2 0 1 2 3]</td>\n      <td>[538.6        710.83738209]</td>\n    </tr>\n    <tr>\n      <th>1</th>\n      <td>1</td>\n      <td>[27 13 35  3  8 29]</td>\n      <td>[3 2 0 1 2 3]</td>\n      <td>[538.         654.13559098]</td>\n    </tr>\n    <tr>\n      <th>2</th>\n      <td>2</td>\n      <td>[27 13 35  3  9 28]</td>\n      <td>[3 2 0 1 2 3]</td>\n      <td>[537.4        651.53162298]</td>\n    </tr>\n  </tbody>\n</table>\n</div>"
     },
     "metadata": {},
     "execution_count": 29
    }
   ],
   "source": [
    "results=pd.read_csv(root_path_analysis+name+\"solutions.csv\")# Import from csv\n",
    "results"
   ]
  },
  {
   "source": [
    "- No major Modification, but with:\n",
    "    - Monte Carlo simulations=1000\n",
    "    - 20 Executions, with 1000 generations\n",
    "    - Total time  70248.93426 Per execution\t3512.447\n"
   ],
   "cell_type": "markdown",
   "metadata": {}
  },
  {
   "cell_type": "code",
   "execution_count": 30,
   "metadata": {},
   "outputs": [
    {
     "output_type": "execute_result",
     "data": {
      "text/plain": [
       "   Unnamed: 0 Execution                                                                                       Variation Solution  Total throughput [kg]  Max total backlog [kg]  Mean total backlog [kg]  std dev total backlog [kg]  Median total backlog [kg]  Min total backlog [kg]  P(total backlog ≤ 0 kg)  Max total inventory deficit [kg]  Mean total inventory deficit [kg]  std dev inventory deficit [kg]  Median total inventory deficit [kg]  Min total inventory deficit [kg]  Total Deficit [kg]                      Batches [un]              Product label                                                                             Start of USP [date]                                                                               End of DSP [date]\n",
       "0           0   Article                                                                                         Article        X                  539.3                8.200000                 0.200000                    0.600000                   0.000000                0.000000                     0.82                        683.400000                         432.600000                       58.600000                           424.400000                        259.400000                 NaN  [15 10 29 3 15 11 15 6 2 2 2 10]  [3 2 0 1 3 2 1 3 2 1 2 3]                                                                                             NaN                                                                                             NaN\n",
       "1           1   Article                                                                                         Article        Y                  601.5               16.000000                 7.100000                    4.300000                   0.000000                0.000000                     0.50                        786.000000                         558.600000                       59.000000                           551.700000                        355.600000                 NaN           [12 13 24 18 5 19 9 30]          [3 2 0 3 1 0 2 3]                                                                                             NaN                                                                                             NaN\n",
       "2           0         0  front_nsga,tour_vio,rein_vio,vio_back,calc_montecarlo,100,1000,2,0.11,(0.04, 0.61, 0.77, 0.47)        X                  442.8               57.173570                42.021048                    3.231251                  41.860355               32.817570                     0.00                        798.229006                         604.736438                       32.309936                           600.708750                        509.589028          600.708750            [27 37 16  2  6  6  6]            [3 0 2 1 3 0 1]  ['2016-12-01' '2017-08-03' '2018-06-03' '2018-11-07' '2019-01-04'\\n '2019-04-05' '2019-07-01']  ['2017-08-03' '2018-06-03' '2018-11-07' '2019-01-04' '2019-04-05'\\n '2019-07-01' '2019-10-11']\n",
       "3           1         0  front_nsga,tour_vio,rein_vio,vio_back,calc_montecarlo,100,1000,2,0.11,(0.04, 0.61, 0.77, 0.47)        Y                  538.0               51.184904                35.002401                    4.525830                  34.516393               24.396732                     0.00                        807.064540                         696.290210                       40.354327                           696.557291                        568.850432          696.557291               [27 11 35  3 10 29]              [3 2 0 1 2 3]               ['2016-12-01' '2017-08-03' '2017-12-03' '2018-09-19' '2018-11-27'\\n '2019-03-22']               ['2017-08-03' '2017-12-03' '2018-09-19' '2018-11-27' '2019-03-22'\\n '2019-11-29']"
      ],
      "text/html": "<div>\n<style scoped>\n    .dataframe tbody tr th:only-of-type {\n        vertical-align: middle;\n    }\n\n    .dataframe tbody tr th {\n        vertical-align: top;\n    }\n\n    .dataframe thead th {\n        text-align: right;\n    }\n</style>\n<table border=\"1\" class=\"dataframe\">\n  <thead>\n    <tr style=\"text-align: right;\">\n      <th></th>\n      <th>Unnamed: 0</th>\n      <th>Execution</th>\n      <th>Variation</th>\n      <th>Solution</th>\n      <th>Total throughput [kg]</th>\n      <th>Max total backlog [kg]</th>\n      <th>Mean total backlog [kg]</th>\n      <th>std dev total backlog [kg]</th>\n      <th>Median total backlog [kg]</th>\n      <th>Min total backlog [kg]</th>\n      <th>P(total backlog ≤ 0 kg)</th>\n      <th>Max total inventory deficit [kg]</th>\n      <th>Mean total inventory deficit [kg]</th>\n      <th>std dev inventory deficit [kg]</th>\n      <th>Median total inventory deficit [kg]</th>\n      <th>Min total inventory deficit [kg]</th>\n      <th>Total Deficit [kg]</th>\n      <th>Batches [un]</th>\n      <th>Product label</th>\n      <th>Start of USP [date]</th>\n      <th>End of DSP [date]</th>\n    </tr>\n  </thead>\n  <tbody>\n    <tr>\n      <th>0</th>\n      <td>0</td>\n      <td>Article</td>\n      <td>Article</td>\n      <td>X</td>\n      <td>539.3</td>\n      <td>8.200000</td>\n      <td>0.200000</td>\n      <td>0.600000</td>\n      <td>0.000000</td>\n      <td>0.000000</td>\n      <td>0.82</td>\n      <td>683.400000</td>\n      <td>432.600000</td>\n      <td>58.600000</td>\n      <td>424.400000</td>\n      <td>259.400000</td>\n      <td>NaN</td>\n      <td>[15 10 29 3 15 11 15 6 2 2 2 10]</td>\n      <td>[3 2 0 1 3 2 1 3 2 1 2 3]</td>\n      <td>NaN</td>\n      <td>NaN</td>\n    </tr>\n    <tr>\n      <th>1</th>\n      <td>1</td>\n      <td>Article</td>\n      <td>Article</td>\n      <td>Y</td>\n      <td>601.5</td>\n      <td>16.000000</td>\n      <td>7.100000</td>\n      <td>4.300000</td>\n      <td>0.000000</td>\n      <td>0.000000</td>\n      <td>0.50</td>\n      <td>786.000000</td>\n      <td>558.600000</td>\n      <td>59.000000</td>\n      <td>551.700000</td>\n      <td>355.600000</td>\n      <td>NaN</td>\n      <td>[12 13 24 18 5 19 9 30]</td>\n      <td>[3 2 0 3 1 0 2 3]</td>\n      <td>NaN</td>\n      <td>NaN</td>\n    </tr>\n    <tr>\n      <th>2</th>\n      <td>0</td>\n      <td>0</td>\n      <td>front_nsga,tour_vio,rein_vio,vio_back,calc_montecarlo,100,1000,2,0.11,(0.04, 0.61, 0.77, 0.47)</td>\n      <td>X</td>\n      <td>442.8</td>\n      <td>57.173570</td>\n      <td>42.021048</td>\n      <td>3.231251</td>\n      <td>41.860355</td>\n      <td>32.817570</td>\n      <td>0.00</td>\n      <td>798.229006</td>\n      <td>604.736438</td>\n      <td>32.309936</td>\n      <td>600.708750</td>\n      <td>509.589028</td>\n      <td>600.708750</td>\n      <td>[27 37 16  2  6  6  6]</td>\n      <td>[3 0 2 1 3 0 1]</td>\n      <td>['2016-12-01' '2017-08-03' '2018-06-03' '2018-11-07' '2019-01-04'\\n '2019-04-05' '2019-07-01']</td>\n      <td>['2017-08-03' '2018-06-03' '2018-11-07' '2019-01-04' '2019-04-05'\\n '2019-07-01' '2019-10-11']</td>\n    </tr>\n    <tr>\n      <th>3</th>\n      <td>1</td>\n      <td>0</td>\n      <td>front_nsga,tour_vio,rein_vio,vio_back,calc_montecarlo,100,1000,2,0.11,(0.04, 0.61, 0.77, 0.47)</td>\n      <td>Y</td>\n      <td>538.0</td>\n      <td>51.184904</td>\n      <td>35.002401</td>\n      <td>4.525830</td>\n      <td>34.516393</td>\n      <td>24.396732</td>\n      <td>0.00</td>\n      <td>807.064540</td>\n      <td>696.290210</td>\n      <td>40.354327</td>\n      <td>696.557291</td>\n      <td>568.850432</td>\n      <td>696.557291</td>\n      <td>[27 11 35  3 10 29]</td>\n      <td>[3 2 0 1 2 3]</td>\n      <td>['2016-12-01' '2017-08-03' '2017-12-03' '2018-09-19' '2018-11-27'\\n '2019-03-22']</td>\n      <td>['2017-08-03' '2017-12-03' '2018-09-19' '2018-11-27' '2019-03-22'\\n '2019-11-29']</td>\n    </tr>\n  </tbody>\n</table>\n</div>"
     },
     "metadata": {},
     "execution_count": 30
    }
   ],
   "source": [
    "name=\"20-123\"\n",
    "result=pd.read_csv(root_path_analysis+name+'.csv')# Import from csv\n",
    "result"
   ]
  },
  {
   "cell_type": "code",
   "execution_count": 31,
   "metadata": {},
   "outputs": [
    {
     "output_type": "execute_result",
     "data": {
      "text/plain": [
       "    Unnamed: 0                    Batches           Products                   Objectives\n",
       "0            0        [27 11 36  3 10 28]      [3 2 0 1 2 3]  [535.6        696.14062637]\n",
       "1            1     [21 16 37 12  6  3 12]    [3 2 0 3 2 1 3]  [488.6        617.66406712]\n",
       "2            2  [21 16 37 12  7  3  2  3]  [3 2 0 3 2 1 2 1]  [455.9        613.89101958]\n",
       "3            3     [21 16 37 12  7  3 11]    [3 2 0 3 2 1 3]  [488.         616.10811718]\n",
       "4            4     [21 17 38 12  6  2 12]    [3 2 0 3 2 1 3]  [490.4        629.17077817]\n",
       "5            5     [21 17 38 13  5  2 12]    [3 2 0 3 2 1 3]  [491.         636.68242112]\n",
       "6            6  [27 37 16  2  6  7  2  5]  [3 0 2 1 3 0 1 3]  [448.6        601.08223396]\n",
       "7            7     [27 37 16  2  6  6  6]    [3 0 2 1 3 0 1]  [442.8        600.70874997]\n",
       "8            8  [27 36 16  2  6  7  3  5]  [3 0 2 1 3 0 1 3]  [451.7        601.45167414]\n",
       "9            9        [27 11 36  2 10 28]      [3 2 0 1 2 3]  [529.4        685.08462396]\n",
       "10          10        [27 11 35  3 10 29]      [3 2 0 1 2 3]  [538.         696.55729087]\n",
       "11          11        [27 11 36  2 10 29]      [3 2 0 1 2 3]  [534.9        685.36094507]\n",
       "12          12        [27 11 36  2 11 27]      [3 2 0 1 2 3]    [528.8       684.3550233]"
      ],
      "text/html": "<div>\n<style scoped>\n    .dataframe tbody tr th:only-of-type {\n        vertical-align: middle;\n    }\n\n    .dataframe tbody tr th {\n        vertical-align: top;\n    }\n\n    .dataframe thead th {\n        text-align: right;\n    }\n</style>\n<table border=\"1\" class=\"dataframe\">\n  <thead>\n    <tr style=\"text-align: right;\">\n      <th></th>\n      <th>Unnamed: 0</th>\n      <th>Batches</th>\n      <th>Products</th>\n      <th>Objectives</th>\n    </tr>\n  </thead>\n  <tbody>\n    <tr>\n      <th>0</th>\n      <td>0</td>\n      <td>[27 11 36  3 10 28]</td>\n      <td>[3 2 0 1 2 3]</td>\n      <td>[535.6        696.14062637]</td>\n    </tr>\n    <tr>\n      <th>1</th>\n      <td>1</td>\n      <td>[21 16 37 12  6  3 12]</td>\n      <td>[3 2 0 3 2 1 3]</td>\n      <td>[488.6        617.66406712]</td>\n    </tr>\n    <tr>\n      <th>2</th>\n      <td>2</td>\n      <td>[21 16 37 12  7  3  2  3]</td>\n      <td>[3 2 0 3 2 1 2 1]</td>\n      <td>[455.9        613.89101958]</td>\n    </tr>\n    <tr>\n      <th>3</th>\n      <td>3</td>\n      <td>[21 16 37 12  7  3 11]</td>\n      <td>[3 2 0 3 2 1 3]</td>\n      <td>[488.         616.10811718]</td>\n    </tr>\n    <tr>\n      <th>4</th>\n      <td>4</td>\n      <td>[21 17 38 12  6  2 12]</td>\n      <td>[3 2 0 3 2 1 3]</td>\n      <td>[490.4        629.17077817]</td>\n    </tr>\n    <tr>\n      <th>5</th>\n      <td>5</td>\n      <td>[21 17 38 13  5  2 12]</td>\n      <td>[3 2 0 3 2 1 3]</td>\n      <td>[491.         636.68242112]</td>\n    </tr>\n    <tr>\n      <th>6</th>\n      <td>6</td>\n      <td>[27 37 16  2  6  7  2  5]</td>\n      <td>[3 0 2 1 3 0 1 3]</td>\n      <td>[448.6        601.08223396]</td>\n    </tr>\n    <tr>\n      <th>7</th>\n      <td>7</td>\n      <td>[27 37 16  2  6  6  6]</td>\n      <td>[3 0 2 1 3 0 1]</td>\n      <td>[442.8        600.70874997]</td>\n    </tr>\n    <tr>\n      <th>8</th>\n      <td>8</td>\n      <td>[27 36 16  2  6  7  3  5]</td>\n      <td>[3 0 2 1 3 0 1 3]</td>\n      <td>[451.7        601.45167414]</td>\n    </tr>\n    <tr>\n      <th>9</th>\n      <td>9</td>\n      <td>[27 11 36  2 10 28]</td>\n      <td>[3 2 0 1 2 3]</td>\n      <td>[529.4        685.08462396]</td>\n    </tr>\n    <tr>\n      <th>10</th>\n      <td>10</td>\n      <td>[27 11 35  3 10 29]</td>\n      <td>[3 2 0 1 2 3]</td>\n      <td>[538.         696.55729087]</td>\n    </tr>\n    <tr>\n      <th>11</th>\n      <td>11</td>\n      <td>[27 11 36  2 10 29]</td>\n      <td>[3 2 0 1 2 3]</td>\n      <td>[534.9        685.36094507]</td>\n    </tr>\n    <tr>\n      <th>12</th>\n      <td>12</td>\n      <td>[27 11 36  2 11 27]</td>\n      <td>[3 2 0 1 2 3]</td>\n      <td>[528.8       684.3550233]</td>\n    </tr>\n  </tbody>\n</table>\n</div>"
     },
     "metadata": {},
     "execution_count": 31
    }
   ],
   "source": [
    "results=pd.read_csv(root_path_analysis+name+\"solutions.csv\")# Import from csv\n",
    "results"
   ]
  },
  {
   "source": [
    "### 22/1 8\n",
    "- 22/1 8\n",
    "    - For each MC simulation the backlog and\n",
    "        - Monte Carlo simulations=1000\n",
    "        - 20 Executions, with 1000 generations\n",
    "        - Optimized with numba\n",
    "        - Fix ix_reinsert.shape\n",
    "        - Fix passing copies as arguments\n",
    "        - No solution without violations, passing all in front 0\n",
    "            - Violation is the median of the sum of backlogs per simulations\n",
    "            - P backlog is the Probability.\n",
    "                - Total time  8301.543596\t830.1543596"
   ],
   "cell_type": "markdown",
   "metadata": {}
  },
  {
   "cell_type": "code",
   "execution_count": 32,
   "metadata": {},
   "outputs": [
    {
     "output_type": "execute_result",
     "data": {
      "text/plain": [
       "   Unnamed: 0 Execution                                                                                       Variation Solution  Total throughput [kg]  Max total backlog [kg]  Mean total backlog [kg]  std dev total backlog [kg]  Median total backlog [kg]  Min total backlog [kg]  P(total backlog ≤ 0 kg)  Max total inventory deficit [kg]  Mean total inventory deficit [kg]  std dev inventory deficit [kg]  Median total inventory deficit [kg]  Min total inventory deficit [kg]  Total Deficit [kg]                      Batches [un]              Product label                                                                                          Start of USP [date]                                                                                            End of DSP [date]\n",
       "0           0   Article                                                                                         Article        X                  539.3                8.200000                 0.200000                    0.600000                   0.000000                0.000000                     0.82                        683.400000                         432.600000                       58.600000                           424.400000                        259.400000                 NaN  [15 10 29 3 15 11 15 6 2 2 2 10]  [3 2 0 1 3 2 1 3 2 1 2 3]                                                                                                          NaN                                                                                                          NaN\n",
       "1           1   Article                                                                                         Article        Y                  601.5               16.000000                 7.100000                    4.300000                   0.000000                0.000000                     0.50                        786.000000                         558.600000                       59.000000                           551.700000                        355.600000                 NaN           [12 13 24 18 5 19 9 30]          [3 2 0 3 1 0 2 3]                                                                                                          NaN                                                                                                          NaN\n",
       "2           0         0  front_nsga,tour_vio,rein_vio,vio_back,calc_montecarlo,100,1000,2,0.11,(0.04, 0.61, 0.77, 0.47)        X                  450.3               64.166169                50.785666                    3.454888                  50.504525               41.777139                     0.00                      -1341.091013                       -1748.990279                      115.538121                         -1747.204837                      -2150.559735        -1747.204837         [30 20 31  3  7  5  2  2]          [3 2 0 1 3 0 1 0]  ['2016-12-01' '2017-08-24' '2018-02-25' '2018-11-14' '2019-01-22'\\n '2019-04-30' '2019-07-19' '2019-09-15']  ['2017-08-24' '2018-02-25' '2018-11-14' '2019-01-22' '2019-04-30'\\n '2019-07-19' '2019-09-15' '2019-11-13']\n",
       "3           1         0  front_nsga,tour_vio,rein_vio,vio_back,calc_montecarlo,100,1000,2,0.11,(0.04, 0.61, 0.77, 0.47)        Y                  533.1               63.421760                50.808951                    3.476595                  50.579543               40.949000                     0.00                      -1322.257905                       -1689.774786                      109.442779                         -1692.037535                      -2060.086832        -1692.037535               [30 20 24  3 11 26]              [3 2 0 1 0 3]                            ['2016-12-01' '2017-08-24' '2018-02-25' '2018-09-26' '2018-12-04'\\n '2019-04-05']                            ['2017-08-24' '2018-02-25' '2018-09-26' '2018-12-04' '2019-04-05'\\n '2019-11-29']"
      ],
      "text/html": "<div>\n<style scoped>\n    .dataframe tbody tr th:only-of-type {\n        vertical-align: middle;\n    }\n\n    .dataframe tbody tr th {\n        vertical-align: top;\n    }\n\n    .dataframe thead th {\n        text-align: right;\n    }\n</style>\n<table border=\"1\" class=\"dataframe\">\n  <thead>\n    <tr style=\"text-align: right;\">\n      <th></th>\n      <th>Unnamed: 0</th>\n      <th>Execution</th>\n      <th>Variation</th>\n      <th>Solution</th>\n      <th>Total throughput [kg]</th>\n      <th>Max total backlog [kg]</th>\n      <th>Mean total backlog [kg]</th>\n      <th>std dev total backlog [kg]</th>\n      <th>Median total backlog [kg]</th>\n      <th>Min total backlog [kg]</th>\n      <th>P(total backlog ≤ 0 kg)</th>\n      <th>Max total inventory deficit [kg]</th>\n      <th>Mean total inventory deficit [kg]</th>\n      <th>std dev inventory deficit [kg]</th>\n      <th>Median total inventory deficit [kg]</th>\n      <th>Min total inventory deficit [kg]</th>\n      <th>Total Deficit [kg]</th>\n      <th>Batches [un]</th>\n      <th>Product label</th>\n      <th>Start of USP [date]</th>\n      <th>End of DSP [date]</th>\n    </tr>\n  </thead>\n  <tbody>\n    <tr>\n      <th>0</th>\n      <td>0</td>\n      <td>Article</td>\n      <td>Article</td>\n      <td>X</td>\n      <td>539.3</td>\n      <td>8.200000</td>\n      <td>0.200000</td>\n      <td>0.600000</td>\n      <td>0.000000</td>\n      <td>0.000000</td>\n      <td>0.82</td>\n      <td>683.400000</td>\n      <td>432.600000</td>\n      <td>58.600000</td>\n      <td>424.400000</td>\n      <td>259.400000</td>\n      <td>NaN</td>\n      <td>[15 10 29 3 15 11 15 6 2 2 2 10]</td>\n      <td>[3 2 0 1 3 2 1 3 2 1 2 3]</td>\n      <td>NaN</td>\n      <td>NaN</td>\n    </tr>\n    <tr>\n      <th>1</th>\n      <td>1</td>\n      <td>Article</td>\n      <td>Article</td>\n      <td>Y</td>\n      <td>601.5</td>\n      <td>16.000000</td>\n      <td>7.100000</td>\n      <td>4.300000</td>\n      <td>0.000000</td>\n      <td>0.000000</td>\n      <td>0.50</td>\n      <td>786.000000</td>\n      <td>558.600000</td>\n      <td>59.000000</td>\n      <td>551.700000</td>\n      <td>355.600000</td>\n      <td>NaN</td>\n      <td>[12 13 24 18 5 19 9 30]</td>\n      <td>[3 2 0 3 1 0 2 3]</td>\n      <td>NaN</td>\n      <td>NaN</td>\n    </tr>\n    <tr>\n      <th>2</th>\n      <td>0</td>\n      <td>0</td>\n      <td>front_nsga,tour_vio,rein_vio,vio_back,calc_montecarlo,100,1000,2,0.11,(0.04, 0.61, 0.77, 0.47)</td>\n      <td>X</td>\n      <td>450.3</td>\n      <td>64.166169</td>\n      <td>50.785666</td>\n      <td>3.454888</td>\n      <td>50.504525</td>\n      <td>41.777139</td>\n      <td>0.00</td>\n      <td>-1341.091013</td>\n      <td>-1748.990279</td>\n      <td>115.538121</td>\n      <td>-1747.204837</td>\n      <td>-2150.559735</td>\n      <td>-1747.204837</td>\n      <td>[30 20 31  3  7  5  2  2]</td>\n      <td>[3 2 0 1 3 0 1 0]</td>\n      <td>['2016-12-01' '2017-08-24' '2018-02-25' '2018-11-14' '2019-01-22'\\n '2019-04-30' '2019-07-19' '2019-09-15']</td>\n      <td>['2017-08-24' '2018-02-25' '2018-11-14' '2019-01-22' '2019-04-30'\\n '2019-07-19' '2019-09-15' '2019-11-13']</td>\n    </tr>\n    <tr>\n      <th>3</th>\n      <td>1</td>\n      <td>0</td>\n      <td>front_nsga,tour_vio,rein_vio,vio_back,calc_montecarlo,100,1000,2,0.11,(0.04, 0.61, 0.77, 0.47)</td>\n      <td>Y</td>\n      <td>533.1</td>\n      <td>63.421760</td>\n      <td>50.808951</td>\n      <td>3.476595</td>\n      <td>50.579543</td>\n      <td>40.949000</td>\n      <td>0.00</td>\n      <td>-1322.257905</td>\n      <td>-1689.774786</td>\n      <td>109.442779</td>\n      <td>-1692.037535</td>\n      <td>-2060.086832</td>\n      <td>-1692.037535</td>\n      <td>[30 20 24  3 11 26]</td>\n      <td>[3 2 0 1 0 3]</td>\n      <td>['2016-12-01' '2017-08-24' '2018-02-25' '2018-09-26' '2018-12-04'\\n '2019-04-05']</td>\n      <td>['2017-08-24' '2018-02-25' '2018-09-26' '2018-12-04' '2019-04-05'\\n '2019-11-29']</td>\n    </tr>\n  </tbody>\n</table>\n</div>"
     },
     "metadata": {},
     "execution_count": 32
    }
   ],
   "source": [
    "name=\"22-18\"\n",
    "result=pd.read_csv(root_path_analysis+name+'.csv')# Import from csv\n",
    "result"
   ]
  },
  {
   "source": [
    "- Results are inconsistent, given Objective 2"
   ],
   "cell_type": "markdown",
   "metadata": {}
  },
  {
   "cell_type": "code",
   "execution_count": 33,
   "metadata": {},
   "outputs": [
    {
     "output_type": "execute_result",
     "data": {
      "text/plain": [
       "   Unnamed: 0                    Batches           Products                       Objectives\n",
       "0           0  [30 20 31  3  7  5  2  2]  [3 2 0 1 3 0 1 0]  [  450.3        -1747.20483724]\n",
       "1           1     [30 20 24  3 10 14  3]    [3 2 0 1 0 3 0]  [  473.3        -1695.44579086]\n",
       "2           2  [30 20 30  3  7  5  2  3]  [3 2 0 1 3 0 1 3]  [  457.5        -1740.34593913]\n",
       "3           3     [30 20 24  3 11 15  3]    [3 2 0 1 0 3 0]  [  481.9        -1693.31501201]\n",
       "4           4     [30 20 24  3 11 14  4]    [3 2 0 1 0 3 1]  [  491.9        -1692.22190469]\n",
       "5           5        [30 20 24  3 11 26]      [3 2 0 1 0 3]  [  533.1        -1692.03753527]"
      ],
      "text/html": "<div>\n<style scoped>\n    .dataframe tbody tr th:only-of-type {\n        vertical-align: middle;\n    }\n\n    .dataframe tbody tr th {\n        vertical-align: top;\n    }\n\n    .dataframe thead th {\n        text-align: right;\n    }\n</style>\n<table border=\"1\" class=\"dataframe\">\n  <thead>\n    <tr style=\"text-align: right;\">\n      <th></th>\n      <th>Unnamed: 0</th>\n      <th>Batches</th>\n      <th>Products</th>\n      <th>Objectives</th>\n    </tr>\n  </thead>\n  <tbody>\n    <tr>\n      <th>0</th>\n      <td>0</td>\n      <td>[30 20 31  3  7  5  2  2]</td>\n      <td>[3 2 0 1 3 0 1 0]</td>\n      <td>[  450.3        -1747.20483724]</td>\n    </tr>\n    <tr>\n      <th>1</th>\n      <td>1</td>\n      <td>[30 20 24  3 10 14  3]</td>\n      <td>[3 2 0 1 0 3 0]</td>\n      <td>[  473.3        -1695.44579086]</td>\n    </tr>\n    <tr>\n      <th>2</th>\n      <td>2</td>\n      <td>[30 20 30  3  7  5  2  3]</td>\n      <td>[3 2 0 1 3 0 1 3]</td>\n      <td>[  457.5        -1740.34593913]</td>\n    </tr>\n    <tr>\n      <th>3</th>\n      <td>3</td>\n      <td>[30 20 24  3 11 15  3]</td>\n      <td>[3 2 0 1 0 3 0]</td>\n      <td>[  481.9        -1693.31501201]</td>\n    </tr>\n    <tr>\n      <th>4</th>\n      <td>4</td>\n      <td>[30 20 24  3 11 14  4]</td>\n      <td>[3 2 0 1 0 3 1]</td>\n      <td>[  491.9        -1692.22190469]</td>\n    </tr>\n    <tr>\n      <th>5</th>\n      <td>5</td>\n      <td>[30 20 24  3 11 26]</td>\n      <td>[3 2 0 1 0 3]</td>\n      <td>[  533.1        -1692.03753527]</td>\n    </tr>\n  </tbody>\n</table>\n</div>"
     },
     "metadata": {},
     "execution_count": 33
    }
   ],
   "source": [
    "results=pd.read_csv(root_path_analysis+name+\"solutions.csv\")# Import from csv\n",
    "results"
   ]
  },
  {
   "source": [
    "### 22/1 15\n",
    "- 22/1 15\n",
    "    - For each MC simulation the backlog and\n",
    "        - Monte Carlo simulations=1000\n",
    "        - 2 Executions, with 1000 generations\n",
    "        - Fix Objectives 2\n",
    "        - No solution without violations, passing all in front 0\n",
    "            - Violation is the median of the sum of backlogs per simulations\n",
    "            - P backlog is the Probability.\n",
    "                - Total time  9561.878085 Per execution 4780.9390425"
   ],
   "cell_type": "markdown",
   "metadata": {}
  },
  {
   "cell_type": "code",
   "execution_count": 34,
   "metadata": {},
   "outputs": [
    {
     "output_type": "execute_result",
     "data": {
      "text/plain": [
       "   Unnamed: 0 Execution                                                                                       Variation Solution  Total throughput [kg]  Max total backlog [kg]  Mean total backlog [kg]  std dev total backlog [kg]  Median total backlog [kg]  Min total backlog [kg]  P(total backlog ≤ 0 kg)  Max total inventory deficit [kg]  Mean total inventory deficit [kg]  std dev inventory deficit [kg]  Median total inventory deficit [kg]  Min total inventory deficit [kg]  Total Deficit [kg]                      Batches [un]              Product label                                                                                          Start of USP [date]                                                                                            End of DSP [date]\n",
       "0           0   Article                                                                                         Article        X                  539.3                8.200000                 0.200000                    0.600000                   0.000000                0.000000                     0.82                        683.400000                         432.600000                       58.600000                           424.400000                        259.400000                 NaN  [15 10 29 3 15 11 15 6 2 2 2 10]  [3 2 0 1 3 2 1 3 2 1 2 3]                                                                                                          NaN                                                                                                          NaN\n",
       "1           1   Article                                                                                         Article        Y                  601.5               16.000000                 7.100000                    4.300000                   0.000000                0.000000                     0.50                        786.000000                         558.600000                       59.000000                           551.700000                        355.600000                 NaN           [12 13 24 18 5 19 9 30]          [3 2 0 3 1 0 2 3]                                                                                                          NaN                                                                                                          NaN\n",
       "2           0         0  front_nsga,tour_vio,rein_vio,vio_back,calc_montecarlo,100,1000,2,0.11,(0.04, 0.61, 0.77, 0.47)        X                  458.1               58.714711                40.444283                    4.499825                  40.097304               29.028633                     0.00                        856.069344                         737.760747                       32.093467                           735.514895                        651.404219          735.514895         [10 30 36  2 13  3  2  5]          [2 3 0 1 2 3 1 3]  ['2016-12-01' '2017-04-02' '2017-12-17' '2018-10-10' '2018-12-07'\\n '2019-04-22' '2019-07-01' '2019-08-28']  ['2017-04-02' '2017-12-17' '2018-10-10' '2018-12-07' '2019-04-22'\\n '2019-07-01' '2019-08-28' '2019-11-27']\n",
       "3           1         0  front_nsga,tour_vio,rein_vio,vio_back,calc_montecarlo,100,1000,2,0.11,(0.04, 0.61, 0.77, 0.47)        Y                  502.9               56.497892                36.387959                    4.503859                  35.958707               26.158183                     0.00                        928.265703                         811.941909                       37.723353                           812.731303                        685.318593          812.731303               [25 17 19 26 14 10]              [3 0 2 0 3 1]                            ['2016-12-01' '2017-07-20' '2017-12-31' '2018-06-27' '2019-02-09'\\n '2019-07-06']                            ['2017-07-20' '2017-12-31' '2018-06-27' '2019-02-09' '2019-07-06'\\n '2019-11-29']"
      ],
      "text/html": "<div>\n<style scoped>\n    .dataframe tbody tr th:only-of-type {\n        vertical-align: middle;\n    }\n\n    .dataframe tbody tr th {\n        vertical-align: top;\n    }\n\n    .dataframe thead th {\n        text-align: right;\n    }\n</style>\n<table border=\"1\" class=\"dataframe\">\n  <thead>\n    <tr style=\"text-align: right;\">\n      <th></th>\n      <th>Unnamed: 0</th>\n      <th>Execution</th>\n      <th>Variation</th>\n      <th>Solution</th>\n      <th>Total throughput [kg]</th>\n      <th>Max total backlog [kg]</th>\n      <th>Mean total backlog [kg]</th>\n      <th>std dev total backlog [kg]</th>\n      <th>Median total backlog [kg]</th>\n      <th>Min total backlog [kg]</th>\n      <th>P(total backlog ≤ 0 kg)</th>\n      <th>Max total inventory deficit [kg]</th>\n      <th>Mean total inventory deficit [kg]</th>\n      <th>std dev inventory deficit [kg]</th>\n      <th>Median total inventory deficit [kg]</th>\n      <th>Min total inventory deficit [kg]</th>\n      <th>Total Deficit [kg]</th>\n      <th>Batches [un]</th>\n      <th>Product label</th>\n      <th>Start of USP [date]</th>\n      <th>End of DSP [date]</th>\n    </tr>\n  </thead>\n  <tbody>\n    <tr>\n      <th>0</th>\n      <td>0</td>\n      <td>Article</td>\n      <td>Article</td>\n      <td>X</td>\n      <td>539.3</td>\n      <td>8.200000</td>\n      <td>0.200000</td>\n      <td>0.600000</td>\n      <td>0.000000</td>\n      <td>0.000000</td>\n      <td>0.82</td>\n      <td>683.400000</td>\n      <td>432.600000</td>\n      <td>58.600000</td>\n      <td>424.400000</td>\n      <td>259.400000</td>\n      <td>NaN</td>\n      <td>[15 10 29 3 15 11 15 6 2 2 2 10]</td>\n      <td>[3 2 0 1 3 2 1 3 2 1 2 3]</td>\n      <td>NaN</td>\n      <td>NaN</td>\n    </tr>\n    <tr>\n      <th>1</th>\n      <td>1</td>\n      <td>Article</td>\n      <td>Article</td>\n      <td>Y</td>\n      <td>601.5</td>\n      <td>16.000000</td>\n      <td>7.100000</td>\n      <td>4.300000</td>\n      <td>0.000000</td>\n      <td>0.000000</td>\n      <td>0.50</td>\n      <td>786.000000</td>\n      <td>558.600000</td>\n      <td>59.000000</td>\n      <td>551.700000</td>\n      <td>355.600000</td>\n      <td>NaN</td>\n      <td>[12 13 24 18 5 19 9 30]</td>\n      <td>[3 2 0 3 1 0 2 3]</td>\n      <td>NaN</td>\n      <td>NaN</td>\n    </tr>\n    <tr>\n      <th>2</th>\n      <td>0</td>\n      <td>0</td>\n      <td>front_nsga,tour_vio,rein_vio,vio_back,calc_montecarlo,100,1000,2,0.11,(0.04, 0.61, 0.77, 0.47)</td>\n      <td>X</td>\n      <td>458.1</td>\n      <td>58.714711</td>\n      <td>40.444283</td>\n      <td>4.499825</td>\n      <td>40.097304</td>\n      <td>29.028633</td>\n      <td>0.00</td>\n      <td>856.069344</td>\n      <td>737.760747</td>\n      <td>32.093467</td>\n      <td>735.514895</td>\n      <td>651.404219</td>\n      <td>735.514895</td>\n      <td>[10 30 36  2 13  3  2  5]</td>\n      <td>[2 3 0 1 2 3 1 3]</td>\n      <td>['2016-12-01' '2017-04-02' '2017-12-17' '2018-10-10' '2018-12-07'\\n '2019-04-22' '2019-07-01' '2019-08-28']</td>\n      <td>['2017-04-02' '2017-12-17' '2018-10-10' '2018-12-07' '2019-04-22'\\n '2019-07-01' '2019-08-28' '2019-11-27']</td>\n    </tr>\n    <tr>\n      <th>3</th>\n      <td>1</td>\n      <td>0</td>\n      <td>front_nsga,tour_vio,rein_vio,vio_back,calc_montecarlo,100,1000,2,0.11,(0.04, 0.61, 0.77, 0.47)</td>\n      <td>Y</td>\n      <td>502.9</td>\n      <td>56.497892</td>\n      <td>36.387959</td>\n      <td>4.503859</td>\n      <td>35.958707</td>\n      <td>26.158183</td>\n      <td>0.00</td>\n      <td>928.265703</td>\n      <td>811.941909</td>\n      <td>37.723353</td>\n      <td>812.731303</td>\n      <td>685.318593</td>\n      <td>812.731303</td>\n      <td>[25 17 19 26 14 10]</td>\n      <td>[3 0 2 0 3 1]</td>\n      <td>['2016-12-01' '2017-07-20' '2017-12-31' '2018-06-27' '2019-02-09'\\n '2019-07-06']</td>\n      <td>['2017-07-20' '2017-12-31' '2018-06-27' '2019-02-09' '2019-07-06'\\n '2019-11-29']</td>\n    </tr>\n  </tbody>\n</table>\n</div>"
     },
     "metadata": {},
     "execution_count": 34
    }
   ],
   "source": [
    "name=\"22-115\"\n",
    "result=pd.read_csv(root_path_analysis+name+'.csv')# Import from csv\n",
    "result"
   ]
  },
  {
   "cell_type": "code",
   "execution_count": 35,
   "metadata": {},
   "outputs": [
    {
     "output_type": "execute_result",
     "data": {
      "text/plain": [
       "    Unnamed: 0                    Batches           Products                   Objectives\n",
       "0            0        [25 17 19 26 12 11]      [3 0 2 0 3 1]  [498.1        807.18070282]\n",
       "1            1        [24 18 19 26 13  9]      [3 0 2 0 3 1]  [488.8        801.25427807]\n",
       "2            2        [24 18 19 26 12 11]      [3 0 2 0 3 1]  [495.7        803.32132727]\n",
       "3            3        [25 17 19 25 14 10]      [3 0 2 0 3 1]  [499.8        809.45749757]\n",
       "4            4        [25 17 19 26 14 10]      [3 0 2 0 3 1]  [502.9        812.73130343]\n",
       "5            5        [24 18 19 26 12  9]      [3 0 2 0 3 1]      [483.3      798.829247]\n",
       "6            6        [25 18 19 26 12  7]      [3 0 2 0 3 1]  [476.4        798.45136044]\n",
       "7            7        [24 18 19 26 12 10]      [3 0 2 0 3 1]  [489.5        802.24410957]\n",
       "8            8  [10 30 36  2 12  3  3  6]  [2 3 0 1 2 3 1 3]  [464.9        738.67868421]\n",
       "9            9  [10 30 36  2 13  3  2  5]  [2 3 0 1 2 3 1 3]  [458.1        735.51489502]\n",
       "10          10  [10 30 36  2 13  3  2  6]  [2 3 0 1 2 3 1 3]  [463.6        737.22684873]\n",
       "11          11  [10 30 36  2 13  3  3  5]  [2 3 0 1 2 3 1 3]  [464.3        737.58964054]"
      ],
      "text/html": "<div>\n<style scoped>\n    .dataframe tbody tr th:only-of-type {\n        vertical-align: middle;\n    }\n\n    .dataframe tbody tr th {\n        vertical-align: top;\n    }\n\n    .dataframe thead th {\n        text-align: right;\n    }\n</style>\n<table border=\"1\" class=\"dataframe\">\n  <thead>\n    <tr style=\"text-align: right;\">\n      <th></th>\n      <th>Unnamed: 0</th>\n      <th>Batches</th>\n      <th>Products</th>\n      <th>Objectives</th>\n    </tr>\n  </thead>\n  <tbody>\n    <tr>\n      <th>0</th>\n      <td>0</td>\n      <td>[25 17 19 26 12 11]</td>\n      <td>[3 0 2 0 3 1]</td>\n      <td>[498.1        807.18070282]</td>\n    </tr>\n    <tr>\n      <th>1</th>\n      <td>1</td>\n      <td>[24 18 19 26 13  9]</td>\n      <td>[3 0 2 0 3 1]</td>\n      <td>[488.8        801.25427807]</td>\n    </tr>\n    <tr>\n      <th>2</th>\n      <td>2</td>\n      <td>[24 18 19 26 12 11]</td>\n      <td>[3 0 2 0 3 1]</td>\n      <td>[495.7        803.32132727]</td>\n    </tr>\n    <tr>\n      <th>3</th>\n      <td>3</td>\n      <td>[25 17 19 25 14 10]</td>\n      <td>[3 0 2 0 3 1]</td>\n      <td>[499.8        809.45749757]</td>\n    </tr>\n    <tr>\n      <th>4</th>\n      <td>4</td>\n      <td>[25 17 19 26 14 10]</td>\n      <td>[3 0 2 0 3 1]</td>\n      <td>[502.9        812.73130343]</td>\n    </tr>\n    <tr>\n      <th>5</th>\n      <td>5</td>\n      <td>[24 18 19 26 12  9]</td>\n      <td>[3 0 2 0 3 1]</td>\n      <td>[483.3      798.829247]</td>\n    </tr>\n    <tr>\n      <th>6</th>\n      <td>6</td>\n      <td>[25 18 19 26 12  7]</td>\n      <td>[3 0 2 0 3 1]</td>\n      <td>[476.4        798.45136044]</td>\n    </tr>\n    <tr>\n      <th>7</th>\n      <td>7</td>\n      <td>[24 18 19 26 12 10]</td>\n      <td>[3 0 2 0 3 1]</td>\n      <td>[489.5        802.24410957]</td>\n    </tr>\n    <tr>\n      <th>8</th>\n      <td>8</td>\n      <td>[10 30 36  2 12  3  3  6]</td>\n      <td>[2 3 0 1 2 3 1 3]</td>\n      <td>[464.9        738.67868421]</td>\n    </tr>\n    <tr>\n      <th>9</th>\n      <td>9</td>\n      <td>[10 30 36  2 13  3  2  5]</td>\n      <td>[2 3 0 1 2 3 1 3]</td>\n      <td>[458.1        735.51489502]</td>\n    </tr>\n    <tr>\n      <th>10</th>\n      <td>10</td>\n      <td>[10 30 36  2 13  3  2  6]</td>\n      <td>[2 3 0 1 2 3 1 3]</td>\n      <td>[463.6        737.22684873]</td>\n    </tr>\n    <tr>\n      <th>11</th>\n      <td>11</td>\n      <td>[10 30 36  2 13  3  3  5]</td>\n      <td>[2 3 0 1 2 3 1 3]</td>\n      <td>[464.3        737.58964054]</td>\n    </tr>\n  </tbody>\n</table>\n</div>"
     },
     "metadata": {},
     "execution_count": 35
    }
   ],
   "source": [
    "results=pd.read_csv(root_path_analysis+name+\"solutions.csv\")# Import from csv\n",
    "results"
   ]
  },
  {
   "source": [
    "1. Attributes analysis\n",
    "    - OK 'Total throughput [kg]',\n",
    "    - 'Max total backlog [kg]', \n",
    "        - Potencialmente alto\n",
    "    - 'Mean total backlog [kg]', \n",
    "    - 'std dev total backlog [kg]', \n",
    "    - 'Median total backlog [kg]', \n",
    "        - High values, need to develop an strategy to reduce it.\n",
    "            - Pode ser devido a minha reinversao de valores\n",
    "            - Different backlog calculus tests\n",
    "                - Test Contar cumulativamente as violacoes em todas as simulacoes de Monte como np.sum(np.median(distribution_sums_backlog) > 0),Backlog violations, para count_backlog_violations_j adds if is greater than 0\n",
    "                    - It did not worked, results are similar\n",
    "                - Test Count the number of month violations per simulation count_backlog_violations_j += np.sum(backlog_j>0), instead of counting 1 in case any violation happen.\n",
    "                    - It did not worked, backlog even increased\n",
    "                - Test Count a violation if median of a backlog_j>0: if np.median(backlog_j)>0: count_backlog_violations_j += 1\n",
    "                    - Fail, backlog keep high\n",
    "                - Test  Count a violation if median of a backlog_j>0: if np.median(backlog_j)>0: count_backlog_violations_j += 1 but higher number of Monte Carlo\n",
    "                    - Did not worked backlog reached values much higher\n",
    "                - Test Instead of count use the actual median of the sum of backlogs\n",
    "                    - Did not work, perhaps the problem is in my consolidation of population and not actually in the calculation.\n",
    "    - 'Min total backlog [kg]',\n",
    "        - High values\n",
    "    - 'P(total backlog ≤ 0 kg)', \n",
    "        - This is the Probability, fixed now\n",
    "    - OK 'Max total inventory deficit [kg]', \n",
    "    - OK 'Mean total inventory deficit [kg]', \n",
    "    - OK 'std dev inventory deficit [kg]', \n",
    "    - OK 'Median total inventory deficit [kg]', \n",
    "    - OK 'Min total inventory deficit [kg]', \n",
    "    - 'Total Deficit [kg]', \n",
    "    - 'Batches [un]', \n",
    "    - 'Product label', \n",
    "    - 'Start of USP [date]', \n",
    "    - 'End of DSP [date]']"
   ],
   "cell_type": "markdown",
   "metadata": {}
  },
  {
   "source": [
    "### 22/1 18\n",
    "- 22/1 18\n",
    "    - For each MC simulation the backlog and\n",
    "        - Monte Carlo simulations=1000\n",
    "        - 2 Executions, with 1000 generations\n",
    "        - Fix calculation of deficit= stock-target \n",
    "        - No solution without violations, passing all in front 0\n",
    "            - Violation is the median of the sum of backlogs per simulations\n",
    "            - P backlog is the Probability.\n",
    "                - Total time  2097.4725202 Per execution 1048.7362601"
   ],
   "cell_type": "markdown",
   "metadata": {}
  },
  {
   "cell_type": "code",
   "execution_count": 36,
   "metadata": {},
   "outputs": [
    {
     "output_type": "execute_result",
     "data": {
      "text/plain": [
       "   Unnamed: 0 Execution                                                                                       Variation Solution  Total throughput [kg]  Max total backlog [kg]  Mean total backlog [kg]  std dev total backlog [kg]  Median total backlog [kg]  Min total backlog [kg]  P(total backlog ≤ 0 kg)  Max total inventory deficit [kg]  Mean total inventory deficit [kg]  std dev inventory deficit [kg]  Median total inventory deficit [kg]  Min total inventory deficit [kg]  Total Deficit [kg]                      Batches [un]              Product label                                                                             Start of USP [date]                                                                               End of DSP [date]\n",
       "0           0   Article                                                                                         Article        X                  539.3                8.200000                 0.200000                    0.600000                   0.000000                0.000000                     0.82                        683.400000                         432.600000                       58.600000                           424.400000                        259.400000                 NaN  [15 10 29 3 15 11 15 6 2 2 2 10]  [3 2 0 1 3 2 1 3 2 1 2 3]                                                                                             NaN                                                                                             NaN\n",
       "1           1   Article                                                                                         Article        Y                  601.5               16.000000                 7.100000                    4.300000                   0.000000                0.000000                     0.50                        786.000000                         558.600000                       59.000000                           551.700000                        355.600000                 NaN           [12 13 24 18 5 19 9 30]          [3 2 0 3 1 0 2 3]                                                                                             NaN                                                                                             NaN\n",
       "2           0         0  front_nsga,tour_vio,rein_vio,vio_back,calc_montecarlo,100,1000,2,0.11,(0.04, 0.61, 0.77, 0.47)        X                  449.3               61.734997                48.320071                    3.380438                  48.073781               40.078824                     0.00                       2200.444933                        1895.913103                       79.691755                          1897.213504                       1676.618448         1897.213504            [30 33 16  3 11  7  2]            [3 0 2 1 0 3 1]  ['2016-12-01' '2017-08-24' '2018-05-27' '2018-10-31' '2019-01-08'\\n '2019-05-10' '2019-08-16']  ['2017-08-24' '2018-05-27' '2018-10-31' '2019-01-08' '2019-05-10'\\n '2019-08-16' '2019-10-13']\n",
       "3           1         0  front_nsga,tour_vio,rein_vio,vio_back,calc_montecarlo,100,1000,2,0.11,(0.04, 0.61, 0.77, 0.47)        Y                  518.8               58.871901                48.235724                    3.253262                  48.057831               39.496082                     0.00                       2318.891339                        2000.441099                       89.513476                          1998.180032                       1761.966502         1998.180032               [31 33 17  4  9 20]              [3 0 2 1 0 3]               ['2016-12-01' '2017-08-31' '2018-06-03' '2018-11-14' '2019-02-02'\\n '2019-05-21']               ['2017-08-31' '2018-06-03' '2018-11-14' '2019-02-02' '2019-05-21'\\n '2019-11-26']"
      ],
      "text/html": "<div>\n<style scoped>\n    .dataframe tbody tr th:only-of-type {\n        vertical-align: middle;\n    }\n\n    .dataframe tbody tr th {\n        vertical-align: top;\n    }\n\n    .dataframe thead th {\n        text-align: right;\n    }\n</style>\n<table border=\"1\" class=\"dataframe\">\n  <thead>\n    <tr style=\"text-align: right;\">\n      <th></th>\n      <th>Unnamed: 0</th>\n      <th>Execution</th>\n      <th>Variation</th>\n      <th>Solution</th>\n      <th>Total throughput [kg]</th>\n      <th>Max total backlog [kg]</th>\n      <th>Mean total backlog [kg]</th>\n      <th>std dev total backlog [kg]</th>\n      <th>Median total backlog [kg]</th>\n      <th>Min total backlog [kg]</th>\n      <th>P(total backlog ≤ 0 kg)</th>\n      <th>Max total inventory deficit [kg]</th>\n      <th>Mean total inventory deficit [kg]</th>\n      <th>std dev inventory deficit [kg]</th>\n      <th>Median total inventory deficit [kg]</th>\n      <th>Min total inventory deficit [kg]</th>\n      <th>Total Deficit [kg]</th>\n      <th>Batches [un]</th>\n      <th>Product label</th>\n      <th>Start of USP [date]</th>\n      <th>End of DSP [date]</th>\n    </tr>\n  </thead>\n  <tbody>\n    <tr>\n      <th>0</th>\n      <td>0</td>\n      <td>Article</td>\n      <td>Article</td>\n      <td>X</td>\n      <td>539.3</td>\n      <td>8.200000</td>\n      <td>0.200000</td>\n      <td>0.600000</td>\n      <td>0.000000</td>\n      <td>0.000000</td>\n      <td>0.82</td>\n      <td>683.400000</td>\n      <td>432.600000</td>\n      <td>58.600000</td>\n      <td>424.400000</td>\n      <td>259.400000</td>\n      <td>NaN</td>\n      <td>[15 10 29 3 15 11 15 6 2 2 2 10]</td>\n      <td>[3 2 0 1 3 2 1 3 2 1 2 3]</td>\n      <td>NaN</td>\n      <td>NaN</td>\n    </tr>\n    <tr>\n      <th>1</th>\n      <td>1</td>\n      <td>Article</td>\n      <td>Article</td>\n      <td>Y</td>\n      <td>601.5</td>\n      <td>16.000000</td>\n      <td>7.100000</td>\n      <td>4.300000</td>\n      <td>0.000000</td>\n      <td>0.000000</td>\n      <td>0.50</td>\n      <td>786.000000</td>\n      <td>558.600000</td>\n      <td>59.000000</td>\n      <td>551.700000</td>\n      <td>355.600000</td>\n      <td>NaN</td>\n      <td>[12 13 24 18 5 19 9 30]</td>\n      <td>[3 2 0 3 1 0 2 3]</td>\n      <td>NaN</td>\n      <td>NaN</td>\n    </tr>\n    <tr>\n      <th>2</th>\n      <td>0</td>\n      <td>0</td>\n      <td>front_nsga,tour_vio,rein_vio,vio_back,calc_montecarlo,100,1000,2,0.11,(0.04, 0.61, 0.77, 0.47)</td>\n      <td>X</td>\n      <td>449.3</td>\n      <td>61.734997</td>\n      <td>48.320071</td>\n      <td>3.380438</td>\n      <td>48.073781</td>\n      <td>40.078824</td>\n      <td>0.00</td>\n      <td>2200.444933</td>\n      <td>1895.913103</td>\n      <td>79.691755</td>\n      <td>1897.213504</td>\n      <td>1676.618448</td>\n      <td>1897.213504</td>\n      <td>[30 33 16  3 11  7  2]</td>\n      <td>[3 0 2 1 0 3 1]</td>\n      <td>['2016-12-01' '2017-08-24' '2018-05-27' '2018-10-31' '2019-01-08'\\n '2019-05-10' '2019-08-16']</td>\n      <td>['2017-08-24' '2018-05-27' '2018-10-31' '2019-01-08' '2019-05-10'\\n '2019-08-16' '2019-10-13']</td>\n    </tr>\n    <tr>\n      <th>3</th>\n      <td>1</td>\n      <td>0</td>\n      <td>front_nsga,tour_vio,rein_vio,vio_back,calc_montecarlo,100,1000,2,0.11,(0.04, 0.61, 0.77, 0.47)</td>\n      <td>Y</td>\n      <td>518.8</td>\n      <td>58.871901</td>\n      <td>48.235724</td>\n      <td>3.253262</td>\n      <td>48.057831</td>\n      <td>39.496082</td>\n      <td>0.00</td>\n      <td>2318.891339</td>\n      <td>2000.441099</td>\n      <td>89.513476</td>\n      <td>1998.180032</td>\n      <td>1761.966502</td>\n      <td>1998.180032</td>\n      <td>[31 33 17  4  9 20]</td>\n      <td>[3 0 2 1 0 3]</td>\n      <td>['2016-12-01' '2017-08-31' '2018-06-03' '2018-11-14' '2019-02-02'\\n '2019-05-21']</td>\n      <td>['2017-08-31' '2018-06-03' '2018-11-14' '2019-02-02' '2019-05-21'\\n '2019-11-26']</td>\n    </tr>\n  </tbody>\n</table>\n</div>"
     },
     "metadata": {},
     "execution_count": 36
    }
   ],
   "source": [
    "name=\"22-118\"\n",
    "result=pd.read_csv(root_path_analysis+name+'.csv')# Import from csv\n",
    "result"
   ]
  },
  {
   "cell_type": "code",
   "execution_count": 37,
   "metadata": {},
   "outputs": [
    {
     "output_type": "execute_result",
     "data": {
      "text/plain": [
       "   Unnamed: 0                 Batches         Products                     Objectives\n",
       "0           0     [30 34 18  3  9 20]    [3 0 2 1 0 3]  [ 515.1        1963.38745798]\n",
       "1           1     [30 33 17  3 10 20]    [3 0 2 1 0 3]    [ 510.2       1911.1846871]\n",
       "2           2     [31 33 17  4  9 20]    [3 0 2 1 0 3]  [ 518.8        1998.18003155]\n",
       "3           3     [31 33 17  3 11 20]    [3 0 2 1 0 3]  [ 518.8        1973.85699662]\n",
       "4           4  [30 33 16  3 11  7  2]  [3 0 2 1 0 3 1]  [ 449.3        1897.21350371]\n",
       "5           5     [30 33 18  3 11 19]    [3 0 2 1 0 3]  [ 512.7        1955.94650069]"
      ],
      "text/html": "<div>\n<style scoped>\n    .dataframe tbody tr th:only-of-type {\n        vertical-align: middle;\n    }\n\n    .dataframe tbody tr th {\n        vertical-align: top;\n    }\n\n    .dataframe thead th {\n        text-align: right;\n    }\n</style>\n<table border=\"1\" class=\"dataframe\">\n  <thead>\n    <tr style=\"text-align: right;\">\n      <th></th>\n      <th>Unnamed: 0</th>\n      <th>Batches</th>\n      <th>Products</th>\n      <th>Objectives</th>\n    </tr>\n  </thead>\n  <tbody>\n    <tr>\n      <th>0</th>\n      <td>0</td>\n      <td>[30 34 18  3  9 20]</td>\n      <td>[3 0 2 1 0 3]</td>\n      <td>[ 515.1        1963.38745798]</td>\n    </tr>\n    <tr>\n      <th>1</th>\n      <td>1</td>\n      <td>[30 33 17  3 10 20]</td>\n      <td>[3 0 2 1 0 3]</td>\n      <td>[ 510.2       1911.1846871]</td>\n    </tr>\n    <tr>\n      <th>2</th>\n      <td>2</td>\n      <td>[31 33 17  4  9 20]</td>\n      <td>[3 0 2 1 0 3]</td>\n      <td>[ 518.8        1998.18003155]</td>\n    </tr>\n    <tr>\n      <th>3</th>\n      <td>3</td>\n      <td>[31 33 17  3 11 20]</td>\n      <td>[3 0 2 1 0 3]</td>\n      <td>[ 518.8        1973.85699662]</td>\n    </tr>\n    <tr>\n      <th>4</th>\n      <td>4</td>\n      <td>[30 33 16  3 11  7  2]</td>\n      <td>[3 0 2 1 0 3 1]</td>\n      <td>[ 449.3        1897.21350371]</td>\n    </tr>\n    <tr>\n      <th>5</th>\n      <td>5</td>\n      <td>[30 33 18  3 11 19]</td>\n      <td>[3 0 2 1 0 3]</td>\n      <td>[ 512.7        1955.94650069]</td>\n    </tr>\n  </tbody>\n</table>\n</div>"
     },
     "metadata": {},
     "execution_count": 37
    }
   ],
   "source": [
    "results=pd.read_csv(root_path_analysis+name+\"solutions.csv\")# Import from csv\n",
    "results"
   ]
  },
  {
   "source": [
    "### 23/1 16\n",
    "- 23/1 16\n",
    "    - For each MC simulation the backlog and\n",
    "        - Monte Carlo simulations=1000\n",
    "        - 2 Executions, with 1000 generations\n",
    "        - Fix calculation of deficit= stock-target \n",
    "        - Fix fix index correction stock (from stock_j[0]to stock_j[k]) in calc_distributions_monte_carlo\n",
    "        - No solution without violations, passing all in front 0\n",
    "            - Violation is the median of the sum of backlogs per simulations\n",
    "            - P backlog is the Probability.\n",
    "                - 1884.0851008 Per execution 942.0425504"
   ],
   "cell_type": "markdown",
   "metadata": {}
  },
  {
   "cell_type": "code",
   "execution_count": 38,
   "metadata": {},
   "outputs": [
    {
     "output_type": "execute_result",
     "data": {
      "text/plain": [
       "   Unnamed: 0 Execution                                                                                       Variation Solution  Total throughput [kg]  Max total backlog [kg]  Mean total backlog [kg]  std dev total backlog [kg]  Median total backlog [kg]  Min total backlog [kg]  P(total backlog ≤ 0 kg)  Max total inventory deficit [kg]  Mean total inventory deficit [kg]  std dev inventory deficit [kg]  Median total inventory deficit [kg]  Min total inventory deficit [kg]  Total Deficit [kg]                      Batches [un]              Product label                                                                                          Start of USP [date]                                                                                            End of DSP [date]\n",
       "0           0   Article                                                                                         Article        X                  539.3                8.200000                 0.200000                    0.600000                   0.000000                0.000000                     0.82                        683.400000                         432.600000                       58.600000                           424.400000                        259.400000                 NaN  [15 10 29 3 15 11 15 6 2 2 2 10]  [3 2 0 1 3 2 1 3 2 1 2 3]                                                                                                          NaN                                                                                                          NaN\n",
       "1           1   Article                                                                                         Article        Y                  601.5               16.000000                 7.100000                    4.300000                   0.000000                0.000000                     0.50                        786.000000                         558.600000                       59.000000                           551.700000                        355.600000                 NaN           [12 13 24 18 5 19 9 30]          [3 2 0 3 1 0 2 3]                                                                                                          NaN                                                                                                          NaN\n",
       "2           0         0  front_nsga,tour_vio,rein_vio,vio_back,calc_montecarlo,100,1000,2,0.11,(0.04, 0.61, 0.77, 0.47)        X                  448.4               62.120430                50.233088                    3.272254                  49.968725               41.221795                     0.00                        697.097763                         564.965405                       26.494969                           560.980658                        493.252188          560.980658         [30 19 34  2  3  7  2  3]          [3 2 0 1 3 2 1 0]  ['2016-12-01' '2017-08-24' '2018-02-18' '2018-11-28' '2019-01-25'\\n '2019-04-05' '2019-07-08' '2019-09-04']  ['2017-08-24' '2018-02-18' '2018-11-28' '2019-01-25' '2019-04-05'\\n '2019-07-08' '2019-09-04' '2019-11-09']\n",
       "3           1         0  front_nsga,tour_vio,rein_vio,vio_back,calc_montecarlo,100,1000,2,0.11,(0.04, 0.61, 0.77, 0.47)        Y                  480.1               63.670981                50.064573                    3.260846                  49.937765               40.755532                     0.00                        689.684133                         579.535827                       25.006872                           576.493624                        514.514032          576.493624            [31 17 35  4  5  8  5]            [3 2 0 1 2 3 2]               ['2016-12-01' '2017-08-31' '2018-02-11' '2018-11-28' '2019-02-16'\\n '2019-05-07' '2019-08-20']               ['2017-08-31' '2018-02-11' '2018-11-28' '2019-02-16' '2019-05-07'\\n '2019-08-20' '2019-11-08']"
      ],
      "text/html": "<div>\n<style scoped>\n    .dataframe tbody tr th:only-of-type {\n        vertical-align: middle;\n    }\n\n    .dataframe tbody tr th {\n        vertical-align: top;\n    }\n\n    .dataframe thead th {\n        text-align: right;\n    }\n</style>\n<table border=\"1\" class=\"dataframe\">\n  <thead>\n    <tr style=\"text-align: right;\">\n      <th></th>\n      <th>Unnamed: 0</th>\n      <th>Execution</th>\n      <th>Variation</th>\n      <th>Solution</th>\n      <th>Total throughput [kg]</th>\n      <th>Max total backlog [kg]</th>\n      <th>Mean total backlog [kg]</th>\n      <th>std dev total backlog [kg]</th>\n      <th>Median total backlog [kg]</th>\n      <th>Min total backlog [kg]</th>\n      <th>P(total backlog ≤ 0 kg)</th>\n      <th>Max total inventory deficit [kg]</th>\n      <th>Mean total inventory deficit [kg]</th>\n      <th>std dev inventory deficit [kg]</th>\n      <th>Median total inventory deficit [kg]</th>\n      <th>Min total inventory deficit [kg]</th>\n      <th>Total Deficit [kg]</th>\n      <th>Batches [un]</th>\n      <th>Product label</th>\n      <th>Start of USP [date]</th>\n      <th>End of DSP [date]</th>\n    </tr>\n  </thead>\n  <tbody>\n    <tr>\n      <th>0</th>\n      <td>0</td>\n      <td>Article</td>\n      <td>Article</td>\n      <td>X</td>\n      <td>539.3</td>\n      <td>8.200000</td>\n      <td>0.200000</td>\n      <td>0.600000</td>\n      <td>0.000000</td>\n      <td>0.000000</td>\n      <td>0.82</td>\n      <td>683.400000</td>\n      <td>432.600000</td>\n      <td>58.600000</td>\n      <td>424.400000</td>\n      <td>259.400000</td>\n      <td>NaN</td>\n      <td>[15 10 29 3 15 11 15 6 2 2 2 10]</td>\n      <td>[3 2 0 1 3 2 1 3 2 1 2 3]</td>\n      <td>NaN</td>\n      <td>NaN</td>\n    </tr>\n    <tr>\n      <th>1</th>\n      <td>1</td>\n      <td>Article</td>\n      <td>Article</td>\n      <td>Y</td>\n      <td>601.5</td>\n      <td>16.000000</td>\n      <td>7.100000</td>\n      <td>4.300000</td>\n      <td>0.000000</td>\n      <td>0.000000</td>\n      <td>0.50</td>\n      <td>786.000000</td>\n      <td>558.600000</td>\n      <td>59.000000</td>\n      <td>551.700000</td>\n      <td>355.600000</td>\n      <td>NaN</td>\n      <td>[12 13 24 18 5 19 9 30]</td>\n      <td>[3 2 0 3 1 0 2 3]</td>\n      <td>NaN</td>\n      <td>NaN</td>\n    </tr>\n    <tr>\n      <th>2</th>\n      <td>0</td>\n      <td>0</td>\n      <td>front_nsga,tour_vio,rein_vio,vio_back,calc_montecarlo,100,1000,2,0.11,(0.04, 0.61, 0.77, 0.47)</td>\n      <td>X</td>\n      <td>448.4</td>\n      <td>62.120430</td>\n      <td>50.233088</td>\n      <td>3.272254</td>\n      <td>49.968725</td>\n      <td>41.221795</td>\n      <td>0.00</td>\n      <td>697.097763</td>\n      <td>564.965405</td>\n      <td>26.494969</td>\n      <td>560.980658</td>\n      <td>493.252188</td>\n      <td>560.980658</td>\n      <td>[30 19 34  2  3  7  2  3]</td>\n      <td>[3 2 0 1 3 2 1 0]</td>\n      <td>['2016-12-01' '2017-08-24' '2018-02-18' '2018-11-28' '2019-01-25'\\n '2019-04-05' '2019-07-08' '2019-09-04']</td>\n      <td>['2017-08-24' '2018-02-18' '2018-11-28' '2019-01-25' '2019-04-05'\\n '2019-07-08' '2019-09-04' '2019-11-09']</td>\n    </tr>\n    <tr>\n      <th>3</th>\n      <td>1</td>\n      <td>0</td>\n      <td>front_nsga,tour_vio,rein_vio,vio_back,calc_montecarlo,100,1000,2,0.11,(0.04, 0.61, 0.77, 0.47)</td>\n      <td>Y</td>\n      <td>480.1</td>\n      <td>63.670981</td>\n      <td>50.064573</td>\n      <td>3.260846</td>\n      <td>49.937765</td>\n      <td>40.755532</td>\n      <td>0.00</td>\n      <td>689.684133</td>\n      <td>579.535827</td>\n      <td>25.006872</td>\n      <td>576.493624</td>\n      <td>514.514032</td>\n      <td>576.493624</td>\n      <td>[31 17 35  4  5  8  5]</td>\n      <td>[3 2 0 1 2 3 2]</td>\n      <td>['2016-12-01' '2017-08-31' '2018-02-11' '2018-11-28' '2019-02-16'\\n '2019-05-07' '2019-08-20']</td>\n      <td>['2017-08-31' '2018-02-11' '2018-11-28' '2019-02-16' '2019-05-07'\\n '2019-08-20' '2019-11-08']</td>\n    </tr>\n  </tbody>\n</table>\n</div>"
     },
     "metadata": {},
     "execution_count": 38
    }
   ],
   "source": [
    "name=\"23-116\"\n",
    "result=pd.read_csv(root_path_analysis+name+'.csv')# Import from csv\n",
    "result"
   ]
  },
  {
   "cell_type": "code",
   "execution_count": 39,
   "metadata": {},
   "outputs": [
    {
     "output_type": "execute_result",
     "data": {
      "text/plain": [
       "   Unnamed: 0                    Batches           Products                   Objectives\n",
       "0           0  [30 19 34  2  6  3  3  2]  [3 2 0 1 3 2 1 2]    [452.        561.1837759]\n",
       "1           1     [31 17 35  4  5  8  5]    [3 2 0 1 2 3 2]  [480.1        576.49362412]\n",
       "2           2     [30 18 34  3  3  8  6]    [3 2 0 1 3 2 1]  [470.1        563.47970471]\n",
       "3           3  [30 19 34  2  3  7  2  3]  [3 2 0 1 3 2 1 0]  [448.4        560.98065837]\n",
       "4           4  [30 18 34  3  3  5  3  5]  [3 2 0 1 3 2 1 2]  [461.3        561.80641417]"
      ],
      "text/html": "<div>\n<style scoped>\n    .dataframe tbody tr th:only-of-type {\n        vertical-align: middle;\n    }\n\n    .dataframe tbody tr th {\n        vertical-align: top;\n    }\n\n    .dataframe thead th {\n        text-align: right;\n    }\n</style>\n<table border=\"1\" class=\"dataframe\">\n  <thead>\n    <tr style=\"text-align: right;\">\n      <th></th>\n      <th>Unnamed: 0</th>\n      <th>Batches</th>\n      <th>Products</th>\n      <th>Objectives</th>\n    </tr>\n  </thead>\n  <tbody>\n    <tr>\n      <th>0</th>\n      <td>0</td>\n      <td>[30 19 34  2  6  3  3  2]</td>\n      <td>[3 2 0 1 3 2 1 2]</td>\n      <td>[452.        561.1837759]</td>\n    </tr>\n    <tr>\n      <th>1</th>\n      <td>1</td>\n      <td>[31 17 35  4  5  8  5]</td>\n      <td>[3 2 0 1 2 3 2]</td>\n      <td>[480.1        576.49362412]</td>\n    </tr>\n    <tr>\n      <th>2</th>\n      <td>2</td>\n      <td>[30 18 34  3  3  8  6]</td>\n      <td>[3 2 0 1 3 2 1]</td>\n      <td>[470.1        563.47970471]</td>\n    </tr>\n    <tr>\n      <th>3</th>\n      <td>3</td>\n      <td>[30 19 34  2  3  7  2  3]</td>\n      <td>[3 2 0 1 3 2 1 0]</td>\n      <td>[448.4        560.98065837]</td>\n    </tr>\n    <tr>\n      <th>4</th>\n      <td>4</td>\n      <td>[30 18 34  3  3  5  3  5]</td>\n      <td>[3 2 0 1 3 2 1 2]</td>\n      <td>[461.3        561.80641417]</td>\n    </tr>\n  </tbody>\n</table>\n</div>"
     },
     "metadata": {},
     "execution_count": 39
    }
   ],
   "source": [
    "results=pd.read_csv(root_path_analysis+name+\"solutions.csv\")# Import from csv\n",
    "results"
   ]
  },
  {
   "source": [
    "### 26/1 12\n",
    "- 26/1 12\n",
    "    - For each MC simulation the backlog and\n",
    "        - Monte Carlo simulations=1000\n",
    "        - 2 Executions, with 1000 generations\n",
    "        - Modify calc_front and calc_crowding_distance, addying two texting functions\n",
    "        - No solution without violations, passing all in front 0\n",
    "            - Violation is the median of the sum of backlogs per simulations\n",
    "            - P backlog is the Probability.\n",
    "                Total time  2294.3896318 Per execution 1147.1948159"
   ],
   "cell_type": "markdown",
   "metadata": {}
  },
  {
   "cell_type": "code",
   "execution_count": 40,
   "metadata": {},
   "outputs": [
    {
     "output_type": "execute_result",
     "data": {
      "text/plain": [
       "   Unnamed: 0 Execution                                                                                       Variation Solution  Total throughput [kg]  Max total backlog [kg]  Mean total backlog [kg]  std dev total backlog [kg]  Median total backlog [kg]  Min total backlog [kg]  P(total backlog ≤ 0 kg)  Max total inventory deficit [kg]  Mean total inventory deficit [kg]  std dev inventory deficit [kg]  Median total inventory deficit [kg]  Min total inventory deficit [kg]  Total Deficit [kg]                      Batches [un]              Product label                                                                             Start of USP [date]                                                                               End of DSP [date]\n",
       "0           0   Article                                                                                         Article        X                  539.3                8.200000                 0.200000                    0.600000                   0.000000                0.000000                     0.82                        683.400000                         432.600000                       58.600000                           424.400000                        259.400000                 NaN  [15 10 29 3 15 11 15 6 2 2 2 10]  [3 2 0 1 3 2 1 3 2 1 2 3]                                                                                             NaN                                                                                             NaN\n",
       "1           1   Article                                                                                         Article        Y                  601.5               16.000000                 7.100000                    4.300000                   0.000000                0.000000                     0.50                        786.000000                         558.600000                       59.000000                           551.700000                        355.600000                 NaN           [12 13 24 18 5 19 9 30]          [3 2 0 3 1 0 2 3]                                                                                             NaN                                                                                             NaN\n",
       "2           0         0  front_nsga,tour_vio,rein_vio,vio_back,calc_montecarlo,100,1000,2,0.11,(0.04, 0.61, 0.77, 0.47)        X                  470.5               52.030213                38.488784                    3.105367                  38.316114               30.485878                     0.00                        753.037828                         640.362614                       35.380574                           637.988373                        555.326088          637.988373            [26 12 38 11 12  4  2]            [3 2 0 2 3 1 0]  ['2016-12-01' '2017-07-27' '2017-12-03' '2018-10-10' '2019-02-09'\\n '2019-06-22' '2019-09-10']  ['2017-07-27' '2017-12-03' '2018-10-10' '2019-02-09' '2019-06-22'\\n '2019-09-10' '2019-11-08']\n",
       "3           1         0  front_nsga,tour_vio,rein_vio,vio_back,calc_montecarlo,100,1000,2,0.11,(0.04, 0.61, 0.77, 0.47)        Y                  505.2               51.820980                38.355721                    2.904738                  38.242124               30.880565                     0.00                        756.930323                         654.514408                       36.335542                           652.346193                        546.976469          652.346193               [26 11 39 11 13 10]              [3 2 0 2 3 1]               ['2016-12-01' '2017-07-27' '2017-11-26' '2018-10-10' '2019-02-09'\\n '2019-06-29']               ['2017-07-27' '2017-11-26' '2018-10-10' '2019-02-09' '2019-06-29'\\n '2019-11-22']"
      ],
      "text/html": "<div>\n<style scoped>\n    .dataframe tbody tr th:only-of-type {\n        vertical-align: middle;\n    }\n\n    .dataframe tbody tr th {\n        vertical-align: top;\n    }\n\n    .dataframe thead th {\n        text-align: right;\n    }\n</style>\n<table border=\"1\" class=\"dataframe\">\n  <thead>\n    <tr style=\"text-align: right;\">\n      <th></th>\n      <th>Unnamed: 0</th>\n      <th>Execution</th>\n      <th>Variation</th>\n      <th>Solution</th>\n      <th>Total throughput [kg]</th>\n      <th>Max total backlog [kg]</th>\n      <th>Mean total backlog [kg]</th>\n      <th>std dev total backlog [kg]</th>\n      <th>Median total backlog [kg]</th>\n      <th>Min total backlog [kg]</th>\n      <th>P(total backlog ≤ 0 kg)</th>\n      <th>Max total inventory deficit [kg]</th>\n      <th>Mean total inventory deficit [kg]</th>\n      <th>std dev inventory deficit [kg]</th>\n      <th>Median total inventory deficit [kg]</th>\n      <th>Min total inventory deficit [kg]</th>\n      <th>Total Deficit [kg]</th>\n      <th>Batches [un]</th>\n      <th>Product label</th>\n      <th>Start of USP [date]</th>\n      <th>End of DSP [date]</th>\n    </tr>\n  </thead>\n  <tbody>\n    <tr>\n      <th>0</th>\n      <td>0</td>\n      <td>Article</td>\n      <td>Article</td>\n      <td>X</td>\n      <td>539.3</td>\n      <td>8.200000</td>\n      <td>0.200000</td>\n      <td>0.600000</td>\n      <td>0.000000</td>\n      <td>0.000000</td>\n      <td>0.82</td>\n      <td>683.400000</td>\n      <td>432.600000</td>\n      <td>58.600000</td>\n      <td>424.400000</td>\n      <td>259.400000</td>\n      <td>NaN</td>\n      <td>[15 10 29 3 15 11 15 6 2 2 2 10]</td>\n      <td>[3 2 0 1 3 2 1 3 2 1 2 3]</td>\n      <td>NaN</td>\n      <td>NaN</td>\n    </tr>\n    <tr>\n      <th>1</th>\n      <td>1</td>\n      <td>Article</td>\n      <td>Article</td>\n      <td>Y</td>\n      <td>601.5</td>\n      <td>16.000000</td>\n      <td>7.100000</td>\n      <td>4.300000</td>\n      <td>0.000000</td>\n      <td>0.000000</td>\n      <td>0.50</td>\n      <td>786.000000</td>\n      <td>558.600000</td>\n      <td>59.000000</td>\n      <td>551.700000</td>\n      <td>355.600000</td>\n      <td>NaN</td>\n      <td>[12 13 24 18 5 19 9 30]</td>\n      <td>[3 2 0 3 1 0 2 3]</td>\n      <td>NaN</td>\n      <td>NaN</td>\n    </tr>\n    <tr>\n      <th>2</th>\n      <td>0</td>\n      <td>0</td>\n      <td>front_nsga,tour_vio,rein_vio,vio_back,calc_montecarlo,100,1000,2,0.11,(0.04, 0.61, 0.77, 0.47)</td>\n      <td>X</td>\n      <td>470.5</td>\n      <td>52.030213</td>\n      <td>38.488784</td>\n      <td>3.105367</td>\n      <td>38.316114</td>\n      <td>30.485878</td>\n      <td>0.00</td>\n      <td>753.037828</td>\n      <td>640.362614</td>\n      <td>35.380574</td>\n      <td>637.988373</td>\n      <td>555.326088</td>\n      <td>637.988373</td>\n      <td>[26 12 38 11 12  4  2]</td>\n      <td>[3 2 0 2 3 1 0]</td>\n      <td>['2016-12-01' '2017-07-27' '2017-12-03' '2018-10-10' '2019-02-09'\\n '2019-06-22' '2019-09-10']</td>\n      <td>['2017-07-27' '2017-12-03' '2018-10-10' '2019-02-09' '2019-06-22'\\n '2019-09-10' '2019-11-08']</td>\n    </tr>\n    <tr>\n      <th>3</th>\n      <td>1</td>\n      <td>0</td>\n      <td>front_nsga,tour_vio,rein_vio,vio_back,calc_montecarlo,100,1000,2,0.11,(0.04, 0.61, 0.77, 0.47)</td>\n      <td>Y</td>\n      <td>505.2</td>\n      <td>51.820980</td>\n      <td>38.355721</td>\n      <td>2.904738</td>\n      <td>38.242124</td>\n      <td>30.880565</td>\n      <td>0.00</td>\n      <td>756.930323</td>\n      <td>654.514408</td>\n      <td>36.335542</td>\n      <td>652.346193</td>\n      <td>546.976469</td>\n      <td>652.346193</td>\n      <td>[26 11 39 11 13 10]</td>\n      <td>[3 2 0 2 3 1]</td>\n      <td>['2016-12-01' '2017-07-27' '2017-11-26' '2018-10-10' '2019-02-09'\\n '2019-06-29']</td>\n      <td>['2017-07-27' '2017-11-26' '2018-10-10' '2019-02-09' '2019-06-29'\\n '2019-11-22']</td>\n    </tr>\n  </tbody>\n</table>\n</div>"
     },
     "metadata": {},
     "execution_count": 40
    }
   ],
   "source": [
    "name=\"26-112\"\n",
    "result=pd.read_csv(root_path_analysis+name+'.csv')# Import from csv\n",
    "result"
   ]
  },
  {
   "cell_type": "code",
   "execution_count": 41,
   "metadata": {},
   "outputs": [
    {
     "output_type": "execute_result",
     "data": {
      "text/plain": [
       "   Unnamed: 0                 Batches         Products                   Objectives\n",
       "0           0     [26 11 39 11 12 10]    [3 2 0 2 3 1]  [499.7        649.54922123]\n",
       "1           1     [26 11 39 11 13 10]    [3 2 0 2 3 1]  [505.2        652.34619305]\n",
       "2           2     [26 11 38 11 13  9]    [3 2 0 2 3 1]  [495.9        641.20057234]\n",
       "3           3  [26 12 38 11 12  4  2]  [3 2 0 2 3 1 0]  [470.5        637.98837254]\n",
       "4           4  [26 11 38 12 12  5  3]  [3 2 0 2 3 1 3]  [487.         638.99037879]\n",
       "5           5  [26 11 38 12 12  5  2]  [3 2 0 2 3 1 0]  [476.7        638.64694314]\n",
       "6           6     [26 11 38 11 12  7]    [3 2 0 2 3 1]  [478.         638.97711229]"
      ],
      "text/html": "<div>\n<style scoped>\n    .dataframe tbody tr th:only-of-type {\n        vertical-align: middle;\n    }\n\n    .dataframe tbody tr th {\n        vertical-align: top;\n    }\n\n    .dataframe thead th {\n        text-align: right;\n    }\n</style>\n<table border=\"1\" class=\"dataframe\">\n  <thead>\n    <tr style=\"text-align: right;\">\n      <th></th>\n      <th>Unnamed: 0</th>\n      <th>Batches</th>\n      <th>Products</th>\n      <th>Objectives</th>\n    </tr>\n  </thead>\n  <tbody>\n    <tr>\n      <th>0</th>\n      <td>0</td>\n      <td>[26 11 39 11 12 10]</td>\n      <td>[3 2 0 2 3 1]</td>\n      <td>[499.7        649.54922123]</td>\n    </tr>\n    <tr>\n      <th>1</th>\n      <td>1</td>\n      <td>[26 11 39 11 13 10]</td>\n      <td>[3 2 0 2 3 1]</td>\n      <td>[505.2        652.34619305]</td>\n    </tr>\n    <tr>\n      <th>2</th>\n      <td>2</td>\n      <td>[26 11 38 11 13  9]</td>\n      <td>[3 2 0 2 3 1]</td>\n      <td>[495.9        641.20057234]</td>\n    </tr>\n    <tr>\n      <th>3</th>\n      <td>3</td>\n      <td>[26 12 38 11 12  4  2]</td>\n      <td>[3 2 0 2 3 1 0]</td>\n      <td>[470.5        637.98837254]</td>\n    </tr>\n    <tr>\n      <th>4</th>\n      <td>4</td>\n      <td>[26 11 38 12 12  5  3]</td>\n      <td>[3 2 0 2 3 1 3]</td>\n      <td>[487.         638.99037879]</td>\n    </tr>\n    <tr>\n      <th>5</th>\n      <td>5</td>\n      <td>[26 11 38 12 12  5  2]</td>\n      <td>[3 2 0 2 3 1 0]</td>\n      <td>[476.7        638.64694314]</td>\n    </tr>\n    <tr>\n      <th>6</th>\n      <td>6</td>\n      <td>[26 11 38 11 12  7]</td>\n      <td>[3 2 0 2 3 1]</td>\n      <td>[478.         638.97711229]</td>\n    </tr>\n  </tbody>\n</table>\n</div>"
     },
     "metadata": {},
     "execution_count": 41
    }
   ],
   "source": [
    "results=pd.read_csv(root_path_analysis+name+\"solutions.csv\")# Import from csv\n",
    "results"
   ]
  },
  {
   "source": [
    "### 27/1 21\n",
    "- 27/1 21\n",
    "    - For each MC simulation the backlog and\n",
    "        - Monte Carlo simulations=1000\n",
    "        - 2 Executions, with 1000 generations\n",
    "        - Add unittest to crossover\n",
    "        - No solution without violations, passing all in front 0\n",
    "            - Violation is the median of the sum of backlogs per simulations\n",
    "            - P backlog is the Probability.\n",
    "                - 1884.0851008 Per execution 942.0425504"
   ],
   "cell_type": "markdown",
   "metadata": {}
  },
  {
   "cell_type": "code",
   "execution_count": 42,
   "metadata": {},
   "outputs": [
    {
     "output_type": "execute_result",
     "data": {
      "text/plain": [
       "   Unnamed: 0 Execution                                                                                       Variation Solution  Total throughput [kg]  Max total backlog [kg]  Mean total backlog [kg]  std dev total backlog [kg]  Median total backlog [kg]  Min total backlog [kg]  P(total backlog ≤ 0 kg)  Max total inventory deficit [kg]  Mean total inventory deficit [kg]  std dev inventory deficit [kg]  Median total inventory deficit [kg]  Min total inventory deficit [kg]  Total Deficit [kg]                      Batches [un]              Product label                                                                             Start of USP [date]                                                                               End of DSP [date]\n",
       "0           0   Article                                                                                         Article        X                  539.3                8.200000                 0.200000                     0.60000                   0.000000                0.000000                     0.82                        683.400000                         432.600000                       58.600000                           424.400000                        259.400000                 NaN  [15 10 29 3 15 11 15 6 2 2 2 10]  [3 2 0 1 3 2 1 3 2 1 2 3]                                                                                             NaN                                                                                             NaN\n",
       "1           1   Article                                                                                         Article        Y                  601.5               16.000000                 7.100000                     4.30000                   0.000000                0.000000                     0.50                        786.000000                         558.600000                       59.000000                           551.700000                        355.600000                 NaN           [12 13 24 18 5 19 9 30]          [3 2 0 3 1 0 2 3]                                                                                             NaN                                                                                             NaN\n",
       "2           0         0  front_nsga,tour_vio,rein_vio,vio_back,calc_montecarlo,100,1000,2,0.11,(0.04, 0.61, 0.77, 0.47)        X                  483.1               67.681865                56.762703                     3.26648                  56.640037               47.409992                     0.00                        660.552846                         567.434298                       20.755159                           564.097746                        522.873113          564.097746            [30 18 39  4  7  2  7]            [3 2 0 2 3 1 3]  ['2016-12-01' '2017-08-24' '2018-02-11' '2018-12-26' '2019-03-09'\\n '2019-06-15' '2019-08-12']  ['2017-08-24' '2018-02-11' '2018-12-26' '2019-03-09' '2019-06-15'\\n '2019-08-12' '2019-11-25']\n",
       "3           1         0  front_nsga,tour_vio,rein_vio,vio_back,calc_montecarlo,100,1000,2,0.11,(0.04, 0.61, 0.77, 0.47)        Y                  518.8               60.813378                48.245754                     3.07738                  48.055925               39.045802                     0.00                        723.834464                         611.683116                       30.730434                           610.057532                        526.100464          610.057532               [31 30 17  3 14 20]              [3 0 2 1 0 3]               ['2016-12-01' '2017-08-31' '2018-05-13' '2018-10-24' '2019-01-01'\\n '2019-05-24']               ['2017-08-31' '2018-05-13' '2018-10-24' '2019-01-01' '2019-05-24'\\n '2019-11-29']"
      ],
      "text/html": "<div>\n<style scoped>\n    .dataframe tbody tr th:only-of-type {\n        vertical-align: middle;\n    }\n\n    .dataframe tbody tr th {\n        vertical-align: top;\n    }\n\n    .dataframe thead th {\n        text-align: right;\n    }\n</style>\n<table border=\"1\" class=\"dataframe\">\n  <thead>\n    <tr style=\"text-align: right;\">\n      <th></th>\n      <th>Unnamed: 0</th>\n      <th>Execution</th>\n      <th>Variation</th>\n      <th>Solution</th>\n      <th>Total throughput [kg]</th>\n      <th>Max total backlog [kg]</th>\n      <th>Mean total backlog [kg]</th>\n      <th>std dev total backlog [kg]</th>\n      <th>Median total backlog [kg]</th>\n      <th>Min total backlog [kg]</th>\n      <th>P(total backlog ≤ 0 kg)</th>\n      <th>Max total inventory deficit [kg]</th>\n      <th>Mean total inventory deficit [kg]</th>\n      <th>std dev inventory deficit [kg]</th>\n      <th>Median total inventory deficit [kg]</th>\n      <th>Min total inventory deficit [kg]</th>\n      <th>Total Deficit [kg]</th>\n      <th>Batches [un]</th>\n      <th>Product label</th>\n      <th>Start of USP [date]</th>\n      <th>End of DSP [date]</th>\n    </tr>\n  </thead>\n  <tbody>\n    <tr>\n      <th>0</th>\n      <td>0</td>\n      <td>Article</td>\n      <td>Article</td>\n      <td>X</td>\n      <td>539.3</td>\n      <td>8.200000</td>\n      <td>0.200000</td>\n      <td>0.60000</td>\n      <td>0.000000</td>\n      <td>0.000000</td>\n      <td>0.82</td>\n      <td>683.400000</td>\n      <td>432.600000</td>\n      <td>58.600000</td>\n      <td>424.400000</td>\n      <td>259.400000</td>\n      <td>NaN</td>\n      <td>[15 10 29 3 15 11 15 6 2 2 2 10]</td>\n      <td>[3 2 0 1 3 2 1 3 2 1 2 3]</td>\n      <td>NaN</td>\n      <td>NaN</td>\n    </tr>\n    <tr>\n      <th>1</th>\n      <td>1</td>\n      <td>Article</td>\n      <td>Article</td>\n      <td>Y</td>\n      <td>601.5</td>\n      <td>16.000000</td>\n      <td>7.100000</td>\n      <td>4.30000</td>\n      <td>0.000000</td>\n      <td>0.000000</td>\n      <td>0.50</td>\n      <td>786.000000</td>\n      <td>558.600000</td>\n      <td>59.000000</td>\n      <td>551.700000</td>\n      <td>355.600000</td>\n      <td>NaN</td>\n      <td>[12 13 24 18 5 19 9 30]</td>\n      <td>[3 2 0 3 1 0 2 3]</td>\n      <td>NaN</td>\n      <td>NaN</td>\n    </tr>\n    <tr>\n      <th>2</th>\n      <td>0</td>\n      <td>0</td>\n      <td>front_nsga,tour_vio,rein_vio,vio_back,calc_montecarlo,100,1000,2,0.11,(0.04, 0.61, 0.77, 0.47)</td>\n      <td>X</td>\n      <td>483.1</td>\n      <td>67.681865</td>\n      <td>56.762703</td>\n      <td>3.26648</td>\n      <td>56.640037</td>\n      <td>47.409992</td>\n      <td>0.00</td>\n      <td>660.552846</td>\n      <td>567.434298</td>\n      <td>20.755159</td>\n      <td>564.097746</td>\n      <td>522.873113</td>\n      <td>564.097746</td>\n      <td>[30 18 39  4  7  2  7]</td>\n      <td>[3 2 0 2 3 1 3]</td>\n      <td>['2016-12-01' '2017-08-24' '2018-02-11' '2018-12-26' '2019-03-09'\\n '2019-06-15' '2019-08-12']</td>\n      <td>['2017-08-24' '2018-02-11' '2018-12-26' '2019-03-09' '2019-06-15'\\n '2019-08-12' '2019-11-25']</td>\n    </tr>\n    <tr>\n      <th>3</th>\n      <td>1</td>\n      <td>0</td>\n      <td>front_nsga,tour_vio,rein_vio,vio_back,calc_montecarlo,100,1000,2,0.11,(0.04, 0.61, 0.77, 0.47)</td>\n      <td>Y</td>\n      <td>518.8</td>\n      <td>60.813378</td>\n      <td>48.245754</td>\n      <td>3.07738</td>\n      <td>48.055925</td>\n      <td>39.045802</td>\n      <td>0.00</td>\n      <td>723.834464</td>\n      <td>611.683116</td>\n      <td>30.730434</td>\n      <td>610.057532</td>\n      <td>526.100464</td>\n      <td>610.057532</td>\n      <td>[31 30 17  3 14 20]</td>\n      <td>[3 0 2 1 0 3]</td>\n      <td>['2016-12-01' '2017-08-31' '2018-05-13' '2018-10-24' '2019-01-01'\\n '2019-05-24']</td>\n      <td>['2017-08-31' '2018-05-13' '2018-10-24' '2019-01-01' '2019-05-24'\\n '2019-11-29']</td>\n    </tr>\n  </tbody>\n</table>\n</div>"
     },
     "metadata": {},
     "execution_count": 42
    }
   ],
   "source": [
    "name=\"27-121\"\n",
    "result=pd.read_csv(root_path_analysis+name+'.csv')# Import from csv\n",
    "result"
   ]
  },
  {
   "cell_type": "code",
   "execution_count": 43,
   "metadata": {},
   "outputs": [
    {
     "output_type": "execute_result",
     "data": {
      "text/plain": [
       "   Unnamed: 0                 Batches         Products                   Objectives\n",
       "0           0     [31 32 17  3 11 20]    [3 0 2 1 0 3]  [515.7        599.18198185]\n",
       "1           1     [31 33 17  3 11 19]    [3 0 2 1 0 3]  [513.3        593.57579066]\n",
       "2           2     [31 30 17  3 14 20]    [3 0 2 1 0 3]  [518.8        610.05753151]\n",
       "3           3  [30 18 39  4  7  2  7]  [3 2 0 2 3 1 3]  [483.1        564.09774595]\n",
       "4           4     [30 19 40  3  7 11]    [3 2 0 2 3 1]  [503.5        580.94874625]\n",
       "5           5  [31 18 39  4  7  3  5]  [3 2 0 2 3 1 3]  [483.8        576.83885825]\n",
       "6           6     [30 18 40  3  7 11]    [3 2 0 2 3 1]  [498.6        576.92678934]"
      ],
      "text/html": "<div>\n<style scoped>\n    .dataframe tbody tr th:only-of-type {\n        vertical-align: middle;\n    }\n\n    .dataframe tbody tr th {\n        vertical-align: top;\n    }\n\n    .dataframe thead th {\n        text-align: right;\n    }\n</style>\n<table border=\"1\" class=\"dataframe\">\n  <thead>\n    <tr style=\"text-align: right;\">\n      <th></th>\n      <th>Unnamed: 0</th>\n      <th>Batches</th>\n      <th>Products</th>\n      <th>Objectives</th>\n    </tr>\n  </thead>\n  <tbody>\n    <tr>\n      <th>0</th>\n      <td>0</td>\n      <td>[31 32 17  3 11 20]</td>\n      <td>[3 0 2 1 0 3]</td>\n      <td>[515.7        599.18198185]</td>\n    </tr>\n    <tr>\n      <th>1</th>\n      <td>1</td>\n      <td>[31 33 17  3 11 19]</td>\n      <td>[3 0 2 1 0 3]</td>\n      <td>[513.3        593.57579066]</td>\n    </tr>\n    <tr>\n      <th>2</th>\n      <td>2</td>\n      <td>[31 30 17  3 14 20]</td>\n      <td>[3 0 2 1 0 3]</td>\n      <td>[518.8        610.05753151]</td>\n    </tr>\n    <tr>\n      <th>3</th>\n      <td>3</td>\n      <td>[30 18 39  4  7  2  7]</td>\n      <td>[3 2 0 2 3 1 3]</td>\n      <td>[483.1        564.09774595]</td>\n    </tr>\n    <tr>\n      <th>4</th>\n      <td>4</td>\n      <td>[30 19 40  3  7 11]</td>\n      <td>[3 2 0 2 3 1]</td>\n      <td>[503.5        580.94874625]</td>\n    </tr>\n    <tr>\n      <th>5</th>\n      <td>5</td>\n      <td>[31 18 39  4  7  3  5]</td>\n      <td>[3 2 0 2 3 1 3]</td>\n      <td>[483.8        576.83885825]</td>\n    </tr>\n    <tr>\n      <th>6</th>\n      <td>6</td>\n      <td>[30 18 40  3  7 11]</td>\n      <td>[3 2 0 2 3 1]</td>\n      <td>[498.6        576.92678934]</td>\n    </tr>\n  </tbody>\n</table>\n</div>"
     },
     "metadata": {},
     "execution_count": 43
    }
   ],
   "source": [
    "results=pd.read_csv(root_path_analysis+name+\"solutions.csv\")# Import from csv\n",
    "results"
   ]
  },
  {
   "source": [
    "### 28/1 13\n",
    "- 28/1 13\n",
    "    - For each MC simulation the backlog and\n",
    "        - Monte Carlo simulations=1000\n",
    "        - 20 Executions, with 1000 generations\n",
    "        - Add unittest to initial population generation\n",
    "        - No solution without violations, passing all in front 0\n",
    "            - Violation is the median of the sum of backlogs per simulations\n",
    "            - P backlog is the Probability.\n",
    "                - 1884.0851008 Per execution 942.0425504"
   ],
   "cell_type": "markdown",
   "metadata": {}
  },
  {
   "cell_type": "code",
   "execution_count": 44,
   "metadata": {},
   "outputs": [
    {
     "output_type": "execute_result",
     "data": {
      "text/plain": [
       "   Unnamed: 0 Execution                                                                                       Variation Solution  Total throughput [kg]  Max total backlog [kg]  Mean total backlog [kg]  std dev total backlog [kg]  Median total backlog [kg]  Min total backlog [kg]  P(total backlog ≤ 0 kg)  Max total inventory deficit [kg]  Mean total inventory deficit [kg]  std dev inventory deficit [kg]  Median total inventory deficit [kg]  Min total inventory deficit [kg]  Total Deficit [kg]                      Batches [un]              Product label                                                                             Start of USP [date]                                                                               End of DSP [date]\n",
       "0           0   Article                                                                                         Article        X                  539.3                8.200000                 0.200000                    0.600000                   0.000000                0.000000                     0.82                        683.400000                         432.600000                       58.600000                           424.400000                        259.400000                 NaN  [15 10 29 3 15 11 15 6 2 2 2 10]  [3 2 0 1 3 2 1 3 2 1 2 3]                                                                                             NaN                                                                                             NaN\n",
       "1           1   Article                                                                                         Article        Y                  601.5               16.000000                 7.100000                    4.300000                   0.000000                0.000000                     0.50                        786.000000                         558.600000                       59.000000                           551.700000                        355.600000                 NaN           [12 13 24 18 5 19 9 30]          [3 2 0 3 1 0 2 3]                                                                                             NaN                                                                                             NaN\n",
       "2           0         0  front_nsga,tour_vio,rein_vio,vio_back,calc_montecarlo,100,1000,2,0.11,(0.04, 0.61, 0.77, 0.47)        X                  453.9               63.053631                48.335199                    3.470553                  48.073379               38.432174                     0.00                        730.057929                         588.151409                       31.438363                           584.215845                        505.119187          584.215845            [30 34 17  2  9  3  7]            [3 0 2 1 0 3 1]  ['2016-12-01' '2017-08-24' '2018-06-03' '2018-11-14' '2019-01-11'\\n '2019-04-29' '2019-07-08']  ['2017-08-24' '2018-06-03' '2018-11-14' '2019-01-11' '2019-04-29'\\n '2019-07-08' '2019-10-29']\n",
       "3           1         0  front_nsga,tour_vio,rein_vio,vio_back,calc_montecarlo,100,1000,2,0.11,(0.04, 0.61, 0.77, 0.47)        Y                  563.2               54.445038                44.865265                    2.904949                  44.793080               35.576273                     0.00                        719.324120                         613.863098                       31.994416                           612.532959                        514.541323          612.532959                  [27 22 34  5 31]                [3 2 0 1 3]                              ['2016-12-01' '2017-08-03' '2018-02-18' '2018-11-28' '2019-02-27']                              ['2017-08-03' '2018-02-18' '2018-11-28' '2019-02-27' '2019-11-20']"
      ],
      "text/html": "<div>\n<style scoped>\n    .dataframe tbody tr th:only-of-type {\n        vertical-align: middle;\n    }\n\n    .dataframe tbody tr th {\n        vertical-align: top;\n    }\n\n    .dataframe thead th {\n        text-align: right;\n    }\n</style>\n<table border=\"1\" class=\"dataframe\">\n  <thead>\n    <tr style=\"text-align: right;\">\n      <th></th>\n      <th>Unnamed: 0</th>\n      <th>Execution</th>\n      <th>Variation</th>\n      <th>Solution</th>\n      <th>Total throughput [kg]</th>\n      <th>Max total backlog [kg]</th>\n      <th>Mean total backlog [kg]</th>\n      <th>std dev total backlog [kg]</th>\n      <th>Median total backlog [kg]</th>\n      <th>Min total backlog [kg]</th>\n      <th>P(total backlog ≤ 0 kg)</th>\n      <th>Max total inventory deficit [kg]</th>\n      <th>Mean total inventory deficit [kg]</th>\n      <th>std dev inventory deficit [kg]</th>\n      <th>Median total inventory deficit [kg]</th>\n      <th>Min total inventory deficit [kg]</th>\n      <th>Total Deficit [kg]</th>\n      <th>Batches [un]</th>\n      <th>Product label</th>\n      <th>Start of USP [date]</th>\n      <th>End of DSP [date]</th>\n    </tr>\n  </thead>\n  <tbody>\n    <tr>\n      <th>0</th>\n      <td>0</td>\n      <td>Article</td>\n      <td>Article</td>\n      <td>X</td>\n      <td>539.3</td>\n      <td>8.200000</td>\n      <td>0.200000</td>\n      <td>0.600000</td>\n      <td>0.000000</td>\n      <td>0.000000</td>\n      <td>0.82</td>\n      <td>683.400000</td>\n      <td>432.600000</td>\n      <td>58.600000</td>\n      <td>424.400000</td>\n      <td>259.400000</td>\n      <td>NaN</td>\n      <td>[15 10 29 3 15 11 15 6 2 2 2 10]</td>\n      <td>[3 2 0 1 3 2 1 3 2 1 2 3]</td>\n      <td>NaN</td>\n      <td>NaN</td>\n    </tr>\n    <tr>\n      <th>1</th>\n      <td>1</td>\n      <td>Article</td>\n      <td>Article</td>\n      <td>Y</td>\n      <td>601.5</td>\n      <td>16.000000</td>\n      <td>7.100000</td>\n      <td>4.300000</td>\n      <td>0.000000</td>\n      <td>0.000000</td>\n      <td>0.50</td>\n      <td>786.000000</td>\n      <td>558.600000</td>\n      <td>59.000000</td>\n      <td>551.700000</td>\n      <td>355.600000</td>\n      <td>NaN</td>\n      <td>[12 13 24 18 5 19 9 30]</td>\n      <td>[3 2 0 3 1 0 2 3]</td>\n      <td>NaN</td>\n      <td>NaN</td>\n    </tr>\n    <tr>\n      <th>2</th>\n      <td>0</td>\n      <td>0</td>\n      <td>front_nsga,tour_vio,rein_vio,vio_back,calc_montecarlo,100,1000,2,0.11,(0.04, 0.61, 0.77, 0.47)</td>\n      <td>X</td>\n      <td>453.9</td>\n      <td>63.053631</td>\n      <td>48.335199</td>\n      <td>3.470553</td>\n      <td>48.073379</td>\n      <td>38.432174</td>\n      <td>0.00</td>\n      <td>730.057929</td>\n      <td>588.151409</td>\n      <td>31.438363</td>\n      <td>584.215845</td>\n      <td>505.119187</td>\n      <td>584.215845</td>\n      <td>[30 34 17  2  9  3  7]</td>\n      <td>[3 0 2 1 0 3 1]</td>\n      <td>['2016-12-01' '2017-08-24' '2018-06-03' '2018-11-14' '2019-01-11'\\n '2019-04-29' '2019-07-08']</td>\n      <td>['2017-08-24' '2018-06-03' '2018-11-14' '2019-01-11' '2019-04-29'\\n '2019-07-08' '2019-10-29']</td>\n    </tr>\n    <tr>\n      <th>3</th>\n      <td>1</td>\n      <td>0</td>\n      <td>front_nsga,tour_vio,rein_vio,vio_back,calc_montecarlo,100,1000,2,0.11,(0.04, 0.61, 0.77, 0.47)</td>\n      <td>Y</td>\n      <td>563.2</td>\n      <td>54.445038</td>\n      <td>44.865265</td>\n      <td>2.904949</td>\n      <td>44.793080</td>\n      <td>35.576273</td>\n      <td>0.00</td>\n      <td>719.324120</td>\n      <td>613.863098</td>\n      <td>31.994416</td>\n      <td>612.532959</td>\n      <td>514.541323</td>\n      <td>612.532959</td>\n      <td>[27 22 34  5 31]</td>\n      <td>[3 2 0 1 3]</td>\n      <td>['2016-12-01' '2017-08-03' '2018-02-18' '2018-11-28' '2019-02-27']</td>\n      <td>['2017-08-03' '2018-02-18' '2018-11-28' '2019-02-27' '2019-11-20']</td>\n    </tr>\n  </tbody>\n</table>\n</div>"
     },
     "metadata": {},
     "execution_count": 44
    }
   ],
   "source": [
    "name=\"28-113\"\n",
    "result=pd.read_csv(root_path_analysis+name+'.csv')# Import from csv\n",
    "result"
   ]
  },
  {
   "cell_type": "code",
   "execution_count": 45,
   "metadata": {},
   "outputs": [
    {
     "output_type": "execute_result",
     "data": {
      "text/plain": [
       "   Unnamed: 0                 Batches         Products                   Objectives\n",
       "0           0     [30 33 16  3 14 18]    [3 0 2 1 0 3]  [506.7        593.05863715]\n",
       "1           1     [30 32 17  3 13 20]    [3 0 2 1 0 3]  [516.4        595.16085049]\n",
       "2           2  [31 33 17  2 10  3  7]  [3 0 2 1 0 3 1]  [459.4        590.63566703]\n",
       "3           3  [30 34 17  2  9  3  7]  [3 0 2 1 0 3 1]  [453.9        584.21584491]\n",
       "4           4        [27 22 34  3 30]      [3 2 0 1 3]  [545.3        597.53420306]\n",
       "5           5        [27 22 34  5 30]      [3 2 0 1 3]  [557.7        611.99178946]\n",
       "6           6        [27 22 34  4 30]      [3 2 0 1 3]  [551.5        605.27671911]\n",
       "7           7        [27 22 34  5 31]      [3 2 0 1 3]  [563.2        612.53295895]\n",
       "8           8        [27 22 34  4 31]      [3 2 0 1 3]  [557.         606.34972742]\n",
       "9           9        [27 22 34  3 31]      [3 2 0 1 3]  [550.8        597.91438128]"
      ],
      "text/html": "<div>\n<style scoped>\n    .dataframe tbody tr th:only-of-type {\n        vertical-align: middle;\n    }\n\n    .dataframe tbody tr th {\n        vertical-align: top;\n    }\n\n    .dataframe thead th {\n        text-align: right;\n    }\n</style>\n<table border=\"1\" class=\"dataframe\">\n  <thead>\n    <tr style=\"text-align: right;\">\n      <th></th>\n      <th>Unnamed: 0</th>\n      <th>Batches</th>\n      <th>Products</th>\n      <th>Objectives</th>\n    </tr>\n  </thead>\n  <tbody>\n    <tr>\n      <th>0</th>\n      <td>0</td>\n      <td>[30 33 16  3 14 18]</td>\n      <td>[3 0 2 1 0 3]</td>\n      <td>[506.7        593.05863715]</td>\n    </tr>\n    <tr>\n      <th>1</th>\n      <td>1</td>\n      <td>[30 32 17  3 13 20]</td>\n      <td>[3 0 2 1 0 3]</td>\n      <td>[516.4        595.16085049]</td>\n    </tr>\n    <tr>\n      <th>2</th>\n      <td>2</td>\n      <td>[31 33 17  2 10  3  7]</td>\n      <td>[3 0 2 1 0 3 1]</td>\n      <td>[459.4        590.63566703]</td>\n    </tr>\n    <tr>\n      <th>3</th>\n      <td>3</td>\n      <td>[30 34 17  2  9  3  7]</td>\n      <td>[3 0 2 1 0 3 1]</td>\n      <td>[453.9        584.21584491]</td>\n    </tr>\n    <tr>\n      <th>4</th>\n      <td>4</td>\n      <td>[27 22 34  3 30]</td>\n      <td>[3 2 0 1 3]</td>\n      <td>[545.3        597.53420306]</td>\n    </tr>\n    <tr>\n      <th>5</th>\n      <td>5</td>\n      <td>[27 22 34  5 30]</td>\n      <td>[3 2 0 1 3]</td>\n      <td>[557.7        611.99178946]</td>\n    </tr>\n    <tr>\n      <th>6</th>\n      <td>6</td>\n      <td>[27 22 34  4 30]</td>\n      <td>[3 2 0 1 3]</td>\n      <td>[551.5        605.27671911]</td>\n    </tr>\n    <tr>\n      <th>7</th>\n      <td>7</td>\n      <td>[27 22 34  5 31]</td>\n      <td>[3 2 0 1 3]</td>\n      <td>[563.2        612.53295895]</td>\n    </tr>\n    <tr>\n      <th>8</th>\n      <td>8</td>\n      <td>[27 22 34  4 31]</td>\n      <td>[3 2 0 1 3]</td>\n      <td>[557.         606.34972742]</td>\n    </tr>\n    <tr>\n      <th>9</th>\n      <td>9</td>\n      <td>[27 22 34  3 31]</td>\n      <td>[3 2 0 1 3]</td>\n      <td>[550.8        597.91438128]</td>\n    </tr>\n  </tbody>\n</table>\n</div>"
     },
     "metadata": {},
     "execution_count": 45
    }
   ],
   "source": [
    "results=pd.read_csv(root_path_analysis+name+\"solutions.csv\")# Import from csv\n",
    "results"
   ]
  },
  {
   "source": [
    "### 29/1 16\n",
    "- 29/1 16\n",
    "    - For each MC simulation the backlog and\n",
    "        - Monte Carlo simulations=1000\n",
    "        - 2 Executions, with 1000 generations\n",
    "        - Add unittest to test calc_start_end\n",
    "        - No solution without violations, passing all in front 0\n",
    "            - Violation is the median of the sum of backlogs per simulations\n",
    "            - P backlog is the Probability.\n",
    "                - 1884.0851008 Per execution 942.0425504"
   ],
   "cell_type": "markdown",
   "metadata": {}
  },
  {
   "cell_type": "code",
   "execution_count": 46,
   "metadata": {},
   "outputs": [
    {
     "output_type": "execute_result",
     "data": {
      "text/plain": [
       "   Unnamed: 0 Execution                                                                                       Variation Solution  Total throughput [kg]  Max total backlog [kg]  Mean total backlog [kg]  std dev total backlog [kg]  Median total backlog [kg]  Min total backlog [kg]  P(total backlog ≤ 0 kg)  Max total inventory deficit [kg]  Mean total inventory deficit [kg]  std dev inventory deficit [kg]  Median total inventory deficit [kg]  Min total inventory deficit [kg]  Total Deficit [kg]                        Batches [un]              Product label                                                                                                                Start of USP [date]                                                                                                                  End of DSP [date]\n",
       "0           0   Article                                                                                         Article        X                  539.3                8.200000                 0.200000                    0.600000                   0.000000                0.000000                    0.820                        683.400000                         432.600000                       58.600000                           424.400000                        259.400000                 NaN    [15 10 29 3 15 11 15 6 2 2 2 10]  [3 2 0 1 3 2 1 3 2 1 2 3]                                                                                                                                NaN                                                                                                                                NaN\n",
       "1           1   Article                                                                                         Article        Y                  601.5               16.000000                 7.100000                    4.300000                   0.000000                0.000000                    0.500                        786.000000                         558.600000                       59.000000                           551.700000                        355.600000                 NaN             [12 13 24 18 5 19 9 30]          [3 2 0 3 1 0 2 3]                                                                                                                                NaN                                                                                                                                NaN\n",
       "2           0         0  front_nsga,tour_vio,rein_vio,vio_back,calc_montecarlo,100,1000,2,0.11,(0.04, 0.61, 0.77, 0.47)        X                  556.5               13.747251                 5.260480                    1.850286                   5.095699                0.735413                    0.000                        639.334741                         504.265308                       43.727730                           503.402716                        384.526231          503.402716  [20  7 32  3  7 16  9 13  3  4  9]    [3 2 0 1 2 3 2 0 1 2 3]  ['2016-12-01' '2017-05-12' '2017-07-16' '2018-03-16' '2018-04-25'\\n '2018-06-29' '2018-11-10' '2019-01-28' '2019-05-18' '2019-...  ['2017-06-08' '2017-08-14' '2018-04-11' '2018-05-24' '2018-07-28'\\n '2018-12-07' '2019-02-26' '2019-06-13' '2019-07-26' '2019-...\n",
       "3           1         0  front_nsga,tour_vio,rein_vio,vio_back,calc_montecarlo,100,1000,2,0.11,(0.04, 0.61, 0.77, 0.47)        Y                  570.5               16.590039                 3.815983                    3.123530                   3.254217                0.000000                    0.096                        713.777806                         574.888968                       47.373258                           574.555986                        412.966865          574.555986     [18  6 33  4  6 15 10 12  2 19]      [3 2 0 1 2 3 2 0 1 3]  ['2016-12-01' '2017-04-28' '2017-06-25' '2018-03-02' '2018-04-22'\\n '2018-06-19' '2018-10-24' '2019-01-18' '2019-05-01' '2019-...  ['2017-05-25' '2017-07-24' '2018-03-28' '2018-05-21' '2018-07-18'\\n '2018-11-20' '2019-02-16' '2019-05-27' '2019-06-28' '2019-..."
      ],
      "text/html": "<div>\n<style scoped>\n    .dataframe tbody tr th:only-of-type {\n        vertical-align: middle;\n    }\n\n    .dataframe tbody tr th {\n        vertical-align: top;\n    }\n\n    .dataframe thead th {\n        text-align: right;\n    }\n</style>\n<table border=\"1\" class=\"dataframe\">\n  <thead>\n    <tr style=\"text-align: right;\">\n      <th></th>\n      <th>Unnamed: 0</th>\n      <th>Execution</th>\n      <th>Variation</th>\n      <th>Solution</th>\n      <th>Total throughput [kg]</th>\n      <th>Max total backlog [kg]</th>\n      <th>Mean total backlog [kg]</th>\n      <th>std dev total backlog [kg]</th>\n      <th>Median total backlog [kg]</th>\n      <th>Min total backlog [kg]</th>\n      <th>P(total backlog ≤ 0 kg)</th>\n      <th>Max total inventory deficit [kg]</th>\n      <th>Mean total inventory deficit [kg]</th>\n      <th>std dev inventory deficit [kg]</th>\n      <th>Median total inventory deficit [kg]</th>\n      <th>Min total inventory deficit [kg]</th>\n      <th>Total Deficit [kg]</th>\n      <th>Batches [un]</th>\n      <th>Product label</th>\n      <th>Start of USP [date]</th>\n      <th>End of DSP [date]</th>\n    </tr>\n  </thead>\n  <tbody>\n    <tr>\n      <th>0</th>\n      <td>0</td>\n      <td>Article</td>\n      <td>Article</td>\n      <td>X</td>\n      <td>539.3</td>\n      <td>8.200000</td>\n      <td>0.200000</td>\n      <td>0.600000</td>\n      <td>0.000000</td>\n      <td>0.000000</td>\n      <td>0.820</td>\n      <td>683.400000</td>\n      <td>432.600000</td>\n      <td>58.600000</td>\n      <td>424.400000</td>\n      <td>259.400000</td>\n      <td>NaN</td>\n      <td>[15 10 29 3 15 11 15 6 2 2 2 10]</td>\n      <td>[3 2 0 1 3 2 1 3 2 1 2 3]</td>\n      <td>NaN</td>\n      <td>NaN</td>\n    </tr>\n    <tr>\n      <th>1</th>\n      <td>1</td>\n      <td>Article</td>\n      <td>Article</td>\n      <td>Y</td>\n      <td>601.5</td>\n      <td>16.000000</td>\n      <td>7.100000</td>\n      <td>4.300000</td>\n      <td>0.000000</td>\n      <td>0.000000</td>\n      <td>0.500</td>\n      <td>786.000000</td>\n      <td>558.600000</td>\n      <td>59.000000</td>\n      <td>551.700000</td>\n      <td>355.600000</td>\n      <td>NaN</td>\n      <td>[12 13 24 18 5 19 9 30]</td>\n      <td>[3 2 0 3 1 0 2 3]</td>\n      <td>NaN</td>\n      <td>NaN</td>\n    </tr>\n    <tr>\n      <th>2</th>\n      <td>0</td>\n      <td>0</td>\n      <td>front_nsga,tour_vio,rein_vio,vio_back,calc_montecarlo,100,1000,2,0.11,(0.04, 0.61, 0.77, 0.47)</td>\n      <td>X</td>\n      <td>556.5</td>\n      <td>13.747251</td>\n      <td>5.260480</td>\n      <td>1.850286</td>\n      <td>5.095699</td>\n      <td>0.735413</td>\n      <td>0.000</td>\n      <td>639.334741</td>\n      <td>504.265308</td>\n      <td>43.727730</td>\n      <td>503.402716</td>\n      <td>384.526231</td>\n      <td>503.402716</td>\n      <td>[20  7 32  3  7 16  9 13  3  4  9]</td>\n      <td>[3 2 0 1 2 3 2 0 1 2 3]</td>\n      <td>['2016-12-01' '2017-05-12' '2017-07-16' '2018-03-16' '2018-04-25'\\n '2018-06-29' '2018-11-10' '2019-01-28' '2019-05-18' '2019-...</td>\n      <td>['2017-06-08' '2017-08-14' '2018-04-11' '2018-05-24' '2018-07-28'\\n '2018-12-07' '2019-02-26' '2019-06-13' '2019-07-26' '2019-...</td>\n    </tr>\n    <tr>\n      <th>3</th>\n      <td>1</td>\n      <td>0</td>\n      <td>front_nsga,tour_vio,rein_vio,vio_back,calc_montecarlo,100,1000,2,0.11,(0.04, 0.61, 0.77, 0.47)</td>\n      <td>Y</td>\n      <td>570.5</td>\n      <td>16.590039</td>\n      <td>3.815983</td>\n      <td>3.123530</td>\n      <td>3.254217</td>\n      <td>0.000000</td>\n      <td>0.096</td>\n      <td>713.777806</td>\n      <td>574.888968</td>\n      <td>47.373258</td>\n      <td>574.555986</td>\n      <td>412.966865</td>\n      <td>574.555986</td>\n      <td>[18  6 33  4  6 15 10 12  2 19]</td>\n      <td>[3 2 0 1 2 3 2 0 1 3]</td>\n      <td>['2016-12-01' '2017-04-28' '2017-06-25' '2018-03-02' '2018-04-22'\\n '2018-06-19' '2018-10-24' '2019-01-18' '2019-05-01' '2019-...</td>\n      <td>['2017-05-25' '2017-07-24' '2018-03-28' '2018-05-21' '2018-07-18'\\n '2018-11-20' '2019-02-16' '2019-05-27' '2019-06-28' '2019-...</td>\n    </tr>\n  </tbody>\n</table>\n</div>"
     },
     "metadata": {},
     "execution_count": 46
    }
   ],
   "source": [
    "name=\"29-116\"\n",
    "result=pd.read_csv(root_path_analysis+name+'.csv')# Import from csv\n",
    "result"
   ]
  },
  {
   "source": [
    "- Backlog was reduced"
   ],
   "cell_type": "markdown",
   "metadata": {}
  },
  {
   "cell_type": "code",
   "execution_count": 47,
   "metadata": {},
   "outputs": [
    {
     "output_type": "execute_result",
     "data": {
      "text/plain": [
       "   Unnamed: 0                             Batches                 Products                   Objectives\n",
       "0           0     [18  6 33  4  6 15 10 12  2 19]    [3 2 0 1 2 3 2 0 1 3]    [570.5       574.5559862]\n",
       "1           1     [20  6 32  3  6 15 11 13  2 17]    [3 2 0 1 2 3 2 0 1 3]  [569.2        536.07390503]\n",
       "2           2  [20  7 32  3  7 16  9 13  3  4  9]  [3 2 0 1 2 3 2 0 1 2 3]  [556.5        503.40271586]"
      ],
      "text/html": "<div>\n<style scoped>\n    .dataframe tbody tr th:only-of-type {\n        vertical-align: middle;\n    }\n\n    .dataframe tbody tr th {\n        vertical-align: top;\n    }\n\n    .dataframe thead th {\n        text-align: right;\n    }\n</style>\n<table border=\"1\" class=\"dataframe\">\n  <thead>\n    <tr style=\"text-align: right;\">\n      <th></th>\n      <th>Unnamed: 0</th>\n      <th>Batches</th>\n      <th>Products</th>\n      <th>Objectives</th>\n    </tr>\n  </thead>\n  <tbody>\n    <tr>\n      <th>0</th>\n      <td>0</td>\n      <td>[18  6 33  4  6 15 10 12  2 19]</td>\n      <td>[3 2 0 1 2 3 2 0 1 3]</td>\n      <td>[570.5       574.5559862]</td>\n    </tr>\n    <tr>\n      <th>1</th>\n      <td>1</td>\n      <td>[20  6 32  3  6 15 11 13  2 17]</td>\n      <td>[3 2 0 1 2 3 2 0 1 3]</td>\n      <td>[569.2        536.07390503]</td>\n    </tr>\n    <tr>\n      <th>2</th>\n      <td>2</td>\n      <td>[20  7 32  3  7 16  9 13  3  4  9]</td>\n      <td>[3 2 0 1 2 3 2 0 1 2 3]</td>\n      <td>[556.5        503.40271586]</td>\n    </tr>\n  </tbody>\n</table>\n</div>"
     },
     "metadata": {},
     "execution_count": 47
    }
   ],
   "source": [
    "results=pd.read_csv(root_path_analysis+name+\"solutions.csv\")# Import from csv\n",
    "results"
   ]
  },
  {
   "source": [
    "### 29/1 20\n",
    "- 29/1 20\n",
    "    - For each MC simulation the backlog and\n",
    "        - Monte Carlo simulations=1000\n",
    "        - 10 Executions, with 1000 generations\n",
    "        - Add unittest to test calc_start_end\n",
    "        - No solution without violations, passing all in front 0\n",
    "            - Violation is the median of the sum of backlogs per simulations\n",
    "            - P backlog is the Probability.\n",
    "                - 1884.0851008 Per execution 942.0425504"
   ],
   "cell_type": "markdown",
   "metadata": {}
  },
  {
   "cell_type": "code",
   "execution_count": 48,
   "metadata": {},
   "outputs": [
    {
     "output_type": "execute_result",
     "data": {
      "text/plain": [
       "   Unnamed: 0 Execution                                                                                       Variation Solution  Total throughput [kg]  Max total backlog [kg]  Mean total backlog [kg]  std dev total backlog [kg]  Median total backlog [kg]  Min total backlog [kg]  P(total backlog ≤ 0 kg)  Max total inventory deficit [kg]  Mean total inventory deficit [kg]  std dev inventory deficit [kg]  Median total inventory deficit [kg]  Min total inventory deficit [kg]  Total Deficit [kg]                      Batches [un]              Product label                                                                                                       Start of USP [date]                                                                                                         End of DSP [date]\n",
       "0           0   Article                                                                                         Article        X                  539.3                8.200000                 0.200000                    0.600000                   0.000000                0.000000                     0.82                        683.400000                         432.600000                       58.600000                           424.400000                        259.400000                 NaN  [15 10 29 3 15 11 15 6 2 2 2 10]  [3 2 0 1 3 2 1 3 2 1 2 3]                                                                                                                       NaN                                                                                                                       NaN\n",
       "1           1   Article                                                                                         Article        Y                  601.5               16.000000                 7.100000                    4.300000                   0.000000                0.000000                     0.50                        786.000000                         558.600000                       59.000000                           551.700000                        355.600000                 NaN           [12 13 24 18 5 19 9 30]          [3 2 0 3 1 0 2 3]                                                                                                                       NaN                                                                                                                       NaN\n",
       "2           0         0  front_nsga,tour_vio,rein_vio,vio_back,calc_montecarlo,100,1000,2,0.11,(0.04, 0.61, 0.77, 0.47)        X                  569.5               26.385585                16.087191                    2.131811                  15.992243                9.807762                     0.00                        533.637039                         423.868293                       30.658888                           422.512255                        339.895440          422.512255      [ 8 30 29  3 15 12 16  7  3]        [2 3 0 1 2 0 3 1 2]  ['2016-12-01' '2017-02-11' '2017-10-01' '2018-05-11' '2018-06-20'\\n '2018-10-19' '2019-01-27' '2019-06-11' '2019-09-03']  ['2017-03-12' '2017-10-28' '2018-06-06' '2018-07-19' '2018-11-17'\\n '2019-02-25' '2019-07-07' '2019-10-02' '2019-11-08']\n",
       "3           1         0  front_nsga,tour_vio,rein_vio,vio_back,calc_montecarlo,100,1000,2,0.11,(0.04, 0.61, 0.77, 0.47)        Y                  609.2               24.279122                13.656053                    2.428672                  13.355220                8.068886                     0.00                        753.880561                         604.546044                       47.353614                           604.511019                        468.949565          604.511019            [27 23 20  6 23 31  2]            [3 0 2 1 0 3 1]                            ['2016-12-01' '2017-06-30' '2017-12-24' '2018-06-01' '2018-08-13'\\n '2019-02-06' '2019-10-04']                            ['2017-07-27' '2018-01-22' '2018-06-27' '2018-09-11' '2019-03-07'\\n '2019-10-30' '2019-12-01']"
      ],
      "text/html": "<div>\n<style scoped>\n    .dataframe tbody tr th:only-of-type {\n        vertical-align: middle;\n    }\n\n    .dataframe tbody tr th {\n        vertical-align: top;\n    }\n\n    .dataframe thead th {\n        text-align: right;\n    }\n</style>\n<table border=\"1\" class=\"dataframe\">\n  <thead>\n    <tr style=\"text-align: right;\">\n      <th></th>\n      <th>Unnamed: 0</th>\n      <th>Execution</th>\n      <th>Variation</th>\n      <th>Solution</th>\n      <th>Total throughput [kg]</th>\n      <th>Max total backlog [kg]</th>\n      <th>Mean total backlog [kg]</th>\n      <th>std dev total backlog [kg]</th>\n      <th>Median total backlog [kg]</th>\n      <th>Min total backlog [kg]</th>\n      <th>P(total backlog ≤ 0 kg)</th>\n      <th>Max total inventory deficit [kg]</th>\n      <th>Mean total inventory deficit [kg]</th>\n      <th>std dev inventory deficit [kg]</th>\n      <th>Median total inventory deficit [kg]</th>\n      <th>Min total inventory deficit [kg]</th>\n      <th>Total Deficit [kg]</th>\n      <th>Batches [un]</th>\n      <th>Product label</th>\n      <th>Start of USP [date]</th>\n      <th>End of DSP [date]</th>\n    </tr>\n  </thead>\n  <tbody>\n    <tr>\n      <th>0</th>\n      <td>0</td>\n      <td>Article</td>\n      <td>Article</td>\n      <td>X</td>\n      <td>539.3</td>\n      <td>8.200000</td>\n      <td>0.200000</td>\n      <td>0.600000</td>\n      <td>0.000000</td>\n      <td>0.000000</td>\n      <td>0.82</td>\n      <td>683.400000</td>\n      <td>432.600000</td>\n      <td>58.600000</td>\n      <td>424.400000</td>\n      <td>259.400000</td>\n      <td>NaN</td>\n      <td>[15 10 29 3 15 11 15 6 2 2 2 10]</td>\n      <td>[3 2 0 1 3 2 1 3 2 1 2 3]</td>\n      <td>NaN</td>\n      <td>NaN</td>\n    </tr>\n    <tr>\n      <th>1</th>\n      <td>1</td>\n      <td>Article</td>\n      <td>Article</td>\n      <td>Y</td>\n      <td>601.5</td>\n      <td>16.000000</td>\n      <td>7.100000</td>\n      <td>4.300000</td>\n      <td>0.000000</td>\n      <td>0.000000</td>\n      <td>0.50</td>\n      <td>786.000000</td>\n      <td>558.600000</td>\n      <td>59.000000</td>\n      <td>551.700000</td>\n      <td>355.600000</td>\n      <td>NaN</td>\n      <td>[12 13 24 18 5 19 9 30]</td>\n      <td>[3 2 0 3 1 0 2 3]</td>\n      <td>NaN</td>\n      <td>NaN</td>\n    </tr>\n    <tr>\n      <th>2</th>\n      <td>0</td>\n      <td>0</td>\n      <td>front_nsga,tour_vio,rein_vio,vio_back,calc_montecarlo,100,1000,2,0.11,(0.04, 0.61, 0.77, 0.47)</td>\n      <td>X</td>\n      <td>569.5</td>\n      <td>26.385585</td>\n      <td>16.087191</td>\n      <td>2.131811</td>\n      <td>15.992243</td>\n      <td>9.807762</td>\n      <td>0.00</td>\n      <td>533.637039</td>\n      <td>423.868293</td>\n      <td>30.658888</td>\n      <td>422.512255</td>\n      <td>339.895440</td>\n      <td>422.512255</td>\n      <td>[ 8 30 29  3 15 12 16  7  3]</td>\n      <td>[2 3 0 1 2 0 3 1 2]</td>\n      <td>['2016-12-01' '2017-02-11' '2017-10-01' '2018-05-11' '2018-06-20'\\n '2018-10-19' '2019-01-27' '2019-06-11' '2019-09-03']</td>\n      <td>['2017-03-12' '2017-10-28' '2018-06-06' '2018-07-19' '2018-11-17'\\n '2019-02-25' '2019-07-07' '2019-10-02' '2019-11-08']</td>\n    </tr>\n    <tr>\n      <th>3</th>\n      <td>1</td>\n      <td>0</td>\n      <td>front_nsga,tour_vio,rein_vio,vio_back,calc_montecarlo,100,1000,2,0.11,(0.04, 0.61, 0.77, 0.47)</td>\n      <td>Y</td>\n      <td>609.2</td>\n      <td>24.279122</td>\n      <td>13.656053</td>\n      <td>2.428672</td>\n      <td>13.355220</td>\n      <td>8.068886</td>\n      <td>0.00</td>\n      <td>753.880561</td>\n      <td>604.546044</td>\n      <td>47.353614</td>\n      <td>604.511019</td>\n      <td>468.949565</td>\n      <td>604.511019</td>\n      <td>[27 23 20  6 23 31  2]</td>\n      <td>[3 0 2 1 0 3 1]</td>\n      <td>['2016-12-01' '2017-06-30' '2017-12-24' '2018-06-01' '2018-08-13'\\n '2019-02-06' '2019-10-04']</td>\n      <td>['2017-07-27' '2018-01-22' '2018-06-27' '2018-09-11' '2019-03-07'\\n '2019-10-30' '2019-12-01']</td>\n    </tr>\n  </tbody>\n</table>\n</div>"
     },
     "metadata": {},
     "execution_count": 48
    }
   ],
   "source": [
    "name=\"29-120\"\n",
    "result=pd.read_csv(root_path_analysis+name+'.csv')# Import from csv\n",
    "result"
   ]
  },
  {
   "cell_type": "code",
   "execution_count": 49,
   "metadata": {},
   "outputs": [
    {
     "output_type": "execute_result",
     "data": {
      "text/plain": [
       "   Unnamed: 0                       Batches             Products                   Objectives\n",
       "0           0     [ 7 30 27  4 16 14 30  2]    [2 3 0 1 2 0 3 1]    [607.        466.7487121]\n",
       "1           1  [ 8 30 29  3 15 12 16  7  3]  [2 3 0 1 2 0 3 1 2]  [569.5        422.51225547]\n",
       "2           2     [ 8 30 30  3 17 11 19  8]    [2 3 0 1 2 0 3 1]    [587.3       448.5261589]\n",
       "3           3  [ 8 30 29  3 15 13 20  6  2]  [2 3 0 1 2 0 3 1 2]  [583.5        426.12403981]\n",
       "4           4  [ 8 30 31  3 15 11 19  4  6]  [2 3 0 1 2 0 3 1 2]    [585.2       439.4876002]\n",
       "5           5        [27 23 20  6 23 31  2]      [3 0 2 1 0 3 1]  [609.2        604.51101921]"
      ],
      "text/html": "<div>\n<style scoped>\n    .dataframe tbody tr th:only-of-type {\n        vertical-align: middle;\n    }\n\n    .dataframe tbody tr th {\n        vertical-align: top;\n    }\n\n    .dataframe thead th {\n        text-align: right;\n    }\n</style>\n<table border=\"1\" class=\"dataframe\">\n  <thead>\n    <tr style=\"text-align: right;\">\n      <th></th>\n      <th>Unnamed: 0</th>\n      <th>Batches</th>\n      <th>Products</th>\n      <th>Objectives</th>\n    </tr>\n  </thead>\n  <tbody>\n    <tr>\n      <th>0</th>\n      <td>0</td>\n      <td>[ 7 30 27  4 16 14 30  2]</td>\n      <td>[2 3 0 1 2 0 3 1]</td>\n      <td>[607.        466.7487121]</td>\n    </tr>\n    <tr>\n      <th>1</th>\n      <td>1</td>\n      <td>[ 8 30 29  3 15 12 16  7  3]</td>\n      <td>[2 3 0 1 2 0 3 1 2]</td>\n      <td>[569.5        422.51225547]</td>\n    </tr>\n    <tr>\n      <th>2</th>\n      <td>2</td>\n      <td>[ 8 30 30  3 17 11 19  8]</td>\n      <td>[2 3 0 1 2 0 3 1]</td>\n      <td>[587.3       448.5261589]</td>\n    </tr>\n    <tr>\n      <th>3</th>\n      <td>3</td>\n      <td>[ 8 30 29  3 15 13 20  6  2]</td>\n      <td>[2 3 0 1 2 0 3 1 2]</td>\n      <td>[583.5        426.12403981]</td>\n    </tr>\n    <tr>\n      <th>4</th>\n      <td>4</td>\n      <td>[ 8 30 31  3 15 11 19  4  6]</td>\n      <td>[2 3 0 1 2 0 3 1 2]</td>\n      <td>[585.2       439.4876002]</td>\n    </tr>\n    <tr>\n      <th>5</th>\n      <td>5</td>\n      <td>[27 23 20  6 23 31  2]</td>\n      <td>[3 0 2 1 0 3 1]</td>\n      <td>[609.2        604.51101921]</td>\n    </tr>\n  </tbody>\n</table>\n</div>"
     },
     "metadata": {},
     "execution_count": 49
    }
   ],
   "source": [
    "results=pd.read_csv(root_path_analysis+name+\"solutions.csv\")# Import from csv\n",
    "results"
   ]
  },
  {
   "source": [
    "### 31/1 20\n",
    "- 31/1 20\n",
    "    - For each MC simulation the backlog and\n",
    "        - Monte Carlo simulations=1000\n",
    "        - 2 Executions, with 1000 generations\n",
    "        - Add unittest to test calc_monte_carlo\n",
    "        - Reshape structure of code\n",
    "        - No solution without violations, passing all in front 0\n",
    "            - Violation is the median of the sum of backlogs per simulations\n",
    "            - P backlog is the Probability.\n",
    "                - 1884.0851008 Per execution 942.0425504"
   ],
   "cell_type": "markdown",
   "metadata": {}
  },
  {
   "cell_type": "code",
   "execution_count": 50,
   "metadata": {},
   "outputs": [
    {
     "output_type": "execute_result",
     "data": {
      "text/plain": [
       "   Unnamed: 0 Execution                                                                                       Variation Solution  Total throughput [kg]  Max total backlog [kg]  Mean total backlog [kg]  std dev total backlog [kg]  Median total backlog [kg]  Min total backlog [kg]  P(total backlog ≤ 0 kg)  Max total inventory deficit [kg]  Mean total inventory deficit [kg]  std dev inventory deficit [kg]  Median total inventory deficit [kg]  Min total inventory deficit [kg]  Total Deficit [kg]                      Batches [un]              Product label                                                                                          Start of USP [date]                                                                                            End of DSP [date]\n",
       "0           0   Article                                                                                         Article        X                  539.3                8.200000                 0.200000                    0.600000                   0.000000                0.000000                     0.82                        683.400000                         432.600000                       58.600000                            424.40000                        259.400000                 NaN  [15 10 29 3 15 11 15 6 2 2 2 10]  [3 2 0 1 3 2 1 3 2 1 2 3]                                                                                                          NaN                                                                                                          NaN\n",
       "1           1   Article                                                                                         Article        Y                  601.5               16.000000                 7.100000                    4.300000                   0.000000                0.000000                     0.50                        786.000000                         558.600000                       59.000000                            551.70000                        355.600000                 NaN           [12 13 24 18 5 19 9 30]          [3 2 0 3 1 0 2 3]                                                                                                          NaN                                                                                                          NaN\n",
       "2           0         0  front_nsga,tour_vio,rein_vio,vio_back,calc_montecarlo,100,1000,2,0.11,(0.04, 0.61, 0.77, 0.47)        X                  559.7               25.566323                15.070368                    1.938922                  14.984579                9.595727                     0.00                        574.244931                         446.039711                       35.947385                            442.55183                        346.853635           442.55183         [ 7 30 26  3 16 17  9 13]          [2 3 0 1 2 0 3 1]  ['2016-12-01' '2017-02-04' '2017-09-24' '2018-04-13' '2018-05-23'\\n '2018-09-28' '2019-02-10' '2019-05-07']  ['2017-03-05' '2017-10-21' '2018-05-09' '2018-06-21' '2018-10-27'\\n '2019-03-11' '2019-06-02' '2019-11-02']\n",
       "3           1         0  front_nsga,tour_vio,rein_vio,vio_back,calc_montecarlo,100,1000,2,0.11,(0.04, 0.61, 0.77, 0.47)        Y                  588.7               22.830019                15.033054                    1.968699                  14.985963                8.690357                     0.00                        608.382067                         481.459502                       38.318436                            478.63013                        370.835016           478.63013         [ 7 30 24  3 18 19 17  9]          [2 3 0 1 2 0 3 1]  ['2016-12-01' '2017-02-04' '2017-09-24' '2018-03-30' '2018-05-09'\\n '2018-09-28' '2019-02-24' '2019-07-16']  ['2017-03-05' '2017-10-21' '2018-04-25' '2018-06-07' '2018-10-27'\\n '2019-03-25' '2019-08-11' '2019-11-28']"
      ],
      "text/html": "<div>\n<style scoped>\n    .dataframe tbody tr th:only-of-type {\n        vertical-align: middle;\n    }\n\n    .dataframe tbody tr th {\n        vertical-align: top;\n    }\n\n    .dataframe thead th {\n        text-align: right;\n    }\n</style>\n<table border=\"1\" class=\"dataframe\">\n  <thead>\n    <tr style=\"text-align: right;\">\n      <th></th>\n      <th>Unnamed: 0</th>\n      <th>Execution</th>\n      <th>Variation</th>\n      <th>Solution</th>\n      <th>Total throughput [kg]</th>\n      <th>Max total backlog [kg]</th>\n      <th>Mean total backlog [kg]</th>\n      <th>std dev total backlog [kg]</th>\n      <th>Median total backlog [kg]</th>\n      <th>Min total backlog [kg]</th>\n      <th>P(total backlog ≤ 0 kg)</th>\n      <th>Max total inventory deficit [kg]</th>\n      <th>Mean total inventory deficit [kg]</th>\n      <th>std dev inventory deficit [kg]</th>\n      <th>Median total inventory deficit [kg]</th>\n      <th>Min total inventory deficit [kg]</th>\n      <th>Total Deficit [kg]</th>\n      <th>Batches [un]</th>\n      <th>Product label</th>\n      <th>Start of USP [date]</th>\n      <th>End of DSP [date]</th>\n    </tr>\n  </thead>\n  <tbody>\n    <tr>\n      <th>0</th>\n      <td>0</td>\n      <td>Article</td>\n      <td>Article</td>\n      <td>X</td>\n      <td>539.3</td>\n      <td>8.200000</td>\n      <td>0.200000</td>\n      <td>0.600000</td>\n      <td>0.000000</td>\n      <td>0.000000</td>\n      <td>0.82</td>\n      <td>683.400000</td>\n      <td>432.600000</td>\n      <td>58.600000</td>\n      <td>424.40000</td>\n      <td>259.400000</td>\n      <td>NaN</td>\n      <td>[15 10 29 3 15 11 15 6 2 2 2 10]</td>\n      <td>[3 2 0 1 3 2 1 3 2 1 2 3]</td>\n      <td>NaN</td>\n      <td>NaN</td>\n    </tr>\n    <tr>\n      <th>1</th>\n      <td>1</td>\n      <td>Article</td>\n      <td>Article</td>\n      <td>Y</td>\n      <td>601.5</td>\n      <td>16.000000</td>\n      <td>7.100000</td>\n      <td>4.300000</td>\n      <td>0.000000</td>\n      <td>0.000000</td>\n      <td>0.50</td>\n      <td>786.000000</td>\n      <td>558.600000</td>\n      <td>59.000000</td>\n      <td>551.70000</td>\n      <td>355.600000</td>\n      <td>NaN</td>\n      <td>[12 13 24 18 5 19 9 30]</td>\n      <td>[3 2 0 3 1 0 2 3]</td>\n      <td>NaN</td>\n      <td>NaN</td>\n    </tr>\n    <tr>\n      <th>2</th>\n      <td>0</td>\n      <td>0</td>\n      <td>front_nsga,tour_vio,rein_vio,vio_back,calc_montecarlo,100,1000,2,0.11,(0.04, 0.61, 0.77, 0.47)</td>\n      <td>X</td>\n      <td>559.7</td>\n      <td>25.566323</td>\n      <td>15.070368</td>\n      <td>1.938922</td>\n      <td>14.984579</td>\n      <td>9.595727</td>\n      <td>0.00</td>\n      <td>574.244931</td>\n      <td>446.039711</td>\n      <td>35.947385</td>\n      <td>442.55183</td>\n      <td>346.853635</td>\n      <td>442.55183</td>\n      <td>[ 7 30 26  3 16 17  9 13]</td>\n      <td>[2 3 0 1 2 0 3 1]</td>\n      <td>['2016-12-01' '2017-02-04' '2017-09-24' '2018-04-13' '2018-05-23'\\n '2018-09-28' '2019-02-10' '2019-05-07']</td>\n      <td>['2017-03-05' '2017-10-21' '2018-05-09' '2018-06-21' '2018-10-27'\\n '2019-03-11' '2019-06-02' '2019-11-02']</td>\n    </tr>\n    <tr>\n      <th>3</th>\n      <td>1</td>\n      <td>0</td>\n      <td>front_nsga,tour_vio,rein_vio,vio_back,calc_montecarlo,100,1000,2,0.11,(0.04, 0.61, 0.77, 0.47)</td>\n      <td>Y</td>\n      <td>588.7</td>\n      <td>22.830019</td>\n      <td>15.033054</td>\n      <td>1.968699</td>\n      <td>14.985963</td>\n      <td>8.690357</td>\n      <td>0.00</td>\n      <td>608.382067</td>\n      <td>481.459502</td>\n      <td>38.318436</td>\n      <td>478.63013</td>\n      <td>370.835016</td>\n      <td>478.63013</td>\n      <td>[ 7 30 24  3 18 19 17  9]</td>\n      <td>[2 3 0 1 2 0 3 1]</td>\n      <td>['2016-12-01' '2017-02-04' '2017-09-24' '2018-03-30' '2018-05-09'\\n '2018-09-28' '2019-02-24' '2019-07-16']</td>\n      <td>['2017-03-05' '2017-10-21' '2018-04-25' '2018-06-07' '2018-10-27'\\n '2019-03-25' '2019-08-11' '2019-11-28']</td>\n    </tr>\n  </tbody>\n</table>\n</div>"
     },
     "metadata": {},
     "execution_count": 50
    }
   ],
   "source": [
    "name=\"31-116\"\n",
    "result=pd.read_csv(root_path_analysis+name+'.csv')# Import from csv\n",
    "result"
   ]
  },
  {
   "cell_type": "code",
   "execution_count": 51,
   "metadata": {},
   "outputs": [
    {
     "output_type": "execute_result",
     "data": {
      "text/plain": [
       "   Unnamed: 0                    Batches           Products                   Objectives\n",
       "0           0  [ 7 30 24  3 16 19 19  8]  [2 3 0 1 2 0 3 1]    [583.7       456.3376514]\n",
       "1           1  [ 7 30 26  3 16 18  9 14]  [2 3 0 1 2 0 3 1]  [569.         449.36753882]\n",
       "2           2  [ 7 30 24  3 17 19 16 10]  [2 3 0 1 2 0 3 1]  [584.5        464.45090437]\n",
       "3           3  [ 7 30 26  4 17 18 18  7]  [2 3 0 1 2 0 3 1]  [586.2        476.85832406]\n",
       "4           4  [ 7 30 26  3 16 17  9 13]  [2 3 0 1 2 0 3 1]  [559.7        442.55183001]\n",
       "5           5  [ 7 30 24  3 18 19 17  9]  [2 3 0 1 2 0 3 1]  [588.7        478.63013017]\n",
       "6           6  [ 7 30 22  3 16 20 15 11]  [2 3 0 1 2 0 3 1]  [577.2        450.52803936]"
      ],
      "text/html": "<div>\n<style scoped>\n    .dataframe tbody tr th:only-of-type {\n        vertical-align: middle;\n    }\n\n    .dataframe tbody tr th {\n        vertical-align: top;\n    }\n\n    .dataframe thead th {\n        text-align: right;\n    }\n</style>\n<table border=\"1\" class=\"dataframe\">\n  <thead>\n    <tr style=\"text-align: right;\">\n      <th></th>\n      <th>Unnamed: 0</th>\n      <th>Batches</th>\n      <th>Products</th>\n      <th>Objectives</th>\n    </tr>\n  </thead>\n  <tbody>\n    <tr>\n      <th>0</th>\n      <td>0</td>\n      <td>[ 7 30 24  3 16 19 19  8]</td>\n      <td>[2 3 0 1 2 0 3 1]</td>\n      <td>[583.7       456.3376514]</td>\n    </tr>\n    <tr>\n      <th>1</th>\n      <td>1</td>\n      <td>[ 7 30 26  3 16 18  9 14]</td>\n      <td>[2 3 0 1 2 0 3 1]</td>\n      <td>[569.         449.36753882]</td>\n    </tr>\n    <tr>\n      <th>2</th>\n      <td>2</td>\n      <td>[ 7 30 24  3 17 19 16 10]</td>\n      <td>[2 3 0 1 2 0 3 1]</td>\n      <td>[584.5        464.45090437]</td>\n    </tr>\n    <tr>\n      <th>3</th>\n      <td>3</td>\n      <td>[ 7 30 26  4 17 18 18  7]</td>\n      <td>[2 3 0 1 2 0 3 1]</td>\n      <td>[586.2        476.85832406]</td>\n    </tr>\n    <tr>\n      <th>4</th>\n      <td>4</td>\n      <td>[ 7 30 26  3 16 17  9 13]</td>\n      <td>[2 3 0 1 2 0 3 1]</td>\n      <td>[559.7        442.55183001]</td>\n    </tr>\n    <tr>\n      <th>5</th>\n      <td>5</td>\n      <td>[ 7 30 24  3 18 19 17  9]</td>\n      <td>[2 3 0 1 2 0 3 1]</td>\n      <td>[588.7        478.63013017]</td>\n    </tr>\n    <tr>\n      <th>6</th>\n      <td>6</td>\n      <td>[ 7 30 22  3 16 20 15 11]</td>\n      <td>[2 3 0 1 2 0 3 1]</td>\n      <td>[577.2        450.52803936]</td>\n    </tr>\n  </tbody>\n</table>\n</div>"
     },
     "metadata": {},
     "execution_count": 51
    }
   ],
   "source": [
    "results=pd.read_csv(root_path_analysis+name+\"solutions.csv\")# Import from csv\n",
    "results"
   ]
  },
  {
   "source": [
    "### 2/1 9\n",
    "- 2/1 9\n",
    "    - For each MC simulation the backlog and\n",
    "        - Monte Carlo simulations=1000\n",
    "        - 12 Executions, with 1000 generations\n",
    "        - Add unittest to test mutations and allowint mutation to remove one batch\n",
    "        - No solution without violations, passing all in front 0\n",
    "            - Violation is the median of the sum of backlogs per simulations\n",
    "            - P backlog is the Probability.\n",
    "                - 1884.0851008 Per execution 942.0425504"
   ],
   "cell_type": "markdown",
   "metadata": {}
  },
  {
   "cell_type": "code",
   "execution_count": 52,
   "metadata": {},
   "outputs": [
    {
     "output_type": "execute_result",
     "data": {
      "text/plain": [
       "   Unnamed: 0 Execution                                                                                       Variation Solution  Total throughput [kg]  Max total backlog [kg]  Mean total backlog [kg]  std dev total backlog [kg]  Median total backlog [kg]  Min total backlog [kg]  P(total backlog ≤ 0 kg)  Max total inventory deficit [kg]  Mean total inventory deficit [kg]  std dev inventory deficit [kg]  Median total inventory deficit [kg]  Min total inventory deficit [kg]  Total Deficit [kg]                      Batches [un]              Product label                                                                                                                Start of USP [date]                                                                                                                  End of DSP [date]\n",
       "0           0   Article                                                                                         Article        X                  539.3                8.200000                 0.200000                    0.600000                   0.000000                0.000000                     0.82                        683.400000                         432.600000                       58.600000                           424.400000                        259.400000                 NaN  [15 10 29 3 15 11 15 6 2 2 2 10]  [3 2 0 1 3 2 1 3 2 1 2 3]                                                                                                                                NaN                                                                                                                                NaN\n",
       "1           1   Article                                                                                         Article        Y                  601.5               16.000000                 7.100000                    4.300000                   0.000000                0.000000                     0.50                        786.000000                         558.600000                       59.000000                           551.700000                        355.600000                 NaN           [12 13 24 18 5 19 9 30]          [3 2 0 3 1 0 2 3]                                                                                                                                NaN                                                                                                                                NaN\n",
       "2           0         0  front_nsga,tour_vio,rein_vio,vio_back,calc_montecarlo,100,1000,2,0.11,(0.04, 0.61, 0.77, 0.47)        X                  559.0               11.783284                 4.962180                    1.622237                   4.879585                0.058557                     0.00                        653.375374                         470.793803                       48.544892                           466.195225                        355.859065          466.195225   [21  7 33  3 14 13 12  3  4 13]      [3 2 0 1 2 3 0 2 1 3]  ['2016-12-01' '2017-05-19' '2017-07-23' '2018-03-30' '2018-05-09'\\n '2018-08-31' '2018-12-22' '2019-04-01' '2019-05-11' '2019-...  ['2017-06-15' '2017-08-21' '2018-04-25' '2018-06-07' '2018-09-29'\\n '2019-01-18' '2019-04-30' '2019-06-06' '2019-07-30' '2019-...\n",
       "3           1         0  front_nsga,tour_vio,rein_vio,vio_back,calc_montecarlo,100,1000,2,0.11,(0.04, 0.61, 0.77, 0.47)        Y                  600.3               26.180401                16.159686                    2.645139                  15.934025                9.530739                     0.00                        701.896556                         574.498268                       42.688352                           571.879091                        459.184668          571.879091         [ 7 30  8 33 13  4  6 30]          [0 3 2 0 2 1 0 3]                        ['2016-12-01' '2017-02-04' '2017-09-24' '2017-12-05' '2018-08-09'\\n '2018-11-27' '2019-01-17' '2019-03-16']                        ['2017-03-05' '2017-10-21' '2018-01-03' '2018-09-07' '2018-12-23'\\n '2019-02-15' '2019-04-14' '2019-11-30']"
      ],
      "text/html": "<div>\n<style scoped>\n    .dataframe tbody tr th:only-of-type {\n        vertical-align: middle;\n    }\n\n    .dataframe tbody tr th {\n        vertical-align: top;\n    }\n\n    .dataframe thead th {\n        text-align: right;\n    }\n</style>\n<table border=\"1\" class=\"dataframe\">\n  <thead>\n    <tr style=\"text-align: right;\">\n      <th></th>\n      <th>Unnamed: 0</th>\n      <th>Execution</th>\n      <th>Variation</th>\n      <th>Solution</th>\n      <th>Total throughput [kg]</th>\n      <th>Max total backlog [kg]</th>\n      <th>Mean total backlog [kg]</th>\n      <th>std dev total backlog [kg]</th>\n      <th>Median total backlog [kg]</th>\n      <th>Min total backlog [kg]</th>\n      <th>P(total backlog ≤ 0 kg)</th>\n      <th>Max total inventory deficit [kg]</th>\n      <th>Mean total inventory deficit [kg]</th>\n      <th>std dev inventory deficit [kg]</th>\n      <th>Median total inventory deficit [kg]</th>\n      <th>Min total inventory deficit [kg]</th>\n      <th>Total Deficit [kg]</th>\n      <th>Batches [un]</th>\n      <th>Product label</th>\n      <th>Start of USP [date]</th>\n      <th>End of DSP [date]</th>\n    </tr>\n  </thead>\n  <tbody>\n    <tr>\n      <th>0</th>\n      <td>0</td>\n      <td>Article</td>\n      <td>Article</td>\n      <td>X</td>\n      <td>539.3</td>\n      <td>8.200000</td>\n      <td>0.200000</td>\n      <td>0.600000</td>\n      <td>0.000000</td>\n      <td>0.000000</td>\n      <td>0.82</td>\n      <td>683.400000</td>\n      <td>432.600000</td>\n      <td>58.600000</td>\n      <td>424.400000</td>\n      <td>259.400000</td>\n      <td>NaN</td>\n      <td>[15 10 29 3 15 11 15 6 2 2 2 10]</td>\n      <td>[3 2 0 1 3 2 1 3 2 1 2 3]</td>\n      <td>NaN</td>\n      <td>NaN</td>\n    </tr>\n    <tr>\n      <th>1</th>\n      <td>1</td>\n      <td>Article</td>\n      <td>Article</td>\n      <td>Y</td>\n      <td>601.5</td>\n      <td>16.000000</td>\n      <td>7.100000</td>\n      <td>4.300000</td>\n      <td>0.000000</td>\n      <td>0.000000</td>\n      <td>0.50</td>\n      <td>786.000000</td>\n      <td>558.600000</td>\n      <td>59.000000</td>\n      <td>551.700000</td>\n      <td>355.600000</td>\n      <td>NaN</td>\n      <td>[12 13 24 18 5 19 9 30]</td>\n      <td>[3 2 0 3 1 0 2 3]</td>\n      <td>NaN</td>\n      <td>NaN</td>\n    </tr>\n    <tr>\n      <th>2</th>\n      <td>0</td>\n      <td>0</td>\n      <td>front_nsga,tour_vio,rein_vio,vio_back,calc_montecarlo,100,1000,2,0.11,(0.04, 0.61, 0.77, 0.47)</td>\n      <td>X</td>\n      <td>559.0</td>\n      <td>11.783284</td>\n      <td>4.962180</td>\n      <td>1.622237</td>\n      <td>4.879585</td>\n      <td>0.058557</td>\n      <td>0.00</td>\n      <td>653.375374</td>\n      <td>470.793803</td>\n      <td>48.544892</td>\n      <td>466.195225</td>\n      <td>355.859065</td>\n      <td>466.195225</td>\n      <td>[21  7 33  3 14 13 12  3  4 13]</td>\n      <td>[3 2 0 1 2 3 0 2 1 3]</td>\n      <td>['2016-12-01' '2017-05-19' '2017-07-23' '2018-03-30' '2018-05-09'\\n '2018-08-31' '2018-12-22' '2019-04-01' '2019-05-11' '2019-...</td>\n      <td>['2017-06-15' '2017-08-21' '2018-04-25' '2018-06-07' '2018-09-29'\\n '2019-01-18' '2019-04-30' '2019-06-06' '2019-07-30' '2019-...</td>\n    </tr>\n    <tr>\n      <th>3</th>\n      <td>1</td>\n      <td>0</td>\n      <td>front_nsga,tour_vio,rein_vio,vio_back,calc_montecarlo,100,1000,2,0.11,(0.04, 0.61, 0.77, 0.47)</td>\n      <td>Y</td>\n      <td>600.3</td>\n      <td>26.180401</td>\n      <td>16.159686</td>\n      <td>2.645139</td>\n      <td>15.934025</td>\n      <td>9.530739</td>\n      <td>0.00</td>\n      <td>701.896556</td>\n      <td>574.498268</td>\n      <td>42.688352</td>\n      <td>571.879091</td>\n      <td>459.184668</td>\n      <td>571.879091</td>\n      <td>[ 7 30  8 33 13  4  6 30]</td>\n      <td>[0 3 2 0 2 1 0 3]</td>\n      <td>['2016-12-01' '2017-02-04' '2017-09-24' '2017-12-05' '2018-08-09'\\n '2018-11-27' '2019-01-17' '2019-03-16']</td>\n      <td>['2017-03-05' '2017-10-21' '2018-01-03' '2018-09-07' '2018-12-23'\\n '2019-02-15' '2019-04-14' '2019-11-30']</td>\n    </tr>\n  </tbody>\n</table>\n</div>"
     },
     "metadata": {},
     "execution_count": 52
    }
   ],
   "source": [
    "name=\"1-29\"\n",
    "result=pd.read_csv(root_path_analysis+name+'.csv')# Import from csv\n",
    "result"
   ]
  },
  {
   "cell_type": "code",
   "execution_count": 53,
   "metadata": {},
   "outputs": [
    {
     "output_type": "execute_result",
     "data": {
      "text/plain": [
       "    Unnamed: 0                          Batches               Products                   Objectives\n",
       "0            0     [ 9 27  8 30 13  3  7 30  2]    [0 3 2 0 2 1 0 3 2]  [587.4        528.64537077]\n",
       "1            1        [ 8 28  8 31 14  3  7 31]      [0 3 2 0 2 1 0 3]  [593.5        532.51222063]\n",
       "2            2        [ 9 29  9 30 13  3  8 30]      [0 3 2 0 2 1 0 3]  [596.6        545.52046844]\n",
       "3            3        [ 9 28  9 30 13  3  7 30]      [0 3 2 0 2 1 0 3]  [588.         531.20258172]\n",
       "4            4        [30 20 16  3 26  4 19  9]      [3 0 2 1 0 2 3 1]  [584.5        499.43220819]\n",
       "5            5        [ 7 30  8 33 13  4  6 30]      [0 3 2 0 2 1 0 3]  [600.3        571.87909121]\n",
       "6            6        [ 7 30  8 33 13  3  7 30]      [0 3 2 0 2 1 0 3]  [597.2        570.55473673]\n",
       "7            7  [21  7 33  3 14 13 12  2  4 14]  [3 2 0 1 2 3 0 2 1 3]  [559.6        468.06726273]\n",
       "8            8  [21  7 34  3 13 14 10  4  2 17]  [3 2 0 1 2 3 0 2 1 3]  [571.         474.14806411]\n",
       "9            9  [21  7 33  3 14 12 12  5  2 15]  [3 2 0 1 2 3 0 2 1 3]  [561.9        473.17119825]\n",
       "10          10  [21  7 33  3 14 13 12  3  4 13]  [3 2 0 1 2 3 0 2 1 3]  [559.         466.19522481]\n",
       "11          11  [21  7 34  3 12 13 10  4  2 19]  [3 2 0 1 2 3 0 2 1 3]  [571.6        480.05152085]\n",
       "12          12  [21  7 33  3 15 12 11  3  2 19]  [3 2 0 1 2 3 0 2 1 3]  [575.9        484.91901769]\n",
       "13          13  [21  7 34  3 13 14  9  5  2 17]  [3 2 0 1 2 3 0 2 1 3]  [572.8        482.96201831]"
      ],
      "text/html": "<div>\n<style scoped>\n    .dataframe tbody tr th:only-of-type {\n        vertical-align: middle;\n    }\n\n    .dataframe tbody tr th {\n        vertical-align: top;\n    }\n\n    .dataframe thead th {\n        text-align: right;\n    }\n</style>\n<table border=\"1\" class=\"dataframe\">\n  <thead>\n    <tr style=\"text-align: right;\">\n      <th></th>\n      <th>Unnamed: 0</th>\n      <th>Batches</th>\n      <th>Products</th>\n      <th>Objectives</th>\n    </tr>\n  </thead>\n  <tbody>\n    <tr>\n      <th>0</th>\n      <td>0</td>\n      <td>[ 9 27  8 30 13  3  7 30  2]</td>\n      <td>[0 3 2 0 2 1 0 3 2]</td>\n      <td>[587.4        528.64537077]</td>\n    </tr>\n    <tr>\n      <th>1</th>\n      <td>1</td>\n      <td>[ 8 28  8 31 14  3  7 31]</td>\n      <td>[0 3 2 0 2 1 0 3]</td>\n      <td>[593.5        532.51222063]</td>\n    </tr>\n    <tr>\n      <th>2</th>\n      <td>2</td>\n      <td>[ 9 29  9 30 13  3  8 30]</td>\n      <td>[0 3 2 0 2 1 0 3]</td>\n      <td>[596.6        545.52046844]</td>\n    </tr>\n    <tr>\n      <th>3</th>\n      <td>3</td>\n      <td>[ 9 28  9 30 13  3  7 30]</td>\n      <td>[0 3 2 0 2 1 0 3]</td>\n      <td>[588.         531.20258172]</td>\n    </tr>\n    <tr>\n      <th>4</th>\n      <td>4</td>\n      <td>[30 20 16  3 26  4 19  9]</td>\n      <td>[3 0 2 1 0 2 3 1]</td>\n      <td>[584.5        499.43220819]</td>\n    </tr>\n    <tr>\n      <th>5</th>\n      <td>5</td>\n      <td>[ 7 30  8 33 13  4  6 30]</td>\n      <td>[0 3 2 0 2 1 0 3]</td>\n      <td>[600.3        571.87909121]</td>\n    </tr>\n    <tr>\n      <th>6</th>\n      <td>6</td>\n      <td>[ 7 30  8 33 13  3  7 30]</td>\n      <td>[0 3 2 0 2 1 0 3]</td>\n      <td>[597.2        570.55473673]</td>\n    </tr>\n    <tr>\n      <th>7</th>\n      <td>7</td>\n      <td>[21  7 33  3 14 13 12  2  4 14]</td>\n      <td>[3 2 0 1 2 3 0 2 1 3]</td>\n      <td>[559.6        468.06726273]</td>\n    </tr>\n    <tr>\n      <th>8</th>\n      <td>8</td>\n      <td>[21  7 34  3 13 14 10  4  2 17]</td>\n      <td>[3 2 0 1 2 3 0 2 1 3]</td>\n      <td>[571.         474.14806411]</td>\n    </tr>\n    <tr>\n      <th>9</th>\n      <td>9</td>\n      <td>[21  7 33  3 14 12 12  5  2 15]</td>\n      <td>[3 2 0 1 2 3 0 2 1 3]</td>\n      <td>[561.9        473.17119825]</td>\n    </tr>\n    <tr>\n      <th>10</th>\n      <td>10</td>\n      <td>[21  7 33  3 14 13 12  3  4 13]</td>\n      <td>[3 2 0 1 2 3 0 2 1 3]</td>\n      <td>[559.         466.19522481]</td>\n    </tr>\n    <tr>\n      <th>11</th>\n      <td>11</td>\n      <td>[21  7 34  3 12 13 10  4  2 19]</td>\n      <td>[3 2 0 1 2 3 0 2 1 3]</td>\n      <td>[571.6        480.05152085]</td>\n    </tr>\n    <tr>\n      <th>12</th>\n      <td>12</td>\n      <td>[21  7 33  3 15 12 11  3  2 19]</td>\n      <td>[3 2 0 1 2 3 0 2 1 3]</td>\n      <td>[575.9        484.91901769]</td>\n    </tr>\n    <tr>\n      <th>13</th>\n      <td>13</td>\n      <td>[21  7 34  3 13 14  9  5  2 17]</td>\n      <td>[3 2 0 1 2 3 0 2 1 3]</td>\n      <td>[572.8        482.96201831]</td>\n    </tr>\n  </tbody>\n</table>\n</div>"
     },
     "metadata": {},
     "execution_count": 53
    }
   ],
   "source": [
    "results=pd.read_csv(root_path_analysis+name+\"solutions.csv\")# Import from csv\n",
    "results"
   ]
  },
  {
   "source": [
    "### 3/1 9\n",
    "- 3/1 9\n",
    "    - For each MC simulation the backlog and\n",
    "        - Monte Carlo simulations=1000\n",
    "        - 20 Executions, with 1000 generations\n",
    "        - No Modifications\n",
    "        - No solution without violations, passing all in front 0\n",
    "            - Violation is the median of the sum of backlogs per simulations\n",
    "            - P backlog is the Probability.\n",
    "                - 1884.0851008 Per execution 942.0425504"
   ],
   "cell_type": "markdown",
   "metadata": {}
  },
  {
   "cell_type": "code",
   "execution_count": 54,
   "metadata": {},
   "outputs": [
    {
     "output_type": "execute_result",
     "data": {
      "text/plain": [
       "   Unnamed: 0 Execution                                                                                       Variation Solution  Total throughput [kg]  Max total backlog [kg]  Mean total backlog [kg]  std dev total backlog [kg]  Median total backlog [kg]  Min total backlog [kg]  P(total backlog ≤ 0 kg)  Max total inventory deficit [kg]  Mean total inventory deficit [kg]  std dev inventory deficit [kg]  Median total inventory deficit [kg]  Min total inventory deficit [kg]  Total Deficit [kg]                      Batches [un]              Product label                                                                                                                Start of USP [date]                                                                                                                  End of DSP [date]\n",
       "0           0   Article                                                                                         Article        X                  539.3                8.200000                 0.200000                    0.600000                   0.000000                0.000000                     0.82                        683.400000                         432.600000                       58.600000                           424.400000                        259.400000                 NaN  [15 10 29 3 15 11 15 6 2 2 2 10]  [3 2 0 1 3 2 1 3 2 1 2 3]                                                                                                                                NaN                                                                                                                                NaN\n",
       "1           1   Article                                                                                         Article        Y                  601.5               16.000000                 7.100000                    4.300000                   0.000000                0.000000                     0.50                        786.000000                         558.600000                       59.000000                           551.700000                        355.600000                 NaN           [12 13 24 18 5 19 9 30]          [3 2 0 3 1 0 2 3]                                                                                                                                NaN                                                                                                                                NaN\n",
       "2           0         0  front_nsga,tour_vio,rein_vio,vio_back,calc_montecarlo,100,1000,2,0.11,(0.04, 0.61, 0.77, 0.47)        X                  554.9               19.409489                11.799082                    1.892371                  11.667618                6.468578                     0.00                        586.336749                         448.231733                       34.913342                           445.919036                        359.162081          445.919036   [27  7 29  3 17  6 20  3 11  2]      [3 2 0 1 2 3 0 1 3 0]  ['2016-12-01' '2017-06-30' '2017-09-03' '2018-04-13' '2018-05-23'\\n '2018-10-05' '2018-12-08' '2019-05-16' '2019-06-25' '2019-...  ['2017-07-27' '2017-10-02' '2018-05-09' '2018-06-21' '2018-11-03'\\n '2019-01-04' '2019-06-11' '2019-07-24' '2019-10-29' '2019-...\n",
       "3           1         0  front_nsga,tour_vio,rein_vio,vio_back,calc_montecarlo,100,1000,2,0.11,(0.04, 0.61, 0.77, 0.47)        Y                  604.0               25.924724                12.081393                    2.185453                  11.768075                7.257823                     0.00                        641.819967                         522.315557                       40.354052                           521.212864                        399.763425          521.212864            [ 7 27 25  4 17 21 31]            [2 3 0 1 2 0 3]                                     ['2016-12-01' '2017-02-04' '2017-09-03' '2018-03-16' '2018-05-06'\\n '2018-09-18' '2019-02-28']                                     ['2017-03-05' '2017-09-30' '2018-04-11' '2018-06-04' '2018-10-17'\\n '2019-03-29' '2019-11-21']"
      ],
      "text/html": "<div>\n<style scoped>\n    .dataframe tbody tr th:only-of-type {\n        vertical-align: middle;\n    }\n\n    .dataframe tbody tr th {\n        vertical-align: top;\n    }\n\n    .dataframe thead th {\n        text-align: right;\n    }\n</style>\n<table border=\"1\" class=\"dataframe\">\n  <thead>\n    <tr style=\"text-align: right;\">\n      <th></th>\n      <th>Unnamed: 0</th>\n      <th>Execution</th>\n      <th>Variation</th>\n      <th>Solution</th>\n      <th>Total throughput [kg]</th>\n      <th>Max total backlog [kg]</th>\n      <th>Mean total backlog [kg]</th>\n      <th>std dev total backlog [kg]</th>\n      <th>Median total backlog [kg]</th>\n      <th>Min total backlog [kg]</th>\n      <th>P(total backlog ≤ 0 kg)</th>\n      <th>Max total inventory deficit [kg]</th>\n      <th>Mean total inventory deficit [kg]</th>\n      <th>std dev inventory deficit [kg]</th>\n      <th>Median total inventory deficit [kg]</th>\n      <th>Min total inventory deficit [kg]</th>\n      <th>Total Deficit [kg]</th>\n      <th>Batches [un]</th>\n      <th>Product label</th>\n      <th>Start of USP [date]</th>\n      <th>End of DSP [date]</th>\n    </tr>\n  </thead>\n  <tbody>\n    <tr>\n      <th>0</th>\n      <td>0</td>\n      <td>Article</td>\n      <td>Article</td>\n      <td>X</td>\n      <td>539.3</td>\n      <td>8.200000</td>\n      <td>0.200000</td>\n      <td>0.600000</td>\n      <td>0.000000</td>\n      <td>0.000000</td>\n      <td>0.82</td>\n      <td>683.400000</td>\n      <td>432.600000</td>\n      <td>58.600000</td>\n      <td>424.400000</td>\n      <td>259.400000</td>\n      <td>NaN</td>\n      <td>[15 10 29 3 15 11 15 6 2 2 2 10]</td>\n      <td>[3 2 0 1 3 2 1 3 2 1 2 3]</td>\n      <td>NaN</td>\n      <td>NaN</td>\n    </tr>\n    <tr>\n      <th>1</th>\n      <td>1</td>\n      <td>Article</td>\n      <td>Article</td>\n      <td>Y</td>\n      <td>601.5</td>\n      <td>16.000000</td>\n      <td>7.100000</td>\n      <td>4.300000</td>\n      <td>0.000000</td>\n      <td>0.000000</td>\n      <td>0.50</td>\n      <td>786.000000</td>\n      <td>558.600000</td>\n      <td>59.000000</td>\n      <td>551.700000</td>\n      <td>355.600000</td>\n      <td>NaN</td>\n      <td>[12 13 24 18 5 19 9 30]</td>\n      <td>[3 2 0 3 1 0 2 3]</td>\n      <td>NaN</td>\n      <td>NaN</td>\n    </tr>\n    <tr>\n      <th>2</th>\n      <td>0</td>\n      <td>0</td>\n      <td>front_nsga,tour_vio,rein_vio,vio_back,calc_montecarlo,100,1000,2,0.11,(0.04, 0.61, 0.77, 0.47)</td>\n      <td>X</td>\n      <td>554.9</td>\n      <td>19.409489</td>\n      <td>11.799082</td>\n      <td>1.892371</td>\n      <td>11.667618</td>\n      <td>6.468578</td>\n      <td>0.00</td>\n      <td>586.336749</td>\n      <td>448.231733</td>\n      <td>34.913342</td>\n      <td>445.919036</td>\n      <td>359.162081</td>\n      <td>445.919036</td>\n      <td>[27  7 29  3 17  6 20  3 11  2]</td>\n      <td>[3 2 0 1 2 3 0 1 3 0]</td>\n      <td>['2016-12-01' '2017-06-30' '2017-09-03' '2018-04-13' '2018-05-23'\\n '2018-10-05' '2018-12-08' '2019-05-16' '2019-06-25' '2019-...</td>\n      <td>['2017-07-27' '2017-10-02' '2018-05-09' '2018-06-21' '2018-11-03'\\n '2019-01-04' '2019-06-11' '2019-07-24' '2019-10-29' '2019-...</td>\n    </tr>\n    <tr>\n      <th>3</th>\n      <td>1</td>\n      <td>0</td>\n      <td>front_nsga,tour_vio,rein_vio,vio_back,calc_montecarlo,100,1000,2,0.11,(0.04, 0.61, 0.77, 0.47)</td>\n      <td>Y</td>\n      <td>604.0</td>\n      <td>25.924724</td>\n      <td>12.081393</td>\n      <td>2.185453</td>\n      <td>11.768075</td>\n      <td>7.257823</td>\n      <td>0.00</td>\n      <td>641.819967</td>\n      <td>522.315557</td>\n      <td>40.354052</td>\n      <td>521.212864</td>\n      <td>399.763425</td>\n      <td>521.212864</td>\n      <td>[ 7 27 25  4 17 21 31]</td>\n      <td>[2 3 0 1 2 0 3]</td>\n      <td>['2016-12-01' '2017-02-04' '2017-09-03' '2018-03-16' '2018-05-06'\\n '2018-09-18' '2019-02-28']</td>\n      <td>['2017-03-05' '2017-09-30' '2018-04-11' '2018-06-04' '2018-10-17'\\n '2019-03-29' '2019-11-21']</td>\n    </tr>\n  </tbody>\n</table>\n</div>"
     },
     "metadata": {},
     "execution_count": 54
    }
   ],
   "source": [
    "name=\"3-210\"\n",
    "result=pd.read_csv(root_path_analysis+name+'.csv')# Import from csv\n",
    "result"
   ]
  },
  {
   "cell_type": "code",
   "execution_count": 55,
   "metadata": {},
   "outputs": [
    {
     "output_type": "execute_result",
     "data": {
      "text/plain": [
       "    Unnamed: 0                          Batches               Products                   Objectives\n",
       "0            0     [27  7 29  3 16  9 20  4 11]    [3 2 0 1 2 3 0 1 3]  [566.5        453.61859436]\n",
       "1            1  [27  7 29  3 17  6 20  3 11  2]  [3 2 0 1 2 3 0 1 3 0]  [554.9        445.91903628]\n",
       "2            2        [ 7 27 24  4 16 19 30  2]      [2 3 0 1 2 0 3 1]  [596.7        490.42523593]\n",
       "3            3        [ 7 27 23  4 16 21 30  2]      [2 3 0 1 2 0 3 1]  [599.8        497.14962151]\n",
       "4            4           [ 7 27 25  4 17 21 31]        [2 3 0 1 2 0 3]    [604.        521.2128637]\n",
       "5            5        [ 7 27 24  4 17 19 30  2]      [2 3 0 1 2 0 3 1]  [601.6        505.81201147]\n",
       "6            6     [ 7 30 21  4 15 22  8  2 18]    [2 3 0 1 2 0 3 2 3]  [583.7        474.14627073]\n",
       "7            7     [ 7 30 22  3 16 22  6  2 18]    [2 3 0 1 2 0 3 1 3]  [577.1        457.19044304]\n",
       "8            8     [ 7 30 23  3 18 19 18  3  7]    [2 3 0 1 2 0 3 1 3]  [592.4        482.25909134]\n",
       "9            9     [ 7 30 22  4 14 21  8  2 20]    [2 3 0 1 2 0 3 2 3]  [589.8        475.02340689]\n",
       "10          10  [ 7 30 22  3 16 20 18  3  2  2]  [2 3 0 1 2 0 3 1 0 2]  [560.1        453.50983608]\n",
       "11          11        [27  7 23  4 16 20 30  2]      [3 2 0 1 2 0 3 2]  [594.1        485.07376363]"
      ],
      "text/html": "<div>\n<style scoped>\n    .dataframe tbody tr th:only-of-type {\n        vertical-align: middle;\n    }\n\n    .dataframe tbody tr th {\n        vertical-align: top;\n    }\n\n    .dataframe thead th {\n        text-align: right;\n    }\n</style>\n<table border=\"1\" class=\"dataframe\">\n  <thead>\n    <tr style=\"text-align: right;\">\n      <th></th>\n      <th>Unnamed: 0</th>\n      <th>Batches</th>\n      <th>Products</th>\n      <th>Objectives</th>\n    </tr>\n  </thead>\n  <tbody>\n    <tr>\n      <th>0</th>\n      <td>0</td>\n      <td>[27  7 29  3 16  9 20  4 11]</td>\n      <td>[3 2 0 1 2 3 0 1 3]</td>\n      <td>[566.5        453.61859436]</td>\n    </tr>\n    <tr>\n      <th>1</th>\n      <td>1</td>\n      <td>[27  7 29  3 17  6 20  3 11  2]</td>\n      <td>[3 2 0 1 2 3 0 1 3 0]</td>\n      <td>[554.9        445.91903628]</td>\n    </tr>\n    <tr>\n      <th>2</th>\n      <td>2</td>\n      <td>[ 7 27 24  4 16 19 30  2]</td>\n      <td>[2 3 0 1 2 0 3 1]</td>\n      <td>[596.7        490.42523593]</td>\n    </tr>\n    <tr>\n      <th>3</th>\n      <td>3</td>\n      <td>[ 7 27 23  4 16 21 30  2]</td>\n      <td>[2 3 0 1 2 0 3 1]</td>\n      <td>[599.8        497.14962151]</td>\n    </tr>\n    <tr>\n      <th>4</th>\n      <td>4</td>\n      <td>[ 7 27 25  4 17 21 31]</td>\n      <td>[2 3 0 1 2 0 3]</td>\n      <td>[604.        521.2128637]</td>\n    </tr>\n    <tr>\n      <th>5</th>\n      <td>5</td>\n      <td>[ 7 27 24  4 17 19 30  2]</td>\n      <td>[2 3 0 1 2 0 3 1]</td>\n      <td>[601.6        505.81201147]</td>\n    </tr>\n    <tr>\n      <th>6</th>\n      <td>6</td>\n      <td>[ 7 30 21  4 15 22  8  2 18]</td>\n      <td>[2 3 0 1 2 0 3 2 3]</td>\n      <td>[583.7        474.14627073]</td>\n    </tr>\n    <tr>\n      <th>7</th>\n      <td>7</td>\n      <td>[ 7 30 22  3 16 22  6  2 18]</td>\n      <td>[2 3 0 1 2 0 3 1 3]</td>\n      <td>[577.1        457.19044304]</td>\n    </tr>\n    <tr>\n      <th>8</th>\n      <td>8</td>\n      <td>[ 7 30 23  3 18 19 18  3  7]</td>\n      <td>[2 3 0 1 2 0 3 1 3]</td>\n      <td>[592.4        482.25909134]</td>\n    </tr>\n    <tr>\n      <th>9</th>\n      <td>9</td>\n      <td>[ 7 30 22  4 14 21  8  2 20]</td>\n      <td>[2 3 0 1 2 0 3 2 3]</td>\n      <td>[589.8        475.02340689]</td>\n    </tr>\n    <tr>\n      <th>10</th>\n      <td>10</td>\n      <td>[ 7 30 22  3 16 20 18  3  2  2]</td>\n      <td>[2 3 0 1 2 0 3 1 0 2]</td>\n      <td>[560.1        453.50983608]</td>\n    </tr>\n    <tr>\n      <th>11</th>\n      <td>11</td>\n      <td>[27  7 23  4 16 20 30  2]</td>\n      <td>[3 2 0 1 2 0 3 2]</td>\n      <td>[594.1        485.07376363]</td>\n    </tr>\n  </tbody>\n</table>\n</div>"
     },
     "metadata": {},
     "execution_count": 55
    }
   ],
   "source": [
    "results=pd.read_csv(root_path_analysis+name+\"solutions.csv\")# Import from csv\n",
    "results"
   ]
  },
  {
   "source": [
    "### 13/2 7\n",
    "- 13/2 7\n",
    "    - For each MC simulation the backlog and\n",
    "        - Monte Carlo simulations=1000\n",
    "        - 16 Executions, with 1000 generations\n",
    "        - Allows the removal of batches when number of batches is lower than the mininmum.The final value may be the minimum or remove the batches using a 50% chance.\n",
    "        - No solution without violations, passing all in front 0\n",
    "            - Violation is the median of the sum of backlogs per simulations\n",
    "            - P backlog is the Probability.\n",
    "                - Total time  17716.7636299 Per execution 1107.29772686875"
   ],
   "cell_type": "markdown",
   "metadata": {}
  },
  {
   "cell_type": "code",
   "execution_count": 56,
   "metadata": {},
   "outputs": [
    {
     "output_type": "execute_result",
     "data": {
      "text/plain": [
       "   Unnamed: 0 Execution                                                                                       Variation Solution  Total throughput [kg]  Max total backlog [kg]  Mean total backlog [kg]  std dev total backlog [kg]  Median total backlog [kg]  Min total backlog [kg]  P(total backlog ≤ 0 kg)  Max total inventory deficit [kg]  Mean total inventory deficit [kg]  std dev inventory deficit [kg]  Median total inventory deficit [kg]  Min total inventory deficit [kg]  Total Deficit [kg]                      Batches [un]              Product label                                                                                          Start of USP [date]                                                                                            End of DSP [date]\n",
       "0           0   Article                                                                                         Article        X                  539.3                8.200000                 0.200000                    0.600000                   0.000000                0.000000                     0.82                        683.400000                         432.600000                       58.600000                           424.400000                        259.400000                 NaN  [15 10 29 3 15 11 15 6 2 2 2 10]  [3 2 0 1 3 2 1 3 2 1 2 3]                                                                                                          NaN                                                                                                          NaN\n",
       "1           1   Article                                                                                         Article        Y                  601.5               16.000000                 7.100000                    4.300000                   0.000000                0.000000                     0.50                        786.000000                         558.600000                       59.000000                           551.700000                        355.600000                 NaN           [12 13 24 18 5 19 9 30]          [3 2 0 3 1 0 2 3]                                                                                                          NaN                                                                                                          NaN\n",
       "2           0         0  front_nsga,tour_vio,rein_vio,vio_back,calc_montecarlo,100,1000,2,0.11,(0.04, 0.61, 0.77, 0.47)        X                  548.7               18.304754                11.670913                    1.756714                  11.578389                7.143638                     0.00                        591.909848                         429.711424                       34.902594                           426.803911                        325.522054          426.803911         [25  9 35  3 14 12  2 30]          [3 2 0 1 2 3 1 0]  ['2016-12-01' '2017-06-16' '2017-09-03' '2018-05-25' '2018-07-04'\\n '2018-10-26' '2019-02-10' '2019-03-11']  ['2017-07-13' '2017-10-02' '2018-06-20' '2018-08-02' '2018-11-24'\\n '2019-03-08' '2019-04-09' '2019-11-21']\n",
       "3           1         0  front_nsga,tour_vio,rein_vio,vio_back,calc_montecarlo,100,1000,2,0.11,(0.04, 0.61, 0.77, 0.47)        Y                  607.5               22.881648                11.707147                    1.836634                  11.560399                7.074971                     0.00                        749.369822                         593.849191                       45.446873                           591.775272                        461.076457          591.775272         [ 4 30 15 11  4 27 10 30]          [2 3 0 2 1 0 2 3]  ['2016-12-01' '2017-01-14' '2017-09-03' '2018-01-02' '2018-04-08'\\n '2018-05-29' '2018-12-20' '2019-03-16']  ['2017-02-12' '2017-09-30' '2018-01-31' '2018-05-04' '2018-06-27'\\n '2019-01-18' '2019-04-14' '2019-11-30']"
      ],
      "text/html": "<div>\n<style scoped>\n    .dataframe tbody tr th:only-of-type {\n        vertical-align: middle;\n    }\n\n    .dataframe tbody tr th {\n        vertical-align: top;\n    }\n\n    .dataframe thead th {\n        text-align: right;\n    }\n</style>\n<table border=\"1\" class=\"dataframe\">\n  <thead>\n    <tr style=\"text-align: right;\">\n      <th></th>\n      <th>Unnamed: 0</th>\n      <th>Execution</th>\n      <th>Variation</th>\n      <th>Solution</th>\n      <th>Total throughput [kg]</th>\n      <th>Max total backlog [kg]</th>\n      <th>Mean total backlog [kg]</th>\n      <th>std dev total backlog [kg]</th>\n      <th>Median total backlog [kg]</th>\n      <th>Min total backlog [kg]</th>\n      <th>P(total backlog ≤ 0 kg)</th>\n      <th>Max total inventory deficit [kg]</th>\n      <th>Mean total inventory deficit [kg]</th>\n      <th>std dev inventory deficit [kg]</th>\n      <th>Median total inventory deficit [kg]</th>\n      <th>Min total inventory deficit [kg]</th>\n      <th>Total Deficit [kg]</th>\n      <th>Batches [un]</th>\n      <th>Product label</th>\n      <th>Start of USP [date]</th>\n      <th>End of DSP [date]</th>\n    </tr>\n  </thead>\n  <tbody>\n    <tr>\n      <th>0</th>\n      <td>0</td>\n      <td>Article</td>\n      <td>Article</td>\n      <td>X</td>\n      <td>539.3</td>\n      <td>8.200000</td>\n      <td>0.200000</td>\n      <td>0.600000</td>\n      <td>0.000000</td>\n      <td>0.000000</td>\n      <td>0.82</td>\n      <td>683.400000</td>\n      <td>432.600000</td>\n      <td>58.600000</td>\n      <td>424.400000</td>\n      <td>259.400000</td>\n      <td>NaN</td>\n      <td>[15 10 29 3 15 11 15 6 2 2 2 10]</td>\n      <td>[3 2 0 1 3 2 1 3 2 1 2 3]</td>\n      <td>NaN</td>\n      <td>NaN</td>\n    </tr>\n    <tr>\n      <th>1</th>\n      <td>1</td>\n      <td>Article</td>\n      <td>Article</td>\n      <td>Y</td>\n      <td>601.5</td>\n      <td>16.000000</td>\n      <td>7.100000</td>\n      <td>4.300000</td>\n      <td>0.000000</td>\n      <td>0.000000</td>\n      <td>0.50</td>\n      <td>786.000000</td>\n      <td>558.600000</td>\n      <td>59.000000</td>\n      <td>551.700000</td>\n      <td>355.600000</td>\n      <td>NaN</td>\n      <td>[12 13 24 18 5 19 9 30]</td>\n      <td>[3 2 0 3 1 0 2 3]</td>\n      <td>NaN</td>\n      <td>NaN</td>\n    </tr>\n    <tr>\n      <th>2</th>\n      <td>0</td>\n      <td>0</td>\n      <td>front_nsga,tour_vio,rein_vio,vio_back,calc_montecarlo,100,1000,2,0.11,(0.04, 0.61, 0.77, 0.47)</td>\n      <td>X</td>\n      <td>548.7</td>\n      <td>18.304754</td>\n      <td>11.670913</td>\n      <td>1.756714</td>\n      <td>11.578389</td>\n      <td>7.143638</td>\n      <td>0.00</td>\n      <td>591.909848</td>\n      <td>429.711424</td>\n      <td>34.902594</td>\n      <td>426.803911</td>\n      <td>325.522054</td>\n      <td>426.803911</td>\n      <td>[25  9 35  3 14 12  2 30]</td>\n      <td>[3 2 0 1 2 3 1 0]</td>\n      <td>['2016-12-01' '2017-06-16' '2017-09-03' '2018-05-25' '2018-07-04'\\n '2018-10-26' '2019-02-10' '2019-03-11']</td>\n      <td>['2017-07-13' '2017-10-02' '2018-06-20' '2018-08-02' '2018-11-24'\\n '2019-03-08' '2019-04-09' '2019-11-21']</td>\n    </tr>\n    <tr>\n      <th>3</th>\n      <td>1</td>\n      <td>0</td>\n      <td>front_nsga,tour_vio,rein_vio,vio_back,calc_montecarlo,100,1000,2,0.11,(0.04, 0.61, 0.77, 0.47)</td>\n      <td>Y</td>\n      <td>607.5</td>\n      <td>22.881648</td>\n      <td>11.707147</td>\n      <td>1.836634</td>\n      <td>11.560399</td>\n      <td>7.074971</td>\n      <td>0.00</td>\n      <td>749.369822</td>\n      <td>593.849191</td>\n      <td>45.446873</td>\n      <td>591.775272</td>\n      <td>461.076457</td>\n      <td>591.775272</td>\n      <td>[ 4 30 15 11  4 27 10 30]</td>\n      <td>[2 3 0 2 1 0 2 3]</td>\n      <td>['2016-12-01' '2017-01-14' '2017-09-03' '2018-01-02' '2018-04-08'\\n '2018-05-29' '2018-12-20' '2019-03-16']</td>\n      <td>['2017-02-12' '2017-09-30' '2018-01-31' '2018-05-04' '2018-06-27'\\n '2019-01-18' '2019-04-14' '2019-11-30']</td>\n    </tr>\n  </tbody>\n</table>\n</div>"
     },
     "metadata": {},
     "execution_count": 56
    }
   ],
   "source": [
    "name=\"13-27\"\n",
    "result=pd.read_csv(root_path_analysis+name+'.csv')# Import from csv\n",
    "result"
   ]
  },
  {
   "cell_type": "code",
   "execution_count": 57,
   "metadata": {},
   "outputs": [
    {
     "output_type": "execute_result",
     "data": {
      "text/plain": [
       "    Unnamed: 0                          Batches               Products                   Objectives\n",
       "0            0        [24 10 35  3 14 14  2 28]      [3 2 0 1 2 3 1 0]  [552.9        443.25816755]\n",
       "1            1  [25  9 35  3 14 19  8  3  7  2]  [3 2 0 1 2 3 0 1 0 2]  [556.7        451.62145183]\n",
       "2            2        [25  9 35  3 14 12  2 30]      [3 2 0 1 2 3 1 0]  [548.7        426.80391143]\n",
       "3            3        [24  9 36  3 14 16  2 27]      [3 2 0 1 2 3 1 0]  [559.         457.31478541]\n",
       "4            4        [24 10 36  3 14 14  2 28]      [3 2 0 1 2 3 1 0]  [556.         451.04800079]\n",
       "5            5        [24 10 35  3 14 16  2 26]      [3 2 0 1 2 3 1 0]  [557.7        457.02352359]\n",
       "6            6        [24  9 36  3 14 14  2 29]      [3 2 0 1 2 3 1 0]  [554.2        448.80964111]\n",
       "7            7           [ 7 30 26  4 16 17 30]        [2 3 0 1 2 0 3]  [600.8        463.35439663]\n",
       "8            8     [ 7 30 24  3 17 18 13  3 12]    [2 3 0 1 2 0 3 1 3]  [587.5        462.04430988]\n",
       "9            9     [ 7 30 22  3 16 21 14  3 10]    [2 3 0 1 2 0 3 1 3]  [580.2        457.72329912]\n",
       "10          10        [ 7 30 25  4 16 16 30  2]      [2 3 0 1 2 0 3 2]    [604.4       467.7658428]\n",
       "11          11        [ 4 30 15 11  4 27 10 30]      [2 3 0 2 1 0 2 3]  [607.5        591.77527227]\n",
       "12          12        [ 4 30 15 12  4 28  8 30]      [2 3 0 2 1 0 2 3]  [605.7        589.54162691]"
      ],
      "text/html": "<div>\n<style scoped>\n    .dataframe tbody tr th:only-of-type {\n        vertical-align: middle;\n    }\n\n    .dataframe tbody tr th {\n        vertical-align: top;\n    }\n\n    .dataframe thead th {\n        text-align: right;\n    }\n</style>\n<table border=\"1\" class=\"dataframe\">\n  <thead>\n    <tr style=\"text-align: right;\">\n      <th></th>\n      <th>Unnamed: 0</th>\n      <th>Batches</th>\n      <th>Products</th>\n      <th>Objectives</th>\n    </tr>\n  </thead>\n  <tbody>\n    <tr>\n      <th>0</th>\n      <td>0</td>\n      <td>[24 10 35  3 14 14  2 28]</td>\n      <td>[3 2 0 1 2 3 1 0]</td>\n      <td>[552.9        443.25816755]</td>\n    </tr>\n    <tr>\n      <th>1</th>\n      <td>1</td>\n      <td>[25  9 35  3 14 19  8  3  7  2]</td>\n      <td>[3 2 0 1 2 3 0 1 0 2]</td>\n      <td>[556.7        451.62145183]</td>\n    </tr>\n    <tr>\n      <th>2</th>\n      <td>2</td>\n      <td>[25  9 35  3 14 12  2 30]</td>\n      <td>[3 2 0 1 2 3 1 0]</td>\n      <td>[548.7        426.80391143]</td>\n    </tr>\n    <tr>\n      <th>3</th>\n      <td>3</td>\n      <td>[24  9 36  3 14 16  2 27]</td>\n      <td>[3 2 0 1 2 3 1 0]</td>\n      <td>[559.         457.31478541]</td>\n    </tr>\n    <tr>\n      <th>4</th>\n      <td>4</td>\n      <td>[24 10 36  3 14 14  2 28]</td>\n      <td>[3 2 0 1 2 3 1 0]</td>\n      <td>[556.         451.04800079]</td>\n    </tr>\n    <tr>\n      <th>5</th>\n      <td>5</td>\n      <td>[24 10 35  3 14 16  2 26]</td>\n      <td>[3 2 0 1 2 3 1 0]</td>\n      <td>[557.7        457.02352359]</td>\n    </tr>\n    <tr>\n      <th>6</th>\n      <td>6</td>\n      <td>[24  9 36  3 14 14  2 29]</td>\n      <td>[3 2 0 1 2 3 1 0]</td>\n      <td>[554.2        448.80964111]</td>\n    </tr>\n    <tr>\n      <th>7</th>\n      <td>7</td>\n      <td>[ 7 30 26  4 16 17 30]</td>\n      <td>[2 3 0 1 2 0 3]</td>\n      <td>[600.8        463.35439663]</td>\n    </tr>\n    <tr>\n      <th>8</th>\n      <td>8</td>\n      <td>[ 7 30 24  3 17 18 13  3 12]</td>\n      <td>[2 3 0 1 2 0 3 1 3]</td>\n      <td>[587.5        462.04430988]</td>\n    </tr>\n    <tr>\n      <th>9</th>\n      <td>9</td>\n      <td>[ 7 30 22  3 16 21 14  3 10]</td>\n      <td>[2 3 0 1 2 0 3 1 3]</td>\n      <td>[580.2        457.72329912]</td>\n    </tr>\n    <tr>\n      <th>10</th>\n      <td>10</td>\n      <td>[ 7 30 25  4 16 16 30  2]</td>\n      <td>[2 3 0 1 2 0 3 2]</td>\n      <td>[604.4       467.7658428]</td>\n    </tr>\n    <tr>\n      <th>11</th>\n      <td>11</td>\n      <td>[ 4 30 15 11  4 27 10 30]</td>\n      <td>[2 3 0 2 1 0 2 3]</td>\n      <td>[607.5        591.77527227]</td>\n    </tr>\n    <tr>\n      <th>12</th>\n      <td>12</td>\n      <td>[ 4 30 15 12  4 28  8 30]</td>\n      <td>[2 3 0 2 1 0 2 3]</td>\n      <td>[605.7        589.54162691]</td>\n    </tr>\n  </tbody>\n</table>\n</div>"
     },
     "metadata": {},
     "execution_count": 57
    }
   ],
   "source": [
    "results=pd.read_csv(root_path_analysis+name+\"solutions.csv\")# Import from csv\n",
    "results"
   ]
  },
  {
   "source": [
    "### 14/2 16\n",
    "- 14/2 16\n",
    "    - For each MC simulation the backlog and\n",
    "        - Monte Carlo simulations=1000\n",
    "        - 20 Executions, with 1000 generations\n",
    "        - No Modifications\n",
    "        - No solution without violations, passing all in front 0\n",
    "            - Violation is the median of the sum of backlogs per simulations\n",
    "            - P backlog is the Probability.\n",
    "                - Total time  17716.7636299 Per execution 1107.29772686875"
   ],
   "cell_type": "markdown",
   "metadata": {}
  },
  {
   "cell_type": "code",
   "execution_count": 58,
   "metadata": {},
   "outputs": [
    {
     "output_type": "execute_result",
     "data": {
      "text/plain": [
       "   Unnamed: 0 Execution                                                                                       Variation Solution  Total throughput [kg]  Max total backlog [kg]  Mean total backlog [kg]  std dev total backlog [kg]  Median total backlog [kg]  Min total backlog [kg]  P(total backlog ≤ 0 kg)  Max total inventory deficit [kg]  Mean total inventory deficit [kg]  std dev inventory deficit [kg]  Median total inventory deficit [kg]  Min total inventory deficit [kg]  Total Deficit [kg]                           Batches [un]              Product label                                                                                                                Start of USP [date]                                                                                                                  End of DSP [date]\n",
       "0           0   Article                                                                                         Article        X                  539.3                8.200000                 0.200000                    0.600000                   0.000000                0.000000                     0.82                        683.400000                         432.600000                       58.600000                           424.400000                        259.400000                 NaN       [15 10 29 3 15 11 15 6 2 2 2 10]  [3 2 0 1 3 2 1 3 2 1 2 3]                                                                                                                                NaN                                                                                                                                NaN\n",
       "1           1   Article                                                                                         Article        Y                  601.5               16.000000                 7.100000                    4.300000                   0.000000                0.000000                     0.50                        786.000000                         558.600000                       59.000000                           551.700000                        355.600000                 NaN                [12 13 24 18 5 19 9 30]          [3 2 0 3 1 0 2 3]                                                                                                                                NaN                                                                                                                                NaN\n",
       "2           0         0  front_nsga,tour_vio,rein_vio,vio_back,calc_montecarlo,100,1000,2,0.11,(0.04, 0.61, 0.77, 0.47)        X                  528.4               36.313489                21.975917                    2.048688                  21.864219               16.822605                     0.00                        547.870535                         428.272669                       32.762231                           426.476958                        346.223493          426.476958  [10 30  2 35 14  2  4  9  2  2  3  2]  [2 3 1 0 2 1 0 3 1 2 1 2]  ['2016-12-01' '2017-02-25' '2017-10-16' '2017-11-14' '2018-08-02'\\n '2018-11-27' '2018-12-26' '2019-02-08' '2019-05-05' '2019-...  ['2017-03-26' '2017-11-11' '2017-12-13' '2018-08-31' '2018-12-23'\\n '2019-01-24' '2019-03-09' '2019-05-31' '2019-07-02' '2019-...\n",
       "3           1         0  front_nsga,tour_vio,rein_vio,vio_back,calc_montecarlo,100,1000,2,0.11,(0.04, 0.61, 0.77, 0.47)        Y                  613.7               23.566033                15.112092                    2.102812                  14.975983                9.156876                     0.00                        622.860949                         494.129687                       38.414582                           490.654557                        371.228680          490.654557                 [ 7 30 26  4 18 18 30]            [2 3 0 1 2 0 3]                                     ['2016-12-01' '2017-02-04' '2017-09-24' '2018-04-13' '2018-06-03'\\n '2018-10-23' '2019-03-14']                                     ['2017-03-05' '2017-10-21' '2018-05-09' '2018-07-02' '2018-11-21'\\n '2019-04-12' '2019-11-28']"
      ],
      "text/html": "<div>\n<style scoped>\n    .dataframe tbody tr th:only-of-type {\n        vertical-align: middle;\n    }\n\n    .dataframe tbody tr th {\n        vertical-align: top;\n    }\n\n    .dataframe thead th {\n        text-align: right;\n    }\n</style>\n<table border=\"1\" class=\"dataframe\">\n  <thead>\n    <tr style=\"text-align: right;\">\n      <th></th>\n      <th>Unnamed: 0</th>\n      <th>Execution</th>\n      <th>Variation</th>\n      <th>Solution</th>\n      <th>Total throughput [kg]</th>\n      <th>Max total backlog [kg]</th>\n      <th>Mean total backlog [kg]</th>\n      <th>std dev total backlog [kg]</th>\n      <th>Median total backlog [kg]</th>\n      <th>Min total backlog [kg]</th>\n      <th>P(total backlog ≤ 0 kg)</th>\n      <th>Max total inventory deficit [kg]</th>\n      <th>Mean total inventory deficit [kg]</th>\n      <th>std dev inventory deficit [kg]</th>\n      <th>Median total inventory deficit [kg]</th>\n      <th>Min total inventory deficit [kg]</th>\n      <th>Total Deficit [kg]</th>\n      <th>Batches [un]</th>\n      <th>Product label</th>\n      <th>Start of USP [date]</th>\n      <th>End of DSP [date]</th>\n    </tr>\n  </thead>\n  <tbody>\n    <tr>\n      <th>0</th>\n      <td>0</td>\n      <td>Article</td>\n      <td>Article</td>\n      <td>X</td>\n      <td>539.3</td>\n      <td>8.200000</td>\n      <td>0.200000</td>\n      <td>0.600000</td>\n      <td>0.000000</td>\n      <td>0.000000</td>\n      <td>0.82</td>\n      <td>683.400000</td>\n      <td>432.600000</td>\n      <td>58.600000</td>\n      <td>424.400000</td>\n      <td>259.400000</td>\n      <td>NaN</td>\n      <td>[15 10 29 3 15 11 15 6 2 2 2 10]</td>\n      <td>[3 2 0 1 3 2 1 3 2 1 2 3]</td>\n      <td>NaN</td>\n      <td>NaN</td>\n    </tr>\n    <tr>\n      <th>1</th>\n      <td>1</td>\n      <td>Article</td>\n      <td>Article</td>\n      <td>Y</td>\n      <td>601.5</td>\n      <td>16.000000</td>\n      <td>7.100000</td>\n      <td>4.300000</td>\n      <td>0.000000</td>\n      <td>0.000000</td>\n      <td>0.50</td>\n      <td>786.000000</td>\n      <td>558.600000</td>\n      <td>59.000000</td>\n      <td>551.700000</td>\n      <td>355.600000</td>\n      <td>NaN</td>\n      <td>[12 13 24 18 5 19 9 30]</td>\n      <td>[3 2 0 3 1 0 2 3]</td>\n      <td>NaN</td>\n      <td>NaN</td>\n    </tr>\n    <tr>\n      <th>2</th>\n      <td>0</td>\n      <td>0</td>\n      <td>front_nsga,tour_vio,rein_vio,vio_back,calc_montecarlo,100,1000,2,0.11,(0.04, 0.61, 0.77, 0.47)</td>\n      <td>X</td>\n      <td>528.4</td>\n      <td>36.313489</td>\n      <td>21.975917</td>\n      <td>2.048688</td>\n      <td>21.864219</td>\n      <td>16.822605</td>\n      <td>0.00</td>\n      <td>547.870535</td>\n      <td>428.272669</td>\n      <td>32.762231</td>\n      <td>426.476958</td>\n      <td>346.223493</td>\n      <td>426.476958</td>\n      <td>[10 30  2 35 14  2  4  9  2  2  3  2]</td>\n      <td>[2 3 1 0 2 1 0 3 1 2 1 2]</td>\n      <td>['2016-12-01' '2017-02-25' '2017-10-16' '2017-11-14' '2018-08-02'\\n '2018-11-27' '2018-12-26' '2019-02-08' '2019-05-05' '2019-...</td>\n      <td>['2017-03-26' '2017-11-11' '2017-12-13' '2018-08-31' '2018-12-23'\\n '2019-01-24' '2019-03-09' '2019-05-31' '2019-07-02' '2019-...</td>\n    </tr>\n    <tr>\n      <th>3</th>\n      <td>1</td>\n      <td>0</td>\n      <td>front_nsga,tour_vio,rein_vio,vio_back,calc_montecarlo,100,1000,2,0.11,(0.04, 0.61, 0.77, 0.47)</td>\n      <td>Y</td>\n      <td>613.7</td>\n      <td>23.566033</td>\n      <td>15.112092</td>\n      <td>2.102812</td>\n      <td>14.975983</td>\n      <td>9.156876</td>\n      <td>0.00</td>\n      <td>622.860949</td>\n      <td>494.129687</td>\n      <td>38.414582</td>\n      <td>490.654557</td>\n      <td>371.228680</td>\n      <td>490.654557</td>\n      <td>[ 7 30 26  4 18 18 30]</td>\n      <td>[2 3 0 1 2 0 3]</td>\n      <td>['2016-12-01' '2017-02-04' '2017-09-24' '2018-04-13' '2018-06-03'\\n '2018-10-23' '2019-03-14']</td>\n      <td>['2017-03-05' '2017-10-21' '2018-05-09' '2018-07-02' '2018-11-21'\\n '2019-04-12' '2019-11-28']</td>\n    </tr>\n  </tbody>\n</table>\n</div>"
     },
     "metadata": {},
     "execution_count": 58
    }
   ],
   "source": [
    "name=\"14-216\"\n",
    "result=pd.read_csv(root_path_analysis+name+'.csv')# Import from csv\n",
    "result"
   ]
  },
  {
   "cell_type": "code",
   "execution_count": 59,
   "metadata": {},
   "outputs": [
    {
     "output_type": "execute_result",
     "data": {
      "text/plain": [
       "   Unnamed: 0                                Batches                   Products                   Objectives\n",
       "0           0           [10 30  2 36 14  2  4 26  5]        [2 3 1 0 2 1 0 3 2]  [598.9        439.96186022]\n",
       "1           1        [10 30  2 36 15  2  3  2 25  5]      [2 3 1 0 2 1 0 2 3 3]  [608.         460.52886703]\n",
       "2           2              [11 30  2 36 14  2  4 30]          [2 3 1 0 2 1 0 3]  [601.3        456.99057513]\n",
       "3           3           [10 30  2 35 14  2  4 26  4]        [2 3 1 0 2 1 0 3 1]    [596.1       430.4605612]\n",
       "4           4  [10 30  2 35 14  2  4  9  2  2  3  2]  [2 3 1 0 2 1 0 3 1 2 1 2]  [528.4        426.47695847]\n",
       "5           5                 [24  9  3 39 14 30 10]            [3 2 1 0 2 3 1]  [611.2        471.36959103]\n",
       "6           6                 [ 7 30 26  4 18 18 30]            [2 3 0 1 2 0 3]  [613.7        490.65455717]"
      ],
      "text/html": "<div>\n<style scoped>\n    .dataframe tbody tr th:only-of-type {\n        vertical-align: middle;\n    }\n\n    .dataframe tbody tr th {\n        vertical-align: top;\n    }\n\n    .dataframe thead th {\n        text-align: right;\n    }\n</style>\n<table border=\"1\" class=\"dataframe\">\n  <thead>\n    <tr style=\"text-align: right;\">\n      <th></th>\n      <th>Unnamed: 0</th>\n      <th>Batches</th>\n      <th>Products</th>\n      <th>Objectives</th>\n    </tr>\n  </thead>\n  <tbody>\n    <tr>\n      <th>0</th>\n      <td>0</td>\n      <td>[10 30  2 36 14  2  4 26  5]</td>\n      <td>[2 3 1 0 2 1 0 3 2]</td>\n      <td>[598.9        439.96186022]</td>\n    </tr>\n    <tr>\n      <th>1</th>\n      <td>1</td>\n      <td>[10 30  2 36 15  2  3  2 25  5]</td>\n      <td>[2 3 1 0 2 1 0 2 3 3]</td>\n      <td>[608.         460.52886703]</td>\n    </tr>\n    <tr>\n      <th>2</th>\n      <td>2</td>\n      <td>[11 30  2 36 14  2  4 30]</td>\n      <td>[2 3 1 0 2 1 0 3]</td>\n      <td>[601.3        456.99057513]</td>\n    </tr>\n    <tr>\n      <th>3</th>\n      <td>3</td>\n      <td>[10 30  2 35 14  2  4 26  4]</td>\n      <td>[2 3 1 0 2 1 0 3 1]</td>\n      <td>[596.1       430.4605612]</td>\n    </tr>\n    <tr>\n      <th>4</th>\n      <td>4</td>\n      <td>[10 30  2 35 14  2  4  9  2  2  3  2]</td>\n      <td>[2 3 1 0 2 1 0 3 1 2 1 2]</td>\n      <td>[528.4        426.47695847]</td>\n    </tr>\n    <tr>\n      <th>5</th>\n      <td>5</td>\n      <td>[24  9  3 39 14 30 10]</td>\n      <td>[3 2 1 0 2 3 1]</td>\n      <td>[611.2        471.36959103]</td>\n    </tr>\n    <tr>\n      <th>6</th>\n      <td>6</td>\n      <td>[ 7 30 26  4 18 18 30]</td>\n      <td>[2 3 0 1 2 0 3]</td>\n      <td>[613.7        490.65455717]</td>\n    </tr>\n  </tbody>\n</table>\n</div>"
     },
     "metadata": {},
     "execution_count": 59
    }
   ],
   "source": [
    "results=pd.read_csv(root_path_analysis+name+\"solutions.csv\")# Import from csv\n",
    "results"
   ]
  },
  {
   "source": [
    "### 18/2 16\n",
    "- 18/2 16\n",
    "    - For each MC simulation the backlog and\n",
    "        - Monte Carlo simulations=1000\n",
    "        - 21 Executions, with 1000 generations\n",
    "        - Population object, was parsed using the parse_incomplete_executions. It might be the reason for the high vlaue of throughput.\n",
    "        - Uses a pCross of 50%\n",
    "        - No solution without violations, passing all in front 0\n",
    "            - Violation is the median of the sum of backlogs per simulations\n",
    "            - P backlog is the Probability.\n",
    "                - Total time  17716.7636299 Per execution 1107.29772686875"
   ],
   "cell_type": "markdown",
   "metadata": {}
  },
  {
   "cell_type": "code",
   "execution_count": 60,
   "metadata": {},
   "outputs": [
    {
     "output_type": "execute_result",
     "data": {
      "text/plain": [
       "   Unnamed: 0 Execution                                                                                       Variation Solution  Total throughput [kg]  Max total backlog [kg]  Mean total backlog [kg]  std dev total backlog [kg]  Median total backlog [kg]  Min total backlog [kg]  P(total backlog ≤ 0 kg)  Max total inventory deficit [kg]  Mean total inventory deficit [kg]  std dev inventory deficit [kg]  Median total inventory deficit [kg]  Min total inventory deficit [kg]  Total Deficit [kg]                        Batches [un]              Product label                                                                                                                Start of USP [date]                                                                                                                  End of DSP [date]\n",
       "0           0   Article                                                                                         Article        X                  539.3                8.200000                 0.200000                    0.600000                    0.00000                0.000000                     0.82                        683.400000                         432.600000                       58.600000                           424.400000                        259.400000                 NaN    [15 10 29 3 15 11 15 6 2 2 2 10]  [3 2 0 1 3 2 1 3 2 1 2 3]                                                                                                                                NaN                                                                                                                                NaN\n",
       "1           1   Article                                                                                         Article        Y                  601.5               16.000000                 7.100000                    4.300000                    0.00000                0.000000                     0.50                        786.000000                         558.600000                       59.000000                           551.700000                        355.600000                 NaN             [12 13 24 18 5 19 9 30]          [3 2 0 3 1 0 2 3]                                                                                                                                NaN                                                                                                                                NaN\n",
       "2           0         0  front_nsga,tour_vio,rein_vio,vio_back,calc_montecarlo,100,1000,2,0.11,(0.04, 0.61, 0.77, 0.47)        X                 1455.0               17.686608                11.757359                    1.780045                   11.62267                6.814547                     0.00                        636.745553                         455.158944                       38.377105                           451.562055                        337.581428          451.562055  [27  7 24  3 16 15 10 11  2  6  2]    [3 2 0 1 2 0 3 0 1 3 2]  ['2016-12-01' '2017-06-30' '2017-09-03' '2018-03-09' '2018-04-18'\\n '2018-08-24' '2018-12-23' '2019-03-25' '2019-06-29' '2019-...  ['2017-07-27' '2017-10-02' '2018-04-04' '2018-05-17' '2018-09-22'\\n '2019-01-21' '2019-04-21' '2019-07-25' '2019-08-26' '2019-...\n",
       "3           1         0  front_nsga,tour_vio,rein_vio,vio_back,calc_montecarlo,100,1000,2,0.11,(0.04, 0.61, 0.77, 0.47)        Y                 1455.0               17.686608                11.757359                    1.780045                   11.62267                6.814547                     0.00                        636.745553                         455.158944                       38.377105                           451.562055                        337.581428          451.562055  [27  7 24  3 16 15 10 11  2  6  2]    [3 2 0 1 2 0 3 0 1 3 2]  ['2016-12-01' '2017-06-30' '2017-09-03' '2018-03-09' '2018-04-18'\\n '2018-08-24' '2018-12-23' '2019-03-25' '2019-06-29' '2019-...  ['2017-07-27' '2017-10-02' '2018-04-04' '2018-05-17' '2018-09-22'\\n '2019-01-21' '2019-04-21' '2019-07-25' '2019-08-26' '2019-..."
      ],
      "text/html": "<div>\n<style scoped>\n    .dataframe tbody tr th:only-of-type {\n        vertical-align: middle;\n    }\n\n    .dataframe tbody tr th {\n        vertical-align: top;\n    }\n\n    .dataframe thead th {\n        text-align: right;\n    }\n</style>\n<table border=\"1\" class=\"dataframe\">\n  <thead>\n    <tr style=\"text-align: right;\">\n      <th></th>\n      <th>Unnamed: 0</th>\n      <th>Execution</th>\n      <th>Variation</th>\n      <th>Solution</th>\n      <th>Total throughput [kg]</th>\n      <th>Max total backlog [kg]</th>\n      <th>Mean total backlog [kg]</th>\n      <th>std dev total backlog [kg]</th>\n      <th>Median total backlog [kg]</th>\n      <th>Min total backlog [kg]</th>\n      <th>P(total backlog ≤ 0 kg)</th>\n      <th>Max total inventory deficit [kg]</th>\n      <th>Mean total inventory deficit [kg]</th>\n      <th>std dev inventory deficit [kg]</th>\n      <th>Median total inventory deficit [kg]</th>\n      <th>Min total inventory deficit [kg]</th>\n      <th>Total Deficit [kg]</th>\n      <th>Batches [un]</th>\n      <th>Product label</th>\n      <th>Start of USP [date]</th>\n      <th>End of DSP [date]</th>\n    </tr>\n  </thead>\n  <tbody>\n    <tr>\n      <th>0</th>\n      <td>0</td>\n      <td>Article</td>\n      <td>Article</td>\n      <td>X</td>\n      <td>539.3</td>\n      <td>8.200000</td>\n      <td>0.200000</td>\n      <td>0.600000</td>\n      <td>0.00000</td>\n      <td>0.000000</td>\n      <td>0.82</td>\n      <td>683.400000</td>\n      <td>432.600000</td>\n      <td>58.600000</td>\n      <td>424.400000</td>\n      <td>259.400000</td>\n      <td>NaN</td>\n      <td>[15 10 29 3 15 11 15 6 2 2 2 10]</td>\n      <td>[3 2 0 1 3 2 1 3 2 1 2 3]</td>\n      <td>NaN</td>\n      <td>NaN</td>\n    </tr>\n    <tr>\n      <th>1</th>\n      <td>1</td>\n      <td>Article</td>\n      <td>Article</td>\n      <td>Y</td>\n      <td>601.5</td>\n      <td>16.000000</td>\n      <td>7.100000</td>\n      <td>4.300000</td>\n      <td>0.00000</td>\n      <td>0.000000</td>\n      <td>0.50</td>\n      <td>786.000000</td>\n      <td>558.600000</td>\n      <td>59.000000</td>\n      <td>551.700000</td>\n      <td>355.600000</td>\n      <td>NaN</td>\n      <td>[12 13 24 18 5 19 9 30]</td>\n      <td>[3 2 0 3 1 0 2 3]</td>\n      <td>NaN</td>\n      <td>NaN</td>\n    </tr>\n    <tr>\n      <th>2</th>\n      <td>0</td>\n      <td>0</td>\n      <td>front_nsga,tour_vio,rein_vio,vio_back,calc_montecarlo,100,1000,2,0.11,(0.04, 0.61, 0.77, 0.47)</td>\n      <td>X</td>\n      <td>1455.0</td>\n      <td>17.686608</td>\n      <td>11.757359</td>\n      <td>1.780045</td>\n      <td>11.62267</td>\n      <td>6.814547</td>\n      <td>0.00</td>\n      <td>636.745553</td>\n      <td>455.158944</td>\n      <td>38.377105</td>\n      <td>451.562055</td>\n      <td>337.581428</td>\n      <td>451.562055</td>\n      <td>[27  7 24  3 16 15 10 11  2  6  2]</td>\n      <td>[3 2 0 1 2 0 3 0 1 3 2]</td>\n      <td>['2016-12-01' '2017-06-30' '2017-09-03' '2018-03-09' '2018-04-18'\\n '2018-08-24' '2018-12-23' '2019-03-25' '2019-06-29' '2019-...</td>\n      <td>['2017-07-27' '2017-10-02' '2018-04-04' '2018-05-17' '2018-09-22'\\n '2019-01-21' '2019-04-21' '2019-07-25' '2019-08-26' '2019-...</td>\n    </tr>\n    <tr>\n      <th>3</th>\n      <td>1</td>\n      <td>0</td>\n      <td>front_nsga,tour_vio,rein_vio,vio_back,calc_montecarlo,100,1000,2,0.11,(0.04, 0.61, 0.77, 0.47)</td>\n      <td>Y</td>\n      <td>1455.0</td>\n      <td>17.686608</td>\n      <td>11.757359</td>\n      <td>1.780045</td>\n      <td>11.62267</td>\n      <td>6.814547</td>\n      <td>0.00</td>\n      <td>636.745553</td>\n      <td>455.158944</td>\n      <td>38.377105</td>\n      <td>451.562055</td>\n      <td>337.581428</td>\n      <td>451.562055</td>\n      <td>[27  7 24  3 16 15 10 11  2  6  2]</td>\n      <td>[3 2 0 1 2 0 3 0 1 3 2]</td>\n      <td>['2016-12-01' '2017-06-30' '2017-09-03' '2018-03-09' '2018-04-18'\\n '2018-08-24' '2018-12-23' '2019-03-25' '2019-06-29' '2019-...</td>\n      <td>['2017-07-27' '2017-10-02' '2018-04-04' '2018-05-17' '2018-09-22'\\n '2019-01-21' '2019-04-21' '2019-07-25' '2019-08-26' '2019-...</td>\n    </tr>\n  </tbody>\n</table>\n</div>"
     },
     "metadata": {},
     "execution_count": 60
    }
   ],
   "source": [
    "name=\"18-214\"\n",
    "result=pd.read_csv(root_path_analysis+name+'.csv')# Import from csv\n",
    "result"
   ]
  },
  {
   "cell_type": "code",
   "execution_count": 61,
   "metadata": {},
   "outputs": [
    {
     "output_type": "execute_result",
     "data": {
      "text/plain": [
       "   Unnamed: 0                             Batches                 Products                     Objectives\n",
       "0           0  [27  7 24  3 16 15 10 11  2  6  2]  [3 2 0 1 2 0 3 0 1 3 2]  [1455.          451.56205524]"
      ],
      "text/html": "<div>\n<style scoped>\n    .dataframe tbody tr th:only-of-type {\n        vertical-align: middle;\n    }\n\n    .dataframe tbody tr th {\n        vertical-align: top;\n    }\n\n    .dataframe thead th {\n        text-align: right;\n    }\n</style>\n<table border=\"1\" class=\"dataframe\">\n  <thead>\n    <tr style=\"text-align: right;\">\n      <th></th>\n      <th>Unnamed: 0</th>\n      <th>Batches</th>\n      <th>Products</th>\n      <th>Objectives</th>\n    </tr>\n  </thead>\n  <tbody>\n    <tr>\n      <th>0</th>\n      <td>0</td>\n      <td>[27  7 24  3 16 15 10 11  2  6  2]</td>\n      <td>[3 2 0 1 2 0 3 0 1 3 2]</td>\n      <td>[1455.          451.56205524]</td>\n    </tr>\n  </tbody>\n</table>\n</div>"
     },
     "metadata": {},
     "execution_count": 61
    }
   ],
   "source": [
    "results=pd.read_csv(root_path_analysis+name+\"solutions.csv\")# Import from csv\n",
    "results"
   ]
  },
  {
   "source": [
    "### 18/2 17\n",
    "- 18/2 17\n",
    "    - For each MC simulation the backlog and\n",
    "        - Monte Carlo simulations=1000\n",
    "        - 2 Executions, with 1000 generations\n",
    "        - Uses a pCross of 50%, instead of the 11% as previously(in the base case).\n",
    "        - For the first time I find a minimum Total Backlog that reaches 0\n",
    "        - No solution without violations, passing all in front 0\n",
    "            - Violation is the median of the sum of backlogs per simulations\n",
    "            - P backlog is the Probability.\n",
    "                - Total time  3909.8843908 Per execution 1954.9421954 (Used only one worker)"
   ],
   "cell_type": "markdown",
   "metadata": {}
  },
  {
   "cell_type": "code",
   "execution_count": 62,
   "metadata": {},
   "outputs": [
    {
     "output_type": "execute_result",
     "data": {
      "text/plain": [
       "   Unnamed: 0 Execution                                                                                      Variation Solution  Total throughput [kg]  Max total backlog [kg]  Mean total backlog [kg]  std dev total backlog [kg]  Median total backlog [kg]  Min total backlog [kg]  P(total backlog ≤ 0 kg)  Max total inventory deficit [kg]  Mean total inventory deficit [kg]  std dev inventory deficit [kg]  Median total inventory deficit [kg]  Min total inventory deficit [kg]  Total Deficit [kg]                      Batches [un]              Product label                                                                                                                Start of USP [date]                                                                                                                  End of DSP [date]\n",
       "0           0   Article                                                                                        Article        X                  539.3                8.200000                 0.200000                    0.600000                   0.000000                0.000000                    0.820                        683.400000                         432.600000                       58.600000                           424.400000                        259.400000                 NaN  [15 10 29 3 15 11 15 6 2 2 2 10]  [3 2 0 1 3 2 1 3 2 1 2 3]                                                                                                                                NaN                                                                                                                                NaN\n",
       "1           1   Article                                                                                        Article        Y                  601.5               16.000000                 7.100000                    4.300000                   0.000000                0.000000                    0.500                        786.000000                         558.600000                       59.000000                           551.700000                        355.600000                 NaN           [12 13 24 18 5 19 9 30]          [3 2 0 3 1 0 2 3]                                                                                                                                NaN                                                                                                                                NaN\n",
       "2           0         0  front_nsga,tour_vio,rein_vio,vio_back,calc_montecarlo,100,1000,2,0.5,(0.04, 0.61, 0.77, 0.47)        X                  516.3               17.558853                11.547462                    1.708745                  11.499028                6.610422                    0.000                        618.424631                         463.736135                       38.587908                           460.280338                        354.447866          460.280338   [27  7 29  3 16  7 12  9  2  6]      [3 2 0 1 2 0 3 0 1 0]  ['2016-12-01' '2017-06-30' '2017-09-03' '2018-04-13' '2018-05-23'\\n '2018-09-28' '2018-12-02' '2019-03-18' '2019-06-08' '2019-...  ['2017-07-27' '2017-10-02' '2018-05-09' '2018-06-21' '2018-10-27'\\n '2018-12-31' '2019-04-14' '2019-07-04' '2019-08-05' '2019-...\n",
       "3           1         0  front_nsga,tour_vio,rein_vio,vio_back,calc_montecarlo,100,1000,2,0.5,(0.04, 0.61, 0.77, 0.47)        Y                  569.2               19.365470                 4.744996                    3.537677                   3.901359                0.000000                    0.037                        746.885540                         598.650652                       47.460440                           597.048611                        466.504611          597.048611      [19  7 34  3 15 21 11  9  5]        [3 2 0 1 2 3 0 1 3]           ['2016-12-01' '2017-05-05' '2017-07-09' '2018-03-23' '2018-05-02'\\n '2018-08-31' '2019-02-16' '2019-05-23' '2019-09-06']           ['2017-06-01' '2017-08-07' '2018-04-18' '2018-05-31' '2018-09-29'\\n '2019-03-15' '2019-06-18' '2019-10-05' '2019-11-29']"
      ],
      "text/html": "<div>\n<style scoped>\n    .dataframe tbody tr th:only-of-type {\n        vertical-align: middle;\n    }\n\n    .dataframe tbody tr th {\n        vertical-align: top;\n    }\n\n    .dataframe thead th {\n        text-align: right;\n    }\n</style>\n<table border=\"1\" class=\"dataframe\">\n  <thead>\n    <tr style=\"text-align: right;\">\n      <th></th>\n      <th>Unnamed: 0</th>\n      <th>Execution</th>\n      <th>Variation</th>\n      <th>Solution</th>\n      <th>Total throughput [kg]</th>\n      <th>Max total backlog [kg]</th>\n      <th>Mean total backlog [kg]</th>\n      <th>std dev total backlog [kg]</th>\n      <th>Median total backlog [kg]</th>\n      <th>Min total backlog [kg]</th>\n      <th>P(total backlog ≤ 0 kg)</th>\n      <th>Max total inventory deficit [kg]</th>\n      <th>Mean total inventory deficit [kg]</th>\n      <th>std dev inventory deficit [kg]</th>\n      <th>Median total inventory deficit [kg]</th>\n      <th>Min total inventory deficit [kg]</th>\n      <th>Total Deficit [kg]</th>\n      <th>Batches [un]</th>\n      <th>Product label</th>\n      <th>Start of USP [date]</th>\n      <th>End of DSP [date]</th>\n    </tr>\n  </thead>\n  <tbody>\n    <tr>\n      <th>0</th>\n      <td>0</td>\n      <td>Article</td>\n      <td>Article</td>\n      <td>X</td>\n      <td>539.3</td>\n      <td>8.200000</td>\n      <td>0.200000</td>\n      <td>0.600000</td>\n      <td>0.000000</td>\n      <td>0.000000</td>\n      <td>0.820</td>\n      <td>683.400000</td>\n      <td>432.600000</td>\n      <td>58.600000</td>\n      <td>424.400000</td>\n      <td>259.400000</td>\n      <td>NaN</td>\n      <td>[15 10 29 3 15 11 15 6 2 2 2 10]</td>\n      <td>[3 2 0 1 3 2 1 3 2 1 2 3]</td>\n      <td>NaN</td>\n      <td>NaN</td>\n    </tr>\n    <tr>\n      <th>1</th>\n      <td>1</td>\n      <td>Article</td>\n      <td>Article</td>\n      <td>Y</td>\n      <td>601.5</td>\n      <td>16.000000</td>\n      <td>7.100000</td>\n      <td>4.300000</td>\n      <td>0.000000</td>\n      <td>0.000000</td>\n      <td>0.500</td>\n      <td>786.000000</td>\n      <td>558.600000</td>\n      <td>59.000000</td>\n      <td>551.700000</td>\n      <td>355.600000</td>\n      <td>NaN</td>\n      <td>[12 13 24 18 5 19 9 30]</td>\n      <td>[3 2 0 3 1 0 2 3]</td>\n      <td>NaN</td>\n      <td>NaN</td>\n    </tr>\n    <tr>\n      <th>2</th>\n      <td>0</td>\n      <td>0</td>\n      <td>front_nsga,tour_vio,rein_vio,vio_back,calc_montecarlo,100,1000,2,0.5,(0.04, 0.61, 0.77, 0.47)</td>\n      <td>X</td>\n      <td>516.3</td>\n      <td>17.558853</td>\n      <td>11.547462</td>\n      <td>1.708745</td>\n      <td>11.499028</td>\n      <td>6.610422</td>\n      <td>0.000</td>\n      <td>618.424631</td>\n      <td>463.736135</td>\n      <td>38.587908</td>\n      <td>460.280338</td>\n      <td>354.447866</td>\n      <td>460.280338</td>\n      <td>[27  7 29  3 16  7 12  9  2  6]</td>\n      <td>[3 2 0 1 2 0 3 0 1 0]</td>\n      <td>['2016-12-01' '2017-06-30' '2017-09-03' '2018-04-13' '2018-05-23'\\n '2018-09-28' '2018-12-02' '2019-03-18' '2019-06-08' '2019-...</td>\n      <td>['2017-07-27' '2017-10-02' '2018-05-09' '2018-06-21' '2018-10-27'\\n '2018-12-31' '2019-04-14' '2019-07-04' '2019-08-05' '2019-...</td>\n    </tr>\n    <tr>\n      <th>3</th>\n      <td>1</td>\n      <td>0</td>\n      <td>front_nsga,tour_vio,rein_vio,vio_back,calc_montecarlo,100,1000,2,0.5,(0.04, 0.61, 0.77, 0.47)</td>\n      <td>Y</td>\n      <td>569.2</td>\n      <td>19.365470</td>\n      <td>4.744996</td>\n      <td>3.537677</td>\n      <td>3.901359</td>\n      <td>0.000000</td>\n      <td>0.037</td>\n      <td>746.885540</td>\n      <td>598.650652</td>\n      <td>47.460440</td>\n      <td>597.048611</td>\n      <td>466.504611</td>\n      <td>597.048611</td>\n      <td>[19  7 34  3 15 21 11  9  5]</td>\n      <td>[3 2 0 1 2 3 0 1 3]</td>\n      <td>['2016-12-01' '2017-05-05' '2017-07-09' '2018-03-23' '2018-05-02'\\n '2018-08-31' '2019-02-16' '2019-05-23' '2019-09-06']</td>\n      <td>['2017-06-01' '2017-08-07' '2018-04-18' '2018-05-31' '2018-09-29'\\n '2019-03-15' '2019-06-18' '2019-10-05' '2019-11-29']</td>\n    </tr>\n  </tbody>\n</table>\n</div>"
     },
     "metadata": {},
     "execution_count": 62
    }
   ],
   "source": [
    "name=\"18-217\"\n",
    "result=pd.read_csv(root_path_analysis+name+'.csv')# Import from csv\n",
    "result"
   ]
  },
  {
   "cell_type": "code",
   "execution_count": 63,
   "metadata": {},
   "outputs": [
    {
     "output_type": "execute_result",
     "data": {
      "text/plain": [
       "   Unnamed: 0                          Batches               Products                   Objectives\n",
       "0           0     [19  7 34  3 15 21 11  9  5]    [3 2 0 1 2 3 0 1 3]  [569.2        597.04861146]\n",
       "1           1  [27  7 29  3 16  7 12  9  2  6]  [3 2 0 1 2 0 3 0 1 0]  [516.3        460.28033796]\n",
       "2           2  [27  7 29  3 16  4 13 13  3 10]  [3 2 0 1 2 0 3 0 1 3]  [567.5        487.64377154]\n",
       "3           3  [27  7 28  3 16  6 12 10  2 13]  [3 2 0 1 2 0 3 0 1 3]  [566.1        473.71814447]\n",
       "4           4  [27  7 29  4 16  9 12  8  7  3]  [3 2 0 1 2 0 3 0 1 0]  [547.3        461.75066698]\n",
       "5           5     [27  7 29  3 16  6 12 12 10]    [3 2 0 1 2 0 3 0 1]  [553.5        465.31340115]\n",
       "6           6     [27  7 29  3 16  7 12 12  9]    [3 2 0 1 2 0 3 0 1]  [550.4        463.58865226]\n",
       "7           7  [27  7 29  3 16  6 12 12  7  4]  [3 2 0 1 2 0 3 0 1 3]  [556.9        466.31544288]\n",
       "8           8  [27  7 29  3 16  6 12  9  3 11]  [3 2 0 1 2 0 3 0 1 3]  [561.3        467.62647599]\n",
       "9           9  [27  7 28  3 16  8 12 10  7  4]  [3 2 0 1 2 0 3 0 1 2]    [551.4       464.0075192]"
      ],
      "text/html": "<div>\n<style scoped>\n    .dataframe tbody tr th:only-of-type {\n        vertical-align: middle;\n    }\n\n    .dataframe tbody tr th {\n        vertical-align: top;\n    }\n\n    .dataframe thead th {\n        text-align: right;\n    }\n</style>\n<table border=\"1\" class=\"dataframe\">\n  <thead>\n    <tr style=\"text-align: right;\">\n      <th></th>\n      <th>Unnamed: 0</th>\n      <th>Batches</th>\n      <th>Products</th>\n      <th>Objectives</th>\n    </tr>\n  </thead>\n  <tbody>\n    <tr>\n      <th>0</th>\n      <td>0</td>\n      <td>[19  7 34  3 15 21 11  9  5]</td>\n      <td>[3 2 0 1 2 3 0 1 3]</td>\n      <td>[569.2        597.04861146]</td>\n    </tr>\n    <tr>\n      <th>1</th>\n      <td>1</td>\n      <td>[27  7 29  3 16  7 12  9  2  6]</td>\n      <td>[3 2 0 1 2 0 3 0 1 0]</td>\n      <td>[516.3        460.28033796]</td>\n    </tr>\n    <tr>\n      <th>2</th>\n      <td>2</td>\n      <td>[27  7 29  3 16  4 13 13  3 10]</td>\n      <td>[3 2 0 1 2 0 3 0 1 3]</td>\n      <td>[567.5        487.64377154]</td>\n    </tr>\n    <tr>\n      <th>3</th>\n      <td>3</td>\n      <td>[27  7 28  3 16  6 12 10  2 13]</td>\n      <td>[3 2 0 1 2 0 3 0 1 3]</td>\n      <td>[566.1        473.71814447]</td>\n    </tr>\n    <tr>\n      <th>4</th>\n      <td>4</td>\n      <td>[27  7 29  4 16  9 12  8  7  3]</td>\n      <td>[3 2 0 1 2 0 3 0 1 0]</td>\n      <td>[547.3        461.75066698]</td>\n    </tr>\n    <tr>\n      <th>5</th>\n      <td>5</td>\n      <td>[27  7 29  3 16  6 12 12 10]</td>\n      <td>[3 2 0 1 2 0 3 0 1]</td>\n      <td>[553.5        465.31340115]</td>\n    </tr>\n    <tr>\n      <th>6</th>\n      <td>6</td>\n      <td>[27  7 29  3 16  7 12 12  9]</td>\n      <td>[3 2 0 1 2 0 3 0 1]</td>\n      <td>[550.4        463.58865226]</td>\n    </tr>\n    <tr>\n      <th>7</th>\n      <td>7</td>\n      <td>[27  7 29  3 16  6 12 12  7  4]</td>\n      <td>[3 2 0 1 2 0 3 0 1 3]</td>\n      <td>[556.9        466.31544288]</td>\n    </tr>\n    <tr>\n      <th>8</th>\n      <td>8</td>\n      <td>[27  7 29  3 16  6 12  9  3 11]</td>\n      <td>[3 2 0 1 2 0 3 0 1 3]</td>\n      <td>[561.3        467.62647599]</td>\n    </tr>\n    <tr>\n      <th>9</th>\n      <td>9</td>\n      <td>[27  7 28  3 16  8 12 10  7  4]</td>\n      <td>[3 2 0 1 2 0 3 0 1 2]</td>\n      <td>[551.4       464.0075192]</td>\n    </tr>\n  </tbody>\n</table>\n</div>"
     },
     "metadata": {},
     "execution_count": 63
    }
   ],
   "source": [
    "results=pd.read_csv(root_path_analysis+name+\"solutions.csv\")# Import from csv\n",
    "results"
   ]
  },
  {
   "source": [
    "### 18/2 22\n",
    "- 18/2 22\n",
    "    - For each MC simulation the backlog and\n",
    "        - Monte Carlo simulations=1000\n",
    "        - 2 Executions, with 1000 generations\n",
    "        - Uses a pCross of 50%, instead of the 11% as previously(in the base case).(No modification compared to the previous on)\n",
    "        - For the first time I find a minimum Total Backlog that reaches 0\n",
    "            - Violation is the median of the sum of backlogs per simulations\n",
    "            - P backlog is the Probability.\n",
    "                - Total time  4398.1529559 Per execution 2199.07647795 (Used only one worker)"
   ],
   "cell_type": "markdown",
   "metadata": {}
  },
  {
   "cell_type": "code",
   "execution_count": 64,
   "metadata": {},
   "outputs": [
    {
     "output_type": "execute_result",
     "data": {
      "text/plain": [
       "   Unnamed: 0 Execution                                                                                      Variation Solution  Total throughput [kg]  Max total backlog [kg]  Mean total backlog [kg]  std dev total backlog [kg]  Median total backlog [kg]  Min total backlog [kg]  P(total backlog ≤ 0 kg)  Max total inventory deficit [kg]  Mean total inventory deficit [kg]  std dev inventory deficit [kg]  Median total inventory deficit [kg]  Min total inventory deficit [kg]  Total Deficit [kg]                           Batches [un]              Product label                                                                                                                Start of USP [date]                                                                                                                  End of DSP [date]\n",
       "0           0   Article                                                                                        Article        X                  539.3                8.200000                 0.200000                    0.600000                   0.000000                0.000000                    0.820                        683.400000                         432.600000                       58.600000                           424.400000                        259.400000                 NaN       [15 10 29 3 15 11 15 6 2 2 2 10]  [3 2 0 1 3 2 1 3 2 1 2 3]                                                                                                                                NaN                                                                                                                                NaN\n",
       "1           1   Article                                                                                        Article        Y                  601.5               16.000000                 7.100000                    4.300000                   0.000000                0.000000                    0.500                        786.000000                         558.600000                       59.000000                           551.700000                        355.600000                 NaN                [12 13 24 18 5 19 9 30]          [3 2 0 3 1 0 2 3]                                                                                                                                NaN                                                                                                                                NaN\n",
       "2           0         0  front_nsga,tour_vio,rein_vio,vio_back,calc_montecarlo,100,1000,2,0.5,(0.04, 0.61, 0.77, 0.47)        X                  530.0               28.665133                17.642229                    2.445753                  17.497097               10.668122                    0.000                        605.522734                         480.687621                       30.664280                           477.727033                        405.398035          477.727033  [30 21 15  3 22  5  9  7  2  2  2  3]  [3 0 2 1 0 2 3 0 1 2 1 0]  ['2016-12-01' '2017-07-21' '2017-12-31' '2018-05-04' '2018-06-13'\\n '2018-11-30' '2019-01-20' '2019-04-15' '2019-06-22' '2019-...  ['2017-08-17' '2018-01-29' '2018-05-30' '2018-07-12' '2018-12-29'\\n '2019-02-18' '2019-05-12' '2019-07-18' '2019-08-19' '2019-...\n",
       "3           1         0  front_nsga,tour_vio,rein_vio,vio_back,calc_montecarlo,100,1000,2,0.5,(0.04, 0.61, 0.77, 0.47)        Y                  579.1                9.400846                 0.984034                    1.662244                   0.000000                0.000000                    0.549                        731.185241                         537.629756                       55.726349                           533.614577                        380.496794          533.614577           [15  9 31  3 17 13 17  2 21]        [3 2 0 1 3 2 0 1 3]           ['2016-12-01' '2017-04-07' '2017-06-25' '2018-02-16' '2018-03-28'\\n '2018-08-16' '2018-12-01' '2019-04-18' '2019-05-17']           ['2017-05-04' '2017-07-24' '2018-03-14' '2018-04-26' '2018-09-12'\\n '2018-12-30' '2019-05-14' '2019-06-15' '2019-11-29']"
      ],
      "text/html": "<div>\n<style scoped>\n    .dataframe tbody tr th:only-of-type {\n        vertical-align: middle;\n    }\n\n    .dataframe tbody tr th {\n        vertical-align: top;\n    }\n\n    .dataframe thead th {\n        text-align: right;\n    }\n</style>\n<table border=\"1\" class=\"dataframe\">\n  <thead>\n    <tr style=\"text-align: right;\">\n      <th></th>\n      <th>Unnamed: 0</th>\n      <th>Execution</th>\n      <th>Variation</th>\n      <th>Solution</th>\n      <th>Total throughput [kg]</th>\n      <th>Max total backlog [kg]</th>\n      <th>Mean total backlog [kg]</th>\n      <th>std dev total backlog [kg]</th>\n      <th>Median total backlog [kg]</th>\n      <th>Min total backlog [kg]</th>\n      <th>P(total backlog ≤ 0 kg)</th>\n      <th>Max total inventory deficit [kg]</th>\n      <th>Mean total inventory deficit [kg]</th>\n      <th>std dev inventory deficit [kg]</th>\n      <th>Median total inventory deficit [kg]</th>\n      <th>Min total inventory deficit [kg]</th>\n      <th>Total Deficit [kg]</th>\n      <th>Batches [un]</th>\n      <th>Product label</th>\n      <th>Start of USP [date]</th>\n      <th>End of DSP [date]</th>\n    </tr>\n  </thead>\n  <tbody>\n    <tr>\n      <th>0</th>\n      <td>0</td>\n      <td>Article</td>\n      <td>Article</td>\n      <td>X</td>\n      <td>539.3</td>\n      <td>8.200000</td>\n      <td>0.200000</td>\n      <td>0.600000</td>\n      <td>0.000000</td>\n      <td>0.000000</td>\n      <td>0.820</td>\n      <td>683.400000</td>\n      <td>432.600000</td>\n      <td>58.600000</td>\n      <td>424.400000</td>\n      <td>259.400000</td>\n      <td>NaN</td>\n      <td>[15 10 29 3 15 11 15 6 2 2 2 10]</td>\n      <td>[3 2 0 1 3 2 1 3 2 1 2 3]</td>\n      <td>NaN</td>\n      <td>NaN</td>\n    </tr>\n    <tr>\n      <th>1</th>\n      <td>1</td>\n      <td>Article</td>\n      <td>Article</td>\n      <td>Y</td>\n      <td>601.5</td>\n      <td>16.000000</td>\n      <td>7.100000</td>\n      <td>4.300000</td>\n      <td>0.000000</td>\n      <td>0.000000</td>\n      <td>0.500</td>\n      <td>786.000000</td>\n      <td>558.600000</td>\n      <td>59.000000</td>\n      <td>551.700000</td>\n      <td>355.600000</td>\n      <td>NaN</td>\n      <td>[12 13 24 18 5 19 9 30]</td>\n      <td>[3 2 0 3 1 0 2 3]</td>\n      <td>NaN</td>\n      <td>NaN</td>\n    </tr>\n    <tr>\n      <th>2</th>\n      <td>0</td>\n      <td>0</td>\n      <td>front_nsga,tour_vio,rein_vio,vio_back,calc_montecarlo,100,1000,2,0.5,(0.04, 0.61, 0.77, 0.47)</td>\n      <td>X</td>\n      <td>530.0</td>\n      <td>28.665133</td>\n      <td>17.642229</td>\n      <td>2.445753</td>\n      <td>17.497097</td>\n      <td>10.668122</td>\n      <td>0.000</td>\n      <td>605.522734</td>\n      <td>480.687621</td>\n      <td>30.664280</td>\n      <td>477.727033</td>\n      <td>405.398035</td>\n      <td>477.727033</td>\n      <td>[30 21 15  3 22  5  9  7  2  2  2  3]</td>\n      <td>[3 0 2 1 0 2 3 0 1 2 1 0]</td>\n      <td>['2016-12-01' '2017-07-21' '2017-12-31' '2018-05-04' '2018-06-13'\\n '2018-11-30' '2019-01-20' '2019-04-15' '2019-06-22' '2019-...</td>\n      <td>['2017-08-17' '2018-01-29' '2018-05-30' '2018-07-12' '2018-12-29'\\n '2019-02-18' '2019-05-12' '2019-07-18' '2019-08-19' '2019-...</td>\n    </tr>\n    <tr>\n      <th>3</th>\n      <td>1</td>\n      <td>0</td>\n      <td>front_nsga,tour_vio,rein_vio,vio_back,calc_montecarlo,100,1000,2,0.5,(0.04, 0.61, 0.77, 0.47)</td>\n      <td>Y</td>\n      <td>579.1</td>\n      <td>9.400846</td>\n      <td>0.984034</td>\n      <td>1.662244</td>\n      <td>0.000000</td>\n      <td>0.000000</td>\n      <td>0.549</td>\n      <td>731.185241</td>\n      <td>537.629756</td>\n      <td>55.726349</td>\n      <td>533.614577</td>\n      <td>380.496794</td>\n      <td>533.614577</td>\n      <td>[15  9 31  3 17 13 17  2 21]</td>\n      <td>[3 2 0 1 3 2 0 1 3]</td>\n      <td>['2016-12-01' '2017-04-07' '2017-06-25' '2018-02-16' '2018-03-28'\\n '2018-08-16' '2018-12-01' '2019-04-18' '2019-05-17']</td>\n      <td>['2017-05-04' '2017-07-24' '2018-03-14' '2018-04-26' '2018-09-12'\\n '2018-12-30' '2019-05-14' '2019-06-15' '2019-11-29']</td>\n    </tr>\n  </tbody>\n</table>\n</div>"
     },
     "metadata": {},
     "execution_count": 64
    }
   ],
   "source": [
    "name=\"18-221\"\n",
    "result=pd.read_csv(root_path_analysis+name+'.csv')# Import from csv\n",
    "result"
   ]
  },
  {
   "cell_type": "code",
   "execution_count": 65,
   "metadata": {},
   "outputs": [
    {
     "output_type": "execute_result",
     "data": {
      "text/plain": [
       "   Unnamed: 0                                Batches                   Products                   Objectives\n",
       "0           0           [30 20 16  4 24  6 12 13  2]        [3 0 2 1 0 2 3 0 2]  [550.1        506.97158606]\n",
       "1           1        [30 20 16  3 26  8  5  2  5 10]      [3 0 2 1 0 3 2 1 2 3]  [565.         510.00816123]\n",
       "2           2  [30 21 15  3 22  5  9  7  2  2  2  3]  [3 0 2 1 0 2 3 0 1 2 1 0]  [530.         477.72703331]\n",
       "3           3     [30 19 17  3 23  5  6  8  2  7  3]    [3 0 2 1 0 2 3 0 1 3 2]  [545.         493.27413869]\n",
       "4           4        [30 20 17  3 20  4  8  7  2 13]      [3 0 2 1 0 2 3 0 1 3]  [560.1        508.03919824]\n",
       "5           5     [30 20 16  3 22  5  9  6  3  5  4]    [3 0 2 1 0 2 3 0 1 0 3]    [540.9       481.5092012]\n",
       "6           6           [15  9 31  3 17 13 17  2 21]        [3 2 0 1 3 2 0 1 3]  [579.1        533.61457655]\n",
       "7           7           [15 10 30  3 17 13 16  3 19]        [3 2 0 1 3 2 0 1 3]  [573.         522.90406016]"
      ],
      "text/html": "<div>\n<style scoped>\n    .dataframe tbody tr th:only-of-type {\n        vertical-align: middle;\n    }\n\n    .dataframe tbody tr th {\n        vertical-align: top;\n    }\n\n    .dataframe thead th {\n        text-align: right;\n    }\n</style>\n<table border=\"1\" class=\"dataframe\">\n  <thead>\n    <tr style=\"text-align: right;\">\n      <th></th>\n      <th>Unnamed: 0</th>\n      <th>Batches</th>\n      <th>Products</th>\n      <th>Objectives</th>\n    </tr>\n  </thead>\n  <tbody>\n    <tr>\n      <th>0</th>\n      <td>0</td>\n      <td>[30 20 16  4 24  6 12 13  2]</td>\n      <td>[3 0 2 1 0 2 3 0 2]</td>\n      <td>[550.1        506.97158606]</td>\n    </tr>\n    <tr>\n      <th>1</th>\n      <td>1</td>\n      <td>[30 20 16  3 26  8  5  2  5 10]</td>\n      <td>[3 0 2 1 0 3 2 1 2 3]</td>\n      <td>[565.         510.00816123]</td>\n    </tr>\n    <tr>\n      <th>2</th>\n      <td>2</td>\n      <td>[30 21 15  3 22  5  9  7  2  2  2  3]</td>\n      <td>[3 0 2 1 0 2 3 0 1 2 1 0]</td>\n      <td>[530.         477.72703331]</td>\n    </tr>\n    <tr>\n      <th>3</th>\n      <td>3</td>\n      <td>[30 19 17  3 23  5  6  8  2  7  3]</td>\n      <td>[3 0 2 1 0 2 3 0 1 3 2]</td>\n      <td>[545.         493.27413869]</td>\n    </tr>\n    <tr>\n      <th>4</th>\n      <td>4</td>\n      <td>[30 20 17  3 20  4  8  7  2 13]</td>\n      <td>[3 0 2 1 0 2 3 0 1 3]</td>\n      <td>[560.1        508.03919824]</td>\n    </tr>\n    <tr>\n      <th>5</th>\n      <td>5</td>\n      <td>[30 20 16  3 22  5  9  6  3  5  4]</td>\n      <td>[3 0 2 1 0 2 3 0 1 0 3]</td>\n      <td>[540.9       481.5092012]</td>\n    </tr>\n    <tr>\n      <th>6</th>\n      <td>6</td>\n      <td>[15  9 31  3 17 13 17  2 21]</td>\n      <td>[3 2 0 1 3 2 0 1 3]</td>\n      <td>[579.1        533.61457655]</td>\n    </tr>\n    <tr>\n      <th>7</th>\n      <td>7</td>\n      <td>[15 10 30  3 17 13 16  3 19]</td>\n      <td>[3 2 0 1 3 2 0 1 3]</td>\n      <td>[573.         522.90406016]</td>\n    </tr>\n  </tbody>\n</table>\n</div>"
     },
     "metadata": {},
     "execution_count": 65
    }
   ],
   "source": [
    "results=pd.read_csv(root_path_analysis+name+\"solutions.csv\")# Import from csv\n",
    "results"
   ]
  },
  {
   "source": [
    "### 21/2 14\n",
    "- 21/2 14\n",
    "    - For each MC simulation the backlog and\n",
    "        - Monte Carlo simulations=1000\n",
    "        - 22 Executions, with 1000 generations\n",
    "        - Attempted to run 50 executions, but memory error appeared Error OS Memory21-214\n",
    "        - Uses a pCross of 50%, instead of the 11% as previously(in the base case).(No modification compared to the previous one)\n",
    "        - No solution without violations, passing all in front 0\n",
    "            - Violation is the median of the sum of backlogs per simulations\n",
    "            - P backlog is the Probability."
   ],
   "cell_type": "markdown",
   "metadata": {}
  },
  {
   "cell_type": "code",
   "execution_count": 66,
   "metadata": {},
   "outputs": [
    {
     "output_type": "execute_result",
     "data": {
      "text/plain": [
       "   Unnamed: 0 Execution                                                                                      Variation Solution  Total throughput [kg]  Max total backlog [kg]  Mean total backlog [kg]  std dev total backlog [kg]  Median total backlog [kg]  Min total backlog [kg]  P(total backlog ≤ 0 kg)  Max total inventory deficit [kg]  Mean total inventory deficit [kg]  std dev inventory deficit [kg]  Median total inventory deficit [kg]  Min total inventory deficit [kg]  Total Deficit [kg]                        Batches [un]              Product label                                                                                                                Start of USP [date]                                                                                                                  End of DSP [date]\n",
       "0           0   Article                                                                                        Article        X                  539.3                8.200000                 0.200000                    0.600000                   0.000000                0.000000                     0.82                        683.400000                         432.600000                       58.600000                           424.400000                        259.400000                 NaN    [15 10 29 3 15 11 15 6 2 2 2 10]  [3 2 0 1 3 2 1 3 2 1 2 3]                                                                                                                                NaN                                                                                                                                NaN\n",
       "1           1   Article                                                                                        Article        Y                  601.5               16.000000                 7.100000                    4.300000                   0.000000                0.000000                     0.50                        786.000000                         558.600000                       59.000000                           551.700000                        355.600000                 NaN             [12 13 24 18 5 19 9 30]          [3 2 0 3 1 0 2 3]                                                                                                                                NaN                                                                                                                                NaN\n",
       "2           0         0  front_nsga,tour_vio,rein_vio,vio_back,calc_montecarlo,100,1000,2,0.5,(0.04, 0.61, 0.77, 0.47)        X                  497.2               28.141427                21.760237                    2.044451                  21.641623               15.730386                     0.00                        538.637622                         424.130955                       29.056882                           422.263594                        356.544708          422.263594  [10 30  2 36 13  2  6  3  2  4  3]    [2 3 1 0 2 1 3 0 2 0 1]  ['2016-12-01' '2017-02-25' '2017-10-16' '2017-11-14' '2018-08-09'\\n '2018-11-27' '2018-12-26' '2019-02-28' '2019-04-06' '2019-...  ['2017-03-26' '2017-11-11' '2017-12-13' '2018-09-07' '2018-12-23'\\n '2019-01-24' '2019-03-27' '2019-05-05' '2019-06-04' '2019-...\n",
       "3           1         0  front_nsga,tour_vio,rein_vio,vio_back,calc_montecarlo,100,1000,2,0.5,(0.04, 0.61, 0.77, 0.47)        Y                  607.0               32.498091                21.833999                    2.150921                  21.670223               15.483480                     0.00                        603.627787                         471.108063                       37.384872                           469.160830                        380.481445          469.160830           [10 30  2 38 13  3  5 30]          [2 3 1 0 2 1 0 3]                        ['2016-12-01' '2017-02-25' '2017-10-16' '2017-11-14' '2018-08-23'\\n '2018-12-11' '2019-01-20' '2019-03-12']                        ['2017-03-26' '2017-11-11' '2017-12-13' '2018-09-21' '2019-01-06'\\n '2019-02-18' '2019-04-10' '2019-11-26']"
      ],
      "text/html": "<div>\n<style scoped>\n    .dataframe tbody tr th:only-of-type {\n        vertical-align: middle;\n    }\n\n    .dataframe tbody tr th {\n        vertical-align: top;\n    }\n\n    .dataframe thead th {\n        text-align: right;\n    }\n</style>\n<table border=\"1\" class=\"dataframe\">\n  <thead>\n    <tr style=\"text-align: right;\">\n      <th></th>\n      <th>Unnamed: 0</th>\n      <th>Execution</th>\n      <th>Variation</th>\n      <th>Solution</th>\n      <th>Total throughput [kg]</th>\n      <th>Max total backlog [kg]</th>\n      <th>Mean total backlog [kg]</th>\n      <th>std dev total backlog [kg]</th>\n      <th>Median total backlog [kg]</th>\n      <th>Min total backlog [kg]</th>\n      <th>P(total backlog ≤ 0 kg)</th>\n      <th>Max total inventory deficit [kg]</th>\n      <th>Mean total inventory deficit [kg]</th>\n      <th>std dev inventory deficit [kg]</th>\n      <th>Median total inventory deficit [kg]</th>\n      <th>Min total inventory deficit [kg]</th>\n      <th>Total Deficit [kg]</th>\n      <th>Batches [un]</th>\n      <th>Product label</th>\n      <th>Start of USP [date]</th>\n      <th>End of DSP [date]</th>\n    </tr>\n  </thead>\n  <tbody>\n    <tr>\n      <th>0</th>\n      <td>0</td>\n      <td>Article</td>\n      <td>Article</td>\n      <td>X</td>\n      <td>539.3</td>\n      <td>8.200000</td>\n      <td>0.200000</td>\n      <td>0.600000</td>\n      <td>0.000000</td>\n      <td>0.000000</td>\n      <td>0.82</td>\n      <td>683.400000</td>\n      <td>432.600000</td>\n      <td>58.600000</td>\n      <td>424.400000</td>\n      <td>259.400000</td>\n      <td>NaN</td>\n      <td>[15 10 29 3 15 11 15 6 2 2 2 10]</td>\n      <td>[3 2 0 1 3 2 1 3 2 1 2 3]</td>\n      <td>NaN</td>\n      <td>NaN</td>\n    </tr>\n    <tr>\n      <th>1</th>\n      <td>1</td>\n      <td>Article</td>\n      <td>Article</td>\n      <td>Y</td>\n      <td>601.5</td>\n      <td>16.000000</td>\n      <td>7.100000</td>\n      <td>4.300000</td>\n      <td>0.000000</td>\n      <td>0.000000</td>\n      <td>0.50</td>\n      <td>786.000000</td>\n      <td>558.600000</td>\n      <td>59.000000</td>\n      <td>551.700000</td>\n      <td>355.600000</td>\n      <td>NaN</td>\n      <td>[12 13 24 18 5 19 9 30]</td>\n      <td>[3 2 0 3 1 0 2 3]</td>\n      <td>NaN</td>\n      <td>NaN</td>\n    </tr>\n    <tr>\n      <th>2</th>\n      <td>0</td>\n      <td>0</td>\n      <td>front_nsga,tour_vio,rein_vio,vio_back,calc_montecarlo,100,1000,2,0.5,(0.04, 0.61, 0.77, 0.47)</td>\n      <td>X</td>\n      <td>497.2</td>\n      <td>28.141427</td>\n      <td>21.760237</td>\n      <td>2.044451</td>\n      <td>21.641623</td>\n      <td>15.730386</td>\n      <td>0.00</td>\n      <td>538.637622</td>\n      <td>424.130955</td>\n      <td>29.056882</td>\n      <td>422.263594</td>\n      <td>356.544708</td>\n      <td>422.263594</td>\n      <td>[10 30  2 36 13  2  6  3  2  4  3]</td>\n      <td>[2 3 1 0 2 1 3 0 2 0 1]</td>\n      <td>['2016-12-01' '2017-02-25' '2017-10-16' '2017-11-14' '2018-08-09'\\n '2018-11-27' '2018-12-26' '2019-02-28' '2019-04-06' '2019-...</td>\n      <td>['2017-03-26' '2017-11-11' '2017-12-13' '2018-09-07' '2018-12-23'\\n '2019-01-24' '2019-03-27' '2019-05-05' '2019-06-04' '2019-...</td>\n    </tr>\n    <tr>\n      <th>3</th>\n      <td>1</td>\n      <td>0</td>\n      <td>front_nsga,tour_vio,rein_vio,vio_back,calc_montecarlo,100,1000,2,0.5,(0.04, 0.61, 0.77, 0.47)</td>\n      <td>Y</td>\n      <td>607.0</td>\n      <td>32.498091</td>\n      <td>21.833999</td>\n      <td>2.150921</td>\n      <td>21.670223</td>\n      <td>15.483480</td>\n      <td>0.00</td>\n      <td>603.627787</td>\n      <td>471.108063</td>\n      <td>37.384872</td>\n      <td>469.160830</td>\n      <td>380.481445</td>\n      <td>469.160830</td>\n      <td>[10 30  2 38 13  3  5 30]</td>\n      <td>[2 3 1 0 2 1 0 3]</td>\n      <td>['2016-12-01' '2017-02-25' '2017-10-16' '2017-11-14' '2018-08-23'\\n '2018-12-11' '2019-01-20' '2019-03-12']</td>\n      <td>['2017-03-26' '2017-11-11' '2017-12-13' '2018-09-21' '2019-01-06'\\n '2019-02-18' '2019-04-10' '2019-11-26']</td>\n    </tr>\n  </tbody>\n</table>\n</div>"
     },
     "metadata": {},
     "execution_count": 66
    }
   ],
   "source": [
    "name=\"21-214\"\n",
    "result=pd.read_csv(root_path_analysis+name+'.csv')# Import from csv\n",
    "result"
   ]
  },
  {
   "cell_type": "code",
   "execution_count": 67,
   "metadata": {},
   "outputs": [
    {
     "output_type": "execute_result",
     "data": {
      "text/plain": [
       "   Unnamed: 0                             Batches                 Products                   Objectives\n",
       "0           0  [10 30  2 36 13  2  6  3  2  4  3]  [2 3 1 0 2 1 3 0 2 0 1]  [497.2        422.26359399]\n",
       "1           1           [10 30  2 38 13  3  4 30]        [2 3 1 0 2 1 0 3]  [603.9        461.54425407]\n",
       "2           2        [10 30  3 35 13  2 10  6 18]      [2 3 1 0 2 1 3 0 3]  [589.8        456.89894143]\n",
       "3           3           [10 30  2 38 13  3  5 30]        [2 3 1 0 2 1 0 3]  [607.         469.16083021]\n",
       "4           4     [10 30  2 35 14  2 10  6 13  3]    [2 3 1 0 2 1 3 0 3 2]  [575.7        428.87090242]\n",
       "5           5           [10 30  2 38 13  2  4 30]        [2 3 1 0 2 1 0 3]  [597.7        458.75816458]\n",
       "6           6        [10 30  2 37 13  2 15  7 10]      [2 3 1 0 2 1 3 0 3]  [576.4        446.42961872]\n",
       "7           7     [10 30  2 37 14  3 11  6  8  5]    [2 3 1 0 2 1 3 0 3 2]  [575.9        441.13108333]"
      ],
      "text/html": "<div>\n<style scoped>\n    .dataframe tbody tr th:only-of-type {\n        vertical-align: middle;\n    }\n\n    .dataframe tbody tr th {\n        vertical-align: top;\n    }\n\n    .dataframe thead th {\n        text-align: right;\n    }\n</style>\n<table border=\"1\" class=\"dataframe\">\n  <thead>\n    <tr style=\"text-align: right;\">\n      <th></th>\n      <th>Unnamed: 0</th>\n      <th>Batches</th>\n      <th>Products</th>\n      <th>Objectives</th>\n    </tr>\n  </thead>\n  <tbody>\n    <tr>\n      <th>0</th>\n      <td>0</td>\n      <td>[10 30  2 36 13  2  6  3  2  4  3]</td>\n      <td>[2 3 1 0 2 1 3 0 2 0 1]</td>\n      <td>[497.2        422.26359399]</td>\n    </tr>\n    <tr>\n      <th>1</th>\n      <td>1</td>\n      <td>[10 30  2 38 13  3  4 30]</td>\n      <td>[2 3 1 0 2 1 0 3]</td>\n      <td>[603.9        461.54425407]</td>\n    </tr>\n    <tr>\n      <th>2</th>\n      <td>2</td>\n      <td>[10 30  3 35 13  2 10  6 18]</td>\n      <td>[2 3 1 0 2 1 3 0 3]</td>\n      <td>[589.8        456.89894143]</td>\n    </tr>\n    <tr>\n      <th>3</th>\n      <td>3</td>\n      <td>[10 30  2 38 13  3  5 30]</td>\n      <td>[2 3 1 0 2 1 0 3]</td>\n      <td>[607.         469.16083021]</td>\n    </tr>\n    <tr>\n      <th>4</th>\n      <td>4</td>\n      <td>[10 30  2 35 14  2 10  6 13  3]</td>\n      <td>[2 3 1 0 2 1 3 0 3 2]</td>\n      <td>[575.7        428.87090242]</td>\n    </tr>\n    <tr>\n      <th>5</th>\n      <td>5</td>\n      <td>[10 30  2 38 13  2  4 30]</td>\n      <td>[2 3 1 0 2 1 0 3]</td>\n      <td>[597.7        458.75816458]</td>\n    </tr>\n    <tr>\n      <th>6</th>\n      <td>6</td>\n      <td>[10 30  2 37 13  2 15  7 10]</td>\n      <td>[2 3 1 0 2 1 3 0 3]</td>\n      <td>[576.4        446.42961872]</td>\n    </tr>\n    <tr>\n      <th>7</th>\n      <td>7</td>\n      <td>[10 30  2 37 14  3 11  6  8  5]</td>\n      <td>[2 3 1 0 2 1 3 0 3 2]</td>\n      <td>[575.9        441.13108333]</td>\n    </tr>\n  </tbody>\n</table>\n</div>"
     },
     "metadata": {},
     "execution_count": 67
    }
   ],
   "source": [
    "results=pd.read_csv(root_path_analysis+name+\"solutions.csv\")# Import from csv\n",
    "results"
   ]
  },
  {
   "source": [
    "### 22/2 12\n",
    "- 22/2 12\n",
    "    - For each MC simulation the backlog and\n",
    "        - Monte Carlo simulations=1000\n",
    "        - 18 Executions, with 1000 generations\n",
    "        - Attempted to run 50 executions, but memory error appeared Error OS Memory21-214\n",
    "        - Uses a pCross of 50%, instead of the 11% as previously(in the base case).(No modification compared to the previous one)\n",
    "        - Set the logging file to critical\n",
    "        - Add a garbage collector gc.colletion() \n",
    "        - No solution without violations, p\n",
    "        assing all in front 0\n",
    "            - Violation is the median of the sum of backlogs per simulations\n",
    "            - P backlog is the Probability."
   ],
   "cell_type": "markdown",
   "metadata": {}
  },
  {
   "cell_type": "code",
   "execution_count": 68,
   "metadata": {},
   "outputs": [
    {
     "output_type": "execute_result",
     "data": {
      "text/plain": [
       "   Unnamed: 0 Execution                                                                                      Variation Solution  Total throughput [kg]  Max total backlog [kg]  Mean total backlog [kg]  std dev total backlog [kg]  Median total backlog [kg]  Min total backlog [kg]  P(total backlog ≤ 0 kg)  Max total inventory deficit [kg]  Mean total inventory deficit [kg]  std dev inventory deficit [kg]  Median total inventory deficit [kg]  Min total inventory deficit [kg]  Total Deficit [kg]                      Batches [un]              Product label                                                                                                       Start of USP [date]                                                                                                         End of DSP [date]\n",
       "0           0   Article                                                                                        Article        X                  539.3                8.200000                 0.200000                    0.600000                   0.000000                0.000000                     0.82                        683.400000                         432.600000                       58.600000                           424.400000                        259.400000                 NaN  [15 10 29 3 15 11 15 6 2 2 2 10]  [3 2 0 1 3 2 1 3 2 1 2 3]                                                                                                                       NaN                                                                                                                       NaN\n",
       "1           1   Article                                                                                        Article        Y                  601.5               16.000000                 7.100000                    4.300000                   0.000000                0.000000                     0.50                        786.000000                         558.600000                       59.000000                           551.700000                        355.600000                 NaN           [12 13 24 18 5 19 9 30]          [3 2 0 3 1 0 2 3]                                                                                                                       NaN                                                                                                                       NaN\n",
       "2           0         0  front_nsga,tour_vio,rein_vio,vio_back,calc_montecarlo,100,1000,2,0.5,(0.04, 0.61, 0.77, 0.47)        X                  520.9               27.577119                21.733500                    1.935872                  21.621338               16.261445                     0.00                        532.892330                         424.536243                       24.897036                           423.010929                        361.758207          423.010929      [27 13  3 37 12 15  3  3  2]        [3 2 1 0 2 3 0 1 0]  ['2016-12-01' '2017-06-30' '2017-10-18' '2017-11-27' '2018-08-29'\\n '2018-12-07' '2019-04-13' '2019-05-23' '2019-07-02']  ['2017-07-27' '2017-11-13' '2017-12-26' '2018-09-27' '2019-01-05'\\n '2019-05-10' '2019-06-18' '2019-07-31' '2019-08-30']\n",
       "3           1         0  front_nsga,tour_vio,rein_vio,vio_back,calc_montecarlo,100,1000,2,0.5,(0.04, 0.61, 0.77, 0.47)        Y                  595.7               32.604791                23.334534                    2.825002                  22.863989               16.545983                     0.00                        590.405694                         502.993941                       25.526770                           501.955586                        420.980466          501.955586         [11 30  3 42 12 17  6  7]          [2 3 1 0 2 3 1 3]               ['2016-12-01' '2017-03-04' '2017-10-23' '2017-12-02' '2018-10-08'\\n '2019-01-16' '2019-06-07' '2019-08-19']               ['2017-04-02' '2017-11-18' '2017-12-31' '2018-11-06' '2019-02-14'\\n '2019-07-03' '2019-09-17' '2019-11-25']"
      ],
      "text/html": "<div>\n<style scoped>\n    .dataframe tbody tr th:only-of-type {\n        vertical-align: middle;\n    }\n\n    .dataframe tbody tr th {\n        vertical-align: top;\n    }\n\n    .dataframe thead th {\n        text-align: right;\n    }\n</style>\n<table border=\"1\" class=\"dataframe\">\n  <thead>\n    <tr style=\"text-align: right;\">\n      <th></th>\n      <th>Unnamed: 0</th>\n      <th>Execution</th>\n      <th>Variation</th>\n      <th>Solution</th>\n      <th>Total throughput [kg]</th>\n      <th>Max total backlog [kg]</th>\n      <th>Mean total backlog [kg]</th>\n      <th>std dev total backlog [kg]</th>\n      <th>Median total backlog [kg]</th>\n      <th>Min total backlog [kg]</th>\n      <th>P(total backlog ≤ 0 kg)</th>\n      <th>Max total inventory deficit [kg]</th>\n      <th>Mean total inventory deficit [kg]</th>\n      <th>std dev inventory deficit [kg]</th>\n      <th>Median total inventory deficit [kg]</th>\n      <th>Min total inventory deficit [kg]</th>\n      <th>Total Deficit [kg]</th>\n      <th>Batches [un]</th>\n      <th>Product label</th>\n      <th>Start of USP [date]</th>\n      <th>End of DSP [date]</th>\n    </tr>\n  </thead>\n  <tbody>\n    <tr>\n      <th>0</th>\n      <td>0</td>\n      <td>Article</td>\n      <td>Article</td>\n      <td>X</td>\n      <td>539.3</td>\n      <td>8.200000</td>\n      <td>0.200000</td>\n      <td>0.600000</td>\n      <td>0.000000</td>\n      <td>0.000000</td>\n      <td>0.82</td>\n      <td>683.400000</td>\n      <td>432.600000</td>\n      <td>58.600000</td>\n      <td>424.400000</td>\n      <td>259.400000</td>\n      <td>NaN</td>\n      <td>[15 10 29 3 15 11 15 6 2 2 2 10]</td>\n      <td>[3 2 0 1 3 2 1 3 2 1 2 3]</td>\n      <td>NaN</td>\n      <td>NaN</td>\n    </tr>\n    <tr>\n      <th>1</th>\n      <td>1</td>\n      <td>Article</td>\n      <td>Article</td>\n      <td>Y</td>\n      <td>601.5</td>\n      <td>16.000000</td>\n      <td>7.100000</td>\n      <td>4.300000</td>\n      <td>0.000000</td>\n      <td>0.000000</td>\n      <td>0.50</td>\n      <td>786.000000</td>\n      <td>558.600000</td>\n      <td>59.000000</td>\n      <td>551.700000</td>\n      <td>355.600000</td>\n      <td>NaN</td>\n      <td>[12 13 24 18 5 19 9 30]</td>\n      <td>[3 2 0 3 1 0 2 3]</td>\n      <td>NaN</td>\n      <td>NaN</td>\n    </tr>\n    <tr>\n      <th>2</th>\n      <td>0</td>\n      <td>0</td>\n      <td>front_nsga,tour_vio,rein_vio,vio_back,calc_montecarlo,100,1000,2,0.5,(0.04, 0.61, 0.77, 0.47)</td>\n      <td>X</td>\n      <td>520.9</td>\n      <td>27.577119</td>\n      <td>21.733500</td>\n      <td>1.935872</td>\n      <td>21.621338</td>\n      <td>16.261445</td>\n      <td>0.00</td>\n      <td>532.892330</td>\n      <td>424.536243</td>\n      <td>24.897036</td>\n      <td>423.010929</td>\n      <td>361.758207</td>\n      <td>423.010929</td>\n      <td>[27 13  3 37 12 15  3  3  2]</td>\n      <td>[3 2 1 0 2 3 0 1 0]</td>\n      <td>['2016-12-01' '2017-06-30' '2017-10-18' '2017-11-27' '2018-08-29'\\n '2018-12-07' '2019-04-13' '2019-05-23' '2019-07-02']</td>\n      <td>['2017-07-27' '2017-11-13' '2017-12-26' '2018-09-27' '2019-01-05'\\n '2019-05-10' '2019-06-18' '2019-07-31' '2019-08-30']</td>\n    </tr>\n    <tr>\n      <th>3</th>\n      <td>1</td>\n      <td>0</td>\n      <td>front_nsga,tour_vio,rein_vio,vio_back,calc_montecarlo,100,1000,2,0.5,(0.04, 0.61, 0.77, 0.47)</td>\n      <td>Y</td>\n      <td>595.7</td>\n      <td>32.604791</td>\n      <td>23.334534</td>\n      <td>2.825002</td>\n      <td>22.863989</td>\n      <td>16.545983</td>\n      <td>0.00</td>\n      <td>590.405694</td>\n      <td>502.993941</td>\n      <td>25.526770</td>\n      <td>501.955586</td>\n      <td>420.980466</td>\n      <td>501.955586</td>\n      <td>[11 30  3 42 12 17  6  7]</td>\n      <td>[2 3 1 0 2 3 1 3]</td>\n      <td>['2016-12-01' '2017-03-04' '2017-10-23' '2017-12-02' '2018-10-08'\\n '2019-01-16' '2019-06-07' '2019-08-19']</td>\n      <td>['2017-04-02' '2017-11-18' '2017-12-31' '2018-11-06' '2019-02-14'\\n '2019-07-03' '2019-09-17' '2019-11-25']</td>\n    </tr>\n  </tbody>\n</table>\n</div>"
     },
     "metadata": {},
     "execution_count": 68
    }
   ],
   "source": [
    "name=\"22-212\"\n",
    "result=pd.read_csv(root_path_analysis+name+'.csv')# Import from csv\n",
    "result"
   ]
  },
  {
   "cell_type": "code",
   "execution_count": 69,
   "metadata": {},
   "outputs": [
    {
     "output_type": "execute_result",
     "data": {
      "text/plain": [
       "    Unnamed: 0                             Batches                 Products                   Objectives\n",
       "0            0        [ 7 30 24  3 17 18 19  2  7]      [2 3 0 1 2 0 3 1 3]    [586.8       466.4544301]\n",
       "1            1        [ 7 30 25  3 17 18 17  3  7]      [2 3 0 1 2 0 3 1 3]  [585.1        462.80267172]\n",
       "2            2           [11 30  3 42 12 17  6  7]        [2 3 1 0 2 3 1 3]  [595.7        501.95558573]\n",
       "3            3           [11 30  3 42 12 17  9  2]        [2 3 1 0 2 3 1 1]  [588.2        500.44545585]\n",
       "4            4           [11 30  3 42 14 15  9  3]        [2 3 1 0 2 3 1 2]  [589.3        501.62676676]\n",
       "5            5        [27 12  3 40 11 17  5  3  6]      [3 2 1 0 2 3 2 1 2]  [569.8        431.84988417]\n",
       "6            6           [27 13  3 40  9 13  3 17]        [3 2 1 0 2 3 1 2]  [572.3        432.56692672]\n",
       "7            7        [27 13  3 40 10 12  8  4  5]      [3 2 1 0 2 3 2 1 3]  [561.3        428.44556844]\n",
       "8            8        [27 13  3 39 10 13  2  6 10]      [3 2 1 0 2 3 1 2 0]  [545.         423.66038988]\n",
       "9            9        [27 13  3 41 10 16  2  4 10]      [3 2 1 0 2 3 2 1 3]    [584.5       435.3700321]\n",
       "10          10        [27 13  3 37 12 15  3  3  2]      [3 2 1 0 2 3 0 1 0]  [520.9        423.01092874]\n",
       "11          11  [27 13  3 40 10 12  4  2  2  7  2]  [3 2 1 0 2 3 2 1 2 3 2]  [559.9        424.74308975]"
      ],
      "text/html": "<div>\n<style scoped>\n    .dataframe tbody tr th:only-of-type {\n        vertical-align: middle;\n    }\n\n    .dataframe tbody tr th {\n        vertical-align: top;\n    }\n\n    .dataframe thead th {\n        text-align: right;\n    }\n</style>\n<table border=\"1\" class=\"dataframe\">\n  <thead>\n    <tr style=\"text-align: right;\">\n      <th></th>\n      <th>Unnamed: 0</th>\n      <th>Batches</th>\n      <th>Products</th>\n      <th>Objectives</th>\n    </tr>\n  </thead>\n  <tbody>\n    <tr>\n      <th>0</th>\n      <td>0</td>\n      <td>[ 7 30 24  3 17 18 19  2  7]</td>\n      <td>[2 3 0 1 2 0 3 1 3]</td>\n      <td>[586.8       466.4544301]</td>\n    </tr>\n    <tr>\n      <th>1</th>\n      <td>1</td>\n      <td>[ 7 30 25  3 17 18 17  3  7]</td>\n      <td>[2 3 0 1 2 0 3 1 3]</td>\n      <td>[585.1        462.80267172]</td>\n    </tr>\n    <tr>\n      <th>2</th>\n      <td>2</td>\n      <td>[11 30  3 42 12 17  6  7]</td>\n      <td>[2 3 1 0 2 3 1 3]</td>\n      <td>[595.7        501.95558573]</td>\n    </tr>\n    <tr>\n      <th>3</th>\n      <td>3</td>\n      <td>[11 30  3 42 12 17  9  2]</td>\n      <td>[2 3 1 0 2 3 1 1]</td>\n      <td>[588.2        500.44545585]</td>\n    </tr>\n    <tr>\n      <th>4</th>\n      <td>4</td>\n      <td>[11 30  3 42 14 15  9  3]</td>\n      <td>[2 3 1 0 2 3 1 2]</td>\n      <td>[589.3        501.62676676]</td>\n    </tr>\n    <tr>\n      <th>5</th>\n      <td>5</td>\n      <td>[27 12  3 40 11 17  5  3  6]</td>\n      <td>[3 2 1 0 2 3 2 1 2]</td>\n      <td>[569.8        431.84988417]</td>\n    </tr>\n    <tr>\n      <th>6</th>\n      <td>6</td>\n      <td>[27 13  3 40  9 13  3 17]</td>\n      <td>[3 2 1 0 2 3 1 2]</td>\n      <td>[572.3        432.56692672]</td>\n    </tr>\n    <tr>\n      <th>7</th>\n      <td>7</td>\n      <td>[27 13  3 40 10 12  8  4  5]</td>\n      <td>[3 2 1 0 2 3 2 1 3]</td>\n      <td>[561.3        428.44556844]</td>\n    </tr>\n    <tr>\n      <th>8</th>\n      <td>8</td>\n      <td>[27 13  3 39 10 13  2  6 10]</td>\n      <td>[3 2 1 0 2 3 1 2 0]</td>\n      <td>[545.         423.66038988]</td>\n    </tr>\n    <tr>\n      <th>9</th>\n      <td>9</td>\n      <td>[27 13  3 41 10 16  2  4 10]</td>\n      <td>[3 2 1 0 2 3 2 1 3]</td>\n      <td>[584.5       435.3700321]</td>\n    </tr>\n    <tr>\n      <th>10</th>\n      <td>10</td>\n      <td>[27 13  3 37 12 15  3  3  2]</td>\n      <td>[3 2 1 0 2 3 0 1 0]</td>\n      <td>[520.9        423.01092874]</td>\n    </tr>\n    <tr>\n      <th>11</th>\n      <td>11</td>\n      <td>[27 13  3 40 10 12  4  2  2  7  2]</td>\n      <td>[3 2 1 0 2 3 2 1 2 3 2]</td>\n      <td>[559.9        424.74308975]</td>\n    </tr>\n  </tbody>\n</table>\n</div>"
     },
     "metadata": {},
     "execution_count": 69
    }
   ],
   "source": [
    "results=pd.read_csv(root_path_analysis+name+\"solutions.csv\")# Import from csv\n",
    "results"
   ]
  },
  {
   "source": [
    "### 25/2 9\n",
    "- 25/2 9\n",
    "    - For each MC simulation the backlog and\n",
    "        - Monte Carlo simulations=1000\n",
    "        - 13 Executions, with 1000 generations\n",
    "        - Uses a pCross of 50%, instead of the 11% as previously(in the base case).\n",
    "        - Creates a new Planning Object at each iteration (encapsulate_planning)\n",
    "        - Found 2 solutions without violations in the pareto front\n",
    "            - Violation is the median of the sum of backlogs per simulations\n",
    "            - P backlog is the Probability."
   ],
   "cell_type": "markdown",
   "metadata": {}
  },
  {
   "cell_type": "code",
   "execution_count": 75,
   "metadata": {},
   "outputs": [
    {
     "output_type": "execute_result",
     "data": {
      "text/plain": [
       "   Unnamed: 0 Execution                                                                                      Variation Solution  Total throughput [kg]  Max total backlog [kg]  Mean total backlog [kg]  std dev total backlog [kg]  Median total backlog [kg]  Min total backlog [kg]  P(total backlog ≤ 0 kg)  Max total inventory deficit [kg]  Mean total inventory deficit [kg]  std dev inventory deficit [kg]  Median total inventory deficit [kg]  Min total inventory deficit [kg]  Total Deficit [kg]                      Batches [un]              Product label                                                                                                       Start of USP [date]                                                                                                         End of DSP [date]\n",
       "0           0   Article                                                                                        Article        X                  539.3                8.200000                 0.200000                    0.600000                        0.0                     0.0                    0.820                        683.400000                         432.600000                       58.600000                           424.400000                        259.400000                 NaN  [15 10 29 3 15 11 15 6 2 2 2 10]  [3 2 0 1 3 2 1 3 2 1 2 3]                                                                                                                       NaN                                                                                                                       NaN\n",
       "1           1   Article                                                                                        Article        Y                  601.5               16.000000                 7.100000                    4.300000                        0.0                     0.0                    0.500                        786.000000                         558.600000                       59.000000                           551.700000                        355.600000                 NaN           [12 13 24 18 5 19 9 30]          [3 2 0 3 1 0 2 3]                                                                                                                       NaN                                                                                                                       NaN\n",
       "2           0         0  front_nsga,tour_vio,rein_vio,vio_back,calc_montecarlo,100,1000,2,0.5,(0.04, 0.61, 0.77, 0.47)        X                  579.1               11.510280                 0.954276                    1.611787                        0.0                     0.0                    0.514                        707.568993                         522.932321                       55.176101                           522.764170                        363.563667          522.764170      [16  9 32  3 16 13 16  2 21]        [3 2 0 1 3 2 0 1 3]  ['2016-12-01' '2017-04-14' '2017-07-02' '2018-03-02' '2018-04-11'\\n '2018-08-23' '2018-12-08' '2019-04-18' '2019-05-17']  ['2017-05-11' '2017-07-31' '2018-03-28' '2018-05-10' '2018-09-19'\\n '2019-01-06' '2019-05-14' '2019-06-15' '2019-11-29']\n",
       "3           1         0  front_nsga,tour_vio,rein_vio,vio_back,calc_montecarlo,100,1000,2,0.5,(0.04, 0.61, 0.77, 0.47)        Y                  594.2               10.758521                 0.862772                    1.538422                        0.0                     0.0                    0.550                        785.014519                         541.405629                       64.565966                           538.528924                        353.727384          538.528924         [16  9 31  4 14 13 15 28]          [3 2 0 1 3 2 0 3]               ['2016-12-01' '2017-04-14' '2017-07-02' '2018-02-23' '2018-04-15'\\n '2018-08-13' '2018-11-28' '2019-03-29']               ['2017-05-11' '2017-07-31' '2018-03-21' '2018-05-14' '2018-09-09'\\n '2018-12-27' '2019-04-27' '2019-11-29']"
      ],
      "text/html": "<div>\n<style scoped>\n    .dataframe tbody tr th:only-of-type {\n        vertical-align: middle;\n    }\n\n    .dataframe tbody tr th {\n        vertical-align: top;\n    }\n\n    .dataframe thead th {\n        text-align: right;\n    }\n</style>\n<table border=\"1\" class=\"dataframe\">\n  <thead>\n    <tr style=\"text-align: right;\">\n      <th></th>\n      <th>Unnamed: 0</th>\n      <th>Execution</th>\n      <th>Variation</th>\n      <th>Solution</th>\n      <th>Total throughput [kg]</th>\n      <th>Max total backlog [kg]</th>\n      <th>Mean total backlog [kg]</th>\n      <th>std dev total backlog [kg]</th>\n      <th>Median total backlog [kg]</th>\n      <th>Min total backlog [kg]</th>\n      <th>P(total backlog ≤ 0 kg)</th>\n      <th>Max total inventory deficit [kg]</th>\n      <th>Mean total inventory deficit [kg]</th>\n      <th>std dev inventory deficit [kg]</th>\n      <th>Median total inventory deficit [kg]</th>\n      <th>Min total inventory deficit [kg]</th>\n      <th>Total Deficit [kg]</th>\n      <th>Batches [un]</th>\n      <th>Product label</th>\n      <th>Start of USP [date]</th>\n      <th>End of DSP [date]</th>\n    </tr>\n  </thead>\n  <tbody>\n    <tr>\n      <th>0</th>\n      <td>0</td>\n      <td>Article</td>\n      <td>Article</td>\n      <td>X</td>\n      <td>539.3</td>\n      <td>8.200000</td>\n      <td>0.200000</td>\n      <td>0.600000</td>\n      <td>0.0</td>\n      <td>0.0</td>\n      <td>0.820</td>\n      <td>683.400000</td>\n      <td>432.600000</td>\n      <td>58.600000</td>\n      <td>424.400000</td>\n      <td>259.400000</td>\n      <td>NaN</td>\n      <td>[15 10 29 3 15 11 15 6 2 2 2 10]</td>\n      <td>[3 2 0 1 3 2 1 3 2 1 2 3]</td>\n      <td>NaN</td>\n      <td>NaN</td>\n    </tr>\n    <tr>\n      <th>1</th>\n      <td>1</td>\n      <td>Article</td>\n      <td>Article</td>\n      <td>Y</td>\n      <td>601.5</td>\n      <td>16.000000</td>\n      <td>7.100000</td>\n      <td>4.300000</td>\n      <td>0.0</td>\n      <td>0.0</td>\n      <td>0.500</td>\n      <td>786.000000</td>\n      <td>558.600000</td>\n      <td>59.000000</td>\n      <td>551.700000</td>\n      <td>355.600000</td>\n      <td>NaN</td>\n      <td>[12 13 24 18 5 19 9 30]</td>\n      <td>[3 2 0 3 1 0 2 3]</td>\n      <td>NaN</td>\n      <td>NaN</td>\n    </tr>\n    <tr>\n      <th>2</th>\n      <td>0</td>\n      <td>0</td>\n      <td>front_nsga,tour_vio,rein_vio,vio_back,calc_montecarlo,100,1000,2,0.5,(0.04, 0.61, 0.77, 0.47)</td>\n      <td>X</td>\n      <td>579.1</td>\n      <td>11.510280</td>\n      <td>0.954276</td>\n      <td>1.611787</td>\n      <td>0.0</td>\n      <td>0.0</td>\n      <td>0.514</td>\n      <td>707.568993</td>\n      <td>522.932321</td>\n      <td>55.176101</td>\n      <td>522.764170</td>\n      <td>363.563667</td>\n      <td>522.764170</td>\n      <td>[16  9 32  3 16 13 16  2 21]</td>\n      <td>[3 2 0 1 3 2 0 1 3]</td>\n      <td>['2016-12-01' '2017-04-14' '2017-07-02' '2018-03-02' '2018-04-11'\\n '2018-08-23' '2018-12-08' '2019-04-18' '2019-05-17']</td>\n      <td>['2017-05-11' '2017-07-31' '2018-03-28' '2018-05-10' '2018-09-19'\\n '2019-01-06' '2019-05-14' '2019-06-15' '2019-11-29']</td>\n    </tr>\n    <tr>\n      <th>3</th>\n      <td>1</td>\n      <td>0</td>\n      <td>front_nsga,tour_vio,rein_vio,vio_back,calc_montecarlo,100,1000,2,0.5,(0.04, 0.61, 0.77, 0.47)</td>\n      <td>Y</td>\n      <td>594.2</td>\n      <td>10.758521</td>\n      <td>0.862772</td>\n      <td>1.538422</td>\n      <td>0.0</td>\n      <td>0.0</td>\n      <td>0.550</td>\n      <td>785.014519</td>\n      <td>541.405629</td>\n      <td>64.565966</td>\n      <td>538.528924</td>\n      <td>353.727384</td>\n      <td>538.528924</td>\n      <td>[16  9 31  4 14 13 15 28]</td>\n      <td>[3 2 0 1 3 2 0 3]</td>\n      <td>['2016-12-01' '2017-04-14' '2017-07-02' '2018-02-23' '2018-04-15'\\n '2018-08-13' '2018-11-28' '2019-03-29']</td>\n      <td>['2017-05-11' '2017-07-31' '2018-03-21' '2018-05-14' '2018-09-09'\\n '2018-12-27' '2019-04-27' '2019-11-29']</td>\n    </tr>\n  </tbody>\n</table>\n</div>"
     },
     "metadata": {},
     "execution_count": 75
    }
   ],
   "source": [
    "name=\"25-28\"\n",
    "result=pd.read_csv(root_path_analysis+name+'.csv')# Import from csv\n",
    "result"
   ]
  },
  {
   "cell_type": "code",
   "execution_count": 76,
   "metadata": {},
   "outputs": [
    {
     "output_type": "execute_result",
     "data": {
      "text/plain": [
       "   Unnamed: 0                       Batches             Products                   Objectives  Median total backlog\n",
       "0           0  [16  9 32  3 16 13 16  2 21]  [3 2 0 1 3 2 0 1 3]  [579.1        522.76417001]                   0.0\n",
       "1           1     [16  9 31  4 14 13 15 28]    [3 2 0 1 3 2 0 3]  [594.2        538.52892356]                   0.0"
      ],
      "text/html": "<div>\n<style scoped>\n    .dataframe tbody tr th:only-of-type {\n        vertical-align: middle;\n    }\n\n    .dataframe tbody tr th {\n        vertical-align: top;\n    }\n\n    .dataframe thead th {\n        text-align: right;\n    }\n</style>\n<table border=\"1\" class=\"dataframe\">\n  <thead>\n    <tr style=\"text-align: right;\">\n      <th></th>\n      <th>Unnamed: 0</th>\n      <th>Batches</th>\n      <th>Products</th>\n      <th>Objectives</th>\n      <th>Median total backlog</th>\n    </tr>\n  </thead>\n  <tbody>\n    <tr>\n      <th>0</th>\n      <td>0</td>\n      <td>[16  9 32  3 16 13 16  2 21]</td>\n      <td>[3 2 0 1 3 2 0 1 3]</td>\n      <td>[579.1        522.76417001]</td>\n      <td>0.0</td>\n    </tr>\n    <tr>\n      <th>1</th>\n      <td>1</td>\n      <td>[16  9 31  4 14 13 15 28]</td>\n      <td>[3 2 0 1 3 2 0 3]</td>\n      <td>[594.2        538.52892356]</td>\n      <td>0.0</td>\n    </tr>\n  </tbody>\n</table>\n</div>"
     },
     "metadata": {},
     "execution_count": 76
    }
   ],
   "source": [
    "results=pd.read_csv(root_path_analysis+name+\"solutions.csv\")# Import from csv\n",
    "results"
   ]
  }
 ]
}