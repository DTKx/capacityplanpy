{
 "metadata": {
  "language_info": {
   "codemirror_mode": {
    "name": "ipython",
    "version": 3
   },
   "file_extension": ".py",
   "mimetype": "text/x-python",
   "name": "python",
   "nbconvert_exporter": "python",
   "pygments_lexer": "ipython3",
   "version": "3.8.3-final"
  },
  "orig_nbformat": 2,
  "kernelspec": {
   "name": "python3",
   "display_name": "Python 3.8.3 64-bit ('comp_evol': conda)",
   "metadata": {
    "interpreter": {
     "hash": "e3d2e5b49fca8ece28e8612ddb42da6ec98316623bc11967ddd6e72144cb4ad0"
    }
   }
  }
 },
 "nbformat": 4,
 "nbformat_minor": 2,
 "cells": [
  {
   "source": [
    "# Reproduction of Article\n",
    "1. Steps:\n",
    "    1. Import Data\n",
    "    1. Initial Data Exploration\n",
    "        1. Data Summary Table\n",
    "    1. Comparison with article Data"
   ],
   "cell_type": "markdown",
   "metadata": {}
  },
  {
   "cell_type": "code",
   "execution_count": 25,
   "metadata": {},
   "outputs": [],
   "source": [
    "import pickle\n",
    "import numpy as np\n",
    "import pandas as pd\n",
    "import matplotlib.pyplot as plt\n",
    "import copy\n",
    "import codecs\n",
    "root_path_report=\"C:\\\\Users\\\\Debora\\\\Documents\\\\01_UFU_local\\\\01_comp_evolutiva\\\\05_trabalho3\\\\03_relatorio\\\\springer\\\\tables\\\\\"\n",
    "root_path_data=\"C:\\\\Users\\\\Debora\\\\Documents\\\\01_UFU_local\\\\01_comp_evolutiva\\\\05_trabalho3\\\\01_dados\\\\01_raw\\\\\"\n",
    "root_path_analysis=\"C:\\\\Users\\\\Debora\\\\Documents\\\\01_UFU_local\\\\01_comp_evolutiva\\\\05_trabalho3\\\\01_dados\\\\02_analysis\\\\01_implementation\\\\\"\n",
    "pd.set_option('display.max_rows', 500)\n",
    "pd.set_option('display.max_columns', 500)\n",
    "pd.set_option('display.max_colwidth', 130)\n",
    "pd.set_option('display.width', 2000)\n"
   ]
  },
  {
   "source": [
    "## Parse Data"
   ],
   "cell_type": "markdown",
   "metadata": {}
  },
  {
   "cell_type": "code",
   "execution_count": 26,
   "metadata": {},
   "outputs": [],
   "source": [
    "# import cPickle as pickle\n",
    "import pickle\n",
    "from capacidade import Population\n",
    "def export_obj(obj, path):\n",
    "    with open(path, \"wb\") as output:  # Overwrites any existing file.\n",
    "        pickle.dump(obj, output, pickle.HIGHEST_PROTOCOL)\n",
    "\n",
    "\n",
    "def load_obj(path):\n",
    "    with open(path, \"rb\") as input:\n",
    "        obj = pickle.load(input)\n",
    "    return obj"
   ]
  },
  {
   "source": [
    "# # Export table to txt for latex\n",
    "# root_path_report = \"C:\\\\Users\\\\debor\\\\Documents\\\\01_UFU_local\\\\01_comp_evolutiva\\\\01_trabalho_1\\\\03_relatorio\\\\template-latex\\\\tables\\\\\"\n",
    "# file_name = \"representacao.txt\"\n",
    "# path = root_path_report + file_name\n",
    "# with codecs.open(path, 'w', 'utf-8') as outfile:\n",
    "#     outfile.write(tabela_df.to_latex(index=False))\n",
    "\n",
    "# Open pickle Exec\n",
    "file_name='v_0_exec.pkl'\n",
    "# file_name='step_v_0step_exec.pkl'\n",
    "path=root_path_data+file_name\n",
    "infile = open(path,'rb')\n",
    "ds_exec= pickle.load(infile)\n",
    "infile.close()\n",
    "\n",
    "# Open pickle dict class object pop\n",
    "file_name='v_0_id.pkl'\n",
    "# file_name='step_v_0_id.pkl'\n",
    "path=root_path_data+file_name\n",
    "infile = open(path,'rb')\n",
    "ds_ind= pickle.load(infile)\n",
    "infile.close()\n",
    "\n",
    "# Unpack Data Execution\n",
    "headers=[\"Execution\",\"Variant\",\"Hipervolume\",\"Pareto Front\"]\n",
    "df_exec=pd.DataFrame(ds_exec,columns=headers)\n",
    "\n",
    "# Unpack Data per Ind\n",
    "headers=[\"Execution\",\"Variation\",\"Solution\",\"Total throughput [kg]\", \"Max total backlog [kg]\", \"Mean total backlog [kg]\",\"std dev total backlog [kg]\", \"Median total backlog [kg]\",\"Min total backlog [kg]\", \"P(total backlog ≤ 0 kg)\",\"Max total inventory deficit [kg]\", \"Mean total inventory deficit [kg]\",\"std dev inventory deficit [kg]\", \"Median total inventory deficit [kg]\", \"Min total inventory deficit [kg]\",\"Total Deficit [kg]\",\"Batches [un]\",\"Product label\",\"Start of USP [date]\",\"End of DSP [date]\"]\n",
    "\n",
    "df_ind=pd.DataFrame(ds_ind,columns=headers)"
   ],
   "cell_type": "code",
   "metadata": {},
   "execution_count": 27,
   "outputs": []
  },
  {
   "cell_type": "code",
   "execution_count": 28,
   "metadata": {},
   "outputs": [
    {
     "output_type": "execute_result",
     "data": {
      "text/plain": [
       "   Execution                                                                                         Variant  Hipervolume                                                                                                                       Pareto Front\n",
       "0          0  front_nsga,tour_vio,rein_vio,vio_back,calc_montecarlo,100,1000,2,0.11,(0.04, 0.61, 0.77, 0.47)     0.297104  [[461.5999999999999, 587.0821138904923], [462.9000000000001, 594.1649276769461], [467.79999999999995, 603.42444055723], [470.2..."
      ],
      "text/html": "<div>\n<style scoped>\n    .dataframe tbody tr th:only-of-type {\n        vertical-align: middle;\n    }\n\n    .dataframe tbody tr th {\n        vertical-align: top;\n    }\n\n    .dataframe thead th {\n        text-align: right;\n    }\n</style>\n<table border=\"1\" class=\"dataframe\">\n  <thead>\n    <tr style=\"text-align: right;\">\n      <th></th>\n      <th>Execution</th>\n      <th>Variant</th>\n      <th>Hipervolume</th>\n      <th>Pareto Front</th>\n    </tr>\n  </thead>\n  <tbody>\n    <tr>\n      <th>0</th>\n      <td>0</td>\n      <td>front_nsga,tour_vio,rein_vio,vio_back,calc_montecarlo,100,1000,2,0.11,(0.04, 0.61, 0.77, 0.47)</td>\n      <td>0.297104</td>\n      <td>[[461.5999999999999, 587.0821138904923], [462.9000000000001, 594.1649276769461], [467.79999999999995, 603.42444055723], [470.2...</td>\n    </tr>\n  </tbody>\n</table>\n</div>"
     },
     "metadata": {},
     "execution_count": 28
    }
   ],
   "source": [
    "df_exec"
   ]
  },
  {
   "source": [
    "### Individuals"
   ],
   "cell_type": "markdown",
   "metadata": {}
  },
  {
   "cell_type": "code",
   "execution_count": 29,
   "metadata": {},
   "outputs": [
    {
     "output_type": "execute_result",
     "data": {
      "text/plain": [
       "   Execution                                                                                       Variation Solution  Total throughput [kg]  Max total backlog [kg]  Mean total backlog [kg]  std dev total backlog [kg]  Median total backlog [kg]  Min total backlog [kg]  P(total backlog ≤ 0 kg)  Max total inventory deficit [kg]  Mean total inventory deficit [kg]  std dev inventory deficit [kg]  Median total inventory deficit [kg]  Min total inventory deficit [kg]  Total Deficit [kg]               Batches [un]          Product label                                                                   Start of USP [date]                                                                     End of DSP [date]\n",
       "0          0  front_nsga,tour_vio,rein_vio,vio_back,calc_montecarlo,100,1000,2,0.11,(0.04, 0.61, 0.77, 0.47)        X                  461.6               41.861155                35.532347                    2.433653                  35.091078               31.213757                      0.0                        687.323710                         591.391954                       31.983948                           587.082114                        514.598901          587.082114  [21, 16, 31, 12, 7, 7, 8]  [3, 2, 0, 3, 2, 0, 1]  [2016-12-01, 2017-06-22, 2017-11-26, 2018-08-15, 2018-12-26, 2019-03-30, 2019-07-02]  [2017-06-22, 2017-11-26, 2018-08-15, 2018-12-26, 2019-03-30, 2019-07-02, 2019-11-03]\n",
       "1          0  front_nsga,tour_vio,rein_vio,vio_back,calc_montecarlo,100,1000,2,0.11,(0.04, 0.61, 0.77, 0.47)        Y                  470.8               44.223134                35.783537                    2.391289                  35.499388               30.840925                      0.0                        712.101305                         622.197185                       36.034471                           620.074496                        549.307411          620.074496  [21, 16, 31, 14, 6, 6, 9]  [3, 2, 0, 3, 2, 0, 1]  [2016-12-01, 2017-06-22, 2017-11-26, 2018-08-15, 2019-01-09, 2019-04-06, 2019-07-02]  [2017-06-22, 2017-11-26, 2018-08-15, 2019-01-09, 2019-04-06, 2019-07-02, 2019-11-14]"
      ],
      "text/html": "<div>\n<style scoped>\n    .dataframe tbody tr th:only-of-type {\n        vertical-align: middle;\n    }\n\n    .dataframe tbody tr th {\n        vertical-align: top;\n    }\n\n    .dataframe thead th {\n        text-align: right;\n    }\n</style>\n<table border=\"1\" class=\"dataframe\">\n  <thead>\n    <tr style=\"text-align: right;\">\n      <th></th>\n      <th>Execution</th>\n      <th>Variation</th>\n      <th>Solution</th>\n      <th>Total throughput [kg]</th>\n      <th>Max total backlog [kg]</th>\n      <th>Mean total backlog [kg]</th>\n      <th>std dev total backlog [kg]</th>\n      <th>Median total backlog [kg]</th>\n      <th>Min total backlog [kg]</th>\n      <th>P(total backlog ≤ 0 kg)</th>\n      <th>Max total inventory deficit [kg]</th>\n      <th>Mean total inventory deficit [kg]</th>\n      <th>std dev inventory deficit [kg]</th>\n      <th>Median total inventory deficit [kg]</th>\n      <th>Min total inventory deficit [kg]</th>\n      <th>Total Deficit [kg]</th>\n      <th>Batches [un]</th>\n      <th>Product label</th>\n      <th>Start of USP [date]</th>\n      <th>End of DSP [date]</th>\n    </tr>\n  </thead>\n  <tbody>\n    <tr>\n      <th>0</th>\n      <td>0</td>\n      <td>front_nsga,tour_vio,rein_vio,vio_back,calc_montecarlo,100,1000,2,0.11,(0.04, 0.61, 0.77, 0.47)</td>\n      <td>X</td>\n      <td>461.6</td>\n      <td>41.861155</td>\n      <td>35.532347</td>\n      <td>2.433653</td>\n      <td>35.091078</td>\n      <td>31.213757</td>\n      <td>0.0</td>\n      <td>687.323710</td>\n      <td>591.391954</td>\n      <td>31.983948</td>\n      <td>587.082114</td>\n      <td>514.598901</td>\n      <td>587.082114</td>\n      <td>[21, 16, 31, 12, 7, 7, 8]</td>\n      <td>[3, 2, 0, 3, 2, 0, 1]</td>\n      <td>[2016-12-01, 2017-06-22, 2017-11-26, 2018-08-15, 2018-12-26, 2019-03-30, 2019-07-02]</td>\n      <td>[2017-06-22, 2017-11-26, 2018-08-15, 2018-12-26, 2019-03-30, 2019-07-02, 2019-11-03]</td>\n    </tr>\n    <tr>\n      <th>1</th>\n      <td>0</td>\n      <td>front_nsga,tour_vio,rein_vio,vio_back,calc_montecarlo,100,1000,2,0.11,(0.04, 0.61, 0.77, 0.47)</td>\n      <td>Y</td>\n      <td>470.8</td>\n      <td>44.223134</td>\n      <td>35.783537</td>\n      <td>2.391289</td>\n      <td>35.499388</td>\n      <td>30.840925</td>\n      <td>0.0</td>\n      <td>712.101305</td>\n      <td>622.197185</td>\n      <td>36.034471</td>\n      <td>620.074496</td>\n      <td>549.307411</td>\n      <td>620.074496</td>\n      <td>[21, 16, 31, 14, 6, 6, 9]</td>\n      <td>[3, 2, 0, 3, 2, 0, 1]</td>\n      <td>[2016-12-01, 2017-06-22, 2017-11-26, 2018-08-15, 2019-01-09, 2019-04-06, 2019-07-02]</td>\n      <td>[2017-06-22, 2017-11-26, 2018-08-15, 2019-01-09, 2019-04-06, 2019-07-02, 2019-11-14]</td>\n    </tr>\n  </tbody>\n</table>\n</div>"
     },
     "metadata": {},
     "execution_count": 29
    }
   ],
   "source": [
    "df_ind #X and Y solutions"
   ]
  },
  {
   "source": [
    "- Pareto Front"
   ],
   "cell_type": "markdown",
   "metadata": {}
  },
  {
   "cell_type": "code",
   "execution_count": 30,
   "metadata": {},
   "outputs": [
    {
     "output_type": "execute_result",
     "data": {
      "text/plain": [
       "                     Batches               Products                               Objectives\n",
       "0  [21, 16, 31, 12, 7, 7, 8]  [3, 2, 0, 3, 2, 0, 1]   [461.5999999999999, 587.0821138904923]\n",
       "1  [21, 16, 32, 12, 6, 6, 9]  [3, 2, 0, 3, 2, 0, 1]   [462.9000000000001, 594.1649276769461]\n",
       "2  [21, 16, 32, 12, 7, 6, 9]  [3, 2, 0, 3, 2, 0, 1]    [467.79999999999995, 603.42444055723]\n",
       "3  [21, 16, 31, 13, 7, 6, 9]  [3, 2, 0, 3, 2, 0, 1]  [470.20000000000005, 608.0488330054595]\n",
       "4  [21, 16, 31, 14, 6, 6, 9]  [3, 2, 0, 3, 2, 0, 1]  [470.79999999999995, 620.0744959371785]"
      ],
      "text/html": "<div>\n<style scoped>\n    .dataframe tbody tr th:only-of-type {\n        vertical-align: middle;\n    }\n\n    .dataframe tbody tr th {\n        vertical-align: top;\n    }\n\n    .dataframe thead th {\n        text-align: right;\n    }\n</style>\n<table border=\"1\" class=\"dataframe\">\n  <thead>\n    <tr style=\"text-align: right;\">\n      <th></th>\n      <th>Batches</th>\n      <th>Products</th>\n      <th>Objectives</th>\n    </tr>\n  </thead>\n  <tbody>\n    <tr>\n      <th>0</th>\n      <td>[21, 16, 31, 12, 7, 7, 8]</td>\n      <td>[3, 2, 0, 3, 2, 0, 1]</td>\n      <td>[461.5999999999999, 587.0821138904923]</td>\n    </tr>\n    <tr>\n      <th>1</th>\n      <td>[21, 16, 32, 12, 6, 6, 9]</td>\n      <td>[3, 2, 0, 3, 2, 0, 1]</td>\n      <td>[462.9000000000001, 594.1649276769461]</td>\n    </tr>\n    <tr>\n      <th>2</th>\n      <td>[21, 16, 32, 12, 7, 6, 9]</td>\n      <td>[3, 2, 0, 3, 2, 0, 1]</td>\n      <td>[467.79999999999995, 603.42444055723]</td>\n    </tr>\n    <tr>\n      <th>3</th>\n      <td>[21, 16, 31, 13, 7, 6, 9]</td>\n      <td>[3, 2, 0, 3, 2, 0, 1]</td>\n      <td>[470.20000000000005, 608.0488330054595]</td>\n    </tr>\n    <tr>\n      <th>4</th>\n      <td>[21, 16, 31, 14, 6, 6, 9]</td>\n      <td>[3, 2, 0, 3, 2, 0, 1]</td>\n      <td>[470.79999999999995, 620.0744959371785]</td>\n    </tr>\n  </tbody>\n</table>\n</div>"
     },
     "metadata": {},
     "execution_count": 30
    }
   ],
   "source": [
    "import copy\n",
    "import datetime\n",
    "date=datetime.datetime.now()\n",
    "\n",
    "file_name_solutions='pop_100,1000,2,0.11,(0.04, 0.61, 0.77, 0.47).pkl'#MODIFY THIS NAME IF NECESSARY\n",
    "path=root_path_data+file_name_solutions\n",
    "pop = load_obj(path)\n",
    "batches=[]\n",
    "products=[]\n",
    "objectives=[]\n",
    "for i in range(0,len(pop.batches_raw)):   \n",
    "    batches.append(pop.batches_raw[i][pop.masks[i]])\n",
    "    products.append(pop.products_raw[i][pop.masks[i]])\n",
    "    objectives.append(pop.objectives_raw[i])\n",
    "solutions= pd.DataFrame(list(zip(batches,products,objectives)), \n",
    "               columns =[\"Batches\",\"Products\",\"Objectives\"]) \n",
    "file_name=str(date.day)+\"-\"+str(date.month)+str(date.hour)+'solutions.csv'\n",
    "path=root_path_analysis+file_name\n",
    "solutions.to_csv(path)\n",
    "solutions"
   ]
  },
  {
   "cell_type": "code",
   "execution_count": 31,
   "metadata": {},
   "outputs": [
    {
     "output_type": "execute_result",
     "data": {
      "text/plain": [
       "array([0., 0., 0., 0., 0.])"
      ]
     },
     "metadata": {},
     "execution_count": 31
    }
   ],
   "source": [
    "pop.backlogs[:, 5]"
   ]
  },
  {
   "source": [
    "- Pareto Front"
   ],
   "cell_type": "markdown",
   "metadata": {}
  },
  {
   "cell_type": "code",
   "execution_count": 32,
   "metadata": {},
   "outputs": [
    {
     "output_type": "display_data",
     "data": {
      "text/plain": "<Figure size 432x288 with 1 Axes>",
      "image/svg+xml": "<?xml version=\"1.0\" encoding=\"utf-8\" standalone=\"no\"?>\r\n<!DOCTYPE svg PUBLIC \"-//W3C//DTD SVG 1.1//EN\"\r\n  \"http://www.w3.org/Graphics/SVG/1.1/DTD/svg11.dtd\">\r\n<!-- Created with matplotlib (https://matplotlib.org/) -->\r\n<svg height=\"277.314375pt\" version=\"1.1\" viewBox=\"0 0 388.965625 277.314375\" width=\"388.965625pt\" xmlns=\"http://www.w3.org/2000/svg\" xmlns:xlink=\"http://www.w3.org/1999/xlink\">\r\n <defs>\r\n  <style type=\"text/css\">\r\n*{stroke-linecap:butt;stroke-linejoin:round;}\r\n  </style>\r\n </defs>\r\n <g id=\"figure_1\">\r\n  <g id=\"patch_1\">\r\n   <path d=\"M -0 277.314375 \r\nL 388.965625 277.314375 \r\nL 388.965625 0 \r\nL -0 0 \r\nz\r\n\" style=\"fill:none;\"/>\r\n  </g>\r\n  <g id=\"axes_1\">\r\n   <g id=\"patch_2\">\r\n    <path d=\"M 46.965625 239.758125 \r\nL 381.765625 239.758125 \r\nL 381.765625 22.318125 \r\nL 46.965625 22.318125 \r\nz\r\n\" style=\"fill:#ffffff;\"/>\r\n   </g>\r\n   <g id=\"PathCollection_1\">\r\n    <defs>\r\n     <path d=\"M 0 3 \r\nC 0.795609 3 1.55874 2.683901 2.12132 2.12132 \r\nC 2.683901 1.55874 3 0.795609 3 0 \r\nC 3 -0.795609 2.683901 -1.55874 2.12132 -2.12132 \r\nC 1.55874 -2.683901 0.795609 -3 0 -3 \r\nC -0.795609 -3 -1.55874 -2.683901 -2.12132 -2.12132 \r\nC -2.683901 -1.55874 -3 -0.795609 -3 0 \r\nC -3 0.795609 -2.683901 1.55874 -2.12132 2.12132 \r\nC -1.55874 2.683901 -0.795609 3 0 3 \r\nz\r\n\" id=\"m96a8f8a585\" style=\"stroke:#008000;\"/>\r\n    </defs>\r\n    <g clip-path=\"url(#p446abec825)\">\r\n     <use style=\"fill:#008000;stroke:#008000;\" x=\"62.183807\" xlink:href=\"#m96a8f8a585\" y=\"229.874489\"/>\r\n     <use style=\"fill:#008000;stroke:#008000;\" x=\"105.191712\" xlink:href=\"#m96a8f8a585\" y=\"187.438052\"/>\r\n     <use style=\"fill:#008000;stroke:#008000;\" x=\"267.298431\" xlink:href=\"#m96a8f8a585\" y=\"131.959998\"/>\r\n     <use style=\"fill:#008000;stroke:#008000;\" x=\"346.697641\" xlink:href=\"#m96a8f8a585\" y=\"104.253109\"/>\r\n     <use style=\"fill:#008000;stroke:#008000;\" x=\"366.547443\" xlink:href=\"#m96a8f8a585\" y=\"32.201761\"/>\r\n    </g>\r\n   </g>\r\n   <g id=\"matplotlib.axis_1\">\r\n    <g id=\"xtick_1\">\r\n     <g id=\"line2d_1\">\r\n      <defs>\r\n       <path d=\"M 0 0 \r\nL 0 3.5 \r\n\" id=\"md19fdcf9a9\" style=\"stroke:#000000;stroke-width:0.8;\"/>\r\n      </defs>\r\n      <g>\r\n       <use style=\"stroke:#000000;stroke-width:0.8;\" x=\"75.417008\" xlink:href=\"#md19fdcf9a9\" y=\"239.758125\"/>\r\n      </g>\r\n     </g>\r\n     <g id=\"text_1\">\r\n      <!-- 462 -->\r\n      <defs>\r\n       <path d=\"M 37.796875 64.3125 \r\nL 12.890625 25.390625 \r\nL 37.796875 25.390625 \r\nz\r\nM 35.203125 72.90625 \r\nL 47.609375 72.90625 \r\nL 47.609375 25.390625 \r\nL 58.015625 25.390625 \r\nL 58.015625 17.1875 \r\nL 47.609375 17.1875 \r\nL 47.609375 0 \r\nL 37.796875 0 \r\nL 37.796875 17.1875 \r\nL 4.890625 17.1875 \r\nL 4.890625 26.703125 \r\nz\r\n\" id=\"DejaVuSans-52\"/>\r\n       <path d=\"M 33.015625 40.375 \r\nQ 26.375 40.375 22.484375 35.828125 \r\nQ 18.609375 31.296875 18.609375 23.390625 \r\nQ 18.609375 15.53125 22.484375 10.953125 \r\nQ 26.375 6.390625 33.015625 6.390625 \r\nQ 39.65625 6.390625 43.53125 10.953125 \r\nQ 47.40625 15.53125 47.40625 23.390625 \r\nQ 47.40625 31.296875 43.53125 35.828125 \r\nQ 39.65625 40.375 33.015625 40.375 \r\nz\r\nM 52.59375 71.296875 \r\nL 52.59375 62.3125 \r\nQ 48.875 64.0625 45.09375 64.984375 \r\nQ 41.3125 65.921875 37.59375 65.921875 \r\nQ 27.828125 65.921875 22.671875 59.328125 \r\nQ 17.53125 52.734375 16.796875 39.40625 \r\nQ 19.671875 43.65625 24.015625 45.921875 \r\nQ 28.375 48.1875 33.59375 48.1875 \r\nQ 44.578125 48.1875 50.953125 41.515625 \r\nQ 57.328125 34.859375 57.328125 23.390625 \r\nQ 57.328125 12.15625 50.6875 5.359375 \r\nQ 44.046875 -1.421875 33.015625 -1.421875 \r\nQ 20.359375 -1.421875 13.671875 8.265625 \r\nQ 6.984375 17.96875 6.984375 36.375 \r\nQ 6.984375 53.65625 15.1875 63.9375 \r\nQ 23.390625 74.21875 37.203125 74.21875 \r\nQ 40.921875 74.21875 44.703125 73.484375 \r\nQ 48.484375 72.75 52.59375 71.296875 \r\nz\r\n\" id=\"DejaVuSans-54\"/>\r\n       <path d=\"M 19.1875 8.296875 \r\nL 53.609375 8.296875 \r\nL 53.609375 0 \r\nL 7.328125 0 \r\nL 7.328125 8.296875 \r\nQ 12.9375 14.109375 22.625 23.890625 \r\nQ 32.328125 33.6875 34.8125 36.53125 \r\nQ 39.546875 41.84375 41.421875 45.53125 \r\nQ 43.3125 49.21875 43.3125 52.78125 \r\nQ 43.3125 58.59375 39.234375 62.25 \r\nQ 35.15625 65.921875 28.609375 65.921875 \r\nQ 23.96875 65.921875 18.8125 64.3125 \r\nQ 13.671875 62.703125 7.8125 59.421875 \r\nL 7.8125 69.390625 \r\nQ 13.765625 71.78125 18.9375 73 \r\nQ 24.125 74.21875 28.421875 74.21875 \r\nQ 39.75 74.21875 46.484375 68.546875 \r\nQ 53.21875 62.890625 53.21875 53.421875 \r\nQ 53.21875 48.921875 51.53125 44.890625 \r\nQ 49.859375 40.875 45.40625 35.40625 \r\nQ 44.1875 33.984375 37.640625 27.21875 \r\nQ 31.109375 20.453125 19.1875 8.296875 \r\nz\r\n\" id=\"DejaVuSans-50\"/>\r\n      </defs>\r\n      <g transform=\"translate(65.873258 254.356562)scale(0.1 -0.1)\">\r\n       <use xlink:href=\"#DejaVuSans-52\"/>\r\n       <use x=\"63.623047\" xlink:href=\"#DejaVuSans-54\"/>\r\n       <use x=\"127.246094\" xlink:href=\"#DejaVuSans-50\"/>\r\n      </g>\r\n     </g>\r\n    </g>\r\n    <g id=\"xtick_2\">\r\n     <g id=\"line2d_2\">\r\n      <g>\r\n       <use style=\"stroke:#000000;stroke-width:0.8;\" x=\"141.583016\" xlink:href=\"#md19fdcf9a9\" y=\"239.758125\"/>\r\n      </g>\r\n     </g>\r\n     <g id=\"text_2\">\r\n      <!-- 464 -->\r\n      <g transform=\"translate(132.039266 254.356562)scale(0.1 -0.1)\">\r\n       <use xlink:href=\"#DejaVuSans-52\"/>\r\n       <use x=\"63.623047\" xlink:href=\"#DejaVuSans-54\"/>\r\n       <use x=\"127.246094\" xlink:href=\"#DejaVuSans-52\"/>\r\n      </g>\r\n     </g>\r\n    </g>\r\n    <g id=\"xtick_3\">\r\n     <g id=\"line2d_3\">\r\n      <g>\r\n       <use style=\"stroke:#000000;stroke-width:0.8;\" x=\"207.749024\" xlink:href=\"#md19fdcf9a9\" y=\"239.758125\"/>\r\n      </g>\r\n     </g>\r\n     <g id=\"text_3\">\r\n      <!-- 466 -->\r\n      <g transform=\"translate(198.205274 254.356562)scale(0.1 -0.1)\">\r\n       <use xlink:href=\"#DejaVuSans-52\"/>\r\n       <use x=\"63.623047\" xlink:href=\"#DejaVuSans-54\"/>\r\n       <use x=\"127.246094\" xlink:href=\"#DejaVuSans-54\"/>\r\n      </g>\r\n     </g>\r\n    </g>\r\n    <g id=\"xtick_4\">\r\n     <g id=\"line2d_4\">\r\n      <g>\r\n       <use style=\"stroke:#000000;stroke-width:0.8;\" x=\"273.915032\" xlink:href=\"#md19fdcf9a9\" y=\"239.758125\"/>\r\n      </g>\r\n     </g>\r\n     <g id=\"text_4\">\r\n      <!-- 468 -->\r\n      <defs>\r\n       <path d=\"M 31.78125 34.625 \r\nQ 24.75 34.625 20.71875 30.859375 \r\nQ 16.703125 27.09375 16.703125 20.515625 \r\nQ 16.703125 13.921875 20.71875 10.15625 \r\nQ 24.75 6.390625 31.78125 6.390625 \r\nQ 38.8125 6.390625 42.859375 10.171875 \r\nQ 46.921875 13.96875 46.921875 20.515625 \r\nQ 46.921875 27.09375 42.890625 30.859375 \r\nQ 38.875 34.625 31.78125 34.625 \r\nz\r\nM 21.921875 38.8125 \r\nQ 15.578125 40.375 12.03125 44.71875 \r\nQ 8.5 49.078125 8.5 55.328125 \r\nQ 8.5 64.0625 14.71875 69.140625 \r\nQ 20.953125 74.21875 31.78125 74.21875 \r\nQ 42.671875 74.21875 48.875 69.140625 \r\nQ 55.078125 64.0625 55.078125 55.328125 \r\nQ 55.078125 49.078125 51.53125 44.71875 \r\nQ 48 40.375 41.703125 38.8125 \r\nQ 48.828125 37.15625 52.796875 32.3125 \r\nQ 56.78125 27.484375 56.78125 20.515625 \r\nQ 56.78125 9.90625 50.3125 4.234375 \r\nQ 43.84375 -1.421875 31.78125 -1.421875 \r\nQ 19.734375 -1.421875 13.25 4.234375 \r\nQ 6.78125 9.90625 6.78125 20.515625 \r\nQ 6.78125 27.484375 10.78125 32.3125 \r\nQ 14.796875 37.15625 21.921875 38.8125 \r\nz\r\nM 18.3125 54.390625 \r\nQ 18.3125 48.734375 21.84375 45.5625 \r\nQ 25.390625 42.390625 31.78125 42.390625 \r\nQ 38.140625 42.390625 41.71875 45.5625 \r\nQ 45.3125 48.734375 45.3125 54.390625 \r\nQ 45.3125 60.0625 41.71875 63.234375 \r\nQ 38.140625 66.40625 31.78125 66.40625 \r\nQ 25.390625 66.40625 21.84375 63.234375 \r\nQ 18.3125 60.0625 18.3125 54.390625 \r\nz\r\n\" id=\"DejaVuSans-56\"/>\r\n      </defs>\r\n      <g transform=\"translate(264.371282 254.356562)scale(0.1 -0.1)\">\r\n       <use xlink:href=\"#DejaVuSans-52\"/>\r\n       <use x=\"63.623047\" xlink:href=\"#DejaVuSans-54\"/>\r\n       <use x=\"127.246094\" xlink:href=\"#DejaVuSans-56\"/>\r\n      </g>\r\n     </g>\r\n    </g>\r\n    <g id=\"xtick_5\">\r\n     <g id=\"line2d_5\">\r\n      <g>\r\n       <use style=\"stroke:#000000;stroke-width:0.8;\" x=\"340.08104\" xlink:href=\"#md19fdcf9a9\" y=\"239.758125\"/>\r\n      </g>\r\n     </g>\r\n     <g id=\"text_5\">\r\n      <!-- 470 -->\r\n      <defs>\r\n       <path d=\"M 8.203125 72.90625 \r\nL 55.078125 72.90625 \r\nL 55.078125 68.703125 \r\nL 28.609375 0 \r\nL 18.3125 0 \r\nL 43.21875 64.59375 \r\nL 8.203125 64.59375 \r\nz\r\n\" id=\"DejaVuSans-55\"/>\r\n       <path d=\"M 31.78125 66.40625 \r\nQ 24.171875 66.40625 20.328125 58.90625 \r\nQ 16.5 51.421875 16.5 36.375 \r\nQ 16.5 21.390625 20.328125 13.890625 \r\nQ 24.171875 6.390625 31.78125 6.390625 \r\nQ 39.453125 6.390625 43.28125 13.890625 \r\nQ 47.125 21.390625 47.125 36.375 \r\nQ 47.125 51.421875 43.28125 58.90625 \r\nQ 39.453125 66.40625 31.78125 66.40625 \r\nz\r\nM 31.78125 74.21875 \r\nQ 44.046875 74.21875 50.515625 64.515625 \r\nQ 56.984375 54.828125 56.984375 36.375 \r\nQ 56.984375 17.96875 50.515625 8.265625 \r\nQ 44.046875 -1.421875 31.78125 -1.421875 \r\nQ 19.53125 -1.421875 13.0625 8.265625 \r\nQ 6.59375 17.96875 6.59375 36.375 \r\nQ 6.59375 54.828125 13.0625 64.515625 \r\nQ 19.53125 74.21875 31.78125 74.21875 \r\nz\r\n\" id=\"DejaVuSans-48\"/>\r\n      </defs>\r\n      <g transform=\"translate(330.53729 254.356562)scale(0.1 -0.1)\">\r\n       <use xlink:href=\"#DejaVuSans-52\"/>\r\n       <use x=\"63.623047\" xlink:href=\"#DejaVuSans-55\"/>\r\n       <use x=\"127.246094\" xlink:href=\"#DejaVuSans-48\"/>\r\n      </g>\r\n     </g>\r\n    </g>\r\n    <g id=\"text_6\">\r\n     <!-- Total throughput [kg] -->\r\n     <defs>\r\n      <path d=\"M -0.296875 72.90625 \r\nL 61.375 72.90625 \r\nL 61.375 64.59375 \r\nL 35.5 64.59375 \r\nL 35.5 0 \r\nL 25.59375 0 \r\nL 25.59375 64.59375 \r\nL -0.296875 64.59375 \r\nz\r\n\" id=\"DejaVuSans-84\"/>\r\n      <path d=\"M 30.609375 48.390625 \r\nQ 23.390625 48.390625 19.1875 42.75 \r\nQ 14.984375 37.109375 14.984375 27.296875 \r\nQ 14.984375 17.484375 19.15625 11.84375 \r\nQ 23.34375 6.203125 30.609375 6.203125 \r\nQ 37.796875 6.203125 41.984375 11.859375 \r\nQ 46.1875 17.53125 46.1875 27.296875 \r\nQ 46.1875 37.015625 41.984375 42.703125 \r\nQ 37.796875 48.390625 30.609375 48.390625 \r\nz\r\nM 30.609375 56 \r\nQ 42.328125 56 49.015625 48.375 \r\nQ 55.71875 40.765625 55.71875 27.296875 \r\nQ 55.71875 13.875 49.015625 6.21875 \r\nQ 42.328125 -1.421875 30.609375 -1.421875 \r\nQ 18.84375 -1.421875 12.171875 6.21875 \r\nQ 5.515625 13.875 5.515625 27.296875 \r\nQ 5.515625 40.765625 12.171875 48.375 \r\nQ 18.84375 56 30.609375 56 \r\nz\r\n\" id=\"DejaVuSans-111\"/>\r\n      <path d=\"M 18.3125 70.21875 \r\nL 18.3125 54.6875 \r\nL 36.8125 54.6875 \r\nL 36.8125 47.703125 \r\nL 18.3125 47.703125 \r\nL 18.3125 18.015625 \r\nQ 18.3125 11.328125 20.140625 9.421875 \r\nQ 21.96875 7.515625 27.59375 7.515625 \r\nL 36.8125 7.515625 \r\nL 36.8125 0 \r\nL 27.59375 0 \r\nQ 17.1875 0 13.234375 3.875 \r\nQ 9.28125 7.765625 9.28125 18.015625 \r\nL 9.28125 47.703125 \r\nL 2.6875 47.703125 \r\nL 2.6875 54.6875 \r\nL 9.28125 54.6875 \r\nL 9.28125 70.21875 \r\nz\r\n\" id=\"DejaVuSans-116\"/>\r\n      <path d=\"M 34.28125 27.484375 \r\nQ 23.390625 27.484375 19.1875 25 \r\nQ 14.984375 22.515625 14.984375 16.5 \r\nQ 14.984375 11.71875 18.140625 8.90625 \r\nQ 21.296875 6.109375 26.703125 6.109375 \r\nQ 34.1875 6.109375 38.703125 11.40625 \r\nQ 43.21875 16.703125 43.21875 25.484375 \r\nL 43.21875 27.484375 \r\nz\r\nM 52.203125 31.203125 \r\nL 52.203125 0 \r\nL 43.21875 0 \r\nL 43.21875 8.296875 \r\nQ 40.140625 3.328125 35.546875 0.953125 \r\nQ 30.953125 -1.421875 24.3125 -1.421875 \r\nQ 15.921875 -1.421875 10.953125 3.296875 \r\nQ 6 8.015625 6 15.921875 \r\nQ 6 25.140625 12.171875 29.828125 \r\nQ 18.359375 34.515625 30.609375 34.515625 \r\nL 43.21875 34.515625 \r\nL 43.21875 35.40625 \r\nQ 43.21875 41.609375 39.140625 45 \r\nQ 35.0625 48.390625 27.6875 48.390625 \r\nQ 23 48.390625 18.546875 47.265625 \r\nQ 14.109375 46.140625 10.015625 43.890625 \r\nL 10.015625 52.203125 \r\nQ 14.9375 54.109375 19.578125 55.046875 \r\nQ 24.21875 56 28.609375 56 \r\nQ 40.484375 56 46.34375 49.84375 \r\nQ 52.203125 43.703125 52.203125 31.203125 \r\nz\r\n\" id=\"DejaVuSans-97\"/>\r\n      <path d=\"M 9.421875 75.984375 \r\nL 18.40625 75.984375 \r\nL 18.40625 0 \r\nL 9.421875 0 \r\nz\r\n\" id=\"DejaVuSans-108\"/>\r\n      <path id=\"DejaVuSans-32\"/>\r\n      <path d=\"M 54.890625 33.015625 \r\nL 54.890625 0 \r\nL 45.90625 0 \r\nL 45.90625 32.71875 \r\nQ 45.90625 40.484375 42.875 44.328125 \r\nQ 39.84375 48.1875 33.796875 48.1875 \r\nQ 26.515625 48.1875 22.3125 43.546875 \r\nQ 18.109375 38.921875 18.109375 30.90625 \r\nL 18.109375 0 \r\nL 9.078125 0 \r\nL 9.078125 75.984375 \r\nL 18.109375 75.984375 \r\nL 18.109375 46.1875 \r\nQ 21.34375 51.125 25.703125 53.5625 \r\nQ 30.078125 56 35.796875 56 \r\nQ 45.21875 56 50.046875 50.171875 \r\nQ 54.890625 44.34375 54.890625 33.015625 \r\nz\r\n\" id=\"DejaVuSans-104\"/>\r\n      <path d=\"M 41.109375 46.296875 \r\nQ 39.59375 47.171875 37.8125 47.578125 \r\nQ 36.03125 48 33.890625 48 \r\nQ 26.265625 48 22.1875 43.046875 \r\nQ 18.109375 38.09375 18.109375 28.8125 \r\nL 18.109375 0 \r\nL 9.078125 0 \r\nL 9.078125 54.6875 \r\nL 18.109375 54.6875 \r\nL 18.109375 46.1875 \r\nQ 20.953125 51.171875 25.484375 53.578125 \r\nQ 30.03125 56 36.53125 56 \r\nQ 37.453125 56 38.578125 55.875 \r\nQ 39.703125 55.765625 41.0625 55.515625 \r\nz\r\n\" id=\"DejaVuSans-114\"/>\r\n      <path d=\"M 8.5 21.578125 \r\nL 8.5 54.6875 \r\nL 17.484375 54.6875 \r\nL 17.484375 21.921875 \r\nQ 17.484375 14.15625 20.5 10.265625 \r\nQ 23.53125 6.390625 29.59375 6.390625 \r\nQ 36.859375 6.390625 41.078125 11.03125 \r\nQ 45.3125 15.671875 45.3125 23.6875 \r\nL 45.3125 54.6875 \r\nL 54.296875 54.6875 \r\nL 54.296875 0 \r\nL 45.3125 0 \r\nL 45.3125 8.40625 \r\nQ 42.046875 3.421875 37.71875 1 \r\nQ 33.40625 -1.421875 27.6875 -1.421875 \r\nQ 18.265625 -1.421875 13.375 4.4375 \r\nQ 8.5 10.296875 8.5 21.578125 \r\nz\r\nM 31.109375 56 \r\nz\r\n\" id=\"DejaVuSans-117\"/>\r\n      <path d=\"M 45.40625 27.984375 \r\nQ 45.40625 37.75 41.375 43.109375 \r\nQ 37.359375 48.484375 30.078125 48.484375 \r\nQ 22.859375 48.484375 18.828125 43.109375 \r\nQ 14.796875 37.75 14.796875 27.984375 \r\nQ 14.796875 18.265625 18.828125 12.890625 \r\nQ 22.859375 7.515625 30.078125 7.515625 \r\nQ 37.359375 7.515625 41.375 12.890625 \r\nQ 45.40625 18.265625 45.40625 27.984375 \r\nz\r\nM 54.390625 6.78125 \r\nQ 54.390625 -7.171875 48.1875 -13.984375 \r\nQ 42 -20.796875 29.203125 -20.796875 \r\nQ 24.46875 -20.796875 20.265625 -20.09375 \r\nQ 16.0625 -19.390625 12.109375 -17.921875 \r\nL 12.109375 -9.1875 \r\nQ 16.0625 -11.328125 19.921875 -12.34375 \r\nQ 23.78125 -13.375 27.78125 -13.375 \r\nQ 36.625 -13.375 41.015625 -8.765625 \r\nQ 45.40625 -4.15625 45.40625 5.171875 \r\nL 45.40625 9.625 \r\nQ 42.625 4.78125 38.28125 2.390625 \r\nQ 33.9375 0 27.875 0 \r\nQ 17.828125 0 11.671875 7.65625 \r\nQ 5.515625 15.328125 5.515625 27.984375 \r\nQ 5.515625 40.671875 11.671875 48.328125 \r\nQ 17.828125 56 27.875 56 \r\nQ 33.9375 56 38.28125 53.609375 \r\nQ 42.625 51.21875 45.40625 46.390625 \r\nL 45.40625 54.6875 \r\nL 54.390625 54.6875 \r\nz\r\n\" id=\"DejaVuSans-103\"/>\r\n      <path d=\"M 18.109375 8.203125 \r\nL 18.109375 -20.796875 \r\nL 9.078125 -20.796875 \r\nL 9.078125 54.6875 \r\nL 18.109375 54.6875 \r\nL 18.109375 46.390625 \r\nQ 20.953125 51.265625 25.265625 53.625 \r\nQ 29.59375 56 35.59375 56 \r\nQ 45.5625 56 51.78125 48.09375 \r\nQ 58.015625 40.1875 58.015625 27.296875 \r\nQ 58.015625 14.40625 51.78125 6.484375 \r\nQ 45.5625 -1.421875 35.59375 -1.421875 \r\nQ 29.59375 -1.421875 25.265625 0.953125 \r\nQ 20.953125 3.328125 18.109375 8.203125 \r\nz\r\nM 48.6875 27.296875 \r\nQ 48.6875 37.203125 44.609375 42.84375 \r\nQ 40.53125 48.484375 33.40625 48.484375 \r\nQ 26.265625 48.484375 22.1875 42.84375 \r\nQ 18.109375 37.203125 18.109375 27.296875 \r\nQ 18.109375 17.390625 22.1875 11.75 \r\nQ 26.265625 6.109375 33.40625 6.109375 \r\nQ 40.53125 6.109375 44.609375 11.75 \r\nQ 48.6875 17.390625 48.6875 27.296875 \r\nz\r\n\" id=\"DejaVuSans-112\"/>\r\n      <path d=\"M 8.59375 75.984375 \r\nL 29.296875 75.984375 \r\nL 29.296875 69 \r\nL 17.578125 69 \r\nL 17.578125 -6.203125 \r\nL 29.296875 -6.203125 \r\nL 29.296875 -13.1875 \r\nL 8.59375 -13.1875 \r\nz\r\n\" id=\"DejaVuSans-91\"/>\r\n      <path d=\"M 9.078125 75.984375 \r\nL 18.109375 75.984375 \r\nL 18.109375 31.109375 \r\nL 44.921875 54.6875 \r\nL 56.390625 54.6875 \r\nL 27.390625 29.109375 \r\nL 57.625 0 \r\nL 45.90625 0 \r\nL 18.109375 26.703125 \r\nL 18.109375 0 \r\nL 9.078125 0 \r\nz\r\n\" id=\"DejaVuSans-107\"/>\r\n      <path d=\"M 30.421875 75.984375 \r\nL 30.421875 -13.1875 \r\nL 9.71875 -13.1875 \r\nL 9.71875 -6.203125 \r\nL 21.390625 -6.203125 \r\nL 21.390625 69 \r\nL 9.71875 69 \r\nL 9.71875 75.984375 \r\nz\r\n\" id=\"DejaVuSans-93\"/>\r\n     </defs>\r\n     <g transform=\"translate(161.59375 268.034687)scale(0.1 -0.1)\">\r\n      <use xlink:href=\"#DejaVuSans-84\"/>\r\n      <use x=\"44.083984\" xlink:href=\"#DejaVuSans-111\"/>\r\n      <use x=\"105.265625\" xlink:href=\"#DejaVuSans-116\"/>\r\n      <use x=\"144.474609\" xlink:href=\"#DejaVuSans-97\"/>\r\n      <use x=\"205.753906\" xlink:href=\"#DejaVuSans-108\"/>\r\n      <use x=\"233.537109\" xlink:href=\"#DejaVuSans-32\"/>\r\n      <use x=\"265.324219\" xlink:href=\"#DejaVuSans-116\"/>\r\n      <use x=\"304.533203\" xlink:href=\"#DejaVuSans-104\"/>\r\n      <use x=\"367.912109\" xlink:href=\"#DejaVuSans-114\"/>\r\n      <use x=\"406.775391\" xlink:href=\"#DejaVuSans-111\"/>\r\n      <use x=\"467.957031\" xlink:href=\"#DejaVuSans-117\"/>\r\n      <use x=\"531.335938\" xlink:href=\"#DejaVuSans-103\"/>\r\n      <use x=\"594.8125\" xlink:href=\"#DejaVuSans-104\"/>\r\n      <use x=\"658.191406\" xlink:href=\"#DejaVuSans-112\"/>\r\n      <use x=\"721.667969\" xlink:href=\"#DejaVuSans-117\"/>\r\n      <use x=\"785.046875\" xlink:href=\"#DejaVuSans-116\"/>\r\n      <use x=\"824.255859\" xlink:href=\"#DejaVuSans-32\"/>\r\n      <use x=\"856.042969\" xlink:href=\"#DejaVuSans-91\"/>\r\n      <use x=\"895.056641\" xlink:href=\"#DejaVuSans-107\"/>\r\n      <use x=\"952.966797\" xlink:href=\"#DejaVuSans-103\"/>\r\n      <use x=\"1016.443359\" xlink:href=\"#DejaVuSans-93\"/>\r\n     </g>\r\n    </g>\r\n   </g>\r\n   <g id=\"matplotlib.axis_2\">\r\n    <g id=\"ytick_1\">\r\n     <g id=\"line2d_6\">\r\n      <defs>\r\n       <path d=\"M 0 0 \r\nL -3.5 0 \r\n\" id=\"md9e5ce4bb0\" style=\"stroke:#000000;stroke-width:0.8;\"/>\r\n      </defs>\r\n      <g>\r\n       <use style=\"stroke:#000000;stroke-width:0.8;\" x=\"46.965625\" xlink:href=\"#md9e5ce4bb0\" y=\"212.392074\"/>\r\n      </g>\r\n     </g>\r\n     <g id=\"text_7\">\r\n      <!-- 590 -->\r\n      <defs>\r\n       <path d=\"M 10.796875 72.90625 \r\nL 49.515625 72.90625 \r\nL 49.515625 64.59375 \r\nL 19.828125 64.59375 \r\nL 19.828125 46.734375 \r\nQ 21.96875 47.46875 24.109375 47.828125 \r\nQ 26.265625 48.1875 28.421875 48.1875 \r\nQ 40.625 48.1875 47.75 41.5 \r\nQ 54.890625 34.8125 54.890625 23.390625 \r\nQ 54.890625 11.625 47.5625 5.09375 \r\nQ 40.234375 -1.421875 26.90625 -1.421875 \r\nQ 22.3125 -1.421875 17.546875 -0.640625 \r\nQ 12.796875 0.140625 7.71875 1.703125 \r\nL 7.71875 11.625 \r\nQ 12.109375 9.234375 16.796875 8.0625 \r\nQ 21.484375 6.890625 26.703125 6.890625 \r\nQ 35.15625 6.890625 40.078125 11.328125 \r\nQ 45.015625 15.765625 45.015625 23.390625 \r\nQ 45.015625 31 40.078125 35.4375 \r\nQ 35.15625 39.890625 26.703125 39.890625 \r\nQ 22.75 39.890625 18.8125 39.015625 \r\nQ 14.890625 38.140625 10.796875 36.28125 \r\nz\r\n\" id=\"DejaVuSans-53\"/>\r\n       <path d=\"M 10.984375 1.515625 \r\nL 10.984375 10.5 \r\nQ 14.703125 8.734375 18.5 7.8125 \r\nQ 22.3125 6.890625 25.984375 6.890625 \r\nQ 35.75 6.890625 40.890625 13.453125 \r\nQ 46.046875 20.015625 46.78125 33.40625 \r\nQ 43.953125 29.203125 39.59375 26.953125 \r\nQ 35.25 24.703125 29.984375 24.703125 \r\nQ 19.046875 24.703125 12.671875 31.3125 \r\nQ 6.296875 37.9375 6.296875 49.421875 \r\nQ 6.296875 60.640625 12.9375 67.421875 \r\nQ 19.578125 74.21875 30.609375 74.21875 \r\nQ 43.265625 74.21875 49.921875 64.515625 \r\nQ 56.59375 54.828125 56.59375 36.375 \r\nQ 56.59375 19.140625 48.40625 8.859375 \r\nQ 40.234375 -1.421875 26.421875 -1.421875 \r\nQ 22.703125 -1.421875 18.890625 -0.6875 \r\nQ 15.09375 0.046875 10.984375 1.515625 \r\nz\r\nM 30.609375 32.421875 \r\nQ 37.25 32.421875 41.125 36.953125 \r\nQ 45.015625 41.5 45.015625 49.421875 \r\nQ 45.015625 57.28125 41.125 61.84375 \r\nQ 37.25 66.40625 30.609375 66.40625 \r\nQ 23.96875 66.40625 20.09375 61.84375 \r\nQ 16.21875 57.28125 16.21875 49.421875 \r\nQ 16.21875 41.5 20.09375 36.953125 \r\nQ 23.96875 32.421875 30.609375 32.421875 \r\nz\r\n\" id=\"DejaVuSans-57\"/>\r\n      </defs>\r\n      <g transform=\"translate(20.878125 216.191293)scale(0.1 -0.1)\">\r\n       <use xlink:href=\"#DejaVuSans-53\"/>\r\n       <use x=\"63.623047\" xlink:href=\"#DejaVuSans-57\"/>\r\n       <use x=\"127.246094\" xlink:href=\"#DejaVuSans-48\"/>\r\n      </g>\r\n     </g>\r\n    </g>\r\n    <g id=\"ytick_2\">\r\n     <g id=\"line2d_7\">\r\n      <g>\r\n       <use style=\"stroke:#000000;stroke-width:0.8;\" x=\"46.965625\" xlink:href=\"#md9e5ce4bb0\" y=\"182.434745\"/>\r\n      </g>\r\n     </g>\r\n     <g id=\"text_8\">\r\n      <!-- 595 -->\r\n      <g transform=\"translate(20.878125 186.233964)scale(0.1 -0.1)\">\r\n       <use xlink:href=\"#DejaVuSans-53\"/>\r\n       <use x=\"63.623047\" xlink:href=\"#DejaVuSans-57\"/>\r\n       <use x=\"127.246094\" xlink:href=\"#DejaVuSans-53\"/>\r\n      </g>\r\n     </g>\r\n    </g>\r\n    <g id=\"ytick_3\">\r\n     <g id=\"line2d_8\">\r\n      <g>\r\n       <use style=\"stroke:#000000;stroke-width:0.8;\" x=\"46.965625\" xlink:href=\"#md9e5ce4bb0\" y=\"152.477416\"/>\r\n      </g>\r\n     </g>\r\n     <g id=\"text_9\">\r\n      <!-- 600 -->\r\n      <g transform=\"translate(20.878125 156.276635)scale(0.1 -0.1)\">\r\n       <use xlink:href=\"#DejaVuSans-54\"/>\r\n       <use x=\"63.623047\" xlink:href=\"#DejaVuSans-48\"/>\r\n       <use x=\"127.246094\" xlink:href=\"#DejaVuSans-48\"/>\r\n      </g>\r\n     </g>\r\n    </g>\r\n    <g id=\"ytick_4\">\r\n     <g id=\"line2d_9\">\r\n      <g>\r\n       <use style=\"stroke:#000000;stroke-width:0.8;\" x=\"46.965625\" xlink:href=\"#md9e5ce4bb0\" y=\"122.520088\"/>\r\n      </g>\r\n     </g>\r\n     <g id=\"text_10\">\r\n      <!-- 605 -->\r\n      <g transform=\"translate(20.878125 126.319306)scale(0.1 -0.1)\">\r\n       <use xlink:href=\"#DejaVuSans-54\"/>\r\n       <use x=\"63.623047\" xlink:href=\"#DejaVuSans-48\"/>\r\n       <use x=\"127.246094\" xlink:href=\"#DejaVuSans-53\"/>\r\n      </g>\r\n     </g>\r\n    </g>\r\n    <g id=\"ytick_5\">\r\n     <g id=\"line2d_10\">\r\n      <g>\r\n       <use style=\"stroke:#000000;stroke-width:0.8;\" x=\"46.965625\" xlink:href=\"#md9e5ce4bb0\" y=\"92.562759\"/>\r\n      </g>\r\n     </g>\r\n     <g id=\"text_11\">\r\n      <!-- 610 -->\r\n      <defs>\r\n       <path d=\"M 12.40625 8.296875 \r\nL 28.515625 8.296875 \r\nL 28.515625 63.921875 \r\nL 10.984375 60.40625 \r\nL 10.984375 69.390625 \r\nL 28.421875 72.90625 \r\nL 38.28125 72.90625 \r\nL 38.28125 8.296875 \r\nL 54.390625 8.296875 \r\nL 54.390625 0 \r\nL 12.40625 0 \r\nz\r\n\" id=\"DejaVuSans-49\"/>\r\n      </defs>\r\n      <g transform=\"translate(20.878125 96.361978)scale(0.1 -0.1)\">\r\n       <use xlink:href=\"#DejaVuSans-54\"/>\r\n       <use x=\"63.623047\" xlink:href=\"#DejaVuSans-49\"/>\r\n       <use x=\"127.246094\" xlink:href=\"#DejaVuSans-48\"/>\r\n      </g>\r\n     </g>\r\n    </g>\r\n    <g id=\"ytick_6\">\r\n     <g id=\"line2d_11\">\r\n      <g>\r\n       <use style=\"stroke:#000000;stroke-width:0.8;\" x=\"46.965625\" xlink:href=\"#md9e5ce4bb0\" y=\"62.60543\"/>\r\n      </g>\r\n     </g>\r\n     <g id=\"text_12\">\r\n      <!-- 615 -->\r\n      <g transform=\"translate(20.878125 66.404649)scale(0.1 -0.1)\">\r\n       <use xlink:href=\"#DejaVuSans-54\"/>\r\n       <use x=\"63.623047\" xlink:href=\"#DejaVuSans-49\"/>\r\n       <use x=\"127.246094\" xlink:href=\"#DejaVuSans-53\"/>\r\n      </g>\r\n     </g>\r\n    </g>\r\n    <g id=\"ytick_7\">\r\n     <g id=\"line2d_12\">\r\n      <g>\r\n       <use style=\"stroke:#000000;stroke-width:0.8;\" x=\"46.965625\" xlink:href=\"#md9e5ce4bb0\" y=\"32.648101\"/>\r\n      </g>\r\n     </g>\r\n     <g id=\"text_13\">\r\n      <!-- 620 -->\r\n      <g transform=\"translate(20.878125 36.44732)scale(0.1 -0.1)\">\r\n       <use xlink:href=\"#DejaVuSans-54\"/>\r\n       <use x=\"63.623047\" xlink:href=\"#DejaVuSans-50\"/>\r\n       <use x=\"127.246094\" xlink:href=\"#DejaVuSans-48\"/>\r\n      </g>\r\n     </g>\r\n    </g>\r\n    <g id=\"text_14\">\r\n     <!-- Median total inventory deficit [kg] -->\r\n     <defs>\r\n      <path d=\"M 9.8125 72.90625 \r\nL 24.515625 72.90625 \r\nL 43.109375 23.296875 \r\nL 61.8125 72.90625 \r\nL 76.515625 72.90625 \r\nL 76.515625 0 \r\nL 66.890625 0 \r\nL 66.890625 64.015625 \r\nL 48.09375 14.015625 \r\nL 38.1875 14.015625 \r\nL 19.390625 64.015625 \r\nL 19.390625 0 \r\nL 9.8125 0 \r\nz\r\n\" id=\"DejaVuSans-77\"/>\r\n      <path d=\"M 56.203125 29.59375 \r\nL 56.203125 25.203125 \r\nL 14.890625 25.203125 \r\nQ 15.484375 15.921875 20.484375 11.0625 \r\nQ 25.484375 6.203125 34.421875 6.203125 \r\nQ 39.59375 6.203125 44.453125 7.46875 \r\nQ 49.3125 8.734375 54.109375 11.28125 \r\nL 54.109375 2.78125 \r\nQ 49.265625 0.734375 44.1875 -0.34375 \r\nQ 39.109375 -1.421875 33.890625 -1.421875 \r\nQ 20.796875 -1.421875 13.15625 6.1875 \r\nQ 5.515625 13.8125 5.515625 26.8125 \r\nQ 5.515625 40.234375 12.765625 48.109375 \r\nQ 20.015625 56 32.328125 56 \r\nQ 43.359375 56 49.78125 48.890625 \r\nQ 56.203125 41.796875 56.203125 29.59375 \r\nz\r\nM 47.21875 32.234375 \r\nQ 47.125 39.59375 43.09375 43.984375 \r\nQ 39.0625 48.390625 32.421875 48.390625 \r\nQ 24.90625 48.390625 20.390625 44.140625 \r\nQ 15.875 39.890625 15.1875 32.171875 \r\nz\r\n\" id=\"DejaVuSans-101\"/>\r\n      <path d=\"M 45.40625 46.390625 \r\nL 45.40625 75.984375 \r\nL 54.390625 75.984375 \r\nL 54.390625 0 \r\nL 45.40625 0 \r\nL 45.40625 8.203125 \r\nQ 42.578125 3.328125 38.25 0.953125 \r\nQ 33.9375 -1.421875 27.875 -1.421875 \r\nQ 17.96875 -1.421875 11.734375 6.484375 \r\nQ 5.515625 14.40625 5.515625 27.296875 \r\nQ 5.515625 40.1875 11.734375 48.09375 \r\nQ 17.96875 56 27.875 56 \r\nQ 33.9375 56 38.25 53.625 \r\nQ 42.578125 51.265625 45.40625 46.390625 \r\nz\r\nM 14.796875 27.296875 \r\nQ 14.796875 17.390625 18.875 11.75 \r\nQ 22.953125 6.109375 30.078125 6.109375 \r\nQ 37.203125 6.109375 41.296875 11.75 \r\nQ 45.40625 17.390625 45.40625 27.296875 \r\nQ 45.40625 37.203125 41.296875 42.84375 \r\nQ 37.203125 48.484375 30.078125 48.484375 \r\nQ 22.953125 48.484375 18.875 42.84375 \r\nQ 14.796875 37.203125 14.796875 27.296875 \r\nz\r\n\" id=\"DejaVuSans-100\"/>\r\n      <path d=\"M 9.421875 54.6875 \r\nL 18.40625 54.6875 \r\nL 18.40625 0 \r\nL 9.421875 0 \r\nz\r\nM 9.421875 75.984375 \r\nL 18.40625 75.984375 \r\nL 18.40625 64.59375 \r\nL 9.421875 64.59375 \r\nz\r\n\" id=\"DejaVuSans-105\"/>\r\n      <path d=\"M 54.890625 33.015625 \r\nL 54.890625 0 \r\nL 45.90625 0 \r\nL 45.90625 32.71875 \r\nQ 45.90625 40.484375 42.875 44.328125 \r\nQ 39.84375 48.1875 33.796875 48.1875 \r\nQ 26.515625 48.1875 22.3125 43.546875 \r\nQ 18.109375 38.921875 18.109375 30.90625 \r\nL 18.109375 0 \r\nL 9.078125 0 \r\nL 9.078125 54.6875 \r\nL 18.109375 54.6875 \r\nL 18.109375 46.1875 \r\nQ 21.34375 51.125 25.703125 53.5625 \r\nQ 30.078125 56 35.796875 56 \r\nQ 45.21875 56 50.046875 50.171875 \r\nQ 54.890625 44.34375 54.890625 33.015625 \r\nz\r\n\" id=\"DejaVuSans-110\"/>\r\n      <path d=\"M 2.984375 54.6875 \r\nL 12.5 54.6875 \r\nL 29.59375 8.796875 \r\nL 46.6875 54.6875 \r\nL 56.203125 54.6875 \r\nL 35.6875 0 \r\nL 23.484375 0 \r\nz\r\n\" id=\"DejaVuSans-118\"/>\r\n      <path d=\"M 32.171875 -5.078125 \r\nQ 28.375 -14.84375 24.75 -17.8125 \r\nQ 21.140625 -20.796875 15.09375 -20.796875 \r\nL 7.90625 -20.796875 \r\nL 7.90625 -13.28125 \r\nL 13.1875 -13.28125 \r\nQ 16.890625 -13.28125 18.9375 -11.515625 \r\nQ 21 -9.765625 23.484375 -3.21875 \r\nL 25.09375 0.875 \r\nL 2.984375 54.6875 \r\nL 12.5 54.6875 \r\nL 29.59375 11.921875 \r\nL 46.6875 54.6875 \r\nL 56.203125 54.6875 \r\nz\r\n\" id=\"DejaVuSans-121\"/>\r\n      <path d=\"M 37.109375 75.984375 \r\nL 37.109375 68.5 \r\nL 28.515625 68.5 \r\nQ 23.6875 68.5 21.796875 66.546875 \r\nQ 19.921875 64.59375 19.921875 59.515625 \r\nL 19.921875 54.6875 \r\nL 34.71875 54.6875 \r\nL 34.71875 47.703125 \r\nL 19.921875 47.703125 \r\nL 19.921875 0 \r\nL 10.890625 0 \r\nL 10.890625 47.703125 \r\nL 2.296875 47.703125 \r\nL 2.296875 54.6875 \r\nL 10.890625 54.6875 \r\nL 10.890625 58.5 \r\nQ 10.890625 67.625 15.140625 71.796875 \r\nQ 19.390625 75.984375 28.609375 75.984375 \r\nz\r\n\" id=\"DejaVuSans-102\"/>\r\n      <path d=\"M 48.78125 52.59375 \r\nL 48.78125 44.1875 \r\nQ 44.96875 46.296875 41.140625 47.34375 \r\nQ 37.3125 48.390625 33.40625 48.390625 \r\nQ 24.65625 48.390625 19.8125 42.84375 \r\nQ 14.984375 37.3125 14.984375 27.296875 \r\nQ 14.984375 17.28125 19.8125 11.734375 \r\nQ 24.65625 6.203125 33.40625 6.203125 \r\nQ 37.3125 6.203125 41.140625 7.25 \r\nQ 44.96875 8.296875 48.78125 10.40625 \r\nL 48.78125 2.09375 \r\nQ 45.015625 0.34375 40.984375 -0.53125 \r\nQ 36.96875 -1.421875 32.421875 -1.421875 \r\nQ 20.0625 -1.421875 12.78125 6.34375 \r\nQ 5.515625 14.109375 5.515625 27.296875 \r\nQ 5.515625 40.671875 12.859375 48.328125 \r\nQ 20.21875 56 33.015625 56 \r\nQ 37.15625 56 41.109375 55.140625 \r\nQ 45.0625 54.296875 48.78125 52.59375 \r\nz\r\n\" id=\"DejaVuSans-99\"/>\r\n     </defs>\r\n     <g transform=\"translate(14.798438 216.280312)rotate(-90)scale(0.1 -0.1)\">\r\n      <use xlink:href=\"#DejaVuSans-77\"/>\r\n      <use x=\"86.279297\" xlink:href=\"#DejaVuSans-101\"/>\r\n      <use x=\"147.802734\" xlink:href=\"#DejaVuSans-100\"/>\r\n      <use x=\"211.279297\" xlink:href=\"#DejaVuSans-105\"/>\r\n      <use x=\"239.0625\" xlink:href=\"#DejaVuSans-97\"/>\r\n      <use x=\"300.341797\" xlink:href=\"#DejaVuSans-110\"/>\r\n      <use x=\"363.720703\" xlink:href=\"#DejaVuSans-32\"/>\r\n      <use x=\"395.507812\" xlink:href=\"#DejaVuSans-116\"/>\r\n      <use x=\"434.716797\" xlink:href=\"#DejaVuSans-111\"/>\r\n      <use x=\"495.898438\" xlink:href=\"#DejaVuSans-116\"/>\r\n      <use x=\"535.107422\" xlink:href=\"#DejaVuSans-97\"/>\r\n      <use x=\"596.386719\" xlink:href=\"#DejaVuSans-108\"/>\r\n      <use x=\"624.169922\" xlink:href=\"#DejaVuSans-32\"/>\r\n      <use x=\"655.957031\" xlink:href=\"#DejaVuSans-105\"/>\r\n      <use x=\"683.740234\" xlink:href=\"#DejaVuSans-110\"/>\r\n      <use x=\"747.119141\" xlink:href=\"#DejaVuSans-118\"/>\r\n      <use x=\"806.298828\" xlink:href=\"#DejaVuSans-101\"/>\r\n      <use x=\"867.822266\" xlink:href=\"#DejaVuSans-110\"/>\r\n      <use x=\"931.201172\" xlink:href=\"#DejaVuSans-116\"/>\r\n      <use x=\"970.410156\" xlink:href=\"#DejaVuSans-111\"/>\r\n      <use x=\"1031.591797\" xlink:href=\"#DejaVuSans-114\"/>\r\n      <use x=\"1072.705078\" xlink:href=\"#DejaVuSans-121\"/>\r\n      <use x=\"1131.884766\" xlink:href=\"#DejaVuSans-32\"/>\r\n      <use x=\"1163.671875\" xlink:href=\"#DejaVuSans-100\"/>\r\n      <use x=\"1227.148438\" xlink:href=\"#DejaVuSans-101\"/>\r\n      <use x=\"1288.671875\" xlink:href=\"#DejaVuSans-102\"/>\r\n      <use x=\"1323.876953\" xlink:href=\"#DejaVuSans-105\"/>\r\n      <use x=\"1351.660156\" xlink:href=\"#DejaVuSans-99\"/>\r\n      <use x=\"1406.640625\" xlink:href=\"#DejaVuSans-105\"/>\r\n      <use x=\"1434.423828\" xlink:href=\"#DejaVuSans-116\"/>\r\n      <use x=\"1473.632812\" xlink:href=\"#DejaVuSans-32\"/>\r\n      <use x=\"1505.419922\" xlink:href=\"#DejaVuSans-91\"/>\r\n      <use x=\"1544.433594\" xlink:href=\"#DejaVuSans-107\"/>\r\n      <use x=\"1602.34375\" xlink:href=\"#DejaVuSans-103\"/>\r\n      <use x=\"1665.820312\" xlink:href=\"#DejaVuSans-93\"/>\r\n     </g>\r\n    </g>\r\n   </g>\r\n   <g id=\"patch_3\">\r\n    <path d=\"M 46.965625 239.758125 \r\nL 46.965625 22.318125 \r\n\" style=\"fill:none;stroke:#000000;stroke-linecap:square;stroke-linejoin:miter;stroke-width:0.8;\"/>\r\n   </g>\r\n   <g id=\"patch_4\">\r\n    <path d=\"M 381.765625 239.758125 \r\nL 381.765625 22.318125 \r\n\" style=\"fill:none;stroke:#000000;stroke-linecap:square;stroke-linejoin:miter;stroke-width:0.8;\"/>\r\n   </g>\r\n   <g id=\"patch_5\">\r\n    <path d=\"M 46.965625 239.758125 \r\nL 381.765625 239.758125 \r\n\" style=\"fill:none;stroke:#000000;stroke-linecap:square;stroke-linejoin:miter;stroke-width:0.8;\"/>\r\n   </g>\r\n   <g id=\"patch_6\">\r\n    <path d=\"M 46.965625 22.318125 \r\nL 381.765625 22.318125 \r\n\" style=\"fill:none;stroke:#000000;stroke-linecap:square;stroke-linejoin:miter;stroke-width:0.8;\"/>\r\n   </g>\r\n   <g id=\"text_15\">\r\n    <!-- Pareto Front -->\r\n    <defs>\r\n     <path d=\"M 19.671875 64.796875 \r\nL 19.671875 37.40625 \r\nL 32.078125 37.40625 \r\nQ 38.96875 37.40625 42.71875 40.96875 \r\nQ 46.484375 44.53125 46.484375 51.125 \r\nQ 46.484375 57.671875 42.71875 61.234375 \r\nQ 38.96875 64.796875 32.078125 64.796875 \r\nz\r\nM 9.8125 72.90625 \r\nL 32.078125 72.90625 \r\nQ 44.34375 72.90625 50.609375 67.359375 \r\nQ 56.890625 61.8125 56.890625 51.125 \r\nQ 56.890625 40.328125 50.609375 34.8125 \r\nQ 44.34375 29.296875 32.078125 29.296875 \r\nL 19.671875 29.296875 \r\nL 19.671875 0 \r\nL 9.8125 0 \r\nz\r\n\" id=\"DejaVuSans-80\"/>\r\n     <path d=\"M 9.8125 72.90625 \r\nL 51.703125 72.90625 \r\nL 51.703125 64.59375 \r\nL 19.671875 64.59375 \r\nL 19.671875 43.109375 \r\nL 48.578125 43.109375 \r\nL 48.578125 34.8125 \r\nL 19.671875 34.8125 \r\nL 19.671875 0 \r\nL 9.8125 0 \r\nz\r\n\" id=\"DejaVuSans-70\"/>\r\n    </defs>\r\n    <g transform=\"translate(178.21375 16.318125)scale(0.12 -0.12)\">\r\n     <use xlink:href=\"#DejaVuSans-80\"/>\r\n     <use x=\"55.802734\" xlink:href=\"#DejaVuSans-97\"/>\r\n     <use x=\"117.082031\" xlink:href=\"#DejaVuSans-114\"/>\r\n     <use x=\"155.945312\" xlink:href=\"#DejaVuSans-101\"/>\r\n     <use x=\"217.46875\" xlink:href=\"#DejaVuSans-116\"/>\r\n     <use x=\"256.677734\" xlink:href=\"#DejaVuSans-111\"/>\r\n     <use x=\"317.859375\" xlink:href=\"#DejaVuSans-32\"/>\r\n     <use x=\"349.646484\" xlink:href=\"#DejaVuSans-70\"/>\r\n     <use x=\"399.916016\" xlink:href=\"#DejaVuSans-114\"/>\r\n     <use x=\"438.779297\" xlink:href=\"#DejaVuSans-111\"/>\r\n     <use x=\"499.960938\" xlink:href=\"#DejaVuSans-110\"/>\r\n     <use x=\"563.339844\" xlink:href=\"#DejaVuSans-116\"/>\r\n    </g>\r\n   </g>\r\n  </g>\r\n </g>\r\n <defs>\r\n  <clipPath id=\"p446abec825\">\r\n   <rect height=\"217.44\" width=\"334.8\" x=\"46.965625\" y=\"22.318125\"/>\r\n  </clipPath>\r\n </defs>\r\n</svg>\r\n",
      "image/png": "[encoded data removed]"
     },
     "metadata": {
      "needs_background": "light"
     }
    }
   ],
   "source": [
    "import matplotlib.pyplot as plt\n",
    "x=pop.objectives_raw[:,0]\n",
    "y=pop.objectives_raw[:,1]\n",
    "plt.scatter(x,y,c=\"g\",label=\"Pareto Front\")\n",
    "plt.title('Pareto Front')\n",
    "plt.xlabel('Total throughput [kg]')\n",
    "plt.ylabel('Median total inventory deficit [kg]')\n",
    "file_name=str(date.day)+\"-\"+str(date.month)+str(date.hour)+'pareto_front.png'\n",
    "path=root_path_analysis+file_name\n",
    "plt.savefig(path+file_name)\n",
    "plt.show()"
   ]
  },
  {
   "cell_type": "code",
   "execution_count": 33,
   "metadata": {},
   "outputs": [
    {
     "output_type": "execute_result",
     "data": {
      "text/plain": [
       "  Execution                                                                                       Variation Solution  Total throughput [kg]  Max total backlog [kg]  Mean total backlog [kg]  std dev total backlog [kg]  Median total backlog [kg]  Min total backlog [kg]  P(total backlog ≤ 0 kg)  Max total inventory deficit [kg]  Mean total inventory deficit [kg]  std dev inventory deficit [kg]  Median total inventory deficit [kg]  Min total inventory deficit [kg]  Total Deficit [kg]                      Batches [un]              Product label                                                                   Start of USP [date]                                                                     End of DSP [date]\n",
       "0   Article                                                                                         Article        X                  539.3                8.200000                 0.200000                    0.600000                   0.000000                0.000000                     0.82                        683.400000                         432.600000                       58.600000                           424.400000                        259.400000                 NaN  [15 10 29 3 15 11 15 6 2 2 2 10]  [3 2 0 1 3 2 1 3 2 1 2 3]                                                                                   NaN                                                                                   NaN\n",
       "1   Article                                                                                         Article        Y                  601.5               16.000000                 7.100000                    4.300000                   0.000000                0.000000                     0.50                        786.000000                         558.600000                       59.000000                           551.700000                        355.600000                 NaN           [12 13 24 18 5 19 9 30]          [3 2 0 3 1 0 2 3]                                                                                   NaN                                                                                   NaN\n",
       "0         0  front_nsga,tour_vio,rein_vio,vio_back,calc_montecarlo,100,1000,2,0.11,(0.04, 0.61, 0.77, 0.47)        X                  461.6               41.861155                35.532347                    2.433653                  35.091078               31.213757                     0.00                        687.323710                         591.391954                       31.983948                           587.082114                        514.598901          587.082114         [21, 16, 31, 12, 7, 7, 8]      [3, 2, 0, 3, 2, 0, 1]  [2016-12-01, 2017-06-22, 2017-11-26, 2018-08-15, 2018-12-26, 2019-03-30, 2019-07-02]  [2017-06-22, 2017-11-26, 2018-08-15, 2018-12-26, 2019-03-30, 2019-07-02, 2019-11-03]\n",
       "1         0  front_nsga,tour_vio,rein_vio,vio_back,calc_montecarlo,100,1000,2,0.11,(0.04, 0.61, 0.77, 0.47)        Y                  470.8               44.223134                35.783537                    2.391289                  35.499388               30.840925                     0.00                        712.101305                         622.197185                       36.034471                           620.074496                        549.307411          620.074496         [21, 16, 31, 14, 6, 6, 9]      [3, 2, 0, 3, 2, 0, 1]  [2016-12-01, 2017-06-22, 2017-11-26, 2018-08-15, 2019-01-09, 2019-04-06, 2019-07-02]  [2017-06-22, 2017-11-26, 2018-08-15, 2019-01-09, 2019-04-06, 2019-07-02, 2019-11-14]"
      ],
      "text/html": "<div>\n<style scoped>\n    .dataframe tbody tr th:only-of-type {\n        vertical-align: middle;\n    }\n\n    .dataframe tbody tr th {\n        vertical-align: top;\n    }\n\n    .dataframe thead th {\n        text-align: right;\n    }\n</style>\n<table border=\"1\" class=\"dataframe\">\n  <thead>\n    <tr style=\"text-align: right;\">\n      <th></th>\n      <th>Execution</th>\n      <th>Variation</th>\n      <th>Solution</th>\n      <th>Total throughput [kg]</th>\n      <th>Max total backlog [kg]</th>\n      <th>Mean total backlog [kg]</th>\n      <th>std dev total backlog [kg]</th>\n      <th>Median total backlog [kg]</th>\n      <th>Min total backlog [kg]</th>\n      <th>P(total backlog ≤ 0 kg)</th>\n      <th>Max total inventory deficit [kg]</th>\n      <th>Mean total inventory deficit [kg]</th>\n      <th>std dev inventory deficit [kg]</th>\n      <th>Median total inventory deficit [kg]</th>\n      <th>Min total inventory deficit [kg]</th>\n      <th>Total Deficit [kg]</th>\n      <th>Batches [un]</th>\n      <th>Product label</th>\n      <th>Start of USP [date]</th>\n      <th>End of DSP [date]</th>\n    </tr>\n  </thead>\n  <tbody>\n    <tr>\n      <th>0</th>\n      <td>Article</td>\n      <td>Article</td>\n      <td>X</td>\n      <td>539.3</td>\n      <td>8.200000</td>\n      <td>0.200000</td>\n      <td>0.600000</td>\n      <td>0.000000</td>\n      <td>0.000000</td>\n      <td>0.82</td>\n      <td>683.400000</td>\n      <td>432.600000</td>\n      <td>58.600000</td>\n      <td>424.400000</td>\n      <td>259.400000</td>\n      <td>NaN</td>\n      <td>[15 10 29 3 15 11 15 6 2 2 2 10]</td>\n      <td>[3 2 0 1 3 2 1 3 2 1 2 3]</td>\n      <td>NaN</td>\n      <td>NaN</td>\n    </tr>\n    <tr>\n      <th>1</th>\n      <td>Article</td>\n      <td>Article</td>\n      <td>Y</td>\n      <td>601.5</td>\n      <td>16.000000</td>\n      <td>7.100000</td>\n      <td>4.300000</td>\n      <td>0.000000</td>\n      <td>0.000000</td>\n      <td>0.50</td>\n      <td>786.000000</td>\n      <td>558.600000</td>\n      <td>59.000000</td>\n      <td>551.700000</td>\n      <td>355.600000</td>\n      <td>NaN</td>\n      <td>[12 13 24 18 5 19 9 30]</td>\n      <td>[3 2 0 3 1 0 2 3]</td>\n      <td>NaN</td>\n      <td>NaN</td>\n    </tr>\n    <tr>\n      <th>0</th>\n      <td>0</td>\n      <td>front_nsga,tour_vio,rein_vio,vio_back,calc_montecarlo,100,1000,2,0.11,(0.04, 0.61, 0.77, 0.47)</td>\n      <td>X</td>\n      <td>461.6</td>\n      <td>41.861155</td>\n      <td>35.532347</td>\n      <td>2.433653</td>\n      <td>35.091078</td>\n      <td>31.213757</td>\n      <td>0.00</td>\n      <td>687.323710</td>\n      <td>591.391954</td>\n      <td>31.983948</td>\n      <td>587.082114</td>\n      <td>514.598901</td>\n      <td>587.082114</td>\n      <td>[21, 16, 31, 12, 7, 7, 8]</td>\n      <td>[3, 2, 0, 3, 2, 0, 1]</td>\n      <td>[2016-12-01, 2017-06-22, 2017-11-26, 2018-08-15, 2018-12-26, 2019-03-30, 2019-07-02]</td>\n      <td>[2017-06-22, 2017-11-26, 2018-08-15, 2018-12-26, 2019-03-30, 2019-07-02, 2019-11-03]</td>\n    </tr>\n    <tr>\n      <th>1</th>\n      <td>0</td>\n      <td>front_nsga,tour_vio,rein_vio,vio_back,calc_montecarlo,100,1000,2,0.11,(0.04, 0.61, 0.77, 0.47)</td>\n      <td>Y</td>\n      <td>470.8</td>\n      <td>44.223134</td>\n      <td>35.783537</td>\n      <td>2.391289</td>\n      <td>35.499388</td>\n      <td>30.840925</td>\n      <td>0.00</td>\n      <td>712.101305</td>\n      <td>622.197185</td>\n      <td>36.034471</td>\n      <td>620.074496</td>\n      <td>549.307411</td>\n      <td>620.074496</td>\n      <td>[21, 16, 31, 14, 6, 6, 9]</td>\n      <td>[3, 2, 0, 3, 2, 0, 1]</td>\n      <td>[2016-12-01, 2017-06-22, 2017-11-26, 2018-08-15, 2019-01-09, 2019-04-06, 2019-07-02]</td>\n      <td>[2017-06-22, 2017-11-26, 2018-08-15, 2019-01-09, 2019-04-06, 2019-07-02, 2019-11-14]</td>\n    </tr>\n  </tbody>\n</table>\n</div>"
     },
     "metadata": {},
     "execution_count": 33
    }
   ],
   "source": [
    "file_name='df_ind_base.csv'# Article Data\n",
    "path=root_path_data+file_name\n",
    "df_ind_base=pd.read_csv(path)\n",
    "\n",
    "df_ind_w=pd.concat([df_ind_base,df_ind])\n",
    "path=root_path_analysis+str(date.day)+\"-\"+str(date.month)+str(date.hour)+\".csv\"\n",
    "df_ind_w.to_csv(path)\n",
    "df_ind_w"
   ]
  },
  {
   "cell_type": "code",
   "execution_count": null,
   "metadata": {},
   "outputs": [],
   "source": []
  },
  {
   "source": [
    "# Data Analysis\n",
    "## Evaluating each tests"
   ],
   "cell_type": "markdown",
   "metadata": {}
  },
  {
   "source": [
    "### Main 8/1\n",
    "- Main 8/1\n",
    "    - Calculated demand with Monte Carlo\n",
    "    - 10 Executions\n",
    "    - No solution without violations, passing all in front 0\n",
    "    - Total time  17632.4670568 Per execution 1763.24670568"
   ],
   "cell_type": "markdown",
   "metadata": {}
  },
  {
   "cell_type": "code",
   "execution_count": 34,
   "metadata": {},
   "outputs": [
    {
     "output_type": "execute_result",
     "data": {
      "text/plain": [
       "   Unnamed: 0 Execution                                                                                                          Variation Solution  Total throughput [kg]  Max total backlog [kg]  Mean total backlog [kg]  std dev total backlog [kg]  Median total backlog [kg]  Min total backlog [kg]  P(total backlog ≤ 0 kg)  Max total inventory deficit [kg]  Mean total inventory deficit [kg]  std dev inventory deficit [kg]  Median total inventory deficit [kg]  Min total inventory deficit [kg]  Total Deficit [kg]                      Batches [un]              Product label                                    Start of USP [date]                                      End of DSP [date]\n",
       "0           0   Article                                                                                                            Article        X                  539.3                8.200000                 0.200000                    0.600000                        0.0                     0.0                 0.820000                             683.4                         432.600000                       58.600000                                424.4                             259.4                 NaN  [15 10 29 3 15 11 15 6 2 2 2 10]  [3 2 0 1 3 2 1 3 2 1 2 3]                                                    NaN                                                    NaN\n",
       "1           1   Article                                                                                                            Article        Y                  601.5               16.000000                 7.100000                    4.300000                        0.0                     0.0                 0.500000                             786.0                         558.600000                       59.000000                                551.7                             355.6                 NaN           [12 13 24 18 5 19 9 30]          [3 2 0 3 1 0 2 3]                                                    NaN                                                    NaN\n",
       "2           0         0  front_nsga,tour_vio,rein_vio,vio_back,calc_montecarlometrics_front0_w_vio,100,1000,2,0.5,(0.04, 0.61, 0.77, 0.47)        X                  630.1               10.435893                 1.059073                    2.617906                        0.0                     0.0               152.506570                              34.1                           6.420617                       10.388137                                  0.0                               0.0                 0.0                     [31 28 31 31]                  [3 2 3 2]  ['2016-12-01' '2017-09-11' '2018-05-30' '2019-03-10']  ['2017-08-24' '2018-05-10' '2019-02-20' '2019-11-27']\n",
       "3           1         0  front_nsga,tour_vio,rein_vio,vio_back,calc_montecarlometrics_front0_w_vio,100,1000,2,0.5,(0.04, 0.61, 0.77, 0.47)        Y                  660.5               12.347932                 1.445241                    3.050971                        0.0                     0.0               208.114675                              38.5                           8.729108                       12.264356                                  0.0                               0.0                 0.0                        [50 31 50]                    [2 3 2]               ['2016-12-01' '2018-01-20' '2018-10-31']               ['2017-12-31' '2018-10-13' '2019-11-30']"
      ],
      "text/html": "<div>\n<style scoped>\n    .dataframe tbody tr th:only-of-type {\n        vertical-align: middle;\n    }\n\n    .dataframe tbody tr th {\n        vertical-align: top;\n    }\n\n    .dataframe thead th {\n        text-align: right;\n    }\n</style>\n<table border=\"1\" class=\"dataframe\">\n  <thead>\n    <tr style=\"text-align: right;\">\n      <th></th>\n      <th>Unnamed: 0</th>\n      <th>Execution</th>\n      <th>Variation</th>\n      <th>Solution</th>\n      <th>Total throughput [kg]</th>\n      <th>Max total backlog [kg]</th>\n      <th>Mean total backlog [kg]</th>\n      <th>std dev total backlog [kg]</th>\n      <th>Median total backlog [kg]</th>\n      <th>Min total backlog [kg]</th>\n      <th>P(total backlog ≤ 0 kg)</th>\n      <th>Max total inventory deficit [kg]</th>\n      <th>Mean total inventory deficit [kg]</th>\n      <th>std dev inventory deficit [kg]</th>\n      <th>Median total inventory deficit [kg]</th>\n      <th>Min total inventory deficit [kg]</th>\n      <th>Total Deficit [kg]</th>\n      <th>Batches [un]</th>\n      <th>Product label</th>\n      <th>Start of USP [date]</th>\n      <th>End of DSP [date]</th>\n    </tr>\n  </thead>\n  <tbody>\n    <tr>\n      <th>0</th>\n      <td>0</td>\n      <td>Article</td>\n      <td>Article</td>\n      <td>X</td>\n      <td>539.3</td>\n      <td>8.200000</td>\n      <td>0.200000</td>\n      <td>0.600000</td>\n      <td>0.0</td>\n      <td>0.0</td>\n      <td>0.820000</td>\n      <td>683.4</td>\n      <td>432.600000</td>\n      <td>58.600000</td>\n      <td>424.4</td>\n      <td>259.4</td>\n      <td>NaN</td>\n      <td>[15 10 29 3 15 11 15 6 2 2 2 10]</td>\n      <td>[3 2 0 1 3 2 1 3 2 1 2 3]</td>\n      <td>NaN</td>\n      <td>NaN</td>\n    </tr>\n    <tr>\n      <th>1</th>\n      <td>1</td>\n      <td>Article</td>\n      <td>Article</td>\n      <td>Y</td>\n      <td>601.5</td>\n      <td>16.000000</td>\n      <td>7.100000</td>\n      <td>4.300000</td>\n      <td>0.0</td>\n      <td>0.0</td>\n      <td>0.500000</td>\n      <td>786.0</td>\n      <td>558.600000</td>\n      <td>59.000000</td>\n      <td>551.7</td>\n      <td>355.6</td>\n      <td>NaN</td>\n      <td>[12 13 24 18 5 19 9 30]</td>\n      <td>[3 2 0 3 1 0 2 3]</td>\n      <td>NaN</td>\n      <td>NaN</td>\n    </tr>\n    <tr>\n      <th>2</th>\n      <td>0</td>\n      <td>0</td>\n      <td>front_nsga,tour_vio,rein_vio,vio_back,calc_montecarlometrics_front0_w_vio,100,1000,2,0.5,(0.04, 0.61, 0.77, 0.47)</td>\n      <td>X</td>\n      <td>630.1</td>\n      <td>10.435893</td>\n      <td>1.059073</td>\n      <td>2.617906</td>\n      <td>0.0</td>\n      <td>0.0</td>\n      <td>152.506570</td>\n      <td>34.1</td>\n      <td>6.420617</td>\n      <td>10.388137</td>\n      <td>0.0</td>\n      <td>0.0</td>\n      <td>0.0</td>\n      <td>[31 28 31 31]</td>\n      <td>[3 2 3 2]</td>\n      <td>['2016-12-01' '2017-09-11' '2018-05-30' '2019-03-10']</td>\n      <td>['2017-08-24' '2018-05-10' '2019-02-20' '2019-11-27']</td>\n    </tr>\n    <tr>\n      <th>3</th>\n      <td>1</td>\n      <td>0</td>\n      <td>front_nsga,tour_vio,rein_vio,vio_back,calc_montecarlometrics_front0_w_vio,100,1000,2,0.5,(0.04, 0.61, 0.77, 0.47)</td>\n      <td>Y</td>\n      <td>660.5</td>\n      <td>12.347932</td>\n      <td>1.445241</td>\n      <td>3.050971</td>\n      <td>0.0</td>\n      <td>0.0</td>\n      <td>208.114675</td>\n      <td>38.5</td>\n      <td>8.729108</td>\n      <td>12.264356</td>\n      <td>0.0</td>\n      <td>0.0</td>\n      <td>0.0</td>\n      <td>[50 31 50]</td>\n      <td>[2 3 2]</td>\n      <td>['2016-12-01' '2018-01-20' '2018-10-31']</td>\n      <td>['2017-12-31' '2018-10-13' '2019-11-30']</td>\n    </tr>\n  </tbody>\n</table>\n</div>"
     },
     "metadata": {},
     "execution_count": 34
    }
   ],
   "source": [
    "# Import from csv\n",
    "result=pd.read_csv(root_path_analysis+'8-1.csv')\n",
    "result"
   ]
  },
  {
   "source": [
    "1. Attributes that seem wrong\n",
    "    - P(total backlog ≤ 0 kg)\t\n",
    "        - My value is high, what makes sense, since I am producing large number of batches and not procuding all products.\n",
    "            - This indicates I need to review my fitness, why is it focusing on product 2,3 and large batches?\n",
    "                1. Modify my backlog, to consider the median\n",
    "    - Max total inventory deficit [kg]\t\n",
    "    - Mean total inventory deficit [kg]\t\n",
    "    - Median total inventory deficit [kg]\t\n",
    "    - Min total inventory deficit [kg]\t\n",
    "    - Total Deficit [kg]\t\n",
    "    - Batches [un]\n",
    "        - Large values of batches, however still only producing products 2 and 3."
   ],
   "cell_type": "markdown",
   "metadata": {}
  },
  {
   "source": [
    "### Main 14/1 14h\n",
    "- Main 14/1 14h\n",
    "    - New scheduling considering articles pseudo code \n",
    "    - Monte Carlo simulations=100\n",
    "    - 2 Executions, with 1000 generations\n",
    "    - No solution without violations, passing all in front 0\n",
    "    - Total time  877 Per execution 438"
   ],
   "cell_type": "markdown",
   "metadata": {}
  },
  {
   "cell_type": "code",
   "execution_count": 35,
   "metadata": {},
   "outputs": [
    {
     "output_type": "execute_result",
     "data": {
      "text/plain": [
       "   Unnamed: 0 Execution                                                                                       Variation Solution  Total throughput [kg]  Max total backlog [kg]  Mean total backlog [kg]  std dev total backlog [kg]  Median total backlog [kg]  Min total backlog [kg]  P(total backlog ≤ 0 kg)  Max total inventory deficit [kg]  Mean total inventory deficit [kg]  std dev inventory deficit [kg]  Median total inventory deficit [kg]  Min total inventory deficit [kg]  Total Deficit [kg]                      Batches [un]              Product label                                    Start of USP [date]                                      End of DSP [date]\n",
       "0           0   Article                                                                                         Article        X                  539.3                8.200000                 0.200000                    0.600000                        0.0                     0.0                 0.820000                             683.4                         432.600000                       58.600000                                424.4                             259.4                 NaN  [15 10 29 3 15 11 15 6 2 2 2 10]  [3 2 0 1 3 2 1 3 2 1 2 3]                                                    NaN                                                    NaN\n",
       "1           1   Article                                                                                         Article        Y                  601.5               16.000000                 7.100000                    4.300000                        0.0                     0.0                 0.500000                             786.0                         558.600000                       59.000000                                551.7                             355.6                 NaN           [12 13 24 18 5 19 9 30]          [3 2 0 3 1 0 2 3]                                                    NaN                                                    NaN\n",
       "2           0         0  front_nsga,tour_vio,rein_vio,vio_back,calc_montecarlo,100,1000,2,0.11,(0.04, 0.61, 0.77, 0.47)        X                  663.8               10.402717                 1.085342                    2.622689                        0.0                     0.0               156.289225                              34.1                           6.568086                       10.348981                                  0.0                               0.0                 0.0                     [31 36 30 31]                  [3 2 3 2]  ['1970-01-01' '2017-08-31' '2018-06-24' '2019-03-10']  ['2017-08-31' '2018-06-24' '2019-03-10' '2019-11-27']\n",
       "3           1         0  front_nsga,tour_vio,rein_vio,vio_back,calc_montecarlo,100,1000,2,0.11,(0.04, 0.61, 0.77, 0.47)        Y                  663.8               10.402717                 1.085342                    2.622689                        0.0                     0.0               156.289225                              34.1                           6.568086                       10.348981                                  0.0                               0.0                 0.0                     [31 36 30 31]                  [3 2 3 2]  ['1970-01-01' '2017-08-31' '2018-06-24' '2019-03-10']  ['2017-08-31' '2018-06-24' '2019-03-10' '2019-11-27']"
      ],
      "text/html": "<div>\n<style scoped>\n    .dataframe tbody tr th:only-of-type {\n        vertical-align: middle;\n    }\n\n    .dataframe tbody tr th {\n        vertical-align: top;\n    }\n\n    .dataframe thead th {\n        text-align: right;\n    }\n</style>\n<table border=\"1\" class=\"dataframe\">\n  <thead>\n    <tr style=\"text-align: right;\">\n      <th></th>\n      <th>Unnamed: 0</th>\n      <th>Execution</th>\n      <th>Variation</th>\n      <th>Solution</th>\n      <th>Total throughput [kg]</th>\n      <th>Max total backlog [kg]</th>\n      <th>Mean total backlog [kg]</th>\n      <th>std dev total backlog [kg]</th>\n      <th>Median total backlog [kg]</th>\n      <th>Min total backlog [kg]</th>\n      <th>P(total backlog ≤ 0 kg)</th>\n      <th>Max total inventory deficit [kg]</th>\n      <th>Mean total inventory deficit [kg]</th>\n      <th>std dev inventory deficit [kg]</th>\n      <th>Median total inventory deficit [kg]</th>\n      <th>Min total inventory deficit [kg]</th>\n      <th>Total Deficit [kg]</th>\n      <th>Batches [un]</th>\n      <th>Product label</th>\n      <th>Start of USP [date]</th>\n      <th>End of DSP [date]</th>\n    </tr>\n  </thead>\n  <tbody>\n    <tr>\n      <th>0</th>\n      <td>0</td>\n      <td>Article</td>\n      <td>Article</td>\n      <td>X</td>\n      <td>539.3</td>\n      <td>8.200000</td>\n      <td>0.200000</td>\n      <td>0.600000</td>\n      <td>0.0</td>\n      <td>0.0</td>\n      <td>0.820000</td>\n      <td>683.4</td>\n      <td>432.600000</td>\n      <td>58.600000</td>\n      <td>424.4</td>\n      <td>259.4</td>\n      <td>NaN</td>\n      <td>[15 10 29 3 15 11 15 6 2 2 2 10]</td>\n      <td>[3 2 0 1 3 2 1 3 2 1 2 3]</td>\n      <td>NaN</td>\n      <td>NaN</td>\n    </tr>\n    <tr>\n      <th>1</th>\n      <td>1</td>\n      <td>Article</td>\n      <td>Article</td>\n      <td>Y</td>\n      <td>601.5</td>\n      <td>16.000000</td>\n      <td>7.100000</td>\n      <td>4.300000</td>\n      <td>0.0</td>\n      <td>0.0</td>\n      <td>0.500000</td>\n      <td>786.0</td>\n      <td>558.600000</td>\n      <td>59.000000</td>\n      <td>551.7</td>\n      <td>355.6</td>\n      <td>NaN</td>\n      <td>[12 13 24 18 5 19 9 30]</td>\n      <td>[3 2 0 3 1 0 2 3]</td>\n      <td>NaN</td>\n      <td>NaN</td>\n    </tr>\n    <tr>\n      <th>2</th>\n      <td>0</td>\n      <td>0</td>\n      <td>front_nsga,tour_vio,rein_vio,vio_back,calc_montecarlo,100,1000,2,0.11,(0.04, 0.61, 0.77, 0.47)</td>\n      <td>X</td>\n      <td>663.8</td>\n      <td>10.402717</td>\n      <td>1.085342</td>\n      <td>2.622689</td>\n      <td>0.0</td>\n      <td>0.0</td>\n      <td>156.289225</td>\n      <td>34.1</td>\n      <td>6.568086</td>\n      <td>10.348981</td>\n      <td>0.0</td>\n      <td>0.0</td>\n      <td>0.0</td>\n      <td>[31 36 30 31]</td>\n      <td>[3 2 3 2]</td>\n      <td>['1970-01-01' '2017-08-31' '2018-06-24' '2019-03-10']</td>\n      <td>['2017-08-31' '2018-06-24' '2019-03-10' '2019-11-27']</td>\n    </tr>\n    <tr>\n      <th>3</th>\n      <td>1</td>\n      <td>0</td>\n      <td>front_nsga,tour_vio,rein_vio,vio_back,calc_montecarlo,100,1000,2,0.11,(0.04, 0.61, 0.77, 0.47)</td>\n      <td>Y</td>\n      <td>663.8</td>\n      <td>10.402717</td>\n      <td>1.085342</td>\n      <td>2.622689</td>\n      <td>0.0</td>\n      <td>0.0</td>\n      <td>156.289225</td>\n      <td>34.1</td>\n      <td>6.568086</td>\n      <td>10.348981</td>\n      <td>0.0</td>\n      <td>0.0</td>\n      <td>0.0</td>\n      <td>[31 36 30 31]</td>\n      <td>[3 2 3 2]</td>\n      <td>['1970-01-01' '2017-08-31' '2018-06-24' '2019-03-10']</td>\n      <td>['2017-08-31' '2018-06-24' '2019-03-10' '2019-11-27']</td>\n    </tr>\n  </tbody>\n</table>\n</div>"
     },
     "metadata": {},
     "execution_count": 35
    }
   ],
   "source": [
    "result=pd.read_csv(root_path_analysis+'14-114.csv')# Import from csv\n",
    "result"
   ]
  },
  {
   "source": [
    "1. Start time of first batch is wrong, however just fixed\n",
    "\n",
    "1. Attributes that seem wrong\n",
    "    - P(total backlog ≤ 0 kg)\t\n",
    "        - My value is high, what makes sense, since I am producing large number of batches and not procuding all products.\n",
    "            - This indicates I need to review my fitness, why is it focusing on product 2,3 and large batches?\n",
    "                1. Modify my backlog, to consider the median\n",
    "    - Max total inventory deficit [kg]\t\n",
    "    - Mean total inventory deficit [kg]\t\n",
    "    - Median total inventory deficit [kg]\t\n",
    "    - Min total inventory deficit [kg]\t\n",
    "    - Total Deficit [kg]\t\n",
    "    - Batches [un]\n",
    "        - More reasonable values of batches, however still only producing products 2 and 3. "
   ],
   "cell_type": "markdown",
   "metadata": {}
  },
  {
   "source": [
    "### 15/1 12h\n",
    "- 15/1 12h\n",
    "    - Main Same as 14/1 14h, but\n",
    "        - Monte Carlo simulations=1000\n",
    "        - 9 Executions, with 1000 generations\n",
    "        - No solution without violations, passing all in front 0\n",
    "        - Total time  3640.99402 Per execution 404.5548911"
   ],
   "cell_type": "markdown",
   "metadata": {}
  },
  {
   "cell_type": "code",
   "execution_count": 36,
   "metadata": {},
   "outputs": [
    {
     "output_type": "execute_result",
     "data": {
      "text/plain": [
       "   Unnamed: 0 Execution                                                                                       Variation Solution  Total throughput [kg]  Max total backlog [kg]  Mean total backlog [kg]  std dev total backlog [kg]  Median total backlog [kg]  Min total backlog [kg]  P(total backlog ≤ 0 kg)  Max total inventory deficit [kg]  Mean total inventory deficit [kg]  std dev inventory deficit [kg]  Median total inventory deficit [kg]  Min total inventory deficit [kg]  Total Deficit [kg]                      Batches [un]              Product label                                    Start of USP [date]                                      End of DSP [date]\n",
       "0           0   Article                                                                                         Article        X                  539.3                8.200000                 0.200000                    0.600000                        0.0                     0.0                 0.820000                             683.4                         432.600000                       58.600000                                424.4                             259.4                 NaN  [15 10 29 3 15 11 15 6 2 2 2 10]  [3 2 0 1 3 2 1 3 2 1 2 3]                                                    NaN                                                    NaN\n",
       "1           1   Article                                                                                         Article        Y                  601.5               16.000000                 7.100000                    4.300000                        0.0                     0.0                 0.500000                             786.0                         558.600000                       59.000000                                551.7                             355.6                 NaN           [12 13 24 18 5 19 9 30]          [3 2 0 3 1 0 2 3]                                                    NaN                                                    NaN\n",
       "2           0         0  front_nsga,tour_vio,rein_vio,vio_back,calc_montecarlo,100,1000,2,0.11,(0.04, 0.61, 0.77, 0.47)        X                  628.3               10.934849                 1.590673                    3.194870                        0.0                     0.0               229.056858                              39.2                           9.175706                       12.019538                                  0.0                               0.0                 0.0                        [29 49 30]                    [3 1 3]               ['2016-12-01' '2017-08-17' '2019-03-15']               ['2017-08-17' '2019-03-15' '2019-11-29']\n",
       "3           1         0  front_nsga,tour_vio,rein_vio,vio_back,calc_montecarlo,100,1000,2,0.11,(0.04, 0.61, 0.77, 0.47)        Y                  663.8               12.294408                 1.312156                    2.878055                        0.0                     0.0               188.950524                              38.5                           8.390956                       12.072244                                  0.0                               0.0                 0.0                     [39 31 28 30]                  [2 3 2 3]  ['2016-12-01' '2017-10-22' '2018-07-15' '2019-03-13']  ['2017-10-22' '2018-07-15' '2019-03-13' '2019-11-27']"
      ],
      "text/html": "<div>\n<style scoped>\n    .dataframe tbody tr th:only-of-type {\n        vertical-align: middle;\n    }\n\n    .dataframe tbody tr th {\n        vertical-align: top;\n    }\n\n    .dataframe thead th {\n        text-align: right;\n    }\n</style>\n<table border=\"1\" class=\"dataframe\">\n  <thead>\n    <tr style=\"text-align: right;\">\n      <th></th>\n      <th>Unnamed: 0</th>\n      <th>Execution</th>\n      <th>Variation</th>\n      <th>Solution</th>\n      <th>Total throughput [kg]</th>\n      <th>Max total backlog [kg]</th>\n      <th>Mean total backlog [kg]</th>\n      <th>std dev total backlog [kg]</th>\n      <th>Median total backlog [kg]</th>\n      <th>Min total backlog [kg]</th>\n      <th>P(total backlog ≤ 0 kg)</th>\n      <th>Max total inventory deficit [kg]</th>\n      <th>Mean total inventory deficit [kg]</th>\n      <th>std dev inventory deficit [kg]</th>\n      <th>Median total inventory deficit [kg]</th>\n      <th>Min total inventory deficit [kg]</th>\n      <th>Total Deficit [kg]</th>\n      <th>Batches [un]</th>\n      <th>Product label</th>\n      <th>Start of USP [date]</th>\n      <th>End of DSP [date]</th>\n    </tr>\n  </thead>\n  <tbody>\n    <tr>\n      <th>0</th>\n      <td>0</td>\n      <td>Article</td>\n      <td>Article</td>\n      <td>X</td>\n      <td>539.3</td>\n      <td>8.200000</td>\n      <td>0.200000</td>\n      <td>0.600000</td>\n      <td>0.0</td>\n      <td>0.0</td>\n      <td>0.820000</td>\n      <td>683.4</td>\n      <td>432.600000</td>\n      <td>58.600000</td>\n      <td>424.4</td>\n      <td>259.4</td>\n      <td>NaN</td>\n      <td>[15 10 29 3 15 11 15 6 2 2 2 10]</td>\n      <td>[3 2 0 1 3 2 1 3 2 1 2 3]</td>\n      <td>NaN</td>\n      <td>NaN</td>\n    </tr>\n    <tr>\n      <th>1</th>\n      <td>1</td>\n      <td>Article</td>\n      <td>Article</td>\n      <td>Y</td>\n      <td>601.5</td>\n      <td>16.000000</td>\n      <td>7.100000</td>\n      <td>4.300000</td>\n      <td>0.0</td>\n      <td>0.0</td>\n      <td>0.500000</td>\n      <td>786.0</td>\n      <td>558.600000</td>\n      <td>59.000000</td>\n      <td>551.7</td>\n      <td>355.6</td>\n      <td>NaN</td>\n      <td>[12 13 24 18 5 19 9 30]</td>\n      <td>[3 2 0 3 1 0 2 3]</td>\n      <td>NaN</td>\n      <td>NaN</td>\n    </tr>\n    <tr>\n      <th>2</th>\n      <td>0</td>\n      <td>0</td>\n      <td>front_nsga,tour_vio,rein_vio,vio_back,calc_montecarlo,100,1000,2,0.11,(0.04, 0.61, 0.77, 0.47)</td>\n      <td>X</td>\n      <td>628.3</td>\n      <td>10.934849</td>\n      <td>1.590673</td>\n      <td>3.194870</td>\n      <td>0.0</td>\n      <td>0.0</td>\n      <td>229.056858</td>\n      <td>39.2</td>\n      <td>9.175706</td>\n      <td>12.019538</td>\n      <td>0.0</td>\n      <td>0.0</td>\n      <td>0.0</td>\n      <td>[29 49 30]</td>\n      <td>[3 1 3]</td>\n      <td>['2016-12-01' '2017-08-17' '2019-03-15']</td>\n      <td>['2017-08-17' '2019-03-15' '2019-11-29']</td>\n    </tr>\n    <tr>\n      <th>3</th>\n      <td>1</td>\n      <td>0</td>\n      <td>front_nsga,tour_vio,rein_vio,vio_back,calc_montecarlo,100,1000,2,0.11,(0.04, 0.61, 0.77, 0.47)</td>\n      <td>Y</td>\n      <td>663.8</td>\n      <td>12.294408</td>\n      <td>1.312156</td>\n      <td>2.878055</td>\n      <td>0.0</td>\n      <td>0.0</td>\n      <td>188.950524</td>\n      <td>38.5</td>\n      <td>8.390956</td>\n      <td>12.072244</td>\n      <td>0.0</td>\n      <td>0.0</td>\n      <td>0.0</td>\n      <td>[39 31 28 30]</td>\n      <td>[2 3 2 3]</td>\n      <td>['2016-12-01' '2017-10-22' '2018-07-15' '2019-03-13']</td>\n      <td>['2017-10-22' '2018-07-15' '2019-03-13' '2019-11-27']</td>\n    </tr>\n  </tbody>\n</table>\n</div>"
     },
     "metadata": {},
     "execution_count": 36
    }
   ],
   "source": [
    "result=pd.read_csv(root_path_analysis+'15-112.csv')# Import from csv\n",
    "result"
   ]
  },
  {
   "source": [
    "- However in the terminal prompt there was different values of objectives, including a total through put \n",
    "of ca. 1000 therefore I need to check properly the data to understand what is going on.\n",
    "- At least now some products 1 appear."
   ],
   "cell_type": "markdown",
   "metadata": {}
  },
  {
   "source": [
    "#### Individuals"
   ],
   "cell_type": "markdown",
   "metadata": {}
  },
  {
   "cell_type": "code",
   "execution_count": 37,
   "metadata": {},
   "outputs": [
    {
     "output_type": "execute_result",
     "data": {
      "text/plain": [
       "   Unnamed: 0           Batches     Products     Objectives\n",
       "0           0        [29 49 30]      [3 1 3]  [628.3   0. ]\n",
       "1           1        [31 47 31]      [3 1 3]  [632.4   0. ]\n",
       "2           2  [31 17 31 12 30]  [3 2 3 2 3]  [648.1   0. ]\n",
       "3           3     [48 31 48  2]    [2 3 2 1]  [653.3   0. ]\n",
       "4           4     [39 31 28 30]    [2 3 2 3]  [663.8   0. ]\n",
       "5           5     [49 30 46  3]    [2 3 2 3]    [647.   0.]\n",
       "6           6     [20 30 48 30]    [2 3 2 3]  [663.2   0. ]\n",
       "7           7     [30 33 31 34]    [3 2 3 2]  [663.8   0. ]\n",
       "8           8        [30 49 29]      [3 1 3]  [628.3   0. ]"
      ],
      "text/html": "<div>\n<style scoped>\n    .dataframe tbody tr th:only-of-type {\n        vertical-align: middle;\n    }\n\n    .dataframe tbody tr th {\n        vertical-align: top;\n    }\n\n    .dataframe thead th {\n        text-align: right;\n    }\n</style>\n<table border=\"1\" class=\"dataframe\">\n  <thead>\n    <tr style=\"text-align: right;\">\n      <th></th>\n      <th>Unnamed: 0</th>\n      <th>Batches</th>\n      <th>Products</th>\n      <th>Objectives</th>\n    </tr>\n  </thead>\n  <tbody>\n    <tr>\n      <th>0</th>\n      <td>0</td>\n      <td>[29 49 30]</td>\n      <td>[3 1 3]</td>\n      <td>[628.3   0. ]</td>\n    </tr>\n    <tr>\n      <th>1</th>\n      <td>1</td>\n      <td>[31 47 31]</td>\n      <td>[3 1 3]</td>\n      <td>[632.4   0. ]</td>\n    </tr>\n    <tr>\n      <th>2</th>\n      <td>2</td>\n      <td>[31 17 31 12 30]</td>\n      <td>[3 2 3 2 3]</td>\n      <td>[648.1   0. ]</td>\n    </tr>\n    <tr>\n      <th>3</th>\n      <td>3</td>\n      <td>[48 31 48  2]</td>\n      <td>[2 3 2 1]</td>\n      <td>[653.3   0. ]</td>\n    </tr>\n    <tr>\n      <th>4</th>\n      <td>4</td>\n      <td>[39 31 28 30]</td>\n      <td>[2 3 2 3]</td>\n      <td>[663.8   0. ]</td>\n    </tr>\n    <tr>\n      <th>5</th>\n      <td>5</td>\n      <td>[49 30 46  3]</td>\n      <td>[2 3 2 3]</td>\n      <td>[647.   0.]</td>\n    </tr>\n    <tr>\n      <th>6</th>\n      <td>6</td>\n      <td>[20 30 48 30]</td>\n      <td>[2 3 2 3]</td>\n      <td>[663.2   0. ]</td>\n    </tr>\n    <tr>\n      <th>7</th>\n      <td>7</td>\n      <td>[30 33 31 34]</td>\n      <td>[3 2 3 2]</td>\n      <td>[663.8   0. ]</td>\n    </tr>\n    <tr>\n      <th>8</th>\n      <td>8</td>\n      <td>[30 49 29]</td>\n      <td>[3 1 3]</td>\n      <td>[628.3   0. ]</td>\n    </tr>\n  </tbody>\n</table>\n</div>"
     },
     "metadata": {},
     "execution_count": 37
    }
   ],
   "source": [
    "name=\"15-114\"+\"solutions.csv\"\n",
    "results=pd.read_csv(root_path_analysis+name)# Import from csv\n",
    "results"
   ]
  },
  {
   "source": [
    "- Number of batches seems more normal, now the product 0 appears, however still the second objective is not ok.\n",
    "    - Necessary to modify the calculation of Monte Carlo"
   ],
   "cell_type": "markdown",
   "metadata": {}
  },
  {
   "source": [
    "### 16/1 11h\n",
    "- 16/1 11h\n",
    "    - For each MC simulation the backlog and\n",
    "        - Monte Carlo simulations=100\n",
    "        - 2 Executions, with 1000 generations\n",
    "        - No solution without violations, passing all in front 0\n",
    "        - Total time 2316.344828 Per execution 1158.172414"
   ],
   "cell_type": "markdown",
   "metadata": {}
  },
  {
   "cell_type": "code",
   "execution_count": 38,
   "metadata": {},
   "outputs": [
    {
     "output_type": "execute_result",
     "data": {
      "text/plain": [
       "   Unnamed: 0 Execution                                                                                       Variation Solution  Total throughput [kg]  Max total backlog [kg]  Mean total backlog [kg]  std dev total backlog [kg]  Median total backlog [kg]  Min total backlog [kg]  P(total backlog ≤ 0 kg)  Max total inventory deficit [kg]  Mean total inventory deficit [kg]  std dev inventory deficit [kg]  Median total inventory deficit [kg]  Min total inventory deficit [kg]  Total Deficit [kg]                      Batches [un]              Product label                                                 Start of USP [date]                                                   End of DSP [date]\n",
       "0           0   Article                                                                                         Article        X                  539.3                8.200000                 0.200000                    0.600000                   0.000000                0.000000                 0.820000                        683.400000                         432.600000                       58.600000                           424.400000                        259.400000                 NaN  [15 10 29 3 15 11 15 6 2 2 2 10]  [3 2 0 1 3 2 1 3 2 1 2 3]                                                                 NaN                                                                 NaN\n",
       "1           1   Article                                                                                         Article        Y                  601.5               16.000000                 7.100000                    4.300000                   0.000000                0.000000                 0.500000                        786.000000                         558.600000                       59.000000                           551.700000                        355.600000                 NaN           [12 13 24 18 5 19 9 30]          [3 2 0 3 1 0 2 3]                                                                 NaN                                                                 NaN\n",
       "2           0         0  front_nsga,tour_vio,rein_vio,vio_back,calc_montecarlo,100,1000,2,0.11,(0.04, 0.61, 0.77, 0.47)        X                  555.1               59.624545                51.448371                    3.675727                  51.270194               42.578911              5144.837076                        600.258730                         544.479692                       18.349822                           538.934509                        513.782529          538.934509                  [30 20 35  3 30]                [3 2 0 1 3]  ['2016-12-01' '2017-08-24' '2018-02-25' '2018-12-12' '2019-02-19']  ['2017-08-24' '2018-02-25' '2018-12-12' '2019-02-19' '2019-11-05']\n",
       "3           1         0  front_nsga,tour_vio,rein_vio,vio_back,calc_montecarlo,100,1000,2,0.11,(0.04, 0.61, 0.77, 0.47)        Y                  664.4              173.103326               160.542772                    4.240579                 160.138411              150.386980             16054.277250                        975.238612                         950.897649                        8.460427                           950.950597                        929.944914          950.950597                     [31 36 31 30]                  [3 2 3 2]               ['2016-12-01' '2017-08-31' '2018-06-24' '2019-03-17']               ['2017-08-31' '2018-06-24' '2019-03-17' '2019-11-27']"
      ],
      "text/html": "<div>\n<style scoped>\n    .dataframe tbody tr th:only-of-type {\n        vertical-align: middle;\n    }\n\n    .dataframe tbody tr th {\n        vertical-align: top;\n    }\n\n    .dataframe thead th {\n        text-align: right;\n    }\n</style>\n<table border=\"1\" class=\"dataframe\">\n  <thead>\n    <tr style=\"text-align: right;\">\n      <th></th>\n      <th>Unnamed: 0</th>\n      <th>Execution</th>\n      <th>Variation</th>\n      <th>Solution</th>\n      <th>Total throughput [kg]</th>\n      <th>Max total backlog [kg]</th>\n      <th>Mean total backlog [kg]</th>\n      <th>std dev total backlog [kg]</th>\n      <th>Median total backlog [kg]</th>\n      <th>Min total backlog [kg]</th>\n      <th>P(total backlog ≤ 0 kg)</th>\n      <th>Max total inventory deficit [kg]</th>\n      <th>Mean total inventory deficit [kg]</th>\n      <th>std dev inventory deficit [kg]</th>\n      <th>Median total inventory deficit [kg]</th>\n      <th>Min total inventory deficit [kg]</th>\n      <th>Total Deficit [kg]</th>\n      <th>Batches [un]</th>\n      <th>Product label</th>\n      <th>Start of USP [date]</th>\n      <th>End of DSP [date]</th>\n    </tr>\n  </thead>\n  <tbody>\n    <tr>\n      <th>0</th>\n      <td>0</td>\n      <td>Article</td>\n      <td>Article</td>\n      <td>X</td>\n      <td>539.3</td>\n      <td>8.200000</td>\n      <td>0.200000</td>\n      <td>0.600000</td>\n      <td>0.000000</td>\n      <td>0.000000</td>\n      <td>0.820000</td>\n      <td>683.400000</td>\n      <td>432.600000</td>\n      <td>58.600000</td>\n      <td>424.400000</td>\n      <td>259.400000</td>\n      <td>NaN</td>\n      <td>[15 10 29 3 15 11 15 6 2 2 2 10]</td>\n      <td>[3 2 0 1 3 2 1 3 2 1 2 3]</td>\n      <td>NaN</td>\n      <td>NaN</td>\n    </tr>\n    <tr>\n      <th>1</th>\n      <td>1</td>\n      <td>Article</td>\n      <td>Article</td>\n      <td>Y</td>\n      <td>601.5</td>\n      <td>16.000000</td>\n      <td>7.100000</td>\n      <td>4.300000</td>\n      <td>0.000000</td>\n      <td>0.000000</td>\n      <td>0.500000</td>\n      <td>786.000000</td>\n      <td>558.600000</td>\n      <td>59.000000</td>\n      <td>551.700000</td>\n      <td>355.600000</td>\n      <td>NaN</td>\n      <td>[12 13 24 18 5 19 9 30]</td>\n      <td>[3 2 0 3 1 0 2 3]</td>\n      <td>NaN</td>\n      <td>NaN</td>\n    </tr>\n    <tr>\n      <th>2</th>\n      <td>0</td>\n      <td>0</td>\n      <td>front_nsga,tour_vio,rein_vio,vio_back,calc_montecarlo,100,1000,2,0.11,(0.04, 0.61, 0.77, 0.47)</td>\n      <td>X</td>\n      <td>555.1</td>\n      <td>59.624545</td>\n      <td>51.448371</td>\n      <td>3.675727</td>\n      <td>51.270194</td>\n      <td>42.578911</td>\n      <td>5144.837076</td>\n      <td>600.258730</td>\n      <td>544.479692</td>\n      <td>18.349822</td>\n      <td>538.934509</td>\n      <td>513.782529</td>\n      <td>538.934509</td>\n      <td>[30 20 35  3 30]</td>\n      <td>[3 2 0 1 3]</td>\n      <td>['2016-12-01' '2017-08-24' '2018-02-25' '2018-12-12' '2019-02-19']</td>\n      <td>['2017-08-24' '2018-02-25' '2018-12-12' '2019-02-19' '2019-11-05']</td>\n    </tr>\n    <tr>\n      <th>3</th>\n      <td>1</td>\n      <td>0</td>\n      <td>front_nsga,tour_vio,rein_vio,vio_back,calc_montecarlo,100,1000,2,0.11,(0.04, 0.61, 0.77, 0.47)</td>\n      <td>Y</td>\n      <td>664.4</td>\n      <td>173.103326</td>\n      <td>160.542772</td>\n      <td>4.240579</td>\n      <td>160.138411</td>\n      <td>150.386980</td>\n      <td>16054.277250</td>\n      <td>975.238612</td>\n      <td>950.897649</td>\n      <td>8.460427</td>\n      <td>950.950597</td>\n      <td>929.944914</td>\n      <td>950.950597</td>\n      <td>[31 36 31 30]</td>\n      <td>[3 2 3 2]</td>\n      <td>['2016-12-01' '2017-08-31' '2018-06-24' '2019-03-17']</td>\n      <td>['2017-08-31' '2018-06-24' '2019-03-17' '2019-11-27']</td>\n    </tr>\n  </tbody>\n</table>\n</div>"
     },
     "metadata": {},
     "execution_count": 38
    }
   ],
   "source": [
    "import pandas as pd\n",
    "result=pd.read_csv(root_path_analysis+'16-11.csv')# Import from csv\n",
    "result"
   ]
  },
  {
   "source": [
    "1. Attributes analysis\n",
    "    - OK 'Total throughput [kg]', \n",
    "    - 'Max total backlog [kg]', \n",
    "        - Potencialmente alto\n",
    "    - 'Mean total backlog [kg]', \n",
    "    - 'std dev total backlog [kg]', \n",
    "    - 'Median total backlog [kg]', \n",
    "        - Valores altos, preciso de uma estrategia para reduzir o backlog.\n",
    "            - Pode ser devido a minha reinversao de valores\n",
    "            - Forma de Calculo do backlog\n",
    "                - Testarei Contar as violacoes como np.sum(np.median(distribution_sums_backlog) > 0),  # 6)Backlog violations, para count_backlog_violations_j adds if is greater than 0\n",
    "    - 'Min total backlog [kg]', \n",
    "    - 'P(total backlog ≤ 0 kg)', \n",
    "        - Perhaps the problem is given the inversion that I make\n",
    "    - OK 'Max total inventory deficit [kg]', \n",
    "    - OK 'Mean total inventory deficit [kg]', \n",
    "    - OK 'std dev inventory deficit [kg]', \n",
    "    - OK 'Median total inventory deficit [kg]', \n",
    "    - OK 'Min total inventory deficit [kg]', \n",
    "    - 'Total Deficit [kg]', \n",
    "    - 'Batches [un]', \n",
    "        - More reasonable values of batches     \n",
    "    - 'Product label', \n",
    "    - 'Start of USP [date]', \n",
    "    - 'End of DSP [date]']"
   ],
   "cell_type": "markdown",
   "metadata": {}
  },
  {
   "cell_type": "code",
   "execution_count": 39,
   "metadata": {},
   "outputs": [
    {
     "output_type": "execute_result",
     "data": {
      "text/plain": [
       "   Unnamed: 0           Batches     Products                   Objectives\n",
       "0           0     [31 39 26 31]    [3 2 0 3]  [612.7        697.03984737]\n",
       "1           1  [24 21 28 30 19]  [3 2 0 3 2]  [579.8        588.47419239]\n",
       "2           2     [25 48 31 24]    [3 2 3 2]  [660.8        926.38878466]\n",
       "3           3     [31 22 30 46]    [3 2 0 2]  [596.7        632.30311669]\n",
       "4           4     [30 42 25 31]    [3 2 0 3]  [618.8        726.31102836]"
      ],
      "text/html": "<div>\n<style scoped>\n    .dataframe tbody tr th:only-of-type {\n        vertical-align: middle;\n    }\n\n    .dataframe tbody tr th {\n        vertical-align: top;\n    }\n\n    .dataframe thead th {\n        text-align: right;\n    }\n</style>\n<table border=\"1\" class=\"dataframe\">\n  <thead>\n    <tr style=\"text-align: right;\">\n      <th></th>\n      <th>Unnamed: 0</th>\n      <th>Batches</th>\n      <th>Products</th>\n      <th>Objectives</th>\n    </tr>\n  </thead>\n  <tbody>\n    <tr>\n      <th>0</th>\n      <td>0</td>\n      <td>[31 39 26 31]</td>\n      <td>[3 2 0 3]</td>\n      <td>[612.7        697.03984737]</td>\n    </tr>\n    <tr>\n      <th>1</th>\n      <td>1</td>\n      <td>[24 21 28 30 19]</td>\n      <td>[3 2 0 3 2]</td>\n      <td>[579.8        588.47419239]</td>\n    </tr>\n    <tr>\n      <th>2</th>\n      <td>2</td>\n      <td>[25 48 31 24]</td>\n      <td>[3 2 3 2]</td>\n      <td>[660.8        926.38878466]</td>\n    </tr>\n    <tr>\n      <th>3</th>\n      <td>3</td>\n      <td>[31 22 30 46]</td>\n      <td>[3 2 0 2]</td>\n      <td>[596.7        632.30311669]</td>\n    </tr>\n    <tr>\n      <th>4</th>\n      <td>4</td>\n      <td>[30 42 25 31]</td>\n      <td>[3 2 0 3]</td>\n      <td>[618.8        726.31102836]</td>\n    </tr>\n  </tbody>\n</table>\n</div>"
     },
     "metadata": {},
     "execution_count": 39
    }
   ],
   "source": [
    "name=\"16-11\"+\"solutions.csv\"\n",
    "results=pd.read_csv(root_path_analysis+name)# Import from csv\n",
    "results.head(5)"
   ]
  },
  {
   "source": [
    "### 17/1 11h\n",
    "- 17/1 11h\n",
    "    - For each MC simulation the backlog and\n",
    "        - Monte Carlo simulations=100\n",
    "        - 20 Executions, with 1000 generations\n",
    "        - No solution without violations, passing all in front 0\n",
    "        - Total time  38379.314743200004 Per execution 1918.9657371600001\n",
    "            - Forma de Calculo do backlog\n",
    "                - Testarei Contar as violacoes como np.sum(np.median(distribution_sums_backlog) > 0),  # 6)Backlog violations, para count_backlog_violations_j adds if is greater than 0\n",
    " "
   ],
   "cell_type": "markdown",
   "metadata": {}
  },
  {
   "cell_type": "code",
   "execution_count": 40,
   "metadata": {},
   "outputs": [
    {
     "output_type": "execute_result",
     "data": {
      "text/plain": [
       "   Unnamed: 0 Execution                                                                                       Variation Solution  Total throughput [kg]  Max total backlog [kg]  Mean total backlog [kg]  std dev total backlog [kg]  Median total backlog [kg]  Min total backlog [kg]  P(total backlog ≤ 0 kg)  Max total inventory deficit [kg]  Mean total inventory deficit [kg]  std dev inventory deficit [kg]  Median total inventory deficit [kg]  Min total inventory deficit [kg]  Total Deficit [kg]                      Batches [un]              Product label                                                                                          Start of USP [date]                                                                                            End of DSP [date]\n",
       "0           0   Article                                                                                         Article        X                  539.3                8.200000                 0.200000                    0.600000                   0.000000                0.000000                 0.820000                        683.400000                         432.600000                       58.600000                           424.400000                        259.400000                 NaN  [15 10 29 3 15 11 15 6 2 2 2 10]  [3 2 0 1 3 2 1 3 2 1 2 3]                                                                                                          NaN                                                                                                          NaN\n",
       "1           1   Article                                                                                         Article        Y                  601.5               16.000000                 7.100000                    4.300000                   0.000000                0.000000                 0.500000                        786.000000                         558.600000                       59.000000                           551.700000                        355.600000                 NaN           [12 13 24 18 5 19 9 30]          [3 2 0 3 1 0 2 3]                                                                                                          NaN                                                                                                          NaN\n",
       "2           0         0  front_nsga,tour_vio,rein_vio,vio_back,calc_montecarlo,100,1000,2,0.11,(0.04, 0.61, 0.77, 0.47)        X                 -664.4              175.398621               161.514449                    4.865560                 161.629052              148.184403             16151.444877                        974.555720                         948.604516                        7.694172                           947.916675                        933.835582          947.916675                     [31 49 31 17]                  [3 2 3 2]                                                        ['2016-12-01' '2017-08-31' '2018-09-23' '2019-06-16']                                                        ['2017-08-31' '2018-09-23' '2019-06-16' '2019-11-27']\n",
       "3           1         0  front_nsga,tour_vio,rein_vio,vio_back,calc_montecarlo,100,1000,2,0.11,(0.04, 0.61, 0.77, 0.47)        Y                 -441.7               63.744327                56.892965                    3.185055                  56.978196               48.840320              5689.296540                        559.643422                         494.857244                       17.523500                           490.288892                        468.000286          490.288892         [30 14 34  8  3  3  2  3]          [3 2 0 2 3 1 2 1]  ['2016-12-01' '2017-08-24' '2018-01-14' '2018-10-24' '2019-02-02'\\n '2019-04-13' '2019-06-21' '2019-08-19']  ['2017-08-24' '2018-01-14' '2018-10-24' '2019-02-02' '2019-04-13'\\n '2019-06-21' '2019-08-19' '2019-10-27']"
      ],
      "text/html": "<div>\n<style scoped>\n    .dataframe tbody tr th:only-of-type {\n        vertical-align: middle;\n    }\n\n    .dataframe tbody tr th {\n        vertical-align: top;\n    }\n\n    .dataframe thead th {\n        text-align: right;\n    }\n</style>\n<table border=\"1\" class=\"dataframe\">\n  <thead>\n    <tr style=\"text-align: right;\">\n      <th></th>\n      <th>Unnamed: 0</th>\n      <th>Execution</th>\n      <th>Variation</th>\n      <th>Solution</th>\n      <th>Total throughput [kg]</th>\n      <th>Max total backlog [kg]</th>\n      <th>Mean total backlog [kg]</th>\n      <th>std dev total backlog [kg]</th>\n      <th>Median total backlog [kg]</th>\n      <th>Min total backlog [kg]</th>\n      <th>P(total backlog ≤ 0 kg)</th>\n      <th>Max total inventory deficit [kg]</th>\n      <th>Mean total inventory deficit [kg]</th>\n      <th>std dev inventory deficit [kg]</th>\n      <th>Median total inventory deficit [kg]</th>\n      <th>Min total inventory deficit [kg]</th>\n      <th>Total Deficit [kg]</th>\n      <th>Batches [un]</th>\n      <th>Product label</th>\n      <th>Start of USP [date]</th>\n      <th>End of DSP [date]</th>\n    </tr>\n  </thead>\n  <tbody>\n    <tr>\n      <th>0</th>\n      <td>0</td>\n      <td>Article</td>\n      <td>Article</td>\n      <td>X</td>\n      <td>539.3</td>\n      <td>8.200000</td>\n      <td>0.200000</td>\n      <td>0.600000</td>\n      <td>0.000000</td>\n      <td>0.000000</td>\n      <td>0.820000</td>\n      <td>683.400000</td>\n      <td>432.600000</td>\n      <td>58.600000</td>\n      <td>424.400000</td>\n      <td>259.400000</td>\n      <td>NaN</td>\n      <td>[15 10 29 3 15 11 15 6 2 2 2 10]</td>\n      <td>[3 2 0 1 3 2 1 3 2 1 2 3]</td>\n      <td>NaN</td>\n      <td>NaN</td>\n    </tr>\n    <tr>\n      <th>1</th>\n      <td>1</td>\n      <td>Article</td>\n      <td>Article</td>\n      <td>Y</td>\n      <td>601.5</td>\n      <td>16.000000</td>\n      <td>7.100000</td>\n      <td>4.300000</td>\n      <td>0.000000</td>\n      <td>0.000000</td>\n      <td>0.500000</td>\n      <td>786.000000</td>\n      <td>558.600000</td>\n      <td>59.000000</td>\n      <td>551.700000</td>\n      <td>355.600000</td>\n      <td>NaN</td>\n      <td>[12 13 24 18 5 19 9 30]</td>\n      <td>[3 2 0 3 1 0 2 3]</td>\n      <td>NaN</td>\n      <td>NaN</td>\n    </tr>\n    <tr>\n      <th>2</th>\n      <td>0</td>\n      <td>0</td>\n      <td>front_nsga,tour_vio,rein_vio,vio_back,calc_montecarlo,100,1000,2,0.11,(0.04, 0.61, 0.77, 0.47)</td>\n      <td>X</td>\n      <td>-664.4</td>\n      <td>175.398621</td>\n      <td>161.514449</td>\n      <td>4.865560</td>\n      <td>161.629052</td>\n      <td>148.184403</td>\n      <td>16151.444877</td>\n      <td>974.555720</td>\n      <td>948.604516</td>\n      <td>7.694172</td>\n      <td>947.916675</td>\n      <td>933.835582</td>\n      <td>947.916675</td>\n      <td>[31 49 31 17]</td>\n      <td>[3 2 3 2]</td>\n      <td>['2016-12-01' '2017-08-31' '2018-09-23' '2019-06-16']</td>\n      <td>['2017-08-31' '2018-09-23' '2019-06-16' '2019-11-27']</td>\n    </tr>\n    <tr>\n      <th>3</th>\n      <td>1</td>\n      <td>0</td>\n      <td>front_nsga,tour_vio,rein_vio,vio_back,calc_montecarlo,100,1000,2,0.11,(0.04, 0.61, 0.77, 0.47)</td>\n      <td>Y</td>\n      <td>-441.7</td>\n      <td>63.744327</td>\n      <td>56.892965</td>\n      <td>3.185055</td>\n      <td>56.978196</td>\n      <td>48.840320</td>\n      <td>5689.296540</td>\n      <td>559.643422</td>\n      <td>494.857244</td>\n      <td>17.523500</td>\n      <td>490.288892</td>\n      <td>468.000286</td>\n      <td>490.288892</td>\n      <td>[30 14 34  8  3  3  2  3]</td>\n      <td>[3 2 0 2 3 1 2 1]</td>\n      <td>['2016-12-01' '2017-08-24' '2018-01-14' '2018-10-24' '2019-02-02'\\n '2019-04-13' '2019-06-21' '2019-08-19']</td>\n      <td>['2017-08-24' '2018-01-14' '2018-10-24' '2019-02-02' '2019-04-13'\\n '2019-06-21' '2019-08-19' '2019-10-27']</td>\n    </tr>\n  </tbody>\n</table>\n</div>"
     },
     "metadata": {},
     "execution_count": 40
    }
   ],
   "source": [
    "import pandas as pd\n",
    "result=pd.read_csv(root_path_analysis+'17-111.csv')# Import from csv\n",
    "result"
   ]
  },
  {
   "source": [
    "1. Attributes analysis\n",
    "    - 'Total throughput [kg]',\n",
    "        - Negative because I must fix the inversion correction, the true value is the modulo. Fix added to code.\n",
    "    - 'Max total backlog [kg]', \n",
    "        - Potencialmente alto\n",
    "    - 'Mean total backlog [kg]', \n",
    "    - 'std dev total backlog [kg]', \n",
    "    - 'Median total backlog [kg]', \n",
    "        - Valores altos, preciso de uma estrategia para reduzir o backlog.\n",
    "            - Pode ser devido a minha reinversao de valores\n",
    "            - Forma de Calculo do backlog\n",
    "                - Test Contar cumulativamente as violacoes em todas as simulacoes de Monte como np.sum(np.median(distribution_sums_backlog) > 0),  # 6)Backlog violations, para count_backlog_violations_j adds if is greater than 0\n",
    "                    - It did not worked, results are similar\n",
    "                - Test Count the number of month violations per simulation count_backlog_violations_j += np.sum(backlog_j>0), instead of counting 1 in case any violation happen.\n",
    "    - 'Min total backlog [kg]',\n",
    "        - High values\n",
    "    - 'P(total backlog ≤ 0 kg)', \n",
    "        - Perhaps the problem is given the inversion that I make\n",
    "    - OK 'Max total inventory deficit [kg]', \n",
    "    - OK 'Mean total inventory deficit [kg]', \n",
    "    - OK 'std dev inventory deficit [kg]', \n",
    "    - OK 'Median total inventory deficit [kg]', \n",
    "    - OK 'Min total inventory deficit [kg]', \n",
    "    - 'Total Deficit [kg]', \n",
    "    - 'Batches [un]', \n",
    "        - More reasonable values of batches     \n",
    "    - 'Product label', \n",
    "    - 'Start of USP [date]', \n",
    "    - 'End of DSP [date]']"
   ],
   "cell_type": "markdown",
   "metadata": {}
  },
  {
   "cell_type": "code",
   "execution_count": 41,
   "metadata": {},
   "outputs": [
    {
     "output_type": "execute_result",
     "data": {
      "text/plain": [
       "   Unnamed: 0           Batches     Products                     Objectives\n",
       "0           0     [31 42 24 31]    [3 2 0 3]  [-621.2         737.72287893]\n",
       "1           1     [31 40 26 31]    [3 2 0 3]  [-617.6         708.86045982]\n",
       "2           2  [30 21  4 30 36]  [3 2 1 3 2]  [-634.1         840.08847325]\n",
       "3           3     [31 49 31 17]    [3 2 3 2]  [-664.4         947.91667481]\n",
       "4           4  [24 33 31  3 30]  [3 2 3 1 3]  [-647.8         880.15120185]"
      ],
      "text/html": "<div>\n<style scoped>\n    .dataframe tbody tr th:only-of-type {\n        vertical-align: middle;\n    }\n\n    .dataframe tbody tr th {\n        vertical-align: top;\n    }\n\n    .dataframe thead th {\n        text-align: right;\n    }\n</style>\n<table border=\"1\" class=\"dataframe\">\n  <thead>\n    <tr style=\"text-align: right;\">\n      <th></th>\n      <th>Unnamed: 0</th>\n      <th>Batches</th>\n      <th>Products</th>\n      <th>Objectives</th>\n    </tr>\n  </thead>\n  <tbody>\n    <tr>\n      <th>0</th>\n      <td>0</td>\n      <td>[31 42 24 31]</td>\n      <td>[3 2 0 3]</td>\n      <td>[-621.2         737.72287893]</td>\n    </tr>\n    <tr>\n      <th>1</th>\n      <td>1</td>\n      <td>[31 40 26 31]</td>\n      <td>[3 2 0 3]</td>\n      <td>[-617.6         708.86045982]</td>\n    </tr>\n    <tr>\n      <th>2</th>\n      <td>2</td>\n      <td>[30 21  4 30 36]</td>\n      <td>[3 2 1 3 2]</td>\n      <td>[-634.1         840.08847325]</td>\n    </tr>\n    <tr>\n      <th>3</th>\n      <td>3</td>\n      <td>[31 49 31 17]</td>\n      <td>[3 2 3 2]</td>\n      <td>[-664.4         947.91667481]</td>\n    </tr>\n    <tr>\n      <th>4</th>\n      <td>4</td>\n      <td>[24 33 31  3 30]</td>\n      <td>[3 2 3 1 3]</td>\n      <td>[-647.8         880.15120185]</td>\n    </tr>\n  </tbody>\n</table>\n</div>"
     },
     "metadata": {},
     "execution_count": 41
    }
   ],
   "source": [
    "name=\"17-111\"+\"solutions.csv\"\n",
    "results=pd.read_csv(root_path_analysis+name)# Import from csv\n",
    "results.head(5)"
   ]
  },
  {
   "source": [
    "- More Frequent batches start to appear"
   ],
   "cell_type": "markdown",
   "metadata": {}
  },
  {
   "source": [
    "### 17/1 14h\n",
    "- 17/1 14h\n",
    "    - For each MC simulation the backlog and\n",
    "        - Monte Carlo simulations=100\n",
    "        - 2 Executions, with 1000 generations\n",
    "        - No solution without violations, passing all in front 0\n",
    "        - Total time  1912.581895 Per execution 956.2909475\n",
    "            - Forma de Calculo do backlog\n",
    "                - Test Count the number of month violations per simulation count_backlog_violations_j += np.sum(backlog_j>0), instead of counting 1 in case any violation happen."
   ],
   "cell_type": "markdown",
   "metadata": {}
  },
  {
   "cell_type": "code",
   "execution_count": 42,
   "metadata": {},
   "outputs": [
    {
     "output_type": "execute_result",
     "data": {
      "text/plain": [
       "   Unnamed: 0 Execution                                                                                       Variation Solution  Total throughput [kg]  Max total backlog [kg]  Mean total backlog [kg]  std dev total backlog [kg]  Median total backlog [kg]  Min total backlog [kg]  P(total backlog ≤ 0 kg)  Max total inventory deficit [kg]  Mean total inventory deficit [kg]  std dev inventory deficit [kg]  Median total inventory deficit [kg]  Min total inventory deficit [kg]  Total Deficit [kg]                      Batches [un]              Product label                                                                             Start of USP [date]                                                                               End of DSP [date]\n",
       "0           0   Article                                                                                         Article        X                  539.3                8.200000                 0.200000                    0.600000                   0.000000                0.000000                 0.820000                        683.400000                         432.600000                       58.600000                           424.400000                        259.400000                 NaN  [15 10 29 3 15 11 15 6 2 2 2 10]  [3 2 0 1 3 2 1 3 2 1 2 3]                                                                                             NaN                                                                                             NaN\n",
       "1           1   Article                                                                                         Article        Y                  601.5               16.000000                 7.100000                    4.300000                   0.000000                0.000000                 0.500000                        786.000000                         558.600000                       59.000000                           551.700000                        355.600000                 NaN           [12 13 24 18 5 19 9 30]          [3 2 0 3 1 0 2 3]                                                                                             NaN                                                                                             NaN\n",
       "2           0         0  front_nsga,tour_vio,rein_vio,vio_back,calc_montecarlo,100,1000,2,0.11,(0.04, 0.61, 0.77, 0.47)        X                  479.4               55.135830                44.868747                    3.141599                  44.431457               37.872310              4486.874706                        603.031843                         534.388733                       20.816774                           534.893691                        484.106379          534.893691            [27 20 34  2  9  2  9]            [3 2 0 1 3 2 1]  ['2016-12-01' '2017-08-03' '2018-02-04' '2018-11-14' '2019-01-11'\\n '2019-05-03' '2019-07-01']  ['2017-08-03' '2018-02-04' '2018-11-14' '2019-01-11' '2019-05-03'\\n '2019-07-01' '2019-11-24']\n",
       "3           1         0  front_nsga,tour_vio,rein_vio,vio_back,calc_montecarlo,100,1000,2,0.11,(0.04, 0.61, 0.77, 0.47)        Y                  534.5               57.648191                46.385282                    3.932886                  45.992487               38.991321              4638.528177                        751.858560                         678.713048                       32.656691                           675.767888                        614.707595          675.767888                  [21 42 15 29  9]                [3 0 2 3 1]                              ['2016-12-01' '2017-06-22' '2018-05-27' '2018-10-24' '2019-07-03']                              ['2017-06-22' '2018-05-27' '2018-10-24' '2019-07-03' '2019-11-15']"
      ],
      "text/html": "<div>\n<style scoped>\n    .dataframe tbody tr th:only-of-type {\n        vertical-align: middle;\n    }\n\n    .dataframe tbody tr th {\n        vertical-align: top;\n    }\n\n    .dataframe thead th {\n        text-align: right;\n    }\n</style>\n<table border=\"1\" class=\"dataframe\">\n  <thead>\n    <tr style=\"text-align: right;\">\n      <th></th>\n      <th>Unnamed: 0</th>\n      <th>Execution</th>\n      <th>Variation</th>\n      <th>Solution</th>\n      <th>Total throughput [kg]</th>\n      <th>Max total backlog [kg]</th>\n      <th>Mean total backlog [kg]</th>\n      <th>std dev total backlog [kg]</th>\n      <th>Median total backlog [kg]</th>\n      <th>Min total backlog [kg]</th>\n      <th>P(total backlog ≤ 0 kg)</th>\n      <th>Max total inventory deficit [kg]</th>\n      <th>Mean total inventory deficit [kg]</th>\n      <th>std dev inventory deficit [kg]</th>\n      <th>Median total inventory deficit [kg]</th>\n      <th>Min total inventory deficit [kg]</th>\n      <th>Total Deficit [kg]</th>\n      <th>Batches [un]</th>\n      <th>Product label</th>\n      <th>Start of USP [date]</th>\n      <th>End of DSP [date]</th>\n    </tr>\n  </thead>\n  <tbody>\n    <tr>\n      <th>0</th>\n      <td>0</td>\n      <td>Article</td>\n      <td>Article</td>\n      <td>X</td>\n      <td>539.3</td>\n      <td>8.200000</td>\n      <td>0.200000</td>\n      <td>0.600000</td>\n      <td>0.000000</td>\n      <td>0.000000</td>\n      <td>0.820000</td>\n      <td>683.400000</td>\n      <td>432.600000</td>\n      <td>58.600000</td>\n      <td>424.400000</td>\n      <td>259.400000</td>\n      <td>NaN</td>\n      <td>[15 10 29 3 15 11 15 6 2 2 2 10]</td>\n      <td>[3 2 0 1 3 2 1 3 2 1 2 3]</td>\n      <td>NaN</td>\n      <td>NaN</td>\n    </tr>\n    <tr>\n      <th>1</th>\n      <td>1</td>\n      <td>Article</td>\n      <td>Article</td>\n      <td>Y</td>\n      <td>601.5</td>\n      <td>16.000000</td>\n      <td>7.100000</td>\n      <td>4.300000</td>\n      <td>0.000000</td>\n      <td>0.000000</td>\n      <td>0.500000</td>\n      <td>786.000000</td>\n      <td>558.600000</td>\n      <td>59.000000</td>\n      <td>551.700000</td>\n      <td>355.600000</td>\n      <td>NaN</td>\n      <td>[12 13 24 18 5 19 9 30]</td>\n      <td>[3 2 0 3 1 0 2 3]</td>\n      <td>NaN</td>\n      <td>NaN</td>\n    </tr>\n    <tr>\n      <th>2</th>\n      <td>0</td>\n      <td>0</td>\n      <td>front_nsga,tour_vio,rein_vio,vio_back,calc_montecarlo,100,1000,2,0.11,(0.04, 0.61, 0.77, 0.47)</td>\n      <td>X</td>\n      <td>479.4</td>\n      <td>55.135830</td>\n      <td>44.868747</td>\n      <td>3.141599</td>\n      <td>44.431457</td>\n      <td>37.872310</td>\n      <td>4486.874706</td>\n      <td>603.031843</td>\n      <td>534.388733</td>\n      <td>20.816774</td>\n      <td>534.893691</td>\n      <td>484.106379</td>\n      <td>534.893691</td>\n      <td>[27 20 34  2  9  2  9]</td>\n      <td>[3 2 0 1 3 2 1]</td>\n      <td>['2016-12-01' '2017-08-03' '2018-02-04' '2018-11-14' '2019-01-11'\\n '2019-05-03' '2019-07-01']</td>\n      <td>['2017-08-03' '2018-02-04' '2018-11-14' '2019-01-11' '2019-05-03'\\n '2019-07-01' '2019-11-24']</td>\n    </tr>\n    <tr>\n      <th>3</th>\n      <td>1</td>\n      <td>0</td>\n      <td>front_nsga,tour_vio,rein_vio,vio_back,calc_montecarlo,100,1000,2,0.11,(0.04, 0.61, 0.77, 0.47)</td>\n      <td>Y</td>\n      <td>534.5</td>\n      <td>57.648191</td>\n      <td>46.385282</td>\n      <td>3.932886</td>\n      <td>45.992487</td>\n      <td>38.991321</td>\n      <td>4638.528177</td>\n      <td>751.858560</td>\n      <td>678.713048</td>\n      <td>32.656691</td>\n      <td>675.767888</td>\n      <td>614.707595</td>\n      <td>675.767888</td>\n      <td>[21 42 15 29  9]</td>\n      <td>[3 0 2 3 1]</td>\n      <td>['2016-12-01' '2017-06-22' '2018-05-27' '2018-10-24' '2019-07-03']</td>\n      <td>['2017-06-22' '2018-05-27' '2018-10-24' '2019-07-03' '2019-11-15']</td>\n    </tr>\n  </tbody>\n</table>\n</div>"
     },
     "metadata": {},
     "execution_count": 42
    }
   ],
   "source": [
    "name=\"17-114\"\n",
    "result=pd.read_csv(root_path_analysis+name+'.csv')# Import from csv\n",
    "result"
   ]
  },
  {
   "source": [
    "1. Attributes analysis\n",
    "    - OK 'Total throughput [kg]',\n",
    "    - 'Max total backlog [kg]', \n",
    "        - Potencialmente alto\n",
    "    - 'Mean total backlog [kg]', \n",
    "    - 'std dev total backlog [kg]', \n",
    "    - 'Median total backlog [kg]', \n",
    "        - Valores altos, preciso de uma estrategia para reduzir o backlog.\n",
    "            - Pode ser devido a minha reinversao de valores\n",
    "            - Different backlog calculus tests\n",
    "                - Test Contar cumulativamente as violacoes em todas as simulacoes de Monte como np.sum(np.median(distribution_sums_backlog) > 0),Backlog violations, para count_backlog_violations_j adds if is greater than 0\n",
    "                    - It did not worked, results are similar\n",
    "                - Test Count the number of month violations per simulation count_backlog_violations_j += np.sum(backlog_j>0), instead of counting 1 in case any violation happen.\n",
    "                    - It did not worked, backlog even increased\n",
    "                - Test Count a violation if median of a backlog_j>0: if np.median(backlog_j)>0: count_backlog_violations_j += 1\n",
    "    - 'Min total backlog [kg]',\n",
    "        - High values\n",
    "    - 'P(total backlog ≤ 0 kg)', \n",
    "        - Perhaps the problem is given the inversion that I make\n",
    "    - OK 'Max total inventory deficit [kg]', \n",
    "    - OK 'Mean total inventory deficit [kg]', \n",
    "    - OK 'std dev inventory deficit [kg]', \n",
    "    - OK 'Median total inventory deficit [kg]', \n",
    "    - OK 'Min total inventory deficit [kg]', \n",
    "    - 'Total Deficit [kg]', \n",
    "    - 'Batches [un]', \n",
    "    - 'Product label', \n",
    "    - 'Start of USP [date]', \n",
    "    - 'End of DSP [date]']"
   ],
   "cell_type": "markdown",
   "metadata": {}
  },
  {
   "cell_type": "code",
   "execution_count": 43,
   "metadata": {},
   "outputs": [
    {
     "output_type": "execute_result",
     "data": {
      "text/plain": [
       "   Unnamed: 0                 Batches         Products                   Objectives\n",
       "0           0  [27 20 34  2  9  2  9]  [3 2 0 1 3 2 1]    [479.4       534.8936909]\n",
       "1           1  [27 20 35  3  6  2 15]  [3 2 0 1 3 2 3]  [498.9        546.97499006]\n",
       "2           2  [27 20 35  3  6  2 14]  [3 2 0 1 3 2 3]  [493.4        544.73476978]\n",
       "3           3     [27 21 34  4  6 19]    [3 2 0 1 3 2]    [507.7       566.5046132]\n",
       "4           4  [27 19 34  2  9  3 10]  [3 2 0 1 3 2 1]  [485.6        536.10342533]\n",
       "5           5        [21 42 15 29  9]      [3 0 2 3 1]  [534.5        675.76788817]\n",
       "6           6     [22 42 15 27  3  3]    [3 0 2 3 1 3]  [508.3        664.18020446]\n",
       "7           7        [22 42 15 27  8]      [3 0 2 3 1]  [522.8        666.27026063]\n",
       "8           8     [22 42 15 27  5  2]    [3 0 2 3 1 0]    [510.4       665.5692583]"
      ],
      "text/html": "<div>\n<style scoped>\n    .dataframe tbody tr th:only-of-type {\n        vertical-align: middle;\n    }\n\n    .dataframe tbody tr th {\n        vertical-align: top;\n    }\n\n    .dataframe thead th {\n        text-align: right;\n    }\n</style>\n<table border=\"1\" class=\"dataframe\">\n  <thead>\n    <tr style=\"text-align: right;\">\n      <th></th>\n      <th>Unnamed: 0</th>\n      <th>Batches</th>\n      <th>Products</th>\n      <th>Objectives</th>\n    </tr>\n  </thead>\n  <tbody>\n    <tr>\n      <th>0</th>\n      <td>0</td>\n      <td>[27 20 34  2  9  2  9]</td>\n      <td>[3 2 0 1 3 2 1]</td>\n      <td>[479.4       534.8936909]</td>\n    </tr>\n    <tr>\n      <th>1</th>\n      <td>1</td>\n      <td>[27 20 35  3  6  2 15]</td>\n      <td>[3 2 0 1 3 2 3]</td>\n      <td>[498.9        546.97499006]</td>\n    </tr>\n    <tr>\n      <th>2</th>\n      <td>2</td>\n      <td>[27 20 35  3  6  2 14]</td>\n      <td>[3 2 0 1 3 2 3]</td>\n      <td>[493.4        544.73476978]</td>\n    </tr>\n    <tr>\n      <th>3</th>\n      <td>3</td>\n      <td>[27 21 34  4  6 19]</td>\n      <td>[3 2 0 1 3 2]</td>\n      <td>[507.7       566.5046132]</td>\n    </tr>\n    <tr>\n      <th>4</th>\n      <td>4</td>\n      <td>[27 19 34  2  9  3 10]</td>\n      <td>[3 2 0 1 3 2 1]</td>\n      <td>[485.6        536.10342533]</td>\n    </tr>\n    <tr>\n      <th>5</th>\n      <td>5</td>\n      <td>[21 42 15 29  9]</td>\n      <td>[3 0 2 3 1]</td>\n      <td>[534.5        675.76788817]</td>\n    </tr>\n    <tr>\n      <th>6</th>\n      <td>6</td>\n      <td>[22 42 15 27  3  3]</td>\n      <td>[3 0 2 3 1 3]</td>\n      <td>[508.3        664.18020446]</td>\n    </tr>\n    <tr>\n      <th>7</th>\n      <td>7</td>\n      <td>[22 42 15 27  8]</td>\n      <td>[3 0 2 3 1]</td>\n      <td>[522.8        666.27026063]</td>\n    </tr>\n    <tr>\n      <th>8</th>\n      <td>8</td>\n      <td>[22 42 15 27  5  2]</td>\n      <td>[3 0 2 3 1 0]</td>\n      <td>[510.4       665.5692583]</td>\n    </tr>\n  </tbody>\n</table>\n</div>"
     },
     "metadata": {},
     "execution_count": 43
    }
   ],
   "source": [
    "results=pd.read_csv(root_path_analysis+name+\"solutions.csv\")# Import from csv\n",
    "results"
   ]
  },
  {
   "source": [
    "- Interestingly I do have smaller batches "
   ],
   "cell_type": "markdown",
   "metadata": {}
  },
  {
   "source": [
    "### 17/1 16h\n",
    "- 17/1 16\n",
    "    - For each MC simulation the backlog and\n",
    "        - Monte Carlo simulations=100\n",
    "        - 2 Executions, with 1000 generations\n",
    "        - No solution without violations, passing all in front 0\n",
    "        - \n",
    "            - Forma de Calculo do backlog\n",
    "                - Test Count a violation if median of a backlog_j>0: if np.median(backlog_j)>0: count_backlog_violations_j += 1\n"
   ],
   "cell_type": "markdown",
   "metadata": {}
  },
  {
   "cell_type": "code",
   "execution_count": 44,
   "metadata": {},
   "outputs": [
    {
     "output_type": "execute_result",
     "data": {
      "text/plain": [
       "   Unnamed: 0 Execution                                                                                       Variation Solution  Total throughput [kg]  Max total backlog [kg]  Mean total backlog [kg]  std dev total backlog [kg]  Median total backlog [kg]  Min total backlog [kg]  P(total backlog ≤ 0 kg)  Max total inventory deficit [kg]  Mean total inventory deficit [kg]  std dev inventory deficit [kg]  Median total inventory deficit [kg]  Min total inventory deficit [kg]  Total Deficit [kg]                      Batches [un]              Product label                                                                Start of USP [date]                                                                  End of DSP [date]\n",
       "0           0   Article                                                                                         Article        X                  539.3                8.200000                 0.200000                    0.600000                   0.000000                0.000000                 0.820000                        683.400000                         432.600000                       58.600000                           424.400000                        259.400000                 NaN  [15 10 29 3 15 11 15 6 2 2 2 10]  [3 2 0 1 3 2 1 3 2 1 2 3]                                                                                NaN                                                                                NaN\n",
       "1           1   Article                                                                                         Article        Y                  601.5               16.000000                 7.100000                    4.300000                   0.000000                0.000000                 0.500000                        786.000000                         558.600000                       59.000000                           551.700000                        355.600000                 NaN           [12 13 24 18 5 19 9 30]          [3 2 0 3 1 0 2 3]                                                                                NaN                                                                                NaN\n",
       "2           0         0  front_nsga,tour_vio,rein_vio,vio_back,calc_montecarlo,100,1000,2,0.11,(0.04, 0.61, 0.77, 0.47)        X                  534.2               63.086262                56.382315                    3.116220                  55.912935               49.518924              5638.231476                        582.027620                         499.819980                       22.575882                           494.019625                        461.073588          494.019625               [30 14 34  7  2 27]              [3 2 0 2 1 3]  ['2016-12-01' '2017-08-24' '2018-01-14' '2018-10-24' '2019-01-26'\\n '2019-03-25']  ['2017-08-24' '2018-01-14' '2018-10-24' '2019-01-26' '2019-03-25'\\n '2019-11-25']\n",
       "3           1         0  front_nsga,tour_vio,rein_vio,vio_back,calc_montecarlo,100,1000,2,0.11,(0.04, 0.61, 0.77, 0.47)        Y                  664.4              173.771044               160.705977                    5.007383                 160.534350              146.672914             16070.597745                        966.260214                         949.538127                        7.570990                           948.863999                        931.360015          948.863999                     [31 27 31 39]                  [3 2 3 2]                              ['2016-12-01' '2017-08-31' '2018-04-22' '2019-01-13']                              ['2017-08-31' '2018-04-22' '2019-01-13' '2019-11-27']"
      ],
      "text/html": "<div>\n<style scoped>\n    .dataframe tbody tr th:only-of-type {\n        vertical-align: middle;\n    }\n\n    .dataframe tbody tr th {\n        vertical-align: top;\n    }\n\n    .dataframe thead th {\n        text-align: right;\n    }\n</style>\n<table border=\"1\" class=\"dataframe\">\n  <thead>\n    <tr style=\"text-align: right;\">\n      <th></th>\n      <th>Unnamed: 0</th>\n      <th>Execution</th>\n      <th>Variation</th>\n      <th>Solution</th>\n      <th>Total throughput [kg]</th>\n      <th>Max total backlog [kg]</th>\n      <th>Mean total backlog [kg]</th>\n      <th>std dev total backlog [kg]</th>\n      <th>Median total backlog [kg]</th>\n      <th>Min total backlog [kg]</th>\n      <th>P(total backlog ≤ 0 kg)</th>\n      <th>Max total inventory deficit [kg]</th>\n      <th>Mean total inventory deficit [kg]</th>\n      <th>std dev inventory deficit [kg]</th>\n      <th>Median total inventory deficit [kg]</th>\n      <th>Min total inventory deficit [kg]</th>\n      <th>Total Deficit [kg]</th>\n      <th>Batches [un]</th>\n      <th>Product label</th>\n      <th>Start of USP [date]</th>\n      <th>End of DSP [date]</th>\n    </tr>\n  </thead>\n  <tbody>\n    <tr>\n      <th>0</th>\n      <td>0</td>\n      <td>Article</td>\n      <td>Article</td>\n      <td>X</td>\n      <td>539.3</td>\n      <td>8.200000</td>\n      <td>0.200000</td>\n      <td>0.600000</td>\n      <td>0.000000</td>\n      <td>0.000000</td>\n      <td>0.820000</td>\n      <td>683.400000</td>\n      <td>432.600000</td>\n      <td>58.600000</td>\n      <td>424.400000</td>\n      <td>259.400000</td>\n      <td>NaN</td>\n      <td>[15 10 29 3 15 11 15 6 2 2 2 10]</td>\n      <td>[3 2 0 1 3 2 1 3 2 1 2 3]</td>\n      <td>NaN</td>\n      <td>NaN</td>\n    </tr>\n    <tr>\n      <th>1</th>\n      <td>1</td>\n      <td>Article</td>\n      <td>Article</td>\n      <td>Y</td>\n      <td>601.5</td>\n      <td>16.000000</td>\n      <td>7.100000</td>\n      <td>4.300000</td>\n      <td>0.000000</td>\n      <td>0.000000</td>\n      <td>0.500000</td>\n      <td>786.000000</td>\n      <td>558.600000</td>\n      <td>59.000000</td>\n      <td>551.700000</td>\n      <td>355.600000</td>\n      <td>NaN</td>\n      <td>[12 13 24 18 5 19 9 30]</td>\n      <td>[3 2 0 3 1 0 2 3]</td>\n      <td>NaN</td>\n      <td>NaN</td>\n    </tr>\n    <tr>\n      <th>2</th>\n      <td>0</td>\n      <td>0</td>\n      <td>front_nsga,tour_vio,rein_vio,vio_back,calc_montecarlo,100,1000,2,0.11,(0.04, 0.61, 0.77, 0.47)</td>\n      <td>X</td>\n      <td>534.2</td>\n      <td>63.086262</td>\n      <td>56.382315</td>\n      <td>3.116220</td>\n      <td>55.912935</td>\n      <td>49.518924</td>\n      <td>5638.231476</td>\n      <td>582.027620</td>\n      <td>499.819980</td>\n      <td>22.575882</td>\n      <td>494.019625</td>\n      <td>461.073588</td>\n      <td>494.019625</td>\n      <td>[30 14 34  7  2 27]</td>\n      <td>[3 2 0 2 1 3]</td>\n      <td>['2016-12-01' '2017-08-24' '2018-01-14' '2018-10-24' '2019-01-26'\\n '2019-03-25']</td>\n      <td>['2017-08-24' '2018-01-14' '2018-10-24' '2019-01-26' '2019-03-25'\\n '2019-11-25']</td>\n    </tr>\n    <tr>\n      <th>3</th>\n      <td>1</td>\n      <td>0</td>\n      <td>front_nsga,tour_vio,rein_vio,vio_back,calc_montecarlo,100,1000,2,0.11,(0.04, 0.61, 0.77, 0.47)</td>\n      <td>Y</td>\n      <td>664.4</td>\n      <td>173.771044</td>\n      <td>160.705977</td>\n      <td>5.007383</td>\n      <td>160.534350</td>\n      <td>146.672914</td>\n      <td>16070.597745</td>\n      <td>966.260214</td>\n      <td>949.538127</td>\n      <td>7.570990</td>\n      <td>948.863999</td>\n      <td>931.360015</td>\n      <td>948.863999</td>\n      <td>[31 27 31 39]</td>\n      <td>[3 2 3 2]</td>\n      <td>['2016-12-01' '2017-08-31' '2018-04-22' '2019-01-13']</td>\n      <td>['2017-08-31' '2018-04-22' '2019-01-13' '2019-11-27']</td>\n    </tr>\n  </tbody>\n</table>\n</div>"
     },
     "metadata": {},
     "execution_count": 44
    }
   ],
   "source": [
    "name=\"17-116\"\n",
    "result=pd.read_csv(root_path_analysis+name+'.csv')# Import from csv\n",
    "result"
   ]
  },
  {
   "source": [
    "1. Attributes analysis\n",
    "    - OK 'Total throughput [kg]',\n",
    "    - 'Max total backlog [kg]', \n",
    "        - Potencialmente alto\n",
    "    - 'Mean total backlog [kg]', \n",
    "    - 'std dev total backlog [kg]', \n",
    "    - 'Median total backlog [kg]', \n",
    "        - Valores altos, preciso de uma estrategia para reduzir o backlog.\n",
    "            - Pode ser devido a minha reinversao de valores\n",
    "            - Different backlog calculus tests\n",
    "                - Test Contar cumulativamente as violacoes em todas as simulacoes de Monte como np.sum(np.median(distribution_sums_backlog) > 0),Backlog violations, para count_backlog_violations_j adds if is greater than 0\n",
    "                    - It did not worked, results are similar\n",
    "                - Test Count the number of month violations per simulation count_backlog_violations_j += np.sum(backlog_j>0), instead of counting 1 in case any violation happen.\n",
    "                    - It did not worked, backlog even increased\n",
    "                - Test Count a violation if median of a backlog_j>0: if np.median(backlog_j)>0: count_backlog_violations_j += 1\n",
    "                    - Fail, backlog keep high\n",
    "    - 'Min total backlog [kg]',\n",
    "        - High values\n",
    "    - 'P(total backlog ≤ 0 kg)', \n",
    "        - Perhaps the problem is given the inversion that I make\n",
    "    - OK 'Max total inventory deficit [kg]', \n",
    "    - OK 'Mean total inventory deficit [kg]', \n",
    "    - OK 'std dev inventory deficit [kg]', \n",
    "    - OK 'Median total inventory deficit [kg]', \n",
    "    - OK 'Min total inventory deficit [kg]', \n",
    "    - 'Total Deficit [kg]', \n",
    "    - 'Batches [un]', \n",
    "    - 'Product label', \n",
    "    - 'Start of USP [date]', \n",
    "    - 'End of DSP [date]']"
   ],
   "cell_type": "markdown",
   "metadata": {}
  },
  {
   "cell_type": "code",
   "execution_count": 45,
   "metadata": {},
   "outputs": [
    {
     "output_type": "execute_result",
     "data": {
      "text/plain": [
       "   Unnamed: 0              Batches       Products                   Objectives\n",
       "0           0        [31 38 28 31]      [3 2 0 3]  [614.         698.92332263]\n",
       "1           1        [30 31 24 31]      [3 2 1 3]  [636.2        870.32054784]\n",
       "2           2  [30 14 34  7  2 28]  [3 2 0 2 1 3]  [539.7        498.43372379]\n",
       "3           3        [30 35 32 31]      [3 0 2 3]  [600.8        652.59255213]\n",
       "4           4     [30 14 35 10 31]    [3 2 0 2 3]  [561.6        516.94422466]"
      ],
      "text/html": "<div>\n<style scoped>\n    .dataframe tbody tr th:only-of-type {\n        vertical-align: middle;\n    }\n\n    .dataframe tbody tr th {\n        vertical-align: top;\n    }\n\n    .dataframe thead th {\n        text-align: right;\n    }\n</style>\n<table border=\"1\" class=\"dataframe\">\n  <thead>\n    <tr style=\"text-align: right;\">\n      <th></th>\n      <th>Unnamed: 0</th>\n      <th>Batches</th>\n      <th>Products</th>\n      <th>Objectives</th>\n    </tr>\n  </thead>\n  <tbody>\n    <tr>\n      <th>0</th>\n      <td>0</td>\n      <td>[31 38 28 31]</td>\n      <td>[3 2 0 3]</td>\n      <td>[614.         698.92332263]</td>\n    </tr>\n    <tr>\n      <th>1</th>\n      <td>1</td>\n      <td>[30 31 24 31]</td>\n      <td>[3 2 1 3]</td>\n      <td>[636.2        870.32054784]</td>\n    </tr>\n    <tr>\n      <th>2</th>\n      <td>2</td>\n      <td>[30 14 34  7  2 28]</td>\n      <td>[3 2 0 2 1 3]</td>\n      <td>[539.7        498.43372379]</td>\n    </tr>\n    <tr>\n      <th>3</th>\n      <td>3</td>\n      <td>[30 35 32 31]</td>\n      <td>[3 0 2 3]</td>\n      <td>[600.8        652.59255213]</td>\n    </tr>\n    <tr>\n      <th>4</th>\n      <td>4</td>\n      <td>[30 14 35 10 31]</td>\n      <td>[3 2 0 2 3]</td>\n      <td>[561.6        516.94422466]</td>\n    </tr>\n  </tbody>\n</table>\n</div>"
     },
     "metadata": {},
     "execution_count": 45
    }
   ],
   "source": [
    "results=pd.read_csv(root_path_analysis+name+\"solutions.csv\")# Import from csv\n",
    "results.head(5)"
   ]
  },
  {
   "source": [
    "### 17/1 1h\n",
    "- 17/1 1\n",
    "    - For each MC simulation the backlog and\n",
    "        - Monte Carlo simulations=500\n",
    "        - 2 Executions, with 1000 generations\n",
    "        - No solution without violations, passing all in front 0\n",
    "            - Forma de Calculo do backlog (Same as last one, but different Monte Carlo Simulations)\n",
    "                - Test Count a violation if median of a backlog_j>0: if np.median(backlog_j)>0: count_backlog_violations_j += 1\n"
   ],
   "cell_type": "markdown",
   "metadata": {}
  },
  {
   "cell_type": "code",
   "execution_count": 46,
   "metadata": {},
   "outputs": [
    {
     "output_type": "execute_result",
     "data": {
      "text/plain": [
       "   Unnamed: 0 Execution                                                                                       Variation Solution  Total throughput [kg]  Max total backlog [kg]  Mean total backlog [kg]  std dev total backlog [kg]  Median total backlog [kg]  Min total backlog [kg]  P(total backlog ≤ 0 kg)  Max total inventory deficit [kg]  Mean total inventory deficit [kg]  std dev inventory deficit [kg]  Median total inventory deficit [kg]  Min total inventory deficit [kg]  Total Deficit [kg]                      Batches [un]              Product label                                                                                          Start of USP [date]                                                                                            End of DSP [date]\n",
       "0           0   Article                                                                                         Article        X                  539.3                8.200000                 0.200000                    0.600000                   0.000000                0.000000                 0.820000                        683.400000                         432.600000                       58.600000                           424.400000                        259.400000                 NaN  [15 10 29 3 15 11 15 6 2 2 2 10]  [3 2 0 1 3 2 1 3 2 1 2 3]                                                                                                          NaN                                                                                                          NaN\n",
       "1           1   Article                                                                                         Article        Y                  601.5               16.000000                 7.100000                    4.300000                   0.000000                0.000000                 0.500000                        786.000000                         558.600000                       59.000000                           551.700000                        355.600000                 NaN           [12 13 24 18 5 19 9 30]          [3 2 0 3 1 0 2 3]                                                                                                          NaN                                                                                                          NaN\n",
       "2           0         0  front_nsga,tour_vio,rein_vio,vio_back,calc_montecarlo,100,1000,2,0.11,(0.04, 0.61, 0.77, 0.47)        X                  454.3               67.591227                53.289372                    3.806753                  53.079218               44.203325             26644.685787                        604.644893                         511.996967                       25.439492                           508.703268                        454.707623          508.703268         [24 20 31 12  3  4  3  3]          [3 2 0 3 1 0 3 2]  ['2016-12-01' '2017-07-13' '2018-01-14' '2018-10-03' '2019-02-13'\\n '2019-04-23' '2019-07-05' '2019-09-13']  ['2017-07-13' '2018-01-14' '2018-10-03' '2019-02-13' '2019-04-23'\\n '2019-07-05' '2019-09-13' '2019-11-25']\n",
       "3           1         0  front_nsga,tour_vio,rein_vio,vio_back,calc_montecarlo,100,1000,2,0.11,(0.04, 0.61, 0.77, 0.47)        Y                  663.8              175.124476               160.913481                    4.895376                 160.878488              149.760069             80456.740412                        967.453229                         945.312277                        7.544753                           945.434233                        922.011926          945.434233                     [30 43 31 24]                  [3 2 3 2]                                                        ['2016-12-01' '2017-08-24' '2018-08-05' '2019-04-28']                                                        ['2017-08-24' '2018-08-05' '2019-04-28' '2019-11-27']"
      ],
      "text/html": "<div>\n<style scoped>\n    .dataframe tbody tr th:only-of-type {\n        vertical-align: middle;\n    }\n\n    .dataframe tbody tr th {\n        vertical-align: top;\n    }\n\n    .dataframe thead th {\n        text-align: right;\n    }\n</style>\n<table border=\"1\" class=\"dataframe\">\n  <thead>\n    <tr style=\"text-align: right;\">\n      <th></th>\n      <th>Unnamed: 0</th>\n      <th>Execution</th>\n      <th>Variation</th>\n      <th>Solution</th>\n      <th>Total throughput [kg]</th>\n      <th>Max total backlog [kg]</th>\n      <th>Mean total backlog [kg]</th>\n      <th>std dev total backlog [kg]</th>\n      <th>Median total backlog [kg]</th>\n      <th>Min total backlog [kg]</th>\n      <th>P(total backlog ≤ 0 kg)</th>\n      <th>Max total inventory deficit [kg]</th>\n      <th>Mean total inventory deficit [kg]</th>\n      <th>std dev inventory deficit [kg]</th>\n      <th>Median total inventory deficit [kg]</th>\n      <th>Min total inventory deficit [kg]</th>\n      <th>Total Deficit [kg]</th>\n      <th>Batches [un]</th>\n      <th>Product label</th>\n      <th>Start of USP [date]</th>\n      <th>End of DSP [date]</th>\n    </tr>\n  </thead>\n  <tbody>\n    <tr>\n      <th>0</th>\n      <td>0</td>\n      <td>Article</td>\n      <td>Article</td>\n      <td>X</td>\n      <td>539.3</td>\n      <td>8.200000</td>\n      <td>0.200000</td>\n      <td>0.600000</td>\n      <td>0.000000</td>\n      <td>0.000000</td>\n      <td>0.820000</td>\n      <td>683.400000</td>\n      <td>432.600000</td>\n      <td>58.600000</td>\n      <td>424.400000</td>\n      <td>259.400000</td>\n      <td>NaN</td>\n      <td>[15 10 29 3 15 11 15 6 2 2 2 10]</td>\n      <td>[3 2 0 1 3 2 1 3 2 1 2 3]</td>\n      <td>NaN</td>\n      <td>NaN</td>\n    </tr>\n    <tr>\n      <th>1</th>\n      <td>1</td>\n      <td>Article</td>\n      <td>Article</td>\n      <td>Y</td>\n      <td>601.5</td>\n      <td>16.000000</td>\n      <td>7.100000</td>\n      <td>4.300000</td>\n      <td>0.000000</td>\n      <td>0.000000</td>\n      <td>0.500000</td>\n      <td>786.000000</td>\n      <td>558.600000</td>\n      <td>59.000000</td>\n      <td>551.700000</td>\n      <td>355.600000</td>\n      <td>NaN</td>\n      <td>[12 13 24 18 5 19 9 30]</td>\n      <td>[3 2 0 3 1 0 2 3]</td>\n      <td>NaN</td>\n      <td>NaN</td>\n    </tr>\n    <tr>\n      <th>2</th>\n      <td>0</td>\n      <td>0</td>\n      <td>front_nsga,tour_vio,rein_vio,vio_back,calc_montecarlo,100,1000,2,0.11,(0.04, 0.61, 0.77, 0.47)</td>\n      <td>X</td>\n      <td>454.3</td>\n      <td>67.591227</td>\n      <td>53.289372</td>\n      <td>3.806753</td>\n      <td>53.079218</td>\n      <td>44.203325</td>\n      <td>26644.685787</td>\n      <td>604.644893</td>\n      <td>511.996967</td>\n      <td>25.439492</td>\n      <td>508.703268</td>\n      <td>454.707623</td>\n      <td>508.703268</td>\n      <td>[24 20 31 12  3  4  3  3]</td>\n      <td>[3 2 0 3 1 0 3 2]</td>\n      <td>['2016-12-01' '2017-07-13' '2018-01-14' '2018-10-03' '2019-02-13'\\n '2019-04-23' '2019-07-05' '2019-09-13']</td>\n      <td>['2017-07-13' '2018-01-14' '2018-10-03' '2019-02-13' '2019-04-23'\\n '2019-07-05' '2019-09-13' '2019-11-25']</td>\n    </tr>\n    <tr>\n      <th>3</th>\n      <td>1</td>\n      <td>0</td>\n      <td>front_nsga,tour_vio,rein_vio,vio_back,calc_montecarlo,100,1000,2,0.11,(0.04, 0.61, 0.77, 0.47)</td>\n      <td>Y</td>\n      <td>663.8</td>\n      <td>175.124476</td>\n      <td>160.913481</td>\n      <td>4.895376</td>\n      <td>160.878488</td>\n      <td>149.760069</td>\n      <td>80456.740412</td>\n      <td>967.453229</td>\n      <td>945.312277</td>\n      <td>7.544753</td>\n      <td>945.434233</td>\n      <td>922.011926</td>\n      <td>945.434233</td>\n      <td>[30 43 31 24]</td>\n      <td>[3 2 3 2]</td>\n      <td>['2016-12-01' '2017-08-24' '2018-08-05' '2019-04-28']</td>\n      <td>['2017-08-24' '2018-08-05' '2019-04-28' '2019-11-27']</td>\n    </tr>\n  </tbody>\n</table>\n</div>"
     },
     "metadata": {},
     "execution_count": 46
    }
   ],
   "source": [
    "name=\"17-119\"\n",
    "result=pd.read_csv(root_path_analysis+name+'.csv')# Import from csv\n",
    "result"
   ]
  },
  {
   "source": [
    "1. Attributes analysis\n",
    "    - OK 'Total throughput [kg]',\n",
    "    - 'Max total backlog [kg]', \n",
    "        - Potencialmente alto\n",
    "    - 'Mean total backlog [kg]', \n",
    "    - 'std dev total backlog [kg]', \n",
    "    - 'Median total backlog [kg]', \n",
    "        - Valores altos, preciso de uma estrategia para reduzir o backlog.\n",
    "            - Pode ser devido a minha reinversao de valores\n",
    "            - Different backlog calculus tests\n",
    "                - Test Contar cumulativamente as violacoes em todas as simulacoes de Monte como np.sum(np.median(distribution_sums_backlog) > 0),Backlog violations, para count_backlog_violations_j adds if is greater than 0\n",
    "                    - It did not worked, results are similar\n",
    "                - Test Count the number of month violations per simulation count_backlog_violations_j += np.sum(backlog_j>0), instead of counting 1 in case any violation happen.\n",
    "                    - It did not worked, backlog even increased\n",
    "                - Test Count a violation if median of a backlog_j>0: if np.median(backlog_j)>0: count_backlog_violations_j += 1\n",
    "                    - Fail, backlog keep high\n",
    "                - Test  Count a violation if median of a backlog_j>0: if np.median(backlog_j)>0: count_backlog_violations_j += 1 but higher number of Monte Carlo\n",
    "                    - Did not worked backlog reached values much higher\n",
    "                - Test Instead of count use the actual median of the sum of backlogs\n",
    "    - 'Min total backlog [kg]',\n",
    "        - High values\n",
    "    - 'P(total backlog ≤ 0 kg)', \n",
    "        - Perhaps the problem is given the inversion that I make\n",
    "    - OK 'Max total inventory deficit [kg]', \n",
    "    - OK 'Mean total inventory deficit [kg]', \n",
    "    - OK 'std dev inventory deficit [kg]', \n",
    "    - OK 'Median total inventory deficit [kg]', \n",
    "    - OK 'Min total inventory deficit [kg]', \n",
    "    - 'Total Deficit [kg]', \n",
    "    - 'Batches [un]', \n",
    "    - 'Product label', \n",
    "    - 'Start of USP [date]', \n",
    "    - 'End of DSP [date]']"
   ],
   "cell_type": "markdown",
   "metadata": {}
  },
  {
   "cell_type": "code",
   "execution_count": 47,
   "metadata": {},
   "outputs": [
    {
     "output_type": "execute_result",
     "data": {
      "text/plain": [
       "   Unnamed: 0           Batches     Products                   Objectives\n",
       "0           0     [26 25 30 46]    [3 2 3 2]  [655.9        929.44543501]\n",
       "1           1  [30 20 35  3 31]  [3 2 0 1 3]  [560.6        543.50098449]\n",
       "2           2     [29 22 31 46]    [3 2 3 2]  [663.2        940.55870599]\n",
       "3           3     [31 39 18 31]    [3 2 1 3]  [643.7        872.31489056]\n",
       "4           4     [31 15 34 49]    [3 2 0 2]  [589.5        558.63485263]"
      ],
      "text/html": "<div>\n<style scoped>\n    .dataframe tbody tr th:only-of-type {\n        vertical-align: middle;\n    }\n\n    .dataframe tbody tr th {\n        vertical-align: top;\n    }\n\n    .dataframe thead th {\n        text-align: right;\n    }\n</style>\n<table border=\"1\" class=\"dataframe\">\n  <thead>\n    <tr style=\"text-align: right;\">\n      <th></th>\n      <th>Unnamed: 0</th>\n      <th>Batches</th>\n      <th>Products</th>\n      <th>Objectives</th>\n    </tr>\n  </thead>\n  <tbody>\n    <tr>\n      <th>0</th>\n      <td>0</td>\n      <td>[26 25 30 46]</td>\n      <td>[3 2 3 2]</td>\n      <td>[655.9        929.44543501]</td>\n    </tr>\n    <tr>\n      <th>1</th>\n      <td>1</td>\n      <td>[30 20 35  3 31]</td>\n      <td>[3 2 0 1 3]</td>\n      <td>[560.6        543.50098449]</td>\n    </tr>\n    <tr>\n      <th>2</th>\n      <td>2</td>\n      <td>[29 22 31 46]</td>\n      <td>[3 2 3 2]</td>\n      <td>[663.2        940.55870599]</td>\n    </tr>\n    <tr>\n      <th>3</th>\n      <td>3</td>\n      <td>[31 39 18 31]</td>\n      <td>[3 2 1 3]</td>\n      <td>[643.7        872.31489056]</td>\n    </tr>\n    <tr>\n      <th>4</th>\n      <td>4</td>\n      <td>[31 15 34 49]</td>\n      <td>[3 2 0 2]</td>\n      <td>[589.5        558.63485263]</td>\n    </tr>\n  </tbody>\n</table>\n</div>"
     },
     "metadata": {},
     "execution_count": 47
    }
   ],
   "source": [
    "results=pd.read_csv(root_path_analysis+name+\"solutions.csv\")# Import from csv\n",
    "results.head()"
   ]
  },
  {
   "source": [
    "### 17/1 1h\n",
    "- 18/1 8\n",
    "    - For each MC simulation the backlog and\n",
    "        - Monte Carlo simulations=1000\n",
    "        - 6 Executions, with 1000 generations\n",
    "        - No solution without violations, passing all in front 0\n",
    "            - UseMeadian as violation\n",
    "                - Total time  23069.192419299998 Per execution 3844.8654032166664"
   ],
   "cell_type": "markdown",
   "metadata": {}
  },
  {
   "cell_type": "code",
   "execution_count": 48,
   "metadata": {},
   "outputs": [
    {
     "output_type": "execute_result",
     "data": {
      "text/plain": [
       "   Unnamed: 0 Execution                                                                                       Variation Solution  Total throughput [kg]  Max total backlog [kg]  Mean total backlog [kg]  std dev total backlog [kg]  Median total backlog [kg]  Min total backlog [kg]  P(total backlog ≤ 0 kg)  Max total inventory deficit [kg]  Mean total inventory deficit [kg]  std dev inventory deficit [kg]  Median total inventory deficit [kg]  Min total inventory deficit [kg]  Total Deficit [kg]                      Batches [un]              Product label                                                                Start of USP [date]                                                                  End of DSP [date]\n",
       "0           0   Article                                                                                         Article        X                  539.3                8.200000                 0.200000                    0.600000                   0.000000                0.000000                 0.820000                        683.400000                         432.600000                       58.600000                           424.400000                        259.400000                 NaN  [15 10 29 3 15 11 15 6 2 2 2 10]  [3 2 0 1 3 2 1 3 2 1 2 3]                                                                                NaN                                                                                NaN\n",
       "1           1   Article                                                                                         Article        Y                  601.5               16.000000                 7.100000                    4.300000                   0.000000                0.000000                 0.500000                        786.000000                         558.600000                       59.000000                           551.700000                        355.600000                 NaN           [12 13 24 18 5 19 9 30]          [3 2 0 3 1 0 2 3]                                                                                NaN                                                                                NaN\n",
       "2           0         0  front_nsga,tour_vio,rein_vio,vio_back,calc_montecarlo,100,1000,2,0.11,(0.04, 0.61, 0.77, 0.47)        X                  511.5               61.824706                48.108472                    3.228153                  47.901164               37.409326             48108.471968                        679.473248                         565.562458                       27.288181                           561.125962                        497.369182          561.125962               [30 33 16  3 12 20]              [3 0 2 1 0 3]  ['2016-12-01' '2017-08-24' '2018-05-27' '2018-10-31' '2019-01-08'\\n '2019-05-17']  ['2017-08-24' '2018-05-27' '2018-10-31' '2019-01-08' '2019-05-17'\\n '2019-11-29']\n",
       "3           1         0  front_nsga,tour_vio,rein_vio,vio_back,calc_montecarlo,100,1000,2,0.11,(0.04, 0.61, 0.77, 0.47)        Y                  524.2               61.349786                48.004156                    3.038205                  47.848716               39.519227             48004.155650                        705.272415                         576.938619                       29.155788                           573.524686                        509.244144          573.524686               [31 29 16  3 13 23]              [3 0 2 1 0 3]  ['2016-12-01' '2017-08-31' '2018-05-06' '2018-10-10' '2018-12-18'\\n '2019-05-03']  ['2017-08-31' '2018-05-06' '2018-10-10' '2018-12-18' '2019-05-03'\\n '2019-11-29']"
      ],
      "text/html": "<div>\n<style scoped>\n    .dataframe tbody tr th:only-of-type {\n        vertical-align: middle;\n    }\n\n    .dataframe tbody tr th {\n        vertical-align: top;\n    }\n\n    .dataframe thead th {\n        text-align: right;\n    }\n</style>\n<table border=\"1\" class=\"dataframe\">\n  <thead>\n    <tr style=\"text-align: right;\">\n      <th></th>\n      <th>Unnamed: 0</th>\n      <th>Execution</th>\n      <th>Variation</th>\n      <th>Solution</th>\n      <th>Total throughput [kg]</th>\n      <th>Max total backlog [kg]</th>\n      <th>Mean total backlog [kg]</th>\n      <th>std dev total backlog [kg]</th>\n      <th>Median total backlog [kg]</th>\n      <th>Min total backlog [kg]</th>\n      <th>P(total backlog ≤ 0 kg)</th>\n      <th>Max total inventory deficit [kg]</th>\n      <th>Mean total inventory deficit [kg]</th>\n      <th>std dev inventory deficit [kg]</th>\n      <th>Median total inventory deficit [kg]</th>\n      <th>Min total inventory deficit [kg]</th>\n      <th>Total Deficit [kg]</th>\n      <th>Batches [un]</th>\n      <th>Product label</th>\n      <th>Start of USP [date]</th>\n      <th>End of DSP [date]</th>\n    </tr>\n  </thead>\n  <tbody>\n    <tr>\n      <th>0</th>\n      <td>0</td>\n      <td>Article</td>\n      <td>Article</td>\n      <td>X</td>\n      <td>539.3</td>\n      <td>8.200000</td>\n      <td>0.200000</td>\n      <td>0.600000</td>\n      <td>0.000000</td>\n      <td>0.000000</td>\n      <td>0.820000</td>\n      <td>683.400000</td>\n      <td>432.600000</td>\n      <td>58.600000</td>\n      <td>424.400000</td>\n      <td>259.400000</td>\n      <td>NaN</td>\n      <td>[15 10 29 3 15 11 15 6 2 2 2 10]</td>\n      <td>[3 2 0 1 3 2 1 3 2 1 2 3]</td>\n      <td>NaN</td>\n      <td>NaN</td>\n    </tr>\n    <tr>\n      <th>1</th>\n      <td>1</td>\n      <td>Article</td>\n      <td>Article</td>\n      <td>Y</td>\n      <td>601.5</td>\n      <td>16.000000</td>\n      <td>7.100000</td>\n      <td>4.300000</td>\n      <td>0.000000</td>\n      <td>0.000000</td>\n      <td>0.500000</td>\n      <td>786.000000</td>\n      <td>558.600000</td>\n      <td>59.000000</td>\n      <td>551.700000</td>\n      <td>355.600000</td>\n      <td>NaN</td>\n      <td>[12 13 24 18 5 19 9 30]</td>\n      <td>[3 2 0 3 1 0 2 3]</td>\n      <td>NaN</td>\n      <td>NaN</td>\n    </tr>\n    <tr>\n      <th>2</th>\n      <td>0</td>\n      <td>0</td>\n      <td>front_nsga,tour_vio,rein_vio,vio_back,calc_montecarlo,100,1000,2,0.11,(0.04, 0.61, 0.77, 0.47)</td>\n      <td>X</td>\n      <td>511.5</td>\n      <td>61.824706</td>\n      <td>48.108472</td>\n      <td>3.228153</td>\n      <td>47.901164</td>\n      <td>37.409326</td>\n      <td>48108.471968</td>\n      <td>679.473248</td>\n      <td>565.562458</td>\n      <td>27.288181</td>\n      <td>561.125962</td>\n      <td>497.369182</td>\n      <td>561.125962</td>\n      <td>[30 33 16  3 12 20]</td>\n      <td>[3 0 2 1 0 3]</td>\n      <td>['2016-12-01' '2017-08-24' '2018-05-27' '2018-10-31' '2019-01-08'\\n '2019-05-17']</td>\n      <td>['2017-08-24' '2018-05-27' '2018-10-31' '2019-01-08' '2019-05-17'\\n '2019-11-29']</td>\n    </tr>\n    <tr>\n      <th>3</th>\n      <td>1</td>\n      <td>0</td>\n      <td>front_nsga,tour_vio,rein_vio,vio_back,calc_montecarlo,100,1000,2,0.11,(0.04, 0.61, 0.77, 0.47)</td>\n      <td>Y</td>\n      <td>524.2</td>\n      <td>61.349786</td>\n      <td>48.004156</td>\n      <td>3.038205</td>\n      <td>47.848716</td>\n      <td>39.519227</td>\n      <td>48004.155650</td>\n      <td>705.272415</td>\n      <td>576.938619</td>\n      <td>29.155788</td>\n      <td>573.524686</td>\n      <td>509.244144</td>\n      <td>573.524686</td>\n      <td>[31 29 16  3 13 23]</td>\n      <td>[3 0 2 1 0 3]</td>\n      <td>['2016-12-01' '2017-08-31' '2018-05-06' '2018-10-10' '2018-12-18'\\n '2019-05-03']</td>\n      <td>['2017-08-31' '2018-05-06' '2018-10-10' '2018-12-18' '2019-05-03'\\n '2019-11-29']</td>\n    </tr>\n  </tbody>\n</table>\n</div>"
     },
     "metadata": {},
     "execution_count": 48
    }
   ],
   "source": [
    "name=\"18-18\"\n",
    "result=pd.read_csv(root_path_analysis+name+'.csv')# Import from csv\n",
    "result"
   ]
  },
  {
   "source": [
    "1. Attributes analysis\n",
    "    - OK 'Total throughput [kg]',\n",
    "    - 'Max total backlog [kg]', \n",
    "        - Potencialmente alto\n",
    "    - 'Mean total backlog [kg]', \n",
    "    - 'std dev total backlog [kg]', \n",
    "    - 'Median total backlog [kg]', \n",
    "        - Valores altos, preciso de uma estrategia para reduzir o backlog.\n",
    "            - Pode ser devido a minha reinversao de valores\n",
    "            - Different backlog calculus tests\n",
    "                - Test Contar cumulativamente as violacoes em todas as simulacoes de Monte como np.sum(np.median(distribution_sums_backlog) > 0),Backlog violations, para count_backlog_violations_j adds if is greater than 0\n",
    "                    - It did not worked, results are similar\n",
    "                - Test Count the number of month violations per simulation count_backlog_violations_j += np.sum(backlog_j>0), instead of counting 1 in case any violation happen.\n",
    "                    - It did not worked, backlog even increased\n",
    "                - Test Count a violation if median of a backlog_j>0: if np.median(backlog_j)>0: count_backlog_violations_j += 1\n",
    "                    - Fail, backlog keep high\n",
    "                - Test  Count a violation if median of a backlog_j>0: if np.median(backlog_j)>0: count_backlog_violations_j += 1 but higher number of Monte Carlo\n",
    "                    - Did not worked backlog reached values much higher\n",
    "                - Test Instead of count use the actual median of the sum of backlogs\n",
    "                    - Did not work, perhaps the problem is in my consolidation of population and not actually in the calculation.\n",
    "    - 'Min total backlog [kg]',\n",
    "        - High values\n",
    "    - 'P(total backlog ≤ 0 kg)', \n",
    "        - Perhaps the problem is given the inversion that I make\n",
    "    - OK 'Max total inventory deficit [kg]', \n",
    "    - OK 'Mean total inventory deficit [kg]', \n",
    "    - OK 'std dev inventory deficit [kg]', \n",
    "    - OK 'Median total inventory deficit [kg]', \n",
    "    - OK 'Min total inventory deficit [kg]', \n",
    "    - 'Total Deficit [kg]', \n",
    "    - 'Batches [un]', \n",
    "    - 'Product label', \n",
    "    - 'Start of USP [date]', \n",
    "    - 'End of DSP [date]']"
   ],
   "cell_type": "markdown",
   "metadata": {}
  },
  {
   "cell_type": "code",
   "execution_count": 28,
   "metadata": {},
   "outputs": [
    {
     "output_type": "execute_result",
     "data": {
      "text/plain": [
       "   Unnamed: 0              Batches       Products                   Objectives\n",
       "0           0  [31 32 16  3 12 20]  [3 0 2 1 0 3]  [513.9        561.67658134]\n",
       "1           1  [31 29 16  3 13 23]  [3 0 2 1 0 3]  [524.2        573.52468595]\n",
       "2           2  [31 32 16  3 12 21]  [3 0 2 1 0 3]  [519.4        565.36045131]\n",
       "3           3  [30 33 16  3 12 20]  [3 0 2 1 0 3]  [511.5        561.12596216]"
      ],
      "text/html": "<div>\n<style scoped>\n    .dataframe tbody tr th:only-of-type {\n        vertical-align: middle;\n    }\n\n    .dataframe tbody tr th {\n        vertical-align: top;\n    }\n\n    .dataframe thead th {\n        text-align: right;\n    }\n</style>\n<table border=\"1\" class=\"dataframe\">\n  <thead>\n    <tr style=\"text-align: right;\">\n      <th></th>\n      <th>Unnamed: 0</th>\n      <th>Batches</th>\n      <th>Products</th>\n      <th>Objectives</th>\n    </tr>\n  </thead>\n  <tbody>\n    <tr>\n      <th>0</th>\n      <td>0</td>\n      <td>[31 32 16  3 12 20]</td>\n      <td>[3 0 2 1 0 3]</td>\n      <td>[513.9        561.67658134]</td>\n    </tr>\n    <tr>\n      <th>1</th>\n      <td>1</td>\n      <td>[31 29 16  3 13 23]</td>\n      <td>[3 0 2 1 0 3]</td>\n      <td>[524.2        573.52468595]</td>\n    </tr>\n    <tr>\n      <th>2</th>\n      <td>2</td>\n      <td>[31 32 16  3 12 21]</td>\n      <td>[3 0 2 1 0 3]</td>\n      <td>[519.4        565.36045131]</td>\n    </tr>\n    <tr>\n      <th>3</th>\n      <td>3</td>\n      <td>[30 33 16  3 12 20]</td>\n      <td>[3 0 2 1 0 3]</td>\n      <td>[511.5        561.12596216]</td>\n    </tr>\n  </tbody>\n</table>\n</div>"
     },
     "metadata": {},
     "execution_count": 28
    }
   ],
   "source": [
    "results=pd.read_csv(root_path_analysis+name+\"solutions.csv\")# Import from csv\n",
    "results"
   ]
  },
  {
   "cell_type": "code",
   "execution_count": null,
   "metadata": {},
   "outputs": [],
   "source": [
    "### 18/1 1h\n",
    "- 18/1 17\n",
    "    - For each MC simulation the backlog and\n",
    "        - Monte Carlo simulations=100\n",
    "        - 1 Executions, with 1000 generations\n",
    "        - No solution without violations, passing all in front 0\n",
    "            - Violation is the median of the sum of backlogs per simulations\n",
    "            - P backlog is the Probability.\n",
    "                - Total time  1675.0111848000001 Per execution 1675.0111848000001"
   ]
  },
  {
   "cell_type": "code",
   "execution_count": 51,
   "metadata": {},
   "outputs": [
    {
     "output_type": "execute_result",
     "data": {
      "text/plain": [
       "   Unnamed: 0 Execution                                                                                       Variation Solution  Total throughput [kg]  Max total backlog [kg]  Mean total backlog [kg]  std dev total backlog [kg]  Median total backlog [kg]  Min total backlog [kg]  P(total backlog ≤ 0 kg)  Max total inventory deficit [kg]  Mean total inventory deficit [kg]  std dev inventory deficit [kg]  Median total inventory deficit [kg]  Min total inventory deficit [kg]  Total Deficit [kg]                      Batches [un]              Product label                                                                             Start of USP [date]                                                                               End of DSP [date]\n",
       "0           0   Article                                                                                         Article        X                  539.3                8.200000                 0.200000                    0.600000                   0.000000                0.000000                     0.82                        683.400000                         432.600000                       58.600000                           424.400000                        259.400000                 NaN  [15 10 29 3 15 11 15 6 2 2 2 10]  [3 2 0 1 3 2 1 3 2 1 2 3]                                                                                             NaN                                                                                             NaN\n",
       "1           1   Article                                                                                         Article        Y                  601.5               16.000000                 7.100000                    4.300000                   0.000000                0.000000                     0.50                        786.000000                         558.600000                       59.000000                           551.700000                        355.600000                 NaN           [12 13 24 18 5 19 9 30]          [3 2 0 3 1 0 2 3]                                                                                             NaN                                                                                             NaN\n",
       "2           0         0  front_nsga,tour_vio,rein_vio,vio_back,calc_montecarlo,100,1000,2,0.11,(0.04, 0.61, 0.77, 0.47)        X                  461.6               41.861155                35.532347                    2.433653                  35.091078               31.213757                     0.00                        687.323710                         591.391954                       31.983948                           587.082114                        514.598901          587.082114            [21 16 31 12  7  7  8]            [3 2 0 3 2 0 1]  ['2016-12-01' '2017-06-22' '2017-11-26' '2018-08-15' '2018-12-26'\\n '2019-03-30' '2019-07-02']  ['2017-06-22' '2017-11-26' '2018-08-15' '2018-12-26' '2019-03-30'\\n '2019-07-02' '2019-11-03']\n",
       "3           1         0  front_nsga,tour_vio,rein_vio,vio_back,calc_montecarlo,100,1000,2,0.11,(0.04, 0.61, 0.77, 0.47)        Y                  470.8               44.223134                35.783537                    2.391289                  35.499388               30.840925                     0.00                        712.101305                         622.197185                       36.034471                           620.074496                        549.307411          620.074496            [21 16 31 14  6  6  9]            [3 2 0 3 2 0 1]  ['2016-12-01' '2017-06-22' '2017-11-26' '2018-08-15' '2019-01-09'\\n '2019-04-06' '2019-07-02']  ['2017-06-22' '2017-11-26' '2018-08-15' '2019-01-09' '2019-04-06'\\n '2019-07-02' '2019-11-14']"
      ],
      "text/html": "<div>\n<style scoped>\n    .dataframe tbody tr th:only-of-type {\n        vertical-align: middle;\n    }\n\n    .dataframe tbody tr th {\n        vertical-align: top;\n    }\n\n    .dataframe thead th {\n        text-align: right;\n    }\n</style>\n<table border=\"1\" class=\"dataframe\">\n  <thead>\n    <tr style=\"text-align: right;\">\n      <th></th>\n      <th>Unnamed: 0</th>\n      <th>Execution</th>\n      <th>Variation</th>\n      <th>Solution</th>\n      <th>Total throughput [kg]</th>\n      <th>Max total backlog [kg]</th>\n      <th>Mean total backlog [kg]</th>\n      <th>std dev total backlog [kg]</th>\n      <th>Median total backlog [kg]</th>\n      <th>Min total backlog [kg]</th>\n      <th>P(total backlog ≤ 0 kg)</th>\n      <th>Max total inventory deficit [kg]</th>\n      <th>Mean total inventory deficit [kg]</th>\n      <th>std dev inventory deficit [kg]</th>\n      <th>Median total inventory deficit [kg]</th>\n      <th>Min total inventory deficit [kg]</th>\n      <th>Total Deficit [kg]</th>\n      <th>Batches [un]</th>\n      <th>Product label</th>\n      <th>Start of USP [date]</th>\n      <th>End of DSP [date]</th>\n    </tr>\n  </thead>\n  <tbody>\n    <tr>\n      <th>0</th>\n      <td>0</td>\n      <td>Article</td>\n      <td>Article</td>\n      <td>X</td>\n      <td>539.3</td>\n      <td>8.200000</td>\n      <td>0.200000</td>\n      <td>0.600000</td>\n      <td>0.000000</td>\n      <td>0.000000</td>\n      <td>0.82</td>\n      <td>683.400000</td>\n      <td>432.600000</td>\n      <td>58.600000</td>\n      <td>424.400000</td>\n      <td>259.400000</td>\n      <td>NaN</td>\n      <td>[15 10 29 3 15 11 15 6 2 2 2 10]</td>\n      <td>[3 2 0 1 3 2 1 3 2 1 2 3]</td>\n      <td>NaN</td>\n      <td>NaN</td>\n    </tr>\n    <tr>\n      <th>1</th>\n      <td>1</td>\n      <td>Article</td>\n      <td>Article</td>\n      <td>Y</td>\n      <td>601.5</td>\n      <td>16.000000</td>\n      <td>7.100000</td>\n      <td>4.300000</td>\n      <td>0.000000</td>\n      <td>0.000000</td>\n      <td>0.50</td>\n      <td>786.000000</td>\n      <td>558.600000</td>\n      <td>59.000000</td>\n      <td>551.700000</td>\n      <td>355.600000</td>\n      <td>NaN</td>\n      <td>[12 13 24 18 5 19 9 30]</td>\n      <td>[3 2 0 3 1 0 2 3]</td>\n      <td>NaN</td>\n      <td>NaN</td>\n    </tr>\n    <tr>\n      <th>2</th>\n      <td>0</td>\n      <td>0</td>\n      <td>front_nsga,tour_vio,rein_vio,vio_back,calc_montecarlo,100,1000,2,0.11,(0.04, 0.61, 0.77, 0.47)</td>\n      <td>X</td>\n      <td>461.6</td>\n      <td>41.861155</td>\n      <td>35.532347</td>\n      <td>2.433653</td>\n      <td>35.091078</td>\n      <td>31.213757</td>\n      <td>0.00</td>\n      <td>687.323710</td>\n      <td>591.391954</td>\n      <td>31.983948</td>\n      <td>587.082114</td>\n      <td>514.598901</td>\n      <td>587.082114</td>\n      <td>[21 16 31 12  7  7  8]</td>\n      <td>[3 2 0 3 2 0 1]</td>\n      <td>['2016-12-01' '2017-06-22' '2017-11-26' '2018-08-15' '2018-12-26'\\n '2019-03-30' '2019-07-02']</td>\n      <td>['2017-06-22' '2017-11-26' '2018-08-15' '2018-12-26' '2019-03-30'\\n '2019-07-02' '2019-11-03']</td>\n    </tr>\n    <tr>\n      <th>3</th>\n      <td>1</td>\n      <td>0</td>\n      <td>front_nsga,tour_vio,rein_vio,vio_back,calc_montecarlo,100,1000,2,0.11,(0.04, 0.61, 0.77, 0.47)</td>\n      <td>Y</td>\n      <td>470.8</td>\n      <td>44.223134</td>\n      <td>35.783537</td>\n      <td>2.391289</td>\n      <td>35.499388</td>\n      <td>30.840925</td>\n      <td>0.00</td>\n      <td>712.101305</td>\n      <td>622.197185</td>\n      <td>36.034471</td>\n      <td>620.074496</td>\n      <td>549.307411</td>\n      <td>620.074496</td>\n      <td>[21 16 31 14  6  6  9]</td>\n      <td>[3 2 0 3 2 0 1]</td>\n      <td>['2016-12-01' '2017-06-22' '2017-11-26' '2018-08-15' '2019-01-09'\\n '2019-04-06' '2019-07-02']</td>\n      <td>['2017-06-22' '2017-11-26' '2018-08-15' '2019-01-09' '2019-04-06'\\n '2019-07-02' '2019-11-14']</td>\n    </tr>\n  </tbody>\n</table>\n</div>"
     },
     "metadata": {},
     "execution_count": 51
    }
   ],
   "source": [
    "name=\"18-117\"\n",
    "result=pd.read_csv(root_path_analysis+name+'.csv')# Import from csv\n",
    "result"
   ]
  },
  {
   "source": [
    "1. Attributes analysis\n",
    "    - OK 'Total throughput [kg]',\n",
    "    - 'Max total backlog [kg]', \n",
    "        - Potencialmente alto\n",
    "    - 'Mean total backlog [kg]', \n",
    "    - 'std dev total backlog [kg]', \n",
    "    - 'Median total backlog [kg]', \n",
    "        - Valores altos, preciso de uma estrategia para reduzir o backlog.\n",
    "            - Pode ser devido a minha reinversao de valores\n",
    "            - Different backlog calculus tests\n",
    "                - Test Contar cumulativamente as violacoes em todas as simulacoes de Monte como np.sum(np.median(distribution_sums_backlog) > 0),Backlog violations, para count_backlog_violations_j adds if is greater than 0\n",
    "                    - It did not worked, results are similar\n",
    "                - Test Count the number of month violations per simulation count_backlog_violations_j += np.sum(backlog_j>0), instead of counting 1 in case any violation happen.\n",
    "                    - It did not worked, backlog even increased\n",
    "                - Test Count a violation if median of a backlog_j>0: if np.median(backlog_j)>0: count_backlog_violations_j += 1\n",
    "                    - Fail, backlog keep high\n",
    "                - Test  Count a violation if median of a backlog_j>0: if np.median(backlog_j)>0: count_backlog_violations_j += 1 but higher number of Monte Carlo\n",
    "                    - Did not worked backlog reached values much higher\n",
    "                - Test Instead of count use the actual median of the sum of backlogs\n",
    "                    - Did not work, perhaps the problem is in my consolidation of population and not actually in the calculation.\n",
    "    - 'Min total backlog [kg]',\n",
    "        - High values\n",
    "    - 'P(total backlog ≤ 0 kg)', \n",
    "        - This is the Probability, fixed now\n",
    "    - OK 'Max total inventory deficit [kg]', \n",
    "    - OK 'Mean total inventory deficit [kg]', \n",
    "    - OK 'std dev inventory deficit [kg]', \n",
    "    - OK 'Median total inventory deficit [kg]', \n",
    "    - OK 'Min total inventory deficit [kg]', \n",
    "    - 'Total Deficit [kg]', \n",
    "    - 'Batches [un]', \n",
    "    - 'Product label', \n",
    "    - 'Start of USP [date]', \n",
    "    - 'End of DSP [date]']"
   ],
   "cell_type": "markdown",
   "metadata": {}
  },
  {
   "cell_type": "code",
   "execution_count": 52,
   "metadata": {},
   "outputs": [
    {
     "output_type": "execute_result",
     "data": {
      "text/plain": [
       "   Unnamed: 0                 Batches         Products                   Objectives\n",
       "0           0  [21 16 31 12  7  7  8]  [3 2 0 3 2 0 1]  [461.6        587.08211389]\n",
       "1           1  [21 16 32 12  6  6  9]  [3 2 0 3 2 0 1]  [462.9        594.16492768]\n",
       "2           2  [21 16 32 12  7  6  9]  [3 2 0 3 2 0 1]  [467.8        603.42444056]\n",
       "3           3  [21 16 31 13  7  6  9]  [3 2 0 3 2 0 1]  [470.2        608.04883301]\n",
       "4           4  [21 16 31 14  6  6  9]  [3 2 0 3 2 0 1]  [470.8        620.07449594]"
      ],
      "text/html": "<div>\n<style scoped>\n    .dataframe tbody tr th:only-of-type {\n        vertical-align: middle;\n    }\n\n    .dataframe tbody tr th {\n        vertical-align: top;\n    }\n\n    .dataframe thead th {\n        text-align: right;\n    }\n</style>\n<table border=\"1\" class=\"dataframe\">\n  <thead>\n    <tr style=\"text-align: right;\">\n      <th></th>\n      <th>Unnamed: 0</th>\n      <th>Batches</th>\n      <th>Products</th>\n      <th>Objectives</th>\n    </tr>\n  </thead>\n  <tbody>\n    <tr>\n      <th>0</th>\n      <td>0</td>\n      <td>[21 16 31 12  7  7  8]</td>\n      <td>[3 2 0 3 2 0 1]</td>\n      <td>[461.6        587.08211389]</td>\n    </tr>\n    <tr>\n      <th>1</th>\n      <td>1</td>\n      <td>[21 16 32 12  6  6  9]</td>\n      <td>[3 2 0 3 2 0 1]</td>\n      <td>[462.9        594.16492768]</td>\n    </tr>\n    <tr>\n      <th>2</th>\n      <td>2</td>\n      <td>[21 16 32 12  7  6  9]</td>\n      <td>[3 2 0 3 2 0 1]</td>\n      <td>[467.8        603.42444056]</td>\n    </tr>\n    <tr>\n      <th>3</th>\n      <td>3</td>\n      <td>[21 16 31 13  7  6  9]</td>\n      <td>[3 2 0 3 2 0 1]</td>\n      <td>[470.2        608.04883301]</td>\n    </tr>\n    <tr>\n      <th>4</th>\n      <td>4</td>\n      <td>[21 16 31 14  6  6  9]</td>\n      <td>[3 2 0 3 2 0 1]</td>\n      <td>[470.8        620.07449594]</td>\n    </tr>\n  </tbody>\n</table>\n</div>"
     },
     "metadata": {},
     "execution_count": 52
    }
   ],
   "source": [
    "results=pd.read_csv(root_path_analysis+name+\"solutions.csv\")# Import from csv\n",
    "results"
   ]
  }
 ]
}