{
 "metadata": {
  "language_info": {
   "codemirror_mode": {
    "name": "ipython",
    "version": 3
   },
   "file_extension": ".py",
   "mimetype": "text/x-python",
   "name": "python",
   "nbconvert_exporter": "python",
   "pygments_lexer": "ipython3",
   "version": "3.8.3-final"
  },
  "orig_nbformat": 2,
  "kernelspec": {
   "name": "python3",
   "display_name": "Python 3.8.3 64-bit ('comp_evol': conda)",
   "metadata": {
    "interpreter": {
     "hash": "e3d2e5b49fca8ece28e8612ddb42da6ec98316623bc11967ddd6e72144cb4ad0"
    }
   }
  }
 },
 "nbformat": 4,
 "nbformat_minor": 2,
 "cells": [
  {
   "source": [
    "# Reproduction of Article\n",
    "1. Steps:\n",
    "    1. Import Data\n",
    "    1. Initial Data Exploration\n",
    "        1. Data Summary Table\n",
    "    1. Comparison with article Data"
   ],
   "cell_type": "markdown",
   "metadata": {}
  },
  {
   "cell_type": "code",
   "execution_count": 2,
   "metadata": {},
   "outputs": [],
   "source": [
    "import pickle\n",
    "import numpy as np\n",
    "import pandas as pd\n",
    "import matplotlib.pyplot as plt\n",
    "import copy\n",
    "import codecs\n",
    "root_path_report=\"C:\\\\Users\\\\Debora\\\\Documents\\\\01_UFU_local\\\\01_comp_evolutiva\\\\05_trabalho3\\\\03_relatorio\\\\springer\\\\tables\\\\\"\n",
    "root_path_data=\"C:\\\\Users\\\\Debora\\\\Documents\\\\01_UFU_local\\\\01_comp_evolutiva\\\\05_trabalho3\\\\01_dados\\\\01_raw\\\\\"\n"
   ]
  },
  {
   "source": [
    "## Parse Data"
   ],
   "cell_type": "markdown",
   "metadata": {}
  },
  {
   "source": [
    "# # Export table to txt for latex\n",
    "# root_path_report = \"C:\\\\Users\\\\debor\\\\Documents\\\\01_UFU_local\\\\01_comp_evolutiva\\\\01_trabalho_1\\\\03_relatorio\\\\template-latex\\\\tables\\\\\"\n",
    "# file_name = \"representacao.txt\"\n",
    "# path = root_path_report + file_name\n",
    "# with codecs.open(path, 'w', 'utf-8') as outfile:\n",
    "#     outfile.write(tabela_df.to_latex(index=False))\n",
    "\n",
    "# Open pickle Exec\n",
    "file_name='v_0_exec.pkl'\n",
    "# file_name='step_v_0step_exec.pkl'\n",
    "path=root_path_data+file_name\n",
    "infile = open(path,'rb')\n",
    "ds_exec= pickle.load(infile)\n",
    "infile.close()\n",
    "\n",
    "# Open pickle dict class object pop\n",
    "file_name='v_0_id.pkl'\n",
    "# file_name='step_v_0_id.pkl'\n",
    "path=root_path_data+file_name\n",
    "infile = open(path,'rb')\n",
    "ds_ind= pickle.load(infile)\n",
    "infile.close()\n",
    "\n",
    "# Unpack Data Execution\n",
    "# values_exec=[]\n",
    "# for key,value in ds_exec.items():\n",
    "#     # headers=[\"Execution\",\"Variant\",\"Hipervolume\",\"Pareto Front\"]\n",
    "#     values_exec.append([key[1],value[0],value[1],value[2]])\n",
    "headers=[\"Execution\",\"Variant\",\"Hipervolume\",\"Pareto Front\"]\n",
    "df_exec=pd.DataFrame(ds_exec,columns=headers)\n",
    "\n",
    "# Unpack Data per Ind\n",
    "# values_ind=[]\n",
    "# for key,value in ds_ind.items():\n",
    "#     # values_ind.append(value)\n",
    "#     values_ind.append(value[0])\n",
    "#     values_ind.append(value[1])\n",
    "# headers=[\"Execution\",\"Variation\",\"Solution\",\"Total throughput [kg]\", \"Max total backlog [kg]\", \"Mean total backlog [kg]\",\"std dev total backlog [kg]\", \"Median total backlog [kg]\",\"Min total backlog [kg]\", \"P(total backlog ≤ 0 kg)\",\"Max total inventory deficit [kg]\", \"Mean total inventory deficit [kg]\",\"std dev inventory deficit [kg]\", \"Median total inventory deficit [kg]\", \"Min total inventory deficit [kg]\",\"Batches [un]\",\"Product label\",\"Start of USP [date]\",\"End of DSP [date]\"]\n",
    "headers=[\"Execution\",\"Variation\",\"Solution\",\"Total throughput [kg]\", \"Max total backlog [kg]\", \"Mean total backlog [kg]\",\"std dev total backlog [kg]\", \"Median total backlog [kg]\",\"Min total backlog [kg]\", \"P(total backlog ≤ 0 kg)\",\"Max total inventory deficit [kg]\", \"Mean total inventory deficit [kg]\",\"std dev inventory deficit [kg]\", \"Median total inventory deficit [kg]\", \"Min total inventory deficit [kg]\",\"Total Deficit [kg]\",\"Batches [un]\",\"Product label\",\"Start of USP [date]\",\"End of DSP [date]\"]\n",
    "\n",
    "df_ind=pd.DataFrame(ds_ind,columns=headers)\n",
    "df_ind"
   ],
   "cell_type": "code",
   "metadata": {},
   "execution_count": 3,
   "outputs": [
    {
     "output_type": "execute_result",
     "data": {
      "text/plain": [
       "   Execution                                          Variation Solution  \\\n",
       "0          0  front_nsga,tour_vio,rein_vio,vio_back,metrics_...        X   \n",
       "1          0  front_nsga,tour_vio,rein_vio,vio_back,metrics_...        Y   \n",
       "\n",
       "   Total throughput [kg]  Max total backlog [kg]  Mean total backlog [kg]  \\\n",
       "0                  660.5               12.457538                 1.439542   \n",
       "1                  660.5               12.457538                 1.439542   \n",
       "\n",
       "   std dev total backlog [kg]  Median total backlog [kg]  \\\n",
       "0                    3.045109                        0.0   \n",
       "1                    3.045109                        0.0   \n",
       "\n",
       "   Min total backlog [kg]  P(total backlog ≤ 0 kg)  \\\n",
       "0                     0.0               207.294049   \n",
       "1                     0.0               207.294049   \n",
       "\n",
       "   Max total inventory deficit [kg]  Mean total inventory deficit [kg]  \\\n",
       "0                              38.5                           8.713757   \n",
       "1                              38.5                           8.713757   \n",
       "\n",
       "   std dev inventory deficit [kg]  Median total inventory deficit [kg]  \\\n",
       "0                       12.256011                                  0.0   \n",
       "1                       12.256011                                  0.0   \n",
       "\n",
       "   Min total inventory deficit [kg]  Total Deficit [kg]  Batches [un]  \\\n",
       "0                               0.0                 0.0  [50, 31, 50]   \n",
       "1                               0.0                 0.0  [50, 31, 50]   \n",
       "\n",
       "  Product label                   Start of USP [date]  \\\n",
       "0     [2, 3, 2]  [2016-12-01, 2018-01-20, 2018-10-31]   \n",
       "1     [2, 3, 2]  [2016-12-01, 2018-01-20, 2018-10-31]   \n",
       "\n",
       "                      End of DSP [date]  \n",
       "0  [2017-12-31, 2018-10-13, 2019-11-30]  \n",
       "1  [2017-12-31, 2018-10-13, 2019-11-30]  "
      ],
      "text/html": "<div>\n<style scoped>\n    .dataframe tbody tr th:only-of-type {\n        vertical-align: middle;\n    }\n\n    .dataframe tbody tr th {\n        vertical-align: top;\n    }\n\n    .dataframe thead th {\n        text-align: right;\n    }\n</style>\n<table border=\"1\" class=\"dataframe\">\n  <thead>\n    <tr style=\"text-align: right;\">\n      <th></th>\n      <th>Execution</th>\n      <th>Variation</th>\n      <th>Solution</th>\n      <th>Total throughput [kg]</th>\n      <th>Max total backlog [kg]</th>\n      <th>Mean total backlog [kg]</th>\n      <th>std dev total backlog [kg]</th>\n      <th>Median total backlog [kg]</th>\n      <th>Min total backlog [kg]</th>\n      <th>P(total backlog ≤ 0 kg)</th>\n      <th>Max total inventory deficit [kg]</th>\n      <th>Mean total inventory deficit [kg]</th>\n      <th>std dev inventory deficit [kg]</th>\n      <th>Median total inventory deficit [kg]</th>\n      <th>Min total inventory deficit [kg]</th>\n      <th>Total Deficit [kg]</th>\n      <th>Batches [un]</th>\n      <th>Product label</th>\n      <th>Start of USP [date]</th>\n      <th>End of DSP [date]</th>\n    </tr>\n  </thead>\n  <tbody>\n    <tr>\n      <th>0</th>\n      <td>0</td>\n      <td>front_nsga,tour_vio,rein_vio,vio_back,metrics_...</td>\n      <td>X</td>\n      <td>660.5</td>\n      <td>12.457538</td>\n      <td>1.439542</td>\n      <td>3.045109</td>\n      <td>0.0</td>\n      <td>0.0</td>\n      <td>207.294049</td>\n      <td>38.5</td>\n      <td>8.713757</td>\n      <td>12.256011</td>\n      <td>0.0</td>\n      <td>0.0</td>\n      <td>0.0</td>\n      <td>[50, 31, 50]</td>\n      <td>[2, 3, 2]</td>\n      <td>[2016-12-01, 2018-01-20, 2018-10-31]</td>\n      <td>[2017-12-31, 2018-10-13, 2019-11-30]</td>\n    </tr>\n    <tr>\n      <th>1</th>\n      <td>0</td>\n      <td>front_nsga,tour_vio,rein_vio,vio_back,metrics_...</td>\n      <td>Y</td>\n      <td>660.5</td>\n      <td>12.457538</td>\n      <td>1.439542</td>\n      <td>3.045109</td>\n      <td>0.0</td>\n      <td>0.0</td>\n      <td>207.294049</td>\n      <td>38.5</td>\n      <td>8.713757</td>\n      <td>12.256011</td>\n      <td>0.0</td>\n      <td>0.0</td>\n      <td>0.0</td>\n      <td>[50, 31, 50]</td>\n      <td>[2, 3, 2]</td>\n      <td>[2016-12-01, 2018-01-20, 2018-10-31]</td>\n      <td>[2017-12-31, 2018-10-13, 2019-11-30]</td>\n    </tr>\n  </tbody>\n</table>\n</div>"
     },
     "metadata": {},
     "execution_count": 3
    }
   ]
  },
  {
   "cell_type": "code",
   "execution_count": 4,
   "metadata": {},
   "outputs": [
    {
     "output_type": "execute_result",
     "data": {
      "text/plain": [
       "  Execution Variation Solution  Total throughput [kg]  Max total backlog [kg]  \\\n",
       "0   Article   Article        X                  539.3                     8.2   \n",
       "1   Article   Article        Y                  601.5                    16.0   \n",
       "\n",
       "   Mean total backlog [kg]  std dev total backlog [kg]  \\\n",
       "0                      0.2                         0.6   \n",
       "1                      7.1                         4.3   \n",
       "\n",
       "   Median total backlog [kg]  Min total backlog [kg]  P(total backlog ≤ 0 kg)  \\\n",
       "0                          0                       0                     0.82   \n",
       "1                          0                       0                     0.50   \n",
       "\n",
       "   Max total inventory deficit [kg]  Mean total inventory deficit [kg]  \\\n",
       "0                             683.4                              432.6   \n",
       "1                             786.0                              558.6   \n",
       "\n",
       "   std dev inventory deficit [kg]  Median total inventory deficit [kg]  \\\n",
       "0                            58.6                                424.4   \n",
       "1                            59.0                                551.7   \n",
       "\n",
       "   Min total inventory deficit [kg]  Total Deficit [kg]  \\\n",
       "0                             259.4                 NaN   \n",
       "1                             355.6                 NaN   \n",
       "\n",
       "                       Batches [un]              Product label  \\\n",
       "0  [15 10 29 3 15 11 15 6 2 2 2 10]  [3 2 0 1 3 2 1 3 2 1 2 3]   \n",
       "1           [12 13 24 18 5 19 9 30]          [3 2 0 3 1 0 2 3]   \n",
       "\n",
       "   Start of USP [date]  End of DSP [date]  \n",
       "0                  NaN                NaN  \n",
       "1                  NaN                NaN  "
      ],
      "text/html": "<div>\n<style scoped>\n    .dataframe tbody tr th:only-of-type {\n        vertical-align: middle;\n    }\n\n    .dataframe tbody tr th {\n        vertical-align: top;\n    }\n\n    .dataframe thead th {\n        text-align: right;\n    }\n</style>\n<table border=\"1\" class=\"dataframe\">\n  <thead>\n    <tr style=\"text-align: right;\">\n      <th></th>\n      <th>Execution</th>\n      <th>Variation</th>\n      <th>Solution</th>\n      <th>Total throughput [kg]</th>\n      <th>Max total backlog [kg]</th>\n      <th>Mean total backlog [kg]</th>\n      <th>std dev total backlog [kg]</th>\n      <th>Median total backlog [kg]</th>\n      <th>Min total backlog [kg]</th>\n      <th>P(total backlog ≤ 0 kg)</th>\n      <th>Max total inventory deficit [kg]</th>\n      <th>Mean total inventory deficit [kg]</th>\n      <th>std dev inventory deficit [kg]</th>\n      <th>Median total inventory deficit [kg]</th>\n      <th>Min total inventory deficit [kg]</th>\n      <th>Total Deficit [kg]</th>\n      <th>Batches [un]</th>\n      <th>Product label</th>\n      <th>Start of USP [date]</th>\n      <th>End of DSP [date]</th>\n    </tr>\n  </thead>\n  <tbody>\n    <tr>\n      <th>0</th>\n      <td>Article</td>\n      <td>Article</td>\n      <td>X</td>\n      <td>539.3</td>\n      <td>8.2</td>\n      <td>0.2</td>\n      <td>0.6</td>\n      <td>0</td>\n      <td>0</td>\n      <td>0.82</td>\n      <td>683.4</td>\n      <td>432.6</td>\n      <td>58.6</td>\n      <td>424.4</td>\n      <td>259.4</td>\n      <td>NaN</td>\n      <td>[15 10 29 3 15 11 15 6 2 2 2 10]</td>\n      <td>[3 2 0 1 3 2 1 3 2 1 2 3]</td>\n      <td>NaN</td>\n      <td>NaN</td>\n    </tr>\n    <tr>\n      <th>1</th>\n      <td>Article</td>\n      <td>Article</td>\n      <td>Y</td>\n      <td>601.5</td>\n      <td>16.0</td>\n      <td>7.1</td>\n      <td>4.3</td>\n      <td>0</td>\n      <td>0</td>\n      <td>0.50</td>\n      <td>786.0</td>\n      <td>558.6</td>\n      <td>59.0</td>\n      <td>551.7</td>\n      <td>355.6</td>\n      <td>NaN</td>\n      <td>[12 13 24 18 5 19 9 30]</td>\n      <td>[3 2 0 3 1 0 2 3]</td>\n      <td>NaN</td>\n      <td>NaN</td>\n    </tr>\n  </tbody>\n</table>\n</div>"
     },
     "metadata": {},
     "execution_count": 4
    }
   ],
   "source": [
    "# Import from csv\n",
    "file_name='df_ind_base.csv'\n",
    "path=root_path_data+file_name\n",
    "df_ind_base=pd.read_csv(path)\n",
    "df_ind_base"
   ]
  },
  {
   "cell_type": "code",
   "execution_count": 5,
   "metadata": {},
   "outputs": [
    {
     "output_type": "execute_result",
     "data": {
      "text/plain": [
       "  Execution                                          Variation Solution  \\\n",
       "0   Article                                            Article        X   \n",
       "1   Article                                            Article        Y   \n",
       "0         0  front_nsga,tour_vio,rein_vio,vio_back,metrics_...        X   \n",
       "1         0  front_nsga,tour_vio,rein_vio,vio_back,metrics_...        Y   \n",
       "\n",
       "   Total throughput [kg]  Max total backlog [kg]  Mean total backlog [kg]  \\\n",
       "0                  539.3                8.200000                 0.200000   \n",
       "1                  601.5               16.000000                 7.100000   \n",
       "0                  660.5               12.457538                 1.439542   \n",
       "1                  660.5               12.457538                 1.439542   \n",
       "\n",
       "   std dev total backlog [kg]  Median total backlog [kg]  \\\n",
       "0                    0.600000                        0.0   \n",
       "1                    4.300000                        0.0   \n",
       "0                    3.045109                        0.0   \n",
       "1                    3.045109                        0.0   \n",
       "\n",
       "   Min total backlog [kg]  P(total backlog ≤ 0 kg)  \\\n",
       "0                     0.0                 0.820000   \n",
       "1                     0.0                 0.500000   \n",
       "0                     0.0               207.294049   \n",
       "1                     0.0               207.294049   \n",
       "\n",
       "   Max total inventory deficit [kg]  Mean total inventory deficit [kg]  \\\n",
       "0                             683.4                         432.600000   \n",
       "1                             786.0                         558.600000   \n",
       "0                              38.5                           8.713757   \n",
       "1                              38.5                           8.713757   \n",
       "\n",
       "   std dev inventory deficit [kg]  Median total inventory deficit [kg]  \\\n",
       "0                       58.600000                                424.4   \n",
       "1                       59.000000                                551.7   \n",
       "0                       12.256011                                  0.0   \n",
       "1                       12.256011                                  0.0   \n",
       "\n",
       "   Min total inventory deficit [kg]  Total Deficit [kg]  \\\n",
       "0                             259.4                 NaN   \n",
       "1                             355.6                 NaN   \n",
       "0                               0.0                 0.0   \n",
       "1                               0.0                 0.0   \n",
       "\n",
       "                       Batches [un]              Product label  \\\n",
       "0  [15 10 29 3 15 11 15 6 2 2 2 10]  [3 2 0 1 3 2 1 3 2 1 2 3]   \n",
       "1           [12 13 24 18 5 19 9 30]          [3 2 0 3 1 0 2 3]   \n",
       "0                      [50, 31, 50]                  [2, 3, 2]   \n",
       "1                      [50, 31, 50]                  [2, 3, 2]   \n",
       "\n",
       "                    Start of USP [date]                     End of DSP [date]  \n",
       "0                                   NaN                                   NaN  \n",
       "1                                   NaN                                   NaN  \n",
       "0  [2016-12-01, 2018-01-20, 2018-10-31]  [2017-12-31, 2018-10-13, 2019-11-30]  \n",
       "1  [2016-12-01, 2018-01-20, 2018-10-31]  [2017-12-31, 2018-10-13, 2019-11-30]  "
      ],
      "text/html": "<div>\n<style scoped>\n    .dataframe tbody tr th:only-of-type {\n        vertical-align: middle;\n    }\n\n    .dataframe tbody tr th {\n        vertical-align: top;\n    }\n\n    .dataframe thead th {\n        text-align: right;\n    }\n</style>\n<table border=\"1\" class=\"dataframe\">\n  <thead>\n    <tr style=\"text-align: right;\">\n      <th></th>\n      <th>Execution</th>\n      <th>Variation</th>\n      <th>Solution</th>\n      <th>Total throughput [kg]</th>\n      <th>Max total backlog [kg]</th>\n      <th>Mean total backlog [kg]</th>\n      <th>std dev total backlog [kg]</th>\n      <th>Median total backlog [kg]</th>\n      <th>Min total backlog [kg]</th>\n      <th>P(total backlog ≤ 0 kg)</th>\n      <th>Max total inventory deficit [kg]</th>\n      <th>Mean total inventory deficit [kg]</th>\n      <th>std dev inventory deficit [kg]</th>\n      <th>Median total inventory deficit [kg]</th>\n      <th>Min total inventory deficit [kg]</th>\n      <th>Total Deficit [kg]</th>\n      <th>Batches [un]</th>\n      <th>Product label</th>\n      <th>Start of USP [date]</th>\n      <th>End of DSP [date]</th>\n    </tr>\n  </thead>\n  <tbody>\n    <tr>\n      <th>0</th>\n      <td>Article</td>\n      <td>Article</td>\n      <td>X</td>\n      <td>539.3</td>\n      <td>8.200000</td>\n      <td>0.200000</td>\n      <td>0.600000</td>\n      <td>0.0</td>\n      <td>0.0</td>\n      <td>0.820000</td>\n      <td>683.4</td>\n      <td>432.600000</td>\n      <td>58.600000</td>\n      <td>424.4</td>\n      <td>259.4</td>\n      <td>NaN</td>\n      <td>[15 10 29 3 15 11 15 6 2 2 2 10]</td>\n      <td>[3 2 0 1 3 2 1 3 2 1 2 3]</td>\n      <td>NaN</td>\n      <td>NaN</td>\n    </tr>\n    <tr>\n      <th>1</th>\n      <td>Article</td>\n      <td>Article</td>\n      <td>Y</td>\n      <td>601.5</td>\n      <td>16.000000</td>\n      <td>7.100000</td>\n      <td>4.300000</td>\n      <td>0.0</td>\n      <td>0.0</td>\n      <td>0.500000</td>\n      <td>786.0</td>\n      <td>558.600000</td>\n      <td>59.000000</td>\n      <td>551.7</td>\n      <td>355.6</td>\n      <td>NaN</td>\n      <td>[12 13 24 18 5 19 9 30]</td>\n      <td>[3 2 0 3 1 0 2 3]</td>\n      <td>NaN</td>\n      <td>NaN</td>\n    </tr>\n    <tr>\n      <th>0</th>\n      <td>0</td>\n      <td>front_nsga,tour_vio,rein_vio,vio_back,metrics_...</td>\n      <td>X</td>\n      <td>660.5</td>\n      <td>12.457538</td>\n      <td>1.439542</td>\n      <td>3.045109</td>\n      <td>0.0</td>\n      <td>0.0</td>\n      <td>207.294049</td>\n      <td>38.5</td>\n      <td>8.713757</td>\n      <td>12.256011</td>\n      <td>0.0</td>\n      <td>0.0</td>\n      <td>0.0</td>\n      <td>[50, 31, 50]</td>\n      <td>[2, 3, 2]</td>\n      <td>[2016-12-01, 2018-01-20, 2018-10-31]</td>\n      <td>[2017-12-31, 2018-10-13, 2019-11-30]</td>\n    </tr>\n    <tr>\n      <th>1</th>\n      <td>0</td>\n      <td>front_nsga,tour_vio,rein_vio,vio_back,metrics_...</td>\n      <td>Y</td>\n      <td>660.5</td>\n      <td>12.457538</td>\n      <td>1.439542</td>\n      <td>3.045109</td>\n      <td>0.0</td>\n      <td>0.0</td>\n      <td>207.294049</td>\n      <td>38.5</td>\n      <td>8.713757</td>\n      <td>12.256011</td>\n      <td>0.0</td>\n      <td>0.0</td>\n      <td>0.0</td>\n      <td>[50, 31, 50]</td>\n      <td>[2, 3, 2]</td>\n      <td>[2016-12-01, 2018-01-20, 2018-10-31]</td>\n      <td>[2017-12-31, 2018-10-13, 2019-11-30]</td>\n    </tr>\n  </tbody>\n</table>\n</div>"
     },
     "metadata": {},
     "execution_count": 5
    }
   ],
   "source": [
    "df_ind_w=pd.concat([df_ind_base,df_ind])\n",
    "df_ind_w"
   ]
  }
 ]
}