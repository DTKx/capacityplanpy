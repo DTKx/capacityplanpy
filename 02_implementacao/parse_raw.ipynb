{
 "metadata": {
  "language_info": {
   "codemirror_mode": {
    "name": "ipython",
    "version": 3
   },
   "file_extension": ".py",
   "mimetype": "text/x-python",
   "name": "python",
   "nbconvert_exporter": "python",
   "pygments_lexer": "ipython3",
   "version": "3.8.3-final"
  },
  "orig_nbformat": 2,
  "kernelspec": {
   "name": "python3",
   "display_name": "Python 3.8.3 64-bit ('comp_evol': conda)",
   "metadata": {
    "interpreter": {
     "hash": "e3d2e5b49fca8ece28e8612ddb42da6ec98316623bc11967ddd6e72144cb4ad0"
    }
   }
  }
 },
 "nbformat": 4,
 "nbformat_minor": 2,
 "cells": [
  {
   "source": [
    "# Reproduction of Article\n",
    "1. Steps:\n",
    "    1. Import Data\n",
    "    1. Initial Data Exploration\n",
    "        1. Data Summary Table\n",
    "    1. Comparison with article Data"
   ],
   "cell_type": "markdown",
   "metadata": {}
  },
  {
   "cell_type": "code",
   "execution_count": 1,
   "metadata": {},
   "outputs": [],
   "source": [
    "import pickle\n",
    "import numpy as np\n",
    "import pandas as pd\n",
    "import matplotlib.pyplot as plt\n",
    "import copy\n",
    "import codecs\n",
    "root_path_report=\"C:\\\\Users\\\\Debora\\\\Documents\\\\01_UFU_local\\\\01_comp_evolutiva\\\\05_trabalho3\\\\03_relatorio\\\\springer\\\\tables\\\\\"\n",
    "root_path_data=\"C:\\\\Users\\\\Debora\\\\Documents\\\\01_UFU_local\\\\01_comp_evolutiva\\\\05_trabalho3\\\\01_dados\\\\01_raw\\\\\"\n"
   ]
  },
  {
   "source": [
    "## Parse Data"
   ],
   "cell_type": "markdown",
   "metadata": {}
  },
  {
   "source": [
    "# # Export table to txt for latex\n",
    "# root_path_report = \"C:\\\\Users\\\\debor\\\\Documents\\\\01_UFU_local\\\\01_comp_evolutiva\\\\01_trabalho_1\\\\03_relatorio\\\\template-latex\\\\tables\\\\\"\n",
    "# file_name = \"representacao.txt\"\n",
    "# path = root_path_report + file_name\n",
    "# with codecs.open(path, 'w', 'utf-8') as outfile:\n",
    "#     outfile.write(tabela_df.to_latex(index=False))\n",
    "\n",
    "# Open pickle Exec\n",
    "file_name='v_0_exec.pkl'\n",
    "# file_name='step_v_0step_exec.pkl'\n",
    "path=root_path_data+file_name\n",
    "infile = open(path,'rb')\n",
    "ds_exec= pickle.load(infile)\n",
    "infile.close()\n",
    "\n",
    "# Open pickle dict class object pop\n",
    "file_name='v_0_id.pkl'\n",
    "# file_name='step_v_0_id.pkl'\n",
    "path=root_path_data+file_name\n",
    "infile = open(path,'rb')\n",
    "ds_ind= pickle.load(infile)\n",
    "infile.close()\n",
    "\n",
    "# Unpack Data Execution\n",
    "# values_exec=[]\n",
    "# for key,value in ds_exec.items():\n",
    "#     # headers=[\"Execution\",\"Variant\",\"Hipervolume\",\"Pareto Front\"]\n",
    "#     values_exec.append([key[1],value[0],value[1],value[2]])\n",
    "headers=[\"Execution\",\"Variant\",\"Hipervolume\",\"Pareto Front\"]\n",
    "df_exec=pd.DataFrame(ds_exec,columns=headers)\n",
    "\n",
    "# Unpack Data per Ind\n",
    "# values_ind=[]\n",
    "# for key,value in ds_ind.items():\n",
    "#     # values_ind.append(value)\n",
    "#     values_ind.append(value[0])\n",
    "#     values_ind.append(value[1])\n",
    "# headers=[\"Execution\",\"Variation\",\"Solution\",\"Total throughput [kg]\", \"Max total backlog [kg]\", \"Mean total backlog [kg]\",\"std dev total backlog [kg]\", \"Median total backlog [kg]\",\"Min total backlog [kg]\", \"P(total backlog ≤ 0 kg)\",\"Max total inventory deficit [kg]\", \"Mean total inventory deficit [kg]\",\"std dev inventory deficit [kg]\", \"Median total inventory deficit [kg]\", \"Min total inventory deficit [kg]\",\"Batches [un]\",\"Product label\",\"Start of USP [date]\",\"End of DSP [date]\"]\n",
    "headers=[\"Execution\",\"Variation\",\"Solution\",\"Total throughput [kg]\", \"Max total backlog [kg]\", \"Mean total backlog [kg]\",\"std dev total backlog [kg]\", \"Median total backlog [kg]\",\"Min total backlog [kg]\", \"P(total backlog ≤ 0 kg)\",\"Max total inventory deficit [kg]\", \"Mean total inventory deficit [kg]\",\"std dev inventory deficit [kg]\", \"Median total inventory deficit [kg]\", \"Min total inventory deficit [kg]\",\"Total Deficit [kg]\",\"Batches [un]\",\"Product label\",\"Start of USP [date]\",\"End of DSP [date]\"]\n",
    "\n",
    "df_ind=pd.DataFrame(ds_ind,columns=headers)\n",
    "df_ind"
   ],
   "cell_type": "code",
   "metadata": {},
   "execution_count": 8,
   "outputs": [
    {
     "output_type": "execute_result",
     "data": {
      "text/plain": [
       "   Execution                                          Variation Solution  \\\n",
       "0          0  front_nsga,tour_vio,rein_vio,vio_back,metrics_...        X   \n",
       "1          0  front_nsga,tour_vio,rein_vio,vio_back,metrics_...        Y   \n",
       "\n",
       "   Total throughput [kg]  Max total backlog [kg]  Mean total backlog [kg]  \\\n",
       "0                  576.1               12.192761                 1.292884   \n",
       "1                  576.1               12.192761                 1.292884   \n",
       "\n",
       "   std dev total backlog [kg]  Median total backlog [kg]  \\\n",
       "0                    2.901831                        0.0   \n",
       "1                    2.901831                        0.0   \n",
       "\n",
       "   Min total backlog [kg]  P(total backlog ≤ 0 kg)  \\\n",
       "0                     0.0               186.175252   \n",
       "1                     0.0               186.175252   \n",
       "\n",
       "   Max total inventory deficit [kg]  Mean total inventory deficit [kg]  \\\n",
       "0                              38.5                           8.873616   \n",
       "1                              38.5                           8.873616   \n",
       "\n",
       "   std dev inventory deficit [kg]  Median total inventory deficit [kg]  \\\n",
       "0                       12.076477                                  0.0   \n",
       "1                       12.076477                                  0.0   \n",
       "\n",
       "   Min total inventory deficit [kg]  Total Deficit [kg]      Batches [un]  \\\n",
       "0                               0.0                 0.0  [22, 30, 28, 25]   \n",
       "1                               0.0                 0.0  [22, 30, 28, 25]   \n",
       "\n",
       "  Product label                               Start of USP [date]  \\\n",
       "0  [1, 3, 2, 3]  [2016-12-01, 2017-09-25, 2018-06-29, 2019-03-17]   \n",
       "1  [1, 3, 2, 3]  [2016-12-01, 2017-09-25, 2018-06-29, 2019-03-17]   \n",
       "\n",
       "                                  End of DSP [date]  \n",
       "0  [2017-09-05, 2018-06-11, 2019-02-25, 2019-10-27]  \n",
       "1  [2017-09-05, 2018-06-11, 2019-02-25, 2019-10-27]  "
      ],
      "text/html": "<div>\n<style scoped>\n    .dataframe tbody tr th:only-of-type {\n        vertical-align: middle;\n    }\n\n    .dataframe tbody tr th {\n        vertical-align: top;\n    }\n\n    .dataframe thead th {\n        text-align: right;\n    }\n</style>\n<table border=\"1\" class=\"dataframe\">\n  <thead>\n    <tr style=\"text-align: right;\">\n      <th></th>\n      <th>Execution</th>\n      <th>Variation</th>\n      <th>Solution</th>\n      <th>Total throughput [kg]</th>\n      <th>Max total backlog [kg]</th>\n      <th>Mean total backlog [kg]</th>\n      <th>std dev total backlog [kg]</th>\n      <th>Median total backlog [kg]</th>\n      <th>Min total backlog [kg]</th>\n      <th>P(total backlog ≤ 0 kg)</th>\n      <th>Max total inventory deficit [kg]</th>\n      <th>Mean total inventory deficit [kg]</th>\n      <th>std dev inventory deficit [kg]</th>\n      <th>Median total inventory deficit [kg]</th>\n      <th>Min total inventory deficit [kg]</th>\n      <th>Total Deficit [kg]</th>\n      <th>Batches [un]</th>\n      <th>Product label</th>\n      <th>Start of USP [date]</th>\n      <th>End of DSP [date]</th>\n    </tr>\n  </thead>\n  <tbody>\n    <tr>\n      <th>0</th>\n      <td>0</td>\n      <td>front_nsga,tour_vio,rein_vio,vio_back,metrics_...</td>\n      <td>X</td>\n      <td>576.1</td>\n      <td>12.192761</td>\n      <td>1.292884</td>\n      <td>2.901831</td>\n      <td>0.0</td>\n      <td>0.0</td>\n      <td>186.175252</td>\n      <td>38.5</td>\n      <td>8.873616</td>\n      <td>12.076477</td>\n      <td>0.0</td>\n      <td>0.0</td>\n      <td>0.0</td>\n      <td>[22, 30, 28, 25]</td>\n      <td>[1, 3, 2, 3]</td>\n      <td>[2016-12-01, 2017-09-25, 2018-06-29, 2019-03-17]</td>\n      <td>[2017-09-05, 2018-06-11, 2019-02-25, 2019-10-27]</td>\n    </tr>\n    <tr>\n      <th>1</th>\n      <td>0</td>\n      <td>front_nsga,tour_vio,rein_vio,vio_back,metrics_...</td>\n      <td>Y</td>\n      <td>576.1</td>\n      <td>12.192761</td>\n      <td>1.292884</td>\n      <td>2.901831</td>\n      <td>0.0</td>\n      <td>0.0</td>\n      <td>186.175252</td>\n      <td>38.5</td>\n      <td>8.873616</td>\n      <td>12.076477</td>\n      <td>0.0</td>\n      <td>0.0</td>\n      <td>0.0</td>\n      <td>[22, 30, 28, 25]</td>\n      <td>[1, 3, 2, 3]</td>\n      <td>[2016-12-01, 2017-09-25, 2018-06-29, 2019-03-17]</td>\n      <td>[2017-09-05, 2018-06-11, 2019-02-25, 2019-10-27]</td>\n    </tr>\n  </tbody>\n</table>\n</div>"
     },
     "metadata": {},
     "execution_count": 8
    }
   ]
  },
  {
   "cell_type": "code",
   "execution_count": 3,
   "metadata": {},
   "outputs": [],
   "source": [
    "# # Appends to external CSV File\n",
    "\n",
    "# # Exports as csv\n",
    "# # file_name='df_exec.csv'\n",
    "# file_name='df_exec.csv'\n",
    "# path=root_path_data+file_name\n",
    "# headers=[\"Execution\",\"Variant\",\"Hipervolume\",\"Pareto Front\"]\n",
    "# # # Overwrites\n",
    "# # df_exec.to_csv(path,header=headers)\n",
    "# # Appends\n",
    "# df_exec.to_csv(path,header=False,mode=\"a\")\n",
    "\n",
    "# # Exports as csv\n",
    "# file_name='df_ind.csv'\n",
    "# path=root_path_data+file_name\n",
    "# headers=[\"Variation\",\"Num_exec\",\"Solution\",\"Total throughput [kg]\", \"Max total backlog [kg]\", \"Mean total backlog [kg]\",\"std dev total backlog [kg]\", \"Median total backlog [kg]\",\"Min total backlog [kg]\", \"P(total backlog ≤ 0 kg)\",\"Max total inventory deficit [kg]\", \"Mean total inventory deficit [kg]\",\"std dev inventory deficit [kg]\", \"Median total inventory deficit [kg]\", \"Min total inventory deficit [kg]\",\"Batches [un]\",\"Product label\",\"Start of USP [date]\",\"End of DSP [date]\"]\n",
    "# # # Overwrites\n",
    "# # df_ind.to_csv(path,header=headers)\n",
    "# # Appends\n",
    "# df_ind.to_csv(path,header=False,mode=\"a\")"
   ]
  }
 ]
}