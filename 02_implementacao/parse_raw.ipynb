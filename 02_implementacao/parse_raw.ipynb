{
 "metadata": {
  "language_info": {
   "codemirror_mode": {
    "name": "ipython",
    "version": 3
   },
   "file_extension": ".py",
   "mimetype": "text/x-python",
   "name": "python",
   "nbconvert_exporter": "python",
   "pygments_lexer": "ipython3",
   "version": "3.8.3-final"
  },
  "orig_nbformat": 2,
  "kernelspec": {
   "name": "python3",
   "display_name": "Python 3.8.3 64-bit ('comp_evol': conda)",
   "metadata": {
    "interpreter": {
     "hash": "e3d2e5b49fca8ece28e8612ddb42da6ec98316623bc11967ddd6e72144cb4ad0"
    }
   }
  }
 },
 "nbformat": 4,
 "nbformat_minor": 2,
 "cells": [
  {
   "source": [
    "# Reproduction of Article\n",
    "1. Steps:\n",
    "    1. Import Data\n",
    "    1. Initial Data Exploration\n",
    "        1. Data Summary Table\n",
    "    1. Comparison with article Data"
   ],
   "cell_type": "markdown",
   "metadata": {}
  },
  {
   "cell_type": "code",
   "execution_count": 1,
   "metadata": {},
   "outputs": [],
   "source": [
    "import pickle\n",
    "import numpy as np\n",
    "import pandas as pd\n",
    "import matplotlib.pyplot as plt\n",
    "import copy\n",
    "import codecs\n",
    "root_path_report=\"C:\\\\Users\\\\Debora\\\\Documents\\\\01_UFU_local\\\\01_comp_evolutiva\\\\05_trabalho3\\\\03_relatorio\\\\springer\\\\tables\\\\\"\n",
    "root_path_data=\"C:\\\\Users\\\\Debora\\\\Documents\\\\01_UFU_local\\\\01_comp_evolutiva\\\\05_trabalho3\\\\01_dados\\\\01_raw\\\\\"\n",
    "root_path_analysis=\"C:\\\\Users\\\\Debora\\\\Documents\\\\01_UFU_local\\\\01_comp_evolutiva\\\\05_trabalho3\\\\01_dados\\\\02_analysis\\\\01_implementation\\\\\""
   ]
  },
  {
   "source": [
    "## Parse Data"
   ],
   "cell_type": "markdown",
   "metadata": {}
  },
  {
   "source": [
    "# # Export table to txt for latex\n",
    "# root_path_report = \"C:\\\\Users\\\\debor\\\\Documents\\\\01_UFU_local\\\\01_comp_evolutiva\\\\01_trabalho_1\\\\03_relatorio\\\\template-latex\\\\tables\\\\\"\n",
    "# file_name = \"representacao.txt\"\n",
    "# path = root_path_report + file_name\n",
    "# with codecs.open(path, 'w', 'utf-8') as outfile:\n",
    "#     outfile.write(tabela_df.to_latex(index=False))\n",
    "\n",
    "# Open pickle Exec\n",
    "file_name='v_0_exec.pkl'\n",
    "# file_name='step_v_0step_exec.pkl'\n",
    "path=root_path_data+file_name\n",
    "infile = open(path,'rb')\n",
    "ds_exec= pickle.load(infile)\n",
    "infile.close()\n",
    "\n",
    "# Open pickle dict class object pop\n",
    "file_name='v_0_id.pkl'\n",
    "# file_name='step_v_0_id.pkl'\n",
    "path=root_path_data+file_name\n",
    "infile = open(path,'rb')\n",
    "ds_ind= pickle.load(infile)\n",
    "infile.close()\n",
    "\n",
    "# Unpack Data Execution\n",
    "headers=[\"Execution\",\"Variant\",\"Hipervolume\",\"Pareto Front\"]\n",
    "df_exec=pd.DataFrame(ds_exec,columns=headers)\n",
    "\n",
    "# Unpack Data per Ind\n",
    "headers=[\"Execution\",\"Variation\",\"Solution\",\"Total throughput [kg]\", \"Max total backlog [kg]\", \"Mean total backlog [kg]\",\"std dev total backlog [kg]\", \"Median total backlog [kg]\",\"Min total backlog [kg]\", \"P(total backlog ≤ 0 kg)\",\"Max total inventory deficit [kg]\", \"Mean total inventory deficit [kg]\",\"std dev inventory deficit [kg]\", \"Median total inventory deficit [kg]\", \"Min total inventory deficit [kg]\",\"Total Deficit [kg]\",\"Batches [un]\",\"Product label\",\"Start of USP [date]\",\"End of DSP [date]\"]\n",
    "\n",
    "df_ind=pd.DataFrame(ds_ind,columns=headers)\n",
    "df_ind"
   ],
   "cell_type": "code",
   "metadata": {},
   "execution_count": 2,
   "outputs": [
    {
     "output_type": "execute_result",
     "data": {
      "text/plain": [
       "   Execution                                          Variation Solution  \\\n",
       "0          0  front_nsga,tour_vio,rein_vio,vio_back,calc_mon...        X   \n",
       "1          0  front_nsga,tour_vio,rein_vio,vio_back,calc_mon...        Y   \n",
       "\n",
       "   Total throughput [kg]  Max total backlog [kg]  Mean total backlog [kg]  \\\n",
       "0                  663.8               10.402717                 1.085342   \n",
       "1                  663.8               10.402717                 1.085342   \n",
       "\n",
       "   std dev total backlog [kg]  Median total backlog [kg]  \\\n",
       "0                    2.622689                        0.0   \n",
       "1                    2.622689                        0.0   \n",
       "\n",
       "   Min total backlog [kg]  P(total backlog ≤ 0 kg)  \\\n",
       "0                     0.0               156.289225   \n",
       "1                     0.0               156.289225   \n",
       "\n",
       "   Max total inventory deficit [kg]  Mean total inventory deficit [kg]  \\\n",
       "0                              34.1                           6.568086   \n",
       "1                              34.1                           6.568086   \n",
       "\n",
       "   std dev inventory deficit [kg]  Median total inventory deficit [kg]  \\\n",
       "0                       10.348981                                  0.0   \n",
       "1                       10.348981                                  0.0   \n",
       "\n",
       "   Min total inventory deficit [kg]  Total Deficit [kg]      Batches [un]  \\\n",
       "0                               0.0                 0.0  [31, 36, 30, 31]   \n",
       "1                               0.0                 0.0  [31, 36, 30, 31]   \n",
       "\n",
       "  Product label                               Start of USP [date]  \\\n",
       "0  [3, 2, 3, 2]  [1970-01-01, 2017-08-31, 2018-06-24, 2019-03-10]   \n",
       "1  [3, 2, 3, 2]  [1970-01-01, 2017-08-31, 2018-06-24, 2019-03-10]   \n",
       "\n",
       "                                  End of DSP [date]  \n",
       "0  [2017-08-31, 2018-06-24, 2019-03-10, 2019-11-27]  \n",
       "1  [2017-08-31, 2018-06-24, 2019-03-10, 2019-11-27]  "
      ],
      "text/html": "<div>\n<style scoped>\n    .dataframe tbody tr th:only-of-type {\n        vertical-align: middle;\n    }\n\n    .dataframe tbody tr th {\n        vertical-align: top;\n    }\n\n    .dataframe thead th {\n        text-align: right;\n    }\n</style>\n<table border=\"1\" class=\"dataframe\">\n  <thead>\n    <tr style=\"text-align: right;\">\n      <th></th>\n      <th>Execution</th>\n      <th>Variation</th>\n      <th>Solution</th>\n      <th>Total throughput [kg]</th>\n      <th>Max total backlog [kg]</th>\n      <th>Mean total backlog [kg]</th>\n      <th>std dev total backlog [kg]</th>\n      <th>Median total backlog [kg]</th>\n      <th>Min total backlog [kg]</th>\n      <th>P(total backlog ≤ 0 kg)</th>\n      <th>Max total inventory deficit [kg]</th>\n      <th>Mean total inventory deficit [kg]</th>\n      <th>std dev inventory deficit [kg]</th>\n      <th>Median total inventory deficit [kg]</th>\n      <th>Min total inventory deficit [kg]</th>\n      <th>Total Deficit [kg]</th>\n      <th>Batches [un]</th>\n      <th>Product label</th>\n      <th>Start of USP [date]</th>\n      <th>End of DSP [date]</th>\n    </tr>\n  </thead>\n  <tbody>\n    <tr>\n      <th>0</th>\n      <td>0</td>\n      <td>front_nsga,tour_vio,rein_vio,vio_back,calc_mon...</td>\n      <td>X</td>\n      <td>663.8</td>\n      <td>10.402717</td>\n      <td>1.085342</td>\n      <td>2.622689</td>\n      <td>0.0</td>\n      <td>0.0</td>\n      <td>156.289225</td>\n      <td>34.1</td>\n      <td>6.568086</td>\n      <td>10.348981</td>\n      <td>0.0</td>\n      <td>0.0</td>\n      <td>0.0</td>\n      <td>[31, 36, 30, 31]</td>\n      <td>[3, 2, 3, 2]</td>\n      <td>[1970-01-01, 2017-08-31, 2018-06-24, 2019-03-10]</td>\n      <td>[2017-08-31, 2018-06-24, 2019-03-10, 2019-11-27]</td>\n    </tr>\n    <tr>\n      <th>1</th>\n      <td>0</td>\n      <td>front_nsga,tour_vio,rein_vio,vio_back,calc_mon...</td>\n      <td>Y</td>\n      <td>663.8</td>\n      <td>10.402717</td>\n      <td>1.085342</td>\n      <td>2.622689</td>\n      <td>0.0</td>\n      <td>0.0</td>\n      <td>156.289225</td>\n      <td>34.1</td>\n      <td>6.568086</td>\n      <td>10.348981</td>\n      <td>0.0</td>\n      <td>0.0</td>\n      <td>0.0</td>\n      <td>[31, 36, 30, 31]</td>\n      <td>[3, 2, 3, 2]</td>\n      <td>[1970-01-01, 2017-08-31, 2018-06-24, 2019-03-10]</td>\n      <td>[2017-08-31, 2018-06-24, 2019-03-10, 2019-11-27]</td>\n    </tr>\n  </tbody>\n</table>\n</div>"
     },
     "metadata": {},
     "execution_count": 2
    }
   ]
  },
  {
   "cell_type": "code",
   "execution_count": 3,
   "metadata": {},
   "outputs": [
    {
     "output_type": "execute_result",
     "data": {
      "text/plain": [
       "   Execution                                          Variation Solution  \\\n",
       "0          0  front_nsga,tour_vio,rein_vio,vio_back,calc_mon...        X   \n",
       "1          0  front_nsga,tour_vio,rein_vio,vio_back,calc_mon...        Y   \n",
       "\n",
       "   Total throughput [kg]  Max total backlog [kg]  Mean total backlog [kg]  \\\n",
       "0                  663.8               10.402717                 1.085342   \n",
       "1                  663.8               10.402717                 1.085342   \n",
       "\n",
       "   std dev total backlog [kg]  Median total backlog [kg]  \\\n",
       "0                    2.622689                        0.0   \n",
       "1                    2.622689                        0.0   \n",
       "\n",
       "   Min total backlog [kg]  P(total backlog ≤ 0 kg)  \\\n",
       "0                     0.0               156.289225   \n",
       "1                     0.0               156.289225   \n",
       "\n",
       "   Max total inventory deficit [kg]  Mean total inventory deficit [kg]  \\\n",
       "0                              34.1                           6.568086   \n",
       "1                              34.1                           6.568086   \n",
       "\n",
       "   std dev inventory deficit [kg]  Median total inventory deficit [kg]  \\\n",
       "0                       10.348981                                  0.0   \n",
       "1                       10.348981                                  0.0   \n",
       "\n",
       "   Min total inventory deficit [kg]  Total Deficit [kg]      Batches [un]  \\\n",
       "0                               0.0                 0.0  [31, 36, 30, 31]   \n",
       "1                               0.0                 0.0  [31, 36, 30, 31]   \n",
       "\n",
       "  Product label                               Start of USP [date]  \\\n",
       "0  [3, 2, 3, 2]  [1970-01-01, 2017-08-31, 2018-06-24, 2019-03-10]   \n",
       "1  [3, 2, 3, 2]  [1970-01-01, 2017-08-31, 2018-06-24, 2019-03-10]   \n",
       "\n",
       "                                  End of DSP [date]  \n",
       "0  [2017-08-31, 2018-06-24, 2019-03-10, 2019-11-27]  \n",
       "1  [2017-08-31, 2018-06-24, 2019-03-10, 2019-11-27]  "
      ],
      "text/html": "<div>\n<style scoped>\n    .dataframe tbody tr th:only-of-type {\n        vertical-align: middle;\n    }\n\n    .dataframe tbody tr th {\n        vertical-align: top;\n    }\n\n    .dataframe thead th {\n        text-align: right;\n    }\n</style>\n<table border=\"1\" class=\"dataframe\">\n  <thead>\n    <tr style=\"text-align: right;\">\n      <th></th>\n      <th>Execution</th>\n      <th>Variation</th>\n      <th>Solution</th>\n      <th>Total throughput [kg]</th>\n      <th>Max total backlog [kg]</th>\n      <th>Mean total backlog [kg]</th>\n      <th>std dev total backlog [kg]</th>\n      <th>Median total backlog [kg]</th>\n      <th>Min total backlog [kg]</th>\n      <th>P(total backlog ≤ 0 kg)</th>\n      <th>Max total inventory deficit [kg]</th>\n      <th>Mean total inventory deficit [kg]</th>\n      <th>std dev inventory deficit [kg]</th>\n      <th>Median total inventory deficit [kg]</th>\n      <th>Min total inventory deficit [kg]</th>\n      <th>Total Deficit [kg]</th>\n      <th>Batches [un]</th>\n      <th>Product label</th>\n      <th>Start of USP [date]</th>\n      <th>End of DSP [date]</th>\n    </tr>\n  </thead>\n  <tbody>\n    <tr>\n      <th>0</th>\n      <td>0</td>\n      <td>front_nsga,tour_vio,rein_vio,vio_back,calc_mon...</td>\n      <td>X</td>\n      <td>663.8</td>\n      <td>10.402717</td>\n      <td>1.085342</td>\n      <td>2.622689</td>\n      <td>0.0</td>\n      <td>0.0</td>\n      <td>156.289225</td>\n      <td>34.1</td>\n      <td>6.568086</td>\n      <td>10.348981</td>\n      <td>0.0</td>\n      <td>0.0</td>\n      <td>0.0</td>\n      <td>[31, 36, 30, 31]</td>\n      <td>[3, 2, 3, 2]</td>\n      <td>[1970-01-01, 2017-08-31, 2018-06-24, 2019-03-10]</td>\n      <td>[2017-08-31, 2018-06-24, 2019-03-10, 2019-11-27]</td>\n    </tr>\n    <tr>\n      <th>1</th>\n      <td>0</td>\n      <td>front_nsga,tour_vio,rein_vio,vio_back,calc_mon...</td>\n      <td>Y</td>\n      <td>663.8</td>\n      <td>10.402717</td>\n      <td>1.085342</td>\n      <td>2.622689</td>\n      <td>0.0</td>\n      <td>0.0</td>\n      <td>156.289225</td>\n      <td>34.1</td>\n      <td>6.568086</td>\n      <td>10.348981</td>\n      <td>0.0</td>\n      <td>0.0</td>\n      <td>0.0</td>\n      <td>[31, 36, 30, 31]</td>\n      <td>[3, 2, 3, 2]</td>\n      <td>[1970-01-01, 2017-08-31, 2018-06-24, 2019-03-10]</td>\n      <td>[2017-08-31, 2018-06-24, 2019-03-10, 2019-11-27]</td>\n    </tr>\n  </tbody>\n</table>\n</div>"
     },
     "metadata": {},
     "execution_count": 3
    }
   ],
   "source": [
    "df_ind"
   ]
  },
  {
   "cell_type": "code",
   "execution_count": 4,
   "metadata": {},
   "outputs": [
    {
     "output_type": "display_data",
     "data": {
      "text/plain": "<Figure size 432x288 with 1 Axes>",
      "image/svg+xml": "<?xml version=\"1.0\" encoding=\"utf-8\" standalone=\"no\"?>\r\n<!DOCTYPE svg PUBLIC \"-//W3C//DTD SVG 1.1//EN\"\r\n  \"http://www.w3.org/Graphics/SVG/1.1/DTD/svg11.dtd\">\r\n<!-- Created with matplotlib (https://matplotlib.org/) -->\r\n<svg height=\"277.314375pt\" version=\"1.1\" viewBox=\"0 0 408.65037 277.314375\" width=\"408.65037pt\" xmlns=\"http://www.w3.org/2000/svg\" xmlns:xlink=\"http://www.w3.org/1999/xlink\">\r\n <defs>\r\n  <style type=\"text/css\">\r\n*{stroke-linecap:butt;stroke-linejoin:round;}\r\n  </style>\r\n </defs>\r\n <g id=\"figure_1\">\r\n  <g id=\"patch_1\">\r\n   <path d=\"M 0 277.314375 \r\nL 408.65037 277.314375 \r\nL 408.65037 0 \r\nL 0 0 \r\nz\r\n\" style=\"fill:none;\"/>\r\n  </g>\r\n  <g id=\"axes_1\">\r\n   <g id=\"patch_2\">\r\n    <path d=\"M 58.523438 239.758125 \r\nL 393.323438 239.758125 \r\nL 393.323438 22.318125 \r\nL 58.523438 22.318125 \r\nz\r\n\" style=\"fill:#ffffff;\"/>\r\n   </g>\r\n   <g id=\"PathCollection_1\">\r\n    <defs>\r\n     <path d=\"M 0 3 \r\nC 0.795609 3 1.55874 2.683901 2.12132 2.12132 \r\nC 2.683901 1.55874 3 0.795609 3 0 \r\nC 3 -0.795609 2.683901 -1.55874 2.12132 -2.12132 \r\nC 1.55874 -2.683901 0.795609 -3 0 -3 \r\nC -0.795609 -3 -1.55874 -2.683901 -2.12132 -2.12132 \r\nC -2.683901 -1.55874 -3 -0.795609 -3 0 \r\nC -3 0.795609 -2.683901 1.55874 -2.12132 2.12132 \r\nC -1.55874 2.683901 -0.795609 3 0 3 \r\nz\r\n\" id=\"mac964f3b3e\" style=\"stroke:#008000;\"/>\r\n    </defs>\r\n    <g clip-path=\"url(#pdd368d17af)\">\r\n     <use style=\"fill:#008000;stroke:#008000;\" x=\"225.923438\" xlink:href=\"#mac964f3b3e\" y=\"131.038125\"/>\r\n     <use style=\"fill:#008000;stroke:#008000;\" x=\"225.923438\" xlink:href=\"#mac964f3b3e\" y=\"131.038125\"/>\r\n    </g>\r\n   </g>\r\n   <g id=\"matplotlib.axis_1\">\r\n    <g id=\"xtick_1\">\r\n     <g id=\"line2d_1\">\r\n      <defs>\r\n       <path d=\"M 0 0 \r\nL 0 3.5 \r\n\" id=\"maa29d7843f\" style=\"stroke:#000000;stroke-width:0.8;\"/>\r\n      </defs>\r\n      <g>\r\n       <use style=\"stroke:#000000;stroke-width:0.8;\" x=\"70.944665\" xlink:href=\"#maa29d7843f\" y=\"239.758125\"/>\r\n      </g>\r\n     </g>\r\n     <g id=\"text_1\">\r\n      <!-- 630 -->\r\n      <defs>\r\n       <path d=\"M 33.015625 40.375 \r\nQ 26.375 40.375 22.484375 35.828125 \r\nQ 18.609375 31.296875 18.609375 23.390625 \r\nQ 18.609375 15.53125 22.484375 10.953125 \r\nQ 26.375 6.390625 33.015625 6.390625 \r\nQ 39.65625 6.390625 43.53125 10.953125 \r\nQ 47.40625 15.53125 47.40625 23.390625 \r\nQ 47.40625 31.296875 43.53125 35.828125 \r\nQ 39.65625 40.375 33.015625 40.375 \r\nz\r\nM 52.59375 71.296875 \r\nL 52.59375 62.3125 \r\nQ 48.875 64.0625 45.09375 64.984375 \r\nQ 41.3125 65.921875 37.59375 65.921875 \r\nQ 27.828125 65.921875 22.671875 59.328125 \r\nQ 17.53125 52.734375 16.796875 39.40625 \r\nQ 19.671875 43.65625 24.015625 45.921875 \r\nQ 28.375 48.1875 33.59375 48.1875 \r\nQ 44.578125 48.1875 50.953125 41.515625 \r\nQ 57.328125 34.859375 57.328125 23.390625 \r\nQ 57.328125 12.15625 50.6875 5.359375 \r\nQ 44.046875 -1.421875 33.015625 -1.421875 \r\nQ 20.359375 -1.421875 13.671875 8.265625 \r\nQ 6.984375 17.96875 6.984375 36.375 \r\nQ 6.984375 53.65625 15.1875 63.9375 \r\nQ 23.390625 74.21875 37.203125 74.21875 \r\nQ 40.921875 74.21875 44.703125 73.484375 \r\nQ 48.484375 72.75 52.59375 71.296875 \r\nz\r\n\" id=\"DejaVuSans-54\"/>\r\n       <path d=\"M 40.578125 39.3125 \r\nQ 47.65625 37.796875 51.625 33 \r\nQ 55.609375 28.21875 55.609375 21.1875 \r\nQ 55.609375 10.40625 48.1875 4.484375 \r\nQ 40.765625 -1.421875 27.09375 -1.421875 \r\nQ 22.515625 -1.421875 17.65625 -0.515625 \r\nQ 12.796875 0.390625 7.625 2.203125 \r\nL 7.625 11.71875 \r\nQ 11.71875 9.328125 16.59375 8.109375 \r\nQ 21.484375 6.890625 26.8125 6.890625 \r\nQ 36.078125 6.890625 40.9375 10.546875 \r\nQ 45.796875 14.203125 45.796875 21.1875 \r\nQ 45.796875 27.640625 41.28125 31.265625 \r\nQ 36.765625 34.90625 28.71875 34.90625 \r\nL 20.21875 34.90625 \r\nL 20.21875 43.015625 \r\nL 29.109375 43.015625 \r\nQ 36.375 43.015625 40.234375 45.921875 \r\nQ 44.09375 48.828125 44.09375 54.296875 \r\nQ 44.09375 59.90625 40.109375 62.90625 \r\nQ 36.140625 65.921875 28.71875 65.921875 \r\nQ 24.65625 65.921875 20.015625 65.03125 \r\nQ 15.375 64.15625 9.8125 62.3125 \r\nL 9.8125 71.09375 \r\nQ 15.4375 72.65625 20.34375 73.4375 \r\nQ 25.25 74.21875 29.59375 74.21875 \r\nQ 40.828125 74.21875 47.359375 69.109375 \r\nQ 53.90625 64.015625 53.90625 55.328125 \r\nQ 53.90625 49.265625 50.4375 45.09375 \r\nQ 46.96875 40.921875 40.578125 39.3125 \r\nz\r\n\" id=\"DejaVuSans-51\"/>\r\n       <path d=\"M 31.78125 66.40625 \r\nQ 24.171875 66.40625 20.328125 58.90625 \r\nQ 16.5 51.421875 16.5 36.375 \r\nQ 16.5 21.390625 20.328125 13.890625 \r\nQ 24.171875 6.390625 31.78125 6.390625 \r\nQ 39.453125 6.390625 43.28125 13.890625 \r\nQ 47.125 21.390625 47.125 36.375 \r\nQ 47.125 51.421875 43.28125 58.90625 \r\nQ 39.453125 66.40625 31.78125 66.40625 \r\nz\r\nM 31.78125 74.21875 \r\nQ 44.046875 74.21875 50.515625 64.515625 \r\nQ 56.984375 54.828125 56.984375 36.375 \r\nQ 56.984375 17.96875 50.515625 8.265625 \r\nQ 44.046875 -1.421875 31.78125 -1.421875 \r\nQ 19.53125 -1.421875 13.0625 8.265625 \r\nQ 6.59375 17.96875 6.59375 36.375 \r\nQ 6.59375 54.828125 13.0625 64.515625 \r\nQ 19.53125 74.21875 31.78125 74.21875 \r\nz\r\n\" id=\"DejaVuSans-48\"/>\r\n      </defs>\r\n      <g transform=\"translate(61.400915 254.356562)scale(0.1 -0.1)\">\r\n       <use xlink:href=\"#DejaVuSans-54\"/>\r\n       <use x=\"63.623047\" xlink:href=\"#DejaVuSans-51\"/>\r\n       <use x=\"127.246094\" xlink:href=\"#DejaVuSans-48\"/>\r\n      </g>\r\n     </g>\r\n    </g>\r\n    <g id=\"xtick_2\">\r\n     <g id=\"line2d_2\">\r\n      <g>\r\n       <use style=\"stroke:#000000;stroke-width:0.8;\" x=\"116.796373\" xlink:href=\"#maa29d7843f\" y=\"239.758125\"/>\r\n      </g>\r\n     </g>\r\n     <g id=\"text_2\">\r\n      <!-- 640 -->\r\n      <defs>\r\n       <path d=\"M 37.796875 64.3125 \r\nL 12.890625 25.390625 \r\nL 37.796875 25.390625 \r\nz\r\nM 35.203125 72.90625 \r\nL 47.609375 72.90625 \r\nL 47.609375 25.390625 \r\nL 58.015625 25.390625 \r\nL 58.015625 17.1875 \r\nL 47.609375 17.1875 \r\nL 47.609375 0 \r\nL 37.796875 0 \r\nL 37.796875 17.1875 \r\nL 4.890625 17.1875 \r\nL 4.890625 26.703125 \r\nz\r\n\" id=\"DejaVuSans-52\"/>\r\n      </defs>\r\n      <g transform=\"translate(107.252623 254.356562)scale(0.1 -0.1)\">\r\n       <use xlink:href=\"#DejaVuSans-54\"/>\r\n       <use x=\"63.623047\" xlink:href=\"#DejaVuSans-52\"/>\r\n       <use x=\"127.246094\" xlink:href=\"#DejaVuSans-48\"/>\r\n      </g>\r\n     </g>\r\n    </g>\r\n    <g id=\"xtick_3\">\r\n     <g id=\"line2d_3\">\r\n      <g>\r\n       <use style=\"stroke:#000000;stroke-width:0.8;\" x=\"162.648081\" xlink:href=\"#maa29d7843f\" y=\"239.758125\"/>\r\n      </g>\r\n     </g>\r\n     <g id=\"text_3\">\r\n      <!-- 650 -->\r\n      <defs>\r\n       <path d=\"M 10.796875 72.90625 \r\nL 49.515625 72.90625 \r\nL 49.515625 64.59375 \r\nL 19.828125 64.59375 \r\nL 19.828125 46.734375 \r\nQ 21.96875 47.46875 24.109375 47.828125 \r\nQ 26.265625 48.1875 28.421875 48.1875 \r\nQ 40.625 48.1875 47.75 41.5 \r\nQ 54.890625 34.8125 54.890625 23.390625 \r\nQ 54.890625 11.625 47.5625 5.09375 \r\nQ 40.234375 -1.421875 26.90625 -1.421875 \r\nQ 22.3125 -1.421875 17.546875 -0.640625 \r\nQ 12.796875 0.140625 7.71875 1.703125 \r\nL 7.71875 11.625 \r\nQ 12.109375 9.234375 16.796875 8.0625 \r\nQ 21.484375 6.890625 26.703125 6.890625 \r\nQ 35.15625 6.890625 40.078125 11.328125 \r\nQ 45.015625 15.765625 45.015625 23.390625 \r\nQ 45.015625 31 40.078125 35.4375 \r\nQ 35.15625 39.890625 26.703125 39.890625 \r\nQ 22.75 39.890625 18.8125 39.015625 \r\nQ 14.890625 38.140625 10.796875 36.28125 \r\nz\r\n\" id=\"DejaVuSans-53\"/>\r\n      </defs>\r\n      <g transform=\"translate(153.104331 254.356562)scale(0.1 -0.1)\">\r\n       <use xlink:href=\"#DejaVuSans-54\"/>\r\n       <use x=\"63.623047\" xlink:href=\"#DejaVuSans-53\"/>\r\n       <use x=\"127.246094\" xlink:href=\"#DejaVuSans-48\"/>\r\n      </g>\r\n     </g>\r\n    </g>\r\n    <g id=\"xtick_4\">\r\n     <g id=\"line2d_4\">\r\n      <g>\r\n       <use style=\"stroke:#000000;stroke-width:0.8;\" x=\"208.499789\" xlink:href=\"#maa29d7843f\" y=\"239.758125\"/>\r\n      </g>\r\n     </g>\r\n     <g id=\"text_4\">\r\n      <!-- 660 -->\r\n      <g transform=\"translate(198.956039 254.356562)scale(0.1 -0.1)\">\r\n       <use xlink:href=\"#DejaVuSans-54\"/>\r\n       <use x=\"63.623047\" xlink:href=\"#DejaVuSans-54\"/>\r\n       <use x=\"127.246094\" xlink:href=\"#DejaVuSans-48\"/>\r\n      </g>\r\n     </g>\r\n    </g>\r\n    <g id=\"xtick_5\">\r\n     <g id=\"line2d_5\">\r\n      <g>\r\n       <use style=\"stroke:#000000;stroke-width:0.8;\" x=\"254.351496\" xlink:href=\"#maa29d7843f\" y=\"239.758125\"/>\r\n      </g>\r\n     </g>\r\n     <g id=\"text_5\">\r\n      <!-- 670 -->\r\n      <defs>\r\n       <path d=\"M 8.203125 72.90625 \r\nL 55.078125 72.90625 \r\nL 55.078125 68.703125 \r\nL 28.609375 0 \r\nL 18.3125 0 \r\nL 43.21875 64.59375 \r\nL 8.203125 64.59375 \r\nz\r\n\" id=\"DejaVuSans-55\"/>\r\n      </defs>\r\n      <g transform=\"translate(244.807746 254.356562)scale(0.1 -0.1)\">\r\n       <use xlink:href=\"#DejaVuSans-54\"/>\r\n       <use x=\"63.623047\" xlink:href=\"#DejaVuSans-55\"/>\r\n       <use x=\"127.246094\" xlink:href=\"#DejaVuSans-48\"/>\r\n      </g>\r\n     </g>\r\n    </g>\r\n    <g id=\"xtick_6\">\r\n     <g id=\"line2d_6\">\r\n      <g>\r\n       <use style=\"stroke:#000000;stroke-width:0.8;\" x=\"300.203204\" xlink:href=\"#maa29d7843f\" y=\"239.758125\"/>\r\n      </g>\r\n     </g>\r\n     <g id=\"text_6\">\r\n      <!-- 680 -->\r\n      <defs>\r\n       <path d=\"M 31.78125 34.625 \r\nQ 24.75 34.625 20.71875 30.859375 \r\nQ 16.703125 27.09375 16.703125 20.515625 \r\nQ 16.703125 13.921875 20.71875 10.15625 \r\nQ 24.75 6.390625 31.78125 6.390625 \r\nQ 38.8125 6.390625 42.859375 10.171875 \r\nQ 46.921875 13.96875 46.921875 20.515625 \r\nQ 46.921875 27.09375 42.890625 30.859375 \r\nQ 38.875 34.625 31.78125 34.625 \r\nz\r\nM 21.921875 38.8125 \r\nQ 15.578125 40.375 12.03125 44.71875 \r\nQ 8.5 49.078125 8.5 55.328125 \r\nQ 8.5 64.0625 14.71875 69.140625 \r\nQ 20.953125 74.21875 31.78125 74.21875 \r\nQ 42.671875 74.21875 48.875 69.140625 \r\nQ 55.078125 64.0625 55.078125 55.328125 \r\nQ 55.078125 49.078125 51.53125 44.71875 \r\nQ 48 40.375 41.703125 38.8125 \r\nQ 48.828125 37.15625 52.796875 32.3125 \r\nQ 56.78125 27.484375 56.78125 20.515625 \r\nQ 56.78125 9.90625 50.3125 4.234375 \r\nQ 43.84375 -1.421875 31.78125 -1.421875 \r\nQ 19.734375 -1.421875 13.25 4.234375 \r\nQ 6.78125 9.90625 6.78125 20.515625 \r\nQ 6.78125 27.484375 10.78125 32.3125 \r\nQ 14.796875 37.15625 21.921875 38.8125 \r\nz\r\nM 18.3125 54.390625 \r\nQ 18.3125 48.734375 21.84375 45.5625 \r\nQ 25.390625 42.390625 31.78125 42.390625 \r\nQ 38.140625 42.390625 41.71875 45.5625 \r\nQ 45.3125 48.734375 45.3125 54.390625 \r\nQ 45.3125 60.0625 41.71875 63.234375 \r\nQ 38.140625 66.40625 31.78125 66.40625 \r\nQ 25.390625 66.40625 21.84375 63.234375 \r\nQ 18.3125 60.0625 18.3125 54.390625 \r\nz\r\n\" id=\"DejaVuSans-56\"/>\r\n      </defs>\r\n      <g transform=\"translate(290.659454 254.356562)scale(0.1 -0.1)\">\r\n       <use xlink:href=\"#DejaVuSans-54\"/>\r\n       <use x=\"63.623047\" xlink:href=\"#DejaVuSans-56\"/>\r\n       <use x=\"127.246094\" xlink:href=\"#DejaVuSans-48\"/>\r\n      </g>\r\n     </g>\r\n    </g>\r\n    <g id=\"xtick_7\">\r\n     <g id=\"line2d_7\">\r\n      <g>\r\n       <use style=\"stroke:#000000;stroke-width:0.8;\" x=\"346.054912\" xlink:href=\"#maa29d7843f\" y=\"239.758125\"/>\r\n      </g>\r\n     </g>\r\n     <g id=\"text_7\">\r\n      <!-- 690 -->\r\n      <defs>\r\n       <path d=\"M 10.984375 1.515625 \r\nL 10.984375 10.5 \r\nQ 14.703125 8.734375 18.5 7.8125 \r\nQ 22.3125 6.890625 25.984375 6.890625 \r\nQ 35.75 6.890625 40.890625 13.453125 \r\nQ 46.046875 20.015625 46.78125 33.40625 \r\nQ 43.953125 29.203125 39.59375 26.953125 \r\nQ 35.25 24.703125 29.984375 24.703125 \r\nQ 19.046875 24.703125 12.671875 31.3125 \r\nQ 6.296875 37.9375 6.296875 49.421875 \r\nQ 6.296875 60.640625 12.9375 67.421875 \r\nQ 19.578125 74.21875 30.609375 74.21875 \r\nQ 43.265625 74.21875 49.921875 64.515625 \r\nQ 56.59375 54.828125 56.59375 36.375 \r\nQ 56.59375 19.140625 48.40625 8.859375 \r\nQ 40.234375 -1.421875 26.421875 -1.421875 \r\nQ 22.703125 -1.421875 18.890625 -0.6875 \r\nQ 15.09375 0.046875 10.984375 1.515625 \r\nz\r\nM 30.609375 32.421875 \r\nQ 37.25 32.421875 41.125 36.953125 \r\nQ 45.015625 41.5 45.015625 49.421875 \r\nQ 45.015625 57.28125 41.125 61.84375 \r\nQ 37.25 66.40625 30.609375 66.40625 \r\nQ 23.96875 66.40625 20.09375 61.84375 \r\nQ 16.21875 57.28125 16.21875 49.421875 \r\nQ 16.21875 41.5 20.09375 36.953125 \r\nQ 23.96875 32.421875 30.609375 32.421875 \r\nz\r\n\" id=\"DejaVuSans-57\"/>\r\n      </defs>\r\n      <g transform=\"translate(336.511162 254.356562)scale(0.1 -0.1)\">\r\n       <use xlink:href=\"#DejaVuSans-54\"/>\r\n       <use x=\"63.623047\" xlink:href=\"#DejaVuSans-57\"/>\r\n       <use x=\"127.246094\" xlink:href=\"#DejaVuSans-48\"/>\r\n      </g>\r\n     </g>\r\n    </g>\r\n    <g id=\"xtick_8\">\r\n     <g id=\"line2d_8\">\r\n      <g>\r\n       <use style=\"stroke:#000000;stroke-width:0.8;\" x=\"391.90662\" xlink:href=\"#maa29d7843f\" y=\"239.758125\"/>\r\n      </g>\r\n     </g>\r\n     <g id=\"text_8\">\r\n      <!-- 700 -->\r\n      <g transform=\"translate(382.36287 254.356562)scale(0.1 -0.1)\">\r\n       <use xlink:href=\"#DejaVuSans-55\"/>\r\n       <use x=\"63.623047\" xlink:href=\"#DejaVuSans-48\"/>\r\n       <use x=\"127.246094\" xlink:href=\"#DejaVuSans-48\"/>\r\n      </g>\r\n     </g>\r\n    </g>\r\n    <g id=\"text_9\">\r\n     <!-- Total throughput [kg] -->\r\n     <defs>\r\n      <path d=\"M -0.296875 72.90625 \r\nL 61.375 72.90625 \r\nL 61.375 64.59375 \r\nL 35.5 64.59375 \r\nL 35.5 0 \r\nL 25.59375 0 \r\nL 25.59375 64.59375 \r\nL -0.296875 64.59375 \r\nz\r\n\" id=\"DejaVuSans-84\"/>\r\n      <path d=\"M 30.609375 48.390625 \r\nQ 23.390625 48.390625 19.1875 42.75 \r\nQ 14.984375 37.109375 14.984375 27.296875 \r\nQ 14.984375 17.484375 19.15625 11.84375 \r\nQ 23.34375 6.203125 30.609375 6.203125 \r\nQ 37.796875 6.203125 41.984375 11.859375 \r\nQ 46.1875 17.53125 46.1875 27.296875 \r\nQ 46.1875 37.015625 41.984375 42.703125 \r\nQ 37.796875 48.390625 30.609375 48.390625 \r\nz\r\nM 30.609375 56 \r\nQ 42.328125 56 49.015625 48.375 \r\nQ 55.71875 40.765625 55.71875 27.296875 \r\nQ 55.71875 13.875 49.015625 6.21875 \r\nQ 42.328125 -1.421875 30.609375 -1.421875 \r\nQ 18.84375 -1.421875 12.171875 6.21875 \r\nQ 5.515625 13.875 5.515625 27.296875 \r\nQ 5.515625 40.765625 12.171875 48.375 \r\nQ 18.84375 56 30.609375 56 \r\nz\r\n\" id=\"DejaVuSans-111\"/>\r\n      <path d=\"M 18.3125 70.21875 \r\nL 18.3125 54.6875 \r\nL 36.8125 54.6875 \r\nL 36.8125 47.703125 \r\nL 18.3125 47.703125 \r\nL 18.3125 18.015625 \r\nQ 18.3125 11.328125 20.140625 9.421875 \r\nQ 21.96875 7.515625 27.59375 7.515625 \r\nL 36.8125 7.515625 \r\nL 36.8125 0 \r\nL 27.59375 0 \r\nQ 17.1875 0 13.234375 3.875 \r\nQ 9.28125 7.765625 9.28125 18.015625 \r\nL 9.28125 47.703125 \r\nL 2.6875 47.703125 \r\nL 2.6875 54.6875 \r\nL 9.28125 54.6875 \r\nL 9.28125 70.21875 \r\nz\r\n\" id=\"DejaVuSans-116\"/>\r\n      <path d=\"M 34.28125 27.484375 \r\nQ 23.390625 27.484375 19.1875 25 \r\nQ 14.984375 22.515625 14.984375 16.5 \r\nQ 14.984375 11.71875 18.140625 8.90625 \r\nQ 21.296875 6.109375 26.703125 6.109375 \r\nQ 34.1875 6.109375 38.703125 11.40625 \r\nQ 43.21875 16.703125 43.21875 25.484375 \r\nL 43.21875 27.484375 \r\nz\r\nM 52.203125 31.203125 \r\nL 52.203125 0 \r\nL 43.21875 0 \r\nL 43.21875 8.296875 \r\nQ 40.140625 3.328125 35.546875 0.953125 \r\nQ 30.953125 -1.421875 24.3125 -1.421875 \r\nQ 15.921875 -1.421875 10.953125 3.296875 \r\nQ 6 8.015625 6 15.921875 \r\nQ 6 25.140625 12.171875 29.828125 \r\nQ 18.359375 34.515625 30.609375 34.515625 \r\nL 43.21875 34.515625 \r\nL 43.21875 35.40625 \r\nQ 43.21875 41.609375 39.140625 45 \r\nQ 35.0625 48.390625 27.6875 48.390625 \r\nQ 23 48.390625 18.546875 47.265625 \r\nQ 14.109375 46.140625 10.015625 43.890625 \r\nL 10.015625 52.203125 \r\nQ 14.9375 54.109375 19.578125 55.046875 \r\nQ 24.21875 56 28.609375 56 \r\nQ 40.484375 56 46.34375 49.84375 \r\nQ 52.203125 43.703125 52.203125 31.203125 \r\nz\r\n\" id=\"DejaVuSans-97\"/>\r\n      <path d=\"M 9.421875 75.984375 \r\nL 18.40625 75.984375 \r\nL 18.40625 0 \r\nL 9.421875 0 \r\nz\r\n\" id=\"DejaVuSans-108\"/>\r\n      <path id=\"DejaVuSans-32\"/>\r\n      <path d=\"M 54.890625 33.015625 \r\nL 54.890625 0 \r\nL 45.90625 0 \r\nL 45.90625 32.71875 \r\nQ 45.90625 40.484375 42.875 44.328125 \r\nQ 39.84375 48.1875 33.796875 48.1875 \r\nQ 26.515625 48.1875 22.3125 43.546875 \r\nQ 18.109375 38.921875 18.109375 30.90625 \r\nL 18.109375 0 \r\nL 9.078125 0 \r\nL 9.078125 75.984375 \r\nL 18.109375 75.984375 \r\nL 18.109375 46.1875 \r\nQ 21.34375 51.125 25.703125 53.5625 \r\nQ 30.078125 56 35.796875 56 \r\nQ 45.21875 56 50.046875 50.171875 \r\nQ 54.890625 44.34375 54.890625 33.015625 \r\nz\r\n\" id=\"DejaVuSans-104\"/>\r\n      <path d=\"M 41.109375 46.296875 \r\nQ 39.59375 47.171875 37.8125 47.578125 \r\nQ 36.03125 48 33.890625 48 \r\nQ 26.265625 48 22.1875 43.046875 \r\nQ 18.109375 38.09375 18.109375 28.8125 \r\nL 18.109375 0 \r\nL 9.078125 0 \r\nL 9.078125 54.6875 \r\nL 18.109375 54.6875 \r\nL 18.109375 46.1875 \r\nQ 20.953125 51.171875 25.484375 53.578125 \r\nQ 30.03125 56 36.53125 56 \r\nQ 37.453125 56 38.578125 55.875 \r\nQ 39.703125 55.765625 41.0625 55.515625 \r\nz\r\n\" id=\"DejaVuSans-114\"/>\r\n      <path d=\"M 8.5 21.578125 \r\nL 8.5 54.6875 \r\nL 17.484375 54.6875 \r\nL 17.484375 21.921875 \r\nQ 17.484375 14.15625 20.5 10.265625 \r\nQ 23.53125 6.390625 29.59375 6.390625 \r\nQ 36.859375 6.390625 41.078125 11.03125 \r\nQ 45.3125 15.671875 45.3125 23.6875 \r\nL 45.3125 54.6875 \r\nL 54.296875 54.6875 \r\nL 54.296875 0 \r\nL 45.3125 0 \r\nL 45.3125 8.40625 \r\nQ 42.046875 3.421875 37.71875 1 \r\nQ 33.40625 -1.421875 27.6875 -1.421875 \r\nQ 18.265625 -1.421875 13.375 4.4375 \r\nQ 8.5 10.296875 8.5 21.578125 \r\nz\r\nM 31.109375 56 \r\nz\r\n\" id=\"DejaVuSans-117\"/>\r\n      <path d=\"M 45.40625 27.984375 \r\nQ 45.40625 37.75 41.375 43.109375 \r\nQ 37.359375 48.484375 30.078125 48.484375 \r\nQ 22.859375 48.484375 18.828125 43.109375 \r\nQ 14.796875 37.75 14.796875 27.984375 \r\nQ 14.796875 18.265625 18.828125 12.890625 \r\nQ 22.859375 7.515625 30.078125 7.515625 \r\nQ 37.359375 7.515625 41.375 12.890625 \r\nQ 45.40625 18.265625 45.40625 27.984375 \r\nz\r\nM 54.390625 6.78125 \r\nQ 54.390625 -7.171875 48.1875 -13.984375 \r\nQ 42 -20.796875 29.203125 -20.796875 \r\nQ 24.46875 -20.796875 20.265625 -20.09375 \r\nQ 16.0625 -19.390625 12.109375 -17.921875 \r\nL 12.109375 -9.1875 \r\nQ 16.0625 -11.328125 19.921875 -12.34375 \r\nQ 23.78125 -13.375 27.78125 -13.375 \r\nQ 36.625 -13.375 41.015625 -8.765625 \r\nQ 45.40625 -4.15625 45.40625 5.171875 \r\nL 45.40625 9.625 \r\nQ 42.625 4.78125 38.28125 2.390625 \r\nQ 33.9375 0 27.875 0 \r\nQ 17.828125 0 11.671875 7.65625 \r\nQ 5.515625 15.328125 5.515625 27.984375 \r\nQ 5.515625 40.671875 11.671875 48.328125 \r\nQ 17.828125 56 27.875 56 \r\nQ 33.9375 56 38.28125 53.609375 \r\nQ 42.625 51.21875 45.40625 46.390625 \r\nL 45.40625 54.6875 \r\nL 54.390625 54.6875 \r\nz\r\n\" id=\"DejaVuSans-103\"/>\r\n      <path d=\"M 18.109375 8.203125 \r\nL 18.109375 -20.796875 \r\nL 9.078125 -20.796875 \r\nL 9.078125 54.6875 \r\nL 18.109375 54.6875 \r\nL 18.109375 46.390625 \r\nQ 20.953125 51.265625 25.265625 53.625 \r\nQ 29.59375 56 35.59375 56 \r\nQ 45.5625 56 51.78125 48.09375 \r\nQ 58.015625 40.1875 58.015625 27.296875 \r\nQ 58.015625 14.40625 51.78125 6.484375 \r\nQ 45.5625 -1.421875 35.59375 -1.421875 \r\nQ 29.59375 -1.421875 25.265625 0.953125 \r\nQ 20.953125 3.328125 18.109375 8.203125 \r\nz\r\nM 48.6875 27.296875 \r\nQ 48.6875 37.203125 44.609375 42.84375 \r\nQ 40.53125 48.484375 33.40625 48.484375 \r\nQ 26.265625 48.484375 22.1875 42.84375 \r\nQ 18.109375 37.203125 18.109375 27.296875 \r\nQ 18.109375 17.390625 22.1875 11.75 \r\nQ 26.265625 6.109375 33.40625 6.109375 \r\nQ 40.53125 6.109375 44.609375 11.75 \r\nQ 48.6875 17.390625 48.6875 27.296875 \r\nz\r\n\" id=\"DejaVuSans-112\"/>\r\n      <path d=\"M 8.59375 75.984375 \r\nL 29.296875 75.984375 \r\nL 29.296875 69 \r\nL 17.578125 69 \r\nL 17.578125 -6.203125 \r\nL 29.296875 -6.203125 \r\nL 29.296875 -13.1875 \r\nL 8.59375 -13.1875 \r\nz\r\n\" id=\"DejaVuSans-91\"/>\r\n      <path d=\"M 9.078125 75.984375 \r\nL 18.109375 75.984375 \r\nL 18.109375 31.109375 \r\nL 44.921875 54.6875 \r\nL 56.390625 54.6875 \r\nL 27.390625 29.109375 \r\nL 57.625 0 \r\nL 45.90625 0 \r\nL 18.109375 26.703125 \r\nL 18.109375 0 \r\nL 9.078125 0 \r\nz\r\n\" id=\"DejaVuSans-107\"/>\r\n      <path d=\"M 30.421875 75.984375 \r\nL 30.421875 -13.1875 \r\nL 9.71875 -13.1875 \r\nL 9.71875 -6.203125 \r\nL 21.390625 -6.203125 \r\nL 21.390625 69 \r\nL 9.71875 69 \r\nL 9.71875 75.984375 \r\nz\r\n\" id=\"DejaVuSans-93\"/>\r\n     </defs>\r\n     <g transform=\"translate(173.151563 268.034687)scale(0.1 -0.1)\">\r\n      <use xlink:href=\"#DejaVuSans-84\"/>\r\n      <use x=\"44.083984\" xlink:href=\"#DejaVuSans-111\"/>\r\n      <use x=\"105.265625\" xlink:href=\"#DejaVuSans-116\"/>\r\n      <use x=\"144.474609\" xlink:href=\"#DejaVuSans-97\"/>\r\n      <use x=\"205.753906\" xlink:href=\"#DejaVuSans-108\"/>\r\n      <use x=\"233.537109\" xlink:href=\"#DejaVuSans-32\"/>\r\n      <use x=\"265.324219\" xlink:href=\"#DejaVuSans-116\"/>\r\n      <use x=\"304.533203\" xlink:href=\"#DejaVuSans-104\"/>\r\n      <use x=\"367.912109\" xlink:href=\"#DejaVuSans-114\"/>\r\n      <use x=\"406.775391\" xlink:href=\"#DejaVuSans-111\"/>\r\n      <use x=\"467.957031\" xlink:href=\"#DejaVuSans-117\"/>\r\n      <use x=\"531.335938\" xlink:href=\"#DejaVuSans-103\"/>\r\n      <use x=\"594.8125\" xlink:href=\"#DejaVuSans-104\"/>\r\n      <use x=\"658.191406\" xlink:href=\"#DejaVuSans-112\"/>\r\n      <use x=\"721.667969\" xlink:href=\"#DejaVuSans-117\"/>\r\n      <use x=\"785.046875\" xlink:href=\"#DejaVuSans-116\"/>\r\n      <use x=\"824.255859\" xlink:href=\"#DejaVuSans-32\"/>\r\n      <use x=\"856.042969\" xlink:href=\"#DejaVuSans-91\"/>\r\n      <use x=\"895.056641\" xlink:href=\"#DejaVuSans-107\"/>\r\n      <use x=\"952.966797\" xlink:href=\"#DejaVuSans-103\"/>\r\n      <use x=\"1016.443359\" xlink:href=\"#DejaVuSans-93\"/>\r\n     </g>\r\n    </g>\r\n   </g>\r\n   <g id=\"matplotlib.axis_2\">\r\n    <g id=\"ytick_1\">\r\n     <g id=\"line2d_9\">\r\n      <defs>\r\n       <path d=\"M 0 0 \r\nL -3.5 0 \r\n\" id=\"m25b0064d90\" style=\"stroke:#000000;stroke-width:0.8;\"/>\r\n      </defs>\r\n      <g>\r\n       <use style=\"stroke:#000000;stroke-width:0.8;\" x=\"58.523438\" xlink:href=\"#m25b0064d90\" y=\"210.107216\"/>\r\n      </g>\r\n     </g>\r\n     <g id=\"text_10\">\r\n      <!-- −0.04 -->\r\n      <defs>\r\n       <path d=\"M 10.59375 35.5 \r\nL 73.1875 35.5 \r\nL 73.1875 27.203125 \r\nL 10.59375 27.203125 \r\nz\r\n\" id=\"DejaVuSans-8722\"/>\r\n       <path d=\"M 10.6875 12.40625 \r\nL 21 12.40625 \r\nL 21 0 \r\nL 10.6875 0 \r\nz\r\n\" id=\"DejaVuSans-46\"/>\r\n      </defs>\r\n      <g transform=\"translate(20.878125 213.906435)scale(0.1 -0.1)\">\r\n       <use xlink:href=\"#DejaVuSans-8722\"/>\r\n       <use x=\"83.789062\" xlink:href=\"#DejaVuSans-48\"/>\r\n       <use x=\"147.412109\" xlink:href=\"#DejaVuSans-46\"/>\r\n       <use x=\"179.199219\" xlink:href=\"#DejaVuSans-48\"/>\r\n       <use x=\"242.822266\" xlink:href=\"#DejaVuSans-52\"/>\r\n      </g>\r\n     </g>\r\n    </g>\r\n    <g id=\"ytick_2\">\r\n     <g id=\"line2d_10\">\r\n      <g>\r\n       <use style=\"stroke:#000000;stroke-width:0.8;\" x=\"58.523438\" xlink:href=\"#m25b0064d90\" y=\"170.57267\"/>\r\n      </g>\r\n     </g>\r\n     <g id=\"text_11\">\r\n      <!-- −0.02 -->\r\n      <defs>\r\n       <path d=\"M 19.1875 8.296875 \r\nL 53.609375 8.296875 \r\nL 53.609375 0 \r\nL 7.328125 0 \r\nL 7.328125 8.296875 \r\nQ 12.9375 14.109375 22.625 23.890625 \r\nQ 32.328125 33.6875 34.8125 36.53125 \r\nQ 39.546875 41.84375 41.421875 45.53125 \r\nQ 43.3125 49.21875 43.3125 52.78125 \r\nQ 43.3125 58.59375 39.234375 62.25 \r\nQ 35.15625 65.921875 28.609375 65.921875 \r\nQ 23.96875 65.921875 18.8125 64.3125 \r\nQ 13.671875 62.703125 7.8125 59.421875 \r\nL 7.8125 69.390625 \r\nQ 13.765625 71.78125 18.9375 73 \r\nQ 24.125 74.21875 28.421875 74.21875 \r\nQ 39.75 74.21875 46.484375 68.546875 \r\nQ 53.21875 62.890625 53.21875 53.421875 \r\nQ 53.21875 48.921875 51.53125 44.890625 \r\nQ 49.859375 40.875 45.40625 35.40625 \r\nQ 44.1875 33.984375 37.640625 27.21875 \r\nQ 31.109375 20.453125 19.1875 8.296875 \r\nz\r\n\" id=\"DejaVuSans-50\"/>\r\n      </defs>\r\n      <g transform=\"translate(20.878125 174.371889)scale(0.1 -0.1)\">\r\n       <use xlink:href=\"#DejaVuSans-8722\"/>\r\n       <use x=\"83.789062\" xlink:href=\"#DejaVuSans-48\"/>\r\n       <use x=\"147.412109\" xlink:href=\"#DejaVuSans-46\"/>\r\n       <use x=\"179.199219\" xlink:href=\"#DejaVuSans-48\"/>\r\n       <use x=\"242.822266\" xlink:href=\"#DejaVuSans-50\"/>\r\n      </g>\r\n     </g>\r\n    </g>\r\n    <g id=\"ytick_3\">\r\n     <g id=\"line2d_11\">\r\n      <g>\r\n       <use style=\"stroke:#000000;stroke-width:0.8;\" x=\"58.523438\" xlink:href=\"#m25b0064d90\" y=\"131.038125\"/>\r\n      </g>\r\n     </g>\r\n     <g id=\"text_12\">\r\n      <!-- 0.00 -->\r\n      <g transform=\"translate(29.257813 134.837344)scale(0.1 -0.1)\">\r\n       <use xlink:href=\"#DejaVuSans-48\"/>\r\n       <use x=\"63.623047\" xlink:href=\"#DejaVuSans-46\"/>\r\n       <use x=\"95.410156\" xlink:href=\"#DejaVuSans-48\"/>\r\n       <use x=\"159.033203\" xlink:href=\"#DejaVuSans-48\"/>\r\n      </g>\r\n     </g>\r\n    </g>\r\n    <g id=\"ytick_4\">\r\n     <g id=\"line2d_12\">\r\n      <g>\r\n       <use style=\"stroke:#000000;stroke-width:0.8;\" x=\"58.523438\" xlink:href=\"#m25b0064d90\" y=\"91.50358\"/>\r\n      </g>\r\n     </g>\r\n     <g id=\"text_13\">\r\n      <!-- 0.02 -->\r\n      <g transform=\"translate(29.257813 95.302798)scale(0.1 -0.1)\">\r\n       <use xlink:href=\"#DejaVuSans-48\"/>\r\n       <use x=\"63.623047\" xlink:href=\"#DejaVuSans-46\"/>\r\n       <use x=\"95.410156\" xlink:href=\"#DejaVuSans-48\"/>\r\n       <use x=\"159.033203\" xlink:href=\"#DejaVuSans-50\"/>\r\n      </g>\r\n     </g>\r\n    </g>\r\n    <g id=\"ytick_5\">\r\n     <g id=\"line2d_13\">\r\n      <g>\r\n       <use style=\"stroke:#000000;stroke-width:0.8;\" x=\"58.523438\" xlink:href=\"#m25b0064d90\" y=\"51.969034\"/>\r\n      </g>\r\n     </g>\r\n     <g id=\"text_14\">\r\n      <!-- 0.04 -->\r\n      <g transform=\"translate(29.257813 55.768253)scale(0.1 -0.1)\">\r\n       <use xlink:href=\"#DejaVuSans-48\"/>\r\n       <use x=\"63.623047\" xlink:href=\"#DejaVuSans-46\"/>\r\n       <use x=\"95.410156\" xlink:href=\"#DejaVuSans-48\"/>\r\n       <use x=\"159.033203\" xlink:href=\"#DejaVuSans-52\"/>\r\n      </g>\r\n     </g>\r\n    </g>\r\n    <g id=\"text_15\">\r\n     <!-- Median total inventory deficit [kg] -->\r\n     <defs>\r\n      <path d=\"M 9.8125 72.90625 \r\nL 24.515625 72.90625 \r\nL 43.109375 23.296875 \r\nL 61.8125 72.90625 \r\nL 76.515625 72.90625 \r\nL 76.515625 0 \r\nL 66.890625 0 \r\nL 66.890625 64.015625 \r\nL 48.09375 14.015625 \r\nL 38.1875 14.015625 \r\nL 19.390625 64.015625 \r\nL 19.390625 0 \r\nL 9.8125 0 \r\nz\r\n\" id=\"DejaVuSans-77\"/>\r\n      <path d=\"M 56.203125 29.59375 \r\nL 56.203125 25.203125 \r\nL 14.890625 25.203125 \r\nQ 15.484375 15.921875 20.484375 11.0625 \r\nQ 25.484375 6.203125 34.421875 6.203125 \r\nQ 39.59375 6.203125 44.453125 7.46875 \r\nQ 49.3125 8.734375 54.109375 11.28125 \r\nL 54.109375 2.78125 \r\nQ 49.265625 0.734375 44.1875 -0.34375 \r\nQ 39.109375 -1.421875 33.890625 -1.421875 \r\nQ 20.796875 -1.421875 13.15625 6.1875 \r\nQ 5.515625 13.8125 5.515625 26.8125 \r\nQ 5.515625 40.234375 12.765625 48.109375 \r\nQ 20.015625 56 32.328125 56 \r\nQ 43.359375 56 49.78125 48.890625 \r\nQ 56.203125 41.796875 56.203125 29.59375 \r\nz\r\nM 47.21875 32.234375 \r\nQ 47.125 39.59375 43.09375 43.984375 \r\nQ 39.0625 48.390625 32.421875 48.390625 \r\nQ 24.90625 48.390625 20.390625 44.140625 \r\nQ 15.875 39.890625 15.1875 32.171875 \r\nz\r\n\" id=\"DejaVuSans-101\"/>\r\n      <path d=\"M 45.40625 46.390625 \r\nL 45.40625 75.984375 \r\nL 54.390625 75.984375 \r\nL 54.390625 0 \r\nL 45.40625 0 \r\nL 45.40625 8.203125 \r\nQ 42.578125 3.328125 38.25 0.953125 \r\nQ 33.9375 -1.421875 27.875 -1.421875 \r\nQ 17.96875 -1.421875 11.734375 6.484375 \r\nQ 5.515625 14.40625 5.515625 27.296875 \r\nQ 5.515625 40.1875 11.734375 48.09375 \r\nQ 17.96875 56 27.875 56 \r\nQ 33.9375 56 38.25 53.625 \r\nQ 42.578125 51.265625 45.40625 46.390625 \r\nz\r\nM 14.796875 27.296875 \r\nQ 14.796875 17.390625 18.875 11.75 \r\nQ 22.953125 6.109375 30.078125 6.109375 \r\nQ 37.203125 6.109375 41.296875 11.75 \r\nQ 45.40625 17.390625 45.40625 27.296875 \r\nQ 45.40625 37.203125 41.296875 42.84375 \r\nQ 37.203125 48.484375 30.078125 48.484375 \r\nQ 22.953125 48.484375 18.875 42.84375 \r\nQ 14.796875 37.203125 14.796875 27.296875 \r\nz\r\n\" id=\"DejaVuSans-100\"/>\r\n      <path d=\"M 9.421875 54.6875 \r\nL 18.40625 54.6875 \r\nL 18.40625 0 \r\nL 9.421875 0 \r\nz\r\nM 9.421875 75.984375 \r\nL 18.40625 75.984375 \r\nL 18.40625 64.59375 \r\nL 9.421875 64.59375 \r\nz\r\n\" id=\"DejaVuSans-105\"/>\r\n      <path d=\"M 54.890625 33.015625 \r\nL 54.890625 0 \r\nL 45.90625 0 \r\nL 45.90625 32.71875 \r\nQ 45.90625 40.484375 42.875 44.328125 \r\nQ 39.84375 48.1875 33.796875 48.1875 \r\nQ 26.515625 48.1875 22.3125 43.546875 \r\nQ 18.109375 38.921875 18.109375 30.90625 \r\nL 18.109375 0 \r\nL 9.078125 0 \r\nL 9.078125 54.6875 \r\nL 18.109375 54.6875 \r\nL 18.109375 46.1875 \r\nQ 21.34375 51.125 25.703125 53.5625 \r\nQ 30.078125 56 35.796875 56 \r\nQ 45.21875 56 50.046875 50.171875 \r\nQ 54.890625 44.34375 54.890625 33.015625 \r\nz\r\n\" id=\"DejaVuSans-110\"/>\r\n      <path d=\"M 2.984375 54.6875 \r\nL 12.5 54.6875 \r\nL 29.59375 8.796875 \r\nL 46.6875 54.6875 \r\nL 56.203125 54.6875 \r\nL 35.6875 0 \r\nL 23.484375 0 \r\nz\r\n\" id=\"DejaVuSans-118\"/>\r\n      <path d=\"M 32.171875 -5.078125 \r\nQ 28.375 -14.84375 24.75 -17.8125 \r\nQ 21.140625 -20.796875 15.09375 -20.796875 \r\nL 7.90625 -20.796875 \r\nL 7.90625 -13.28125 \r\nL 13.1875 -13.28125 \r\nQ 16.890625 -13.28125 18.9375 -11.515625 \r\nQ 21 -9.765625 23.484375 -3.21875 \r\nL 25.09375 0.875 \r\nL 2.984375 54.6875 \r\nL 12.5 54.6875 \r\nL 29.59375 11.921875 \r\nL 46.6875 54.6875 \r\nL 56.203125 54.6875 \r\nz\r\n\" id=\"DejaVuSans-121\"/>\r\n      <path d=\"M 37.109375 75.984375 \r\nL 37.109375 68.5 \r\nL 28.515625 68.5 \r\nQ 23.6875 68.5 21.796875 66.546875 \r\nQ 19.921875 64.59375 19.921875 59.515625 \r\nL 19.921875 54.6875 \r\nL 34.71875 54.6875 \r\nL 34.71875 47.703125 \r\nL 19.921875 47.703125 \r\nL 19.921875 0 \r\nL 10.890625 0 \r\nL 10.890625 47.703125 \r\nL 2.296875 47.703125 \r\nL 2.296875 54.6875 \r\nL 10.890625 54.6875 \r\nL 10.890625 58.5 \r\nQ 10.890625 67.625 15.140625 71.796875 \r\nQ 19.390625 75.984375 28.609375 75.984375 \r\nz\r\n\" id=\"DejaVuSans-102\"/>\r\n      <path d=\"M 48.78125 52.59375 \r\nL 48.78125 44.1875 \r\nQ 44.96875 46.296875 41.140625 47.34375 \r\nQ 37.3125 48.390625 33.40625 48.390625 \r\nQ 24.65625 48.390625 19.8125 42.84375 \r\nQ 14.984375 37.3125 14.984375 27.296875 \r\nQ 14.984375 17.28125 19.8125 11.734375 \r\nQ 24.65625 6.203125 33.40625 6.203125 \r\nQ 37.3125 6.203125 41.140625 7.25 \r\nQ 44.96875 8.296875 48.78125 10.40625 \r\nL 48.78125 2.09375 \r\nQ 45.015625 0.34375 40.984375 -0.53125 \r\nQ 36.96875 -1.421875 32.421875 -1.421875 \r\nQ 20.0625 -1.421875 12.78125 6.34375 \r\nQ 5.515625 14.109375 5.515625 27.296875 \r\nQ 5.515625 40.671875 12.859375 48.328125 \r\nQ 20.21875 56 33.015625 56 \r\nQ 37.15625 56 41.109375 55.140625 \r\nQ 45.0625 54.296875 48.78125 52.59375 \r\nz\r\n\" id=\"DejaVuSans-99\"/>\r\n     </defs>\r\n     <g transform=\"translate(14.798438 216.280312)rotate(-90)scale(0.1 -0.1)\">\r\n      <use xlink:href=\"#DejaVuSans-77\"/>\r\n      <use x=\"86.279297\" xlink:href=\"#DejaVuSans-101\"/>\r\n      <use x=\"147.802734\" xlink:href=\"#DejaVuSans-100\"/>\r\n      <use x=\"211.279297\" xlink:href=\"#DejaVuSans-105\"/>\r\n      <use x=\"239.0625\" xlink:href=\"#DejaVuSans-97\"/>\r\n      <use x=\"300.341797\" xlink:href=\"#DejaVuSans-110\"/>\r\n      <use x=\"363.720703\" xlink:href=\"#DejaVuSans-32\"/>\r\n      <use x=\"395.507812\" xlink:href=\"#DejaVuSans-116\"/>\r\n      <use x=\"434.716797\" xlink:href=\"#DejaVuSans-111\"/>\r\n      <use x=\"495.898438\" xlink:href=\"#DejaVuSans-116\"/>\r\n      <use x=\"535.107422\" xlink:href=\"#DejaVuSans-97\"/>\r\n      <use x=\"596.386719\" xlink:href=\"#DejaVuSans-108\"/>\r\n      <use x=\"624.169922\" xlink:href=\"#DejaVuSans-32\"/>\r\n      <use x=\"655.957031\" xlink:href=\"#DejaVuSans-105\"/>\r\n      <use x=\"683.740234\" xlink:href=\"#DejaVuSans-110\"/>\r\n      <use x=\"747.119141\" xlink:href=\"#DejaVuSans-118\"/>\r\n      <use x=\"806.298828\" xlink:href=\"#DejaVuSans-101\"/>\r\n      <use x=\"867.822266\" xlink:href=\"#DejaVuSans-110\"/>\r\n      <use x=\"931.201172\" xlink:href=\"#DejaVuSans-116\"/>\r\n      <use x=\"970.410156\" xlink:href=\"#DejaVuSans-111\"/>\r\n      <use x=\"1031.591797\" xlink:href=\"#DejaVuSans-114\"/>\r\n      <use x=\"1072.705078\" xlink:href=\"#DejaVuSans-121\"/>\r\n      <use x=\"1131.884766\" xlink:href=\"#DejaVuSans-32\"/>\r\n      <use x=\"1163.671875\" xlink:href=\"#DejaVuSans-100\"/>\r\n      <use x=\"1227.148438\" xlink:href=\"#DejaVuSans-101\"/>\r\n      <use x=\"1288.671875\" xlink:href=\"#DejaVuSans-102\"/>\r\n      <use x=\"1323.876953\" xlink:href=\"#DejaVuSans-105\"/>\r\n      <use x=\"1351.660156\" xlink:href=\"#DejaVuSans-99\"/>\r\n      <use x=\"1406.640625\" xlink:href=\"#DejaVuSans-105\"/>\r\n      <use x=\"1434.423828\" xlink:href=\"#DejaVuSans-116\"/>\r\n      <use x=\"1473.632812\" xlink:href=\"#DejaVuSans-32\"/>\r\n      <use x=\"1505.419922\" xlink:href=\"#DejaVuSans-91\"/>\r\n      <use x=\"1544.433594\" xlink:href=\"#DejaVuSans-107\"/>\r\n      <use x=\"1602.34375\" xlink:href=\"#DejaVuSans-103\"/>\r\n      <use x=\"1665.820312\" xlink:href=\"#DejaVuSans-93\"/>\r\n     </g>\r\n    </g>\r\n   </g>\r\n   <g id=\"patch_3\">\r\n    <path d=\"M 58.523438 239.758125 \r\nL 58.523438 22.318125 \r\n\" style=\"fill:none;stroke:#000000;stroke-linecap:square;stroke-linejoin:miter;stroke-width:0.8;\"/>\r\n   </g>\r\n   <g id=\"patch_4\">\r\n    <path d=\"M 393.323438 239.758125 \r\nL 393.323438 22.318125 \r\n\" style=\"fill:none;stroke:#000000;stroke-linecap:square;stroke-linejoin:miter;stroke-width:0.8;\"/>\r\n   </g>\r\n   <g id=\"patch_5\">\r\n    <path d=\"M 58.523438 239.758125 \r\nL 393.323438 239.758125 \r\n\" style=\"fill:none;stroke:#000000;stroke-linecap:square;stroke-linejoin:miter;stroke-width:0.8;\"/>\r\n   </g>\r\n   <g id=\"patch_6\">\r\n    <path d=\"M 58.523438 22.318125 \r\nL 393.323438 22.318125 \r\n\" style=\"fill:none;stroke:#000000;stroke-linecap:square;stroke-linejoin:miter;stroke-width:0.8;\"/>\r\n   </g>\r\n   <g id=\"text_16\">\r\n    <!-- X and Y solutions -->\r\n    <defs>\r\n     <path d=\"M 6.296875 72.90625 \r\nL 16.890625 72.90625 \r\nL 35.015625 45.796875 \r\nL 53.21875 72.90625 \r\nL 63.8125 72.90625 \r\nL 40.375 37.890625 \r\nL 65.375 0 \r\nL 54.78125 0 \r\nL 34.28125 31 \r\nL 13.625 0 \r\nL 2.984375 0 \r\nL 29 38.921875 \r\nz\r\n\" id=\"DejaVuSans-88\"/>\r\n     <path d=\"M -0.203125 72.90625 \r\nL 10.40625 72.90625 \r\nL 30.609375 42.921875 \r\nL 50.6875 72.90625 \r\nL 61.28125 72.90625 \r\nL 35.5 34.71875 \r\nL 35.5 0 \r\nL 25.59375 0 \r\nL 25.59375 34.71875 \r\nz\r\n\" id=\"DejaVuSans-89\"/>\r\n     <path d=\"M 44.28125 53.078125 \r\nL 44.28125 44.578125 \r\nQ 40.484375 46.53125 36.375 47.5 \r\nQ 32.28125 48.484375 27.875 48.484375 \r\nQ 21.1875 48.484375 17.84375 46.4375 \r\nQ 14.5 44.390625 14.5 40.28125 \r\nQ 14.5 37.15625 16.890625 35.375 \r\nQ 19.28125 33.59375 26.515625 31.984375 \r\nL 29.59375 31.296875 \r\nQ 39.15625 29.25 43.1875 25.515625 \r\nQ 47.21875 21.78125 47.21875 15.09375 \r\nQ 47.21875 7.46875 41.1875 3.015625 \r\nQ 35.15625 -1.421875 24.609375 -1.421875 \r\nQ 20.21875 -1.421875 15.453125 -0.5625 \r\nQ 10.6875 0.296875 5.421875 2 \r\nL 5.421875 11.28125 \r\nQ 10.40625 8.6875 15.234375 7.390625 \r\nQ 20.0625 6.109375 24.8125 6.109375 \r\nQ 31.15625 6.109375 34.5625 8.28125 \r\nQ 37.984375 10.453125 37.984375 14.40625 \r\nQ 37.984375 18.0625 35.515625 20.015625 \r\nQ 33.0625 21.96875 24.703125 23.78125 \r\nL 21.578125 24.515625 \r\nQ 13.234375 26.265625 9.515625 29.90625 \r\nQ 5.8125 33.546875 5.8125 39.890625 \r\nQ 5.8125 47.609375 11.28125 51.796875 \r\nQ 16.75 56 26.8125 56 \r\nQ 31.78125 56 36.171875 55.265625 \r\nQ 40.578125 54.546875 44.28125 53.078125 \r\nz\r\n\" id=\"DejaVuSans-115\"/>\r\n    </defs>\r\n    <g transform=\"translate(174.255 16.318125)scale(0.12 -0.12)\">\r\n     <use xlink:href=\"#DejaVuSans-88\"/>\r\n     <use x=\"68.505859\" xlink:href=\"#DejaVuSans-32\"/>\r\n     <use x=\"100.292969\" xlink:href=\"#DejaVuSans-97\"/>\r\n     <use x=\"161.572266\" xlink:href=\"#DejaVuSans-110\"/>\r\n     <use x=\"224.951172\" xlink:href=\"#DejaVuSans-100\"/>\r\n     <use x=\"288.427734\" xlink:href=\"#DejaVuSans-32\"/>\r\n     <use x=\"320.214844\" xlink:href=\"#DejaVuSans-89\"/>\r\n     <use x=\"381.298828\" xlink:href=\"#DejaVuSans-32\"/>\r\n     <use x=\"413.085938\" xlink:href=\"#DejaVuSans-115\"/>\r\n     <use x=\"465.185547\" xlink:href=\"#DejaVuSans-111\"/>\r\n     <use x=\"526.367188\" xlink:href=\"#DejaVuSans-108\"/>\r\n     <use x=\"554.150391\" xlink:href=\"#DejaVuSans-117\"/>\r\n     <use x=\"617.529297\" xlink:href=\"#DejaVuSans-116\"/>\r\n     <use x=\"656.738281\" xlink:href=\"#DejaVuSans-105\"/>\r\n     <use x=\"684.521484\" xlink:href=\"#DejaVuSans-111\"/>\r\n     <use x=\"745.703125\" xlink:href=\"#DejaVuSans-110\"/>\r\n     <use x=\"809.082031\" xlink:href=\"#DejaVuSans-115\"/>\r\n    </g>\r\n   </g>\r\n  </g>\r\n </g>\r\n <defs>\r\n  <clipPath id=\"pdd368d17af\">\r\n   <rect height=\"217.44\" width=\"334.8\" x=\"58.523438\" y=\"22.318125\"/>\r\n  </clipPath>\r\n </defs>\r\n</svg>\r\n",
      "image/png": "[encoded data removed]"
     },
     "metadata": {
      "needs_background": "light"
     }
    }
   ],
   "source": [
    "import matplotlib.pyplot as plt\n",
    "x=np.array(df_ind['Total throughput [kg]'])\n",
    "y=np.array(df_ind['Median total inventory deficit [kg]'])\n",
    "plt.scatter(x,y,c=\"g\",label=\"Pareto Front\")\n",
    "plt.title('X and Y solutions')\n",
    "plt.xlabel('Total throughput [kg]')\n",
    "plt.ylabel('Median total inventory deficit [kg]')\n",
    "plt.show()"
   ]
  },
  {
   "cell_type": "code",
   "execution_count": 5,
   "metadata": {},
   "outputs": [
    {
     "output_type": "execute_result",
     "data": {
      "text/plain": [
       "  Execution Variation Solution  Total throughput [kg]  Max total backlog [kg]  \\\n",
       "0   Article   Article        X                  539.3                     8.2   \n",
       "1   Article   Article        Y                  601.5                    16.0   \n",
       "\n",
       "   Mean total backlog [kg]  std dev total backlog [kg]  \\\n",
       "0                      0.2                         0.6   \n",
       "1                      7.1                         4.3   \n",
       "\n",
       "   Median total backlog [kg]  Min total backlog [kg]  P(total backlog ≤ 0 kg)  \\\n",
       "0                          0                       0                     0.82   \n",
       "1                          0                       0                     0.50   \n",
       "\n",
       "   Max total inventory deficit [kg]  Mean total inventory deficit [kg]  \\\n",
       "0                             683.4                              432.6   \n",
       "1                             786.0                              558.6   \n",
       "\n",
       "   std dev inventory deficit [kg]  Median total inventory deficit [kg]  \\\n",
       "0                            58.6                                424.4   \n",
       "1                            59.0                                551.7   \n",
       "\n",
       "   Min total inventory deficit [kg]  Total Deficit [kg]  \\\n",
       "0                             259.4                 NaN   \n",
       "1                             355.6                 NaN   \n",
       "\n",
       "                       Batches [un]              Product label  \\\n",
       "0  [15 10 29 3 15 11 15 6 2 2 2 10]  [3 2 0 1 3 2 1 3 2 1 2 3]   \n",
       "1           [12 13 24 18 5 19 9 30]          [3 2 0 3 1 0 2 3]   \n",
       "\n",
       "   Start of USP [date]  End of DSP [date]  \n",
       "0                  NaN                NaN  \n",
       "1                  NaN                NaN  "
      ],
      "text/html": "<div>\n<style scoped>\n    .dataframe tbody tr th:only-of-type {\n        vertical-align: middle;\n    }\n\n    .dataframe tbody tr th {\n        vertical-align: top;\n    }\n\n    .dataframe thead th {\n        text-align: right;\n    }\n</style>\n<table border=\"1\" class=\"dataframe\">\n  <thead>\n    <tr style=\"text-align: right;\">\n      <th></th>\n      <th>Execution</th>\n      <th>Variation</th>\n      <th>Solution</th>\n      <th>Total throughput [kg]</th>\n      <th>Max total backlog [kg]</th>\n      <th>Mean total backlog [kg]</th>\n      <th>std dev total backlog [kg]</th>\n      <th>Median total backlog [kg]</th>\n      <th>Min total backlog [kg]</th>\n      <th>P(total backlog ≤ 0 kg)</th>\n      <th>Max total inventory deficit [kg]</th>\n      <th>Mean total inventory deficit [kg]</th>\n      <th>std dev inventory deficit [kg]</th>\n      <th>Median total inventory deficit [kg]</th>\n      <th>Min total inventory deficit [kg]</th>\n      <th>Total Deficit [kg]</th>\n      <th>Batches [un]</th>\n      <th>Product label</th>\n      <th>Start of USP [date]</th>\n      <th>End of DSP [date]</th>\n    </tr>\n  </thead>\n  <tbody>\n    <tr>\n      <th>0</th>\n      <td>Article</td>\n      <td>Article</td>\n      <td>X</td>\n      <td>539.3</td>\n      <td>8.2</td>\n      <td>0.2</td>\n      <td>0.6</td>\n      <td>0</td>\n      <td>0</td>\n      <td>0.82</td>\n      <td>683.4</td>\n      <td>432.6</td>\n      <td>58.6</td>\n      <td>424.4</td>\n      <td>259.4</td>\n      <td>NaN</td>\n      <td>[15 10 29 3 15 11 15 6 2 2 2 10]</td>\n      <td>[3 2 0 1 3 2 1 3 2 1 2 3]</td>\n      <td>NaN</td>\n      <td>NaN</td>\n    </tr>\n    <tr>\n      <th>1</th>\n      <td>Article</td>\n      <td>Article</td>\n      <td>Y</td>\n      <td>601.5</td>\n      <td>16.0</td>\n      <td>7.1</td>\n      <td>4.3</td>\n      <td>0</td>\n      <td>0</td>\n      <td>0.50</td>\n      <td>786.0</td>\n      <td>558.6</td>\n      <td>59.0</td>\n      <td>551.7</td>\n      <td>355.6</td>\n      <td>NaN</td>\n      <td>[12 13 24 18 5 19 9 30]</td>\n      <td>[3 2 0 3 1 0 2 3]</td>\n      <td>NaN</td>\n      <td>NaN</td>\n    </tr>\n  </tbody>\n</table>\n</div>"
     },
     "metadata": {},
     "execution_count": 5
    }
   ],
   "source": [
    "# Import from csv\n",
    "file_name='df_ind_base.csv'\n",
    "path=root_path_data+file_name\n",
    "df_ind_base=pd.read_csv(path)\n",
    "df_ind_base"
   ]
  },
  {
   "cell_type": "code",
   "execution_count": 6,
   "metadata": {},
   "outputs": [
    {
     "output_type": "execute_result",
     "data": {
      "text/plain": [
       "  Execution                                          Variation Solution  \\\n",
       "0   Article                                            Article        X   \n",
       "1   Article                                            Article        Y   \n",
       "0         0  front_nsga,tour_vio,rein_vio,vio_back,calc_mon...        X   \n",
       "1         0  front_nsga,tour_vio,rein_vio,vio_back,calc_mon...        Y   \n",
       "\n",
       "   Total throughput [kg]  Max total backlog [kg]  Mean total backlog [kg]  \\\n",
       "0                  539.3                8.200000                 0.200000   \n",
       "1                  601.5               16.000000                 7.100000   \n",
       "0                  663.8               10.402717                 1.085342   \n",
       "1                  663.8               10.402717                 1.085342   \n",
       "\n",
       "   std dev total backlog [kg]  Median total backlog [kg]  \\\n",
       "0                    0.600000                        0.0   \n",
       "1                    4.300000                        0.0   \n",
       "0                    2.622689                        0.0   \n",
       "1                    2.622689                        0.0   \n",
       "\n",
       "   Min total backlog [kg]  P(total backlog ≤ 0 kg)  \\\n",
       "0                     0.0                 0.820000   \n",
       "1                     0.0                 0.500000   \n",
       "0                     0.0               156.289225   \n",
       "1                     0.0               156.289225   \n",
       "\n",
       "   Max total inventory deficit [kg]  Mean total inventory deficit [kg]  \\\n",
       "0                             683.4                         432.600000   \n",
       "1                             786.0                         558.600000   \n",
       "0                              34.1                           6.568086   \n",
       "1                              34.1                           6.568086   \n",
       "\n",
       "   std dev inventory deficit [kg]  Median total inventory deficit [kg]  \\\n",
       "0                       58.600000                                424.4   \n",
       "1                       59.000000                                551.7   \n",
       "0                       10.348981                                  0.0   \n",
       "1                       10.348981                                  0.0   \n",
       "\n",
       "   Min total inventory deficit [kg]  Total Deficit [kg]  \\\n",
       "0                             259.4                 NaN   \n",
       "1                             355.6                 NaN   \n",
       "0                               0.0                 0.0   \n",
       "1                               0.0                 0.0   \n",
       "\n",
       "                       Batches [un]              Product label  \\\n",
       "0  [15 10 29 3 15 11 15 6 2 2 2 10]  [3 2 0 1 3 2 1 3 2 1 2 3]   \n",
       "1           [12 13 24 18 5 19 9 30]          [3 2 0 3 1 0 2 3]   \n",
       "0                  [31, 36, 30, 31]               [3, 2, 3, 2]   \n",
       "1                  [31, 36, 30, 31]               [3, 2, 3, 2]   \n",
       "\n",
       "                                Start of USP [date]  \\\n",
       "0                                               NaN   \n",
       "1                                               NaN   \n",
       "0  [1970-01-01, 2017-08-31, 2018-06-24, 2019-03-10]   \n",
       "1  [1970-01-01, 2017-08-31, 2018-06-24, 2019-03-10]   \n",
       "\n",
       "                                  End of DSP [date]  \n",
       "0                                               NaN  \n",
       "1                                               NaN  \n",
       "0  [2017-08-31, 2018-06-24, 2019-03-10, 2019-11-27]  \n",
       "1  [2017-08-31, 2018-06-24, 2019-03-10, 2019-11-27]  "
      ],
      "text/html": "<div>\n<style scoped>\n    .dataframe tbody tr th:only-of-type {\n        vertical-align: middle;\n    }\n\n    .dataframe tbody tr th {\n        vertical-align: top;\n    }\n\n    .dataframe thead th {\n        text-align: right;\n    }\n</style>\n<table border=\"1\" class=\"dataframe\">\n  <thead>\n    <tr style=\"text-align: right;\">\n      <th></th>\n      <th>Execution</th>\n      <th>Variation</th>\n      <th>Solution</th>\n      <th>Total throughput [kg]</th>\n      <th>Max total backlog [kg]</th>\n      <th>Mean total backlog [kg]</th>\n      <th>std dev total backlog [kg]</th>\n      <th>Median total backlog [kg]</th>\n      <th>Min total backlog [kg]</th>\n      <th>P(total backlog ≤ 0 kg)</th>\n      <th>Max total inventory deficit [kg]</th>\n      <th>Mean total inventory deficit [kg]</th>\n      <th>std dev inventory deficit [kg]</th>\n      <th>Median total inventory deficit [kg]</th>\n      <th>Min total inventory deficit [kg]</th>\n      <th>Total Deficit [kg]</th>\n      <th>Batches [un]</th>\n      <th>Product label</th>\n      <th>Start of USP [date]</th>\n      <th>End of DSP [date]</th>\n    </tr>\n  </thead>\n  <tbody>\n    <tr>\n      <th>0</th>\n      <td>Article</td>\n      <td>Article</td>\n      <td>X</td>\n      <td>539.3</td>\n      <td>8.200000</td>\n      <td>0.200000</td>\n      <td>0.600000</td>\n      <td>0.0</td>\n      <td>0.0</td>\n      <td>0.820000</td>\n      <td>683.4</td>\n      <td>432.600000</td>\n      <td>58.600000</td>\n      <td>424.4</td>\n      <td>259.4</td>\n      <td>NaN</td>\n      <td>[15 10 29 3 15 11 15 6 2 2 2 10]</td>\n      <td>[3 2 0 1 3 2 1 3 2 1 2 3]</td>\n      <td>NaN</td>\n      <td>NaN</td>\n    </tr>\n    <tr>\n      <th>1</th>\n      <td>Article</td>\n      <td>Article</td>\n      <td>Y</td>\n      <td>601.5</td>\n      <td>16.000000</td>\n      <td>7.100000</td>\n      <td>4.300000</td>\n      <td>0.0</td>\n      <td>0.0</td>\n      <td>0.500000</td>\n      <td>786.0</td>\n      <td>558.600000</td>\n      <td>59.000000</td>\n      <td>551.7</td>\n      <td>355.6</td>\n      <td>NaN</td>\n      <td>[12 13 24 18 5 19 9 30]</td>\n      <td>[3 2 0 3 1 0 2 3]</td>\n      <td>NaN</td>\n      <td>NaN</td>\n    </tr>\n    <tr>\n      <th>0</th>\n      <td>0</td>\n      <td>front_nsga,tour_vio,rein_vio,vio_back,calc_mon...</td>\n      <td>X</td>\n      <td>663.8</td>\n      <td>10.402717</td>\n      <td>1.085342</td>\n      <td>2.622689</td>\n      <td>0.0</td>\n      <td>0.0</td>\n      <td>156.289225</td>\n      <td>34.1</td>\n      <td>6.568086</td>\n      <td>10.348981</td>\n      <td>0.0</td>\n      <td>0.0</td>\n      <td>0.0</td>\n      <td>[31, 36, 30, 31]</td>\n      <td>[3, 2, 3, 2]</td>\n      <td>[1970-01-01, 2017-08-31, 2018-06-24, 2019-03-10]</td>\n      <td>[2017-08-31, 2018-06-24, 2019-03-10, 2019-11-27]</td>\n    </tr>\n    <tr>\n      <th>1</th>\n      <td>0</td>\n      <td>front_nsga,tour_vio,rein_vio,vio_back,calc_mon...</td>\n      <td>Y</td>\n      <td>663.8</td>\n      <td>10.402717</td>\n      <td>1.085342</td>\n      <td>2.622689</td>\n      <td>0.0</td>\n      <td>0.0</td>\n      <td>156.289225</td>\n      <td>34.1</td>\n      <td>6.568086</td>\n      <td>10.348981</td>\n      <td>0.0</td>\n      <td>0.0</td>\n      <td>0.0</td>\n      <td>[31, 36, 30, 31]</td>\n      <td>[3, 2, 3, 2]</td>\n      <td>[1970-01-01, 2017-08-31, 2018-06-24, 2019-03-10]</td>\n      <td>[2017-08-31, 2018-06-24, 2019-03-10, 2019-11-27]</td>\n    </tr>\n  </tbody>\n</table>\n</div>"
     },
     "metadata": {},
     "execution_count": 6
    }
   ],
   "source": [
    "import datetime\n",
    "date=datetime.datetime.now()\n",
    "\n",
    "df_ind_w=pd.concat([df_ind_base,df_ind])\n",
    "path=root_path_analysis+str(date.day)+\"-\"+str(date.month)+str(date.hour)+\".csv\"\n",
    "df_ind_w.to_csv(path)\n",
    "df_ind_w"
   ]
  },
  {
   "cell_type": "code",
   "execution_count": null,
   "metadata": {},
   "outputs": [],
   "source": []
  },
  {
   "source": [
    "# Discuss Data"
   ],
   "cell_type": "markdown",
   "metadata": {}
  },
  {
   "source": [
    "- Main 8/1\n",
    "    - Calculated demand with Monte Carlo\n",
    "    - 10 Executions\n",
    "    - No solution without violations, passing all in front 0\n",
    "    - Total time  17632.4670568 Per execution 1763.24670568"
   ],
   "cell_type": "markdown",
   "metadata": {}
  },
  {
   "cell_type": "code",
   "execution_count": 7,
   "metadata": {},
   "outputs": [
    {
     "output_type": "execute_result",
     "data": {
      "text/plain": [
       "   Unnamed: 0 Execution                                                                                                          Variation Solution  Total throughput [kg]  Max total backlog [kg]  Mean total backlog [kg]  std dev total backlog [kg]  Median total backlog [kg]  Min total backlog [kg]  P(total backlog ≤ 0 kg)  Max total inventory deficit [kg]  Mean total inventory deficit [kg]  std dev inventory deficit [kg]  Median total inventory deficit [kg]  Min total inventory deficit [kg]  Total Deficit [kg]                      Batches [un]              Product label                                    Start of USP [date]                                      End of DSP [date]\n",
       "0           0   Article                                                                                                            Article        X                  539.3                8.200000                 0.200000                    0.600000                        0.0                     0.0                 0.820000                             683.4                         432.600000                       58.600000                                424.4                             259.4                 NaN  [15 10 29 3 15 11 15 6 2 2 2 10]  [3 2 0 1 3 2 1 3 2 1 2 3]                                                    NaN                                                    NaN\n",
       "1           1   Article                                                                                                            Article        Y                  601.5               16.000000                 7.100000                    4.300000                        0.0                     0.0                 0.500000                             786.0                         558.600000                       59.000000                                551.7                             355.6                 NaN           [12 13 24 18 5 19 9 30]          [3 2 0 3 1 0 2 3]                                                    NaN                                                    NaN\n",
       "2           0         0  front_nsga,tour_vio,rein_vio,vio_back,calc_montecarlometrics_front0_w_vio,100,1000,2,0.5,(0.04, 0.61, 0.77, 0.47)        X                  630.1               10.435893                 1.059073                    2.617906                        0.0                     0.0               152.506570                              34.1                           6.420617                       10.388137                                  0.0                               0.0                 0.0                     [31 28 31 31]                  [3 2 3 2]  ['2016-12-01' '2017-09-11' '2018-05-30' '2019-03-10']  ['2017-08-24' '2018-05-10' '2019-02-20' '2019-11-27']\n",
       "3           1         0  front_nsga,tour_vio,rein_vio,vio_back,calc_montecarlometrics_front0_w_vio,100,1000,2,0.5,(0.04, 0.61, 0.77, 0.47)        Y                  660.5               12.347932                 1.445241                    3.050971                        0.0                     0.0               208.114675                              38.5                           8.729108                       12.264356                                  0.0                               0.0                 0.0                        [50 31 50]                    [2 3 2]               ['2016-12-01' '2018-01-20' '2018-10-31']               ['2017-12-31' '2018-10-13' '2019-11-30']"
      ],
      "text/html": "<div>\n<style scoped>\n    .dataframe tbody tr th:only-of-type {\n        vertical-align: middle;\n    }\n\n    .dataframe tbody tr th {\n        vertical-align: top;\n    }\n\n    .dataframe thead th {\n        text-align: right;\n    }\n</style>\n<table border=\"1\" class=\"dataframe\">\n  <thead>\n    <tr style=\"text-align: right;\">\n      <th></th>\n      <th>Unnamed: 0</th>\n      <th>Execution</th>\n      <th>Variation</th>\n      <th>Solution</th>\n      <th>Total throughput [kg]</th>\n      <th>Max total backlog [kg]</th>\n      <th>Mean total backlog [kg]</th>\n      <th>std dev total backlog [kg]</th>\n      <th>Median total backlog [kg]</th>\n      <th>Min total backlog [kg]</th>\n      <th>P(total backlog ≤ 0 kg)</th>\n      <th>Max total inventory deficit [kg]</th>\n      <th>Mean total inventory deficit [kg]</th>\n      <th>std dev inventory deficit [kg]</th>\n      <th>Median total inventory deficit [kg]</th>\n      <th>Min total inventory deficit [kg]</th>\n      <th>Total Deficit [kg]</th>\n      <th>Batches [un]</th>\n      <th>Product label</th>\n      <th>Start of USP [date]</th>\n      <th>End of DSP [date]</th>\n    </tr>\n  </thead>\n  <tbody>\n    <tr>\n      <th>0</th>\n      <td>0</td>\n      <td>Article</td>\n      <td>Article</td>\n      <td>X</td>\n      <td>539.3</td>\n      <td>8.200000</td>\n      <td>0.200000</td>\n      <td>0.600000</td>\n      <td>0.0</td>\n      <td>0.0</td>\n      <td>0.820000</td>\n      <td>683.4</td>\n      <td>432.600000</td>\n      <td>58.600000</td>\n      <td>424.4</td>\n      <td>259.4</td>\n      <td>NaN</td>\n      <td>[15 10 29 3 15 11 15 6 2 2 2 10]</td>\n      <td>[3 2 0 1 3 2 1 3 2 1 2 3]</td>\n      <td>NaN</td>\n      <td>NaN</td>\n    </tr>\n    <tr>\n      <th>1</th>\n      <td>1</td>\n      <td>Article</td>\n      <td>Article</td>\n      <td>Y</td>\n      <td>601.5</td>\n      <td>16.000000</td>\n      <td>7.100000</td>\n      <td>4.300000</td>\n      <td>0.0</td>\n      <td>0.0</td>\n      <td>0.500000</td>\n      <td>786.0</td>\n      <td>558.600000</td>\n      <td>59.000000</td>\n      <td>551.7</td>\n      <td>355.6</td>\n      <td>NaN</td>\n      <td>[12 13 24 18 5 19 9 30]</td>\n      <td>[3 2 0 3 1 0 2 3]</td>\n      <td>NaN</td>\n      <td>NaN</td>\n    </tr>\n    <tr>\n      <th>2</th>\n      <td>0</td>\n      <td>0</td>\n      <td>front_nsga,tour_vio,rein_vio,vio_back,calc_montecarlometrics_front0_w_vio,100,1000,2,0.5,(0.04, 0.61, 0.77, 0.47)</td>\n      <td>X</td>\n      <td>630.1</td>\n      <td>10.435893</td>\n      <td>1.059073</td>\n      <td>2.617906</td>\n      <td>0.0</td>\n      <td>0.0</td>\n      <td>152.506570</td>\n      <td>34.1</td>\n      <td>6.420617</td>\n      <td>10.388137</td>\n      <td>0.0</td>\n      <td>0.0</td>\n      <td>0.0</td>\n      <td>[31 28 31 31]</td>\n      <td>[3 2 3 2]</td>\n      <td>['2016-12-01' '2017-09-11' '2018-05-30' '2019-03-10']</td>\n      <td>['2017-08-24' '2018-05-10' '2019-02-20' '2019-11-27']</td>\n    </tr>\n    <tr>\n      <th>3</th>\n      <td>1</td>\n      <td>0</td>\n      <td>front_nsga,tour_vio,rein_vio,vio_back,calc_montecarlometrics_front0_w_vio,100,1000,2,0.5,(0.04, 0.61, 0.77, 0.47)</td>\n      <td>Y</td>\n      <td>660.5</td>\n      <td>12.347932</td>\n      <td>1.445241</td>\n      <td>3.050971</td>\n      <td>0.0</td>\n      <td>0.0</td>\n      <td>208.114675</td>\n      <td>38.5</td>\n      <td>8.729108</td>\n      <td>12.264356</td>\n      <td>0.0</td>\n      <td>0.0</td>\n      <td>0.0</td>\n      <td>[50 31 50]</td>\n      <td>[2 3 2]</td>\n      <td>['2016-12-01' '2018-01-20' '2018-10-31']</td>\n      <td>['2017-12-31' '2018-10-13' '2019-11-30']</td>\n    </tr>\n  </tbody>\n</table>\n</div>"
     },
     "metadata": {},
     "execution_count": 7
    }
   ],
   "source": [
    "# Import from csv\n",
    "pd.set_option('display.max_rows', 500)\n",
    "pd.set_option('display.max_columns', 500)\n",
    "pd.set_option('display.max_colwidth', 130)\n",
    "pd.set_option('display.width', 2000)\n",
    "result=pd.read_csv(root_path_analysis+'8-1.csv')\n",
    "result"
   ]
  },
  {
   "source": [
    "- Attributes that seem wrong\n",
    "    - P(total backlog ≤ 0 kg)\t\n",
    "        - My value is high, what makes sense, since I am producing large number of batches and not procuding all products.\n",
    "            - This indicates I need to review my fitness, why is it focusing on product 2,3 and large batches?\n",
    "                1. Modify my backlog, to consider the median\n",
    "    - Max total inventory deficit [kg]\t\n",
    "    - Mean total inventory deficit [kg]\t\n",
    "    - Median total inventory deficit [kg]\t\n",
    "    - Min total inventory deficit [kg]\t\n",
    "    - Total Deficit [kg]\t\n",
    "    - Batches [un]\n",
    "        - Large values of batches, however still only producing products 2 and 3."
   ],
   "cell_type": "markdown",
   "metadata": {}
  },
  {
   "source": [
    "- Main 14/1 14h\n",
    "    - New scheduling considering articles pseudo code \n",
    "    - Monte Carlo simulations=100\n",
    "    - 2 Executions, with 1000 generations\n",
    "    - No solution without violations, passing all in front 0\n",
    "    - Total time  877 Per execution 438"
   ],
   "cell_type": "markdown",
   "metadata": {}
  },
  {
   "cell_type": "code",
   "execution_count": 8,
   "metadata": {},
   "outputs": [
    {
     "output_type": "execute_result",
     "data": {
      "text/plain": [
       "   Unnamed: 0 Execution                                                                                       Variation Solution  Total throughput [kg]  Max total backlog [kg]  Mean total backlog [kg]  std dev total backlog [kg]  Median total backlog [kg]  Min total backlog [kg]  P(total backlog ≤ 0 kg)  Max total inventory deficit [kg]  Mean total inventory deficit [kg]  std dev inventory deficit [kg]  Median total inventory deficit [kg]  Min total inventory deficit [kg]  Total Deficit [kg]                      Batches [un]              Product label                                    Start of USP [date]                                      End of DSP [date]\n",
       "0           0   Article                                                                                         Article        X                  539.3                8.200000                 0.200000                    0.600000                        0.0                     0.0                 0.820000                             683.4                         432.600000                       58.600000                                424.4                             259.4                 NaN  [15 10 29 3 15 11 15 6 2 2 2 10]  [3 2 0 1 3 2 1 3 2 1 2 3]                                                    NaN                                                    NaN\n",
       "1           1   Article                                                                                         Article        Y                  601.5               16.000000                 7.100000                    4.300000                        0.0                     0.0                 0.500000                             786.0                         558.600000                       59.000000                                551.7                             355.6                 NaN           [12 13 24 18 5 19 9 30]          [3 2 0 3 1 0 2 3]                                                    NaN                                                    NaN\n",
       "2           0         0  front_nsga,tour_vio,rein_vio,vio_back,calc_montecarlo,100,1000,2,0.11,(0.04, 0.61, 0.77, 0.47)        X                  663.8               10.402717                 1.085342                    2.622689                        0.0                     0.0               156.289225                              34.1                           6.568086                       10.348981                                  0.0                               0.0                 0.0                     [31 36 30 31]                  [3 2 3 2]  ['1970-01-01' '2017-08-31' '2018-06-24' '2019-03-10']  ['2017-08-31' '2018-06-24' '2019-03-10' '2019-11-27']\n",
       "3           1         0  front_nsga,tour_vio,rein_vio,vio_back,calc_montecarlo,100,1000,2,0.11,(0.04, 0.61, 0.77, 0.47)        Y                  663.8               10.402717                 1.085342                    2.622689                        0.0                     0.0               156.289225                              34.1                           6.568086                       10.348981                                  0.0                               0.0                 0.0                     [31 36 30 31]                  [3 2 3 2]  ['1970-01-01' '2017-08-31' '2018-06-24' '2019-03-10']  ['2017-08-31' '2018-06-24' '2019-03-10' '2019-11-27']"
      ],
      "text/html": "<div>\n<style scoped>\n    .dataframe tbody tr th:only-of-type {\n        vertical-align: middle;\n    }\n\n    .dataframe tbody tr th {\n        vertical-align: top;\n    }\n\n    .dataframe thead th {\n        text-align: right;\n    }\n</style>\n<table border=\"1\" class=\"dataframe\">\n  <thead>\n    <tr style=\"text-align: right;\">\n      <th></th>\n      <th>Unnamed: 0</th>\n      <th>Execution</th>\n      <th>Variation</th>\n      <th>Solution</th>\n      <th>Total throughput [kg]</th>\n      <th>Max total backlog [kg]</th>\n      <th>Mean total backlog [kg]</th>\n      <th>std dev total backlog [kg]</th>\n      <th>Median total backlog [kg]</th>\n      <th>Min total backlog [kg]</th>\n      <th>P(total backlog ≤ 0 kg)</th>\n      <th>Max total inventory deficit [kg]</th>\n      <th>Mean total inventory deficit [kg]</th>\n      <th>std dev inventory deficit [kg]</th>\n      <th>Median total inventory deficit [kg]</th>\n      <th>Min total inventory deficit [kg]</th>\n      <th>Total Deficit [kg]</th>\n      <th>Batches [un]</th>\n      <th>Product label</th>\n      <th>Start of USP [date]</th>\n      <th>End of DSP [date]</th>\n    </tr>\n  </thead>\n  <tbody>\n    <tr>\n      <th>0</th>\n      <td>0</td>\n      <td>Article</td>\n      <td>Article</td>\n      <td>X</td>\n      <td>539.3</td>\n      <td>8.200000</td>\n      <td>0.200000</td>\n      <td>0.600000</td>\n      <td>0.0</td>\n      <td>0.0</td>\n      <td>0.820000</td>\n      <td>683.4</td>\n      <td>432.600000</td>\n      <td>58.600000</td>\n      <td>424.4</td>\n      <td>259.4</td>\n      <td>NaN</td>\n      <td>[15 10 29 3 15 11 15 6 2 2 2 10]</td>\n      <td>[3 2 0 1 3 2 1 3 2 1 2 3]</td>\n      <td>NaN</td>\n      <td>NaN</td>\n    </tr>\n    <tr>\n      <th>1</th>\n      <td>1</td>\n      <td>Article</td>\n      <td>Article</td>\n      <td>Y</td>\n      <td>601.5</td>\n      <td>16.000000</td>\n      <td>7.100000</td>\n      <td>4.300000</td>\n      <td>0.0</td>\n      <td>0.0</td>\n      <td>0.500000</td>\n      <td>786.0</td>\n      <td>558.600000</td>\n      <td>59.000000</td>\n      <td>551.7</td>\n      <td>355.6</td>\n      <td>NaN</td>\n      <td>[12 13 24 18 5 19 9 30]</td>\n      <td>[3 2 0 3 1 0 2 3]</td>\n      <td>NaN</td>\n      <td>NaN</td>\n    </tr>\n    <tr>\n      <th>2</th>\n      <td>0</td>\n      <td>0</td>\n      <td>front_nsga,tour_vio,rein_vio,vio_back,calc_montecarlo,100,1000,2,0.11,(0.04, 0.61, 0.77, 0.47)</td>\n      <td>X</td>\n      <td>663.8</td>\n      <td>10.402717</td>\n      <td>1.085342</td>\n      <td>2.622689</td>\n      <td>0.0</td>\n      <td>0.0</td>\n      <td>156.289225</td>\n      <td>34.1</td>\n      <td>6.568086</td>\n      <td>10.348981</td>\n      <td>0.0</td>\n      <td>0.0</td>\n      <td>0.0</td>\n      <td>[31 36 30 31]</td>\n      <td>[3 2 3 2]</td>\n      <td>['1970-01-01' '2017-08-31' '2018-06-24' '2019-03-10']</td>\n      <td>['2017-08-31' '2018-06-24' '2019-03-10' '2019-11-27']</td>\n    </tr>\n    <tr>\n      <th>3</th>\n      <td>1</td>\n      <td>0</td>\n      <td>front_nsga,tour_vio,rein_vio,vio_back,calc_montecarlo,100,1000,2,0.11,(0.04, 0.61, 0.77, 0.47)</td>\n      <td>Y</td>\n      <td>663.8</td>\n      <td>10.402717</td>\n      <td>1.085342</td>\n      <td>2.622689</td>\n      <td>0.0</td>\n      <td>0.0</td>\n      <td>156.289225</td>\n      <td>34.1</td>\n      <td>6.568086</td>\n      <td>10.348981</td>\n      <td>0.0</td>\n      <td>0.0</td>\n      <td>0.0</td>\n      <td>[31 36 30 31]</td>\n      <td>[3 2 3 2]</td>\n      <td>['1970-01-01' '2017-08-31' '2018-06-24' '2019-03-10']</td>\n      <td>['2017-08-31' '2018-06-24' '2019-03-10' '2019-11-27']</td>\n    </tr>\n  </tbody>\n</table>\n</div>"
     },
     "metadata": {},
     "execution_count": 8
    }
   ],
   "source": [
    "result=pd.read_csv(root_path_analysis+'14-114.csv')# Import from csv\n",
    "result"
   ]
  },
  {
   "source": [
    "- Start time of first batch is wrong, however just fixed\n",
    "\n",
    "- Attributes that seem wrong\n",
    "    - P(total backlog ≤ 0 kg)\t\n",
    "        - My value is high, what makes sense, since I am producing large number of batches and not procuding all products.\n",
    "            - This indicates I need to review my fitness, why is it focusing on product 2,3 and large batches?\n",
    "                1. Modify my backlog, to consider the median\n",
    "    - Max total inventory deficit [kg]\t\n",
    "    - Mean total inventory deficit [kg]\t\n",
    "    - Median total inventory deficit [kg]\t\n",
    "    - Min total inventory deficit [kg]\t\n",
    "    - Total Deficit [kg]\t\n",
    "    - Batches [un]\n",
    "        - More reasonable values of batches, however still only producing products 2 and 3. "
   ],
   "cell_type": "markdown",
   "metadata": {}
  }
 ]
}