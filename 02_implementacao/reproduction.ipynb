{
 "metadata": {
  "language_info": {
   "codemirror_mode": {
    "name": "ipython",
    "version": 3
   },
   "file_extension": ".py",
   "mimetype": "text/x-python",
   "name": "python",
   "nbconvert_exporter": "python",
   "pygments_lexer": "ipython3",
   "version": "3.8.3-final"
  },
  "orig_nbformat": 2,
  "kernelspec": {
   "name": "python3",
   "display_name": "Python 3.8.3 64-bit",
   "metadata": {
    "interpreter": {
     "hash": "e3d2e5b49fca8ece28e8612ddb42da6ec98316623bc11967ddd6e72144cb4ad0"
    }
   }
  }
 },
 "nbformat": 4,
 "nbformat_minor": 2,
 "cells": [
  {
   "source": [
    "# Reproduction of Article\n",
    "1. Steps:\n",
    "    1. Import Data\n",
    "    1. Initial Data Exploration\n",
    "        1. Data Summary Table\n",
    "    1. Comparison with article Data"
   ],
   "cell_type": "markdown",
   "metadata": {}
  },
  {
   "cell_type": "code",
   "execution_count": 94,
   "metadata": {},
   "outputs": [],
   "source": [
    "import pickle\n",
    "import numpy as np\n",
    "import pandas as pd\n",
    "import matplotlib.pyplot as plt\n",
    "import copy\n",
    "import codecs\n",
    "root_path_report=\"C:\\\\Users\\\\Debora\\\\Documents\\\\01_UFU_local\\\\01_comp_evolutiva\\\\05_trabalho3\\\\03_relatorio\\\\springer\\\\tables\\\\\"\n",
    "root_path_data=\"C:\\\\Users\\\\Debora\\\\Documents\\\\01_UFU_local\\\\01_comp_evolutiva\\\\05_trabalho3\\\\01_dados\\\\02_analysis\\\\\"\n"
   ]
  },
  {
   "source": [
    "## Parse Data"
   ],
   "cell_type": "markdown",
   "metadata": {}
  },
  {
   "source": [
    "# # Export table to txt for latex\n",
    "# root_path_report = \"C:\\\\Users\\\\debor\\\\Documents\\\\01_UFU_local\\\\01_comp_evolutiva\\\\01_trabalho_1\\\\03_relatorio\\\\template-latex\\\\tables\\\\\"\n",
    "# file_name = \"representacao.txt\"\n",
    "# path = root_path_report + file_name\n",
    "# with codecs.open(path, 'w', 'utf-8') as outfile:\n",
    "#     outfile.write(tabela_df.to_latex(index=False))\n",
    "\n",
    "# Open pickle Exec\n",
    "file_name='v_0_exec.pkl'\n",
    "# file_name='step_v_0step_exec.pkl'\n",
    "path=root_path_data+file_name\n",
    "infile = open(path,'rb')\n",
    "ds_exec= pickle.load(infile)\n",
    "infile.close()\n",
    "\n",
    "# Open pickle dict class object pop\n",
    "file_name='v_0_id.pkl'\n",
    "# file_name='step_v_0_id.pkl'\n",
    "path=root_path_data+file_name\n",
    "infile = open(path,'rb')\n",
    "ds_ind= pickle.load(infile)\n",
    "infile.close()\n",
    "\n",
    "# Unpack Data Execution\n",
    "# values_exec=[]\n",
    "# for key,value in ds_exec.items():\n",
    "#     # headers=[\"Execution\",\"Variant\",\"Hipervolume\",\"Pareto Front\"]\n",
    "#     values_exec.append([key[1],value[0],value[1],value[2]])\n",
    "headers=[\"Execution\",\"Variant\",\"Hipervolume\",\"Pareto Front\"]\n",
    "df_exec=pd.DataFrame(ds_exec,columns=headers)\n",
    "\n",
    "# Unpack Data per Ind\n",
    "# values_ind=[]\n",
    "# for key,value in ds_ind.items():\n",
    "#     # values_ind.append(value)\n",
    "#     values_ind.append(value[0])\n",
    "#     values_ind.append(value[1])\n",
    "# headers=[\"Execution\",\"Variation\",\"Solution\",\"Total throughput [kg]\", \"Max total backlog [kg]\", \"Mean total backlog [kg]\",\"std dev total backlog [kg]\", \"Median total backlog [kg]\",\"Min total backlog [kg]\", \"P(total backlog ≤ 0 kg)\",\"Max total inventory deficit [kg]\", \"Mean total inventory deficit [kg]\",\"std dev inventory deficit [kg]\", \"Median total inventory deficit [kg]\", \"Min total inventory deficit [kg]\",\"Batches [un]\",\"Product label\",\"Start of USP [date]\",\"End of DSP [date]\"]\n",
    "headers=[\"Execution\",\"Variation\",\"Solution\",\"Total throughput [kg]\", \"Max total backlog [kg]\", \"Mean total backlog [kg]\",\"std dev total backlog [kg]\", \"Median total backlog [kg]\",\"Min total backlog [kg]\", \"P(total backlog ≤ 0 kg)\",\"Max total inventory deficit [kg]\", \"Mean total inventory deficit [kg]\",\"std dev inventory deficit [kg]\", \"Median total inventory deficit [kg]\", \"Min total inventory deficit [kg]\",\"Total Deficit [kg]\",\"Batches [un]\",\"Product label\",\"Start of USP [date]\",\"End of DSP [date]\"]\n",
    "\n",
    "df_ind=pd.DataFrame(ds_ind,columns=headers)\n",
    "df_ind"
   ],
   "cell_type": "code",
   "metadata": {},
   "execution_count": 21,
   "outputs": [
    {
     "output_type": "execute_result",
     "data": {
      "text/plain": [
       "   Execution                                          Variation Solution  \\\n",
       "0          0  front_nsga,tour_vio,rein_vio,vio_back,metrics_...        X   \n",
       "1          0  front_nsga,tour_vio,rein_vio,vio_back,metrics_...        Y   \n",
       "2          1  front_nsga,tour_vio,rein_vio,vio_back,metrics_...        X   \n",
       "3          1  front_nsga,tour_vio,rein_vio,vio_back,metrics_...        Y   \n",
       "\n",
       "   Total throughput [kg]  Max total backlog [kg]  Mean total backlog [kg]  \\\n",
       "0                  660.5               12.303899                 1.443898   \n",
       "1                  660.5               12.303899                 1.443898   \n",
       "2                  660.5               12.296887                 1.440662   \n",
       "3                  660.5               12.296887                 1.440662   \n",
       "\n",
       "   std dev total backlog [kg]  Median total backlog [kg]  \\\n",
       "0                    3.045790                        0.0   \n",
       "1                    3.045790                        0.0   \n",
       "2                    3.044565                        0.0   \n",
       "3                    3.044565                        0.0   \n",
       "\n",
       "   Min total backlog [kg]  P(total backlog ≤ 0 kg)  \\\n",
       "0                     0.0               207.921251   \n",
       "1                     0.0               207.921251   \n",
       "2                     0.0               207.455379   \n",
       "3                     0.0               207.455379   \n",
       "\n",
       "   Max total inventory deficit [kg]  Mean total inventory deficit [kg]  \\\n",
       "0                              38.5                           8.727919   \n",
       "1                              38.5                           8.727919   \n",
       "2                              38.5                           8.720962   \n",
       "3                              38.5                           8.720962   \n",
       "\n",
       "   std dev inventory deficit [kg]  Median total inventory deficit [kg]  \\\n",
       "0                       12.264135                                  0.0   \n",
       "1                       12.264135                                  0.0   \n",
       "2                       12.260381                                  0.0   \n",
       "3                       12.260381                                  0.0   \n",
       "\n",
       "   Min total inventory deficit [kg]  Total Deficit [kg]  Batches [un]  \\\n",
       "0                               0.0                 0.0  [50, 31, 50]   \n",
       "1                               0.0                 0.0  [50, 31, 50]   \n",
       "2                               0.0                 0.0  [50, 31, 50]   \n",
       "3                               0.0                 0.0  [50, 31, 50]   \n",
       "\n",
       "  Product label                   Start of USP [date]  \\\n",
       "0     [2, 3, 2]  [2016-12-01, 2018-01-20, 2018-10-31]   \n",
       "1     [2, 3, 2]  [2016-12-01, 2018-01-20, 2018-10-31]   \n",
       "2     [2, 3, 2]  [2016-12-01, 2018-01-20, 2018-10-31]   \n",
       "3     [2, 3, 2]  [2016-12-01, 2018-01-20, 2018-10-31]   \n",
       "\n",
       "                      End of DSP [date]  \n",
       "0  [2017-12-31, 2018-10-13, 2019-11-30]  \n",
       "1  [2017-12-31, 2018-10-13, 2019-11-30]  \n",
       "2  [2017-12-31, 2018-10-13, 2019-11-30]  \n",
       "3  [2017-12-31, 2018-10-13, 2019-11-30]  "
      ],
      "text/html": "<div>\n<style scoped>\n    .dataframe tbody tr th:only-of-type {\n        vertical-align: middle;\n    }\n\n    .dataframe tbody tr th {\n        vertical-align: top;\n    }\n\n    .dataframe thead th {\n        text-align: right;\n    }\n</style>\n<table border=\"1\" class=\"dataframe\">\n  <thead>\n    <tr style=\"text-align: right;\">\n      <th></th>\n      <th>Execution</th>\n      <th>Variation</th>\n      <th>Solution</th>\n      <th>Total throughput [kg]</th>\n      <th>Max total backlog [kg]</th>\n      <th>Mean total backlog [kg]</th>\n      <th>std dev total backlog [kg]</th>\n      <th>Median total backlog [kg]</th>\n      <th>Min total backlog [kg]</th>\n      <th>P(total backlog ≤ 0 kg)</th>\n      <th>Max total inventory deficit [kg]</th>\n      <th>Mean total inventory deficit [kg]</th>\n      <th>std dev inventory deficit [kg]</th>\n      <th>Median total inventory deficit [kg]</th>\n      <th>Min total inventory deficit [kg]</th>\n      <th>Total Deficit [kg]</th>\n      <th>Batches [un]</th>\n      <th>Product label</th>\n      <th>Start of USP [date]</th>\n      <th>End of DSP [date]</th>\n    </tr>\n  </thead>\n  <tbody>\n    <tr>\n      <th>0</th>\n      <td>0</td>\n      <td>front_nsga,tour_vio,rein_vio,vio_back,metrics_...</td>\n      <td>X</td>\n      <td>660.5</td>\n      <td>12.303899</td>\n      <td>1.443898</td>\n      <td>3.045790</td>\n      <td>0.0</td>\n      <td>0.0</td>\n      <td>207.921251</td>\n      <td>38.5</td>\n      <td>8.727919</td>\n      <td>12.264135</td>\n      <td>0.0</td>\n      <td>0.0</td>\n      <td>0.0</td>\n      <td>[50, 31, 50]</td>\n      <td>[2, 3, 2]</td>\n      <td>[2016-12-01, 2018-01-20, 2018-10-31]</td>\n      <td>[2017-12-31, 2018-10-13, 2019-11-30]</td>\n    </tr>\n    <tr>\n      <th>1</th>\n      <td>0</td>\n      <td>front_nsga,tour_vio,rein_vio,vio_back,metrics_...</td>\n      <td>Y</td>\n      <td>660.5</td>\n      <td>12.303899</td>\n      <td>1.443898</td>\n      <td>3.045790</td>\n      <td>0.0</td>\n      <td>0.0</td>\n      <td>207.921251</td>\n      <td>38.5</td>\n      <td>8.727919</td>\n      <td>12.264135</td>\n      <td>0.0</td>\n      <td>0.0</td>\n      <td>0.0</td>\n      <td>[50, 31, 50]</td>\n      <td>[2, 3, 2]</td>\n      <td>[2016-12-01, 2018-01-20, 2018-10-31]</td>\n      <td>[2017-12-31, 2018-10-13, 2019-11-30]</td>\n    </tr>\n    <tr>\n      <th>2</th>\n      <td>1</td>\n      <td>front_nsga,tour_vio,rein_vio,vio_back,metrics_...</td>\n      <td>X</td>\n      <td>660.5</td>\n      <td>12.296887</td>\n      <td>1.440662</td>\n      <td>3.044565</td>\n      <td>0.0</td>\n      <td>0.0</td>\n      <td>207.455379</td>\n      <td>38.5</td>\n      <td>8.720962</td>\n      <td>12.260381</td>\n      <td>0.0</td>\n      <td>0.0</td>\n      <td>0.0</td>\n      <td>[50, 31, 50]</td>\n      <td>[2, 3, 2]</td>\n      <td>[2016-12-01, 2018-01-20, 2018-10-31]</td>\n      <td>[2017-12-31, 2018-10-13, 2019-11-30]</td>\n    </tr>\n    <tr>\n      <th>3</th>\n      <td>1</td>\n      <td>front_nsga,tour_vio,rein_vio,vio_back,metrics_...</td>\n      <td>Y</td>\n      <td>660.5</td>\n      <td>12.296887</td>\n      <td>1.440662</td>\n      <td>3.044565</td>\n      <td>0.0</td>\n      <td>0.0</td>\n      <td>207.455379</td>\n      <td>38.5</td>\n      <td>8.720962</td>\n      <td>12.260381</td>\n      <td>0.0</td>\n      <td>0.0</td>\n      <td>0.0</td>\n      <td>[50, 31, 50]</td>\n      <td>[2, 3, 2]</td>\n      <td>[2016-12-01, 2018-01-20, 2018-10-31]</td>\n      <td>[2017-12-31, 2018-10-13, 2019-11-30]</td>\n    </tr>\n  </tbody>\n</table>\n</div>"
     },
     "metadata": {},
     "execution_count": 21
    }
   ]
  },
  {
   "cell_type": "code",
   "execution_count": 57,
   "metadata": {},
   "outputs": [],
   "source": [
    "# Appends to external CSV File\n",
    "\n",
    "# Exports as csv\n",
    "# file_name='df_exec.csv'\n",
    "file_name='df_exec.csv'\n",
    "path=root_path_data+file_name\n",
    "headers=[\"Execution\",\"Variant\",\"Hipervolume\",\"Pareto Front\"]\n",
    "# # Overwrites\n",
    "# df_exec.to_csv(path,header=headers)\n",
    "# Appends\n",
    "df_exec.to_csv(path,header=False,mode=\"a\")\n",
    "\n",
    "# Exports as csv\n",
    "file_name='df_ind.csv'\n",
    "path=root_path_data+file_name\n",
    "headers=[\"Variation\",\"Num_exec\",\"Solution\",\"Total throughput [kg]\", \"Max total backlog [kg]\", \"Mean total backlog [kg]\",\"std dev total backlog [kg]\", \"Median total backlog [kg]\",\"Min total backlog [kg]\", \"P(total backlog ≤ 0 kg)\",\"Max total inventory deficit [kg]\", \"Mean total inventory deficit [kg]\",\"std dev inventory deficit [kg]\", \"Median total inventory deficit [kg]\", \"Min total inventory deficit [kg]\",\"Batches [un]\",\"Product label\",\"Start of USP [date]\",\"End of DSP [date]\"]\n",
    "# # Overwrites\n",
    "# df_ind.to_csv(path,header=headers)\n",
    "# Appends\n",
    "df_ind.to_csv(path,header=False,mode=\"a\")"
   ]
  },
  {
   "source": [
    "### Import full dataset with Article Data"
   ],
   "cell_type": "markdown",
   "metadata": {}
  },
  {
   "cell_type": "code",
   "execution_count": 58,
   "metadata": {},
   "outputs": [],
   "source": [
    "# Import as csv\n",
    "file_name='df_exec.csv'\n",
    "path=root_path_data+file_name\n",
    "df_fexec=pd.read_csv(path,index_col=0)"
   ]
  },
  {
   "cell_type": "code",
   "execution_count": 59,
   "metadata": {},
   "outputs": [],
   "source": [
    "# Import as csv\n",
    "file_name='df_ind.csv'\n",
    "path=root_path_data+file_name\n",
    "df_find=pd.read_csv(path,index_col=0)"
   ]
  },
  {
   "source": [
    "## Initial Data Exploration"
   ],
   "cell_type": "markdown",
   "metadata": {}
  },
  {
   "cell_type": "code",
   "execution_count": 44,
   "metadata": {},
   "outputs": [
    {
     "output_type": "execute_result",
     "data": {
      "text/plain": [
       "   Execution                                            Variant  Hipervolume  \\\n",
       "0          0  front_vio,tour_vio,rein_vio,vio_unit_month_pro...      0.43660   \n",
       "1          0  front_vio,tour_vio,rein_vio,vio_unit_month_pro...      0.43828   \n",
       "0          0  front_vio,tour_vio,rein_vio,vio_unit_month_pro...      0.48096   \n",
       "1          0  front_vio,tour_vio,rein_vio,vio_unit_month_pro...      0.42712   \n",
       "0          0  front_vio,tour_vio,rein_vio,vio_step,metrics_p...      0.44880   \n",
       "\n",
       "                                        Pareto Front  \n",
       "0  [[558.5   0. ]\\n [587.9   0. ]\\n [490.3   0. ]...  \n",
       "1  [[482.8   0. ]\\n [438.9   0. ]\\n [502.7   0. ]...  \n",
       "0  [[5.04500000e+02 0.00000000e+00]\\n [4.87200000...  \n",
       "1  [[543.7   0. ]\\n [537.    0. ]\\n [521.8   0. ]...  \n",
       "0  [[1.24000000e+01 1.47000000e+01]\\n [5.39000000...  "
      ],
      "text/html": "<div>\n<style scoped>\n    .dataframe tbody tr th:only-of-type {\n        vertical-align: middle;\n    }\n\n    .dataframe tbody tr th {\n        vertical-align: top;\n    }\n\n    .dataframe thead th {\n        text-align: right;\n    }\n</style>\n<table border=\"1\" class=\"dataframe\">\n  <thead>\n    <tr style=\"text-align: right;\">\n      <th></th>\n      <th>Execution</th>\n      <th>Variant</th>\n      <th>Hipervolume</th>\n      <th>Pareto Front</th>\n    </tr>\n  </thead>\n  <tbody>\n    <tr>\n      <th>0</th>\n      <td>0</td>\n      <td>front_vio,tour_vio,rein_vio,vio_unit_month_pro...</td>\n      <td>0.43660</td>\n      <td>[[558.5   0. ]\\n [587.9   0. ]\\n [490.3   0. ]...</td>\n    </tr>\n    <tr>\n      <th>1</th>\n      <td>0</td>\n      <td>front_vio,tour_vio,rein_vio,vio_unit_month_pro...</td>\n      <td>0.43828</td>\n      <td>[[482.8   0. ]\\n [438.9   0. ]\\n [502.7   0. ]...</td>\n    </tr>\n    <tr>\n      <th>0</th>\n      <td>0</td>\n      <td>front_vio,tour_vio,rein_vio,vio_unit_month_pro...</td>\n      <td>0.48096</td>\n      <td>[[5.04500000e+02 0.00000000e+00]\\n [4.87200000...</td>\n    </tr>\n    <tr>\n      <th>1</th>\n      <td>0</td>\n      <td>front_vio,tour_vio,rein_vio,vio_unit_month_pro...</td>\n      <td>0.42712</td>\n      <td>[[543.7   0. ]\\n [537.    0. ]\\n [521.8   0. ]...</td>\n    </tr>\n    <tr>\n      <th>0</th>\n      <td>0</td>\n      <td>front_vio,tour_vio,rein_vio,vio_step,metrics_p...</td>\n      <td>0.44880</td>\n      <td>[[1.24000000e+01 1.47000000e+01]\\n [5.39000000...</td>\n    </tr>\n  </tbody>\n</table>\n</div>"
     },
     "metadata": {},
     "execution_count": 44
    }
   ],
   "source": [
    "df_fexec.head()"
   ]
  },
  {
   "cell_type": "code",
   "execution_count": 45,
   "metadata": {},
   "outputs": [
    {
     "output_type": "execute_result",
     "data": {
      "text/plain": [
       "       Execution  Hipervolume\n",
       "count  32.000000    32.000000\n",
       "mean    0.937500     0.404285\n",
       "std     1.045343     0.086991\n",
       "min     0.000000     0.201289\n",
       "25%     0.000000     0.364127\n",
       "50%     1.000000     0.441756\n",
       "75%     1.250000     0.462240\n",
       "max     3.000000     0.505548"
      ],
      "text/html": "<div>\n<style scoped>\n    .dataframe tbody tr th:only-of-type {\n        vertical-align: middle;\n    }\n\n    .dataframe tbody tr th {\n        vertical-align: top;\n    }\n\n    .dataframe thead th {\n        text-align: right;\n    }\n</style>\n<table border=\"1\" class=\"dataframe\">\n  <thead>\n    <tr style=\"text-align: right;\">\n      <th></th>\n      <th>Execution</th>\n      <th>Hipervolume</th>\n    </tr>\n  </thead>\n  <tbody>\n    <tr>\n      <th>count</th>\n      <td>32.000000</td>\n      <td>32.000000</td>\n    </tr>\n    <tr>\n      <th>mean</th>\n      <td>0.937500</td>\n      <td>0.404285</td>\n    </tr>\n    <tr>\n      <th>std</th>\n      <td>1.045343</td>\n      <td>0.086991</td>\n    </tr>\n    <tr>\n      <th>min</th>\n      <td>0.000000</td>\n      <td>0.201289</td>\n    </tr>\n    <tr>\n      <th>25%</th>\n      <td>0.000000</td>\n      <td>0.364127</td>\n    </tr>\n    <tr>\n      <th>50%</th>\n      <td>1.000000</td>\n      <td>0.441756</td>\n    </tr>\n    <tr>\n      <th>75%</th>\n      <td>1.250000</td>\n      <td>0.462240</td>\n    </tr>\n    <tr>\n      <th>max</th>\n      <td>3.000000</td>\n      <td>0.505548</td>\n    </tr>\n  </tbody>\n</table>\n</div>"
     },
     "metadata": {},
     "execution_count": 45
    }
   ],
   "source": [
    "df_fexec.describe()"
   ]
  },
  {
   "cell_type": "code",
   "execution_count": 66,
   "metadata": {},
   "outputs": [
    {
     "output_type": "execute_result",
     "data": {
      "text/plain": [
       "  Execution                                          Variation Solution  \\\n",
       "0   Article                                            Article        X   \n",
       "1   Article                                            Article        Y   \n",
       "2         0  front_vio,tour_vio,rein_vio,vio_unit_month_pro...        X   \n",
       "3         0  front_vio,tour_vio,rein_vio,vio_unit_month_pro...        Y   \n",
       "4         0  front_vio,tour_vio,rein_vio,vio_unit_month_pro...        X   \n",
       "\n",
       "   Total throughput [kg]  Max total backlog [kg]  Mean total backlog [kg]  \\\n",
       "0                  539.3                8.200000                 0.200000   \n",
       "1                  601.5               16.000000                 7.100000   \n",
       "2                  404.9               12.450271                 1.388745   \n",
       "3                  591.5               10.813447                 0.490037   \n",
       "4                  438.9               10.460599                 0.457257   \n",
       "\n",
       "   std dev total backlog [kg]  Median total backlog [kg]  \\\n",
       "0                    0.600000                        0.0   \n",
       "1                    4.300000                        0.0   \n",
       "2                    3.180351                        0.0   \n",
       "3                    1.722743                        0.0   \n",
       "4                    1.650465                        0.0   \n",
       "\n",
       "   Min total backlog [kg]  P(total backlog ≤ 0 kg)  \\\n",
       "0                     0.0                 0.820000   \n",
       "1                     0.0                 0.500000   \n",
       "2                     0.0               199.979304   \n",
       "3                     0.0                70.565385   \n",
       "4                     0.0                65.845030   \n",
       "\n",
       "   Max total inventory deficit [kg]  Mean total inventory deficit [kg]  \\\n",
       "0                             683.4                         432.600000   \n",
       "1                             786.0                         558.600000   \n",
       "2                              44.0                           8.085272   \n",
       "3                              27.9                           4.131242   \n",
       "4                              27.9                           4.063711   \n",
       "\n",
       "   std dev inventory deficit [kg]  Median total inventory deficit [kg]  \\\n",
       "0                       58.600000                                424.4   \n",
       "1                       59.000000                                551.7   \n",
       "2                       12.558607                                  0.0   \n",
       "3                        6.639844                                  0.0   \n",
       "4                        7.315433                                  0.0   \n",
       "\n",
       "   Min total inventory deficit [kg]  Total Deficit [kg]  \\\n",
       "0                             259.4                 NaN   \n",
       "1                             355.6                 NaN   \n",
       "2                               0.0                 0.0   \n",
       "3                               0.0                 0.0   \n",
       "4                               0.0                 0.0   \n",
       "\n",
       "                       Batches [un]              Product label  \\\n",
       "0  [15 10 29 3 15 11 15 6 2 2 2 10]  [3 2 0 1 3 2 1 3 2 1 2 3]   \n",
       "1           [12 13 24 18 5 19 9 30]          [3 2 0 3 1 0 2 3]   \n",
       "2                        [33 20 66]                    [0 2 0]   \n",
       "3                        [33 39 59]                    [3 0 2]   \n",
       "4                        [33 19 53]                    [3 2 0]   \n",
       "\n",
       "                        Start of USP [date]  \\\n",
       "0                                       NaN   \n",
       "1                                       NaN   \n",
       "2  ['2016-12-01' '2017-09-19' '2018-04-08']   \n",
       "3  ['2016-12-01' '2017-09-25' '2018-08-25']   \n",
       "4  ['2016-12-01' '2017-09-25' '2018-04-07']   \n",
       "\n",
       "                          End of DSP [date]  \n",
       "0                                       NaN  \n",
       "1                                       NaN  \n",
       "2  ['2017-09-03' '2018-03-23' '2019-08-28']  \n",
       "3  ['2017-09-07' '2018-08-09' '2019-11-26']  \n",
       "4  ['2017-09-07' '2018-03-22' '2019-05-28']  "
      ],
      "text/html": "<div>\n<style scoped>\n    .dataframe tbody tr th:only-of-type {\n        vertical-align: middle;\n    }\n\n    .dataframe tbody tr th {\n        vertical-align: top;\n    }\n\n    .dataframe thead th {\n        text-align: right;\n    }\n</style>\n<table border=\"1\" class=\"dataframe\">\n  <thead>\n    <tr style=\"text-align: right;\">\n      <th></th>\n      <th>Execution</th>\n      <th>Variation</th>\n      <th>Solution</th>\n      <th>Total throughput [kg]</th>\n      <th>Max total backlog [kg]</th>\n      <th>Mean total backlog [kg]</th>\n      <th>std dev total backlog [kg]</th>\n      <th>Median total backlog [kg]</th>\n      <th>Min total backlog [kg]</th>\n      <th>P(total backlog ≤ 0 kg)</th>\n      <th>Max total inventory deficit [kg]</th>\n      <th>Mean total inventory deficit [kg]</th>\n      <th>std dev inventory deficit [kg]</th>\n      <th>Median total inventory deficit [kg]</th>\n      <th>Min total inventory deficit [kg]</th>\n      <th>Total Deficit [kg]</th>\n      <th>Batches [un]</th>\n      <th>Product label</th>\n      <th>Start of USP [date]</th>\n      <th>End of DSP [date]</th>\n    </tr>\n  </thead>\n  <tbody>\n    <tr>\n      <th>0</th>\n      <td>Article</td>\n      <td>Article</td>\n      <td>X</td>\n      <td>539.3</td>\n      <td>8.200000</td>\n      <td>0.200000</td>\n      <td>0.600000</td>\n      <td>0.0</td>\n      <td>0.0</td>\n      <td>0.820000</td>\n      <td>683.4</td>\n      <td>432.600000</td>\n      <td>58.600000</td>\n      <td>424.4</td>\n      <td>259.4</td>\n      <td>NaN</td>\n      <td>[15 10 29 3 15 11 15 6 2 2 2 10]</td>\n      <td>[3 2 0 1 3 2 1 3 2 1 2 3]</td>\n      <td>NaN</td>\n      <td>NaN</td>\n    </tr>\n    <tr>\n      <th>1</th>\n      <td>Article</td>\n      <td>Article</td>\n      <td>Y</td>\n      <td>601.5</td>\n      <td>16.000000</td>\n      <td>7.100000</td>\n      <td>4.300000</td>\n      <td>0.0</td>\n      <td>0.0</td>\n      <td>0.500000</td>\n      <td>786.0</td>\n      <td>558.600000</td>\n      <td>59.000000</td>\n      <td>551.7</td>\n      <td>355.6</td>\n      <td>NaN</td>\n      <td>[12 13 24 18 5 19 9 30]</td>\n      <td>[3 2 0 3 1 0 2 3]</td>\n      <td>NaN</td>\n      <td>NaN</td>\n    </tr>\n    <tr>\n      <th>2</th>\n      <td>0</td>\n      <td>front_vio,tour_vio,rein_vio,vio_unit_month_pro...</td>\n      <td>X</td>\n      <td>404.9</td>\n      <td>12.450271</td>\n      <td>1.388745</td>\n      <td>3.180351</td>\n      <td>0.0</td>\n      <td>0.0</td>\n      <td>199.979304</td>\n      <td>44.0</td>\n      <td>8.085272</td>\n      <td>12.558607</td>\n      <td>0.0</td>\n      <td>0.0</td>\n      <td>0.0</td>\n      <td>[33 20 66]</td>\n      <td>[0 2 0]</td>\n      <td>['2016-12-01' '2017-09-19' '2018-04-08']</td>\n      <td>['2017-09-03' '2018-03-23' '2019-08-28']</td>\n    </tr>\n    <tr>\n      <th>3</th>\n      <td>0</td>\n      <td>front_vio,tour_vio,rein_vio,vio_unit_month_pro...</td>\n      <td>Y</td>\n      <td>591.5</td>\n      <td>10.813447</td>\n      <td>0.490037</td>\n      <td>1.722743</td>\n      <td>0.0</td>\n      <td>0.0</td>\n      <td>70.565385</td>\n      <td>27.9</td>\n      <td>4.131242</td>\n      <td>6.639844</td>\n      <td>0.0</td>\n      <td>0.0</td>\n      <td>0.0</td>\n      <td>[33 39 59]</td>\n      <td>[3 0 2]</td>\n      <td>['2016-12-01' '2017-09-25' '2018-08-25']</td>\n      <td>['2017-09-07' '2018-08-09' '2019-11-26']</td>\n    </tr>\n    <tr>\n      <th>4</th>\n      <td>0</td>\n      <td>front_vio,tour_vio,rein_vio,vio_unit_month_pro...</td>\n      <td>X</td>\n      <td>438.9</td>\n      <td>10.460599</td>\n      <td>0.457257</td>\n      <td>1.650465</td>\n      <td>0.0</td>\n      <td>0.0</td>\n      <td>65.845030</td>\n      <td>27.9</td>\n      <td>4.063711</td>\n      <td>7.315433</td>\n      <td>0.0</td>\n      <td>0.0</td>\n      <td>0.0</td>\n      <td>[33 19 53]</td>\n      <td>[3 2 0]</td>\n      <td>['2016-12-01' '2017-09-25' '2018-04-07']</td>\n      <td>['2017-09-07' '2018-03-22' '2019-05-28']</td>\n    </tr>\n  </tbody>\n</table>\n</div>"
     },
     "metadata": {},
     "execution_count": 66
    }
   ],
   "source": [
    "df_find.head()"
   ]
  },
  {
   "cell_type": "code",
   "execution_count": 68,
   "metadata": {},
   "outputs": [
    {
     "output_type": "execute_result",
     "data": {
      "text/plain": [
       "Index(['Execution', 'Variation', 'Solution', 'Total throughput [kg]',\n",
       "       'Max total backlog [kg]', 'Mean total backlog [kg]',\n",
       "       'std dev total backlog [kg]', 'Median total backlog [kg]',\n",
       "       'Min total backlog [kg]', 'P(total backlog ≤ 0 kg)',\n",
       "       'Max total inventory deficit [kg]', 'Mean total inventory deficit [kg]',\n",
       "       'std dev inventory deficit [kg]', 'Median total inventory deficit [kg]',\n",
       "       'Min total inventory deficit [kg]', 'Total Deficit [kg]',\n",
       "       'Batches [un]', 'Product label', 'Start of USP [date]',\n",
       "       'End of DSP [date]'],\n",
       "      dtype='object')"
      ]
     },
     "metadata": {},
     "execution_count": 68
    }
   ],
   "source": [
    "df_find.columns"
   ]
  },
  {
   "cell_type": "code",
   "execution_count": 71,
   "metadata": {},
   "outputs": [
    {
     "output_type": "error",
     "ename": "KeyError",
     "evalue": "'None of [None] are in the columns'",
     "traceback": [
      "\u001b[1;31m---------------------------------------------------------------------------\u001b[0m",
      "\u001b[1;31mKeyError\u001b[0m                                  Traceback (most recent call last)",
      "\u001b[1;32m<ipython-input-71-50b07e2d8437>\u001b[0m in \u001b[0;36m<module>\u001b[1;34m\u001b[0m\n\u001b[1;32m----> 1\u001b[1;33m \u001b[0mtable6\u001b[0m\u001b[1;33m=\u001b[0m\u001b[0mdf_find\u001b[0m\u001b[1;33m.\u001b[0m\u001b[0mpivot\u001b[0m\u001b[1;33m(\u001b[0m\u001b[0mindex\u001b[0m\u001b[1;33m=\u001b[0m\u001b[1;33m[\u001b[0m\u001b[1;34m'Variation'\u001b[0m\u001b[1;33m,\u001b[0m \u001b[1;34m'Solution'\u001b[0m\u001b[1;33m]\u001b[0m\u001b[1;33m)\u001b[0m\u001b[1;33m\u001b[0m\u001b[1;33m\u001b[0m\u001b[0m\n\u001b[0m",
      "\u001b[1;32m~\\anaconda3\\envs\\comp_evol\\lib\\site-packages\\pandas\\core\\frame.py\u001b[0m in \u001b[0;36mpivot\u001b[1;34m(self, index, columns, values)\u001b[0m\n\u001b[0;32m   5921\u001b[0m         \u001b[1;32mfrom\u001b[0m \u001b[0mpandas\u001b[0m\u001b[1;33m.\u001b[0m\u001b[0mcore\u001b[0m\u001b[1;33m.\u001b[0m\u001b[0mreshape\u001b[0m\u001b[1;33m.\u001b[0m\u001b[0mpivot\u001b[0m \u001b[1;32mimport\u001b[0m \u001b[0mpivot\u001b[0m\u001b[1;33m\u001b[0m\u001b[1;33m\u001b[0m\u001b[0m\n\u001b[0;32m   5922\u001b[0m \u001b[1;33m\u001b[0m\u001b[0m\n\u001b[1;32m-> 5923\u001b[1;33m         \u001b[1;32mreturn\u001b[0m \u001b[0mpivot\u001b[0m\u001b[1;33m(\u001b[0m\u001b[0mself\u001b[0m\u001b[1;33m,\u001b[0m \u001b[0mindex\u001b[0m\u001b[1;33m=\u001b[0m\u001b[0mindex\u001b[0m\u001b[1;33m,\u001b[0m \u001b[0mcolumns\u001b[0m\u001b[1;33m=\u001b[0m\u001b[0mcolumns\u001b[0m\u001b[1;33m,\u001b[0m \u001b[0mvalues\u001b[0m\u001b[1;33m=\u001b[0m\u001b[0mvalues\u001b[0m\u001b[1;33m)\u001b[0m\u001b[1;33m\u001b[0m\u001b[1;33m\u001b[0m\u001b[0m\n\u001b[0m\u001b[0;32m   5924\u001b[0m \u001b[1;33m\u001b[0m\u001b[0m\n\u001b[0;32m   5925\u001b[0m     _shared_docs[\n",
      "\u001b[1;32m~\\anaconda3\\envs\\comp_evol\\lib\\site-packages\\pandas\\core\\reshape\\pivot.py\u001b[0m in \u001b[0;36mpivot\u001b[1;34m(data, index, columns, values)\u001b[0m\n\u001b[0;32m    433\u001b[0m         \u001b[0mcols\u001b[0m \u001b[1;33m=\u001b[0m \u001b[1;33m[\u001b[0m\u001b[0mcolumns\u001b[0m\u001b[1;33m]\u001b[0m \u001b[1;32mif\u001b[0m \u001b[0mindex\u001b[0m \u001b[1;32mis\u001b[0m \u001b[1;32mNone\u001b[0m \u001b[1;32melse\u001b[0m \u001b[1;33m[\u001b[0m\u001b[0mindex\u001b[0m\u001b[1;33m,\u001b[0m \u001b[0mcolumns\u001b[0m\u001b[1;33m]\u001b[0m\u001b[1;33m\u001b[0m\u001b[1;33m\u001b[0m\u001b[0m\n\u001b[0;32m    434\u001b[0m         \u001b[0mappend\u001b[0m \u001b[1;33m=\u001b[0m \u001b[0mindex\u001b[0m \u001b[1;32mis\u001b[0m \u001b[1;32mNone\u001b[0m\u001b[1;33m\u001b[0m\u001b[1;33m\u001b[0m\u001b[0m\n\u001b[1;32m--> 435\u001b[1;33m         \u001b[0mindexed\u001b[0m \u001b[1;33m=\u001b[0m \u001b[0mdata\u001b[0m\u001b[1;33m.\u001b[0m\u001b[0mset_index\u001b[0m\u001b[1;33m(\u001b[0m\u001b[0mcols\u001b[0m\u001b[1;33m,\u001b[0m \u001b[0mappend\u001b[0m\u001b[1;33m=\u001b[0m\u001b[0mappend\u001b[0m\u001b[1;33m)\u001b[0m\u001b[1;33m\u001b[0m\u001b[1;33m\u001b[0m\u001b[0m\n\u001b[0m\u001b[0;32m    436\u001b[0m     \u001b[1;32melse\u001b[0m\u001b[1;33m:\u001b[0m\u001b[1;33m\u001b[0m\u001b[1;33m\u001b[0m\u001b[0m\n\u001b[0;32m    437\u001b[0m         \u001b[1;32mif\u001b[0m \u001b[0mindex\u001b[0m \u001b[1;32mis\u001b[0m \u001b[1;32mNone\u001b[0m\u001b[1;33m:\u001b[0m\u001b[1;33m\u001b[0m\u001b[1;33m\u001b[0m\u001b[0m\n",
      "\u001b[1;32m~\\anaconda3\\envs\\comp_evol\\lib\\site-packages\\pandas\\core\\frame.py\u001b[0m in \u001b[0;36mset_index\u001b[1;34m(self, keys, drop, append, inplace, verify_integrity)\u001b[0m\n\u001b[0;32m   4301\u001b[0m \u001b[1;33m\u001b[0m\u001b[0m\n\u001b[0;32m   4302\u001b[0m         \u001b[1;32mif\u001b[0m \u001b[0mmissing\u001b[0m\u001b[1;33m:\u001b[0m\u001b[1;33m\u001b[0m\u001b[1;33m\u001b[0m\u001b[0m\n\u001b[1;32m-> 4303\u001b[1;33m             \u001b[1;32mraise\u001b[0m \u001b[0mKeyError\u001b[0m\u001b[1;33m(\u001b[0m\u001b[1;34mf\"None of {missing} are in the columns\"\u001b[0m\u001b[1;33m)\u001b[0m\u001b[1;33m\u001b[0m\u001b[1;33m\u001b[0m\u001b[0m\n\u001b[0m\u001b[0;32m   4304\u001b[0m \u001b[1;33m\u001b[0m\u001b[0m\n\u001b[0;32m   4305\u001b[0m         \u001b[1;32mif\u001b[0m \u001b[0minplace\u001b[0m\u001b[1;33m:\u001b[0m\u001b[1;33m\u001b[0m\u001b[1;33m\u001b[0m\u001b[0m\n",
      "\u001b[1;31mKeyError\u001b[0m: 'None of [None] are in the columns'"
     ]
    }
   ],
   "source": [
    "table6=df_find.pivot(index=['Variation', 'Solution'])"
   ]
  },
  {
   "cell_type": "code",
   "execution_count": 70,
   "metadata": {},
   "outputs": [
    {
     "output_type": "execute_result",
     "data": {
      "text/plain": [
       "                                                             Execution  \\\n",
       "Variation                                          Solution              \n",
       "front_nsga,tour_vio,rein_vio,vio_back,metrics_p... X               0.5   \n",
       "                                                   Y               0.5   \n",
       "\n",
       "                                                             Max total backlog [kg]  \\\n",
       "Variation                                          Solution                           \n",
       "front_nsga,tour_vio,rein_vio,vio_back,metrics_p... X                      12.300393   \n",
       "                                                   Y                      12.300393   \n",
       "\n",
       "                                                             Max total inventory deficit [kg]  \\\n",
       "Variation                                          Solution                                     \n",
       "front_nsga,tour_vio,rein_vio,vio_back,metrics_p... X                                     38.5   \n",
       "                                                   Y                                     38.5   \n",
       "\n",
       "                                                             Mean total backlog [kg]  \\\n",
       "Variation                                          Solution                            \n",
       "front_nsga,tour_vio,rein_vio,vio_back,metrics_p... X                         1.44228   \n",
       "                                                   Y                         1.44228   \n",
       "\n",
       "                                                             Mean total inventory deficit [kg]  \\\n",
       "Variation                                          Solution                                      \n",
       "front_nsga,tour_vio,rein_vio,vio_back,metrics_p... X                                   8.72444   \n",
       "                                                   Y                                   8.72444   \n",
       "\n",
       "                                                             Median total backlog [kg]  \\\n",
       "Variation                                          Solution                              \n",
       "front_nsga,tour_vio,rein_vio,vio_back,metrics_p... X                               0.0   \n",
       "                                                   Y                               0.0   \n",
       "\n",
       "                                                             Median total inventory deficit [kg]  \\\n",
       "Variation                                          Solution                                        \n",
       "front_nsga,tour_vio,rein_vio,vio_back,metrics_p... X                                         0.0   \n",
       "                                                   Y                                         0.0   \n",
       "\n",
       "                                                             Min total backlog [kg]  \\\n",
       "Variation                                          Solution                           \n",
       "front_nsga,tour_vio,rein_vio,vio_back,metrics_p... X                            0.0   \n",
       "                                                   Y                            0.0   \n",
       "\n",
       "                                                             Min total inventory deficit [kg]  \\\n",
       "Variation                                          Solution                                     \n",
       "front_nsga,tour_vio,rein_vio,vio_back,metrics_p... X                                      0.0   \n",
       "                                                   Y                                      0.0   \n",
       "\n",
       "                                                             P(total backlog ≤ 0 kg)  \\\n",
       "Variation                                          Solution                            \n",
       "front_nsga,tour_vio,rein_vio,vio_back,metrics_p... X                      207.688315   \n",
       "                                                   Y                      207.688315   \n",
       "\n",
       "                                                             Total Deficit [kg]  \\\n",
       "Variation                                          Solution                       \n",
       "front_nsga,tour_vio,rein_vio,vio_back,metrics_p... X                        0.0   \n",
       "                                                   Y                        0.0   \n",
       "\n",
       "                                                             Total throughput [kg]  \\\n",
       "Variation                                          Solution                          \n",
       "front_nsga,tour_vio,rein_vio,vio_back,metrics_p... X                         660.5   \n",
       "                                                   Y                         660.5   \n",
       "\n",
       "                                                             std dev inventory deficit [kg]  \\\n",
       "Variation                                          Solution                                   \n",
       "front_nsga,tour_vio,rein_vio,vio_back,metrics_p... X                              12.262258   \n",
       "                                                   Y                              12.262258   \n",
       "\n",
       "                                                             std dev total backlog [kg]  \n",
       "Variation                                          Solution                              \n",
       "front_nsga,tour_vio,rein_vio,vio_back,metrics_p... X                           3.045178  \n",
       "                                                   Y                           3.045178  "
      ],
      "text/html": "<div>\n<style scoped>\n    .dataframe tbody tr th:only-of-type {\n        vertical-align: middle;\n    }\n\n    .dataframe tbody tr th {\n        vertical-align: top;\n    }\n\n    .dataframe thead th {\n        text-align: right;\n    }\n</style>\n<table border=\"1\" class=\"dataframe\">\n  <thead>\n    <tr style=\"text-align: right;\">\n      <th></th>\n      <th></th>\n      <th>Execution</th>\n      <th>Max total backlog [kg]</th>\n      <th>Max total inventory deficit [kg]</th>\n      <th>Mean total backlog [kg]</th>\n      <th>Mean total inventory deficit [kg]</th>\n      <th>Median total backlog [kg]</th>\n      <th>Median total inventory deficit [kg]</th>\n      <th>Min total backlog [kg]</th>\n      <th>Min total inventory deficit [kg]</th>\n      <th>P(total backlog ≤ 0 kg)</th>\n      <th>Total Deficit [kg]</th>\n      <th>Total throughput [kg]</th>\n      <th>std dev inventory deficit [kg]</th>\n      <th>std dev total backlog [kg]</th>\n    </tr>\n    <tr>\n      <th>Variation</th>\n      <th>Solution</th>\n      <th></th>\n      <th></th>\n      <th></th>\n      <th></th>\n      <th></th>\n      <th></th>\n      <th></th>\n      <th></th>\n      <th></th>\n      <th></th>\n      <th></th>\n      <th></th>\n      <th></th>\n      <th></th>\n    </tr>\n  </thead>\n  <tbody>\n    <tr>\n      <th rowspan=\"2\" valign=\"top\">front_nsga,tour_vio,rein_vio,vio_back,metrics_pareto_vio,100,1000,2,0.5,(0.04, 0.61, 0.77, 0.47)</th>\n      <th>X</th>\n      <td>0.5</td>\n      <td>12.300393</td>\n      <td>38.5</td>\n      <td>1.44228</td>\n      <td>8.72444</td>\n      <td>0.0</td>\n      <td>0.0</td>\n      <td>0.0</td>\n      <td>0.0</td>\n      <td>207.688315</td>\n      <td>0.0</td>\n      <td>660.5</td>\n      <td>12.262258</td>\n      <td>3.045178</td>\n    </tr>\n    <tr>\n      <th>Y</th>\n      <td>0.5</td>\n      <td>12.300393</td>\n      <td>38.5</td>\n      <td>1.44228</td>\n      <td>8.72444</td>\n      <td>0.0</td>\n      <td>0.0</td>\n      <td>0.0</td>\n      <td>0.0</td>\n      <td>207.688315</td>\n      <td>0.0</td>\n      <td>660.5</td>\n      <td>12.262258</td>\n      <td>3.045178</td>\n    </tr>\n  </tbody>\n</table>\n</div>"
     },
     "metadata": {},
     "execution_count": 70
    }
   ],
   "source": [
    "table6=pd.pivot_table(df_ind,index=[\"Variation\",\"Solution\"])\n",
    "table6"
   ]
  },
  {
   "cell_type": "code",
   "execution_count": 32,
   "metadata": {},
   "outputs": [
    {
     "output_type": "execute_result",
     "data": {
      "text/plain": [
       "Index(['Execution', 'Variation', 'Solution', 'Total throughput [kg]',\n",
       "       'Max total backlog [kg]', 'Mean total backlog [kg]',\n",
       "       'std dev total backlog [kg]', 'Median total backlog [kg]',\n",
       "       'Min total backlog [kg]', 'P(total backlog ≤ 0 kg)',\n",
       "       'Max total inventory deficit [kg]', 'Mean total inventory deficit [kg]',\n",
       "       'std dev inventory deficit [kg]', 'Median total inventory deficit [kg]',\n",
       "       'Min total inventory deficit [kg]', 'Total Deficit [kg]',\n",
       "       'Batches [un]', 'Product label', 'Start of USP [date]',\n",
       "       'End of DSP [date]'],\n",
       "      dtype='object')"
      ]
     },
     "metadata": {},
     "execution_count": 32
    }
   ],
   "source": [
    "df_ind.columns"
   ]
  },
  {
   "cell_type": "code",
   "execution_count": 29,
   "metadata": {},
   "outputs": [
    {
     "output_type": "execute_result",
     "data": {
      "text/plain": [
       "       Total throughput [kg]  Max total backlog [kg]  Mean total backlog [kg]  \\\n",
       "count              56.000000               56.000000                56.000000   \n",
       "mean              331.848214               12.147340                 2.116704   \n",
       "std               286.755659                0.626075                 0.764955   \n",
       "min                 3.100000               10.296253                 0.457257   \n",
       "25%                 9.300000               12.293805                 1.440366   \n",
       "50%               368.900000               12.385826                 2.358492   \n",
       "75%               626.600000               12.432647                 2.860438   \n",
       "max               763.900000               12.554003                 2.910240   \n",
       "\n",
       "       std dev total backlog [kg]  Median total backlog [kg]  \\\n",
       "count                   56.000000                       56.0   \n",
       "mean                     3.488793                        0.0   \n",
       "std                      0.612629                        0.0   \n",
       "min                      1.650465                        0.0   \n",
       "25%                      3.044302                        0.0   \n",
       "50%                      3.766356                        0.0   \n",
       "75%                      3.988190                        0.0   \n",
       "max                      4.007382                        0.0   \n",
       "\n",
       "       Min total backlog [kg]  P(total backlog ≤ 0 kg)  \\\n",
       "count                    56.0                56.000000   \n",
       "mean                      0.0               304.805348   \n",
       "std                       0.0               110.153563   \n",
       "min                       0.0                65.845030   \n",
       "25%                       0.0               207.412741   \n",
       "50%                       0.0               339.622869   \n",
       "75%                       0.0               411.903135   \n",
       "max                       0.0               419.074491   \n",
       "\n",
       "       Max total inventory deficit [kg]  Mean total inventory deficit [kg]  \\\n",
       "count                         56.000000                          56.000000   \n",
       "mean                          41.387500                          12.183440   \n",
       "std                            4.210034                           3.920331   \n",
       "min                           27.900000                           4.063711   \n",
       "25%                           38.500000                           8.720663   \n",
       "50%                           44.000000                          13.706659   \n",
       "75%                           44.000000                          16.011639   \n",
       "max                           44.000000                          16.230853   \n",
       "\n",
       "       std dev inventory deficit [kg]  Median total inventory deficit [kg]  \\\n",
       "count                       56.000000                            56.000000   \n",
       "mean                        12.757011                             7.331104   \n",
       "std                          1.559750                             6.824786   \n",
       "min                          6.639844                             0.000000   \n",
       "25%                         12.259719                             0.000000   \n",
       "50%                         13.262191                             6.269697   \n",
       "75%                         13.701876                            14.700000   \n",
       "max                         14.606099                            15.100000   \n",
       "\n",
       "       Min total inventory deficit [kg]  Total Deficit [kg]  \n",
       "count                              56.0           56.000000  \n",
       "mean                                0.0            7.331104  \n",
       "std                                 0.0            6.824786  \n",
       "min                                 0.0            0.000000  \n",
       "25%                                 0.0            0.000000  \n",
       "50%                                 0.0            6.269697  \n",
       "75%                                 0.0           14.700000  \n",
       "max                                 0.0           15.100000  "
      ],
      "text/html": "<div>\n<style scoped>\n    .dataframe tbody tr th:only-of-type {\n        vertical-align: middle;\n    }\n\n    .dataframe tbody tr th {\n        vertical-align: top;\n    }\n\n    .dataframe thead th {\n        text-align: right;\n    }\n</style>\n<table border=\"1\" class=\"dataframe\">\n  <thead>\n    <tr style=\"text-align: right;\">\n      <th></th>\n      <th>Total throughput [kg]</th>\n      <th>Max total backlog [kg]</th>\n      <th>Mean total backlog [kg]</th>\n      <th>std dev total backlog [kg]</th>\n      <th>Median total backlog [kg]</th>\n      <th>Min total backlog [kg]</th>\n      <th>P(total backlog ≤ 0 kg)</th>\n      <th>Max total inventory deficit [kg]</th>\n      <th>Mean total inventory deficit [kg]</th>\n      <th>std dev inventory deficit [kg]</th>\n      <th>Median total inventory deficit [kg]</th>\n      <th>Min total inventory deficit [kg]</th>\n      <th>Total Deficit [kg]</th>\n    </tr>\n  </thead>\n  <tbody>\n    <tr>\n      <th>count</th>\n      <td>56.000000</td>\n      <td>56.000000</td>\n      <td>56.000000</td>\n      <td>56.000000</td>\n      <td>56.0</td>\n      <td>56.0</td>\n      <td>56.000000</td>\n      <td>56.000000</td>\n      <td>56.000000</td>\n      <td>56.000000</td>\n      <td>56.000000</td>\n      <td>56.0</td>\n      <td>56.000000</td>\n    </tr>\n    <tr>\n      <th>mean</th>\n      <td>331.848214</td>\n      <td>12.147340</td>\n      <td>2.116704</td>\n      <td>3.488793</td>\n      <td>0.0</td>\n      <td>0.0</td>\n      <td>304.805348</td>\n      <td>41.387500</td>\n      <td>12.183440</td>\n      <td>12.757011</td>\n      <td>7.331104</td>\n      <td>0.0</td>\n      <td>7.331104</td>\n    </tr>\n    <tr>\n      <th>std</th>\n      <td>286.755659</td>\n      <td>0.626075</td>\n      <td>0.764955</td>\n      <td>0.612629</td>\n      <td>0.0</td>\n      <td>0.0</td>\n      <td>110.153563</td>\n      <td>4.210034</td>\n      <td>3.920331</td>\n      <td>1.559750</td>\n      <td>6.824786</td>\n      <td>0.0</td>\n      <td>6.824786</td>\n    </tr>\n    <tr>\n      <th>min</th>\n      <td>3.100000</td>\n      <td>10.296253</td>\n      <td>0.457257</td>\n      <td>1.650465</td>\n      <td>0.0</td>\n      <td>0.0</td>\n      <td>65.845030</td>\n      <td>27.900000</td>\n      <td>4.063711</td>\n      <td>6.639844</td>\n      <td>0.000000</td>\n      <td>0.0</td>\n      <td>0.000000</td>\n    </tr>\n    <tr>\n      <th>25%</th>\n      <td>9.300000</td>\n      <td>12.293805</td>\n      <td>1.440366</td>\n      <td>3.044302</td>\n      <td>0.0</td>\n      <td>0.0</td>\n      <td>207.412741</td>\n      <td>38.500000</td>\n      <td>8.720663</td>\n      <td>12.259719</td>\n      <td>0.000000</td>\n      <td>0.0</td>\n      <td>0.000000</td>\n    </tr>\n    <tr>\n      <th>50%</th>\n      <td>368.900000</td>\n      <td>12.385826</td>\n      <td>2.358492</td>\n      <td>3.766356</td>\n      <td>0.0</td>\n      <td>0.0</td>\n      <td>339.622869</td>\n      <td>44.000000</td>\n      <td>13.706659</td>\n      <td>13.262191</td>\n      <td>6.269697</td>\n      <td>0.0</td>\n      <td>6.269697</td>\n    </tr>\n    <tr>\n      <th>75%</th>\n      <td>626.600000</td>\n      <td>12.432647</td>\n      <td>2.860438</td>\n      <td>3.988190</td>\n      <td>0.0</td>\n      <td>0.0</td>\n      <td>411.903135</td>\n      <td>44.000000</td>\n      <td>16.011639</td>\n      <td>13.701876</td>\n      <td>14.700000</td>\n      <td>0.0</td>\n      <td>14.700000</td>\n    </tr>\n    <tr>\n      <th>max</th>\n      <td>763.900000</td>\n      <td>12.554003</td>\n      <td>2.910240</td>\n      <td>4.007382</td>\n      <td>0.0</td>\n      <td>0.0</td>\n      <td>419.074491</td>\n      <td>44.000000</td>\n      <td>16.230853</td>\n      <td>14.606099</td>\n      <td>15.100000</td>\n      <td>0.0</td>\n      <td>15.100000</td>\n    </tr>\n  </tbody>\n</table>\n</div>"
     },
     "metadata": {},
     "execution_count": 29
    }
   ],
   "source": [
    "df_find.loc[df_find.Variation!=\"Article\"].describe()"
   ]
  },
  {
   "cell_type": "code",
   "execution_count": 91,
   "metadata": {},
   "outputs": [],
   "source": [
    " # Import as csv\n",
    "file_name='df_ind_short.csv'\n",
    "path=root_path_data+file_name\n",
    "df_find_short=pd.read_csv(path,index_col=0)"
   ]
  },
  {
   "cell_type": "code",
   "execution_count": 77,
   "metadata": {},
   "outputs": [
    {
     "output_type": "execute_result",
     "data": {
      "text/plain": [
       "Index(['Solution', 'Total throughput [kg]', 'Max total backlog [kg]',\n",
       "       'Mean total backlog [kg]', 'std dev total backlog [kg]',\n",
       "       'Median total backlog [kg]', 'Min total backlog [kg]',\n",
       "       'P(total backlog ≤ 0 kg)', 'Max total inventory deficit [kg]',\n",
       "       'Mean total inventory deficit [kg]', 'std dev inventory deficit [kg]',\n",
       "       'Median total inventory deficit [kg]',\n",
       "       'Min total inventory deficit [kg]', 'Total Deficit [kg]',\n",
       "       'Batches [un]', 'Product label'],\n",
       "      dtype='object')"
      ]
     },
     "metadata": {},
     "execution_count": 77
    }
   ],
   "source": [
    "df_find_short.columns"
   ]
  },
  {
   "cell_type": "code",
   "execution_count": 107,
   "metadata": {},
   "outputs": [
    {
     "output_type": "execute_result",
     "data": {
      "text/plain": [
       "Variation                                                     Article  \\\n",
       "Solution                                                            X   \n",
       "Total throughput [kg]                                           539.3   \n",
       "Max total backlog [kg]                                            8.2   \n",
       "Mean total backlog [kg]                                           0.2   \n",
       "std dev total backlog [kg]                                        0.6   \n",
       "Median total backlog [kg]                                           0   \n",
       "Min total backlog [kg]                                              0   \n",
       "P(total backlog ≤ 0 kg)                                          0.82   \n",
       "Max total inventory deficit [kg]                                683.4   \n",
       "Mean total inventory deficit [kg]                               432.6   \n",
       "std dev inventory deficit [kg]                                   58.6   \n",
       "Median total inventory deficit [kg]                             424.4   \n",
       "Min total inventory deficit [kg]                                259.4   \n",
       "Total Deficit [kg]                                                NaN   \n",
       "Batches [un]                         [15 10 29 3 15 11 15 6 2 2 2 10]   \n",
       "Product label                               [3 2 0 1 3 2 1 3 2 1 2 3]   \n",
       "\n",
       "Variation                                            Article       Var 1  \\\n",
       "Solution                                                   Y           X   \n",
       "Total throughput [kg]                                  601.5       660.5   \n",
       "Max total backlog [kg]                                    16     12.3039   \n",
       "Mean total backlog [kg]                                  7.1      1.4439   \n",
       "std dev total backlog [kg]                               4.3     3.04579   \n",
       "Median total backlog [kg]                                  0           0   \n",
       "Min total backlog [kg]                                     0           0   \n",
       "P(total backlog ≤ 0 kg)                                  0.5     207.921   \n",
       "Max total inventory deficit [kg]                         786        38.5   \n",
       "Mean total inventory deficit [kg]                      558.6     8.72792   \n",
       "std dev inventory deficit [kg]                            59     12.2641   \n",
       "Median total inventory deficit [kg]                    551.7           0   \n",
       "Min total inventory deficit [kg]                       355.6           0   \n",
       "Total Deficit [kg]                                       NaN           0   \n",
       "Batches [un]                         [12 13 24 18 5 19 9 30]  [50 31 50]   \n",
       "Product label                              [3 2 0 3 1 0 2 3]     [2 3 2]   \n",
       "\n",
       "Variation                                 Var 1  \n",
       "Solution                                      Y  \n",
       "Total throughput [kg]                     660.5  \n",
       "Max total backlog [kg]                  12.3039  \n",
       "Mean total backlog [kg]                  1.4439  \n",
       "std dev total backlog [kg]              3.04579  \n",
       "Median total backlog [kg]                     0  \n",
       "Min total backlog [kg]                        0  \n",
       "P(total backlog ≤ 0 kg)                 207.921  \n",
       "Max total inventory deficit [kg]           38.5  \n",
       "Mean total inventory deficit [kg]       8.72792  \n",
       "std dev inventory deficit [kg]          12.2641  \n",
       "Median total inventory deficit [kg]           0  \n",
       "Min total inventory deficit [kg]              0  \n",
       "Total Deficit [kg]                            0  \n",
       "Batches [un]                         [50 31 50]  \n",
       "Product label                           [2 3 2]  "
      ],
      "text/html": "<div>\n<style scoped>\n    .dataframe tbody tr th:only-of-type {\n        vertical-align: middle;\n    }\n\n    .dataframe tbody tr th {\n        vertical-align: top;\n    }\n\n    .dataframe thead th {\n        text-align: right;\n    }\n</style>\n<table border=\"1\" class=\"dataframe\">\n  <thead>\n    <tr style=\"text-align: right;\">\n      <th>Variation</th>\n      <th>Article</th>\n      <th>Article</th>\n      <th>Var 1</th>\n      <th>Var 1</th>\n    </tr>\n  </thead>\n  <tbody>\n    <tr>\n      <th>Solution</th>\n      <td>X</td>\n      <td>Y</td>\n      <td>X</td>\n      <td>Y</td>\n    </tr>\n    <tr>\n      <th>Total throughput [kg]</th>\n      <td>539.3</td>\n      <td>601.5</td>\n      <td>660.5</td>\n      <td>660.5</td>\n    </tr>\n    <tr>\n      <th>Max total backlog [kg]</th>\n      <td>8.2</td>\n      <td>16</td>\n      <td>12.3039</td>\n      <td>12.3039</td>\n    </tr>\n    <tr>\n      <th>Mean total backlog [kg]</th>\n      <td>0.2</td>\n      <td>7.1</td>\n      <td>1.4439</td>\n      <td>1.4439</td>\n    </tr>\n    <tr>\n      <th>std dev total backlog [kg]</th>\n      <td>0.6</td>\n      <td>4.3</td>\n      <td>3.04579</td>\n      <td>3.04579</td>\n    </tr>\n    <tr>\n      <th>Median total backlog [kg]</th>\n      <td>0</td>\n      <td>0</td>\n      <td>0</td>\n      <td>0</td>\n    </tr>\n    <tr>\n      <th>Min total backlog [kg]</th>\n      <td>0</td>\n      <td>0</td>\n      <td>0</td>\n      <td>0</td>\n    </tr>\n    <tr>\n      <th>P(total backlog ≤ 0 kg)</th>\n      <td>0.82</td>\n      <td>0.5</td>\n      <td>207.921</td>\n      <td>207.921</td>\n    </tr>\n    <tr>\n      <th>Max total inventory deficit [kg]</th>\n      <td>683.4</td>\n      <td>786</td>\n      <td>38.5</td>\n      <td>38.5</td>\n    </tr>\n    <tr>\n      <th>Mean total inventory deficit [kg]</th>\n      <td>432.6</td>\n      <td>558.6</td>\n      <td>8.72792</td>\n      <td>8.72792</td>\n    </tr>\n    <tr>\n      <th>std dev inventory deficit [kg]</th>\n      <td>58.6</td>\n      <td>59</td>\n      <td>12.2641</td>\n      <td>12.2641</td>\n    </tr>\n    <tr>\n      <th>Median total inventory deficit [kg]</th>\n      <td>424.4</td>\n      <td>551.7</td>\n      <td>0</td>\n      <td>0</td>\n    </tr>\n    <tr>\n      <th>Min total inventory deficit [kg]</th>\n      <td>259.4</td>\n      <td>355.6</td>\n      <td>0</td>\n      <td>0</td>\n    </tr>\n    <tr>\n      <th>Total Deficit [kg]</th>\n      <td>NaN</td>\n      <td>NaN</td>\n      <td>0</td>\n      <td>0</td>\n    </tr>\n    <tr>\n      <th>Batches [un]</th>\n      <td>[15 10 29 3 15 11 15 6 2 2 2 10]</td>\n      <td>[12 13 24 18 5 19 9 30]</td>\n      <td>[50 31 50]</td>\n      <td>[50 31 50]</td>\n    </tr>\n    <tr>\n      <th>Product label</th>\n      <td>[3 2 0 1 3 2 1 3 2 1 2 3]</td>\n      <td>[3 2 0 3 1 0 2 3]</td>\n      <td>[2 3 2]</td>\n      <td>[2 3 2]</td>\n    </tr>\n  </tbody>\n</table>\n</div>"
     },
     "metadata": {},
     "execution_count": 107
    }
   ],
   "source": [
    "table6=df_find_short.T\n",
    "table6"
   ]
  },
  {
   "cell_type": "code",
   "execution_count": 110,
   "metadata": {},
   "outputs": [],
   "source": [
    "# Export table to txt for latex\n",
    "file_name = \"resultado.txt\"\n",
    "path = root_path_report + file_name\n",
    "with codecs.open(path, 'w', 'utf-8') as outfile:\n",
    "    outfile.write(table6.to_latex(index=True,escape=True))"
   ]
  },
  {
   "cell_type": "code",
   "execution_count": 2,
   "metadata": {},
   "outputs": [
    {
     "output_type": "display_data",
     "data": {
      "application/vnd.plotly.v1+json": {
       "config": {
        "plotlyServerURL": "https://plot.ly"
       },
       "data": [
        {
         "connector": {
          "line": {
           "color": "rgb(0, 0, 0)",
           "dash": "solid",
           "width": 4
          },
          "mode": "between"
         },
         "measure": [
          "relative",
          "relative",
          "relative",
          "relative",
          "total",
          "relative",
          "relative",
          "relative",
          "relative",
          "total",
          "relative",
          "relative",
          "total",
          "relative",
          "total"
         ],
         "name": "2018",
         "orientation": "h",
         "type": "waterfall",
         "x": [
          375,
          128,
          78,
          27,
          null,
          -327,
          -12,
          -78,
          -12,
          null,
          32,
          89,
          null,
          -45,
          null
         ],
         "y": [
          "Sales",
          "Consulting",
          "Maintenance",
          "Other revenue",
          "Net revenue",
          "Purchases",
          "Material expenses",
          "Personnel expenses",
          "Other expenses",
          "Operating profit",
          "Investment income",
          "Financial income",
          "Profit before tax",
          "Income tax (15%)",
          "Profit after tax"
         ]
        }
       ],
       "layout": {
        "template": {
         "data": {
          "bar": [
           {
            "error_x": {
             "color": "#2a3f5f"
            },
            "error_y": {
             "color": "#2a3f5f"
            },
            "marker": {
             "line": {
              "color": "#E5ECF6",
              "width": 0.5
             }
            },
            "type": "bar"
           }
          ],
          "barpolar": [
           {
            "marker": {
             "line": {
              "color": "#E5ECF6",
              "width": 0.5
             }
            },
            "type": "barpolar"
           }
          ],
          "carpet": [
           {
            "aaxis": {
             "endlinecolor": "#2a3f5f",
             "gridcolor": "white",
             "linecolor": "white",
             "minorgridcolor": "white",
             "startlinecolor": "#2a3f5f"
            },
            "baxis": {
             "endlinecolor": "#2a3f5f",
             "gridcolor": "white",
             "linecolor": "white",
             "minorgridcolor": "white",
             "startlinecolor": "#2a3f5f"
            },
            "type": "carpet"
           }
          ],
          "choropleth": [
           {
            "colorbar": {
             "outlinewidth": 0,
             "ticks": ""
            },
            "type": "choropleth"
           }
          ],
          "contour": [
           {
            "colorbar": {
             "outlinewidth": 0,
             "ticks": ""
            },
            "colorscale": [
             [
              0,
              "#0d0887"
             ],
             [
              0.1111111111111111,
              "#46039f"
             ],
             [
              0.2222222222222222,
              "#7201a8"
             ],
             [
              0.3333333333333333,
              "#9c179e"
             ],
             [
              0.4444444444444444,
              "#bd3786"
             ],
             [
              0.5555555555555556,
              "#d8576b"
             ],
             [
              0.6666666666666666,
              "#ed7953"
             ],
             [
              0.7777777777777778,
              "#fb9f3a"
             ],
             [
              0.8888888888888888,
              "#fdca26"
             ],
             [
              1,
              "#f0f921"
             ]
            ],
            "type": "contour"
           }
          ],
          "contourcarpet": [
           {
            "colorbar": {
             "outlinewidth": 0,
             "ticks": ""
            },
            "type": "contourcarpet"
           }
          ],
          "heatmap": [
           {
            "colorbar": {
             "outlinewidth": 0,
             "ticks": ""
            },
            "colorscale": [
             [
              0,
              "#0d0887"
             ],
             [
              0.1111111111111111,
              "#46039f"
             ],
             [
              0.2222222222222222,
              "#7201a8"
             ],
             [
              0.3333333333333333,
              "#9c179e"
             ],
             [
              0.4444444444444444,
              "#bd3786"
             ],
             [
              0.5555555555555556,
              "#d8576b"
             ],
             [
              0.6666666666666666,
              "#ed7953"
             ],
             [
              0.7777777777777778,
              "#fb9f3a"
             ],
             [
              0.8888888888888888,
              "#fdca26"
             ],
             [
              1,
              "#f0f921"
             ]
            ],
            "type": "heatmap"
           }
          ],
          "heatmapgl": [
           {
            "colorbar": {
             "outlinewidth": 0,
             "ticks": ""
            },
            "colorscale": [
             [
              0,
              "#0d0887"
             ],
             [
              0.1111111111111111,
              "#46039f"
             ],
             [
              0.2222222222222222,
              "#7201a8"
             ],
             [
              0.3333333333333333,
              "#9c179e"
             ],
             [
              0.4444444444444444,
              "#bd3786"
             ],
             [
              0.5555555555555556,
              "#d8576b"
             ],
             [
              0.6666666666666666,
              "#ed7953"
             ],
             [
              0.7777777777777778,
              "#fb9f3a"
             ],
             [
              0.8888888888888888,
              "#fdca26"
             ],
             [
              1,
              "#f0f921"
             ]
            ],
            "type": "heatmapgl"
           }
          ],
          "histogram": [
           {
            "marker": {
             "colorbar": {
              "outlinewidth": 0,
              "ticks": ""
             }
            },
            "type": "histogram"
           }
          ],
          "histogram2d": [
           {
            "colorbar": {
             "outlinewidth": 0,
             "ticks": ""
            },
            "colorscale": [
             [
              0,
              "#0d0887"
             ],
             [
              0.1111111111111111,
              "#46039f"
             ],
             [
              0.2222222222222222,
              "#7201a8"
             ],
             [
              0.3333333333333333,
              "#9c179e"
             ],
             [
              0.4444444444444444,
              "#bd3786"
             ],
             [
              0.5555555555555556,
              "#d8576b"
             ],
             [
              0.6666666666666666,
              "#ed7953"
             ],
             [
              0.7777777777777778,
              "#fb9f3a"
             ],
             [
              0.8888888888888888,
              "#fdca26"
             ],
             [
              1,
              "#f0f921"
             ]
            ],
            "type": "histogram2d"
           }
          ],
          "histogram2dcontour": [
           {
            "colorbar": {
             "outlinewidth": 0,
             "ticks": ""
            },
            "colorscale": [
             [
              0,
              "#0d0887"
             ],
             [
              0.1111111111111111,
              "#46039f"
             ],
             [
              0.2222222222222222,
              "#7201a8"
             ],
             [
              0.3333333333333333,
              "#9c179e"
             ],
             [
              0.4444444444444444,
              "#bd3786"
             ],
             [
              0.5555555555555556,
              "#d8576b"
             ],
             [
              0.6666666666666666,
              "#ed7953"
             ],
             [
              0.7777777777777778,
              "#fb9f3a"
             ],
             [
              0.8888888888888888,
              "#fdca26"
             ],
             [
              1,
              "#f0f921"
             ]
            ],
            "type": "histogram2dcontour"
           }
          ],
          "mesh3d": [
           {
            "colorbar": {
             "outlinewidth": 0,
             "ticks": ""
            },
            "type": "mesh3d"
           }
          ],
          "parcoords": [
           {
            "line": {
             "colorbar": {
              "outlinewidth": 0,
              "ticks": ""
             }
            },
            "type": "parcoords"
           }
          ],
          "pie": [
           {
            "automargin": true,
            "type": "pie"
           }
          ],
          "scatter": [
           {
            "marker": {
             "colorbar": {
              "outlinewidth": 0,
              "ticks": ""
             }
            },
            "type": "scatter"
           }
          ],
          "scatter3d": [
           {
            "line": {
             "colorbar": {
              "outlinewidth": 0,
              "ticks": ""
             }
            },
            "marker": {
             "colorbar": {
              "outlinewidth": 0,
              "ticks": ""
             }
            },
            "type": "scatter3d"
           }
          ],
          "scattercarpet": [
           {
            "marker": {
             "colorbar": {
              "outlinewidth": 0,
              "ticks": ""
             }
            },
            "type": "scattercarpet"
           }
          ],
          "scattergeo": [
           {
            "marker": {
             "colorbar": {
              "outlinewidth": 0,
              "ticks": ""
             }
            },
            "type": "scattergeo"
           }
          ],
          "scattergl": [
           {
            "marker": {
             "colorbar": {
              "outlinewidth": 0,
              "ticks": ""
             }
            },
            "type": "scattergl"
           }
          ],
          "scattermapbox": [
           {
            "marker": {
             "colorbar": {
              "outlinewidth": 0,
              "ticks": ""
             }
            },
            "type": "scattermapbox"
           }
          ],
          "scatterpolar": [
           {
            "marker": {
             "colorbar": {
              "outlinewidth": 0,
              "ticks": ""
             }
            },
            "type": "scatterpolar"
           }
          ],
          "scatterpolargl": [
           {
            "marker": {
             "colorbar": {
              "outlinewidth": 0,
              "ticks": ""
             }
            },
            "type": "scatterpolargl"
           }
          ],
          "scatterternary": [
           {
            "marker": {
             "colorbar": {
              "outlinewidth": 0,
              "ticks": ""
             }
            },
            "type": "scatterternary"
           }
          ],
          "surface": [
           {
            "colorbar": {
             "outlinewidth": 0,
             "ticks": ""
            },
            "colorscale": [
             [
              0,
              "#0d0887"
             ],
             [
              0.1111111111111111,
              "#46039f"
             ],
             [
              0.2222222222222222,
              "#7201a8"
             ],
             [
              0.3333333333333333,
              "#9c179e"
             ],
             [
              0.4444444444444444,
              "#bd3786"
             ],
             [
              0.5555555555555556,
              "#d8576b"
             ],
             [
              0.6666666666666666,
              "#ed7953"
             ],
             [
              0.7777777777777778,
              "#fb9f3a"
             ],
             [
              0.8888888888888888,
              "#fdca26"
             ],
             [
              1,
              "#f0f921"
             ]
            ],
            "type": "surface"
           }
          ],
          "table": [
           {
            "cells": {
             "fill": {
              "color": "#EBF0F8"
             },
             "line": {
              "color": "white"
             }
            },
            "header": {
             "fill": {
              "color": "#C8D4E3"
             },
             "line": {
              "color": "white"
             }
            },
            "type": "table"
           }
          ]
         },
         "layout": {
          "annotationdefaults": {
           "arrowcolor": "#2a3f5f",
           "arrowhead": 0,
           "arrowwidth": 1
          },
          "autotypenumbers": "strict",
          "coloraxis": {
           "colorbar": {
            "outlinewidth": 0,
            "ticks": ""
           }
          },
          "colorscale": {
           "diverging": [
            [
             0,
             "#8e0152"
            ],
            [
             0.1,
             "#c51b7d"
            ],
            [
             0.2,
             "#de77ae"
            ],
            [
             0.3,
             "#f1b6da"
            ],
            [
             0.4,
             "#fde0ef"
            ],
            [
             0.5,
             "#f7f7f7"
            ],
            [
             0.6,
             "#e6f5d0"
            ],
            [
             0.7,
             "#b8e186"
            ],
            [
             0.8,
             "#7fbc41"
            ],
            [
             0.9,
             "#4d9221"
            ],
            [
             1,
             "#276419"
            ]
           ],
           "sequential": [
            [
             0,
             "#0d0887"
            ],
            [
             0.1111111111111111,
             "#46039f"
            ],
            [
             0.2222222222222222,
             "#7201a8"
            ],
            [
             0.3333333333333333,
             "#9c179e"
            ],
            [
             0.4444444444444444,
             "#bd3786"
            ],
            [
             0.5555555555555556,
             "#d8576b"
            ],
            [
             0.6666666666666666,
             "#ed7953"
            ],
            [
             0.7777777777777778,
             "#fb9f3a"
            ],
            [
             0.8888888888888888,
             "#fdca26"
            ],
            [
             1,
             "#f0f921"
            ]
           ],
           "sequentialminus": [
            [
             0,
             "#0d0887"
            ],
            [
             0.1111111111111111,
             "#46039f"
            ],
            [
             0.2222222222222222,
             "#7201a8"
            ],
            [
             0.3333333333333333,
             "#9c179e"
            ],
            [
             0.4444444444444444,
             "#bd3786"
            ],
            [
             0.5555555555555556,
             "#d8576b"
            ],
            [
             0.6666666666666666,
             "#ed7953"
            ],
            [
             0.7777777777777778,
             "#fb9f3a"
            ],
            [
             0.8888888888888888,
             "#fdca26"
            ],
            [
             1,
             "#f0f921"
            ]
           ]
          },
          "colorway": [
           "#636efa",
           "#EF553B",
           "#00cc96",
           "#ab63fa",
           "#FFA15A",
           "#19d3f3",
           "#FF6692",
           "#B6E880",
           "#FF97FF",
           "#FECB52"
          ],
          "font": {
           "color": "#2a3f5f"
          },
          "geo": {
           "bgcolor": "white",
           "lakecolor": "white",
           "landcolor": "#E5ECF6",
           "showlakes": true,
           "showland": true,
           "subunitcolor": "white"
          },
          "hoverlabel": {
           "align": "left"
          },
          "hovermode": "closest",
          "mapbox": {
           "style": "light"
          },
          "paper_bgcolor": "white",
          "plot_bgcolor": "#E5ECF6",
          "polar": {
           "angularaxis": {
            "gridcolor": "white",
            "linecolor": "white",
            "ticks": ""
           },
           "bgcolor": "#E5ECF6",
           "radialaxis": {
            "gridcolor": "white",
            "linecolor": "white",
            "ticks": ""
           }
          },
          "scene": {
           "xaxis": {
            "backgroundcolor": "#E5ECF6",
            "gridcolor": "white",
            "gridwidth": 2,
            "linecolor": "white",
            "showbackground": true,
            "ticks": "",
            "zerolinecolor": "white"
           },
           "yaxis": {
            "backgroundcolor": "#E5ECF6",
            "gridcolor": "white",
            "gridwidth": 2,
            "linecolor": "white",
            "showbackground": true,
            "ticks": "",
            "zerolinecolor": "white"
           },
           "zaxis": {
            "backgroundcolor": "#E5ECF6",
            "gridcolor": "white",
            "gridwidth": 2,
            "linecolor": "white",
            "showbackground": true,
            "ticks": "",
            "zerolinecolor": "white"
           }
          },
          "shapedefaults": {
           "line": {
            "color": "#2a3f5f"
           }
          },
          "ternary": {
           "aaxis": {
            "gridcolor": "white",
            "linecolor": "white",
            "ticks": ""
           },
           "baxis": {
            "gridcolor": "white",
            "linecolor": "white",
            "ticks": ""
           },
           "bgcolor": "#E5ECF6",
           "caxis": {
            "gridcolor": "white",
            "linecolor": "white",
            "ticks": ""
           }
          },
          "title": {
           "x": 0.05
          },
          "xaxis": {
           "automargin": true,
           "gridcolor": "white",
           "linecolor": "white",
           "ticks": "",
           "title": {
            "standoff": 15
           },
           "zerolinecolor": "white",
           "zerolinewidth": 2
          },
          "yaxis": {
           "automargin": true,
           "gridcolor": "white",
           "linecolor": "white",
           "ticks": "",
           "title": {
            "standoff": 15
           },
           "zerolinecolor": "white",
           "zerolinewidth": 2
          }
         }
        },
        "title": {
         "text": "Profit and loss statement 2018"
        }
       }
      }
     },
     "metadata": {}
    }
   ],
   "source": [
    "import plotly.graph_objects as go\n",
    "\n",
    "fig = go.Figure(go.Waterfall(\n",
    "    name = \"2018\", orientation = \"v\", measure = [\"relative\", \"relative\", \"total\", \"relative\",\"relative\",\"relative\",\"total\",\"relative\",\"relative\",\"relative\",\"relative\",\"relative\",\"relative\"],\n",
    "    y = ['Estoque 0','Produzido 1','Disponivel 1','Demanda 1','Vendido 1','Estoque 1','Deficit 1','Produzido 2','Disponivel 2','Demanda 2','Vendido 2','Estoque 2','Deficit 2'],\n",
    "    x = [10, 5, None, -8,0,None,10,None,-20],\n",
    "    connector = {\"mode\":\"between\", \"line\":{\"width\":4, \"color\":\"rgb(0, 0, 0)\", \"dash\":\"solid\"}}\n",
    "))\n",
    "\n",
    "fig.update_layout(title = Waterfall Estoques)\n",
    "\n",
    "fig.show()"
   ]
  }
 ]
}