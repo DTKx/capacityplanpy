{
 "metadata": {
  "language_info": {
   "codemirror_mode": {
    "name": "ipython",
    "version": 3
   },
   "file_extension": ".py",
   "mimetype": "text/x-python",
   "name": "python",
   "nbconvert_exporter": "python",
   "pygments_lexer": "ipython3",
   "version": "3.8.3-final"
  },
  "orig_nbformat": 2,
  "kernelspec": {
   "name": "python3",
   "display_name": "Python 3.8.3 64-bit ('comp_evol': conda)",
   "metadata": {
    "interpreter": {
     "hash": "e3d2e5b49fca8ece28e8612ddb42da6ec98316623bc11967ddd6e72144cb4ad0"
    }
   }
  }
 },
 "nbformat": 4,
 "nbformat_minor": 2,
 "cells": [
  {
   "source": [
    "# Reproduction of Article\n",
    "1. Steps:\n",
    "    1. Import Data\n",
    "    1. Initial Data Exploration\n",
    "        1. Data Summary Table\n",
    "    1. Comparison with article Data"
   ],
   "cell_type": "markdown",
   "metadata": {}
  },
  {
   "cell_type": "code",
   "execution_count": 65,
   "metadata": {},
   "outputs": [],
   "source": [
    "import pickle\n",
    "import numpy as np\n",
    "import pandas as pd\n",
    "import matplotlib.pyplot as plt\n",
    "import copy\n",
    "root_path_report=\"C:\\\\Users\\\\Debora\\\\Documents\\\\01_UFU_local\\\\01_comp_evolutiva\\\\05_trabalho3\\\\03_relatorio\\\\springer\\\\tables\\\\\"\n",
    "root_path_data=\"C:\\\\Users\\\\Debora\\\\Documents\\\\01_UFU_local\\\\01_comp_evolutiva\\\\05_trabalho3\\\\01_dados\\\\02_analysis\\\\\"\n"
   ]
  },
  {
   "source": [
    "## Parse Data"
   ],
   "cell_type": "markdown",
   "metadata": {}
  },
  {
   "source": [
    "# # Export table to txt for latex\n",
    "# root_path_report = \"C:\\\\Users\\\\debor\\\\Documents\\\\01_UFU_local\\\\01_comp_evolutiva\\\\01_trabalho_1\\\\03_relatorio\\\\template-latex\\\\tables\\\\\"\n",
    "# file_name = \"representacao.txt\"\n",
    "# path = root_path_report + file_name\n",
    "# with codecs.open(path, 'w', 'utf-8') as outfile:\n",
    "#     outfile.write(tabela_df.to_latex(index=False))\n",
    "\n",
    "# Open pickle Exec\n",
    "file_name='v_0_exec.pkl'\n",
    "path=root_path_data+file_name\n",
    "infile = open(path,'rb')\n",
    "ds_exec= pickle.load(infile)\n",
    "infile.close()\n",
    "\n",
    "# Open pickle dict class object pop\n",
    "file_name='v_0_id.pkl'\n",
    "path=root_path_data+file_name\n",
    "infile = open(path,'rb')\n",
    "ds_ind= pickle.load(infile)\n",
    "infile.close()\n",
    "\n",
    "# Unpack Data Execution\n",
    "# values_exec=[]\n",
    "# for key,value in ds_exec.items():\n",
    "#     # headers=[\"Execution\",\"Variant\",\"Hipervolume\",\"Pareto Front\"]\n",
    "#     values_exec.append([key[1],value[0],value[1],value[2]])\n",
    "headers=[\"Execution\",\"Variant\",\"Hipervolume\",\"Pareto Front\"]\n",
    "df_exec=pd.DataFrame(ds_exec,columns=headers)\n",
    "\n",
    "# Unpack Data per Ind\n",
    "# values_ind=[]\n",
    "# for key,value in ds_ind.items():\n",
    "#     # values_ind.append(value)\n",
    "#     values_ind.append(value[0])\n",
    "#     values_ind.append(value[1])\n",
    "# headers=[\"Execution\",\"Variation\",\"Solution\",\"Total throughput [kg]\", \"Max total backlog [kg]\", \"Mean total backlog [kg]\",\"std dev total backlog [kg]\", \"Median total backlog [kg]\",\"Min total backlog [kg]\", \"P(total backlog ≤ 0 kg)\",\"Max total inventory deficit [kg]\", \"Mean total inventory deficit [kg]\",\"std dev inventory deficit [kg]\", \"Median total inventory deficit [kg]\", \"Min total inventory deficit [kg]\",\"Batches [un]\",\"Product label\",\"Start of USP [date]\",\"End of DSP [date]\"]\n",
    "headers=[\"Execution\",\"Variation\",\"Solution\",\"Total throughput [kg]\", \"Max total backlog [kg]\", \"Mean total backlog [kg]\",\"std dev total backlog [kg]\", \"Median total backlog [kg]\",\"Min total backlog [kg]\", \"P(total backlog ≤ 0 kg)\",\"Max total inventory deficit [kg]\", \"Mean total inventory deficit [kg]\",\"std dev inventory deficit [kg]\", \"Median total inventory deficit [kg]\", \"Min total inventory deficit [kg]\",\"Total Deficit [kg]\",\"Batches [un]\",\"Product label\",\"Start of USP [date]\",\"End of DSP [date]\"]\n",
    "\n",
    "df_ind=pd.DataFrame(ds_ind,columns=headers)\n",
    "df_ind"
   ],
   "cell_type": "code",
   "metadata": {},
   "execution_count": 66,
   "outputs": [
    {
     "output_type": "execute_result",
     "data": {
      "text/plain": [
       "   Execution                                          Variation Solution  \\\n",
       "0          0  front_vio,tour_vio,rein_vio,vio_unit_month_pro...        X   \n",
       "1          0  front_vio,tour_vio,rein_vio,vio_unit_month_pro...        Y   \n",
       "2          0  front_vio,tour_vio,rein_vio,vio_unit_month_pro...        X   \n",
       "3          0  front_vio,tour_vio,rein_vio,vio_unit_month_pro...        Y   \n",
       "\n",
       "   Total throughput [kg]  Max total backlog [kg]  Mean total backlog [kg]  \\\n",
       "0                  396.8               12.457416                 1.984134   \n",
       "1                  702.4               10.296253                 1.092995   \n",
       "2                  441.9               12.221368                 1.261567   \n",
       "3                  567.8               12.417282                 0.865934   \n",
       "\n",
       "   std dev total backlog [kg]  Median total backlog [kg]  \\\n",
       "0                    3.651079                        0.0   \n",
       "1                    2.636456                        0.0   \n",
       "2                    2.936910                        0.0   \n",
       "3                    2.413082                        0.0   \n",
       "\n",
       "   Min total backlog [kg]  P(total backlog ≤ 0 kg)  \\\n",
       "0                     0.0               285.715250   \n",
       "1                     0.0               157.391273   \n",
       "2                     0.0               181.665649   \n",
       "3                     0.0               124.694425   \n",
       "\n",
       "   Max total inventory deficit [kg]  Mean total inventory deficit [kg]  \\\n",
       "0                              44.0                          11.103367   \n",
       "1                              34.1                           6.492411   \n",
       "2                              39.2                           8.158515   \n",
       "3                              38.5                           6.378311   \n",
       "\n",
       "   std dev inventory deficit [kg]  Median total inventory deficit [kg]  \\\n",
       "0                       13.424221                                  6.2   \n",
       "1                       10.379306                                  0.0   \n",
       "2                       11.442336                                  0.0   \n",
       "3                       10.564468                                  0.0   \n",
       "\n",
       "   Min total inventory deficit [kg]  Total Deficit [kg]     Batches [un]  \\\n",
       "0                               0.0                 6.2         [1, 126]   \n",
       "1                               0.0                 0.0     [34, 21, 75]   \n",
       "2                               0.0                 0.0     [60, 33, 24]   \n",
       "3                               0.0                 0.0  [35, 24, 61, 1]   \n",
       "\n",
       "  Product label                               Start of USP [date]  \\\n",
       "0        [1, 0]                          [2016-12-01, 2017-02-02]   \n",
       "1     [3, 2, 3]              [2016-12-01, 2017-10-02, 2018-05-02]   \n",
       "2     [0, 3, 0]              [2016-12-01, 2018-03-31, 2019-01-23]   \n",
       "3  [0, 2, 3, 1]  [2016-12-01, 2017-10-03, 2018-05-24, 2019-09-22]   \n",
       "\n",
       "                                  End of DSP [date]  \n",
       "0                          [2017-01-17, 2019-08-18]  \n",
       "1              [2017-09-14, 2018-04-12, 2019-11-27]  \n",
       "2              [2018-03-11, 2019-01-05, 2019-08-24]  \n",
       "3  [2017-09-17, 2018-05-04, 2019-09-12, 2019-11-08]  "
      ],
      "text/html": "<div>\n<style scoped>\n    .dataframe tbody tr th:only-of-type {\n        vertical-align: middle;\n    }\n\n    .dataframe tbody tr th {\n        vertical-align: top;\n    }\n\n    .dataframe thead th {\n        text-align: right;\n    }\n</style>\n<table border=\"1\" class=\"dataframe\">\n  <thead>\n    <tr style=\"text-align: right;\">\n      <th></th>\n      <th>Execution</th>\n      <th>Variation</th>\n      <th>Solution</th>\n      <th>Total throughput [kg]</th>\n      <th>Max total backlog [kg]</th>\n      <th>Mean total backlog [kg]</th>\n      <th>std dev total backlog [kg]</th>\n      <th>Median total backlog [kg]</th>\n      <th>Min total backlog [kg]</th>\n      <th>P(total backlog ≤ 0 kg)</th>\n      <th>Max total inventory deficit [kg]</th>\n      <th>Mean total inventory deficit [kg]</th>\n      <th>std dev inventory deficit [kg]</th>\n      <th>Median total inventory deficit [kg]</th>\n      <th>Min total inventory deficit [kg]</th>\n      <th>Total Deficit [kg]</th>\n      <th>Batches [un]</th>\n      <th>Product label</th>\n      <th>Start of USP [date]</th>\n      <th>End of DSP [date]</th>\n    </tr>\n  </thead>\n  <tbody>\n    <tr>\n      <th>0</th>\n      <td>0</td>\n      <td>front_vio,tour_vio,rein_vio,vio_unit_month_pro...</td>\n      <td>X</td>\n      <td>396.8</td>\n      <td>12.457416</td>\n      <td>1.984134</td>\n      <td>3.651079</td>\n      <td>0.0</td>\n      <td>0.0</td>\n      <td>285.715250</td>\n      <td>44.0</td>\n      <td>11.103367</td>\n      <td>13.424221</td>\n      <td>6.2</td>\n      <td>0.0</td>\n      <td>6.2</td>\n      <td>[1, 126]</td>\n      <td>[1, 0]</td>\n      <td>[2016-12-01, 2017-02-02]</td>\n      <td>[2017-01-17, 2019-08-18]</td>\n    </tr>\n    <tr>\n      <th>1</th>\n      <td>0</td>\n      <td>front_vio,tour_vio,rein_vio,vio_unit_month_pro...</td>\n      <td>Y</td>\n      <td>702.4</td>\n      <td>10.296253</td>\n      <td>1.092995</td>\n      <td>2.636456</td>\n      <td>0.0</td>\n      <td>0.0</td>\n      <td>157.391273</td>\n      <td>34.1</td>\n      <td>6.492411</td>\n      <td>10.379306</td>\n      <td>0.0</td>\n      <td>0.0</td>\n      <td>0.0</td>\n      <td>[34, 21, 75]</td>\n      <td>[3, 2, 3]</td>\n      <td>[2016-12-01, 2017-10-02, 2018-05-02]</td>\n      <td>[2017-09-14, 2018-04-12, 2019-11-27]</td>\n    </tr>\n    <tr>\n      <th>2</th>\n      <td>0</td>\n      <td>front_vio,tour_vio,rein_vio,vio_unit_month_pro...</td>\n      <td>X</td>\n      <td>441.9</td>\n      <td>12.221368</td>\n      <td>1.261567</td>\n      <td>2.936910</td>\n      <td>0.0</td>\n      <td>0.0</td>\n      <td>181.665649</td>\n      <td>39.2</td>\n      <td>8.158515</td>\n      <td>11.442336</td>\n      <td>0.0</td>\n      <td>0.0</td>\n      <td>0.0</td>\n      <td>[60, 33, 24]</td>\n      <td>[0, 3, 0]</td>\n      <td>[2016-12-01, 2018-03-31, 2019-01-23]</td>\n      <td>[2018-03-11, 2019-01-05, 2019-08-24]</td>\n    </tr>\n    <tr>\n      <th>3</th>\n      <td>0</td>\n      <td>front_vio,tour_vio,rein_vio,vio_unit_month_pro...</td>\n      <td>Y</td>\n      <td>567.8</td>\n      <td>12.417282</td>\n      <td>0.865934</td>\n      <td>2.413082</td>\n      <td>0.0</td>\n      <td>0.0</td>\n      <td>124.694425</td>\n      <td>38.5</td>\n      <td>6.378311</td>\n      <td>10.564468</td>\n      <td>0.0</td>\n      <td>0.0</td>\n      <td>0.0</td>\n      <td>[35, 24, 61, 1]</td>\n      <td>[0, 2, 3, 1]</td>\n      <td>[2016-12-01, 2017-10-03, 2018-05-24, 2019-09-22]</td>\n      <td>[2017-09-17, 2018-05-04, 2019-09-12, 2019-11-08]</td>\n    </tr>\n  </tbody>\n</table>\n</div>"
     },
     "metadata": {},
     "execution_count": 66
    }
   ]
  },
  {
   "cell_type": "code",
   "execution_count": 67,
   "metadata": {},
   "outputs": [],
   "source": [
    "# Appends to external CSV File\n",
    "\n",
    "# Exports as csv\n",
    "file_name='df_exec.csv'\n",
    "path=root_path_data+file_name\n",
    "headers=[\"Execution\",\"Variant\",\"Hipervolume\",\"Pareto Front\"]\n",
    "# # Overwrites\n",
    "# df_exec.to_csv(path,header=headers)\n",
    "# Appends\n",
    "df_exec.to_csv(path,header=False,mode=\"a\")\n",
    "\n",
    "# Exports as csv\n",
    "file_name='df_ind.csv'\n",
    "path=root_path_data+file_name\n",
    "headers=[\"Variation\",\"Num_exec\",\"Solution\",\"Total throughput [kg]\", \"Max total backlog [kg]\", \"Mean total backlog [kg]\",\"std dev total backlog [kg]\", \"Median total backlog [kg]\",\"Min total backlog [kg]\", \"P(total backlog ≤ 0 kg)\",\"Max total inventory deficit [kg]\", \"Mean total inventory deficit [kg]\",\"std dev inventory deficit [kg]\", \"Median total inventory deficit [kg]\", \"Min total inventory deficit [kg]\",\"Batches [un]\",\"Product label\",\"Start of USP [date]\",\"End of DSP [date]\"]\n",
    "# # Overwrites\n",
    "# df_ind.to_csv(path,header=headers)\n",
    "# Appends\n",
    "df_ind.to_csv(path,header=False,mode=\"a\")"
   ]
  },
  {
   "source": [
    "### Import full dataset with Article Data"
   ],
   "cell_type": "markdown",
   "metadata": {}
  },
  {
   "cell_type": "code",
   "execution_count": 68,
   "metadata": {},
   "outputs": [],
   "source": [
    "# Import as csv\n",
    "file_name='df_exec.csv'\n",
    "path=root_path_data+file_name\n",
    "df_fexec=pd.read_csv(path,index_col=0)"
   ]
  },
  {
   "cell_type": "code",
   "execution_count": 69,
   "metadata": {},
   "outputs": [],
   "source": [
    "# Import as csv\n",
    "file_name='df_ind.csv'\n",
    "path=root_path_data+file_name\n",
    "df_find=pd.read_csv(path,index_col=0)"
   ]
  },
  {
   "source": [
    "## Initial Data Exploration"
   ],
   "cell_type": "markdown",
   "metadata": {}
  },
  {
   "cell_type": "code",
   "execution_count": 70,
   "metadata": {},
   "outputs": [
    {
     "output_type": "execute_result",
     "data": {
      "text/plain": [
       "   Execution                                            Variant  Hipervolume  \\\n",
       "0          0  front_vio,tour_vio,rein_vio,vio_unit_month_pro...      0.43660   \n",
       "1          0  front_vio,tour_vio,rein_vio,vio_unit_month_pro...      0.43828   \n",
       "0          0  front_vio,tour_vio,rein_vio,vio_unit_month_pro...      0.48096   \n",
       "1          0  front_vio,tour_vio,rein_vio,vio_unit_month_pro...      0.42712   \n",
       "\n",
       "                                        Pareto Front  \n",
       "0  [[558.5   0. ]\\n [587.9   0. ]\\n [490.3   0. ]...  \n",
       "1  [[482.8   0. ]\\n [438.9   0. ]\\n [502.7   0. ]...  \n",
       "0  [[5.04500000e+02 0.00000000e+00]\\n [4.87200000...  \n",
       "1  [[543.7   0. ]\\n [537.    0. ]\\n [521.8   0. ]...  "
      ],
      "text/html": "<div>\n<style scoped>\n    .dataframe tbody tr th:only-of-type {\n        vertical-align: middle;\n    }\n\n    .dataframe tbody tr th {\n        vertical-align: top;\n    }\n\n    .dataframe thead th {\n        text-align: right;\n    }\n</style>\n<table border=\"1\" class=\"dataframe\">\n  <thead>\n    <tr style=\"text-align: right;\">\n      <th></th>\n      <th>Execution</th>\n      <th>Variant</th>\n      <th>Hipervolume</th>\n      <th>Pareto Front</th>\n    </tr>\n  </thead>\n  <tbody>\n    <tr>\n      <th>0</th>\n      <td>0</td>\n      <td>front_vio,tour_vio,rein_vio,vio_unit_month_pro...</td>\n      <td>0.43660</td>\n      <td>[[558.5   0. ]\\n [587.9   0. ]\\n [490.3   0. ]...</td>\n    </tr>\n    <tr>\n      <th>1</th>\n      <td>0</td>\n      <td>front_vio,tour_vio,rein_vio,vio_unit_month_pro...</td>\n      <td>0.43828</td>\n      <td>[[482.8   0. ]\\n [438.9   0. ]\\n [502.7   0. ]...</td>\n    </tr>\n    <tr>\n      <th>0</th>\n      <td>0</td>\n      <td>front_vio,tour_vio,rein_vio,vio_unit_month_pro...</td>\n      <td>0.48096</td>\n      <td>[[5.04500000e+02 0.00000000e+00]\\n [4.87200000...</td>\n    </tr>\n    <tr>\n      <th>1</th>\n      <td>0</td>\n      <td>front_vio,tour_vio,rein_vio,vio_unit_month_pro...</td>\n      <td>0.42712</td>\n      <td>[[543.7   0. ]\\n [537.    0. ]\\n [521.8   0. ]...</td>\n    </tr>\n  </tbody>\n</table>\n</div>"
     },
     "metadata": {},
     "execution_count": 70
    }
   ],
   "source": [
    "df_fexec.head()"
   ]
  },
  {
   "cell_type": "code",
   "execution_count": 71,
   "metadata": {},
   "outputs": [
    {
     "output_type": "execute_result",
     "data": {
      "text/plain": [
       "       Execution  Hipervolume\n",
       "count        4.0     4.000000\n",
       "mean         0.0     0.445740\n",
       "std          0.0     0.023988\n",
       "min          0.0     0.427120\n",
       "25%          0.0     0.434230\n",
       "50%          0.0     0.437440\n",
       "75%          0.0     0.448950\n",
       "max          0.0     0.480960"
      ],
      "text/html": "<div>\n<style scoped>\n    .dataframe tbody tr th:only-of-type {\n        vertical-align: middle;\n    }\n\n    .dataframe tbody tr th {\n        vertical-align: top;\n    }\n\n    .dataframe thead th {\n        text-align: right;\n    }\n</style>\n<table border=\"1\" class=\"dataframe\">\n  <thead>\n    <tr style=\"text-align: right;\">\n      <th></th>\n      <th>Execution</th>\n      <th>Hipervolume</th>\n    </tr>\n  </thead>\n  <tbody>\n    <tr>\n      <th>count</th>\n      <td>4.0</td>\n      <td>4.000000</td>\n    </tr>\n    <tr>\n      <th>mean</th>\n      <td>0.0</td>\n      <td>0.445740</td>\n    </tr>\n    <tr>\n      <th>std</th>\n      <td>0.0</td>\n      <td>0.023988</td>\n    </tr>\n    <tr>\n      <th>min</th>\n      <td>0.0</td>\n      <td>0.427120</td>\n    </tr>\n    <tr>\n      <th>25%</th>\n      <td>0.0</td>\n      <td>0.434230</td>\n    </tr>\n    <tr>\n      <th>50%</th>\n      <td>0.0</td>\n      <td>0.437440</td>\n    </tr>\n    <tr>\n      <th>75%</th>\n      <td>0.0</td>\n      <td>0.448950</td>\n    </tr>\n    <tr>\n      <th>max</th>\n      <td>0.0</td>\n      <td>0.480960</td>\n    </tr>\n  </tbody>\n</table>\n</div>"
     },
     "metadata": {},
     "execution_count": 71
    }
   ],
   "source": [
    "df_fexec.describe()"
   ]
  },
  {
   "cell_type": "code",
   "execution_count": 72,
   "metadata": {},
   "outputs": [
    {
     "output_type": "execute_result",
     "data": {
      "text/plain": [
       "  Execution                                          Variation Solution  \\\n",
       "0   Article                                            Article        X   \n",
       "1   Article                                            Article        Y   \n",
       "2         0  front_vio,tour_vio,rein_vio,vio_unit_month_pro...        X   \n",
       "3         0  front_vio,tour_vio,rein_vio,vio_unit_month_pro...        Y   \n",
       "4         0  front_vio,tour_vio,rein_vio,vio_unit_month_pro...        X   \n",
       "5         0  front_vio,tour_vio,rein_vio,vio_unit_month_pro...        Y   \n",
       "0         0  front_vio,tour_vio,rein_vio,vio_unit_month_pro...        X   \n",
       "1         0  front_vio,tour_vio,rein_vio,vio_unit_month_pro...        Y   \n",
       "2         0  front_vio,tour_vio,rein_vio,vio_unit_month_pro...        X   \n",
       "3         0  front_vio,tour_vio,rein_vio,vio_unit_month_pro...        Y   \n",
       "\n",
       "   Total throughput [kg]  Max total backlog [kg]  Mean total backlog [kg]  \\\n",
       "0                  539.3                8.200000                 0.200000   \n",
       "1                  601.5               16.000000                 7.100000   \n",
       "2                  404.9               12.450271                 1.388745   \n",
       "3                  591.5               10.813447                 0.490037   \n",
       "4                  438.9               10.460599                 0.457257   \n",
       "5                  595.7               10.403811                 0.951675   \n",
       "0                  396.8               12.457416                 1.984134   \n",
       "1                  702.4               10.296253                 1.092995   \n",
       "2                  441.9               12.221368                 1.261567   \n",
       "3                  567.8               12.417282                 0.865934   \n",
       "\n",
       "   std dev total backlog [kg]  Median total backlog [kg]  \\\n",
       "0                    0.600000                        0.0   \n",
       "1                    4.300000                        0.0   \n",
       "2                    3.180351                        0.0   \n",
       "3                    1.722743                        0.0   \n",
       "4                    1.650465                        0.0   \n",
       "5                    2.509421                        0.0   \n",
       "0                    3.651079                        0.0   \n",
       "1                    2.636456                        0.0   \n",
       "2                    2.936910                        0.0   \n",
       "3                    2.413082                        0.0   \n",
       "\n",
       "   Min total backlog [kg]  P(total backlog ≤ 0 kg)  \\\n",
       "0                     0.0                 0.820000   \n",
       "1                     0.0                 0.500000   \n",
       "2                     0.0               199.979304   \n",
       "3                     0.0                70.565385   \n",
       "4                     0.0                65.845030   \n",
       "5                     0.0               137.041167   \n",
       "0                     0.0               285.715250   \n",
       "1                     0.0               157.391273   \n",
       "2                     0.0               181.665649   \n",
       "3                     0.0               124.694425   \n",
       "\n",
       "   Max total inventory deficit [kg]  Mean total inventory deficit [kg]  \\\n",
       "0                             683.4                         432.600000   \n",
       "1                             786.0                         558.600000   \n",
       "2                              44.0                           8.085272   \n",
       "3                              27.9                           4.131242   \n",
       "4                              27.9                           4.063711   \n",
       "5                              34.1                           5.764387   \n",
       "0                              44.0                          11.103367   \n",
       "1                              34.1                           6.492411   \n",
       "2                              39.2                           8.158515   \n",
       "3                              38.5                           6.378311   \n",
       "\n",
       "   std dev inventory deficit [kg]  Median total inventory deficit [kg]  \\\n",
       "0                       58.600000                                424.4   \n",
       "1                       59.000000                                551.7   \n",
       "2                       12.558607                                  0.0   \n",
       "3                        6.639844                                  0.0   \n",
       "4                        7.315433                                  0.0   \n",
       "5                       10.568579                                  0.0   \n",
       "0                       13.424221                                  6.2   \n",
       "1                       10.379306                                  0.0   \n",
       "2                       11.442336                                  0.0   \n",
       "3                       10.564468                                  0.0   \n",
       "\n",
       "   Min total inventory deficit [kg]  Total Deficit [kg]   Batches [un]  \\\n",
       "0                             259.4                 NaN            NaN   \n",
       "1                             355.6                 NaN            NaN   \n",
       "2                               0.0                 0.0     [33 20 66]   \n",
       "3                               0.0                 0.0     [33 39 59]   \n",
       "4                               0.0                 0.0     [33 19 53]   \n",
       "5                               0.0                 0.0     [33 20 51]   \n",
       "0                               0.0                 6.2      [  1 126]   \n",
       "1                               0.0                 0.0     [34 21 75]   \n",
       "2                               0.0                 0.0     [60 33 24]   \n",
       "3                               0.0                 0.0  [35 24 61  1]   \n",
       "\n",
       "  Product label                                Start of USP [date]  \\\n",
       "0           NaN                                                NaN   \n",
       "1           NaN                                                NaN   \n",
       "2       [0 2 0]           ['2016-12-01' '2017-09-19' '2018-04-08']   \n",
       "3       [3 0 2]           ['2016-12-01' '2017-09-25' '2018-08-25']   \n",
       "4       [3 2 0]           ['2016-12-01' '2017-09-25' '2018-04-07']   \n",
       "5       [3 2 1]           ['2016-12-01' '2017-09-25' '2018-04-08']   \n",
       "0         [1 0]                        ['2016-12-01' '2017-02-02']   \n",
       "1       [3 2 3]           ['2016-12-01' '2017-10-02' '2018-05-02']   \n",
       "2       [0 3 0]           ['2016-12-01' '2018-03-31' '2019-01-23']   \n",
       "3     [0 2 3 1]  ['2016-12-01' '2017-10-03' '2018-05-24' '2019-...   \n",
       "\n",
       "                                   End of DSP [date]  \n",
       "0                                                  0  \n",
       "1                                                  0  \n",
       "2           ['2017-09-03' '2018-03-23' '2019-08-28']  \n",
       "3           ['2017-09-07' '2018-08-09' '2019-11-26']  \n",
       "4           ['2017-09-07' '2018-03-22' '2019-05-28']  \n",
       "5           ['2017-09-07' '2018-03-29' '2019-11-26']  \n",
       "0                        ['2017-01-17' '2019-08-18']  \n",
       "1           ['2017-09-14' '2018-04-12' '2019-11-27']  \n",
       "2           ['2018-03-11' '2019-01-05' '2019-08-24']  \n",
       "3  ['2017-09-17' '2018-05-04' '2019-09-12' '2019-...  "
      ],
      "text/html": "<div>\n<style scoped>\n    .dataframe tbody tr th:only-of-type {\n        vertical-align: middle;\n    }\n\n    .dataframe tbody tr th {\n        vertical-align: top;\n    }\n\n    .dataframe thead th {\n        text-align: right;\n    }\n</style>\n<table border=\"1\" class=\"dataframe\">\n  <thead>\n    <tr style=\"text-align: right;\">\n      <th></th>\n      <th>Execution</th>\n      <th>Variation</th>\n      <th>Solution</th>\n      <th>Total throughput [kg]</th>\n      <th>Max total backlog [kg]</th>\n      <th>Mean total backlog [kg]</th>\n      <th>std dev total backlog [kg]</th>\n      <th>Median total backlog [kg]</th>\n      <th>Min total backlog [kg]</th>\n      <th>P(total backlog ≤ 0 kg)</th>\n      <th>Max total inventory deficit [kg]</th>\n      <th>Mean total inventory deficit [kg]</th>\n      <th>std dev inventory deficit [kg]</th>\n      <th>Median total inventory deficit [kg]</th>\n      <th>Min total inventory deficit [kg]</th>\n      <th>Total Deficit [kg]</th>\n      <th>Batches [un]</th>\n      <th>Product label</th>\n      <th>Start of USP [date]</th>\n      <th>End of DSP [date]</th>\n    </tr>\n  </thead>\n  <tbody>\n    <tr>\n      <th>0</th>\n      <td>Article</td>\n      <td>Article</td>\n      <td>X</td>\n      <td>539.3</td>\n      <td>8.200000</td>\n      <td>0.200000</td>\n      <td>0.600000</td>\n      <td>0.0</td>\n      <td>0.0</td>\n      <td>0.820000</td>\n      <td>683.4</td>\n      <td>432.600000</td>\n      <td>58.600000</td>\n      <td>424.4</td>\n      <td>259.4</td>\n      <td>NaN</td>\n      <td>NaN</td>\n      <td>NaN</td>\n      <td>NaN</td>\n      <td>0</td>\n    </tr>\n    <tr>\n      <th>1</th>\n      <td>Article</td>\n      <td>Article</td>\n      <td>Y</td>\n      <td>601.5</td>\n      <td>16.000000</td>\n      <td>7.100000</td>\n      <td>4.300000</td>\n      <td>0.0</td>\n      <td>0.0</td>\n      <td>0.500000</td>\n      <td>786.0</td>\n      <td>558.600000</td>\n      <td>59.000000</td>\n      <td>551.7</td>\n      <td>355.6</td>\n      <td>NaN</td>\n      <td>NaN</td>\n      <td>NaN</td>\n      <td>NaN</td>\n      <td>0</td>\n    </tr>\n    <tr>\n      <th>2</th>\n      <td>0</td>\n      <td>front_vio,tour_vio,rein_vio,vio_unit_month_pro...</td>\n      <td>X</td>\n      <td>404.9</td>\n      <td>12.450271</td>\n      <td>1.388745</td>\n      <td>3.180351</td>\n      <td>0.0</td>\n      <td>0.0</td>\n      <td>199.979304</td>\n      <td>44.0</td>\n      <td>8.085272</td>\n      <td>12.558607</td>\n      <td>0.0</td>\n      <td>0.0</td>\n      <td>0.0</td>\n      <td>[33 20 66]</td>\n      <td>[0 2 0]</td>\n      <td>['2016-12-01' '2017-09-19' '2018-04-08']</td>\n      <td>['2017-09-03' '2018-03-23' '2019-08-28']</td>\n    </tr>\n    <tr>\n      <th>3</th>\n      <td>0</td>\n      <td>front_vio,tour_vio,rein_vio,vio_unit_month_pro...</td>\n      <td>Y</td>\n      <td>591.5</td>\n      <td>10.813447</td>\n      <td>0.490037</td>\n      <td>1.722743</td>\n      <td>0.0</td>\n      <td>0.0</td>\n      <td>70.565385</td>\n      <td>27.9</td>\n      <td>4.131242</td>\n      <td>6.639844</td>\n      <td>0.0</td>\n      <td>0.0</td>\n      <td>0.0</td>\n      <td>[33 39 59]</td>\n      <td>[3 0 2]</td>\n      <td>['2016-12-01' '2017-09-25' '2018-08-25']</td>\n      <td>['2017-09-07' '2018-08-09' '2019-11-26']</td>\n    </tr>\n    <tr>\n      <th>4</th>\n      <td>0</td>\n      <td>front_vio,tour_vio,rein_vio,vio_unit_month_pro...</td>\n      <td>X</td>\n      <td>438.9</td>\n      <td>10.460599</td>\n      <td>0.457257</td>\n      <td>1.650465</td>\n      <td>0.0</td>\n      <td>0.0</td>\n      <td>65.845030</td>\n      <td>27.9</td>\n      <td>4.063711</td>\n      <td>7.315433</td>\n      <td>0.0</td>\n      <td>0.0</td>\n      <td>0.0</td>\n      <td>[33 19 53]</td>\n      <td>[3 2 0]</td>\n      <td>['2016-12-01' '2017-09-25' '2018-04-07']</td>\n      <td>['2017-09-07' '2018-03-22' '2019-05-28']</td>\n    </tr>\n    <tr>\n      <th>5</th>\n      <td>0</td>\n      <td>front_vio,tour_vio,rein_vio,vio_unit_month_pro...</td>\n      <td>Y</td>\n      <td>595.7</td>\n      <td>10.403811</td>\n      <td>0.951675</td>\n      <td>2.509421</td>\n      <td>0.0</td>\n      <td>0.0</td>\n      <td>137.041167</td>\n      <td>34.1</td>\n      <td>5.764387</td>\n      <td>10.568579</td>\n      <td>0.0</td>\n      <td>0.0</td>\n      <td>0.0</td>\n      <td>[33 20 51]</td>\n      <td>[3 2 1]</td>\n      <td>['2016-12-01' '2017-09-25' '2018-04-08']</td>\n      <td>['2017-09-07' '2018-03-29' '2019-11-26']</td>\n    </tr>\n    <tr>\n      <th>0</th>\n      <td>0</td>\n      <td>front_vio,tour_vio,rein_vio,vio_unit_month_pro...</td>\n      <td>X</td>\n      <td>396.8</td>\n      <td>12.457416</td>\n      <td>1.984134</td>\n      <td>3.651079</td>\n      <td>0.0</td>\n      <td>0.0</td>\n      <td>285.715250</td>\n      <td>44.0</td>\n      <td>11.103367</td>\n      <td>13.424221</td>\n      <td>6.2</td>\n      <td>0.0</td>\n      <td>6.2</td>\n      <td>[  1 126]</td>\n      <td>[1 0]</td>\n      <td>['2016-12-01' '2017-02-02']</td>\n      <td>['2017-01-17' '2019-08-18']</td>\n    </tr>\n    <tr>\n      <th>1</th>\n      <td>0</td>\n      <td>front_vio,tour_vio,rein_vio,vio_unit_month_pro...</td>\n      <td>Y</td>\n      <td>702.4</td>\n      <td>10.296253</td>\n      <td>1.092995</td>\n      <td>2.636456</td>\n      <td>0.0</td>\n      <td>0.0</td>\n      <td>157.391273</td>\n      <td>34.1</td>\n      <td>6.492411</td>\n      <td>10.379306</td>\n      <td>0.0</td>\n      <td>0.0</td>\n      <td>0.0</td>\n      <td>[34 21 75]</td>\n      <td>[3 2 3]</td>\n      <td>['2016-12-01' '2017-10-02' '2018-05-02']</td>\n      <td>['2017-09-14' '2018-04-12' '2019-11-27']</td>\n    </tr>\n    <tr>\n      <th>2</th>\n      <td>0</td>\n      <td>front_vio,tour_vio,rein_vio,vio_unit_month_pro...</td>\n      <td>X</td>\n      <td>441.9</td>\n      <td>12.221368</td>\n      <td>1.261567</td>\n      <td>2.936910</td>\n      <td>0.0</td>\n      <td>0.0</td>\n      <td>181.665649</td>\n      <td>39.2</td>\n      <td>8.158515</td>\n      <td>11.442336</td>\n      <td>0.0</td>\n      <td>0.0</td>\n      <td>0.0</td>\n      <td>[60 33 24]</td>\n      <td>[0 3 0]</td>\n      <td>['2016-12-01' '2018-03-31' '2019-01-23']</td>\n      <td>['2018-03-11' '2019-01-05' '2019-08-24']</td>\n    </tr>\n    <tr>\n      <th>3</th>\n      <td>0</td>\n      <td>front_vio,tour_vio,rein_vio,vio_unit_month_pro...</td>\n      <td>Y</td>\n      <td>567.8</td>\n      <td>12.417282</td>\n      <td>0.865934</td>\n      <td>2.413082</td>\n      <td>0.0</td>\n      <td>0.0</td>\n      <td>124.694425</td>\n      <td>38.5</td>\n      <td>6.378311</td>\n      <td>10.564468</td>\n      <td>0.0</td>\n      <td>0.0</td>\n      <td>0.0</td>\n      <td>[35 24 61  1]</td>\n      <td>[0 2 3 1]</td>\n      <td>['2016-12-01' '2017-10-03' '2018-05-24' '2019-...</td>\n      <td>['2017-09-17' '2018-05-04' '2019-09-12' '2019-...</td>\n    </tr>\n  </tbody>\n</table>\n</div>"
     },
     "metadata": {},
     "execution_count": 72
    }
   ],
   "source": [
    "df_find"
   ]
  },
  {
   "cell_type": "code",
   "execution_count": 73,
   "metadata": {},
   "outputs": [
    {
     "output_type": "execute_result",
     "data": {
      "text/plain": [
       "       Total throughput [kg]  Max total backlog [kg]  Mean total backlog [kg]  \\\n",
       "count               8.000000                8.000000                 8.000000   \n",
       "mean              517.487500               11.440056                 1.061543   \n",
       "std               111.771392                1.025046                 0.498762   \n",
       "min               396.800000               10.296253                 0.457257   \n",
       "25%               430.400000               10.446402                 0.771959   \n",
       "50%               504.850000               11.517408                 1.022335   \n",
       "75%               592.550000               12.425529                 1.293362   \n",
       "max               702.400000               12.457416                 1.984134   \n",
       "\n",
       "       std dev total backlog [kg]  Median total backlog [kg]  \\\n",
       "count                    8.000000                        8.0   \n",
       "mean                     2.587563                        0.0   \n",
       "std                      0.683428                        0.0   \n",
       "min                      1.650465                        0.0   \n",
       "25%                      2.240497                        0.0   \n",
       "50%                      2.572939                        0.0   \n",
       "75%                      2.997770                        0.0   \n",
       "max                      3.651079                        0.0   \n",
       "\n",
       "       Min total backlog [kg]  P(total backlog ≤ 0 kg)  \\\n",
       "count                     8.0                 8.000000   \n",
       "mean                      0.0               152.862185   \n",
       "std                       0.0                71.821791   \n",
       "min                       0.0                65.845030   \n",
       "25%                       0.0               111.162165   \n",
       "50%                       0.0               147.216220   \n",
       "75%                       0.0               186.244063   \n",
       "max                       0.0               285.715250   \n",
       "\n",
       "       Max total inventory deficit [kg]  Mean total inventory deficit [kg]  \\\n",
       "count                            8.0000                           8.000000   \n",
       "mean                            36.2125                           6.772152   \n",
       "std                              6.3535                           2.328848   \n",
       "min                             27.9000                           4.063711   \n",
       "25%                             32.5500                           5.356101   \n",
       "50%                             36.3000                           6.435361   \n",
       "75%                             40.4000                           8.103583   \n",
       "max                             44.0000                          11.103367   \n",
       "\n",
       "       std dev inventory deficit [kg]  Median total inventory deficit [kg]  \\\n",
       "count                        8.000000                             8.000000   \n",
       "mean                        10.361599                             0.775000   \n",
       "std                          2.347929                             2.192031   \n",
       "min                          6.639844                             0.000000   \n",
       "25%                          9.613337                             0.000000   \n",
       "50%                         10.566524                             0.000000   \n",
       "75%                         11.721403                             0.000000   \n",
       "max                         13.424221                             6.200000   \n",
       "\n",
       "       Min total inventory deficit [kg]  Total Deficit [kg]  \n",
       "count                               8.0            8.000000  \n",
       "mean                                0.0            0.775000  \n",
       "std                                 0.0            2.192031  \n",
       "min                                 0.0            0.000000  \n",
       "25%                                 0.0            0.000000  \n",
       "50%                                 0.0            0.000000  \n",
       "75%                                 0.0            0.000000  \n",
       "max                                 0.0            6.200000  "
      ],
      "text/html": "<div>\n<style scoped>\n    .dataframe tbody tr th:only-of-type {\n        vertical-align: middle;\n    }\n\n    .dataframe tbody tr th {\n        vertical-align: top;\n    }\n\n    .dataframe thead th {\n        text-align: right;\n    }\n</style>\n<table border=\"1\" class=\"dataframe\">\n  <thead>\n    <tr style=\"text-align: right;\">\n      <th></th>\n      <th>Total throughput [kg]</th>\n      <th>Max total backlog [kg]</th>\n      <th>Mean total backlog [kg]</th>\n      <th>std dev total backlog [kg]</th>\n      <th>Median total backlog [kg]</th>\n      <th>Min total backlog [kg]</th>\n      <th>P(total backlog ≤ 0 kg)</th>\n      <th>Max total inventory deficit [kg]</th>\n      <th>Mean total inventory deficit [kg]</th>\n      <th>std dev inventory deficit [kg]</th>\n      <th>Median total inventory deficit [kg]</th>\n      <th>Min total inventory deficit [kg]</th>\n      <th>Total Deficit [kg]</th>\n    </tr>\n  </thead>\n  <tbody>\n    <tr>\n      <th>count</th>\n      <td>8.000000</td>\n      <td>8.000000</td>\n      <td>8.000000</td>\n      <td>8.000000</td>\n      <td>8.0</td>\n      <td>8.0</td>\n      <td>8.000000</td>\n      <td>8.0000</td>\n      <td>8.000000</td>\n      <td>8.000000</td>\n      <td>8.000000</td>\n      <td>8.0</td>\n      <td>8.000000</td>\n    </tr>\n    <tr>\n      <th>mean</th>\n      <td>517.487500</td>\n      <td>11.440056</td>\n      <td>1.061543</td>\n      <td>2.587563</td>\n      <td>0.0</td>\n      <td>0.0</td>\n      <td>152.862185</td>\n      <td>36.2125</td>\n      <td>6.772152</td>\n      <td>10.361599</td>\n      <td>0.775000</td>\n      <td>0.0</td>\n      <td>0.775000</td>\n    </tr>\n    <tr>\n      <th>std</th>\n      <td>111.771392</td>\n      <td>1.025046</td>\n      <td>0.498762</td>\n      <td>0.683428</td>\n      <td>0.0</td>\n      <td>0.0</td>\n      <td>71.821791</td>\n      <td>6.3535</td>\n      <td>2.328848</td>\n      <td>2.347929</td>\n      <td>2.192031</td>\n      <td>0.0</td>\n      <td>2.192031</td>\n    </tr>\n    <tr>\n      <th>min</th>\n      <td>396.800000</td>\n      <td>10.296253</td>\n      <td>0.457257</td>\n      <td>1.650465</td>\n      <td>0.0</td>\n      <td>0.0</td>\n      <td>65.845030</td>\n      <td>27.9000</td>\n      <td>4.063711</td>\n      <td>6.639844</td>\n      <td>0.000000</td>\n      <td>0.0</td>\n      <td>0.000000</td>\n    </tr>\n    <tr>\n      <th>25%</th>\n      <td>430.400000</td>\n      <td>10.446402</td>\n      <td>0.771959</td>\n      <td>2.240497</td>\n      <td>0.0</td>\n      <td>0.0</td>\n      <td>111.162165</td>\n      <td>32.5500</td>\n      <td>5.356101</td>\n      <td>9.613337</td>\n      <td>0.000000</td>\n      <td>0.0</td>\n      <td>0.000000</td>\n    </tr>\n    <tr>\n      <th>50%</th>\n      <td>504.850000</td>\n      <td>11.517408</td>\n      <td>1.022335</td>\n      <td>2.572939</td>\n      <td>0.0</td>\n      <td>0.0</td>\n      <td>147.216220</td>\n      <td>36.3000</td>\n      <td>6.435361</td>\n      <td>10.566524</td>\n      <td>0.000000</td>\n      <td>0.0</td>\n      <td>0.000000</td>\n    </tr>\n    <tr>\n      <th>75%</th>\n      <td>592.550000</td>\n      <td>12.425529</td>\n      <td>1.293362</td>\n      <td>2.997770</td>\n      <td>0.0</td>\n      <td>0.0</td>\n      <td>186.244063</td>\n      <td>40.4000</td>\n      <td>8.103583</td>\n      <td>11.721403</td>\n      <td>0.000000</td>\n      <td>0.0</td>\n      <td>0.000000</td>\n    </tr>\n    <tr>\n      <th>max</th>\n      <td>702.400000</td>\n      <td>12.457416</td>\n      <td>1.984134</td>\n      <td>3.651079</td>\n      <td>0.0</td>\n      <td>0.0</td>\n      <td>285.715250</td>\n      <td>44.0000</td>\n      <td>11.103367</td>\n      <td>13.424221</td>\n      <td>6.200000</td>\n      <td>0.0</td>\n      <td>6.200000</td>\n    </tr>\n  </tbody>\n</table>\n</div>"
     },
     "metadata": {},
     "execution_count": 73
    }
   ],
   "source": [
    "df_find.loc[df_find.Variation!=\"Article\"].describe()"
   ]
  },
  {
   "cell_type": "code",
   "execution_count": 73,
   "metadata": {},
   "outputs": [],
   "source": [
    " "
   ]
  }
 ]
}