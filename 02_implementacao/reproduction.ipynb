{
 "metadata": {
  "language_info": {
   "codemirror_mode": {
    "name": "ipython",
    "version": 3
   },
   "file_extension": ".py",
   "mimetype": "text/x-python",
   "name": "python",
   "nbconvert_exporter": "python",
   "pygments_lexer": "ipython3",
   "version": "3.8.3-final"
  },
  "orig_nbformat": 2,
  "kernelspec": {
   "name": "python3",
   "display_name": "Python 3.8.3 64-bit ('comp_evol': conda)",
   "metadata": {
    "interpreter": {
     "hash": "e3d2e5b49fca8ece28e8612ddb42da6ec98316623bc11967ddd6e72144cb4ad0"
    }
   }
  }
 },
 "nbformat": 4,
 "nbformat_minor": 2,
 "cells": [
  {
   "source": [
    "# Reproduction of Article\n",
    "1. Steps:\n",
    "    1. Import Data\n",
    "    1. Initial Data Exploration\n",
    "        1. Data Summary Table\n",
    "    1. Comparison with article Data"
   ],
   "cell_type": "markdown",
   "metadata": {}
  },
  {
   "cell_type": "code",
   "execution_count": 1,
   "metadata": {},
   "outputs": [],
   "source": [
    "import pickle\n",
    "import numpy as np\n",
    "import pandas as pd\n",
    "import matplotlib.pyplot as plt\n",
    "import copy\n",
    "root_path_report=\"C:\\\\Users\\\\Debora\\\\Documents\\\\01_UFU_local\\\\01_comp_evolutiva\\\\05_trabalho3\\\\03_relatorio\\\\springer\\\\tables\\\\\"\n",
    "root_path_data=\"C:\\\\Users\\\\Debora\\\\Documents\\\\01_UFU_local\\\\01_comp_evolutiva\\\\05_trabalho3\\\\01_dados\\\\02_analysis\\\\\"\n"
   ]
  },
  {
   "source": [
    "## Parse Data"
   ],
   "cell_type": "markdown",
   "metadata": {}
  },
  {
   "source": [
    "# # Export table to txt for latex\n",
    "# root_path_report = \"C:\\\\Users\\\\debor\\\\Documents\\\\01_UFU_local\\\\01_comp_evolutiva\\\\01_trabalho_1\\\\03_relatorio\\\\template-latex\\\\tables\\\\\"\n",
    "# file_name = \"representacao.txt\"\n",
    "# path = root_path_report + file_name\n",
    "# with codecs.open(path, 'w', 'utf-8') as outfile:\n",
    "#     outfile.write(tabela_df.to_latex(index=False))\n",
    "\n",
    "# Open pickle Exec\n",
    "file_name='v_0_exec.pkl'\n",
    "path=root_path_data+file_name\n",
    "infile = open(path,'rb')\n",
    "ds_exec= pickle.load(infile)\n",
    "infile.close()\n",
    "\n",
    "# Open pickle dict class object pop\n",
    "file_name='v_0_id.pkl'\n",
    "path=root_path_data+file_name\n",
    "infile = open(path,'rb')\n",
    "ds_ind= pickle.load(infile)\n",
    "infile.close()\n",
    "\n",
    "\n",
    "# Unpack Data Execution\n",
    "values_exec=[]\n",
    "for key,value in ds_exec.items():\n",
    "    # headers=[\"Execution\",\"Variant\",\"Hipervolume\",\"Pareto Front\"]\n",
    "    values_exec.append([key[1],value[0],value[1],value[2]])\n",
    "headers=[\"Execution\",\"Variant\",\"Hipervolume\",\"Pareto Front\"]\n",
    "df_exec=pd.DataFrame(values_exec,columns=headers)\n",
    "\n",
    "# Unpack Data per Ind\n",
    "values_ind=[]\n",
    "for key,value in ds_ind.items():\n",
    "    # values_ind.append(value)\n",
    "    values_ind.append(value[0])\n",
    "    values_ind.append(value[1])\n",
    "headers=[\"Variation\",\"Num_exec\",\"Solution\",\"Total throughput [kg]\", \"Max total backlog [kg]\", \"Mean total backlog [kg]\",\"std dev total backlog [kg]\", \"Median total backlog [kg]\",\"Min total backlog [kg]\", \"P(total backlog ≤ 0 kg)\",\"Max total inventory deficit [kg]\", \"Mean total inventory deficit [kg]\",\"std dev inventory deficit [kg]\", \"Median total inventory deficit [kg]\", \"Min total inventory deficit [kg]\",\"Batches [un]\",\"Product label\",\"Start of USP [date]\",\"End of DSP [date]\"]\n",
    "df_ind=pd.DataFrame(values_ind,columns=headers)"
   ],
   "cell_type": "code",
   "metadata": {},
   "execution_count": 14,
   "outputs": []
  },
  {
   "cell_type": "code",
   "execution_count": 6,
   "metadata": {},
   "outputs": [],
   "source": [
    "# Appends to external CSV File\n",
    "\n",
    "# Exports as csv\n",
    "file_name='df_exec.csv'\n",
    "path=root_path_data+file_name\n",
    "headers=[\"Execution\",\"Variant\",\"Hipervolume\",\"Pareto Front\"]\n",
    "# # Overwrites\n",
    "# df_exec.to_csv(path,header=headers)\n",
    "# Appends\n",
    "df_exec.to_csv(path,header=False,mode=\"a\")\n",
    "\n",
    "# Exports as csv\n",
    "file_name='df_ind.csv'\n",
    "path=root_path_data+file_name\n",
    "headers=[\"Variation\",\"Num_exec\",\"Solution\",\"Total throughput [kg]\", \"Max total backlog [kg]\", \"Mean total backlog [kg]\",\"std dev total backlog [kg]\", \"Median total backlog [kg]\",\"Min total backlog [kg]\", \"P(total backlog ≤ 0 kg)\",\"Max total inventory deficit [kg]\", \"Mean total inventory deficit [kg]\",\"std dev inventory deficit [kg]\", \"Median total inventory deficit [kg]\", \"Min total inventory deficit [kg]\",\"Batches [un]\",\"Product label\",\"Start of USP [date]\",\"End of DSP [date]\"]\n",
    "# # Overwrites\n",
    "# df_ind.to_csv(path,header=headers)\n",
    "# Appends\n",
    "df_ind.to_csv(path,header=False,mode=\"a\")"
   ]
  },
  {
   "source": [
    "### Import full dataset with Article Data"
   ],
   "cell_type": "markdown",
   "metadata": {}
  },
  {
   "cell_type": "code",
   "execution_count": 25,
   "metadata": {},
   "outputs": [],
   "source": [
    "# Import as csv\n",
    "file_name='df_exec.csv'\n",
    "path=root_path_data+file_name\n",
    "df_fexec=pd.read_csv(path,index_col=0)"
   ]
  },
  {
   "cell_type": "code",
   "execution_count": 26,
   "metadata": {},
   "outputs": [],
   "source": [
    "# Import as csv\n",
    "file_name='df_ind.csv'\n",
    "path=root_path_data+file_name\n",
    "df_find=pd.read_csv(path,index_col=0)"
   ]
  },
  {
   "source": [
    "## Initial Data Exploration"
   ],
   "cell_type": "markdown",
   "metadata": {}
  },
  {
   "cell_type": "code",
   "execution_count": 27,
   "metadata": {},
   "outputs": [
    {
     "output_type": "execute_result",
     "data": {
      "text/plain": [
       "   Execution                                   Variant  Hipervolume  \\\n",
       "0          0  100,1000,2,0.11,(0.04, 0.61, 0.77, 0.47)     0.034229   \n",
       "1          1  100,1000,2,0.11,(0.04, 0.61, 0.77, 0.47)     0.030942   \n",
       "2          2  100,1000,2,0.11,(0.04, 0.61, 0.77, 0.47)     0.038414   \n",
       "3          3  100,1000,2,0.11,(0.04, 0.61, 0.77, 0.47)     0.038129   \n",
       "\n",
       "                                        Pareto Front  \n",
       "0  [[ 239.9        2271.85220844]\\n [ 267.       ...  \n",
       "1  [[ 295.8        2270.37999326]\\n [ 305.9      ...  \n",
       "2  [[ 325.5        2259.141829  ]\\n [ 268.9      ...  \n",
       "3  [[  18.6        2270.37746517]\\n [  34.3      ...  "
      ],
      "text/html": "<div>\n<style scoped>\n    .dataframe tbody tr th:only-of-type {\n        vertical-align: middle;\n    }\n\n    .dataframe tbody tr th {\n        vertical-align: top;\n    }\n\n    .dataframe thead th {\n        text-align: right;\n    }\n</style>\n<table border=\"1\" class=\"dataframe\">\n  <thead>\n    <tr style=\"text-align: right;\">\n      <th></th>\n      <th>Execution</th>\n      <th>Variant</th>\n      <th>Hipervolume</th>\n      <th>Pareto Front</th>\n    </tr>\n  </thead>\n  <tbody>\n    <tr>\n      <th>0</th>\n      <td>0</td>\n      <td>100,1000,2,0.11,(0.04, 0.61, 0.77, 0.47)</td>\n      <td>0.034229</td>\n      <td>[[ 239.9        2271.85220844]\\n [ 267.       ...</td>\n    </tr>\n    <tr>\n      <th>1</th>\n      <td>1</td>\n      <td>100,1000,2,0.11,(0.04, 0.61, 0.77, 0.47)</td>\n      <td>0.030942</td>\n      <td>[[ 295.8        2270.37999326]\\n [ 305.9      ...</td>\n    </tr>\n    <tr>\n      <th>2</th>\n      <td>2</td>\n      <td>100,1000,2,0.11,(0.04, 0.61, 0.77, 0.47)</td>\n      <td>0.038414</td>\n      <td>[[ 325.5        2259.141829  ]\\n [ 268.9      ...</td>\n    </tr>\n    <tr>\n      <th>3</th>\n      <td>3</td>\n      <td>100,1000,2,0.11,(0.04, 0.61, 0.77, 0.47)</td>\n      <td>0.038129</td>\n      <td>[[  18.6        2270.37746517]\\n [  34.3      ...</td>\n    </tr>\n  </tbody>\n</table>\n</div>"
     },
     "metadata": {},
     "execution_count": 27
    }
   ],
   "source": [
    "df_fexec.head()"
   ]
  },
  {
   "cell_type": "code",
   "execution_count": 28,
   "metadata": {},
   "outputs": [
    {
     "output_type": "execute_result",
     "data": {
      "text/plain": [
       "       Execution  Hipervolume\n",
       "count   4.000000     4.000000\n",
       "mean    1.500000     0.035429\n",
       "std     1.290994     0.003548\n",
       "min     0.000000     0.030942\n",
       "25%     0.750000     0.033408\n",
       "50%     1.500000     0.036179\n",
       "75%     2.250000     0.038201\n",
       "max     3.000000     0.038414"
      ],
      "text/html": "<div>\n<style scoped>\n    .dataframe tbody tr th:only-of-type {\n        vertical-align: middle;\n    }\n\n    .dataframe tbody tr th {\n        vertical-align: top;\n    }\n\n    .dataframe thead th {\n        text-align: right;\n    }\n</style>\n<table border=\"1\" class=\"dataframe\">\n  <thead>\n    <tr style=\"text-align: right;\">\n      <th></th>\n      <th>Execution</th>\n      <th>Hipervolume</th>\n    </tr>\n  </thead>\n  <tbody>\n    <tr>\n      <th>count</th>\n      <td>4.000000</td>\n      <td>4.000000</td>\n    </tr>\n    <tr>\n      <th>mean</th>\n      <td>1.500000</td>\n      <td>0.035429</td>\n    </tr>\n    <tr>\n      <th>std</th>\n      <td>1.290994</td>\n      <td>0.003548</td>\n    </tr>\n    <tr>\n      <th>min</th>\n      <td>0.000000</td>\n      <td>0.030942</td>\n    </tr>\n    <tr>\n      <th>25%</th>\n      <td>0.750000</td>\n      <td>0.033408</td>\n    </tr>\n    <tr>\n      <th>50%</th>\n      <td>1.500000</td>\n      <td>0.036179</td>\n    </tr>\n    <tr>\n      <th>75%</th>\n      <td>2.250000</td>\n      <td>0.038201</td>\n    </tr>\n    <tr>\n      <th>max</th>\n      <td>3.000000</td>\n      <td>0.038414</td>\n    </tr>\n  </tbody>\n</table>\n</div>"
     },
     "metadata": {},
     "execution_count": 28
    }
   ],
   "source": [
    "df_fexec.describe()"
   ]
  },
  {
   "cell_type": "code",
   "execution_count": 31,
   "metadata": {},
   "outputs": [
    {
     "output_type": "execute_result",
     "data": {
      "text/plain": [
       "                                  Variation Num_exec Solution  \\\n",
       "8                                   Article  Article        X   \n",
       "9                                   Article  Article        Y   \n",
       "0  100,1000,2,0.11,(0.04, 0.61, 0.77, 0.47)        0        X   \n",
       "1  100,1000,2,0.11,(0.04, 0.61, 0.77, 0.47)        0        Y   \n",
       "2  100,1000,2,0.11,(0.04, 0.61, 0.77, 0.47)        1        X   \n",
       "\n",
       "   Total throughput [kg]  Max total backlog [kg]  Mean total backlog [kg]  \\\n",
       "8                  539.3                8.200000                 0.200000   \n",
       "9                  601.5               16.000000                 7.100000   \n",
       "0                  465.5               33.611806                11.405986   \n",
       "1                    6.2               33.565158                11.248017   \n",
       "2                  341.5               33.367780                11.395156   \n",
       "\n",
       "   std dev total backlog [kg]  Median total backlog [kg]  \\\n",
       "8                    0.600000                   0.000000   \n",
       "9                    4.300000                   0.000000   \n",
       "0                    9.247870                  12.209427   \n",
       "1                    9.692592                  11.565438   \n",
       "2                    9.115948                  10.829642   \n",
       "\n",
       "   Min total backlog [kg]  P(total backlog ≤ 0 kg)  \\\n",
       "8                       0                 0.820000   \n",
       "9                       0                 0.500000   \n",
       "0                       0               410.615483   \n",
       "1                       0               404.928621   \n",
       "2                       0               410.225626   \n",
       "\n",
       "   Max total inventory deficit [kg]  Mean total inventory deficit [kg]  \\\n",
       "8                             683.4                         432.600000   \n",
       "9                             786.0                         558.600000   \n",
       "0                             112.5                          64.255626   \n",
       "1                             112.5                          63.067730   \n",
       "2                             112.5                          63.645972   \n",
       "\n",
       "   std dev inventory deficit [kg]  Median total inventory deficit [kg]  \\\n",
       "8                       58.600000                               424.40   \n",
       "9                       59.000000                               551.70   \n",
       "0                       33.537375                                73.40   \n",
       "1                       36.210689                                74.95   \n",
       "2                       33.645139                                73.40   \n",
       "\n",
       "   Min total inventory deficit [kg]      Batches [un] Product label  \\\n",
       "8                             259.4                 0             0   \n",
       "9                             355.6                 0             0   \n",
       "0                               0.0  [39 42  1  1  1]   [1 2 1 3 1]   \n",
       "1                               0.0               [2]           [0]   \n",
       "2                               0.0           [29 33]         [1 2]   \n",
       "\n",
       "                                 Start of USP [date]  \\\n",
       "8                                                  0   \n",
       "9                                                  0   \n",
       "0  ['2016-12-01' '2018-03-27' '2019-03-11' '2019-...   \n",
       "1                                     ['2016-12-01']   \n",
       "2                        ['2016-12-01' '2017-12-07']   \n",
       "\n",
       "                                   End of DSP [date]  \n",
       "8                                                  0  \n",
       "9                                                  0  \n",
       "0  ['2018-03-11' '2019-03-01' '2019-04-27' '2019-...  \n",
       "1                                     ['2017-01-29']  \n",
       "2                        ['2017-11-21' '2018-09-09']  "
      ],
      "text/html": "<div>\n<style scoped>\n    .dataframe tbody tr th:only-of-type {\n        vertical-align: middle;\n    }\n\n    .dataframe tbody tr th {\n        vertical-align: top;\n    }\n\n    .dataframe thead th {\n        text-align: right;\n    }\n</style>\n<table border=\"1\" class=\"dataframe\">\n  <thead>\n    <tr style=\"text-align: right;\">\n      <th></th>\n      <th>Variation</th>\n      <th>Num_exec</th>\n      <th>Solution</th>\n      <th>Total throughput [kg]</th>\n      <th>Max total backlog [kg]</th>\n      <th>Mean total backlog [kg]</th>\n      <th>std dev total backlog [kg]</th>\n      <th>Median total backlog [kg]</th>\n      <th>Min total backlog [kg]</th>\n      <th>P(total backlog ≤ 0 kg)</th>\n      <th>Max total inventory deficit [kg]</th>\n      <th>Mean total inventory deficit [kg]</th>\n      <th>std dev inventory deficit [kg]</th>\n      <th>Median total inventory deficit [kg]</th>\n      <th>Min total inventory deficit [kg]</th>\n      <th>Batches [un]</th>\n      <th>Product label</th>\n      <th>Start of USP [date]</th>\n      <th>End of DSP [date]</th>\n    </tr>\n  </thead>\n  <tbody>\n    <tr>\n      <th>8</th>\n      <td>Article</td>\n      <td>Article</td>\n      <td>X</td>\n      <td>539.3</td>\n      <td>8.200000</td>\n      <td>0.200000</td>\n      <td>0.600000</td>\n      <td>0.000000</td>\n      <td>0</td>\n      <td>0.820000</td>\n      <td>683.4</td>\n      <td>432.600000</td>\n      <td>58.600000</td>\n      <td>424.40</td>\n      <td>259.4</td>\n      <td>0</td>\n      <td>0</td>\n      <td>0</td>\n      <td>0</td>\n    </tr>\n    <tr>\n      <th>9</th>\n      <td>Article</td>\n      <td>Article</td>\n      <td>Y</td>\n      <td>601.5</td>\n      <td>16.000000</td>\n      <td>7.100000</td>\n      <td>4.300000</td>\n      <td>0.000000</td>\n      <td>0</td>\n      <td>0.500000</td>\n      <td>786.0</td>\n      <td>558.600000</td>\n      <td>59.000000</td>\n      <td>551.70</td>\n      <td>355.6</td>\n      <td>0</td>\n      <td>0</td>\n      <td>0</td>\n      <td>0</td>\n    </tr>\n    <tr>\n      <th>0</th>\n      <td>100,1000,2,0.11,(0.04, 0.61, 0.77, 0.47)</td>\n      <td>0</td>\n      <td>X</td>\n      <td>465.5</td>\n      <td>33.611806</td>\n      <td>11.405986</td>\n      <td>9.247870</td>\n      <td>12.209427</td>\n      <td>0</td>\n      <td>410.615483</td>\n      <td>112.5</td>\n      <td>64.255626</td>\n      <td>33.537375</td>\n      <td>73.40</td>\n      <td>0.0</td>\n      <td>[39 42  1  1  1]</td>\n      <td>[1 2 1 3 1]</td>\n      <td>['2016-12-01' '2018-03-27' '2019-03-11' '2019-...</td>\n      <td>['2018-03-11' '2019-03-01' '2019-04-27' '2019-...</td>\n    </tr>\n    <tr>\n      <th>1</th>\n      <td>100,1000,2,0.11,(0.04, 0.61, 0.77, 0.47)</td>\n      <td>0</td>\n      <td>Y</td>\n      <td>6.2</td>\n      <td>33.565158</td>\n      <td>11.248017</td>\n      <td>9.692592</td>\n      <td>11.565438</td>\n      <td>0</td>\n      <td>404.928621</td>\n      <td>112.5</td>\n      <td>63.067730</td>\n      <td>36.210689</td>\n      <td>74.95</td>\n      <td>0.0</td>\n      <td>[2]</td>\n      <td>[0]</td>\n      <td>['2016-12-01']</td>\n      <td>['2017-01-29']</td>\n    </tr>\n    <tr>\n      <th>2</th>\n      <td>100,1000,2,0.11,(0.04, 0.61, 0.77, 0.47)</td>\n      <td>1</td>\n      <td>X</td>\n      <td>341.5</td>\n      <td>33.367780</td>\n      <td>11.395156</td>\n      <td>9.115948</td>\n      <td>10.829642</td>\n      <td>0</td>\n      <td>410.225626</td>\n      <td>112.5</td>\n      <td>63.645972</td>\n      <td>33.645139</td>\n      <td>73.40</td>\n      <td>0.0</td>\n      <td>[29 33]</td>\n      <td>[1 2]</td>\n      <td>['2016-12-01' '2017-12-07']</td>\n      <td>['2017-11-21' '2018-09-09']</td>\n    </tr>\n  </tbody>\n</table>\n</div>"
     },
     "metadata": {},
     "execution_count": 31
    }
   ],
   "source": [
    "df_find.head()"
   ]
  },
  {
   "cell_type": "code",
   "execution_count": 34,
   "metadata": {},
   "outputs": [
    {
     "output_type": "execute_result",
     "data": {
      "text/plain": [
       "       Total throughput [kg]  Max total backlog [kg]  Mean total backlog [kg]  \\\n",
       "count               8.000000                8.000000                 8.000000   \n",
       "mean              254.125000               33.457610                11.327755   \n",
       "std               242.818555                0.122886                 0.100231   \n",
       "min                 6.200000               33.262990                11.218306   \n",
       "25%                39.500000               33.361786                11.242396   \n",
       "50%               210.900000               33.473526                11.321587   \n",
       "75%               479.325000               33.563010                11.409163   \n",
       "max               561.900000               33.611806                11.458467   \n",
       "\n",
       "       std dev total backlog [kg]  Median total backlog [kg]  \\\n",
       "count                    8.000000                   8.000000   \n",
       "mean                     9.317685                  11.366264   \n",
       "std                      0.335841                   0.466198   \n",
       "min                      8.875640                  10.829642   \n",
       "25%                      9.056939                  10.919150   \n",
       "50%                      9.385892                  11.496151   \n",
       "75%                      9.565318                  11.532325   \n",
       "max                      9.692592                  12.209427   \n",
       "\n",
       "       Min total backlog [kg]  P(total backlog ≤ 0 kg)  \\\n",
       "count                     8.0                 8.000000   \n",
       "mean                      0.0               407.799189   \n",
       "std                       0.0                 3.608315   \n",
       "min                       0.0               403.859027   \n",
       "25%                       0.0               404.726241   \n",
       "50%                       0.0               407.577124   \n",
       "75%                       0.0               410.729874   \n",
       "max                       0.0               412.504801   \n",
       "\n",
       "       Max total inventory deficit [kg]  Mean total inventory deficit [kg]  \\\n",
       "count                               8.0                           8.000000   \n",
       "mean                              112.5                          63.539522   \n",
       "std                                 0.0                           0.677011   \n",
       "min                               112.5                          62.717926   \n",
       "25%                               112.5                          63.058853   \n",
       "50%                               112.5                          63.356851   \n",
       "75%                               112.5                          63.976350   \n",
       "max                               112.5                          64.634830   \n",
       "\n",
       "       std dev inventory deficit [kg]  Median total inventory deficit [kg]  \\\n",
       "count                        8.000000                             8.000000   \n",
       "mean                        34.291581                            74.093542   \n",
       "std                          1.398795                             0.771502   \n",
       "min                         32.710653                            73.400000   \n",
       "25%                         33.343373                            73.400000   \n",
       "50%                         33.952375                            73.849166   \n",
       "75%                         35.299273                            74.950000   \n",
       "max                         36.212344                            74.950000   \n",
       "\n",
       "       Min total inventory deficit [kg]  \n",
       "count                               8.0  \n",
       "mean                                0.0  \n",
       "std                                 0.0  \n",
       "min                                 0.0  \n",
       "25%                                 0.0  \n",
       "50%                                 0.0  \n",
       "75%                                 0.0  \n",
       "max                                 0.0  "
      ],
      "text/html": "<div>\n<style scoped>\n    .dataframe tbody tr th:only-of-type {\n        vertical-align: middle;\n    }\n\n    .dataframe tbody tr th {\n        vertical-align: top;\n    }\n\n    .dataframe thead th {\n        text-align: right;\n    }\n</style>\n<table border=\"1\" class=\"dataframe\">\n  <thead>\n    <tr style=\"text-align: right;\">\n      <th></th>\n      <th>Total throughput [kg]</th>\n      <th>Max total backlog [kg]</th>\n      <th>Mean total backlog [kg]</th>\n      <th>std dev total backlog [kg]</th>\n      <th>Median total backlog [kg]</th>\n      <th>Min total backlog [kg]</th>\n      <th>P(total backlog ≤ 0 kg)</th>\n      <th>Max total inventory deficit [kg]</th>\n      <th>Mean total inventory deficit [kg]</th>\n      <th>std dev inventory deficit [kg]</th>\n      <th>Median total inventory deficit [kg]</th>\n      <th>Min total inventory deficit [kg]</th>\n    </tr>\n  </thead>\n  <tbody>\n    <tr>\n      <th>count</th>\n      <td>8.000000</td>\n      <td>8.000000</td>\n      <td>8.000000</td>\n      <td>8.000000</td>\n      <td>8.000000</td>\n      <td>8.0</td>\n      <td>8.000000</td>\n      <td>8.0</td>\n      <td>8.000000</td>\n      <td>8.000000</td>\n      <td>8.000000</td>\n      <td>8.0</td>\n    </tr>\n    <tr>\n      <th>mean</th>\n      <td>254.125000</td>\n      <td>33.457610</td>\n      <td>11.327755</td>\n      <td>9.317685</td>\n      <td>11.366264</td>\n      <td>0.0</td>\n      <td>407.799189</td>\n      <td>112.5</td>\n      <td>63.539522</td>\n      <td>34.291581</td>\n      <td>74.093542</td>\n      <td>0.0</td>\n    </tr>\n    <tr>\n      <th>std</th>\n      <td>242.818555</td>\n      <td>0.122886</td>\n      <td>0.100231</td>\n      <td>0.335841</td>\n      <td>0.466198</td>\n      <td>0.0</td>\n      <td>3.608315</td>\n      <td>0.0</td>\n      <td>0.677011</td>\n      <td>1.398795</td>\n      <td>0.771502</td>\n      <td>0.0</td>\n    </tr>\n    <tr>\n      <th>min</th>\n      <td>6.200000</td>\n      <td>33.262990</td>\n      <td>11.218306</td>\n      <td>8.875640</td>\n      <td>10.829642</td>\n      <td>0.0</td>\n      <td>403.859027</td>\n      <td>112.5</td>\n      <td>62.717926</td>\n      <td>32.710653</td>\n      <td>73.400000</td>\n      <td>0.0</td>\n    </tr>\n    <tr>\n      <th>25%</th>\n      <td>39.500000</td>\n      <td>33.361786</td>\n      <td>11.242396</td>\n      <td>9.056939</td>\n      <td>10.919150</td>\n      <td>0.0</td>\n      <td>404.726241</td>\n      <td>112.5</td>\n      <td>63.058853</td>\n      <td>33.343373</td>\n      <td>73.400000</td>\n      <td>0.0</td>\n    </tr>\n    <tr>\n      <th>50%</th>\n      <td>210.900000</td>\n      <td>33.473526</td>\n      <td>11.321587</td>\n      <td>9.385892</td>\n      <td>11.496151</td>\n      <td>0.0</td>\n      <td>407.577124</td>\n      <td>112.5</td>\n      <td>63.356851</td>\n      <td>33.952375</td>\n      <td>73.849166</td>\n      <td>0.0</td>\n    </tr>\n    <tr>\n      <th>75%</th>\n      <td>479.325000</td>\n      <td>33.563010</td>\n      <td>11.409163</td>\n      <td>9.565318</td>\n      <td>11.532325</td>\n      <td>0.0</td>\n      <td>410.729874</td>\n      <td>112.5</td>\n      <td>63.976350</td>\n      <td>35.299273</td>\n      <td>74.950000</td>\n      <td>0.0</td>\n    </tr>\n    <tr>\n      <th>max</th>\n      <td>561.900000</td>\n      <td>33.611806</td>\n      <td>11.458467</td>\n      <td>9.692592</td>\n      <td>12.209427</td>\n      <td>0.0</td>\n      <td>412.504801</td>\n      <td>112.5</td>\n      <td>64.634830</td>\n      <td>36.212344</td>\n      <td>74.950000</td>\n      <td>0.0</td>\n    </tr>\n  </tbody>\n</table>\n</div>"
     },
     "metadata": {},
     "execution_count": 34
    }
   ],
   "source": [
    "df_find.loc[df_find.Variation!=\"Article\"].describe()"
   ]
  },
  {
   "cell_type": "code",
   "execution_count": null,
   "metadata": {},
   "outputs": [],
   "source": [
    " "
   ]
  },
  {
   "source": [
    "## Importing Files"
   ],
   "cell_type": "markdown",
   "metadata": {}
  },
  {
   "cell_type": "code",
   "execution_count": 3,
   "metadata": {
    "tags": []
   },
   "outputs": [
    {
     "output_type": "execute_result",
     "data": {
      "text/plain": "  ID Frase    ID Variante tipo_selecao_crossover tipo_crossover  tipo_mutacao  \\\n0       w1    a=0.5,b=0.5                     s1             c2           0.2   \n0       w2    a=0.5,b=0.5                     s1             c2           0.2   \n0       w3    a=0.5,b=0.5                     s1             c2           0.2   \n0       w4    a=0.5,b=0.5                     s1             c2           0.2   \n0       w5    a=0.5,b=0.5                     s1             c2           0.2   \n0       w1    a=0.1,b=0.1                     s1             c2           0.2   \n0       w2    a=0.1,b=0.1                     s1             c2           0.2   \n0       w3    a=0.1,b=0.1                     s1             c2           0.2   \n0       w4    a=0.1,b=0.1                     s1             c2           0.2   \n0       w5    a=0.1,b=0.1                     s1             c2           0.2   \n0       w1  a=0.01,b=0.01                     s1             c2           0.2   \n0       w2  a=0.01,b=0.01                     s1             c2           0.2   \n0       w3  a=0.01,b=0.01                     s1             c2           0.2   \n0       w4  a=0.01,b=0.01                     s1             c2           0.2   \n0       w5  a=0.01,b=0.01                     s1             c2           0.2   \n\n  tipo_reinsercao  ger_exec_real  total_conv_tds_exec  \\\n0              r1           3846                  189   \n0              r1           6733                   90   \n0              r1           9305                   25   \n0              r1           9163                   26   \n0              r1           9744                   12   \n0              r1           3755                  190   \n0              r1           6587                   93   \n0              r1           9364                   23   \n0              r1           8944                   34   \n0              r1           9656                   14   \n0              r1           3620                  195   \n0              r1           7270                   72   \n0              r1           9436                   22   \n0              r1           8880                   34   \n0              r1           9684                   15   \n\n   percentual_convergencia time_all_exec_min time_all_exec_min_por_execucao  \\\n0                     94.5   00:02:52.820000                00:00:00.864100   \n0                     45.0   00:05:54.140000                00:00:01.770700   \n0                     12.5   00:07:41.100000                00:00:02.305500   \n0                     13.0   00:06:30.500000                00:00:01.952500   \n0                      6.0   00:06:54.580000                00:00:02.072900   \n0                     95.0   00:02:32.160000                00:00:00.760800   \n0                     46.5   00:06:12.610000                00:00:01.863050   \n0                     11.5   00:07:39.590000                00:00:02.297950   \n0                     17.0   00:07:30.250000                00:00:02.251250   \n0                      7.0   00:08:00.990000                00:00:02.404950   \n0                     97.5   00:02:19.220000                00:00:00.696100   \n0                     36.0   00:05:28.950000                00:00:01.644750   \n0                     11.0   00:08:15.840000                00:00:02.479200   \n0                     17.0   00:08:18.240000                00:00:02.491200   \n0                      7.5          00:08:09                00:00:02.445000   \n\n                          solution  num_unique_solutions  \n0  [1. 2. 8. 3. 6. 4. 0. 9. 5. 7.]                    49  \n0  [9. 1. 8. 2. 3. 0. 4. 5. 6. 7.]                    24  \n0  [3. 2. 6. 9. 1. 5. 4. 7. 8. 0.]                     1  \n0  [6. 8. 1. 0. 2. 9. 3. 4. 7. 5.]                    14  \n0  [5. 8. 4. 6. 2. 7. 9. 1. 0. 3.]                     1  \n0  [1. 2. 8. 3. 6. 4. 0. 9. 5. 7.]                    47  \n0  [9. 1. 8. 2. 3. 0. 4. 5. 6. 7.]                    24  \n0  [3. 2. 6. 9. 1. 5. 4. 7. 8. 0.]                     1  \n0  [6. 8. 1. 0. 2. 9. 3. 4. 7. 5.]                    16  \n0  [5. 8. 4. 6. 2. 7. 9. 1. 0. 3.]                     1  \n0  [1. 2. 8. 3. 6. 4. 0. 9. 5. 7.]                    46  \n0  [9. 1. 8. 2. 3. 0. 4. 5. 6. 7.]                    21  \n0  [3. 2. 6. 9. 1. 5. 4. 7. 8. 0.]                     1  \n0  [6. 8. 1. 0. 2. 9. 3. 4. 5. 7.]                    20  \n0  [5. 8. 4. 6. 2. 7. 9. 1. 0. 3.]                     1  ",
      "text/html": "<div>\n<style scoped>\n    .dataframe tbody tr th:only-of-type {\n        vertical-align: middle;\n    }\n\n    .dataframe tbody tr th {\n        vertical-align: top;\n    }\n\n    .dataframe thead th {\n        text-align: right;\n    }\n</style>\n<table border=\"1\" class=\"dataframe\">\n  <thead>\n    <tr style=\"text-align: right;\">\n      <th></th>\n      <th>ID Frase</th>\n      <th>ID Variante</th>\n      <th>tipo_selecao_crossover</th>\n      <th>tipo_crossover</th>\n      <th>tipo_mutacao</th>\n      <th>tipo_reinsercao</th>\n      <th>ger_exec_real</th>\n      <th>total_conv_tds_exec</th>\n      <th>percentual_convergencia</th>\n      <th>time_all_exec_min</th>\n      <th>time_all_exec_min_por_execucao</th>\n      <th>solution</th>\n      <th>num_unique_solutions</th>\n    </tr>\n  </thead>\n  <tbody>\n    <tr>\n      <th>0</th>\n      <td>w1</td>\n      <td>a=0.5,b=0.5</td>\n      <td>s1</td>\n      <td>c2</td>\n      <td>0.2</td>\n      <td>r1</td>\n      <td>3846</td>\n      <td>189</td>\n      <td>94.5</td>\n      <td>00:02:52.820000</td>\n      <td>00:00:00.864100</td>\n      <td>[1. 2. 8. 3. 6. 4. 0. 9. 5. 7.]</td>\n      <td>49</td>\n    </tr>\n    <tr>\n      <th>0</th>\n      <td>w2</td>\n      <td>a=0.5,b=0.5</td>\n      <td>s1</td>\n      <td>c2</td>\n      <td>0.2</td>\n      <td>r1</td>\n      <td>6733</td>\n      <td>90</td>\n      <td>45.0</td>\n      <td>00:05:54.140000</td>\n      <td>00:00:01.770700</td>\n      <td>[9. 1. 8. 2. 3. 0. 4. 5. 6. 7.]</td>\n      <td>24</td>\n    </tr>\n    <tr>\n      <th>0</th>\n      <td>w3</td>\n      <td>a=0.5,b=0.5</td>\n      <td>s1</td>\n      <td>c2</td>\n      <td>0.2</td>\n      <td>r1</td>\n      <td>9305</td>\n      <td>25</td>\n      <td>12.5</td>\n      <td>00:07:41.100000</td>\n      <td>00:00:02.305500</td>\n      <td>[3. 2. 6. 9. 1. 5. 4. 7. 8. 0.]</td>\n      <td>1</td>\n    </tr>\n    <tr>\n      <th>0</th>\n      <td>w4</td>\n      <td>a=0.5,b=0.5</td>\n      <td>s1</td>\n      <td>c2</td>\n      <td>0.2</td>\n      <td>r1</td>\n      <td>9163</td>\n      <td>26</td>\n      <td>13.0</td>\n      <td>00:06:30.500000</td>\n      <td>00:00:01.952500</td>\n      <td>[6. 8. 1. 0. 2. 9. 3. 4. 7. 5.]</td>\n      <td>14</td>\n    </tr>\n    <tr>\n      <th>0</th>\n      <td>w5</td>\n      <td>a=0.5,b=0.5</td>\n      <td>s1</td>\n      <td>c2</td>\n      <td>0.2</td>\n      <td>r1</td>\n      <td>9744</td>\n      <td>12</td>\n      <td>6.0</td>\n      <td>00:06:54.580000</td>\n      <td>00:00:02.072900</td>\n      <td>[5. 8. 4. 6. 2. 7. 9. 1. 0. 3.]</td>\n      <td>1</td>\n    </tr>\n    <tr>\n      <th>0</th>\n      <td>w1</td>\n      <td>a=0.1,b=0.1</td>\n      <td>s1</td>\n      <td>c2</td>\n      <td>0.2</td>\n      <td>r1</td>\n      <td>3755</td>\n      <td>190</td>\n      <td>95.0</td>\n      <td>00:02:32.160000</td>\n      <td>00:00:00.760800</td>\n      <td>[1. 2. 8. 3. 6. 4. 0. 9. 5. 7.]</td>\n      <td>47</td>\n    </tr>\n    <tr>\n      <th>0</th>\n      <td>w2</td>\n      <td>a=0.1,b=0.1</td>\n      <td>s1</td>\n      <td>c2</td>\n      <td>0.2</td>\n      <td>r1</td>\n      <td>6587</td>\n      <td>93</td>\n      <td>46.5</td>\n      <td>00:06:12.610000</td>\n      <td>00:00:01.863050</td>\n      <td>[9. 1. 8. 2. 3. 0. 4. 5. 6. 7.]</td>\n      <td>24</td>\n    </tr>\n    <tr>\n      <th>0</th>\n      <td>w3</td>\n      <td>a=0.1,b=0.1</td>\n      <td>s1</td>\n      <td>c2</td>\n      <td>0.2</td>\n      <td>r1</td>\n      <td>9364</td>\n      <td>23</td>\n      <td>11.5</td>\n      <td>00:07:39.590000</td>\n      <td>00:00:02.297950</td>\n      <td>[3. 2. 6. 9. 1. 5. 4. 7. 8. 0.]</td>\n      <td>1</td>\n    </tr>\n    <tr>\n      <th>0</th>\n      <td>w4</td>\n      <td>a=0.1,b=0.1</td>\n      <td>s1</td>\n      <td>c2</td>\n      <td>0.2</td>\n      <td>r1</td>\n      <td>8944</td>\n      <td>34</td>\n      <td>17.0</td>\n      <td>00:07:30.250000</td>\n      <td>00:00:02.251250</td>\n      <td>[6. 8. 1. 0. 2. 9. 3. 4. 7. 5.]</td>\n      <td>16</td>\n    </tr>\n    <tr>\n      <th>0</th>\n      <td>w5</td>\n      <td>a=0.1,b=0.1</td>\n      <td>s1</td>\n      <td>c2</td>\n      <td>0.2</td>\n      <td>r1</td>\n      <td>9656</td>\n      <td>14</td>\n      <td>7.0</td>\n      <td>00:08:00.990000</td>\n      <td>00:00:02.404950</td>\n      <td>[5. 8. 4. 6. 2. 7. 9. 1. 0. 3.]</td>\n      <td>1</td>\n    </tr>\n    <tr>\n      <th>0</th>\n      <td>w1</td>\n      <td>a=0.01,b=0.01</td>\n      <td>s1</td>\n      <td>c2</td>\n      <td>0.2</td>\n      <td>r1</td>\n      <td>3620</td>\n      <td>195</td>\n      <td>97.5</td>\n      <td>00:02:19.220000</td>\n      <td>00:00:00.696100</td>\n      <td>[1. 2. 8. 3. 6. 4. 0. 9. 5. 7.]</td>\n      <td>46</td>\n    </tr>\n    <tr>\n      <th>0</th>\n      <td>w2</td>\n      <td>a=0.01,b=0.01</td>\n      <td>s1</td>\n      <td>c2</td>\n      <td>0.2</td>\n      <td>r1</td>\n      <td>7270</td>\n      <td>72</td>\n      <td>36.0</td>\n      <td>00:05:28.950000</td>\n      <td>00:00:01.644750</td>\n      <td>[9. 1. 8. 2. 3. 0. 4. 5. 6. 7.]</td>\n      <td>21</td>\n    </tr>\n    <tr>\n      <th>0</th>\n      <td>w3</td>\n      <td>a=0.01,b=0.01</td>\n      <td>s1</td>\n      <td>c2</td>\n      <td>0.2</td>\n      <td>r1</td>\n      <td>9436</td>\n      <td>22</td>\n      <td>11.0</td>\n      <td>00:08:15.840000</td>\n      <td>00:00:02.479200</td>\n      <td>[3. 2. 6. 9. 1. 5. 4. 7. 8. 0.]</td>\n      <td>1</td>\n    </tr>\n    <tr>\n      <th>0</th>\n      <td>w4</td>\n      <td>a=0.01,b=0.01</td>\n      <td>s1</td>\n      <td>c2</td>\n      <td>0.2</td>\n      <td>r1</td>\n      <td>8880</td>\n      <td>34</td>\n      <td>17.0</td>\n      <td>00:08:18.240000</td>\n      <td>00:00:02.491200</td>\n      <td>[6. 8. 1. 0. 2. 9. 3. 4. 5. 7.]</td>\n      <td>20</td>\n    </tr>\n    <tr>\n      <th>0</th>\n      <td>w5</td>\n      <td>a=0.01,b=0.01</td>\n      <td>s1</td>\n      <td>c2</td>\n      <td>0.2</td>\n      <td>r1</td>\n      <td>9684</td>\n      <td>15</td>\n      <td>7.5</td>\n      <td>00:08:09</td>\n      <td>00:00:02.445000</td>\n      <td>[5. 8. 4. 6. 2. 7. 9. 1. 0. 3.]</td>\n      <td>1</td>\n    </tr>\n  </tbody>\n</table>\n</div>"
     },
     "metadata": {},
     "execution_count": 3
    }
   ],
   "source": [
    "\n",
    "# Open table problems\n",
    "file_name='sumario_p4_apt.csv'\n",
    "path=root_path_data+file_name\n",
    "sumario_p1=pd.read_csv(path,names=[\"ID Frase\",\"ID Variante\",\"tipo_apt\",\"tipo_pop_gerar\",\"tipo_selecao_crossover\",\"tipo_crossover\",\"tipo_mutacao\",\"tipo_reinsercao\",\"ix_exec_real\", \"ger_exec_real\",\"total_conv_tds_exec\",\"percentual_convergencia\",\"time_all_exec_min\",\"time_all_exec_min_por_execucao\",\"solution\",\"num_unique_solutions\"],index_col=0)\n",
    "# ,names=[\"ID Variante\",\"Tipo Aptidão\",\"Tipo pop gerada\",\"Seleção Si\",\"Crossover Ci\",\"Mutacão TMi\",\"Reinserção Ri\",\"Número de execuções real\", \"Num. gerações total\",\"Núm. Convergência\",\"% Convergência\",\"Tempo total\",\"Tempo por execução\",\"Solução\",\"Núm. soluções únicas\"])\n",
    "\n",
    "import datetime\n",
    "\n",
    "sumario_p1[\"time_all_exec_min_por_execucao\"]=pd.to_timedelta(sumario_p1[\"time_all_exec_min_por_execucao\"])\n",
    "sumario_p1[\"time_all_exec_min\"]=pd.to_timedelta(sumario_p1[\"time_all_exec_min\"])\n",
    "sumario_p1=sumario_p1.drop([\"tipo_apt\",\"tipo_pop_gerar\",\"ix_exec_real\"],axis=1)\n",
    "\n",
    "# sumario_p1=sumario_p1.drop([\"tipo_apt\",\"tipo_pop_gerar\"],axis=1)\n",
    "# print(sumario_p1.head())\n",
    "# print(sumario_p1.columns)\n",
    "# print(sumario_p1.describe())\n",
    "# print(sumario_p1.dtypes)\n",
    "sumario_p1"
   ]
  },
  {
   "source": [
    "### Exporta valores base de comparação para o relatório vide algoritmo Parte 2"
   ],
   "cell_type": "markdown",
   "metadata": {}
  },
  {
   "cell_type": "code",
   "execution_count": 7,
   "metadata": {},
   "outputs": [
    {
     "output_type": "execute_result",
     "data": {
      "text/plain": "  ID Frase    ID Variante Seleção (Si) Crossover (Ci)  Mutação TMi  \\\n0       w1    a=0.5,b=0.5           s1             c2          0.2   \n0       w2    a=0.5,b=0.5           s1             c2          0.2   \n0       w3    a=0.5,b=0.5           s1             c2          0.2   \n0       w4    a=0.5,b=0.5           s1             c2          0.2   \n0       w5    a=0.5,b=0.5           s1             c2          0.2   \n0       w1    a=0.1,b=0.1           s1             c2          0.2   \n0       w2    a=0.1,b=0.1           s1             c2          0.2   \n0       w3    a=0.1,b=0.1           s1             c2          0.2   \n0       w4    a=0.1,b=0.1           s1             c2          0.2   \n0       w5    a=0.1,b=0.1           s1             c2          0.2   \n0       w1  a=0.01,b=0.01           s1             c2          0.2   \n0       w2  a=0.01,b=0.01           s1             c2          0.2   \n0       w3  a=0.01,b=0.01           s1             c2          0.2   \n0       w4  a=0.01,b=0.01           s1             c2          0.2   \n0       w5  a=0.01,b=0.01           s1             c2          0.2   \n\n  Reinserção (Ri)  % convergencia     Tempo total Tempo por execução  \\\n0              r1            94.5 00:02:52.820000    00:00:00.864100   \n0              r1            45.0 00:05:54.140000    00:00:01.770700   \n0              r1            12.5 00:07:41.100000    00:00:02.305500   \n0              r1            13.0 00:06:30.500000    00:00:01.952500   \n0              r1             6.0 00:06:54.580000    00:00:02.072900   \n0              r1            95.0 00:02:32.160000    00:00:00.760800   \n0              r1            46.5 00:06:12.610000    00:00:01.863050   \n0              r1            11.5 00:07:39.590000    00:00:02.297950   \n0              r1            17.0 00:07:30.250000    00:00:02.251250   \n0              r1             7.0 00:08:00.990000    00:00:02.404950   \n0              r1            97.5 00:02:19.220000    00:00:00.696100   \n0              r1            36.0 00:05:28.950000    00:00:01.644750   \n0              r1            11.0 00:08:15.840000    00:00:02.479200   \n0              r1            17.0 00:08:18.240000    00:00:02.491200   \n0              r1             7.5        00:08:09    00:00:02.445000   \n\n                           Solução  Nº soluções únicas  \n0  [1. 2. 8. 3. 6. 4. 0. 9. 5. 7.]                  49  \n0  [9. 1. 8. 2. 3. 0. 4. 5. 6. 7.]                  24  \n0  [3. 2. 6. 9. 1. 5. 4. 7. 8. 0.]                   1  \n0  [6. 8. 1. 0. 2. 9. 3. 4. 7. 5.]                  14  \n0  [5. 8. 4. 6. 2. 7. 9. 1. 0. 3.]                   1  \n0  [1. 2. 8. 3. 6. 4. 0. 9. 5. 7.]                  47  \n0  [9. 1. 8. 2. 3. 0. 4. 5. 6. 7.]                  24  \n0  [3. 2. 6. 9. 1. 5. 4. 7. 8. 0.]                   1  \n0  [6. 8. 1. 0. 2. 9. 3. 4. 7. 5.]                  16  \n0  [5. 8. 4. 6. 2. 7. 9. 1. 0. 3.]                   1  \n0  [1. 2. 8. 3. 6. 4. 0. 9. 5. 7.]                  46  \n0  [9. 1. 8. 2. 3. 0. 4. 5. 6. 7.]                  21  \n0  [3. 2. 6. 9. 1. 5. 4. 7. 8. 0.]                   1  \n0  [6. 8. 1. 0. 2. 9. 3. 4. 5. 7.]                  20  \n0  [5. 8. 4. 6. 2. 7. 9. 1. 0. 3.]                   1  ",
      "text/html": "<div>\n<style scoped>\n    .dataframe tbody tr th:only-of-type {\n        vertical-align: middle;\n    }\n\n    .dataframe tbody tr th {\n        vertical-align: top;\n    }\n\n    .dataframe thead th {\n        text-align: right;\n    }\n</style>\n<table border=\"1\" class=\"dataframe\">\n  <thead>\n    <tr style=\"text-align: right;\">\n      <th></th>\n      <th>ID Frase</th>\n      <th>ID Variante</th>\n      <th>Seleção (Si)</th>\n      <th>Crossover (Ci)</th>\n      <th>Mutação TMi</th>\n      <th>Reinserção (Ri)</th>\n      <th>% convergencia</th>\n      <th>Tempo total</th>\n      <th>Tempo por execução</th>\n      <th>Solução</th>\n      <th>Nº soluções únicas</th>\n    </tr>\n  </thead>\n  <tbody>\n    <tr>\n      <th>0</th>\n      <td>w1</td>\n      <td>a=0.5,b=0.5</td>\n      <td>s1</td>\n      <td>c2</td>\n      <td>0.2</td>\n      <td>r1</td>\n      <td>94.5</td>\n      <td>00:02:52.820000</td>\n      <td>00:00:00.864100</td>\n      <td>[1. 2. 8. 3. 6. 4. 0. 9. 5. 7.]</td>\n      <td>49</td>\n    </tr>\n    <tr>\n      <th>0</th>\n      <td>w2</td>\n      <td>a=0.5,b=0.5</td>\n      <td>s1</td>\n      <td>c2</td>\n      <td>0.2</td>\n      <td>r1</td>\n      <td>45.0</td>\n      <td>00:05:54.140000</td>\n      <td>00:00:01.770700</td>\n      <td>[9. 1. 8. 2. 3. 0. 4. 5. 6. 7.]</td>\n      <td>24</td>\n    </tr>\n    <tr>\n      <th>0</th>\n      <td>w3</td>\n      <td>a=0.5,b=0.5</td>\n      <td>s1</td>\n      <td>c2</td>\n      <td>0.2</td>\n      <td>r1</td>\n      <td>12.5</td>\n      <td>00:07:41.100000</td>\n      <td>00:00:02.305500</td>\n      <td>[3. 2. 6. 9. 1. 5. 4. 7. 8. 0.]</td>\n      <td>1</td>\n    </tr>\n    <tr>\n      <th>0</th>\n      <td>w4</td>\n      <td>a=0.5,b=0.5</td>\n      <td>s1</td>\n      <td>c2</td>\n      <td>0.2</td>\n      <td>r1</td>\n      <td>13.0</td>\n      <td>00:06:30.500000</td>\n      <td>00:00:01.952500</td>\n      <td>[6. 8. 1. 0. 2. 9. 3. 4. 7. 5.]</td>\n      <td>14</td>\n    </tr>\n    <tr>\n      <th>0</th>\n      <td>w5</td>\n      <td>a=0.5,b=0.5</td>\n      <td>s1</td>\n      <td>c2</td>\n      <td>0.2</td>\n      <td>r1</td>\n      <td>6.0</td>\n      <td>00:06:54.580000</td>\n      <td>00:00:02.072900</td>\n      <td>[5. 8. 4. 6. 2. 7. 9. 1. 0. 3.]</td>\n      <td>1</td>\n    </tr>\n    <tr>\n      <th>0</th>\n      <td>w1</td>\n      <td>a=0.1,b=0.1</td>\n      <td>s1</td>\n      <td>c2</td>\n      <td>0.2</td>\n      <td>r1</td>\n      <td>95.0</td>\n      <td>00:02:32.160000</td>\n      <td>00:00:00.760800</td>\n      <td>[1. 2. 8. 3. 6. 4. 0. 9. 5. 7.]</td>\n      <td>47</td>\n    </tr>\n    <tr>\n      <th>0</th>\n      <td>w2</td>\n      <td>a=0.1,b=0.1</td>\n      <td>s1</td>\n      <td>c2</td>\n      <td>0.2</td>\n      <td>r1</td>\n      <td>46.5</td>\n      <td>00:06:12.610000</td>\n      <td>00:00:01.863050</td>\n      <td>[9. 1. 8. 2. 3. 0. 4. 5. 6. 7.]</td>\n      <td>24</td>\n    </tr>\n    <tr>\n      <th>0</th>\n      <td>w3</td>\n      <td>a=0.1,b=0.1</td>\n      <td>s1</td>\n      <td>c2</td>\n      <td>0.2</td>\n      <td>r1</td>\n      <td>11.5</td>\n      <td>00:07:39.590000</td>\n      <td>00:00:02.297950</td>\n      <td>[3. 2. 6. 9. 1. 5. 4. 7. 8. 0.]</td>\n      <td>1</td>\n    </tr>\n    <tr>\n      <th>0</th>\n      <td>w4</td>\n      <td>a=0.1,b=0.1</td>\n      <td>s1</td>\n      <td>c2</td>\n      <td>0.2</td>\n      <td>r1</td>\n      <td>17.0</td>\n      <td>00:07:30.250000</td>\n      <td>00:00:02.251250</td>\n      <td>[6. 8. 1. 0. 2. 9. 3. 4. 7. 5.]</td>\n      <td>16</td>\n    </tr>\n    <tr>\n      <th>0</th>\n      <td>w5</td>\n      <td>a=0.1,b=0.1</td>\n      <td>s1</td>\n      <td>c2</td>\n      <td>0.2</td>\n      <td>r1</td>\n      <td>7.0</td>\n      <td>00:08:00.990000</td>\n      <td>00:00:02.404950</td>\n      <td>[5. 8. 4. 6. 2. 7. 9. 1. 0. 3.]</td>\n      <td>1</td>\n    </tr>\n    <tr>\n      <th>0</th>\n      <td>w1</td>\n      <td>a=0.01,b=0.01</td>\n      <td>s1</td>\n      <td>c2</td>\n      <td>0.2</td>\n      <td>r1</td>\n      <td>97.5</td>\n      <td>00:02:19.220000</td>\n      <td>00:00:00.696100</td>\n      <td>[1. 2. 8. 3. 6. 4. 0. 9. 5. 7.]</td>\n      <td>46</td>\n    </tr>\n    <tr>\n      <th>0</th>\n      <td>w2</td>\n      <td>a=0.01,b=0.01</td>\n      <td>s1</td>\n      <td>c2</td>\n      <td>0.2</td>\n      <td>r1</td>\n      <td>36.0</td>\n      <td>00:05:28.950000</td>\n      <td>00:00:01.644750</td>\n      <td>[9. 1. 8. 2. 3. 0. 4. 5. 6. 7.]</td>\n      <td>21</td>\n    </tr>\n    <tr>\n      <th>0</th>\n      <td>w3</td>\n      <td>a=0.01,b=0.01</td>\n      <td>s1</td>\n      <td>c2</td>\n      <td>0.2</td>\n      <td>r1</td>\n      <td>11.0</td>\n      <td>00:08:15.840000</td>\n      <td>00:00:02.479200</td>\n      <td>[3. 2. 6. 9. 1. 5. 4. 7. 8. 0.]</td>\n      <td>1</td>\n    </tr>\n    <tr>\n      <th>0</th>\n      <td>w4</td>\n      <td>a=0.01,b=0.01</td>\n      <td>s1</td>\n      <td>c2</td>\n      <td>0.2</td>\n      <td>r1</td>\n      <td>17.0</td>\n      <td>00:08:18.240000</td>\n      <td>00:00:02.491200</td>\n      <td>[6. 8. 1. 0. 2. 9. 3. 4. 5. 7.]</td>\n      <td>20</td>\n    </tr>\n    <tr>\n      <th>0</th>\n      <td>w5</td>\n      <td>a=0.01,b=0.01</td>\n      <td>s1</td>\n      <td>c2</td>\n      <td>0.2</td>\n      <td>r1</td>\n      <td>7.5</td>\n      <td>00:08:09</td>\n      <td>00:00:02.445000</td>\n      <td>[5. 8. 4. 6. 2. 7. 9. 1. 0. 3.]</td>\n      <td>1</td>\n    </tr>\n  </tbody>\n</table>\n</div>"
     },
     "metadata": {},
     "execution_count": 7
    }
   ],
   "source": [
    "tab_0_sumario=copy.deepcopy(sumario_p1)\n",
    "tab_0_sumario=tab_0_sumario.drop([\"ger_exec_real\",\"total_conv_tds_exec\"],axis=1)\n",
    "\n",
    "tab_0_sumario.columns=[\"ID Frase\",\"ID Variante\",'Seleção (Si)', 'Crossover (Ci)', 'Mutação TMi','Reinserção (Ri)', '% convergencia', 'Tempo total','Tempo por execução', 'Solução', 'Nº soluções únicas']\n",
    "# tab_0_sumario=tab_0_sumario.drop([\"ID Variante\"],axis=1)\n",
    "tab_0_sumario.sort_values(by=\"ID Frase\",ascending=True)\n",
    "# Export table to txt for latex\n",
    "root_path_report = \"C:\\\\Users\\\\debor\\\\Documents\\\\01_UFU_local\\\\01_comp_evolutiva\\\\01_trabalho_1\\\\03_relatorio\\\\relatorio\\\\tables\\\\\"\n",
    "file_name = \"tab_4_0_sumario.txt\"\n",
    "path = root_path_report + file_name\n",
    "with codecs.open(path, 'w', 'utf-8') as outfile:\n",
    "    outfile.write(tab_0_sumario.to_latex(index=False))\n",
    "tab_0_sumario"
   ]
  },
  {
   "source": [
    "Exporta Tabela para o relatório"
   ],
   "cell_type": "markdown",
   "metadata": {}
  },
  {
   "source": [
    "## Comparações"
   ],
   "cell_type": "markdown",
   "metadata": {}
  },
  {
   "cell_type": "code",
   "execution_count": 69,
   "metadata": {},
   "outputs": [],
   "source": [
    "sumario_p1_uniq=copy.deepcopy(sumario_p1)\n",
    "# Reduz a variante\n",
    "sumario_p1_uniq=sumario_p1_uniq.loc[(sumario_p1_uniq[\"ID Variante\"]==int(1))]\n",
    "sumario_p1_uniq=sumario_p1_uniq.drop([\"ID Variante\"],axis=1)\n",
    "sumario_p1_uniq=sumario_p1_uniq.drop_duplicates(subset=[\"tipo_selecao_crossover\", \"tipo_crossover\",\"tipo_mutacao\",\"tipo_reinsercao\",'ID Frase'], keep='last')\n",
    "\n",
    "# piv_copy=pd.pivot_table(sumario_p1_uniq, values=['percentual_convergencia'], index=['tipo_selecao_crossover','tipo_crossover', 'tipo_mutacao','tipo_reinsercao'],columns=['ID Frase'],aggfunc=\"count\")\n",
    "# piv_copy"
   ]
  },
  {
   "source": [
    "### Taxa de Convergencia\n",
    "* Ranking\n",
    "* Comparações Uma  vs. Todos iguais"
   ],
   "cell_type": "markdown",
   "metadata": {}
  },
  {
   "source": [
    "Ranking Taxa de Convergência"
   ],
   "cell_type": "markdown",
   "metadata": {}
  },
  {
   "cell_type": "code",
   "execution_count": 79,
   "metadata": {},
   "outputs": [
    {
     "output_type": "execute_result",
     "data": {
      "text/plain": "       tipo_mutacao  ger_exec_real  total_conv_tds_exec  \\\ncount    270.000000     270.000000           270.000000   \nmean       0.106667    8968.514815            30.614815   \nstd        0.073772    1711.301174            49.200143   \nmin        0.020000    3073.000000             0.000000   \n25%        0.020000    9198.750000             3.000000   \n50%        0.100000    9681.000000             9.000000   \n75%        0.200000    9923.000000            22.500000   \nmax        0.200000   10000.000000           190.000000   \n\n       percentual_convergencia       time_all_exec_min  \\\ncount               270.000000                     270   \nmean                 15.307407  0 days 00:02:42.955962   \nstd                  24.600071  0 days 00:01:26.322424   \nmin                   0.000000  0 days 00:00:48.390000   \n25%                   1.500000  0 days 00:01:25.545000   \n50%                   4.500000  0 days 00:02:32.520000   \n75%                  11.250000  0 days 00:03:39.317500   \nmax                  95.000000  0 days 00:10:05.910000   \n\n      time_all_exec_min_por_execucao  num_unique_solutions   rank_conv  \\\ncount                            270            251.000000  270.000000   \nmean          0 days 00:00:00.814779             14.171315   61.662963   \nstd           0 days 00:00:00.431612             16.390684   20.818237   \nmin           0 days 00:00:00.241950              1.000000    1.000000   \n25%           0 days 00:00:00.427725              1.000000   58.250000   \n50%           0 days 00:00:00.762600              8.000000   70.000000   \n75%           0 days 00:00:01.096587             17.000000   76.000000   \nmax           0 days 00:00:03.029550             50.000000   79.000000   \n\n        rank_time  \ncount  270.000000  \nmean   134.533333  \nstd     77.232262  \nmin      1.000000  \n25%     68.250000  \n50%    134.500000  \n75%    200.750000  \nmax    268.000000  ",
      "text/html": "<div>\n<style scoped>\n    .dataframe tbody tr th:only-of-type {\n        vertical-align: middle;\n    }\n\n    .dataframe tbody tr th {\n        vertical-align: top;\n    }\n\n    .dataframe thead th {\n        text-align: right;\n    }\n</style>\n<table border=\"1\" class=\"dataframe\">\n  <thead>\n    <tr style=\"text-align: right;\">\n      <th></th>\n      <th>tipo_mutacao</th>\n      <th>ger_exec_real</th>\n      <th>total_conv_tds_exec</th>\n      <th>percentual_convergencia</th>\n      <th>time_all_exec_min</th>\n      <th>time_all_exec_min_por_execucao</th>\n      <th>num_unique_solutions</th>\n      <th>rank_conv</th>\n      <th>rank_time</th>\n    </tr>\n  </thead>\n  <tbody>\n    <tr>\n      <th>count</th>\n      <td>270.000000</td>\n      <td>270.000000</td>\n      <td>270.000000</td>\n      <td>270.000000</td>\n      <td>270</td>\n      <td>270</td>\n      <td>251.000000</td>\n      <td>270.000000</td>\n      <td>270.000000</td>\n    </tr>\n    <tr>\n      <th>mean</th>\n      <td>0.106667</td>\n      <td>8968.514815</td>\n      <td>30.614815</td>\n      <td>15.307407</td>\n      <td>0 days 00:02:42.955962</td>\n      <td>0 days 00:00:00.814779</td>\n      <td>14.171315</td>\n      <td>61.662963</td>\n      <td>134.533333</td>\n    </tr>\n    <tr>\n      <th>std</th>\n      <td>0.073772</td>\n      <td>1711.301174</td>\n      <td>49.200143</td>\n      <td>24.600071</td>\n      <td>0 days 00:01:26.322424</td>\n      <td>0 days 00:00:00.431612</td>\n      <td>16.390684</td>\n      <td>20.818237</td>\n      <td>77.232262</td>\n    </tr>\n    <tr>\n      <th>min</th>\n      <td>0.020000</td>\n      <td>3073.000000</td>\n      <td>0.000000</td>\n      <td>0.000000</td>\n      <td>0 days 00:00:48.390000</td>\n      <td>0 days 00:00:00.241950</td>\n      <td>1.000000</td>\n      <td>1.000000</td>\n      <td>1.000000</td>\n    </tr>\n    <tr>\n      <th>25%</th>\n      <td>0.020000</td>\n      <td>9198.750000</td>\n      <td>3.000000</td>\n      <td>1.500000</td>\n      <td>0 days 00:01:25.545000</td>\n      <td>0 days 00:00:00.427725</td>\n      <td>1.000000</td>\n      <td>58.250000</td>\n      <td>68.250000</td>\n    </tr>\n    <tr>\n      <th>50%</th>\n      <td>0.100000</td>\n      <td>9681.000000</td>\n      <td>9.000000</td>\n      <td>4.500000</td>\n      <td>0 days 00:02:32.520000</td>\n      <td>0 days 00:00:00.762600</td>\n      <td>8.000000</td>\n      <td>70.000000</td>\n      <td>134.500000</td>\n    </tr>\n    <tr>\n      <th>75%</th>\n      <td>0.200000</td>\n      <td>9923.000000</td>\n      <td>22.500000</td>\n      <td>11.250000</td>\n      <td>0 days 00:03:39.317500</td>\n      <td>0 days 00:00:01.096587</td>\n      <td>17.000000</td>\n      <td>76.000000</td>\n      <td>200.750000</td>\n    </tr>\n    <tr>\n      <th>max</th>\n      <td>0.200000</td>\n      <td>10000.000000</td>\n      <td>190.000000</td>\n      <td>95.000000</td>\n      <td>0 days 00:10:05.910000</td>\n      <td>0 days 00:00:03.029550</td>\n      <td>50.000000</td>\n      <td>79.000000</td>\n      <td>268.000000</td>\n    </tr>\n  </tbody>\n</table>\n</div>"
     },
     "metadata": {},
     "execution_count": 79
    }
   ],
   "source": [
    "sumario_p1_piv=copy.deepcopy(sumario_p1_uniq)\n",
    "sumario_p1_piv[\"variante\"]=sumario_p1_piv['tipo_selecao_crossover'].astype(str)+'_'+sumario_p1_piv['tipo_crossover'].astype(str)+'_'+sumario_p1_piv['tipo_mutacao'].astype(str)+'_'+sumario_p1_piv['tipo_reinsercao'].astype(str)\n",
    "sumario_p1_piv[\"rank_conv\"]=sumario_p1_piv[\"percentual_convergencia\"].rank(method=\"dense\",ascending=False)\n",
    "sumario_p1_piv[\"rank_time\"]=sumario_p1_piv[\"time_all_exec_min_por_execucao\"].rank(method=\"dense\",ascending=True)\n",
    "\n",
    "sumario_p1_piv=sumario_p1_piv.sort_values(by=\"rank_conv\")\n",
    "\n",
    "# # Export table to txt for latex\n",
    "# root_path_report = \"C:\\\\Users\\\\debor\\\\Documents\\\\01_UFU_local\\\\01_comp_evolutiva\\\\01_trabalho_1\\\\03_relatorio\\\\relatorio\\\\tables\\\\\"\n",
    "# file_name = \"tab_3_completa.txt\"\n",
    "# path = root_path_report + file_name\n",
    "# with codecs.open(path, 'w', 'utf-8') as outfile:\n",
    "#     outfile.write(sumario_p1_piv.to_latex(index=True))\n",
    "sumario_p1_piv.describe()"
   ]
  },
  {
   "cell_type": "code",
   "execution_count": 101,
   "metadata": {},
   "outputs": [
    {
     "output_type": "execute_result",
     "data": {
      "text/plain": "                            amax                    amin\n         percentual_convergencia percentual_convergencia\nID Frase                                                \nw1                          95.0                    26.5\nw2                          16.5                     1.5\nw3                           3.0                     0.0\nw4                          23.5                     2.5\nw5                           6.0                     0.0",
      "text/html": "<div>\n<style scoped>\n    .dataframe tbody tr th:only-of-type {\n        vertical-align: middle;\n    }\n\n    .dataframe tbody tr th {\n        vertical-align: top;\n    }\n\n    .dataframe thead tr th {\n        text-align: left;\n    }\n\n    .dataframe thead tr:last-of-type th {\n        text-align: right;\n    }\n</style>\n<table border=\"1\" class=\"dataframe\">\n  <thead>\n    <tr>\n      <th></th>\n      <th>amax</th>\n      <th>amin</th>\n    </tr>\n    <tr>\n      <th></th>\n      <th>percentual_convergencia</th>\n      <th>percentual_convergencia</th>\n    </tr>\n    <tr>\n      <th>ID Frase</th>\n      <th></th>\n      <th></th>\n    </tr>\n  </thead>\n  <tbody>\n    <tr>\n      <th>w1</th>\n      <td>95.0</td>\n      <td>26.5</td>\n    </tr>\n    <tr>\n      <th>w2</th>\n      <td>16.5</td>\n      <td>1.5</td>\n    </tr>\n    <tr>\n      <th>w3</th>\n      <td>3.0</td>\n      <td>0.0</td>\n    </tr>\n    <tr>\n      <th>w4</th>\n      <td>23.5</td>\n      <td>2.5</td>\n    </tr>\n    <tr>\n      <th>w5</th>\n      <td>6.0</td>\n      <td>0.0</td>\n    </tr>\n  </tbody>\n</table>\n</div>"
     },
     "metadata": {},
     "execution_count": 101
    }
   ],
   "source": [
    "tab3_limites=pd.pivot_table(sumario_p1_piv_copy, values=['percentual_convergencia'], index=['ID Frase'],aggfunc=[np.max,np.min])\n",
    "# Export table to txt for latex\n",
    "root_path_report = \"C:\\\\Users\\\\debor\\\\Documents\\\\01_UFU_local\\\\01_comp_evolutiva\\\\01_trabalho_1\\\\03_relatorio\\\\relatorio\\\\tables\\\\\"\n",
    "file_name = \"tab3_limites.txt\"\n",
    "path = root_path_report + file_name\n",
    "with codecs.open(path, 'w', 'utf-8') as outfile:\n",
    "    outfile.write(tab3_limites.to_latex(index=True))\n",
    "tab3_limites"
   ]
  },
  {
   "cell_type": "code",
   "execution_count": 125,
   "metadata": {
    "tags": []
   },
   "outputs": [
    {
     "output_type": "execute_result",
     "data": {
      "text/plain": "                   0.1          r1                                 38.5   \n                                                   r2                                 44.0   \n                                      0.2          r1                                 49.5   \n                                                   r2                                 47.5   \nPerc. conv. mínimo                                                                    26.5   \n\n                                                                               \\\nID Frase                                                              w2   w3   \ntipo_selecao_crossover tipo_crossover tipo_mutacao tipo_reinsercao              \ns1                     c1             0.02         r1                6.5  0.0   \n                                                   r2                7.5  0.0   \n                                      0.1          r1                8.0  1.0   \n                                                   r2               11.5  1.0   \n                                      0.2          r1               14.0  1.0   \n                                                   r2               14.5  0.5   \n                       c2             0.02         r1                9.0  0.5   \n                                                   r2                8.0  1.0   \n                                      0.1          r1                5.5  1.5   \n                                                   r2               13.0  2.5   \n                                      0.2          r1               10.5  1.5   \n                                                   r2               16.5  0.5   \n                       c3             0.02         r1                3.0  0.0   \n                                                   r2                5.5  0.5   \n                                      0.1          r1                6.0  1.5   \n                                                   r2                5.5  0.5   \n                                      0.2          r1                8.0  1.0   \n                                                   r2                8.5  0.0   \ns2                     c1             0.02         r1                2.5  0.5   \n                                                   r2                4.5  0.5   \n                                      0.1          r1                7.0  0.5   \n                                                   r2                7.5  0.0   \n                                      0.2          r1                4.5  0.5   \n                                                   r2                8.0  0.0   \n                       c2             0.02         r1                7.0  1.5   \n                                                   r2                6.0  3.0   \n                                      0.1          r1                6.0  1.0   \n                                                   r2                5.0  1.0   \n                                      0.2          r1                6.0  1.0   \n                                                   r2                9.5  1.0   \n                       c3             0.02         r1                5.5  0.0   \n                                                   r2                4.5  0.0   \n                                      0.1          r1                3.0  0.0   \n                                                   r2                2.5  0.5   \n                                      0.2          r1                7.5  1.5   \n                                                   r2                8.0  0.0   \ns3                     c1             0.02         r1                3.0  0.0   \n                                                   r2                2.5  0.0   \n                                      0.1          r1                7.0  0.0   \n                                                   r2                4.0  1.0   \n                                      0.2          r1                7.5  0.0   \n                                                   r2                8.0  1.5   \n                       c2             0.02         r1                3.5  0.5   \n                                                   r2                5.5  1.5   \n                                      0.1          r1                4.5  0.0   \n                                                   r2                5.0  1.0   \n                                      0.2          r1                3.0  0.5   \n                                                   r2                3.0  0.5   \n                       c3             0.02         r1                2.0  0.0   \n                                                   r2                1.5  0.5   \n                                      0.1          r1                5.0  0.5   \n                                                   r2                4.0  0.5   \n                                      0.2          r1                3.5  0.0   \n                                                   r2                5.0  1.0   \nPerc. conv. mínimo                                                   1.5  0.0   \n\n                                                                               \\\nID Frase                                                              w4   w5   \ntipo_selecao_crossover tipo_crossover tipo_mutacao tipo_reinsercao              \ns1                     c1             0.02         r1                5.0  1.5   \n                                                   r2                8.0  0.5   \n                                      0.1          r1                4.5  1.5   \n                                                   r2                6.0  3.5   \n                                      0.2          r1                9.5  1.5   \n                                                   r2                4.0  3.0   \n                       c2             0.02         r1               17.0  2.5   \n                                                   r2               15.0  5.5   \n                                      0.1          r1               19.5  2.5   \n                                                   r2               10.5  5.5   \n                                      0.2          r1               23.5  3.5   \n                                                   r2               13.0  6.0   \n                       c3             0.02         r1                4.5  1.5   \n                                                   r2                4.0  1.0   \n                                      0.1          r1                5.0  2.0   \n                                                   r2                5.0  0.5   \n                                      0.2          r1                7.5  1.0   \n                                                   r2                7.0  1.5   \ns2                     c1             0.02         r1                3.5  0.0   \n                                                   r2                7.0  1.5   \n                                      0.1          r1                7.5  2.0   \n                                                   r2                6.0  2.0   \n                                      0.2          r1                5.5  1.5   \n                                                   r2                6.0  1.0   \n                       c2             0.02         r1               10.5  2.5   \n                                                   r2               12.0  4.0   \n                                      0.1          r1               13.5  3.0   \n                                                   r2                6.0  3.0   \n                                      0.2          r1               10.5  3.5   \n                                                   r2               14.0  3.0   \n                       c3             0.02         r1                3.0  1.0   \n                                                   r2                3.0  1.5   \n                                      0.1          r1                3.5  1.5   \n                                                   r2                5.5  0.5   \n                                      0.2          r1                6.5  1.5   \n                                                   r2                6.5  0.5   \ns3                     c1             0.02         r1                4.5  0.0   \n                                                   r2                3.5  2.5   \n                                      0.1          r1                5.0  0.5   \n                                                   r2                5.0  0.5   \n                                      0.2          r1                3.5  1.5   \n                                                   r2                3.0  1.0   \n                       c2             0.02         r1                9.5  0.5   \n                                                   r2               10.5  1.0   \n                                      0.1          r1                6.5  2.5   \n                                                   r2               12.5  1.5   \n                                      0.2          r1                9.5  3.0   \n                                                   r2               10.5  2.0   \n                       c3             0.02         r1                2.5  2.0   \n                                                   r2                3.0  0.5   \n                                      0.1          r1                4.0  0.5   \n                                                   r2                4.0  2.0   \n                                      0.2          r1                2.5  2.0   \n                                                   r2                2.5  1.5   \nPerc. conv. mínimo                                                   2.5  0.0   \n\n                                                                                       \\\nID Frase                                                           Perc. conv. mínimo   \ntipo_selecao_crossover tipo_crossover tipo_mutacao tipo_reinsercao                      \ns1                     c1             0.02         r1                             0.0   \n                                                   r2                             0.0   \n                                      0.1          r1                             1.0   \n                                                   r2                             1.0   \n                                      0.2          r1                             1.0   \n                                                   r2                             0.5   \n                       c2             0.02         r1                             0.5   \n                                                   r2                             1.0   \n                                      0.1          r1                             1.5   \n                                                   r2                             2.5   \n                                      0.2          r1                             1.5   \n                                                   r2                             0.5   \n                       c3             0.02         r1                             0.0   \n                                                   r2                             0.5   \n                                      0.1          r1                             1.5   \n                                                   r2                             0.5   \n                                      0.2          r1                             1.0   \n                                                   r2                             0.0   \ns2                     c1             0.02         r1                             0.0   \n                                                   r2                             0.5   \n                                      0.1          r1                             0.5   \n                                                   r2                             0.0   \n                                      0.2          r1                             0.5   \n                                                   r2                             0.0   \n                       c2             0.02         r1                             1.5   \n                                                   r2                             3.0   \n                                      0.1          r1                             1.0   \n                                                   r2                             1.0   \n                                      0.2          r1                             1.0   \n                                                   r2                             1.0   \n                       c3             0.02         r1                             0.0   \n                                                   r2                             0.0   \n                                      0.1          r1                             0.0   \n                                                   r2                             0.5   \n                                      0.2          r1                             1.5   \n                                                   r2                             0.0   \ns3                     c1             0.02         r1                             0.0   \n                                                   r2                             0.0   \n                                      0.1          r1                             0.0   \n                                                   r2                             0.5   \n                                      0.2          r1                             0.0   \n                                                   r2                             1.0   \n                       c2             0.02         r1                             0.5   \n                                                   r2                             1.0   \n                                      0.1          r1                             0.0   \n                                                   r2                             1.0   \n                                      0.2          r1                             0.5   \n                                                   r2                             0.5   \n                       c3             0.02         r1                             0.0   \n                                                   r2                             0.5   \n                                      0.1          r1                             0.5   \n                                                   r2                             0.5   \n                                      0.2          r1                             0.0   \n                                                   r2                             1.0   \nPerc. conv. mínimo                                                                0.0   \n\n                                                                   rank_conv_minimo  \nID Frase                                                                             \ntipo_selecao_crossover tipo_crossover tipo_mutacao tipo_reinsercao                   \ns1                     c1             0.02         r1                           6.0  \n                                                   r2                           6.0  \n                                      0.1          r1                           4.0  \n                                                   r2                           4.0  \n                                      0.2          r1                           4.0  \n                                                   r2                           5.0  \n                       c2             0.02         r1                           5.0  \n                                                   r2                           4.0  \n                                      0.1          r1                           3.0  \n                                                   r2                           2.0  \n                                      0.2          r1                           3.0  \n                                                   r2                           5.0  \n                       c3             0.02         r1                           6.0  \n                                                   r2                           5.0  \n                                      0.1          r1                           3.0  \n                                                   r2                           5.0  \n                                      0.2          r1                           4.0  \n                                                   r2                           6.0  \ns2                     c1             0.02         r1                           6.0  \n                                                   r2                           5.0  \n                                      0.1          r1                           5.0  \n                                                   r2                           6.0  \n                                      0.2          r1                           5.0  \n                                                   r2                           6.0  \n                       c2             0.02         r1                           3.0  \n                                                   r2                           1.0  \n                                      0.1          r1                           4.0  \n                                                   r2                           4.0  \n                                      0.2          r1                           4.0  \n                                                   r2                           4.0  \n                       c3             0.02         r1                           6.0  \n                                                   r2                           6.0  \n                                      0.1          r1                           6.0  \n                                                   r2                           5.0  \n                                      0.2          r1                           3.0  \n                                                   r2                           6.0  \ns3                     c1             0.02         r1                           6.0  \n                                                   r2                           6.0  \n                                      0.1          r1                           6.0  \n                                                   r2                           5.0  \n                                      0.2          r1                           6.0  \n                                                   r2                           4.0  \n                       c2             0.02         r1                           5.0  \n                                                   r2                           4.0  \n                                      0.1          r1                           6.0  \n                                                   r2                           4.0  \n                                      0.2          r1                           5.0  \n                                                   r2                           5.0  \n                       c3             0.02         r1                           6.0  \n                                                   r2                           5.0  \n                                      0.1          r1                           5.0  \n                                                   r2                           5.0  \n                                      0.2          r1                           6.0  \n                                                   r2                           4.0  \nPerc. conv. mínimo                                                              6.0  ",
      "text/html": "<div>\n<style scoped>\n    .dataframe tbody tr th:only-of-type {\n        vertical-align: middle;\n    }\n\n    .dataframe tbody tr th {\n        vertical-align: top;\n    }\n\n    .dataframe thead tr th {\n        text-align: left;\n    }\n\n    .dataframe thead tr:last-of-type th {\n        text-align: right;\n    }\n</style>\n<table border=\"1\" class=\"dataframe\">\n  <thead>\n    <tr>\n      <th></th>\n      <th></th>\n      <th></th>\n      <th></th>\n      <th colspan=\"6\" halign=\"left\">percentual_convergencia</th>\n      <th>rank_conv_minimo</th>\n    </tr>\n    <tr>\n      <th></th>\n      <th></th>\n      <th></th>\n      <th>ID Frase</th>\n      <th>w1</th>\n      <th>w2</th>\n      <th>w3</th>\n      <th>w4</th>\n      <th>w5</th>\n      <th>Perc. conv. mínimo</th>\n      <th></th>\n    </tr>\n    <tr>\n      <th>tipo_selecao_crossover</th>\n      <th>tipo_crossover</th>\n      <th>tipo_mutacao</th>\n      <th>tipo_reinsercao</th>\n      <th></th>\n      <th></th>\n      <th></th>\n      <th></th>\n      <th></th>\n      <th></th>\n      <th></th>\n    </tr>\n  </thead>\n  <tbody>\n    <tr>\n      <th rowspan=\"18\" valign=\"top\">s1</th>\n      <th rowspan=\"6\" valign=\"top\">c1</th>\n      <th rowspan=\"2\" valign=\"top\">0.02</th>\n      <th>r1</th>\n      <td>49.0</td>\n      <td>6.5</td>\n      <td>0.0</td>\n      <td>5.0</td>\n      <td>1.5</td>\n      <td>0.0</td>\n      <td>6.0</td>\n    </tr>\n    <tr>\n      <th>r2</th>\n      <td>48.0</td>\n      <td>7.5</td>\n      <td>0.0</td>\n      <td>8.0</td>\n      <td>0.5</td>\n      <td>0.0</td>\n      <td>6.0</td>\n    </tr>\n    <tr>\n      <th rowspan=\"2\" valign=\"top\">0.1</th>\n      <th>r1</th>\n      <td>67.5</td>\n      <td>8.0</td>\n      <td>1.0</td>\n      <td>4.5</td>\n      <td>1.5</td>\n      <td>1.0</td>\n      <td>4.0</td>\n    </tr>\n    <tr>\n      <th>r2</th>\n      <td>68.5</td>\n      <td>11.5</td>\n      <td>1.0</td>\n      <td>6.0</td>\n      <td>3.5</td>\n      <td>1.0</td>\n      <td>4.0</td>\n    </tr>\n    <tr>\n      <th rowspan=\"2\" valign=\"top\">0.2</th>\n      <th>r1</th>\n      <td>73.5</td>\n      <td>14.0</td>\n      <td>1.0</td>\n      <td>9.5</td>\n      <td>1.5</td>\n      <td>1.0</td>\n      <td>4.0</td>\n    </tr>\n    <tr>\n      <th>r2</th>\n      <td>81.5</td>\n      <td>14.5</td>\n      <td>0.5</td>\n      <td>4.0</td>\n      <td>3.0</td>\n      <td>0.5</td>\n      <td>5.0</td>\n    </tr>\n    <tr>\n      <th rowspan=\"6\" valign=\"top\">c2</th>\n      <th rowspan=\"2\" valign=\"top\">0.02</th>\n      <th>r1</th>\n      <td>89.0</td>\n      <td>9.0</td>\n      <td>0.5</td>\n      <td>17.0</td>\n      <td>2.5</td>\n      <td>0.5</td>\n      <td>5.0</td>\n    </tr>\n    <tr>\n      <th>r2</th>\n      <td>91.5</td>\n      <td>8.0</td>\n      <td>1.0</td>\n      <td>15.0</td>\n      <td>5.5</td>\n      <td>1.0</td>\n      <td>4.0</td>\n    </tr>\n    <tr>\n      <th rowspan=\"2\" valign=\"top\">0.1</th>\n      <th>r1</th>\n      <td>90.0</td>\n      <td>5.5</td>\n      <td>1.5</td>\n      <td>19.5</td>\n      <td>2.5</td>\n      <td>1.5</td>\n      <td>3.0</td>\n    </tr>\n    <tr>\n      <th>r2</th>\n      <td>91.0</td>\n      <td>13.0</td>\n      <td>2.5</td>\n      <td>10.5</td>\n      <td>5.5</td>\n      <td>2.5</td>\n      <td>2.0</td>\n    </tr>\n    <tr>\n      <th rowspan=\"2\" valign=\"top\">0.2</th>\n      <th>r1</th>\n      <td>95.0</td>\n      <td>10.5</td>\n      <td>1.5</td>\n      <td>23.5</td>\n      <td>3.5</td>\n      <td>1.5</td>\n      <td>3.0</td>\n    </tr>\n    <tr>\n      <th>r2</th>\n      <td>93.5</td>\n      <td>16.5</td>\n      <td>0.5</td>\n      <td>13.0</td>\n      <td>6.0</td>\n      <td>0.5</td>\n      <td>5.0</td>\n    </tr>\n    <tr>\n      <th rowspan=\"6\" valign=\"top\">c3</th>\n      <th rowspan=\"2\" valign=\"top\">0.02</th>\n      <th>r1</th>\n      <td>27.5</td>\n      <td>3.0</td>\n      <td>0.0</td>\n      <td>4.5</td>\n      <td>1.5</td>\n      <td>0.0</td>\n      <td>6.0</td>\n    </tr>\n    <tr>\n      <th>r2</th>\n      <td>27.0</td>\n      <td>5.5</td>\n      <td>0.5</td>\n      <td>4.0</td>\n      <td>1.0</td>\n      <td>0.5</td>\n      <td>5.0</td>\n    </tr>\n    <tr>\n      <th rowspan=\"2\" valign=\"top\">0.1</th>\n      <th>r1</th>\n      <td>53.5</td>\n      <td>6.0</td>\n      <td>1.5</td>\n      <td>5.0</td>\n      <td>2.0</td>\n      <td>1.5</td>\n      <td>3.0</td>\n    </tr>\n    <tr>\n      <th>r2</th>\n      <td>48.0</td>\n      <td>5.5</td>\n      <td>0.5</td>\n      <td>5.0</td>\n      <td>0.5</td>\n      <td>0.5</td>\n      <td>5.0</td>\n    </tr>\n    <tr>\n      <th rowspan=\"2\" valign=\"top\">0.2</th>\n      <th>r1</th>\n      <td>57.0</td>\n      <td>8.0</td>\n      <td>1.0</td>\n      <td>7.5</td>\n      <td>1.0</td>\n      <td>1.0</td>\n      <td>4.0</td>\n    </tr>\n    <tr>\n      <th>r2</th>\n      <td>55.5</td>\n      <td>8.5</td>\n      <td>0.0</td>\n      <td>7.0</td>\n      <td>1.5</td>\n      <td>0.0</td>\n      <td>6.0</td>\n    </tr>\n    <tr>\n      <th rowspan=\"18\" valign=\"top\">s2</th>\n      <th rowspan=\"6\" valign=\"top\">c1</th>\n      <th rowspan=\"2\" valign=\"top\">0.02</th>\n      <th>r1</th>\n      <td>29.0</td>\n      <td>2.5</td>\n      <td>0.5</td>\n      <td>3.5</td>\n      <td>0.0</td>\n      <td>0.0</td>\n      <td>6.0</td>\n    </tr>\n    <tr>\n      <th>r2</th>\n      <td>37.0</td>\n      <td>4.5</td>\n      <td>0.5</td>\n      <td>7.0</td>\n      <td>1.5</td>\n      <td>0.5</td>\n      <td>5.0</td>\n    </tr>\n    <tr>\n      <th rowspan=\"2\" valign=\"top\">0.1</th>\n      <th>r1</th>\n      <td>53.0</td>\n      <td>7.0</td>\n      <td>0.5</td>\n      <td>7.5</td>\n      <td>2.0</td>\n      <td>0.5</td>\n      <td>5.0</td>\n    </tr>\n    <tr>\n      <th>r2</th>\n      <td>59.0</td>\n      <td>7.5</td>\n      <td>0.0</td>\n      <td>6.0</td>\n      <td>2.0</td>\n      <td>0.0</td>\n      <td>6.0</td>\n    </tr>\n    <tr>\n      <th rowspan=\"2\" valign=\"top\">0.2</th>\n      <th>r1</th>\n      <td>61.5</td>\n      <td>4.5</td>\n      <td>0.5</td>\n      <td>5.5</td>\n      <td>1.5</td>\n      <td>0.5</td>\n      <td>5.0</td>\n    </tr>\n    <tr>\n      <th>r2</th>\n      <td>73.5</td>\n      <td>8.0</td>\n      <td>0.0</td>\n      <td>6.0</td>\n      <td>1.0</td>\n      <td>0.0</td>\n      <td>6.0</td>\n    </tr>\n    <tr>\n      <th rowspan=\"6\" valign=\"top\">c2</th>\n      <th rowspan=\"2\" valign=\"top\">0.02</th>\n      <th>r1</th>\n      <td>77.5</td>\n      <td>7.0</td>\n      <td>1.5</td>\n      <td>10.5</td>\n      <td>2.5</td>\n      <td>1.5</td>\n      <td>3.0</td>\n    </tr>\n    <tr>\n      <th>r2</th>\n      <td>81.0</td>\n      <td>6.0</td>\n      <td>3.0</td>\n      <td>12.0</td>\n      <td>4.0</td>\n      <td>3.0</td>\n      <td>1.0</td>\n    </tr>\n    <tr>\n      <th rowspan=\"2\" valign=\"top\">0.1</th>\n      <th>r1</th>\n      <td>79.0</td>\n      <td>6.0</td>\n      <td>1.0</td>\n      <td>13.5</td>\n      <td>3.0</td>\n      <td>1.0</td>\n      <td>4.0</td>\n    </tr>\n    <tr>\n      <th>r2</th>\n      <td>87.5</td>\n      <td>5.0</td>\n      <td>1.0</td>\n      <td>6.0</td>\n      <td>3.0</td>\n      <td>1.0</td>\n      <td>4.0</td>\n    </tr>\n    <tr>\n      <th rowspan=\"2\" valign=\"top\">0.2</th>\n      <th>r1</th>\n      <td>88.5</td>\n      <td>6.0</td>\n      <td>1.0</td>\n      <td>10.5</td>\n      <td>3.5</td>\n      <td>1.0</td>\n      <td>4.0</td>\n    </tr>\n    <tr>\n      <th>r2</th>\n      <td>90.5</td>\n      <td>9.5</td>\n      <td>1.0</td>\n      <td>14.0</td>\n      <td>3.0</td>\n      <td>1.0</td>\n      <td>4.0</td>\n    </tr>\n    <tr>\n      <th rowspan=\"6\" valign=\"top\">c3</th>\n      <th rowspan=\"2\" valign=\"top\">0.02</th>\n      <th>r1</th>\n      <td>31.0</td>\n      <td>5.5</td>\n      <td>0.0</td>\n      <td>3.0</td>\n      <td>1.0</td>\n      <td>0.0</td>\n      <td>6.0</td>\n    </tr>\n    <tr>\n      <th>r2</th>\n      <td>31.0</td>\n      <td>4.5</td>\n      <td>0.0</td>\n      <td>3.0</td>\n      <td>1.5</td>\n      <td>0.0</td>\n      <td>6.0</td>\n    </tr>\n    <tr>\n      <th rowspan=\"2\" valign=\"top\">0.1</th>\n      <th>r1</th>\n      <td>40.5</td>\n      <td>3.0</td>\n      <td>0.0</td>\n      <td>3.5</td>\n      <td>1.5</td>\n      <td>0.0</td>\n      <td>6.0</td>\n    </tr>\n    <tr>\n      <th>r2</th>\n      <td>38.5</td>\n      <td>2.5</td>\n      <td>0.5</td>\n      <td>5.5</td>\n      <td>0.5</td>\n      <td>0.5</td>\n      <td>5.0</td>\n    </tr>\n    <tr>\n      <th rowspan=\"2\" valign=\"top\">0.2</th>\n      <th>r1</th>\n      <td>55.0</td>\n      <td>7.5</td>\n      <td>1.5</td>\n      <td>6.5</td>\n      <td>1.5</td>\n      <td>1.5</td>\n      <td>3.0</td>\n    </tr>\n    <tr>\n      <th>r2</th>\n      <td>57.0</td>\n      <td>8.0</td>\n      <td>0.0</td>\n      <td>6.5</td>\n      <td>0.5</td>\n      <td>0.0</td>\n      <td>6.0</td>\n    </tr>\n    <tr>\n      <th rowspan=\"18\" valign=\"top\">s3</th>\n      <th rowspan=\"6\" valign=\"top\">c1</th>\n      <th rowspan=\"2\" valign=\"top\">0.02</th>\n      <th>r1</th>\n      <td>34.5</td>\n      <td>3.0</td>\n      <td>0.0</td>\n      <td>4.5</td>\n      <td>0.0</td>\n      <td>0.0</td>\n      <td>6.0</td>\n    </tr>\n    <tr>\n      <th>r2</th>\n      <td>34.0</td>\n      <td>2.5</td>\n      <td>0.0</td>\n      <td>3.5</td>\n      <td>2.5</td>\n      <td>0.0</td>\n      <td>6.0</td>\n    </tr>\n    <tr>\n      <th rowspan=\"2\" valign=\"top\">0.1</th>\n      <th>r1</th>\n      <td>49.0</td>\n      <td>7.0</td>\n      <td>0.0</td>\n      <td>5.0</td>\n      <td>0.5</td>\n      <td>0.0</td>\n      <td>6.0</td>\n    </tr>\n    <tr>\n      <th>r2</th>\n      <td>56.0</td>\n      <td>4.0</td>\n      <td>1.0</td>\n      <td>5.0</td>\n      <td>0.5</td>\n      <td>0.5</td>\n      <td>5.0</td>\n    </tr>\n    <tr>\n      <th rowspan=\"2\" valign=\"top\">0.2</th>\n      <th>r1</th>\n      <td>58.5</td>\n      <td>7.5</td>\n      <td>0.0</td>\n      <td>3.5</td>\n      <td>1.5</td>\n      <td>0.0</td>\n      <td>6.0</td>\n    </tr>\n    <tr>\n      <th>r2</th>\n      <td>59.5</td>\n      <td>8.0</td>\n      <td>1.5</td>\n      <td>3.0</td>\n      <td>1.0</td>\n      <td>1.0</td>\n      <td>4.0</td>\n    </tr>\n    <tr>\n      <th rowspan=\"6\" valign=\"top\">c2</th>\n      <th rowspan=\"2\" valign=\"top\">0.02</th>\n      <th>r1</th>\n      <td>67.0</td>\n      <td>3.5</td>\n      <td>0.5</td>\n      <td>9.5</td>\n      <td>0.5</td>\n      <td>0.5</td>\n      <td>5.0</td>\n    </tr>\n    <tr>\n      <th>r2</th>\n      <td>66.5</td>\n      <td>5.5</td>\n      <td>1.5</td>\n      <td>10.5</td>\n      <td>1.0</td>\n      <td>1.0</td>\n      <td>4.0</td>\n    </tr>\n    <tr>\n      <th rowspan=\"2\" valign=\"top\">0.1</th>\n      <th>r1</th>\n      <td>77.5</td>\n      <td>4.5</td>\n      <td>0.0</td>\n      <td>6.5</td>\n      <td>2.5</td>\n      <td>0.0</td>\n      <td>6.0</td>\n    </tr>\n    <tr>\n      <th>r2</th>\n      <td>82.0</td>\n      <td>5.0</td>\n      <td>1.0</td>\n      <td>12.5</td>\n      <td>1.5</td>\n      <td>1.0</td>\n      <td>4.0</td>\n    </tr>\n    <tr>\n      <th rowspan=\"2\" valign=\"top\">0.2</th>\n      <th>r1</th>\n      <td>77.5</td>\n      <td>3.0</td>\n      <td>0.5</td>\n      <td>9.5</td>\n      <td>3.0</td>\n      <td>0.5</td>\n      <td>5.0</td>\n    </tr>\n    <tr>\n      <th>r2</th>\n      <td>76.0</td>\n      <td>3.0</td>\n      <td>0.5</td>\n      <td>10.5</td>\n      <td>2.0</td>\n      <td>0.5</td>\n      <td>5.0</td>\n    </tr>\n    <tr>\n      <th rowspan=\"6\" valign=\"top\">c3</th>\n      <th rowspan=\"2\" valign=\"top\">0.02</th>\n      <th>r1</th>\n      <td>26.5</td>\n      <td>2.0</td>\n      <td>0.0</td>\n      <td>2.5</td>\n      <td>2.0</td>\n      <td>0.0</td>\n      <td>6.0</td>\n    </tr>\n    <tr>\n      <th>r2</th>\n      <td>30.0</td>\n      <td>1.5</td>\n      <td>0.5</td>\n      <td>3.0</td>\n      <td>0.5</td>\n      <td>0.5</td>\n      <td>5.0</td>\n    </tr>\n    <tr>\n      <th rowspan=\"2\" valign=\"top\">0.1</th>\n      <th>r1</th>\n      <td>38.5</td>\n      <td>5.0</td>\n      <td>0.5</td>\n      <td>4.0</td>\n      <td>0.5</td>\n      <td>0.5</td>\n      <td>5.0</td>\n    </tr>\n    <tr>\n      <th>r2</th>\n      <td>44.0</td>\n      <td>4.0</td>\n      <td>0.5</td>\n      <td>4.0</td>\n      <td>2.0</td>\n      <td>0.5</td>\n      <td>5.0</td>\n    </tr>\n    <tr>\n      <th rowspan=\"2\" valign=\"top\">0.2</th>\n      <th>r1</th>\n      <td>49.5</td>\n      <td>3.5</td>\n      <td>0.0</td>\n      <td>2.5</td>\n      <td>2.0</td>\n      <td>0.0</td>\n      <td>6.0</td>\n    </tr>\n    <tr>\n      <th>r2</th>\n      <td>47.5</td>\n      <td>5.0</td>\n      <td>1.0</td>\n      <td>2.5</td>\n      <td>1.5</td>\n      <td>1.0</td>\n      <td>4.0</td>\n    </tr>\n    <tr>\n      <th>Perc. conv. mínimo</th>\n      <th></th>\n      <th></th>\n      <th></th>\n      <td>26.5</td>\n      <td>1.5</td>\n      <td>0.0</td>\n      <td>2.5</td>\n      <td>0.0</td>\n      <td>0.0</td>\n      <td>6.0</td>\n    </tr>\n  </tbody>\n</table>\n</div>"
     },
     "metadata": {},
     "execution_count": 125
    }
   ],
   "source": [
    "piv_copy=copy.deepcopy(sumario_p1_uniq)\n",
    "piv_copy=pd.pivot_table(piv_copy, values=['percentual_convergencia'], index=['tipo_selecao_crossover','tipo_crossover', 'tipo_mutacao','tipo_reinsercao'],columns=['ID Frase'],aggfunc=np.min,margins=True,margins_name=\"Perc. conv. mínimo\")\n",
    "# print(piv_copy.columns)\n",
    "\n",
    "piv_copy_copy=copy.deepcopy(piv_copy)\n",
    "piv_copy_copy[\"rank_conv_minimo\"]=piv_copy_copy[('percentual_convergencia', 'Perc. conv. mínimo')].rank(method=\"dense\",ascending=False)\n",
    "# piv_copy_copy=piv_copy_copy.sort_value(by=[\"rank_conv_minimo\"],ascending=False)\n",
    "piv_copy_copy\n",
    "\n",
    "# Export table to txt for latex\n",
    "root_path_report = \"C:\\\\Users\\\\debor\\\\Documents\\\\01_UFU_local\\\\01_comp_evolutiva\\\\01_trabalho_1\\\\03_relatorio\\\\relatorio\\\\tables\\\\\"\n",
    "file_name = \"tab_3_best_configuration.txt\"\n",
    "path = root_path_report + file_name\n",
    "with codecs.open(path, 'w', 'utf-8') as outfile:\n",
    "    outfile.write(piv_copy_copy.to_latex(index=True))\n",
    "piv_copy_copy"
   ]
  },
  {
   "cell_type": "code",
   "execution_count": 91,
   "metadata": {
    "tags": []
   },
   "outputs": [
    {
     "output_type": "execute_result",
     "data": {
      "text/plain": "                                            percentual_convergencia        \\\nID Frase                                                         w1         \ntipo_selecao_crossover                                           s1    s2   \ntipo_crossover tipo_mutacao tipo_reinsercao                                 \nc1             0.02         r1                                 49.0  29.0   \n                            r2                                 48.0  37.0   \n               0.1          r1                                 67.5  53.0   \n                            r2                                 68.5  59.0   \n               0.2          r1                                 73.5  61.5   \n                            r2                                 81.5  73.5   \nc2             0.02         r1                                 89.0  77.5   \n                            r2                                 91.5  81.0   \n               0.1          r1                                 90.0  79.0   \n                            r2                                 91.0  87.5   \n               0.2          r1                                 95.0  88.5   \n                            r2                                 93.5  90.5   \nc3             0.02         r1                                 27.5  31.0   \n                            r2                                 27.0  31.0   \n               0.1          r1                                 53.5  40.5   \n                            r2                                 48.0  38.5   \n               0.2          r1                                 57.0  55.0   \n                            r2                                 55.5  57.0   \nAll                                                            27.0  29.0   \n\n                                                                             \\\nID Frase                                             w2             w3        \ntipo_selecao_crossover                         s3    s1   s2   s3   s1   s2   \ntipo_crossover tipo_mutacao tipo_reinsercao                                   \nc1             0.02         r1               34.5   6.5  2.5  3.0  0.0  0.5   \n                            r2               34.0   7.5  4.5  2.5  0.0  0.5   \n               0.1          r1               49.0   8.0  7.0  7.0  1.0  0.5   \n                            r2               56.0  11.5  7.5  4.0  1.0  0.0   \n               0.2          r1               58.5  14.0  4.5  7.5  1.0  0.5   \n                            r2               59.5  14.5  8.0  8.0  0.5  0.0   \nc2             0.02         r1               67.0   9.0  7.0  3.5  0.5  1.5   \n                            r2               66.5   8.0  6.0  5.5  1.0  3.0   \n               0.1          r1               77.5   5.5  6.0  4.5  1.5  1.0   \n                            r2               82.0  13.0  5.0  5.0  2.5  1.0   \n               0.2          r1               77.5  10.5  6.0  3.0  1.5  1.0   \n                            r2               76.0  16.5  9.5  3.0  0.5  1.0   \nc3             0.02         r1               26.5   3.0  5.5  2.0  0.0  0.0   \n                            r2               30.0   5.5  4.5  1.5  0.5  0.0   \n               0.1          r1               38.5   6.0  3.0  5.0  1.5  0.0   \n                            r2               44.0   5.5  2.5  4.0  0.5  0.5   \n               0.2          r1               49.5   8.0  7.5  3.5  1.0  1.5   \n                            r2               47.5   8.5  8.0  5.0  0.0  0.0   \nAll                                          26.5   3.0  2.5  1.5  0.0  0.0   \n\n                                                                              \\\nID Frase                                            w4               w5        \ntipo_selecao_crossover                        s3    s1    s2    s3   s1   s2   \ntipo_crossover tipo_mutacao tipo_reinsercao                                    \nc1             0.02         r1               0.0   5.0   3.5   4.5  1.5  0.0   \n                            r2               0.0   8.0   7.0   3.5  0.5  1.5   \n               0.1          r1               0.0   4.5   7.5   5.0  1.5  2.0   \n                            r2               1.0   6.0   6.0   5.0  3.5  2.0   \n               0.2          r1               0.0   9.5   5.5   3.5  1.5  1.5   \n                            r2               1.5   4.0   6.0   3.0  3.0  1.0   \nc2             0.02         r1               0.5  17.0  10.5   9.5  2.5  2.5   \n                            r2               1.5  15.0  12.0  10.5  5.5  4.0   \n               0.1          r1               0.0  19.5  13.5   6.5  2.5  3.0   \n                            r2               1.0  10.5   6.0  12.5  5.5  3.0   \n               0.2          r1               0.5  23.5  10.5   9.5  3.5  3.5   \n                            r2               0.5  13.0  14.0  10.5  6.0  3.0   \nc3             0.02         r1               0.0   4.5   3.0   2.5  1.5  1.0   \n                            r2               0.5   4.0   3.0   3.0  1.0  1.5   \n               0.1          r1               0.5   5.0   3.5   4.0  2.0  1.5   \n                            r2               0.5   5.0   5.5   4.0  0.5  0.5   \n               0.2          r1               0.0   7.5   6.5   2.5  1.0  1.5   \n                            r2               1.0   7.0   6.5   2.5  1.5  0.5   \nAll                                          0.0   4.0   3.0   2.5  0.5  0.0   \n\n                                                       \nID Frase                                          All  \ntipo_selecao_crossover                        s3       \ntipo_crossover tipo_mutacao tipo_reinsercao            \nc1             0.02         r1               0.0  0.0  \n                            r2               2.5  0.0  \n               0.1          r1               0.5  0.0  \n                            r2               0.5  0.0  \n               0.2          r1               1.5  0.0  \n                            r2               1.0  0.0  \nc2             0.02         r1               0.5  0.5  \n                            r2               1.0  1.0  \n               0.1          r1               2.5  0.0  \n                            r2               1.5  1.0  \n               0.2          r1               3.0  0.5  \n                            r2               2.0  0.5  \nc3             0.02         r1               2.0  0.0  \n                            r2               0.5  0.0  \n               0.1          r1               0.5  0.0  \n                            r2               2.0  0.5  \n               0.2          r1               2.0  0.0  \n                            r2               1.5  0.0  \nAll                                          0.0  0.0  ",
      "text/html": "<div>\n<style scoped>\n    .dataframe tbody tr th:only-of-type {\n        vertical-align: middle;\n    }\n\n    .dataframe tbody tr th {\n        vertical-align: top;\n    }\n\n    .dataframe thead tr th {\n        text-align: left;\n    }\n\n    .dataframe thead tr:last-of-type th {\n        text-align: right;\n    }\n</style>\n<table border=\"1\" class=\"dataframe\">\n  <thead>\n    <tr>\n      <th></th>\n      <th></th>\n      <th></th>\n      <th colspan=\"16\" halign=\"left\">percentual_convergencia</th>\n    </tr>\n    <tr>\n      <th></th>\n      <th></th>\n      <th>ID Frase</th>\n      <th colspan=\"3\" halign=\"left\">w1</th>\n      <th colspan=\"3\" halign=\"left\">w2</th>\n      <th colspan=\"3\" halign=\"left\">w3</th>\n      <th colspan=\"3\" halign=\"left\">w4</th>\n      <th colspan=\"3\" halign=\"left\">w5</th>\n      <th>All</th>\n    </tr>\n    <tr>\n      <th></th>\n      <th></th>\n      <th>tipo_selecao_crossover</th>\n      <th>s1</th>\n      <th>s2</th>\n      <th>s3</th>\n      <th>s1</th>\n      <th>s2</th>\n      <th>s3</th>\n      <th>s1</th>\n      <th>s2</th>\n      <th>s3</th>\n      <th>s1</th>\n      <th>s2</th>\n      <th>s3</th>\n      <th>s1</th>\n      <th>s2</th>\n      <th>s3</th>\n      <th></th>\n    </tr>\n    <tr>\n      <th>tipo_crossover</th>\n      <th>tipo_mutacao</th>\n      <th>tipo_reinsercao</th>\n      <th></th>\n      <th></th>\n      <th></th>\n      <th></th>\n      <th></th>\n      <th></th>\n      <th></th>\n      <th></th>\n      <th></th>\n      <th></th>\n      <th></th>\n      <th></th>\n      <th></th>\n      <th></th>\n      <th></th>\n      <th></th>\n    </tr>\n  </thead>\n  <tbody>\n    <tr>\n      <th rowspan=\"6\" valign=\"top\">c1</th>\n      <th rowspan=\"2\" valign=\"top\">0.02</th>\n      <th>r1</th>\n      <td>49.0</td>\n      <td>29.0</td>\n      <td>34.5</td>\n      <td>6.5</td>\n      <td>2.5</td>\n      <td>3.0</td>\n      <td>0.0</td>\n      <td>0.5</td>\n      <td>0.0</td>\n      <td>5.0</td>\n      <td>3.5</td>\n      <td>4.5</td>\n      <td>1.5</td>\n      <td>0.0</td>\n      <td>0.0</td>\n      <td>0.0</td>\n    </tr>\n    <tr>\n      <th>r2</th>\n      <td>48.0</td>\n      <td>37.0</td>\n      <td>34.0</td>\n      <td>7.5</td>\n      <td>4.5</td>\n      <td>2.5</td>\n      <td>0.0</td>\n      <td>0.5</td>\n      <td>0.0</td>\n      <td>8.0</td>\n      <td>7.0</td>\n      <td>3.5</td>\n      <td>0.5</td>\n      <td>1.5</td>\n      <td>2.5</td>\n      <td>0.0</td>\n    </tr>\n    <tr>\n      <th rowspan=\"2\" valign=\"top\">0.1</th>\n      <th>r1</th>\n      <td>67.5</td>\n      <td>53.0</td>\n      <td>49.0</td>\n      <td>8.0</td>\n      <td>7.0</td>\n      <td>7.0</td>\n      <td>1.0</td>\n      <td>0.5</td>\n      <td>0.0</td>\n      <td>4.5</td>\n      <td>7.5</td>\n      <td>5.0</td>\n      <td>1.5</td>\n      <td>2.0</td>\n      <td>0.5</td>\n      <td>0.0</td>\n    </tr>\n    <tr>\n      <th>r2</th>\n      <td>68.5</td>\n      <td>59.0</td>\n      <td>56.0</td>\n      <td>11.5</td>\n      <td>7.5</td>\n      <td>4.0</td>\n      <td>1.0</td>\n      <td>0.0</td>\n      <td>1.0</td>\n      <td>6.0</td>\n      <td>6.0</td>\n      <td>5.0</td>\n      <td>3.5</td>\n      <td>2.0</td>\n      <td>0.5</td>\n      <td>0.0</td>\n    </tr>\n    <tr>\n      <th rowspan=\"2\" valign=\"top\">0.2</th>\n      <th>r1</th>\n      <td>73.5</td>\n      <td>61.5</td>\n      <td>58.5</td>\n      <td>14.0</td>\n      <td>4.5</td>\n      <td>7.5</td>\n      <td>1.0</td>\n      <td>0.5</td>\n      <td>0.0</td>\n      <td>9.5</td>\n      <td>5.5</td>\n      <td>3.5</td>\n      <td>1.5</td>\n      <td>1.5</td>\n      <td>1.5</td>\n      <td>0.0</td>\n    </tr>\n    <tr>\n      <th>r2</th>\n      <td>81.5</td>\n      <td>73.5</td>\n      <td>59.5</td>\n      <td>14.5</td>\n      <td>8.0</td>\n      <td>8.0</td>\n      <td>0.5</td>\n      <td>0.0</td>\n      <td>1.5</td>\n      <td>4.0</td>\n      <td>6.0</td>\n      <td>3.0</td>\n      <td>3.0</td>\n      <td>1.0</td>\n      <td>1.0</td>\n      <td>0.0</td>\n    </tr>\n    <tr>\n      <th rowspan=\"6\" valign=\"top\">c2</th>\n      <th rowspan=\"2\" valign=\"top\">0.02</th>\n      <th>r1</th>\n      <td>89.0</td>\n      <td>77.5</td>\n      <td>67.0</td>\n      <td>9.0</td>\n      <td>7.0</td>\n      <td>3.5</td>\n      <td>0.5</td>\n      <td>1.5</td>\n      <td>0.5</td>\n      <td>17.0</td>\n      <td>10.5</td>\n      <td>9.5</td>\n      <td>2.5</td>\n      <td>2.5</td>\n      <td>0.5</td>\n      <td>0.5</td>\n    </tr>\n    <tr>\n      <th>r2</th>\n      <td>91.5</td>\n      <td>81.0</td>\n      <td>66.5</td>\n      <td>8.0</td>\n      <td>6.0</td>\n      <td>5.5</td>\n      <td>1.0</td>\n      <td>3.0</td>\n      <td>1.5</td>\n      <td>15.0</td>\n      <td>12.0</td>\n      <td>10.5</td>\n      <td>5.5</td>\n      <td>4.0</td>\n      <td>1.0</td>\n      <td>1.0</td>\n    </tr>\n    <tr>\n      <th rowspan=\"2\" valign=\"top\">0.1</th>\n      <th>r1</th>\n      <td>90.0</td>\n      <td>79.0</td>\n      <td>77.5</td>\n      <td>5.5</td>\n      <td>6.0</td>\n      <td>4.5</td>\n      <td>1.5</td>\n      <td>1.0</td>\n      <td>0.0</td>\n      <td>19.5</td>\n      <td>13.5</td>\n      <td>6.5</td>\n      <td>2.5</td>\n      <td>3.0</td>\n      <td>2.5</td>\n      <td>0.0</td>\n    </tr>\n    <tr>\n      <th>r2</th>\n      <td>91.0</td>\n      <td>87.5</td>\n      <td>82.0</td>\n      <td>13.0</td>\n      <td>5.0</td>\n      <td>5.0</td>\n      <td>2.5</td>\n      <td>1.0</td>\n      <td>1.0</td>\n      <td>10.5</td>\n      <td>6.0</td>\n      <td>12.5</td>\n      <td>5.5</td>\n      <td>3.0</td>\n      <td>1.5</td>\n      <td>1.0</td>\n    </tr>\n    <tr>\n      <th rowspan=\"2\" valign=\"top\">0.2</th>\n      <th>r1</th>\n      <td>95.0</td>\n      <td>88.5</td>\n      <td>77.5</td>\n      <td>10.5</td>\n      <td>6.0</td>\n      <td>3.0</td>\n      <td>1.5</td>\n      <td>1.0</td>\n      <td>0.5</td>\n      <td>23.5</td>\n      <td>10.5</td>\n      <td>9.5</td>\n      <td>3.5</td>\n      <td>3.5</td>\n      <td>3.0</td>\n      <td>0.5</td>\n    </tr>\n    <tr>\n      <th>r2</th>\n      <td>93.5</td>\n      <td>90.5</td>\n      <td>76.0</td>\n      <td>16.5</td>\n      <td>9.5</td>\n      <td>3.0</td>\n      <td>0.5</td>\n      <td>1.0</td>\n      <td>0.5</td>\n      <td>13.0</td>\n      <td>14.0</td>\n      <td>10.5</td>\n      <td>6.0</td>\n      <td>3.0</td>\n      <td>2.0</td>\n      <td>0.5</td>\n    </tr>\n    <tr>\n      <th rowspan=\"6\" valign=\"top\">c3</th>\n      <th rowspan=\"2\" valign=\"top\">0.02</th>\n      <th>r1</th>\n      <td>27.5</td>\n      <td>31.0</td>\n      <td>26.5</td>\n      <td>3.0</td>\n      <td>5.5</td>\n      <td>2.0</td>\n      <td>0.0</td>\n      <td>0.0</td>\n      <td>0.0</td>\n      <td>4.5</td>\n      <td>3.0</td>\n      <td>2.5</td>\n      <td>1.5</td>\n      <td>1.0</td>\n      <td>2.0</td>\n      <td>0.0</td>\n    </tr>\n    <tr>\n      <th>r2</th>\n      <td>27.0</td>\n      <td>31.0</td>\n      <td>30.0</td>\n      <td>5.5</td>\n      <td>4.5</td>\n      <td>1.5</td>\n      <td>0.5</td>\n      <td>0.0</td>\n      <td>0.5</td>\n      <td>4.0</td>\n      <td>3.0</td>\n      <td>3.0</td>\n      <td>1.0</td>\n      <td>1.5</td>\n      <td>0.5</td>\n      <td>0.0</td>\n    </tr>\n    <tr>\n      <th rowspan=\"2\" valign=\"top\">0.1</th>\n      <th>r1</th>\n      <td>53.5</td>\n      <td>40.5</td>\n      <td>38.5</td>\n      <td>6.0</td>\n      <td>3.0</td>\n      <td>5.0</td>\n      <td>1.5</td>\n      <td>0.0</td>\n      <td>0.5</td>\n      <td>5.0</td>\n      <td>3.5</td>\n      <td>4.0</td>\n      <td>2.0</td>\n      <td>1.5</td>\n      <td>0.5</td>\n      <td>0.0</td>\n    </tr>\n    <tr>\n      <th>r2</th>\n      <td>48.0</td>\n      <td>38.5</td>\n      <td>44.0</td>\n      <td>5.5</td>\n      <td>2.5</td>\n      <td>4.0</td>\n      <td>0.5</td>\n      <td>0.5</td>\n      <td>0.5</td>\n      <td>5.0</td>\n      <td>5.5</td>\n      <td>4.0</td>\n      <td>0.5</td>\n      <td>0.5</td>\n      <td>2.0</td>\n      <td>0.5</td>\n    </tr>\n    <tr>\n      <th rowspan=\"2\" valign=\"top\">0.2</th>\n      <th>r1</th>\n      <td>57.0</td>\n      <td>55.0</td>\n      <td>49.5</td>\n      <td>8.0</td>\n      <td>7.5</td>\n      <td>3.5</td>\n      <td>1.0</td>\n      <td>1.5</td>\n      <td>0.0</td>\n      <td>7.5</td>\n      <td>6.5</td>\n      <td>2.5</td>\n      <td>1.0</td>\n      <td>1.5</td>\n      <td>2.0</td>\n      <td>0.0</td>\n    </tr>\n    <tr>\n      <th>r2</th>\n      <td>55.5</td>\n      <td>57.0</td>\n      <td>47.5</td>\n      <td>8.5</td>\n      <td>8.0</td>\n      <td>5.0</td>\n      <td>0.0</td>\n      <td>0.0</td>\n      <td>1.0</td>\n      <td>7.0</td>\n      <td>6.5</td>\n      <td>2.5</td>\n      <td>1.5</td>\n      <td>0.5</td>\n      <td>1.5</td>\n      <td>0.0</td>\n    </tr>\n    <tr>\n      <th>All</th>\n      <th></th>\n      <th></th>\n      <td>27.0</td>\n      <td>29.0</td>\n      <td>26.5</td>\n      <td>3.0</td>\n      <td>2.5</td>\n      <td>1.5</td>\n      <td>0.0</td>\n      <td>0.0</td>\n      <td>0.0</td>\n      <td>4.0</td>\n      <td>3.0</td>\n      <td>2.5</td>\n      <td>0.5</td>\n      <td>0.0</td>\n      <td>0.0</td>\n      <td>0.0</td>\n    </tr>\n  </tbody>\n</table>\n</div>"
     },
     "metadata": {},
     "execution_count": 91
    }
   ],
   "source": [
    "piv_copy=copy.deepcopy(sumario_p1_piv)\n",
    "piv_copy=pd.pivot_table(piv_copy, values=['percentual_convergencia'], index=['tipo_crossover', 'tipo_mutacao','tipo_reinsercao'],columns=['ID Frase','tipo_selecao_crossover'],aggfunc=np.min,margins=True)\n",
    "piv_copy"
   ]
  },
  {
   "source": [
    "# Terceira Etapa Comparação Final algoritmo base com alteração"
   ],
   "cell_type": "markdown",
   "metadata": {}
  },
  {
   "cell_type": "code",
   "execution_count": 132,
   "metadata": {},
   "outputs": [
    {
     "output_type": "execute_result",
     "data": {
      "text/plain": "  ID Frase Seleção (Si) Crossover (Ci)  Mutação TMi Reinserção (Ri)  \\\n0       w1           s2             c2         0.02              r2   \n0       w2           s2             c2         0.02              r2   \n0       w3           s2             c2         0.02              r2   \n0       w4           s2             c2         0.02              r2   \n0       w5           s2             c2         0.02              r2   \n\n   % convergencia     Tempo total Tempo por execução  \\\n0            95.0 00:01:21.630000    00:00:00.408150   \n0             4.5 00:06:26.460000    00:00:01.932300   \n0             1.5 00:07:02.920000    00:00:02.114600   \n0            18.0 00:08:41.300000    00:00:02.606500   \n0             4.0 00:07:50.060000    00:00:02.350300   \n\n                           Solução  Nº soluções únicas  \n0  [1. 2. 8. 3. 6. 4. 0. 9. 5. 7.]                49.0  \n0  [9. 1. 8. 2. 3. 0. 4. 5. 6. 7.]                 7.0  \n0  [3. 2. 6. 9. 1. 5. 4. 7. 8. 0.]                 1.0  \n0  [6. 8. 1. 0. 2. 9. 3. 4. 5. 7.]                17.0  \n0  [5. 8. 4. 6. 2. 7. 9. 1. 0. 3.]                 1.0  ",
      "text/html": "<div>\n<style scoped>\n    .dataframe tbody tr th:only-of-type {\n        vertical-align: middle;\n    }\n\n    .dataframe tbody tr th {\n        vertical-align: top;\n    }\n\n    .dataframe thead th {\n        text-align: right;\n    }\n</style>\n<table border=\"1\" class=\"dataframe\">\n  <thead>\n    <tr style=\"text-align: right;\">\n      <th></th>\n      <th>ID Frase</th>\n      <th>Seleção (Si)</th>\n      <th>Crossover (Ci)</th>\n      <th>Mutação TMi</th>\n      <th>Reinserção (Ri)</th>\n      <th>% convergencia</th>\n      <th>Tempo total</th>\n      <th>Tempo por execução</th>\n      <th>Solução</th>\n      <th>Nº soluções únicas</th>\n    </tr>\n  </thead>\n  <tbody>\n    <tr>\n      <th>0</th>\n      <td>w1</td>\n      <td>s2</td>\n      <td>c2</td>\n      <td>0.02</td>\n      <td>r2</td>\n      <td>95.0</td>\n      <td>00:01:21.630000</td>\n      <td>00:00:00.408150</td>\n      <td>[1. 2. 8. 3. 6. 4. 0. 9. 5. 7.]</td>\n      <td>49.0</td>\n    </tr>\n    <tr>\n      <th>0</th>\n      <td>w2</td>\n      <td>s2</td>\n      <td>c2</td>\n      <td>0.02</td>\n      <td>r2</td>\n      <td>4.5</td>\n      <td>00:06:26.460000</td>\n      <td>00:00:01.932300</td>\n      <td>[9. 1. 8. 2. 3. 0. 4. 5. 6. 7.]</td>\n      <td>7.0</td>\n    </tr>\n    <tr>\n      <th>0</th>\n      <td>w3</td>\n      <td>s2</td>\n      <td>c2</td>\n      <td>0.02</td>\n      <td>r2</td>\n      <td>1.5</td>\n      <td>00:07:02.920000</td>\n      <td>00:00:02.114600</td>\n      <td>[3. 2. 6. 9. 1. 5. 4. 7. 8. 0.]</td>\n      <td>1.0</td>\n    </tr>\n    <tr>\n      <th>0</th>\n      <td>w4</td>\n      <td>s2</td>\n      <td>c2</td>\n      <td>0.02</td>\n      <td>r2</td>\n      <td>18.0</td>\n      <td>00:08:41.300000</td>\n      <td>00:00:02.606500</td>\n      <td>[6. 8. 1. 0. 2. 9. 3. 4. 5. 7.]</td>\n      <td>17.0</td>\n    </tr>\n    <tr>\n      <th>0</th>\n      <td>w5</td>\n      <td>s2</td>\n      <td>c2</td>\n      <td>0.02</td>\n      <td>r2</td>\n      <td>4.0</td>\n      <td>00:07:50.060000</td>\n      <td>00:00:02.350300</td>\n      <td>[5. 8. 4. 6. 2. 7. 9. 1. 0. 3.]</td>\n      <td>1.0</td>\n    </tr>\n  </tbody>\n</table>\n</div>"
     },
     "metadata": {},
     "execution_count": 132
    }
   ],
   "source": [
    "tab_0_sumario=copy.deepcopy(sumario_p1)\n",
    "tab_0_sumario=tab_0_sumario.drop([\"ger_exec_real\",\"total_conv_tds_exec\"],axis=1)\n",
    "\n",
    "tab_0_sumario.columns=[\"ID Frase\",\"ID Variante\",'Seleção (Si)', 'Crossover (Ci)', 'Mutação TMi','Reinserção (Ri)', '% convergencia', 'Tempo total','Tempo por execução', 'Solução', 'Nº soluções únicas']\n",
    "tab_0_sumario=tab_0_sumario.loc[(tab_0_sumario[\"ID Variante\"]==int(2))]\n",
    "tab_0_sumario=tab_0_sumario.drop([\"ID Variante\"],axis=1)\n",
    "tab_0_sumario.sort_values(by=\"ID Frase\",ascending=True)\n",
    "# Export table to txt for latex\n",
    "root_path_report = \"C:\\\\Users\\\\debor\\\\Documents\\\\01_UFU_local\\\\01_comp_evolutiva\\\\01_trabalho_1\\\\03_relatorio\\\\relatorio\\\\tables\\\\\"\n",
    "file_name = \"tab_3_3_sumario.txt\"\n",
    "path = root_path_report + file_name\n",
    "with codecs.open(path, 'w', 'utf-8') as outfile:\n",
    "    outfile.write(tab_0_sumario.to_latex(index=False))\n",
    "tab_0_sumario"
   ]
  }
 ]
}